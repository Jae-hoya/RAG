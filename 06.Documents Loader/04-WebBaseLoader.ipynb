{
 "cells": [
  {
   "cell_type": "code",
   "execution_count": 3,
   "metadata": {},
   "outputs": [],
   "source": [
    "import bs4\n",
    "from langchain_community.document_loaders import WebBaseLoader"
   ]
  },
  {
   "cell_type": "code",
   "execution_count": 8,
   "metadata": {},
   "outputs": [],
   "source": [
    "loader = WebBaseLoader(\n",
    "    web_paths=(\"https://n.news.naver.com/mnews/article/001/0014910336?rc=N&ntype=RANKING\",),\n",
    "    bs_kwargs=dict(\n",
    "        parse_only=bs4.SoupStrainer(\n",
    "            \"div\",\n",
    "            attrs={\"class\": [\"newsct_article _article_body\",\"media_end_head_title\"]},\n",
    "        )\n",
    "    ),\n",
    "    header_template={\n",
    "        \"User-Agent\": \"Mozilla/5.0 (Windows NT 10.0; Win64; x64) AppleWebKit/537.36 (KHTML, like Gecko) Chrome/102.0.0.0 Safari/537.36\",\n",
    "    }\n",
    ")\n"
   ]
  },
  {
   "cell_type": "code",
   "execution_count": 9,
   "metadata": {},
   "outputs": [],
   "source": [
    "docs = loader.load()"
   ]
  },
  {
   "cell_type": "code",
   "execution_count": 10,
   "metadata": {},
   "outputs": [
    {
     "name": "stdout",
     "output_type": "stream",
     "text": [
      "1\n"
     ]
    }
   ],
   "source": [
    "print(len(docs))"
   ]
  },
  {
   "cell_type": "code",
   "execution_count": 11,
   "metadata": {},
   "outputs": [
    {
     "data": {
      "text/plain": [
       "[Document(metadata={'source': 'https://n.news.naver.com/mnews/article/001/0014910336?rc=N&ntype=RANKING'}, page_content='\\n트렌드포스 \"삼성전자, HBM3E 8단 엔비디아에 공급 시작\"\\n\\n\\n\\n\\n\\n\\n삼성전자 5세대 고대역폭메모리 \\'HBM3E\\'(서울=연합뉴스) 젠슨 황 엔비디아 CEO가 삼성 HBM3E에 남긴 사인. 2024.8.7 [한진만 삼성전자 부사장 SNS 캡처. 재판매 및 DB 금지] photo@yna.co.kr(서울=연합뉴스) 강태우 기자 = 삼성전자의 5세대 고대역폭 메모리 HBM3E에 대한 엔비디아 인증에 시장의 관심이 쏠린 가운데 삼성전자가 HBM3E 8단 제품의 퀄(품질)테스트를 마치고 공급을 시작했다는 주장이 나왔다.    3일 대만 시장조사기관 트렌드포스는 \"삼성이 (SK하이닉스, 미국 마이크론에 비해) 다소 늦게 뛰어들었지만, 최근 HBM3E 인증을 완료하고 H200용 HBM3E 8단 제품의 출하를 시작했다\"며 \"블랙웰 시리즈에 대한 인증도 순조롭게 진행 중\"이라고 밝혔다.    H200은 HBM3E(8단)을 탑재한 엔비디아의 최신 그래픽처리장치(GPU)다. 트렌드포스는 지난달 초 H200의 출하로 올해 HBM3E 소비점유율이 60% 이상으로 높아질 것으로 전망하기도 했다.    트렌드포스는 \"올해 엔비디아의 제품 라인업은 H200이 HBM3E 8단 메모리 스택을 탑재한 최초의 GPU로 큰 파장을 일으킬 예정\"이라며 \"곧 출시될 블랙웰 역시 HBM3E를 완전히 채택할 계획\"이라고 설명했다.    앞서 로이터는 지난달 삼성전자가 엔비디아에 HBM3E(8단) 납품을 위한 퀄테스트를 통과했다고 보도한 바 있다.    이에 대해 삼성전자는 당시 \"주요 고객들과 테스트를 진행 중\"이라고 밝혀 보도를 사실상 부인했다.    하지만 삼성전자의 퀄테스트 통과가 이르면 9월 중일 것이라는 게 업계의 지배적인 시각이었다.    이와 관련, 삼성전자는 지난 7월 2분기 실적발표 후 콘퍼런스콜에서 HBM3E 8단 제품을 3분기 내 양산해 공급을 본격화하고, 12단 제품도 하반기에 공급할 예정이라고 밝힌 바 있다.    트렌드포스는 \"최근 H200 GPU에 대한 클라우드서비스공급자(CSP)와 주문자 상표 부착 생산(OEM) 고객의 수요가 증가하고 있다\"며 \"H200은 올해 3분기 이후부터 엔비디아의 주요 출하 동력이 될 것\"이라고 전망했다.    예상대로 HBM3E 8단 제품이 출하를 시작했을 경우 HBM3E 12단 제품의 퀄테스트 통과도 탄력을 받을 것으로 보인다.    트렌드포스에 따르면 엔비디아가 향후 선보일 블랙웰 울트라는 8개의 HBM3E 12단 스택을 탑재할 것으로 관측된다.    이에 따라 내년에 HBM3E에서 12단 제품 비중이 40%까지 증가하고 이보다 더 커질 가능성도 있다.    한편, SK하이닉스는 지난 3월 메모리업체 중 최초로 HBM3E 8단 제품을 엔비디아에 납품하기 시작했다.    후속 제품인 HBM3E 12단 제품은 이미 주요 고객사들에 샘플 공급을 마쳤으며, 이번 분기 양산을 시작해 4분기부터 고객에게 공급을 시작할 예정이다.    burning@yna.co.kr(계속)\\n\\n')]"
      ]
     },
     "execution_count": 11,
     "metadata": {},
     "output_type": "execute_result"
    }
   ],
   "source": [
    "docs"
   ]
  },
  {
   "cell_type": "code",
   "execution_count": 15,
   "metadata": {},
   "outputs": [],
   "source": [
    "# SLL오류가 날경우 verify를 False로\n",
    "loader.requests_kwargs = {\"verify\":True}\n",
    "docs = loader.load()"
   ]
  },
  {
   "cell_type": "markdown",
   "metadata": {},
   "source": [
    "# 두개이상 WenBaseLoader"
   ]
  },
  {
   "cell_type": "code",
   "execution_count": 16,
   "metadata": {},
   "outputs": [],
   "source": [
    "loader = WebBaseLoader(\n",
    "    web_paths=(\"https://n.news.naver.com/mnews/article/001/0014910336?rc=N&ntype=RANKING\",\"https://n.news.naver.com/mnews/article/001/0014910384?rc=N&ntype=RANKING\"),\n",
    "    bs_kwargs=dict(\n",
    "        parse_only=bs4.SoupStrainer(\n",
    "            \"div\",\n",
    "            attrs={\"class\": [\"newsct_article _article_body\",\"media_end_head_title\"]},\n",
    "        )\n",
    "    ),\n",
    "    header_template={\n",
    "        \"User-Agent\": \"Mozilla/5.0 (Windows NT 10.0; Win64; x64) AppleWebKit/537.36 (KHTML, like Gecko) Chrome/102.0.0.0 Safari/537.36\",\n",
    "    }\n",
    ")\n"
   ]
  },
  {
   "cell_type": "code",
   "execution_count": 17,
   "metadata": {},
   "outputs": [],
   "source": [
    "docs = loader.load()"
   ]
  },
  {
   "cell_type": "code",
   "execution_count": 18,
   "metadata": {},
   "outputs": [
    {
     "data": {
      "text/plain": [
       "2"
      ]
     },
     "execution_count": 18,
     "metadata": {},
     "output_type": "execute_result"
    }
   ],
   "source": [
    "len(docs)"
   ]
  },
  {
   "cell_type": "code",
   "execution_count": 19,
   "metadata": {},
   "outputs": [
    {
     "name": "stdout",
     "output_type": "stream",
     "text": [
      "\n",
      "트렌드포스 \"삼성전자, HBM3E 8단 엔비디아에 공급 시작\"\n",
      "\n",
      "\n",
      "\n",
      "\n",
      "\n",
      "\n",
      "삼성전자 5세대 고대역폭메모리 'HBM3E'(서울=연합뉴스) 젠슨 황 엔비디아 CEO가 삼성 HBM3E에 남긴 사인. 2024.8.7 [한진만 삼성전자 부사장 SNS 캡처. 재판매 및 DB 금지] photo@yna.co.kr(서울=연합뉴스) 강태우 기자 = 삼성전자의 5세대 고대역폭 메모리 HBM3E에 대한 엔비디아 인증에 시장의 관심이 쏠린 가운데 삼성전자가 HBM3E 8단 제품의 퀄(품질)테스트를 마치고 공급을 시작했다는 주장이 나왔다.    3일 대만 \n",
      "\n",
      "\"애플 내년부터 모든 아이폰에 OLED 패널 채택…아이폰SE 탈LCD\"\n",
      "\n",
      "\n",
      "니혼게이자이 보도…애플, LG디스플레이·中BOE에 차기 아이폰SE용 OLED 발주\n",
      "\n",
      "\n",
      "\n",
      "애플 로고[EPA 연합뉴스 자료사진. 재판매 및 DB 금지](도쿄=연합뉴스) 박성진 특파원 = 애플이 내년 이후 출시하는 모든 아이폰에 유기발광다이오드(OLED) 디스플레이를 채택할 것으로 알려졌다고 니혼게이자이신문(닛케이)이 3일 보도했다.    그동안 저가형 모델인 아이폰SE는 아이폰 중 유일하게 액정표시장치(LCD) 디스플레이를 사용해 왔으나 이 역시 OLED로 전\n"
     ]
    }
   ],
   "source": [
    "print(docs[0].page_content[:300])\n",
    "print(docs[1].page_content[:300])"
   ]
  },
  {
   "cell_type": "code",
   "execution_count": 21,
   "metadata": {},
   "outputs": [],
   "source": [
    "# 크롤링을 너무 많이 하드하게 할 경우에는 asynico 비동기방식.\n",
    "\n",
    "import nest_asyncio\n",
    "\n",
    "nest_asyncio.apply()"
   ]
  },
  {
   "cell_type": "code",
   "execution_count": 22,
   "metadata": {},
   "outputs": [
    {
     "name": "stderr",
     "output_type": "stream",
     "text": [
      "Fetching pages: 100%|##########| 2/2 [00:00<00:00, 14.81it/s]\n"
     ]
    },
    {
     "data": {
      "text/plain": [
       "[Document(metadata={'source': 'https://n.news.naver.com/mnews/article/001/0014910336?rc=N&ntype=RANKING'}, page_content='\\n트렌드포스 \"삼성전자, HBM3E 8단 엔비디아에 공급 시작\"\\n\\n\\n\\n\\n\\n\\n삼성전자 5세대 고대역폭메모리 \\'HBM3E\\'(서울=연합뉴스) 젠슨 황 엔비디아 CEO가 삼성 HBM3E에 남긴 사인. 2024.8.7 [한진만 삼성전자 부사장 SNS 캡처. 재판매 및 DB 금지] photo@yna.co.kr(서울=연합뉴스) 강태우 기자 = 삼성전자의 5세대 고대역폭 메모리 HBM3E에 대한 엔비디아 인증에 시장의 관심이 쏠린 가운데 삼성전자가 HBM3E 8단 제품의 퀄(품질)테스트를 마치고 공급을 시작했다는 주장이 나왔다.    3일 대만 시장조사기관 트렌드포스는 \"삼성이 (SK하이닉스, 미국 마이크론에 비해) 다소 늦게 뛰어들었지만, 최근 HBM3E 인증을 완료하고 H200용 HBM3E 8단 제품의 출하를 시작했다\"며 \"블랙웰 시리즈에 대한 인증도 순조롭게 진행 중\"이라고 밝혔다.    H200은 HBM3E(8단)을 탑재한 엔비디아의 최신 그래픽처리장치(GPU)다. 트렌드포스는 지난달 초 H200의 출하로 올해 HBM3E 소비점유율이 60% 이상으로 높아질 것으로 전망하기도 했다.    트렌드포스는 \"올해 엔비디아의 제품 라인업은 H200이 HBM3E 8단 메모리 스택을 탑재한 최초의 GPU로 큰 파장을 일으킬 예정\"이라며 \"곧 출시될 블랙웰 역시 HBM3E를 완전히 채택할 계획\"이라고 설명했다.    앞서 로이터는 지난달 삼성전자가 엔비디아에 HBM3E(8단) 납품을 위한 퀄테스트를 통과했다고 보도한 바 있다.    이에 대해 삼성전자는 당시 \"주요 고객들과 테스트를 진행 중\"이라고 밝혀 보도를 사실상 부인했다.    하지만 삼성전자의 퀄테스트 통과가 이르면 9월 중일 것이라는 게 업계의 지배적인 시각이었다.    이와 관련, 삼성전자는 지난 7월 2분기 실적발표 후 콘퍼런스콜에서 HBM3E 8단 제품을 3분기 내 양산해 공급을 본격화하고, 12단 제품도 하반기에 공급할 예정이라고 밝힌 바 있다.    트렌드포스는 \"최근 H200 GPU에 대한 클라우드서비스공급자(CSP)와 주문자 상표 부착 생산(OEM) 고객의 수요가 증가하고 있다\"며 \"H200은 올해 3분기 이후부터 엔비디아의 주요 출하 동력이 될 것\"이라고 전망했다.    예상대로 HBM3E 8단 제품이 출하를 시작했을 경우 HBM3E 12단 제품의 퀄테스트 통과도 탄력을 받을 것으로 보인다.    트렌드포스에 따르면 엔비디아가 향후 선보일 블랙웰 울트라는 8개의 HBM3E 12단 스택을 탑재할 것으로 관측된다.    이에 따라 내년에 HBM3E에서 12단 제품 비중이 40%까지 증가하고 이보다 더 커질 가능성도 있다.    한편, SK하이닉스는 지난 3월 메모리업체 중 최초로 HBM3E 8단 제품을 엔비디아에 납품하기 시작했다.    후속 제품인 HBM3E 12단 제품은 이미 주요 고객사들에 샘플 공급을 마쳤으며, 이번 분기 양산을 시작해 4분기부터 고객에게 공급을 시작할 예정이다.    burning@yna.co.kr(계속)\\n\\n'),\n",
       " Document(metadata={'source': 'https://n.news.naver.com/mnews/article/001/0014910384?rc=N&ntype=RANKING'}, page_content='\\n\"애플 내년부터 모든 아이폰에 OLED 패널 채택…아이폰SE 탈LCD\"\\n\\n\\n니혼게이자이 보도…애플, LG디스플레이·中BOE에 차기 아이폰SE용 OLED 발주\\n\\n\\n\\n애플 로고[EPA 연합뉴스 자료사진. 재판매 및 DB 금지](도쿄=연합뉴스) 박성진 특파원 = 애플이 내년 이후 출시하는 모든 아이폰에 유기발광다이오드(OLED) 디스플레이를 채택할 것으로 알려졌다고 니혼게이자이신문(닛케이)이 3일 보도했다.    그동안 저가형 모델인 아이폰SE는 아이폰 중 유일하게 액정표시장치(LCD) 디스플레이를 사용해 왔으나 이 역시 OLED로 전환한다는 것이다.    복수의 부품 회사에 따르면 애플은 LG디스플레이와 중국 디스플레이 업체 BOE 2개사에 차기 아이폰SE용 OLED 패널 발주를 시작했다.    이에 따라 내년 출시될 아이폰SE도 OLED 디스플레이를 탑재할 것으로 예상된다.    아이폰용 OLED 패널은 삼성전자가 50%, LG디스플레이가 30%, BOE가 20%를 각각 공급하고 있다.    이에 따라 그동안 일본에서 아이폰SE용 LCD 패널만 공급해 왔던 저팬디스플레이(JDI)와 샤프는 애플 아이폰 공급망에서 배제되게 됐다.    애플은 아이패드에도 고성능 기종에 OLED를 채택하기 시작해 애플의 LCD 조달은 더욱 축소될 전망이다.    니혼게이자이신문은 애플이 이 취재에 대해 코멘트하지 않았다고 전했다.    sungjinpark@yna.co.kr\\n\\n')]"
      ]
     },
     "execution_count": 22,
     "metadata": {},
     "output_type": "execute_result"
    }
   ],
   "source": [
    "# 초당 한번\n",
    "loader.requests_per_second = 1\n",
    "docs = loader.aload()\n",
    "docs"
   ]
  },
  {
   "cell_type": "markdown",
   "metadata": {},
   "source": [
    "# 프록시 사용\n",
    "\n",
    "ip를 우회하기 위함이다."
   ]
  },
  {
   "cell_type": "code",
   "execution_count": null,
   "metadata": {},
   "outputs": [],
   "source": []
  },
  {
   "cell_type": "code",
   "execution_count": null,
   "metadata": {},
   "outputs": [],
   "source": []
  }
 ],
 "metadata": {
  "kernelspec": {
   "display_name": "langchain-kr-gLkynrUQ-py3.11",
   "language": "python",
   "name": "python3"
  },
  "language_info": {
   "codemirror_mode": {
    "name": "ipython",
    "version": 3
   },
   "file_extension": ".py",
   "mimetype": "text/x-python",
   "name": "python",
   "nbconvert_exporter": "python",
   "pygments_lexer": "ipython3",
   "version": "3.11.9"
  }
 },
 "nbformat": 4,
 "nbformat_minor": 2
}
