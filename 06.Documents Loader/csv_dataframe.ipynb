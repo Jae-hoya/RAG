{
 "cells": [
  {
   "cell_type": "code",
   "execution_count": 2,
   "metadata": {},
   "outputs": [
    {
     "data": {
      "text/plain": [
       "True"
      ]
     },
     "execution_count": 2,
     "metadata": {},
     "output_type": "execute_result"
    }
   ],
   "source": [
    "from dotenv import load_dotenv\n",
    "load_dotenv()"
   ]
  },
  {
   "cell_type": "code",
   "execution_count": 5,
   "metadata": {},
   "outputs": [],
   "source": [
    "import pandas as pd\n",
    "\n",
    "csv_files = [\"table/accuracy.csv\",\n",
    "            \"table/recall.csv\",\n",
    "            \"table/vif.csv\"]\n",
    "\n",
    "df= [pd.read_csv(file) for file in csv_files]"
   ]
  },
  {
   "cell_type": "code",
   "execution_count": 6,
   "metadata": {},
   "outputs": [
    {
     "data": {
      "text/plain": [
       "[       알고리즘  Accuracy\n",
       " 0       XGB      0.91\n",
       " 1       SVC      0.91\n",
       " 2     Ridge      0.88\n",
       " 3        LR      0.89\n",
       " 4       ADA      0.92\n",
       " 5       KNN      0.89\n",
       " 6        RF      0.89\n",
       " 7        DT      0.90\n",
       " 8       BNB      0.84\n",
       " 9       GNB      0.85\n",
       " 10      DNN      0.88\n",
       " 11  RNN+CNN      0.92,\n",
       "       Model  Recall-weight  Recall-macro\n",
       " 0       ADA           0.74          0.50\n",
       " 1        LR           0.77          0.47\n",
       " 2       XGB           0.74          0.49\n",
       " 3        RF           0.84          0.47\n",
       " 4       KNN           0.75          0.50\n",
       " 5       SVC           0.73          0.50\n",
       " 6       BNB           0.74          0.54\n",
       " 7     Ridge           0.75          0.50\n",
       " 8        DT           0.70          0.55\n",
       " 9       GNB           0.79          0.62\n",
       " 10      DNN           0.87          0.67\n",
       " 11  RNN+CNN           0.91          0.73,\n",
       "                     변수     VIF 값 \n",
       " 0               const   33.856990\n",
       " 1              gender    1.016757\n",
       " 2                 age    2.415670\n",
       " 3        hypertension    1.113385\n",
       " 4       heart_disease    1.112824\n",
       " 5        ever_married    1.955416\n",
       " 6           work_type    1.339696\n",
       " 7      Residence_type    1.001191\n",
       " 8   avg_glucose_level    1.106672\n",
       " 9                 bmi    1.242843\n",
       " 10     smoking_status    1.216712\n",
       " 11              stroke   1.087601]"
      ]
     },
     "execution_count": 6,
     "metadata": {},
     "output_type": "execute_result"
    }
   ],
   "source": [
    "df"
   ]
  },
  {
   "cell_type": "code",
   "execution_count": 7,
   "metadata": {},
   "outputs": [
    {
     "data": {
      "text/plain": [
       "3"
      ]
     },
     "execution_count": 7,
     "metadata": {},
     "output_type": "execute_result"
    }
   ],
   "source": [
    "len(df)"
   ]
  },
  {
   "cell_type": "code",
   "execution_count": null,
   "metadata": {},
   "outputs": [],
   "source": []
  },
  {
   "cell_type": "code",
   "execution_count": 58,
   "metadata": {},
   "outputs": [],
   "source": [
    "import pandas as pd\n",
    "df1 = pd.read_csv(\"./data/recall.csv\")\n",
    "df2 = pd.read_csv(\"./data/vif.csv\")\n",
    "df3 = pd.read_csv(\"./data/accuracy.csv\")"
   ]
  },
  {
   "cell_type": "code",
   "execution_count": 59,
   "metadata": {},
   "outputs": [
    {
     "data": {
      "text/html": [
       "<div>\n",
       "<style scoped>\n",
       "    .dataframe tbody tr th:only-of-type {\n",
       "        vertical-align: middle;\n",
       "    }\n",
       "\n",
       "    .dataframe tbody tr th {\n",
       "        vertical-align: top;\n",
       "    }\n",
       "\n",
       "    .dataframe thead th {\n",
       "        text-align: right;\n",
       "    }\n",
       "</style>\n",
       "<table border=\"1\" class=\"dataframe\">\n",
       "  <thead>\n",
       "    <tr style=\"text-align: right;\">\n",
       "      <th></th>\n",
       "      <th>Model</th>\n",
       "      <th>Recall-weight</th>\n",
       "      <th>Recall-macro</th>\n",
       "    </tr>\n",
       "  </thead>\n",
       "  <tbody>\n",
       "    <tr>\n",
       "      <th>0</th>\n",
       "      <td>ADA</td>\n",
       "      <td>0.74</td>\n",
       "      <td>0.50</td>\n",
       "    </tr>\n",
       "    <tr>\n",
       "      <th>1</th>\n",
       "      <td>LR</td>\n",
       "      <td>0.77</td>\n",
       "      <td>0.47</td>\n",
       "    </tr>\n",
       "    <tr>\n",
       "      <th>2</th>\n",
       "      <td>XGB</td>\n",
       "      <td>0.74</td>\n",
       "      <td>0.49</td>\n",
       "    </tr>\n",
       "    <tr>\n",
       "      <th>3</th>\n",
       "      <td>RF</td>\n",
       "      <td>0.84</td>\n",
       "      <td>0.47</td>\n",
       "    </tr>\n",
       "    <tr>\n",
       "      <th>4</th>\n",
       "      <td>KNN</td>\n",
       "      <td>0.75</td>\n",
       "      <td>0.50</td>\n",
       "    </tr>\n",
       "    <tr>\n",
       "      <th>5</th>\n",
       "      <td>SVC</td>\n",
       "      <td>0.73</td>\n",
       "      <td>0.50</td>\n",
       "    </tr>\n",
       "    <tr>\n",
       "      <th>6</th>\n",
       "      <td>BNB</td>\n",
       "      <td>0.74</td>\n",
       "      <td>0.54</td>\n",
       "    </tr>\n",
       "    <tr>\n",
       "      <th>7</th>\n",
       "      <td>Ridge</td>\n",
       "      <td>0.75</td>\n",
       "      <td>0.50</td>\n",
       "    </tr>\n",
       "    <tr>\n",
       "      <th>8</th>\n",
       "      <td>DT</td>\n",
       "      <td>0.70</td>\n",
       "      <td>0.55</td>\n",
       "    </tr>\n",
       "    <tr>\n",
       "      <th>9</th>\n",
       "      <td>GNB</td>\n",
       "      <td>0.79</td>\n",
       "      <td>0.62</td>\n",
       "    </tr>\n",
       "    <tr>\n",
       "      <th>10</th>\n",
       "      <td>DNN</td>\n",
       "      <td>0.87</td>\n",
       "      <td>0.67</td>\n",
       "    </tr>\n",
       "    <tr>\n",
       "      <th>11</th>\n",
       "      <td>RNN+CNN</td>\n",
       "      <td>0.91</td>\n",
       "      <td>0.73</td>\n",
       "    </tr>\n",
       "  </tbody>\n",
       "</table>\n",
       "</div>"
      ],
      "text/plain": [
       "      Model  Recall-weight  Recall-macro\n",
       "0       ADA           0.74          0.50\n",
       "1        LR           0.77          0.47\n",
       "2       XGB           0.74          0.49\n",
       "3        RF           0.84          0.47\n",
       "4       KNN           0.75          0.50\n",
       "5       SVC           0.73          0.50\n",
       "6       BNB           0.74          0.54\n",
       "7     Ridge           0.75          0.50\n",
       "8        DT           0.70          0.55\n",
       "9       GNB           0.79          0.62\n",
       "10      DNN           0.87          0.67\n",
       "11  RNN+CNN           0.91          0.73"
      ]
     },
     "execution_count": 59,
     "metadata": {},
     "output_type": "execute_result"
    }
   ],
   "source": [
    "df1"
   ]
  },
  {
   "cell_type": "code",
   "execution_count": 60,
   "metadata": {},
   "outputs": [
    {
     "data": {
      "text/html": [
       "<div>\n",
       "<style scoped>\n",
       "    .dataframe tbody tr th:only-of-type {\n",
       "        vertical-align: middle;\n",
       "    }\n",
       "\n",
       "    .dataframe tbody tr th {\n",
       "        vertical-align: top;\n",
       "    }\n",
       "\n",
       "    .dataframe thead th {\n",
       "        text-align: right;\n",
       "    }\n",
       "</style>\n",
       "<table border=\"1\" class=\"dataframe\">\n",
       "  <thead>\n",
       "    <tr style=\"text-align: right;\">\n",
       "      <th></th>\n",
       "      <th>변수</th>\n",
       "      <th>VIF값</th>\n",
       "    </tr>\n",
       "  </thead>\n",
       "  <tbody>\n",
       "    <tr>\n",
       "      <th>0</th>\n",
       "      <td>const</td>\n",
       "      <td>33.856990</td>\n",
       "    </tr>\n",
       "    <tr>\n",
       "      <th>1</th>\n",
       "      <td>gender</td>\n",
       "      <td>1.016757</td>\n",
       "    </tr>\n",
       "    <tr>\n",
       "      <th>2</th>\n",
       "      <td>age</td>\n",
       "      <td>2.415670</td>\n",
       "    </tr>\n",
       "    <tr>\n",
       "      <th>3</th>\n",
       "      <td>hypertension</td>\n",
       "      <td>1.113385</td>\n",
       "    </tr>\n",
       "    <tr>\n",
       "      <th>4</th>\n",
       "      <td>heart_disease</td>\n",
       "      <td>1.112824</td>\n",
       "    </tr>\n",
       "    <tr>\n",
       "      <th>5</th>\n",
       "      <td>ever_married</td>\n",
       "      <td>1.955416</td>\n",
       "    </tr>\n",
       "    <tr>\n",
       "      <th>6</th>\n",
       "      <td>work_type</td>\n",
       "      <td>1.339696</td>\n",
       "    </tr>\n",
       "    <tr>\n",
       "      <th>7</th>\n",
       "      <td>Residence_type</td>\n",
       "      <td>1.001191</td>\n",
       "    </tr>\n",
       "    <tr>\n",
       "      <th>8</th>\n",
       "      <td>avg_glucose_level</td>\n",
       "      <td>1.106672</td>\n",
       "    </tr>\n",
       "    <tr>\n",
       "      <th>9</th>\n",
       "      <td>bmi</td>\n",
       "      <td>1.242843</td>\n",
       "    </tr>\n",
       "    <tr>\n",
       "      <th>10</th>\n",
       "      <td>smoking_status</td>\n",
       "      <td>1.216712</td>\n",
       "    </tr>\n",
       "    <tr>\n",
       "      <th>11</th>\n",
       "      <td>stroke</td>\n",
       "      <td>1.087601</td>\n",
       "    </tr>\n",
       "  </tbody>\n",
       "</table>\n",
       "</div>"
      ],
      "text/plain": [
       "                    변수       VIF값\n",
       "0               const   33.856990\n",
       "1              gender    1.016757\n",
       "2                 age    2.415670\n",
       "3        hypertension    1.113385\n",
       "4       heart_disease    1.112824\n",
       "5        ever_married    1.955416\n",
       "6           work_type    1.339696\n",
       "7      Residence_type    1.001191\n",
       "8   avg_glucose_level    1.106672\n",
       "9                 bmi    1.242843\n",
       "10     smoking_status    1.216712\n",
       "11              stroke   1.087601"
      ]
     },
     "execution_count": 60,
     "metadata": {},
     "output_type": "execute_result"
    }
   ],
   "source": [
    "df2"
   ]
  },
  {
   "cell_type": "code",
   "execution_count": 55,
   "metadata": {},
   "outputs": [
    {
     "data": {
      "text/html": [
       "<div>\n",
       "<style scoped>\n",
       "    .dataframe tbody tr th:only-of-type {\n",
       "        vertical-align: middle;\n",
       "    }\n",
       "\n",
       "    .dataframe tbody tr th {\n",
       "        vertical-align: top;\n",
       "    }\n",
       "\n",
       "    .dataframe thead th {\n",
       "        text-align: right;\n",
       "    }\n",
       "</style>\n",
       "<table border=\"1\" class=\"dataframe\">\n",
       "  <thead>\n",
       "    <tr style=\"text-align: right;\">\n",
       "      <th></th>\n",
       "      <th>알고리즘</th>\n",
       "      <th>Accuracy</th>\n",
       "    </tr>\n",
       "  </thead>\n",
       "  <tbody>\n",
       "    <tr>\n",
       "      <th>0</th>\n",
       "      <td>XGB</td>\n",
       "      <td>0.91</td>\n",
       "    </tr>\n",
       "    <tr>\n",
       "      <th>1</th>\n",
       "      <td>SVC</td>\n",
       "      <td>0.91</td>\n",
       "    </tr>\n",
       "    <tr>\n",
       "      <th>2</th>\n",
       "      <td>Ridge</td>\n",
       "      <td>0.88</td>\n",
       "    </tr>\n",
       "    <tr>\n",
       "      <th>3</th>\n",
       "      <td>LR</td>\n",
       "      <td>0.89</td>\n",
       "    </tr>\n",
       "    <tr>\n",
       "      <th>4</th>\n",
       "      <td>ADA</td>\n",
       "      <td>0.92</td>\n",
       "    </tr>\n",
       "    <tr>\n",
       "      <th>5</th>\n",
       "      <td>KNN</td>\n",
       "      <td>0.89</td>\n",
       "    </tr>\n",
       "    <tr>\n",
       "      <th>6</th>\n",
       "      <td>RF</td>\n",
       "      <td>0.89</td>\n",
       "    </tr>\n",
       "    <tr>\n",
       "      <th>7</th>\n",
       "      <td>DT</td>\n",
       "      <td>0.90</td>\n",
       "    </tr>\n",
       "    <tr>\n",
       "      <th>8</th>\n",
       "      <td>BNB</td>\n",
       "      <td>0.84</td>\n",
       "    </tr>\n",
       "    <tr>\n",
       "      <th>9</th>\n",
       "      <td>GNB</td>\n",
       "      <td>0.85</td>\n",
       "    </tr>\n",
       "    <tr>\n",
       "      <th>10</th>\n",
       "      <td>DNN</td>\n",
       "      <td>0.88</td>\n",
       "    </tr>\n",
       "    <tr>\n",
       "      <th>11</th>\n",
       "      <td>RNN+CNN</td>\n",
       "      <td>0.92</td>\n",
       "    </tr>\n",
       "  </tbody>\n",
       "</table>\n",
       "</div>"
      ],
      "text/plain": [
       "       알고리즘  Accuracy\n",
       "0       XGB      0.91\n",
       "1       SVC      0.91\n",
       "2     Ridge      0.88\n",
       "3        LR      0.89\n",
       "4       ADA      0.92\n",
       "5       KNN      0.89\n",
       "6        RF      0.89\n",
       "7        DT      0.90\n",
       "8       BNB      0.84\n",
       "9       GNB      0.85\n",
       "10      DNN      0.88\n",
       "11  RNN+CNN      0.92"
      ]
     },
     "execution_count": 55,
     "metadata": {},
     "output_type": "execute_result"
    }
   ],
   "source": [
    "df3"
   ]
  },
  {
   "cell_type": "code",
   "execution_count": 56,
   "metadata": {},
   "outputs": [
    {
     "name": "stdout",
     "output_type": "stream",
     "text": [
      "[Document(metadata={'Model': 'ADA', 'Recall-macro': 0.5}, page_content='0.74'), Document(metadata={'Model': 'LR', 'Recall-macro': 0.47}, page_content='0.77'), Document(metadata={'Model': 'XGB', 'Recall-macro': 0.49}, page_content='0.74'), Document(metadata={'Model': 'RF', 'Recall-macro': 0.47}, page_content='0.84'), Document(metadata={'Model': 'KNN', 'Recall-macro': 0.5}, page_content='0.75'), Document(metadata={'Model': 'SVC', 'Recall-macro': 0.5}, page_content='0.73'), Document(metadata={'Model': 'BNB', 'Recall-macro': 0.54}, page_content='0.74'), Document(metadata={'Model': 'Ridge', 'Recall-macro': 0.5}, page_content='0.75'), Document(metadata={'Model': 'DT', 'Recall-macro': 0.55}, page_content='0.7'), Document(metadata={'Model': 'GNB', 'Recall-macro': 0.62}, page_content='0.79'), Document(metadata={'Model': 'DNN', 'Recall-macro': 0.67}, page_content='0.87'), Document(metadata={'Model': 'RNN+CNN', 'Recall-macro': 0.73}, page_content='0.91')]\n",
      "[Document(metadata={'Model': 'ADA', 'Recall-macro': 0.5}, page_content='0.74'), Document(metadata={'Model': 'LR', 'Recall-macro': 0.47}, page_content='0.77'), Document(metadata={'Model': 'XGB', 'Recall-macro': 0.49}, page_content='0.74'), Document(metadata={'Model': 'RF', 'Recall-macro': 0.47}, page_content='0.84'), Document(metadata={'Model': 'KNN', 'Recall-macro': 0.5}, page_content='0.75'), Document(metadata={'Model': 'SVC', 'Recall-macro': 0.5}, page_content='0.73'), Document(metadata={'Model': 'BNB', 'Recall-macro': 0.54}, page_content='0.74'), Document(metadata={'Model': 'Ridge', 'Recall-macro': 0.5}, page_content='0.75'), Document(metadata={'Model': 'DT', 'Recall-macro': 0.55}, page_content='0.7'), Document(metadata={'Model': 'GNB', 'Recall-macro': 0.62}, page_content='0.79'), Document(metadata={'Model': 'DNN', 'Recall-macro': 0.67}, page_content='0.87'), Document(metadata={'Model': 'RNN+CNN', 'Recall-macro': 0.73}, page_content='0.91')]\n"
     ]
    }
   ],
   "source": [
    "from langchain_community.document_loaders import DataFrameLoader\n",
    "\n",
    "# 데이터 프레임 로더 설정, 페이지 내용 컬럼 지정\n",
    "# Recall-weight 컬럼을 문자열로 변환\n",
    "df1['Recall-weight'] = df1['Recall-weight'].astype(str)\n",
    "\n",
    "loader = DataFrameLoader(df1, page_content_column=\"Recall-weight\")\n",
    "\n",
    "# 문서 로드\n",
    "docs1 = loader.load()\n",
    "\n",
    "# 데이터 출력\n",
    "print(docs1)\n",
    "\n",
    "# 메타데이터 출력\n",
    "print(docs1)"
   ]
  },
  {
   "cell_type": "code",
   "execution_count": 61,
   "metadata": {},
   "outputs": [
    {
     "name": "stdout",
     "output_type": "stream",
     "text": [
      "[Document(metadata={'변수': 'const '}, page_content='33.85699'), Document(metadata={'변수': 'gender '}, page_content='1.016757'), Document(metadata={'변수': 'age '}, page_content='2.41567'), Document(metadata={'변수': 'hypertension '}, page_content='1.113385'), Document(metadata={'변수': 'heart_disease '}, page_content='1.112824'), Document(metadata={'변수': 'ever_married '}, page_content='1.955416'), Document(metadata={'변수': 'work_type '}, page_content='1.339696'), Document(metadata={'변수': 'Residence_type '}, page_content='1.001191'), Document(metadata={'변수': 'avg_glucose_level '}, page_content='1.106672'), Document(metadata={'변수': 'bmi '}, page_content='1.242843'), Document(metadata={'변수': 'smoking_status '}, page_content='1.216712'), Document(metadata={'변수': 'stroke'}, page_content='1.087601')]\n",
      "[Document(metadata={'변수': 'const '}, page_content='33.85699'), Document(metadata={'변수': 'gender '}, page_content='1.016757'), Document(metadata={'변수': 'age '}, page_content='2.41567'), Document(metadata={'변수': 'hypertension '}, page_content='1.113385'), Document(metadata={'변수': 'heart_disease '}, page_content='1.112824'), Document(metadata={'변수': 'ever_married '}, page_content='1.955416'), Document(metadata={'변수': 'work_type '}, page_content='1.339696'), Document(metadata={'변수': 'Residence_type '}, page_content='1.001191'), Document(metadata={'변수': 'avg_glucose_level '}, page_content='1.106672'), Document(metadata={'변수': 'bmi '}, page_content='1.242843'), Document(metadata={'변수': 'smoking_status '}, page_content='1.216712'), Document(metadata={'변수': 'stroke'}, page_content='1.087601')]\n"
     ]
    }
   ],
   "source": [
    "df2['VIF값'] = df2['VIF값'].astype(str)\n",
    "\n",
    "loader = DataFrameLoader(df2, page_content_column=\"VIF값\")\n",
    "\n",
    "# 문서 로드\n",
    "docs2 = loader.load()\n",
    "\n",
    "# 데이터 출력\n",
    "print(docs2)\n",
    "\n",
    "# 메타데이터 출력\n",
    "print(docs2)"
   ]
  },
  {
   "cell_type": "code",
   "execution_count": 50,
   "metadata": {},
   "outputs": [
    {
     "name": "stdout",
     "output_type": "stream",
     "text": [
      "[Document(metadata={'알고리즘': 'XGB'}, page_content='0.91'), Document(metadata={'알고리즘': 'SVC'}, page_content='0.91'), Document(metadata={'알고리즘': 'Ridge'}, page_content='0.88'), Document(metadata={'알고리즘': 'LR'}, page_content='0.89'), Document(metadata={'알고리즘': 'ADA'}, page_content='0.92'), Document(metadata={'알고리즘': 'KNN'}, page_content='0.89'), Document(metadata={'알고리즘': 'RF'}, page_content='0.89'), Document(metadata={'알고리즘': 'DT'}, page_content='0.9'), Document(metadata={'알고리즘': 'BNB'}, page_content='0.84'), Document(metadata={'알고리즘': 'GNB'}, page_content='0.85'), Document(metadata={'알고리즘': 'DNN'}, page_content='0.88'), Document(metadata={'알고리즘': 'RNN+CNN'}, page_content='0.92')]\n",
      "[Document(metadata={'알고리즘': 'XGB'}, page_content='0.91'), Document(metadata={'알고리즘': 'SVC'}, page_content='0.91'), Document(metadata={'알고리즘': 'Ridge'}, page_content='0.88'), Document(metadata={'알고리즘': 'LR'}, page_content='0.89'), Document(metadata={'알고리즘': 'ADA'}, page_content='0.92'), Document(metadata={'알고리즘': 'KNN'}, page_content='0.89'), Document(metadata={'알고리즘': 'RF'}, page_content='0.89'), Document(metadata={'알고리즘': 'DT'}, page_content='0.9'), Document(metadata={'알고리즘': 'BNB'}, page_content='0.84'), Document(metadata={'알고리즘': 'GNB'}, page_content='0.85'), Document(metadata={'알고리즘': 'DNN'}, page_content='0.88'), Document(metadata={'알고리즘': 'RNN+CNN'}, page_content='0.92')]\n"
     ]
    }
   ],
   "source": [
    "df3['Accuracy'] = df3['Accuracy'].astype(str)\n",
    "\n",
    "loader = DataFrameLoader(df3, page_content_column=\"Accuracy\")\n",
    "\n",
    "# 문서 로드\n",
    "docs3 = loader.load()\n",
    "\n",
    "# 데이터 출력\n",
    "print(docs3)\n",
    "\n",
    "# 메타데이터 출력\n",
    "print(docs3)"
   ]
  },
  {
   "cell_type": "code",
   "execution_count": 62,
   "metadata": {},
   "outputs": [],
   "source": [
    "df = [df1, df2, df3]"
   ]
  },
  {
   "cell_type": "code",
   "execution_count": 63,
   "metadata": {},
   "outputs": [
    {
     "data": {
      "text/plain": [
       "[      Model  Recall-weight  Recall-macro\n",
       " 0       ADA           0.74          0.50\n",
       " 1        LR           0.77          0.47\n",
       " 2       XGB           0.74          0.49\n",
       " 3        RF           0.84          0.47\n",
       " 4       KNN           0.75          0.50\n",
       " 5       SVC           0.73          0.50\n",
       " 6       BNB           0.74          0.54\n",
       " 7     Ridge           0.75          0.50\n",
       " 8        DT           0.70          0.55\n",
       " 9       GNB           0.79          0.62\n",
       " 10      DNN           0.87          0.67\n",
       " 11  RNN+CNN           0.91          0.73,\n",
       "                     변수      VIF값\n",
       " 0               const   33.85699\n",
       " 1              gender   1.016757\n",
       " 2                 age    2.41567\n",
       " 3        hypertension   1.113385\n",
       " 4       heart_disease   1.112824\n",
       " 5        ever_married   1.955416\n",
       " 6           work_type   1.339696\n",
       " 7      Residence_type   1.001191\n",
       " 8   avg_glucose_level   1.106672\n",
       " 9                 bmi   1.242843\n",
       " 10     smoking_status   1.216712\n",
       " 11              stroke  1.087601,\n",
       "        알고리즘  Accuracy\n",
       " 0       XGB      0.91\n",
       " 1       SVC      0.91\n",
       " 2     Ridge      0.88\n",
       " 3        LR      0.89\n",
       " 4       ADA      0.92\n",
       " 5       KNN      0.89\n",
       " 6        RF      0.89\n",
       " 7        DT      0.90\n",
       " 8       BNB      0.84\n",
       " 9       GNB      0.85\n",
       " 10      DNN      0.88\n",
       " 11  RNN+CNN      0.92]"
      ]
     },
     "execution_count": 63,
     "metadata": {},
     "output_type": "execute_result"
    }
   ],
   "source": [
    "df"
   ]
  },
  {
   "cell_type": "code",
   "execution_count": 104,
   "metadata": {},
   "outputs": [
    {
     "ename": "KeyError",
     "evalue": "'key of type tuple not found and not a MultiIndex'",
     "output_type": "error",
     "traceback": [
      "\u001b[1;31m---------------------------------------------------------------------------\u001b[0m",
      "\u001b[1;31mKeyError\u001b[0m                                  Traceback (most recent call last)",
      "Cell \u001b[1;32mIn[104], line 4\u001b[0m\n\u001b[0;32m      1\u001b[0m \u001b[38;5;28;01mfrom\u001b[39;00m \u001b[38;5;21;01mlangchain\u001b[39;00m\u001b[38;5;21;01m.\u001b[39;00m\u001b[38;5;21;01mdocstore\u001b[39;00m\u001b[38;5;21;01m.\u001b[39;00m\u001b[38;5;21;01mdocument\u001b[39;00m \u001b[38;5;28;01mimport\u001b[39;00m Document\n\u001b[0;32m      2\u001b[0m \u001b[38;5;66;03m# 각 행을 Document 객체로 변환\u001b[39;00m\n\u001b[1;32m----> 4\u001b[0m document1 \u001b[38;5;241m=\u001b[39m \u001b[43m[\u001b[49m\n\u001b[0;32m      5\u001b[0m \u001b[43m    \u001b[49m\u001b[43mDocument\u001b[49m\u001b[43m(\u001b[49m\u001b[43mpage_content\u001b[49m\u001b[38;5;241;43m=\u001b[39;49m\u001b[38;5;28;43mstr\u001b[39;49m\u001b[43m(\u001b[49m\u001b[43mrow\u001b[49m\u001b[43m[\u001b[49m\u001b[38;5;124;43m'\u001b[39;49m\u001b[38;5;124;43mRecall-weight\u001b[39;49m\u001b[38;5;124;43m'\u001b[39;49m\u001b[43m,\u001b[49m\u001b[43m \u001b[49m\u001b[38;5;124;43m\"\u001b[39;49m\u001b[38;5;124;43mRecall-macro\u001b[39;49m\u001b[38;5;124;43m\"\u001b[39;49m\u001b[43m]\u001b[49m\u001b[43m)\u001b[49m\u001b[43m,\u001b[49m\u001b[43m \u001b[49m\u001b[43mmetadata\u001b[49m\u001b[38;5;241;43m=\u001b[39;49m\u001b[43m{\u001b[49m\u001b[38;5;124;43m\"\u001b[39;49m\u001b[38;5;124;43mRecall\u001b[39;49m\u001b[38;5;124;43m\"\u001b[39;49m\u001b[43m:\u001b[49m\u001b[43m \u001b[49m\u001b[43mrow\u001b[49m\u001b[43m[\u001b[49m\u001b[38;5;124;43m'\u001b[39;49m\u001b[38;5;124;43mModel\u001b[39;49m\u001b[38;5;124;43m'\u001b[39;49m\u001b[43m]\u001b[49m\u001b[43m}\u001b[49m\u001b[43m)\u001b[49m\u001b[43m \u001b[49m\n\u001b[0;32m      6\u001b[0m \u001b[43m    \u001b[49m\u001b[38;5;28;43;01mfor\u001b[39;49;00m\u001b[43m \u001b[49m\u001b[43m_\u001b[49m\u001b[43m,\u001b[49m\u001b[43m \u001b[49m\u001b[43mrow\u001b[49m\u001b[43m \u001b[49m\u001b[38;5;129;43;01min\u001b[39;49;00m\u001b[43m \u001b[49m\u001b[43mdf1\u001b[49m\u001b[38;5;241;43m.\u001b[39;49m\u001b[43miterrows\u001b[49m\u001b[43m(\u001b[49m\u001b[43m)\u001b[49m\n\u001b[0;32m      7\u001b[0m \u001b[43m]\u001b[49m\n\u001b[0;32m      9\u001b[0m document2 \u001b[38;5;241m=\u001b[39m [\n\u001b[0;32m     10\u001b[0m     Document(page_content\u001b[38;5;241m=\u001b[39m\u001b[38;5;28mstr\u001b[39m(row[\u001b[38;5;124m'\u001b[39m\u001b[38;5;124mVIF값\u001b[39m\u001b[38;5;124m'\u001b[39m]), metadata\u001b[38;5;241m=\u001b[39m{\u001b[38;5;124m\"\u001b[39m\u001b[38;5;124mVIF\u001b[39m\u001b[38;5;124m\"\u001b[39m: row[\u001b[38;5;124m'\u001b[39m\u001b[38;5;124m변수\u001b[39m\u001b[38;5;124m'\u001b[39m]}) \n\u001b[0;32m     11\u001b[0m     \u001b[38;5;28;01mfor\u001b[39;00m _, row \u001b[38;5;129;01min\u001b[39;00m df2\u001b[38;5;241m.\u001b[39miterrows()\n\u001b[0;32m     12\u001b[0m ]\n\u001b[0;32m     14\u001b[0m document3 \u001b[38;5;241m=\u001b[39m [\n\u001b[0;32m     15\u001b[0m     Document(page_content\u001b[38;5;241m=\u001b[39m\u001b[38;5;28mstr\u001b[39m(row[\u001b[38;5;124m'\u001b[39m\u001b[38;5;124mAccuracy\u001b[39m\u001b[38;5;124m'\u001b[39m]), metadata\u001b[38;5;241m=\u001b[39m{\u001b[38;5;124m\"\u001b[39m\u001b[38;5;124malgorithm\u001b[39m\u001b[38;5;124m\"\u001b[39m: row[\u001b[38;5;124m'\u001b[39m\u001b[38;5;124m알고리즘\u001b[39m\u001b[38;5;124m'\u001b[39m]}) \n\u001b[0;32m     16\u001b[0m     \u001b[38;5;28;01mfor\u001b[39;00m _, row \u001b[38;5;129;01min\u001b[39;00m df3\u001b[38;5;241m.\u001b[39miterrows()\n\u001b[0;32m     17\u001b[0m ]\n",
      "Cell \u001b[1;32mIn[104], line 5\u001b[0m, in \u001b[0;36m<listcomp>\u001b[1;34m(.0)\u001b[0m\n\u001b[0;32m      1\u001b[0m \u001b[38;5;28;01mfrom\u001b[39;00m \u001b[38;5;21;01mlangchain\u001b[39;00m\u001b[38;5;21;01m.\u001b[39;00m\u001b[38;5;21;01mdocstore\u001b[39;00m\u001b[38;5;21;01m.\u001b[39;00m\u001b[38;5;21;01mdocument\u001b[39;00m \u001b[38;5;28;01mimport\u001b[39;00m Document\n\u001b[0;32m      2\u001b[0m \u001b[38;5;66;03m# 각 행을 Document 객체로 변환\u001b[39;00m\n\u001b[0;32m      4\u001b[0m document1 \u001b[38;5;241m=\u001b[39m [\n\u001b[1;32m----> 5\u001b[0m     Document(page_content\u001b[38;5;241m=\u001b[39m\u001b[38;5;28mstr\u001b[39m(\u001b[43mrow\u001b[49m\u001b[43m[\u001b[49m\u001b[38;5;124;43m'\u001b[39;49m\u001b[38;5;124;43mRecall-weight\u001b[39;49m\u001b[38;5;124;43m'\u001b[39;49m\u001b[43m,\u001b[49m\u001b[43m \u001b[49m\u001b[38;5;124;43m\"\u001b[39;49m\u001b[38;5;124;43mRecall-macro\u001b[39;49m\u001b[38;5;124;43m\"\u001b[39;49m\u001b[43m]\u001b[49m), metadata\u001b[38;5;241m=\u001b[39m{\u001b[38;5;124m\"\u001b[39m\u001b[38;5;124mRecall\u001b[39m\u001b[38;5;124m\"\u001b[39m: row[\u001b[38;5;124m'\u001b[39m\u001b[38;5;124mModel\u001b[39m\u001b[38;5;124m'\u001b[39m]}) \n\u001b[0;32m      6\u001b[0m     \u001b[38;5;28;01mfor\u001b[39;00m _, row \u001b[38;5;129;01min\u001b[39;00m df1\u001b[38;5;241m.\u001b[39miterrows()\n\u001b[0;32m      7\u001b[0m ]\n\u001b[0;32m      9\u001b[0m document2 \u001b[38;5;241m=\u001b[39m [\n\u001b[0;32m     10\u001b[0m     Document(page_content\u001b[38;5;241m=\u001b[39m\u001b[38;5;28mstr\u001b[39m(row[\u001b[38;5;124m'\u001b[39m\u001b[38;5;124mVIF값\u001b[39m\u001b[38;5;124m'\u001b[39m]), metadata\u001b[38;5;241m=\u001b[39m{\u001b[38;5;124m\"\u001b[39m\u001b[38;5;124mVIF\u001b[39m\u001b[38;5;124m\"\u001b[39m: row[\u001b[38;5;124m'\u001b[39m\u001b[38;5;124m변수\u001b[39m\u001b[38;5;124m'\u001b[39m]}) \n\u001b[0;32m     11\u001b[0m     \u001b[38;5;28;01mfor\u001b[39;00m _, row \u001b[38;5;129;01min\u001b[39;00m df2\u001b[38;5;241m.\u001b[39miterrows()\n\u001b[0;32m     12\u001b[0m ]\n\u001b[0;32m     14\u001b[0m document3 \u001b[38;5;241m=\u001b[39m [\n\u001b[0;32m     15\u001b[0m     Document(page_content\u001b[38;5;241m=\u001b[39m\u001b[38;5;28mstr\u001b[39m(row[\u001b[38;5;124m'\u001b[39m\u001b[38;5;124mAccuracy\u001b[39m\u001b[38;5;124m'\u001b[39m]), metadata\u001b[38;5;241m=\u001b[39m{\u001b[38;5;124m\"\u001b[39m\u001b[38;5;124malgorithm\u001b[39m\u001b[38;5;124m\"\u001b[39m: row[\u001b[38;5;124m'\u001b[39m\u001b[38;5;124m알고리즘\u001b[39m\u001b[38;5;124m'\u001b[39m]}) \n\u001b[0;32m     16\u001b[0m     \u001b[38;5;28;01mfor\u001b[39;00m _, row \u001b[38;5;129;01min\u001b[39;00m df3\u001b[38;5;241m.\u001b[39miterrows()\n\u001b[0;32m     17\u001b[0m ]\n",
      "File \u001b[1;32mc:\\Users\\skyop\\AppData\\Local\\pypoetry\\Cache\\virtualenvs\\langchain-kr-gLkynrUQ-py3.11\\Lib\\site-packages\\pandas\\core\\series.py:1153\u001b[0m, in \u001b[0;36mSeries.__getitem__\u001b[1;34m(self, key)\u001b[0m\n\u001b[0;32m   1150\u001b[0m     key \u001b[38;5;241m=\u001b[39m np\u001b[38;5;241m.\u001b[39masarray(key, dtype\u001b[38;5;241m=\u001b[39m\u001b[38;5;28mbool\u001b[39m)\n\u001b[0;32m   1151\u001b[0m     \u001b[38;5;28;01mreturn\u001b[39;00m \u001b[38;5;28mself\u001b[39m\u001b[38;5;241m.\u001b[39m_get_rows_with_mask(key)\n\u001b[1;32m-> 1153\u001b[0m \u001b[38;5;28;01mreturn\u001b[39;00m \u001b[38;5;28;43mself\u001b[39;49m\u001b[38;5;241;43m.\u001b[39;49m\u001b[43m_get_with\u001b[49m\u001b[43m(\u001b[49m\u001b[43mkey\u001b[49m\u001b[43m)\u001b[49m\n",
      "File \u001b[1;32mc:\\Users\\skyop\\AppData\\Local\\pypoetry\\Cache\\virtualenvs\\langchain-kr-gLkynrUQ-py3.11\\Lib\\site-packages\\pandas\\core\\series.py:1163\u001b[0m, in \u001b[0;36mSeries._get_with\u001b[1;34m(self, key)\u001b[0m\n\u001b[0;32m   1158\u001b[0m     \u001b[38;5;28;01mraise\u001b[39;00m \u001b[38;5;167;01mTypeError\u001b[39;00m(\n\u001b[0;32m   1159\u001b[0m         \u001b[38;5;124m\"\u001b[39m\u001b[38;5;124mIndexing a Series with DataFrame is not \u001b[39m\u001b[38;5;124m\"\u001b[39m\n\u001b[0;32m   1160\u001b[0m         \u001b[38;5;124m\"\u001b[39m\u001b[38;5;124msupported, use the appropriate DataFrame column\u001b[39m\u001b[38;5;124m\"\u001b[39m\n\u001b[0;32m   1161\u001b[0m     )\n\u001b[0;32m   1162\u001b[0m \u001b[38;5;28;01melif\u001b[39;00m \u001b[38;5;28misinstance\u001b[39m(key, \u001b[38;5;28mtuple\u001b[39m):\n\u001b[1;32m-> 1163\u001b[0m     \u001b[38;5;28;01mreturn\u001b[39;00m \u001b[38;5;28;43mself\u001b[39;49m\u001b[38;5;241;43m.\u001b[39;49m\u001b[43m_get_values_tuple\u001b[49m\u001b[43m(\u001b[49m\u001b[43mkey\u001b[49m\u001b[43m)\u001b[49m\n\u001b[0;32m   1165\u001b[0m \u001b[38;5;28;01melif\u001b[39;00m \u001b[38;5;129;01mnot\u001b[39;00m is_list_like(key):\n\u001b[0;32m   1166\u001b[0m     \u001b[38;5;66;03m# e.g. scalars that aren't recognized by lib.is_scalar, GH#32684\u001b[39;00m\n\u001b[0;32m   1167\u001b[0m     \u001b[38;5;28;01mreturn\u001b[39;00m \u001b[38;5;28mself\u001b[39m\u001b[38;5;241m.\u001b[39mloc[key]\n",
      "File \u001b[1;32mc:\\Users\\skyop\\AppData\\Local\\pypoetry\\Cache\\virtualenvs\\langchain-kr-gLkynrUQ-py3.11\\Lib\\site-packages\\pandas\\core\\series.py:1207\u001b[0m, in \u001b[0;36mSeries._get_values_tuple\u001b[1;34m(self, key)\u001b[0m\n\u001b[0;32m   1204\u001b[0m     \u001b[38;5;28;01mreturn\u001b[39;00m result\n\u001b[0;32m   1206\u001b[0m \u001b[38;5;28;01mif\u001b[39;00m \u001b[38;5;129;01mnot\u001b[39;00m \u001b[38;5;28misinstance\u001b[39m(\u001b[38;5;28mself\u001b[39m\u001b[38;5;241m.\u001b[39mindex, MultiIndex):\n\u001b[1;32m-> 1207\u001b[0m     \u001b[38;5;28;01mraise\u001b[39;00m \u001b[38;5;167;01mKeyError\u001b[39;00m(\u001b[38;5;124m\"\u001b[39m\u001b[38;5;124mkey of type tuple not found and not a MultiIndex\u001b[39m\u001b[38;5;124m\"\u001b[39m)\n\u001b[0;32m   1209\u001b[0m \u001b[38;5;66;03m# If key is contained, would have returned by now\u001b[39;00m\n\u001b[0;32m   1210\u001b[0m indexer, new_index \u001b[38;5;241m=\u001b[39m \u001b[38;5;28mself\u001b[39m\u001b[38;5;241m.\u001b[39mindex\u001b[38;5;241m.\u001b[39mget_loc_level(key)\n",
      "\u001b[1;31mKeyError\u001b[0m: 'key of type tuple not found and not a MultiIndex'"
     ]
    }
   ],
   "source": [
    "from langchain.docstore.document import Document\n",
    "# 각 행을 Document 객체로 변환\n",
    "\n",
    "document1 = [\n",
    "    Document(page_content=str(row['Recall-weight']), metadata={\"Recall\": row['Model']}) \n",
    "    for _, row in df1.iterrows()\n",
    "]\n",
    "\n",
    "document2 = [\n",
    "    Document(page_content=str(row['VIF값']), metadata={\"VIF\": row['변수']}) \n",
    "    for _, row in df2.iterrows()\n",
    "]\n",
    "\n",
    "document3 = [\n",
    "    Document(page_content=str(row['Accuracy']), metadata={\"algorithm\": row['알고리즘']}) \n",
    "    for _, row in df3.iterrows()\n",
    "]"
   ]
  },
  {
   "cell_type": "code",
   "execution_count": 83,
   "metadata": {},
   "outputs": [],
   "source": [
    "documents = document1+document2+document3"
   ]
  },
  {
   "cell_type": "code",
   "execution_count": 84,
   "metadata": {},
   "outputs": [
    {
     "data": {
      "text/plain": [
       "[Document(metadata={'Recall': 'ADA'}, page_content='0.74'),\n",
       " Document(metadata={'Recall': 'LR'}, page_content='0.77'),\n",
       " Document(metadata={'Recall': 'XGB'}, page_content='0.74'),\n",
       " Document(metadata={'Recall': 'RF'}, page_content='0.84'),\n",
       " Document(metadata={'Recall': 'KNN'}, page_content='0.75'),\n",
       " Document(metadata={'Recall': 'SVC'}, page_content='0.73'),\n",
       " Document(metadata={'Recall': 'BNB'}, page_content='0.74'),\n",
       " Document(metadata={'Recall': 'Ridge'}, page_content='0.75'),\n",
       " Document(metadata={'Recall': 'DT'}, page_content='0.7'),\n",
       " Document(metadata={'Recall': 'GNB'}, page_content='0.79'),\n",
       " Document(metadata={'Recall': 'DNN'}, page_content='0.87'),\n",
       " Document(metadata={'Recall': 'RNN+CNN'}, page_content='0.91'),\n",
       " Document(metadata={'VIF': 'const '}, page_content='33.85699'),\n",
       " Document(metadata={'VIF': 'gender '}, page_content='1.016757'),\n",
       " Document(metadata={'VIF': 'age '}, page_content='2.41567'),\n",
       " Document(metadata={'VIF': 'hypertension '}, page_content='1.113385'),\n",
       " Document(metadata={'VIF': 'heart_disease '}, page_content='1.112824'),\n",
       " Document(metadata={'VIF': 'ever_married '}, page_content='1.955416'),\n",
       " Document(metadata={'VIF': 'work_type '}, page_content='1.339696'),\n",
       " Document(metadata={'VIF': 'Residence_type '}, page_content='1.001191'),\n",
       " Document(metadata={'VIF': 'avg_glucose_level '}, page_content='1.106672'),\n",
       " Document(metadata={'VIF': 'bmi '}, page_content='1.242843'),\n",
       " Document(metadata={'VIF': 'smoking_status '}, page_content='1.216712'),\n",
       " Document(metadata={'VIF': 'stroke'}, page_content='1.087601'),\n",
       " Document(metadata={'algorithm': 'XGB'}, page_content='0.91'),\n",
       " Document(metadata={'algorithm': 'SVC'}, page_content='0.91'),\n",
       " Document(metadata={'algorithm': 'Ridge'}, page_content='0.88'),\n",
       " Document(metadata={'algorithm': 'LR'}, page_content='0.89'),\n",
       " Document(metadata={'algorithm': 'ADA'}, page_content='0.92'),\n",
       " Document(metadata={'algorithm': 'KNN'}, page_content='0.89'),\n",
       " Document(metadata={'algorithm': 'RF'}, page_content='0.89'),\n",
       " Document(metadata={'algorithm': 'DT'}, page_content='0.9'),\n",
       " Document(metadata={'algorithm': 'BNB'}, page_content='0.84'),\n",
       " Document(metadata={'algorithm': 'GNB'}, page_content='0.85'),\n",
       " Document(metadata={'algorithm': 'DNN'}, page_content='0.88'),\n",
       " Document(metadata={'algorithm': 'RNN+CNN'}, page_content='0.92')]"
      ]
     },
     "execution_count": 84,
     "metadata": {},
     "output_type": "execute_result"
    }
   ],
   "source": [
    "documents"
   ]
  },
  {
   "cell_type": "code",
   "execution_count": 89,
   "metadata": {},
   "outputs": [],
   "source": [
    "from langchain_openai import ChatOpenAI, OpenAIEmbeddings\n",
    "from langchain_community.vectorstores import Chroma\n",
    "\n",
    "embeddings = OpenAIEmbeddings(model=\"text-embedding-3-small\")\n",
    "\n",
    "vector_store = Chroma.from_documents(documents, embeddings)\n",
    "retriever = vector_store.as_retriever()"
   ]
  },
  {
   "cell_type": "code",
   "execution_count": 86,
   "metadata": {},
   "outputs": [
    {
     "data": {
      "text/plain": [
       "[Document(metadata={'algorithm': 'DNN'}, page_content='0.88'),\n",
       " Document(metadata={'algorithm': 'Ridge'}, page_content='0.88'),\n",
       " Document(metadata={'Recall': 'XGB'}, page_content='0.74'),\n",
       " Document(metadata={'Recall': 'ADA'}, page_content='0.74')]"
      ]
     },
     "execution_count": 86,
     "metadata": {},
     "output_type": "execute_result"
    }
   ],
   "source": [
    "retriever.invoke(\"본 논문에서 각각 알고리즘마다 recall값 알려줘\")"
   ]
  },
  {
   "cell_type": "code",
   "execution_count": 28,
   "metadata": {},
   "outputs": [],
   "source": [
    "from langchain.retrievers import BM25Retriever\n",
    "bm25_retriever = BM25Retriever.from_documents(documents)"
   ]
  },
  {
   "cell_type": "code",
   "execution_count": 91,
   "metadata": {},
   "outputs": [],
   "source": [
    "from langchain_core.prompts import PromptTemplate\n",
    "\n",
    "prompt = PromptTemplate.from_template(\n",
    "    \"\"\"\n",
    "    You are an assistant for question-answering tasks. \n",
    "    Use the following pieces of retrieved table to answer the question. \n",
    "    If you don't know the answer, just say that you don't know. \n",
    "    Please write your answer in a markdown table format with the main points.\n",
    "    Be sure to include your source and page numbers in your answer.\n",
    "    If I want to query the values from the Table, please use them to provide an answer.\n",
    "    Answer in Korean.\n",
    "\n",
    "\n",
    "    #Question: \n",
    "    {question}\n",
    "\n",
    "\n",
    "    #Table:\n",
    "    {table}\n",
    "\n",
    "    #Answer:\n",
    "    \"\"\"\n",
    ")\n",
    "\n",
    "llm = ChatOpenAI(model=\"gpt-4o-mini\")\n",
    "\n"
   ]
  },
  {
   "cell_type": "code",
   "execution_count": 92,
   "metadata": {},
   "outputs": [],
   "source": [
    "from langchain_core.runnables import RunnablePassthrough\n",
    "from langchain_core.output_parsers import StrOutputParser\n",
    "chain = ({\"table\": retriever,\"question\": RunnablePassthrough()}\n",
    "         | prompt\n",
    "         | llm\n",
    "         | StrOutputParser()\n",
    "         )\n",
    "\n",
    "# chain = ({\"table\": table_retriever,\"question\": RunnablePassthrough()}\n",
    "#          | prompt\n",
    "#          | llm\n",
    "#          | StrOutputParser()\n",
    "#          )"
   ]
  },
  {
   "cell_type": "code",
   "execution_count": 93,
   "metadata": {},
   "outputs": [],
   "source": [
    "response= chain.invoke(\"본 논문에서 각각 알고리즘마다 recall값 알려줘\")"
   ]
  },
  {
   "cell_type": "code",
   "execution_count": 94,
   "metadata": {},
   "outputs": [
    {
     "name": "stdout",
     "output_type": "stream",
     "text": [
      "| 모델  | Recall-weight | Recall-macro | 출처         | 페이지 번호 |\n",
      "|-------|---------------|---------------|--------------|-------------|\n",
      "| ADA   | 0.74          | 0.5           | table/recall.csv | 0           |\n",
      "| SVC   | 0.73          | 0.5           | table/recall.csv | 5           |\n",
      "| RF    | 0.84          | 0.47          | table/recall.csv | 3           |\n",
      "| BNB   | 0.74          | 0.54          | table/recall.csv | 6           |\n"
     ]
    }
   ],
   "source": [
    "print(response)"
   ]
  },
  {
   "cell_type": "code",
   "execution_count": 95,
   "metadata": {},
   "outputs": [],
   "source": [
    "response2 = chain.invoke(\"본 논문에서 제시하는 변수마다 vif값 알려줘\")"
   ]
  },
  {
   "cell_type": "code",
   "execution_count": 96,
   "metadata": {},
   "outputs": [
    {
     "name": "stdout",
     "output_type": "stream",
     "text": [
      "| 변수        | VIF 값      | 출처             | 페이지 번호 |\n",
      "|-------------|-------------|------------------|--------------|\n",
      "| const       | 33.85699    | table/vif.csv    | 0            |\n",
      "| bmi         | 1.242843    | table/vif.csv    | 9            |\n",
      "| work_type   | 1.339696    | table/vif.csv    | 6            |\n",
      "| gender      | 1.016757    | table/vif.csv    | 1            |\n"
     ]
    }
   ],
   "source": [
    "print(response2)"
   ]
  },
  {
   "cell_type": "code",
   "execution_count": 97,
   "metadata": {},
   "outputs": [],
   "source": [
    "response3 = chain.invoke(\"본 논문에서 제시하는 모든 알고리즘의 Accuracy값 알려줘\")"
   ]
  },
  {
   "cell_type": "code",
   "execution_count": 98,
   "metadata": {},
   "outputs": [
    {
     "name": "stdout",
     "output_type": "stream",
     "text": [
      "| 알고리즘 | Accuracy |\n",
      "|----------|----------|\n",
      "| ADA      | 0.92     |\n",
      "| LR       | 0.89     |\n",
      "| DNN      | 0.88     |\n",
      "| SVC      | 0.91     |\n",
      "\n",
      "**출처:** table/accuracy.csv, 페이지 번호: 1, 3, 4, 10\n"
     ]
    }
   ],
   "source": [
    "print(response3)"
   ]
  },
  {
   "cell_type": "code",
   "execution_count": 99,
   "metadata": {},
   "outputs": [
    {
     "name": "stdout",
     "output_type": "stream",
     "text": [
      "| 주요 포인트         | 내용           |\n",
      "|-------------------|----------------|\n",
      "| 고혈압 관련 VIF   | 1.113385       |\n",
      "| 심장병 관련 VIF   | 1.112824       |\n",
      "| 출처               | Document, 페이지 번호: 1 |\n",
      "\n",
      "출처: Document, 페이지 번호: 1\n"
     ]
    }
   ],
   "source": [
    "response4 = chain.invoke(\"\")\n",
    "print(response4)"
   ]
  },
  {
   "cell_type": "code",
   "execution_count": 100,
   "metadata": {},
   "outputs": [
    {
     "name": "stdout",
     "output_type": "stream",
     "text": [
      "| 변수               | VIF 값      | 출처          | 페이지 번호 |\n",
      "|------------------|-------------|---------------|-------------|\n",
      "| const            | 33.85699    | table/vif.csv | 0           |\n",
      "| bmi              | 1.242843    | table/vif.csv | 9           |\n",
      "| heart_disease    | 1.112824    | table/vif.csv | 4           |\n",
      "| hypertension     | 1.113385    | table/vif.csv | 3           |\n"
     ]
    }
   ],
   "source": [
    "response2 = chain.invoke(\"vif값 알려줘\")\n",
    "print(response2)"
   ]
  },
  {
   "cell_type": "code",
   "execution_count": 101,
   "metadata": {},
   "outputs": [
    {
     "name": "stdout",
     "output_type": "stream",
     "text": [
      "| 변수       | VIF 값      | 출처               | 페이지 |\n",
      "|------------|-------------|--------------------|--------|\n",
      "| const      | 33.85699    | table/vif.csv      | 0      |\n",
      "| bmi        | 1.242843    | table/vif.csv      | 9      |\n",
      "| work_type  | 1.339696    | table/vif.csv      | 6      |\n",
      "| gender     | 1.016757    | table/vif.csv      | 1      |\n"
     ]
    }
   ],
   "source": [
    "response2 = chain.invoke(\"모든 변수의 vif값 알려줘\")\n",
    "print(response2)"
   ]
  },
  {
   "cell_type": "code",
   "execution_count": 102,
   "metadata": {},
   "outputs": [
    {
     "name": "stdout",
     "output_type": "stream",
     "text": [
      "| 변수            | VIF 값      | 출처            | 페이지 번호 |\n",
      "|-----------------|-------------|-----------------|--------------|\n",
      "| const           | 33.85699    | table/vif.csv   | 0            |\n",
      "| bmi             | 1.242843    | table/vif.csv   | 9            |\n",
      "| hypertension    | 1.113385    | table/vif.csv   | 3            |\n",
      "| heart_disease    | 1.112824    | table/vif.csv   | 4            |\n"
     ]
    }
   ],
   "source": [
    "response2 = chain.invoke(\"vif값을 가지고 있는 모든 변수알려줘\")\n",
    "print(response2)"
   ]
  },
  {
   "cell_type": "code",
   "execution_count": 103,
   "metadata": {},
   "outputs": [
    {
     "name": "stdout",
     "output_type": "stream",
     "text": [
      "| 변수              | VIF 값      | 출처               | 페이지 |\n",
      "|------------------|-------------|------------------|-------|\n",
      "| const            | 33.85699    | table/vif.csv    | 0     |\n",
      "| work_type        | 1.339696    | table/vif.csv    | 6     |\n",
      "| avg_glucose_level | 1.106672    | table/vif.csv    | 8     |\n",
      "| ever_married     | 1.955416    | table/vif.csv    | 5     |\n"
     ]
    }
   ],
   "source": [
    "response2 = chain.invoke(\"제시하는 모든 변수들에는 무엇이 있어?\")\n",
    "print(response2)"
   ]
  },
  {
   "cell_type": "code",
   "execution_count": null,
   "metadata": {},
   "outputs": [],
   "source": []
  }
 ],
 "metadata": {
  "kernelspec": {
   "display_name": "langchain-kr-gLkynrUQ-py3.11",
   "language": "python",
   "name": "python3"
  },
  "language_info": {
   "codemirror_mode": {
    "name": "ipython",
    "version": 3
   },
   "file_extension": ".py",
   "mimetype": "text/x-python",
   "name": "python",
   "nbconvert_exporter": "python",
   "pygments_lexer": "ipython3",
   "version": "3.11.9"
  }
 },
 "nbformat": 4,
 "nbformat_minor": 2
}
