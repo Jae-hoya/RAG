{
 "cells": [
  {
   "cell_type": "markdown",
   "metadata": {},
   "source": [
    "# LlamaParser\n",
    "LlamaParse는 LlamaIndex에서 개발한 문서 파싱 서비스로, 대규모 언어 모델(LLM)을 위해 특별히 설계되었습니다. 주요 특징은 다음과 같습니다:\n",
    "\n",
    "- PDF, Word, PowerPoint, Excel 등 다양한 문서 형식 지원\n",
    "- 자연어 지시를 통한 맞춤형 출력 형식 제공\n",
    "- 복잡한 표와 이미지 추출 기능\n",
    "- JSON 모드 지원\n",
    "- 외국어 지원\n",
    "- 멀티모달 지원\n",
    "LlamaParse는 독립형 API로 제공되며, LlamaCloud 플랫폼의 일부로도 사용 가능합니다. 이 서비스는 문서를 파싱하고 정제하여 검색 증강 생성(RAG) 등 LLM 기반 애플리케이션의 성능을 향상시키는 것을 목표로 합니다.\n",
    "\n",
    "사용자는 무료로 하루 1,000페이지를 처리할 수 있으며, 유료 플랜을 통해 추가 용량을 확보할 수 있습니다. LlamaParse는 현재 공개 베타 버전으로 제공되고 있으며, 지속적으로 기능이 확장되고 있습니다.\n",
    "\n",
    "- 링크: https://cloud.llamaindex.ai\n",
    "\n",
    "**API 키 설정**\n",
    "\n",
    "- API 키를 발급 후 .env 파일에 `LLAMA_CLOUD_API_KEY` 에 설정합니다."
   ]
  },
  {
   "cell_type": "code",
   "execution_count": 4,
   "metadata": {},
   "outputs": [],
   "source": [
    "import os\n",
    "import nest_asyncio\n",
    "from dotenv import load_dotenv\n",
    "\n",
    "load_dotenv()\n",
    "nest_asyncio.apply() #안하면 오류날수도 있음."
   ]
  },
  {
   "cell_type": "code",
   "execution_count": 5,
   "metadata": {},
   "outputs": [
    {
     "name": "stdout",
     "output_type": "stream",
     "text": [
      "Started parsing the file under job_id 008a579a-c2d2-44c0-872e-45487ef38864\n"
     ]
    }
   ],
   "source": [
    "from llama_parse import LlamaParse\n",
    "from llama_index.core import SimpleDirectoryReader\n",
    "\n",
    "# 파서설정\n",
    "parser = LlamaParse(\n",
    "    result_type=\"markdown\", # markdown과 text가능\n",
    "    num_workers=8, # 기본값 4. 병렬처리라 생각\n",
    "    verbose=True,\n",
    "    language=\"ko\",\n",
    ")\n",
    "\n",
    "file_extractor = {\".pdf\":parser}\n",
    "\n",
    "documents = SimpleDirectoryReader(\n",
    "    input_files=[\"data/SPRI_AI_Brief_2023년12월호_F.pdf\"],\n",
    "    file_extractor=file_extractor\n",
    ").load_data()"
   ]
  },
  {
   "cell_type": "code",
   "execution_count": 6,
   "metadata": {},
   "outputs": [
    {
     "data": {
      "text/plain": [
       "23"
      ]
     },
     "execution_count": 6,
     "metadata": {},
     "output_type": "execute_result"
    }
   ],
   "source": [
    "len(documents)"
   ]
  },
  {
   "cell_type": "code",
   "execution_count": 7,
   "metadata": {},
   "outputs": [
    {
     "data": {
      "text/plain": [
       "Document(id_='0e724b9a-2562-48ca-9f4b-85857c2a2146', embedding=None, metadata={'file_path': 'data\\\\SPRI_AI_Brief_2023년12월호_F.pdf', 'file_name': 'SPRI_AI_Brief_2023년12월호_F.pdf', 'file_type': 'application/pdf', 'file_size': 975735, 'creation_date': '2024-09-03', 'last_modified_date': '2024-07-10'}, excluded_embed_metadata_keys=['file_name', 'file_type', 'file_size', 'creation_date', 'last_modified_date', 'last_accessed_date'], excluded_llm_metadata_keys=['file_name', 'file_type', 'file_size', 'creation_date', 'last_modified_date', 'last_accessed_date'], relationships={}, text='SPRi AI Brief\\n               2023년12월호\\n                      Software Policy & Research Institute', mimetype='text/plain', start_char_idx=None, end_char_idx=None, text_template='{metadata_str}\\n\\n{content}', metadata_template='{key}: {value}', metadata_seperator='\\n')"
      ]
     },
     "execution_count": 7,
     "metadata": {},
     "output_type": "execute_result"
    }
   ],
   "source": [
    "documents[0]"
   ]
  },
  {
   "cell_type": "code",
   "execution_count": 15,
   "metadata": {},
   "outputs": [
    {
     "name": "stdout",
     "output_type": "stream",
     "text": [
      "# CONTENTS\n",
      "\n",
      "Ⅰ. 인공지능 산업 동향 브리프1. 정책/법제▹ 미국, 안전하고 신뢰할 수 있는 AI 개발과 사용에 관한 행정명령 발표▹ G7, 히로시마 AI 프로세스를 통해 AI 기업 대상 국제 행동강령에 합의▹ 영국 AI 안전성 정상회의에 참가한 28개국, AI 위험에 공동 대응 선언▹ 미국 법원, 예술가들이 생성 AI 기업에 제기한 저작권 소송 기각▹ 미국 연방거래위원회, 저작권청에 소비자 보호와 경쟁 측면의 AI 의견서 제출▹ EU AI 법 3자 협상, 기반모델 규제 관련 견해차로 난항2. 기업/산업▹ 미국 프런티어 모델 포럼, 1,000만 달러 규모의 AI 안전 기금 조성▹ 코히어, 데이터 투명성 확보를 위한 데이터 출처 탐색기 공개▹ 알리바바 클라우드, 최신 LLM ‘통이치엔원 2.0’ 공개▹ 삼성전자, 자체 개발 생성 AI ‘삼성 가우스’ 공개▹ 구글, 앤스로픽에 20억 달러 투자로 생성 AI 협력 강화▹ IDC, 2027년 AI 소프트웨어 매출 2,500억 달러 돌파 전망▹ 빌 게이츠, AI 에이전트로 인한 컴퓨터 사용의 패러다임 변화 전망▹ 유튜브, 2024년부터 AI 생성 콘텐츠 표시 의무화3. 기술/연구▹ 영국 과학혁신기술부, AI 안전 연구소 설립 발표▹ 구글 딥마인드, 범용 AI 모델의 기능과 동작에 대한 분류 체계 발표▹ 갈릴레오의 LLM 환각 지수 평가에서 GPT-4가 가장 우수4. 인력/교육▹ 영국 옥스퍼드 인터넷 연구소, AI 기술자의 임금이 평균 21% 높아\n",
      "\n",
      "# 주요 행사\n",
      "\n",
      "- CES 2024\n",
      "- AIMLA 2024\n",
      "- AAAI Conference on Artificial Intelligence\n"
     ]
    }
   ],
   "source": [
    "print(documents[1].text)"
   ]
  },
  {
   "cell_type": "markdown",
   "metadata": {},
   "source": [
    "# Llamaindex -> LangChain Document로 변환"
   ]
  },
  {
   "cell_type": "code",
   "execution_count": 12,
   "metadata": {},
   "outputs": [],
   "source": [
    "docs = [doc.to_langchain_format() for doc in documents]"
   ]
  },
  {
   "cell_type": "code",
   "execution_count": 14,
   "metadata": {},
   "outputs": [
    {
     "name": "stdout",
     "output_type": "stream",
     "text": [
      "# CONTENTS\n",
      "\n",
      "Ⅰ. 인공지능 산업 동향 브리프1. 정책/법제▹ 미국, 안전하고 신뢰할 수 있는 AI 개발과 사용에 관한 행정명령 발표▹ G7, 히로시마 AI 프로세스를 통해 AI 기업 대상 국제 행동강령에 합의▹ 영국 AI 안전성 정상회의에 참가한 28개국, AI 위험에 공동 대응 선언▹ 미국 법원, 예술가들이 생성 AI 기업에 제기한 저작권 소송 기각▹ 미국 연방거래위원회, 저작권청에 소비자 보호와 경쟁 측면의 AI 의견서 제출▹ EU AI 법 3자 협상, 기반모델 규제 관련 견해차로 난항2. 기업/산업▹ 미국 프런티어 모델 포럼, 1,000만 달러 규모의 AI 안전 기금 조성▹ 코히어, 데이터 투명성 확보를 위한 데이터 출처 탐색기 공개▹ 알리바바 클라우드, 최신 LLM ‘통이치엔원 2.0’ 공개▹ 삼성전자, 자체 개발 생성 AI ‘삼성 가우스’ 공개▹ 구글, 앤스로픽에 20억 달러 투자로 생성 AI 협력 강화▹ IDC, 2027년 AI 소프트웨어 매출 2,500억 달러 돌파 전망▹ 빌 게이츠, AI 에이전트로 인한 컴퓨터 사용의 패러다임 변화 전망▹ 유튜브, 2024년부터 AI 생성 콘텐츠 표시 의무화3. 기술/연구▹ 영국 과학혁신기술부, AI 안전 연구소 설립 발표▹ 구글 딥마인드, 범용 AI 모델의 기능과 동작에 대한 분류 체계 발표▹ 갈릴레오의 LLM 환각 지수 평가에서 GPT-4가 가장 우수4. 인력/교육▹ 영국 옥스퍼드 인터넷 연구소, AI 기술자의 임금이 평균 21% 높아\n",
      "\n",
      "# 주요 행사\n",
      "\n",
      "- CES 2024\n",
      "- AIMLA 2024\n",
      "- AAAI Conference on Artificial Intelligence\n"
     ]
    }
   ],
   "source": [
    "print(docs[1].page_content)"
   ]
  },
  {
   "cell_type": "code",
   "execution_count": 16,
   "metadata": {},
   "outputs": [
    {
     "name": "stdout",
     "output_type": "stream",
     "text": [
      "# 정책/법제\n",
      "\n",
      "# 기업/산업\n",
      "\n",
      "# 연구기술\n",
      "\n",
      "# 인력/교육\n",
      "\n",
      "영국AI안전성정상회의에 참가한 28개국, AI위험에 공동대응선언\n",
      "\n",
      "KEYContents\n",
      "\n",
      "영국 블레츨리파크에서 개최된 AI안전성정상회의에 참가한 28개국들이 AI안전보장을 위한 협력방안을 담은 블레츨리선언을 발표\n",
      "\n",
      "첨단 AI를 개발하는 국가와 기업들은 AI시스템에 대한 안전 테스트 계획에 합의했으며, 영국의 AI안전연구소가 전세계 국가와 협력해 테스트를 주도할 예정\n",
      "\n",
      "AI안전성정상회의 참가국들, 블레츨리선언 통해 AI안전보장을 위한 협력에 합의\n",
      "\n",
      "2023년 11월 1~2일 영국 블레츨리파크에서 열린 AI안전성정상회의(AISafetySummit)에 참가한 28개국 대표들이 AI위험관리를 위한 '블레츨리선언'을 발표\n",
      "\n",
      "- 선언은 AI안전보장을 위해 국가, 국제기구, 기업, 시민사회, 학계를 포함한 모든 이해관계자의 협력이 중요하다고 강조했으며, 특히 최첨단 AI시스템 개발기업은 안전평가를 비롯한 적절한 조치를 취하여 AI시스템의 안전을 보장할 책임이 있다고 지적\n",
      "- 각국은 AI안전보장을 위해 첨단 AI개발기업의 투명성 향상, 적절한 평가지표와 안전테스트도구 개발, 공공부문 역량 구축과 과학연구개발 등의 분야에서 협력하기로 합의\n",
      "\n",
      "영국 총리, 정부주도의 첨단 AI시스템 안전테스트 계획 발표\n",
      "\n",
      "- 리시수낙 영국 총리는 AI안전성정상회의를 마무리하며 첨단 AI모델에 대한 안전성 시험 계획 수립과 테스트 수행을 주도할 영국 AI 안전연구소의 출범을 발표\n",
      "- 첨단 AI모델의 안전테스트는 국가안보와 안전, 사회적 피해를 포함한 여러 잠재적 유해기능에 대한 시험을 포함하며, 참석자들은 정부주도의 외부안전테스트에 합의\n",
      "- 각국 정부는 테스트와 기타 안전연구를 위한 공공부문 역량에 투자하고, 테스트 결과가 다른 국가와 관련된 경우 해당국가와 결과를 공유하며, 적절한 시기에 공동표준개발을 위해 노력하기로 합의\n",
      "\n",
      "참가국들은 튜링상을 수상한 AI학자인 요슈아 벤지오 교수가 주도하는 '과학의 현황(State of the Science)' 보고서 작성에도 합의했으며, 보고서를 통해 첨단 AI의 위험과 가능성에 관한 기존 연구를 과학적으로 평가하고 향후 AI 안전연구를 위한 우선순위를 제시할 계획\n",
      "\n",
      "한국은 영국 정부와 6개월 뒤에 온라인으로 AI미니정상회의를 공동개최하기로 합의했으며, 프랑스 정부와는 1년 후 대면정상회의를 개최할 예정\n",
      "\n",
      "출처: Gov.uk, The Bletchley Declaration by Countries Attending the AISafety Summit, 1-2 November 2023, 2023.11.01. Gov.uk, World leaders, top AI companies set out plan for safety testing of frontier as first global Safety AI Summit concludes, 2023.11.02.\n"
     ]
    }
   ],
   "source": [
    "print(docs[5].page_content)"
   ]
  },
  {
   "cell_type": "code",
   "execution_count": 18,
   "metadata": {},
   "outputs": [
    {
     "data": {
      "text/plain": [
       "{'file_path': 'data\\\\SPRI_AI_Brief_2023년12월호_F.pdf',\n",
       " 'file_name': 'SPRI_AI_Brief_2023년12월호_F.pdf',\n",
       " 'file_type': 'application/pdf',\n",
       " 'file_size': 975735,\n",
       " 'creation_date': '2024-09-03',\n",
       " 'last_modified_date': '2024-07-10'}"
      ]
     },
     "execution_count": 18,
     "metadata": {},
     "output_type": "execute_result"
    }
   ],
   "source": [
    "docs[0].metadata"
   ]
  },
  {
   "cell_type": "markdown",
   "metadata": {},
   "source": [
    "# MultoModal Model로 파싱\n",
    "\n",
    "**주요 파라미터**\n",
    "\n",
    "- `use_vendor_multimodal_model`: 멀티모달 모델 사용 여부를 지정합니다. True로 설정하면 외부 벤더의 멀티모달 모델을 사용합니다.\n",
    "\n",
    "- `vendor_multimodal_model_name`: 사용할 멀티모달 모델의 이름을 지정합니다. 여기서는 \"openai-gpt4o\"를 사용하고 있습니다.\n",
    "\n",
    "- `vendor_multimodal_api_key`: 멀티모달 모델 API 키를 지정합니다. 환경 변수에서 OpenAI API 키를 가져옵니다.\n",
    "\n",
    "- `result_type`: 파싱 결과의 형식을 지정합니다. \"markdown\"으로 설정되어 있어 결과가 마크다운 형식으로 반환됩니다.\n",
    "\n",
    "- `language`: 파싱할 문서의 언어를 지정합니다. \"ko\"로 설정되어 한국어로 처리됩니다.\n",
    "\n",
    "- `skip_diagonal_text`: 대각선 텍스트를 건너뛸지 여부를 결정합니다.\n",
    "\n",
    "- `page_separator`: 페이지 구분자를 지정할 수 있습니다."
   ]
  },
  {
   "cell_type": "code",
   "execution_count": 24,
   "metadata": {},
   "outputs": [],
   "source": [
    "documents = LlamaParse(\n",
    "    use_vendor_multimodal_model=True,\n",
    "    vendor_multimodal_model_name=\"openai-gpt4o\",\n",
    "    vendor_multimodal_api_key=os.environ[\"OPENAI_API_KEY\"],\n",
    "    result_type=\"markdown\",\n",
    "    language=\"ko\",\n",
    "    #skip_diagonal_text=True,\n",
    "    #parsing_instruction=parsing_instruction,\n",
    ")"
   ]
  },
  {
   "cell_type": "code",
   "execution_count": 25,
   "metadata": {},
   "outputs": [
    {
     "name": "stdout",
     "output_type": "stream",
     "text": [
      "Started parsing the file under job_id 38bc2bba-d0a7-4856-b383-df39baff2542\n"
     ]
    }
   ],
   "source": [
    "# parsing 된 결과\n",
    "parsed_docs = documents.load_data(file_path=\"data/SPRI_AI_Brief_2023년12월호_F.pdf\")"
   ]
  },
  {
   "cell_type": "code",
   "execution_count": 26,
   "metadata": {},
   "outputs": [],
   "source": [
    "docs = [doc.to_langchain_format() for doc in parsed_docs]"
   ]
  },
  {
   "cell_type": "code",
   "execution_count": 29,
   "metadata": {},
   "outputs": [
    {
     "name": "stdout",
     "output_type": "stream",
     "text": [
      "# 영국 AI 안전성 정상회의에 참가한 28개국, AI 위험에 공동 대응 선언\n",
      "\n",
      "## KEY Contents\n",
      "\n",
      "- 영국 블레츨리 파크에서 개최된 AI 안전성 정상회의에 참가한 28개국들이 AI 안전 보장을 위한 협력 방안을 담은 블레츨리 선언을 발표\n",
      "- 첨단 AI를 개발하는 국가와 기업들은 AI 시스템에 대한 안전 테스트 계획에 합의했으며, 영국의 AI 안전 연구소가 전 세계 국가와 협력해 테스트를 주도할 예정\n",
      "\n",
      "## AI 안전성 정상회의 참가국들, 블레츨리 선언 통해 AI 안전 보장을 위한 협력에 합의\n",
      "\n",
      "- 2023년 11월 1~2일 영국 블레츨리 파크에서 열린 AI 안전성 정상회의(AI Safety Summit)에 참가한 28개국 대표들이 AI 위험 관리를 위한 '블레츨리 선언'을 발표\n",
      "- 선언은 AI 안전 보장을 위해 국가, 국제기구, 기업, 시민사회, 학계를 포함한 모든 이해관계자의 협력이 중요하다고 강조했으며, 특히 첨단 AI 시스템 개발 기업은 안전 평가를 비롯한 적절한 조치를 취하여 AI 시스템의 안전을 보장할 책임이 있다고 지적\n",
      "- 각국은 AI 안전 보장을 위해 첨단 AI 개발기업의 투명성 향상, 적절한 평가지표와 안전 테스트 도구 개발, 공공부문 역량 구축과 과학 연구개발 등의 분야에서 협력하기로 합의\n",
      "\n",
      "## 영국 총리, 정부 주도의 첨단 AI 시스템 안전 테스트 계획 발표\n",
      "\n",
      "- 리시 수낙 영국 총리는 AI 안전성 정상회의를 마무리하며 첨단 AI 모델에 대한 안전성 시험 계획 수립과 테스트 수행을 주도할 영국 AI 안전 연구소의 출범을 발표\n",
      "- 첨단 AI 모델의 안전 테스트는 국가 안보와 안전, 사회적 피해를 포함한 여러 잠재적 유해 기능에 대한 시험을 포함하며, 참석자들은 정부 주도의 외부 안전 테스트에 합의\n",
      "- 각국 정부는 테스트와 기타 안전 연구를 위한 공공부문 역량에 투자하고, 테스트 결과가 다른 국가와 관련된 경우 해당 국가와 결과를 공유하며, 적절한 시기에 공동 표준 개발을 위해 노력하기로 합의\n",
      "- 참가국들은 튜링상을 수상한 AI 학자인 요수아 벤지오 교수가 주도하는 '과학의 현황(State of the Science)' 보고서 작성에도 합의했으며, 보고서를 통해 첨단 AI의 위험과 가능성에 관한 기존 연구를 과학적으로 평가하고 향후 AI 안전 연구를 위한 우선순위를 제시할 계획\n",
      "- 한국은 영국 정부와 6개월 뒤에 온라인으로 AI 미니 정상회의를 공동 개최하기로 합의했으며, 프랑스 정부와는 1년 후 대면 정상회의를 개최할 예정\n",
      "\n",
      "> 출처: Gov.uk, The Bletchley Declaration by Countries Attending the AI Safety Summit, 1-2 November 2023, 2023.11.01.\n",
      "> Gov.uk, World leaders, top AI companies set out plan for safety testing of frontier as first global AI Safety Summit concludes, 2023.11.02.\n"
     ]
    }
   ],
   "source": [
    "print(docs[5].page_content)"
   ]
  },
  {
   "cell_type": "code",
   "execution_count": 30,
   "metadata": {},
   "outputs": [
    {
     "name": "stdout",
     "output_type": "stream",
     "text": [
      "Started parsing the file under job_id f19c225a-f8aa-4475-a233-6d2b8786f890\n"
     ]
    }
   ],
   "source": [
    "parsing_instruction = (\n",
    "    \"You are parsing a brief of AI Report. Please extract tables in markdown format.\"\n",
    ")\n",
    "\n",
    "# LlamaParse 설정\n",
    "parser = LlamaParse(\n",
    "    use_vendor_multimodal_model=True,\n",
    "    vendor_multimodal_model_name=\"openai-gpt4o\",\n",
    "    vendor_multimodal_api_key=os.environ[\"OPENAI_API_KEY\"],\n",
    "    result_type=\"markdown\",\n",
    "    language=\"ko\",\n",
    "    parsing_instruction=parsing_instruction,\n",
    ")\n",
    "\n",
    "# parsing 된 결과\n",
    "parsed_docs = parser.load_data(file_path=\"data/SPRI_AI_Brief_2023년12월호_F.pdf\")\n",
    "\n",
    "# langchain 도큐먼트로 변환\n",
    "docs = [doc.to_langchain_format() for doc in parsed_docs]"
   ]
  },
  {
   "cell_type": "code",
   "execution_count": 31,
   "metadata": {},
   "outputs": [
    {
     "name": "stdout",
     "output_type": "stream",
     "text": [
      "# Ⅱ. 주요 행사 일정\n",
      "\n",
      "| 행사명 | 행사 주요 개요 |\n",
      "| --- | --- |\n",
      "| CES 2024 | - 미국 소비자기술 협회(CTA)가 주관하는 세계 최대 가전·IT·소비재 전시회로 5G, AR&VR, 디지털헬스, 교통·모빌리티 등 주요 카테고리 중심으로 기업들의 최신의 기술 제품들을 전시<br>- CTA 사피로 회장은 가장 주목받는 섹터로 AI를 꼽았으며, 모든 산업을 포함한다는 의미에서 '올 인AI on'을 주제로 한 이번 전시에는 500곳 이상의 한국기업 참가 예정 |\n",
      "| 기간 | 2024.1.9~12 |\n",
      "| 장소 | 미국, 라스베가스 |\n",
      "| 홈페이지 | [https://www.ces.tech/](https://www.ces.tech/) |\n",
      "\n",
      "| 행사명 | 행사 주요 개요 |\n",
      "| --- | --- |\n",
      "| AIMLA 2024 | - 머신러닝 및 응용에 관한 국제 컨퍼런스(AIMLA 2024)는 인공지능 및 머신러닝의 이론, 방법론 및 실용적 접근에 관한 지식과 최신 연구 결과 공유<br>- 이론 및 실무 측면에서 인공지능, 기계학습의 주요 분야를 논의하고, 함께, 산업계의 연구자와 실무자들에게 해당 분야의 최첨단 개발 소식 공유 |\n",
      "| 기간 | 2024.1.27~28 |\n",
      "| 장소 | 덴마크, 코펜하겐 |\n",
      "| 홈페이지 | [https://ccnet2024.org/aimla/index](https://ccnet2024.org/aimla/index) |\n",
      "\n",
      "| 행사명 | 행사 주요 개요 |\n",
      "| --- | --- |\n",
      "| AAAI Conference on Artificial Intelligence | - AI 발전 협회 컨퍼런스(AAAI)는 AI 연구를 촉진하고, AI 분야 연구원, 실무자, 과학자, 학업 및 공학자 간 교류의 기회 제공<br>- 컨퍼런스에서 AI 관련 기술 발표, 특별 트랙, 초청 연사, 워크숍, 튜토리얼, 포스터 세션, 주제 발표, 대회, 전시 프로그램 등 진행 |\n",
      "| 기간 | 2024.2.20~27 |\n",
      "| 장소 | 캐나다, 밴쿠버 |\n",
      "| 홈페이지 | [https://aaai.org/aaai-conference/](https://aaai.org/aaai-conference/) |\n"
     ]
    }
   ],
   "source": [
    "# markdown 형식으로 추출된 테이블 확인\n",
    "print(docs[-2].page_content)"
   ]
  },
  {
   "cell_type": "code",
   "execution_count": null,
   "metadata": {},
   "outputs": [],
   "source": []
  }
 ],
 "metadata": {
  "kernelspec": {
   "display_name": "langchain-kr-gLkynrUQ-py3.11",
   "language": "python",
   "name": "python3"
  },
  "language_info": {
   "codemirror_mode": {
    "name": "ipython",
    "version": 3
   },
   "file_extension": ".py",
   "mimetype": "text/x-python",
   "name": "python",
   "nbconvert_exporter": "python",
   "pygments_lexer": "ipython3",
   "version": "3.11.9"
  }
 },
 "nbformat": 4,
 "nbformat_minor": 2
}
