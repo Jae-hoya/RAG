{
 "cells": [
  {
   "cell_type": "code",
   "execution_count": 1,
   "metadata": {},
   "outputs": [
    {
     "data": {
      "text/plain": [
       "True"
      ]
     },
     "execution_count": 1,
     "metadata": {},
     "output_type": "execute_result"
    }
   ],
   "source": [
    "from dotenv import load_dotenv\n",
    "load_dotenv()"
   ]
  },
  {
   "cell_type": "code",
   "execution_count": 2,
   "metadata": {},
   "outputs": [
    {
     "data": {
      "text/plain": [
       "7"
      ]
     },
     "execution_count": 2,
     "metadata": {},
     "output_type": "execute_result"
    }
   ],
   "source": [
    "from langchain_community.document_loaders import PyPDFLoader\n",
    "\n",
    "loader = PyPDFLoader(\"./data/asdff.pdf\", extract_images=True)\n",
    "\n",
    "docs = loader.load()\n",
    "len(docs)"
   ]
  },
  {
   "cell_type": "code",
   "execution_count": 3,
   "metadata": {},
   "outputs": [
    {
     "name": "stdout",
     "output_type": "stream",
     "text": [
      "page_content='다중공선성은 독립변수간 상관관계가 있는지 나타\n",
      "내는 지표이다. 본 연구에서 사용한 데이터에서는 각\n",
      "독립변수는 각 column이 된다. 만약 다중공선성이 높\n",
      "다면, 각 column끼리 비슷하다는 것을 의미하며, 변\n",
      "수간의 차이가 없음을 의미한다. 데이터에서 column\n",
      "을 너무 많이 분할하면 나타나는 현상으로, 문제가 된\n",
      "다면 변수를 삭제한다거나, PCA(주성분 분석) 또는 정\n",
      "규화를 이용해야한다. 상수항(const)은 독립변수 들이\n",
      "함께 사용될 때 발생하는 자연스러운 결과이며, 독립\n",
      "변수 간의 다중공선성 문제를 반영하지않는다. 본 연\n",
      "구의 데이터에선 각 각 독립변수는 데이터에서 각각의\n",
      "column을 의미한다. 실제로 중요한값은 독립변수의\n",
      "VIF값들이다[7].\n",
      "Table.1 VIF(Variance Inflation Factors)\n",
      "위 표1은 VIF(분산팽창인수)을 나타낸다. 이 값은,\n",
      "다중공선성을 나타내는 척도다. VIF값이 5보다 크면\n",
      "다중 공선성에 문제가 있어 회귀 계수에 대한 신뢰할\n",
      "수 없는 추정치와 해석이 발생할 수 있다. 이 값이 5\n",
      "미만이면 다중공선성 문제가 크지 않다고 판단한다.\n",
      "위에서 언급했듯이, 상수항이 높은 VIF값은 크게 신경\n",
      "쓰지 않아도 된다[8]. 수식을 쉽게 표현하면 다음과 같\n",
      "다.\n",
      "식\n",
      "(2)\n",
      "4.3 Accuracy와 Recall\n",
      "Table.2 AccuracyModel Accuracy\n",
      "XGB 0.91\n",
      "SVC 0.91\n",
      "Ridge 0.88\n",
      "LR 0.89\n",
      "ADA 0.92\n",
      "KNN 0.89\n",
      "RF 0.89\n",
      "DT 0.90\n",
      "BNB 0.84\n",
      "GNB 0.85\n",
      "DNN 0.88\n",
      "RNN+CNN 0.92\n",
      "위 표2는 각각 모델별 Accuracy를 보여준다. 전체적\n",
      "으로 높은 정확도를 보여준다. 수식을 쉽게 표현하면\n",
      "다음과 같다.\n",
      "식(3)\n",
      "Table.3 Recall\n",
      "위 표3은 Recall값을 즉, 재현율을 보여준다. 값들\n",
      "은 소수점 두 번째 자리까지 나타낸다. 질병에 관해\n",
      "서는 Recall을 고려한다. weight평가는 클래스의 데\n",
      "이터 비율에 따라 가중치를 주어지는 방법이다.\n",
      "macro평가 는 클래스의 성능 지표를 동일한 비율로\n",
      "평균을 내는 방법이다. 본 연구에서 사용한 데이터가\n",
      "5:5 데이터가 아니기 때문에, macro평균을 제시한다.\n",
      "수식은 다음과 같다.\n",
      "VIF Factor features\n",
      "33.856990 const\n",
      "1.016757 gender\n",
      "2.415670 age\n",
      "1.113385 hypertension\n",
      "1.112824 heart_disease\n",
      "1.955416 ever_married\n",
      "1.339696 work_type\n",
      "1.001191 Residence_type\n",
      "1.106672 avg_glucose_level\n",
      "1.242843 bmi\n",
      "1.216712 smoking_status\n",
      "1.087601 strokeModel Recall-weight Recall-macro\n",
      "ADA 0.74 0.50\n",
      "LR 0.77 0.47\n",
      "XGB 0.74 0.49\n",
      "RF 0.84 0.47\n",
      "KNN 0.75 0.50\n",
      "SVC 0.73 0.50\n",
      "BNB 0.74 0.54\n",
      "Ridge 0.75 0.50\n",
      "DT 0.70 0.55\n",
      "GNB 0.79 0.62\n",
      "DNN 0.87 0.67\n",
      "RNN+CNN 0.91 0.735' metadata={'source': './data/asdff.pdf', 'page': 4}\n"
     ]
    }
   ],
   "source": [
    "print(docs[4])"
   ]
  },
  {
   "cell_type": "code",
   "execution_count": 4,
   "metadata": {},
   "outputs": [
    {
     "data": {
      "text/plain": [
       "[Document(metadata={'source': 'table/accuracy.csv', 'row': 0}, page_content='\\ufeff알고리즘: XGB\\nAccuracy: 0.91'),\n",
       " Document(metadata={'source': 'table/accuracy.csv', 'row': 1}, page_content='\\ufeff알고리즘: SVC\\nAccuracy: 0.91'),\n",
       " Document(metadata={'source': 'table/accuracy.csv', 'row': 2}, page_content='\\ufeff알고리즘: Ridge\\nAccuracy: 0.88'),\n",
       " Document(metadata={'source': 'table/accuracy.csv', 'row': 3}, page_content='\\ufeff알고리즘: LR\\nAccuracy: 0.89'),\n",
       " Document(metadata={'source': 'table/accuracy.csv', 'row': 4}, page_content='\\ufeff알고리즘: ADA\\nAccuracy: 0.92'),\n",
       " Document(metadata={'source': 'table/accuracy.csv', 'row': 5}, page_content='\\ufeff알고리즘: KNN\\nAccuracy: 0.89'),\n",
       " Document(metadata={'source': 'table/accuracy.csv', 'row': 6}, page_content='\\ufeff알고리즘: RF\\nAccuracy: 0.89'),\n",
       " Document(metadata={'source': 'table/accuracy.csv', 'row': 7}, page_content='\\ufeff알고리즘: DT\\nAccuracy: 0.9'),\n",
       " Document(metadata={'source': 'table/accuracy.csv', 'row': 8}, page_content='\\ufeff알고리즘: BNB\\nAccuracy: 0.84'),\n",
       " Document(metadata={'source': 'table/accuracy.csv', 'row': 9}, page_content='\\ufeff알고리즘: GNB\\nAccuracy: 0.85'),\n",
       " Document(metadata={'source': 'table/accuracy.csv', 'row': 10}, page_content='\\ufeff알고리즘: DNN\\nAccuracy: 0.88'),\n",
       " Document(metadata={'source': 'table/accuracy.csv', 'row': 11}, page_content='\\ufeff알고리즘: RNN+CNN\\nAccuracy: 0.92'),\n",
       " Document(metadata={'source': 'table/recall.csv', 'row': 0}, page_content='\\ufeffModel: ADA\\nRecall-weight: 0.74\\nRecall-macro: 0.5'),\n",
       " Document(metadata={'source': 'table/recall.csv', 'row': 1}, page_content='\\ufeffModel: LR\\nRecall-weight: 0.77\\nRecall-macro: 0.47'),\n",
       " Document(metadata={'source': 'table/recall.csv', 'row': 2}, page_content='\\ufeffModel: XGB\\nRecall-weight: 0.74\\nRecall-macro: 0.49'),\n",
       " Document(metadata={'source': 'table/recall.csv', 'row': 3}, page_content='\\ufeffModel: RF\\nRecall-weight: 0.84\\nRecall-macro: 0.47'),\n",
       " Document(metadata={'source': 'table/recall.csv', 'row': 4}, page_content='\\ufeffModel: KNN\\nRecall-weight: 0.75\\nRecall-macro: 0.5'),\n",
       " Document(metadata={'source': 'table/recall.csv', 'row': 5}, page_content='\\ufeffModel: SVC\\nRecall-weight: 0.73\\nRecall-macro: 0.5'),\n",
       " Document(metadata={'source': 'table/recall.csv', 'row': 6}, page_content='\\ufeffModel: BNB\\nRecall-weight: 0.74\\nRecall-macro: 0.54'),\n",
       " Document(metadata={'source': 'table/recall.csv', 'row': 7}, page_content='\\ufeffModel: Ridge\\nRecall-weight: 0.75\\nRecall-macro: 0.5'),\n",
       " Document(metadata={'source': 'table/recall.csv', 'row': 8}, page_content='\\ufeffModel: DT\\nRecall-weight: 0.7\\nRecall-macro: 0.55'),\n",
       " Document(metadata={'source': 'table/recall.csv', 'row': 9}, page_content='\\ufeffModel: GNB\\nRecall-weight: 0.79\\nRecall-macro: 0.62'),\n",
       " Document(metadata={'source': 'table/recall.csv', 'row': 10}, page_content='\\ufeffModel: DNN\\nRecall-weight: 0.87\\nRecall-macro: 0.67'),\n",
       " Document(metadata={'source': 'table/recall.csv', 'row': 11}, page_content='\\ufeffModel: RNN+CNN\\nRecall-weight: 0.91\\nRecall-macro: 0.73'),\n",
       " Document(metadata={'source': 'table/vif.csv', 'row': 0}, page_content='\\ufeff변수: const\\nVIF 값: 33.85699'),\n",
       " Document(metadata={'source': 'table/vif.csv', 'row': 1}, page_content='\\ufeff변수: gender\\nVIF 값: 1.016757'),\n",
       " Document(metadata={'source': 'table/vif.csv', 'row': 2}, page_content='\\ufeff변수: age\\nVIF 값: 2.41567'),\n",
       " Document(metadata={'source': 'table/vif.csv', 'row': 3}, page_content='\\ufeff변수: hypertension\\nVIF 값: 1.113385'),\n",
       " Document(metadata={'source': 'table/vif.csv', 'row': 4}, page_content='\\ufeff변수: heart_disease\\nVIF 값: 1.112824'),\n",
       " Document(metadata={'source': 'table/vif.csv', 'row': 5}, page_content='\\ufeff변수: ever_married\\nVIF 값: 1.955416'),\n",
       " Document(metadata={'source': 'table/vif.csv', 'row': 6}, page_content='\\ufeff변수: work_type\\nVIF 값: 1.339696'),\n",
       " Document(metadata={'source': 'table/vif.csv', 'row': 7}, page_content='\\ufeff변수: Residence_type\\nVIF 값: 1.001191'),\n",
       " Document(metadata={'source': 'table/vif.csv', 'row': 8}, page_content='\\ufeff변수: avg_glucose_level\\nVIF 값: 1.106672'),\n",
       " Document(metadata={'source': 'table/vif.csv', 'row': 9}, page_content='\\ufeff변수: bmi\\nVIF 값: 1.242843'),\n",
       " Document(metadata={'source': 'table/vif.csv', 'row': 10}, page_content='\\ufeff변수: smoking_status\\nVIF 값: 1.216712'),\n",
       " Document(metadata={'source': 'table/vif.csv', 'row': 11}, page_content='\\ufeff변수: stroke\\nVIF 값: 1.087601')]"
      ]
     },
     "execution_count": 4,
     "metadata": {},
     "output_type": "execute_result"
    }
   ],
   "source": [
    "from langchain_community.document_loaders import CSVLoader\n",
    "\n",
    "csv_files = [\"table/accuracy.csv\",\n",
    "            \"table/recall.csv\",\n",
    "            \"table/vif.csv\"]\n",
    "\n",
    "csv_documents = []\n",
    "\n",
    "for csv_file in csv_files:\n",
    "    loader = CSVLoader(file_path=csv_file)\n",
    "    csv_documents.extend(loader.load())\n",
    "\n",
    "\n",
    "csv_documents\n"
   ]
  },
  {
   "cell_type": "code",
   "execution_count": 5,
   "metadata": {},
   "outputs": [],
   "source": [
    "from langchain_text_splitters import RecursiveCharacterTextSplitter\n",
    "text_splitter = RecursiveCharacterTextSplitter(\n",
    "    chunk_size=1000, chunk_overlap=50\n",
    ")\n",
    "documents = text_splitter.split_documents(docs)"
   ]
  },
  {
   "cell_type": "code",
   "execution_count": 6,
   "metadata": {},
   "outputs": [
    {
     "data": {
      "text/plain": [
       "17"
      ]
     },
     "execution_count": 6,
     "metadata": {},
     "output_type": "execute_result"
    }
   ],
   "source": [
    "len(documents)"
   ]
  },
  {
   "cell_type": "code",
   "execution_count": null,
   "metadata": {},
   "outputs": [],
   "source": []
  },
  {
   "cell_type": "code",
   "execution_count": 7,
   "metadata": {},
   "outputs": [],
   "source": [
    "from langchain_openai import ChatOpenAI, OpenAIEmbeddings\n",
    "from langchain_community.vectorstores import Chroma\n",
    "\n",
    "embeddings = OpenAIEmbeddings(model=\"text-embedding-3-small\")\n",
    "\n",
    "vector_store = Chroma.from_documents(documents, embeddings)\n",
    "retriever = vector_store.as_retriever()"
   ]
  },
  {
   "cell_type": "code",
   "execution_count": 8,
   "metadata": {},
   "outputs": [
    {
     "data": {
      "text/plain": [
       "[Document(metadata={'page': 4, 'source': './data/asdff.pdf'}, page_content='서는 Recall을 고려한다. weight평가는 클래스의 데\\n이터 비율에 따라 가중치를 주어지는 방법이다.\\nmacro평가 는 클래스의 성능 지표를 동일한 비율로\\n평균을 내는 방법이다. 본 연구에서 사용한 데이터가\\n5:5 데이터가 아니기 때문에, macro평균을 제시한다.\\n수식은 다음과 같다.\\nVIF Factor features\\n33.856990 const\\n1.016757 gender\\n2.415670 age\\n1.113385 hypertension\\n1.112824 heart_disease\\n1.955416 ever_married\\n1.339696 work_type\\n1.001191 Residence_type\\n1.106672 avg_glucose_level\\n1.242843 bmi\\n1.216712 smoking_status\\n1.087601 strokeModel Recall-weight Recall-macro\\nADA 0.74 0.50\\nLR 0.77 0.47\\nXGB 0.74 0.49\\nRF 0.84 0.47\\nKNN 0.75 0.50\\nSVC 0.73 0.50\\nBNB 0.74 0.54\\nRidge 0.75 0.50\\nDT 0.70 0.55\\nGNB 0.79 0.62\\nDNN 0.87 0.67\\nRNN+CNN 0.91 0.735'),\n",
       " Document(metadata={'page': 4, 'source': './data/asdff.pdf'}, page_content='다중공선성은 독립변수간 상관관계가 있는지 나타\\n내는 지표이다. 본 연구에서 사용한 데이터에서는 각\\n독립변수는 각 column이 된다. 만약 다중공선성이 높\\n다면, 각 column끼리 비슷하다는 것을 의미하며, 변\\n수간의 차이가 없음을 의미한다. 데이터에서 column\\n을 너무 많이 분할하면 나타나는 현상으로, 문제가 된\\n다면 변수를 삭제한다거나, PCA(주성분 분석) 또는 정\\n규화를 이용해야한다. 상수항(const)은 독립변수 들이\\n함께 사용될 때 발생하는 자연스러운 결과이며, 독립\\n변수 간의 다중공선성 문제를 반영하지않는다. 본 연\\n구의 데이터에선 각 각 독립변수는 데이터에서 각각의\\ncolumn을 의미한다. 실제로 중요한값은 독립변수의\\nVIF값들이다[7].\\nTable.1 VIF(Variance Inflation Factors)\\n위 표1은 VIF(분산팽창인수)을 나타낸다. 이 값은,\\n다중공선성을 나타내는 척도다. VIF값이 5보다 크면\\n다중 공선성에 문제가 있어 회귀 계수에 대한 신뢰할\\n수 없는 추정치와 해석이 발생할 수 있다. 이 값이 5\\n미만이면 다중공선성 문제가 크지 않다고 판단한다.\\n위에서 언급했듯이, 상수항이 높은 VIF값은 크게 신경\\n쓰지 않아도 된다[8]. 수식을 쉽게 표현하면 다음과 같\\n다.\\n식\\n(2)\\n4.3 Accuracy와 Recall\\nTable.2 AccuracyModel Accuracy\\nXGB 0.91\\nSVC 0.91\\nRidge 0.88\\nLR 0.89\\nADA 0.92\\nKNN 0.89\\nRF 0.89\\nDT 0.90\\nBNB 0.84\\nGNB 0.85\\nDNN 0.88\\nRNN+CNN 0.92\\n위 표2는 각각 모델별 Accuracy를 보여준다. 전체적\\n으로 높은 정확도를 보여준다. 수식을 쉽게 표현하면\\n다음과 같다.\\n식(3)\\nTable.3 Recall\\n위 표3은 Recall값을 즉, 재현율을 보여준다. 값들\\n은 소수점 두 번째 자리까지 나타낸다. 질병에 관해\\n서는 Recall을 고려한다. weight평가는 클래스의 데'),\n",
       " Document(metadata={'page': 1, 'source': './data/asdff.pdf'}, page_content='을 0.1로 추가하였다.\\nⅡ. 기존연구\\n2.1 뇌졸중 예측에 대한 통합 기계 학습 접근 방식\\n뇌졸중은 미국에서 사망의 세 번째 주요 원인이자\\n심각한 장기 장애의 주요 원인이다. 뇌졸중의 정확한\\n예측은 조기 개입과 치료에 매우 중요하다. 이 연구에\\n서는 Cox 비례 위험 모델과 CHS(Cardiovascular\\nHealth Study)데이터 세트에서 뇌졸중 예측을 위한 기\\n계 학습 접근 방식을 비교한다. 의료 데이터 세트에서\\n데이터 관계, 특징 선택 및 예측의 일반적인 문제를 고\\n려한다. 제안된 Heuristic 평균을 기반으로 강력한 기\\n능을 선택하는 새로운 자동 기능 선택 알고리즘을 제\\n안한다. SVM(Support Vector Machines)과 결합하여\\n제안된 기능 선택 알고리즘은 Cox 비례 위험 모델 및\\nL1 정규화된 Cox 기능 선택 알고리즘과 비교하여 ROC\\n곡선(AUC) 아래 더 큰 영역을 달성한다. 또한, 우리는\\nCox 모델보다 더 나은 일치 지수를 달성하기 위해 마\\n진 기반 분류기의 개념과 중도 회귀 분석을 결합한 마\\n진 기반 중도절단 회귀 알고리즘을 제시한다. 전반적\\n으로, 우리의 접근 방식은 AUC와 일치 지수의 두 메트\\n릭 모두에서 현재의 최첨단 기술을 능가한다. 연구 작\\n업은 전통적인 접근 방식으로 발견되지 않은 잠재적인'),\n",
       " Document(metadata={'page': 5, 'source': './data/asdff.pdf'}, page_content='식(4)\\nTable.4 ROC-AUC\\nModel ROC-AUC\\nADA 0.51\\nLR 0.5\\nXGB 0.51\\nRF 0.5\\nKNN 0.5\\nSVC 0.5\\nBNB 0.54\\nRidge 0.5\\nDT 0.54\\nGNB 0.62\\nDNN 0.81\\nRNN+CNN 0.83\\n위 표4는 ROC-AUC값을 보여준다. 데이터가 불균\\n형하기 때문에, 그림.6 Distribution Stroke 그림에서\\n불균형 데이터 이기 때문에 ROC-AUC평가방법은 의\\n미가 있다[9]. 딥러닝 모델의 결과값이 현저하게 좋\\n음을 보여준다. 보통 0.8이 넘으면, 모델의 점수는\\n높다고 평가한다.[10] 수식을 쉽게 표현하면 다음과\\n같다.\\n식(5)\\nⅤ. 결론 및 향후연구\\n본 연구는 Kaggle 의 stroke data를 가지고와 뇌졸\\n중 데이터를 통해서 머신러닝 분류기법과 딥러닝의\\nDNN, CNN+RNN의 앙상블 기법을 통해 뇌졸중을\\n판단한다. 텍스트처리, 자연어처리, 시퀀스 데이터,\\n시계열 데이터에 자주쓰이는 RNN과 이미지 특징추\\n출에 자주 쓰이고, 가끔은 텍스트 처리에 사용되는\\nCNN을 앙상블 하여 이용한다. RNN과 CNN을 앙상\\n블 하여 질병 데이터를 가지고 이진분류를 수행하면,\\n다양한 데이터 특성을 효과적으로 학습하고, 더 나은\\n일반화 성능과 예측 정확도를 얻을 수 있다. 이는 특\\n히 복잡하고 다양한 형태의 의료 데이터를 처리하는\\n데 매우 유용하다. 그에 대한 평가 방법으로는 Accur\\nacy와 Recall을 사용했고, Accuracy 방면에서는 모두\\n좋은 결과값을 가졌지만 Recall방면에서는 앙상블 기법이 더 좋은 성능을 가졌다. 또한, ROC-AUC에서는\\n딥러닝 기법들이 좋은 성능을 가지는 것을 확인할\\n수 있다.\\n본 연구는 비교적 작은데이터셋과 작은 모델로 각\\ncolumn의 유무별로 따져보아 뇌졸중을 판단하는데\\n도움을 준다. 이것은 환자의 간단한 문진표 작성을\\n통해 뇌졸중에 경고와 뇌졸중 검사를 장려 할 수 있\\n다. 향후 연구로 문진표를 기반으로, 추가적인 뇌졸')]"
      ]
     },
     "execution_count": 8,
     "metadata": {},
     "output_type": "execute_result"
    }
   ],
   "source": [
    "retriever.invoke(\"본 논문에서 각각 알고리즘마다 recall값 알려줘\")"
   ]
  },
  {
   "cell_type": "code",
   "execution_count": 9,
   "metadata": {},
   "outputs": [
    {
     "data": {
      "text/plain": [
       "[Document(metadata={'source': 'table/accuracy.csv', 'row': 0}, page_content='\\ufeff알고리즘: XGB\\nAccuracy: 0.91'),\n",
       " Document(metadata={'source': 'table/accuracy.csv', 'row': 1}, page_content='\\ufeff알고리즘: SVC\\nAccuracy: 0.91'),\n",
       " Document(metadata={'source': 'table/accuracy.csv', 'row': 2}, page_content='\\ufeff알고리즘: Ridge\\nAccuracy: 0.88'),\n",
       " Document(metadata={'source': 'table/accuracy.csv', 'row': 3}, page_content='\\ufeff알고리즘: LR\\nAccuracy: 0.89'),\n",
       " Document(metadata={'source': 'table/accuracy.csv', 'row': 4}, page_content='\\ufeff알고리즘: ADA\\nAccuracy: 0.92'),\n",
       " Document(metadata={'source': 'table/accuracy.csv', 'row': 5}, page_content='\\ufeff알고리즘: KNN\\nAccuracy: 0.89'),\n",
       " Document(metadata={'source': 'table/accuracy.csv', 'row': 6}, page_content='\\ufeff알고리즘: RF\\nAccuracy: 0.89'),\n",
       " Document(metadata={'source': 'table/accuracy.csv', 'row': 7}, page_content='\\ufeff알고리즘: DT\\nAccuracy: 0.9'),\n",
       " Document(metadata={'source': 'table/accuracy.csv', 'row': 8}, page_content='\\ufeff알고리즘: BNB\\nAccuracy: 0.84'),\n",
       " Document(metadata={'source': 'table/accuracy.csv', 'row': 9}, page_content='\\ufeff알고리즘: GNB\\nAccuracy: 0.85'),\n",
       " Document(metadata={'source': 'table/accuracy.csv', 'row': 10}, page_content='\\ufeff알고리즘: DNN\\nAccuracy: 0.88'),\n",
       " Document(metadata={'source': 'table/accuracy.csv', 'row': 11}, page_content='\\ufeff알고리즘: RNN+CNN\\nAccuracy: 0.92'),\n",
       " Document(metadata={'source': 'table/recall.csv', 'row': 0}, page_content='\\ufeffModel: ADA\\nRecall-weight: 0.74\\nRecall-macro: 0.5'),\n",
       " Document(metadata={'source': 'table/recall.csv', 'row': 1}, page_content='\\ufeffModel: LR\\nRecall-weight: 0.77\\nRecall-macro: 0.47'),\n",
       " Document(metadata={'source': 'table/recall.csv', 'row': 2}, page_content='\\ufeffModel: XGB\\nRecall-weight: 0.74\\nRecall-macro: 0.49'),\n",
       " Document(metadata={'source': 'table/recall.csv', 'row': 3}, page_content='\\ufeffModel: RF\\nRecall-weight: 0.84\\nRecall-macro: 0.47'),\n",
       " Document(metadata={'source': 'table/recall.csv', 'row': 4}, page_content='\\ufeffModel: KNN\\nRecall-weight: 0.75\\nRecall-macro: 0.5'),\n",
       " Document(metadata={'source': 'table/recall.csv', 'row': 5}, page_content='\\ufeffModel: SVC\\nRecall-weight: 0.73\\nRecall-macro: 0.5'),\n",
       " Document(metadata={'source': 'table/recall.csv', 'row': 6}, page_content='\\ufeffModel: BNB\\nRecall-weight: 0.74\\nRecall-macro: 0.54'),\n",
       " Document(metadata={'source': 'table/recall.csv', 'row': 7}, page_content='\\ufeffModel: Ridge\\nRecall-weight: 0.75\\nRecall-macro: 0.5'),\n",
       " Document(metadata={'source': 'table/recall.csv', 'row': 8}, page_content='\\ufeffModel: DT\\nRecall-weight: 0.7\\nRecall-macro: 0.55'),\n",
       " Document(metadata={'source': 'table/recall.csv', 'row': 9}, page_content='\\ufeffModel: GNB\\nRecall-weight: 0.79\\nRecall-macro: 0.62'),\n",
       " Document(metadata={'source': 'table/recall.csv', 'row': 10}, page_content='\\ufeffModel: DNN\\nRecall-weight: 0.87\\nRecall-macro: 0.67'),\n",
       " Document(metadata={'source': 'table/recall.csv', 'row': 11}, page_content='\\ufeffModel: RNN+CNN\\nRecall-weight: 0.91\\nRecall-macro: 0.73'),\n",
       " Document(metadata={'source': 'table/vif.csv', 'row': 0}, page_content='\\ufeff변수: const\\nVIF 값: 33.85699'),\n",
       " Document(metadata={'source': 'table/vif.csv', 'row': 1}, page_content='\\ufeff변수: gender\\nVIF 값: 1.016757'),\n",
       " Document(metadata={'source': 'table/vif.csv', 'row': 2}, page_content='\\ufeff변수: age\\nVIF 값: 2.41567'),\n",
       " Document(metadata={'source': 'table/vif.csv', 'row': 3}, page_content='\\ufeff변수: hypertension\\nVIF 값: 1.113385'),\n",
       " Document(metadata={'source': 'table/vif.csv', 'row': 4}, page_content='\\ufeff변수: heart_disease\\nVIF 값: 1.112824'),\n",
       " Document(metadata={'source': 'table/vif.csv', 'row': 5}, page_content='\\ufeff변수: ever_married\\nVIF 값: 1.955416'),\n",
       " Document(metadata={'source': 'table/vif.csv', 'row': 6}, page_content='\\ufeff변수: work_type\\nVIF 값: 1.339696'),\n",
       " Document(metadata={'source': 'table/vif.csv', 'row': 7}, page_content='\\ufeff변수: Residence_type\\nVIF 값: 1.001191'),\n",
       " Document(metadata={'source': 'table/vif.csv', 'row': 8}, page_content='\\ufeff변수: avg_glucose_level\\nVIF 값: 1.106672'),\n",
       " Document(metadata={'source': 'table/vif.csv', 'row': 9}, page_content='\\ufeff변수: bmi\\nVIF 값: 1.242843'),\n",
       " Document(metadata={'source': 'table/vif.csv', 'row': 10}, page_content='\\ufeff변수: smoking_status\\nVIF 값: 1.216712'),\n",
       " Document(metadata={'source': 'table/vif.csv', 'row': 11}, page_content='\\ufeff변수: stroke\\nVIF 값: 1.087601')]"
      ]
     },
     "execution_count": 9,
     "metadata": {},
     "output_type": "execute_result"
    }
   ],
   "source": [
    "csv_documents"
   ]
  },
  {
   "cell_type": "code",
   "execution_count": 10,
   "metadata": {},
   "outputs": [],
   "source": [
    "table_vector_store = Chroma.from_documents(csv_documents, embeddings)"
   ]
  },
  {
   "cell_type": "code",
   "execution_count": 11,
   "metadata": {},
   "outputs": [],
   "source": [
    "table_retriever = table_vector_store.as_retriever()"
   ]
  },
  {
   "cell_type": "code",
   "execution_count": 12,
   "metadata": {},
   "outputs": [],
   "source": [
    "from langchain_core.prompts import PromptTemplate\n",
    "\n",
    "prompt = PromptTemplate.from_template(\n",
    "    \"\"\"\n",
    "    You are an assistant for question-answering tasks. \n",
    "    Use the following pieces of retrieved context to answer the question. \n",
    "    If you don't know the answer, just say that you don't know. \n",
    "    Please write your answer in a markdown table format with the main points.\n",
    "    Be sure to include your source and page numbers in your answer.\n",
    "    If I want to query the values from the Table, please use them to provide an answer.\n",
    "    Answer in Korean.\n",
    "\n",
    "    #Example Format:\n",
    "    (brief summary of the answer)\n",
    "    (table)\n",
    "    (detailed answer to the question)\n",
    "\n",
    "    **출처**\n",
    "    - (page source and page number)\n",
    "\n",
    "    #Question: \n",
    "    {question}\n",
    "\n",
    "    #Context: \n",
    "    {context} \n",
    "\n",
    "    #Table:\n",
    "    {table}\n",
    "\n",
    "    #Answer:\n",
    "    \"\"\"\n",
    ")\n",
    "\n",
    "llm = ChatOpenAI(model=\"gpt-4o-mini\")\n",
    "\n"
   ]
  },
  {
   "cell_type": "code",
   "execution_count": 13,
   "metadata": {},
   "outputs": [],
   "source": [
    "from langchain_core.runnables import RunnablePassthrough\n",
    "from langchain_core.output_parsers import StrOutputParser\n",
    "chain = ({\"context\": retriever, \"table\": table_retriever,\"question\": RunnablePassthrough()}\n",
    "         | prompt\n",
    "         | llm\n",
    "         | StrOutputParser()\n",
    "         )"
   ]
  },
  {
   "cell_type": "code",
   "execution_count": 14,
   "metadata": {},
   "outputs": [],
   "source": [
    "response= chain.invoke(\"본 논문에서 각각 알고리즘마다 recall값 알려줘\")"
   ]
  },
  {
   "cell_type": "code",
   "execution_count": 15,
   "metadata": {},
   "outputs": [
    {
     "name": "stdout",
     "output_type": "stream",
     "text": [
      "각 알고리즘의 recall 값은 다음과 같습니다.\n",
      "\n",
      "| 모델         | Recall-weight | Recall-macro |\n",
      "|--------------|---------------|---------------|\n",
      "| ADA          | 0.74          | 0.50          |\n",
      "| LR           | 0.77          | 0.47          |\n",
      "| XGB          | 0.74          | 0.49          |\n",
      "| RF           | 0.84          | 0.47          |\n",
      "| KNN          | 0.75          | 0.50          |\n",
      "| SVC          | 0.73          | 0.50          |\n",
      "| BNB          | 0.74          | 0.54          |\n",
      "| Ridge        | 0.75          | 0.50          |\n",
      "| DT           | 0.70          | 0.55          |\n",
      "| GNB          | 0.79          | 0.62          |\n",
      "| DNN          | 0.87          | 0.67          |\n",
      "| RNN+CNN      | 0.91          | 0.735         |\n",
      "\n",
      "**출처**\n",
      "- ./data/asdff.pdf, 페이지 4\n"
     ]
    }
   ],
   "source": [
    "print(response)"
   ]
  },
  {
   "cell_type": "code",
   "execution_count": 16,
   "metadata": {},
   "outputs": [],
   "source": [
    "response2 = chain.invoke(\"본 논문에서 제시하는 변수마다 vif값 알려줘\")"
   ]
  },
  {
   "cell_type": "code",
   "execution_count": 17,
   "metadata": {},
   "outputs": [
    {
     "name": "stdout",
     "output_type": "stream",
     "text": [
      "다음은 본 논문에서 제시하는 각 변수의 VIF 값입니다.\n",
      "\n",
      "| 변수        | VIF 값      |\n",
      "|-------------|-------------|\n",
      "| const       | 33.85699    |\n",
      "| bmi         | 1.242843    |\n",
      "| work_type   | 1.339696    |\n",
      "| gender      | 1.016757    |\n",
      "\n",
      "이 값들은 각 변수의 다중공선성 정도를 나타내며, VIF 값이 높을수록 다른 변수와의 상관관계가 높음을 의미합니다.\n",
      "\n",
      "**출처**\n",
      "- table/vif.csv, 페이지 번호: 1, 2, 3, 4\n"
     ]
    }
   ],
   "source": [
    "print(response2)"
   ]
  },
  {
   "cell_type": "code",
   "execution_count": 18,
   "metadata": {},
   "outputs": [],
   "source": [
    "response3 = chain.invoke(\"본 논문에서 제시하는 모든 알고리즘의 Accuracy값 알려줘\")"
   ]
  },
  {
   "cell_type": "code",
   "execution_count": 19,
   "metadata": {},
   "outputs": [
    {
     "name": "stdout",
     "output_type": "stream",
     "text": [
      "알고리즘의 Accuracy 값은 다음과 같습니다.\n",
      "\n",
      "| 알고리즘  | Accuracy |\n",
      "|-----------|----------|\n",
      "| ADA       | 0.92     |\n",
      "| LR        | 0.89     |\n",
      "| DNN       | 0.88     |\n",
      "| SVC       | 0.91     |\n",
      "\n",
      "각 알고리즘의 정확도는 ADA가 0.92로 가장 높고, DNN이 0.88로 가장 낮습니다. LR과 SVC는 각각 0.89와 0.91의 정확도를 보입니다.\n",
      "\n",
      "**출처**\n",
      "- table/accuracy.csv, 페이지 번호: 1, 3, 4, 10\n"
     ]
    }
   ],
   "source": [
    "print(response3)"
   ]
  },
  {
   "cell_type": "code",
   "execution_count": 16,
   "metadata": {},
   "outputs": [
    {
     "name": "stdout",
     "output_type": "stream",
     "text": [
      "모델링 과정에서 사용된 알고리즘 및 방법론에 대한 설명입니다.\n",
      "\n",
      "| 주요 사항                   | 내용                                                      |\n",
      "|----------------------------|---------------------------------------------------------|\n",
      "| 데이터 전처리               | 표준화(standard scaler) 사용, train/valid/test 데이터 비율 0.6/0.2/0.2 |\n",
      "| 머신러닝 알고리즘          | Logistic Regression, Light GBM, CatBoost, Naive Bayes, RandomForest, Decision Tree |\n",
      "| 딥러닝 모델                | DNN, RNN과 CNN 결합, 5개 은닉층                      |\n",
      "| 활성화 함수                | 숨겨진 층: ReLU, 출력 층: sigmoid                     |\n",
      "| 최적화 알고리즘            | Adam 사용, 기울기 업데이트                            |\n",
      "| 손실 함수                  | Binary Cross Entropy                                    |\n",
      "| RNN 및 CNN 구조            | RNN: 임베딩 차원 128, LSTM; CNN: Conv1d, 커널 수 32, 커널 크기 5 |\n",
      "\n",
      "**출처**\n",
      "- ./data/asdff.pdf (페이지 1)\n"
     ]
    }
   ],
   "source": [
    "response4 = chain.invoke(\"\")\n",
    "print(response4)"
   ]
  }
 ],
 "metadata": {
  "kernelspec": {
   "display_name": "langchain-kr-gLkynrUQ-py3.11",
   "language": "python",
   "name": "python3"
  },
  "language_info": {
   "codemirror_mode": {
    "name": "ipython",
    "version": 3
   },
   "file_extension": ".py",
   "mimetype": "text/x-python",
   "name": "python",
   "nbconvert_exporter": "python",
   "pygments_lexer": "ipython3",
   "version": "3.11.9"
  }
 },
 "nbformat": 4,
 "nbformat_minor": 2
}
