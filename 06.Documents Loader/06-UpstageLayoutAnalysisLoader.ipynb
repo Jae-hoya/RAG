{
 "cells": [
  {
   "cell_type": "markdown",
   "metadata": {},
   "source": [
    "# UpstageLayoutAnalysisLoader\n",
    "`UpstageLayoutAnalysisLoader` 는 Upstage AI에서 제공하는 문서 분석 도구로, LangChain 프레임워크와 통합되어 사용할 수 있는 문서 로더입니다.\n",
    "\n",
    "주요 특징:\n",
    "\n",
    "- PDF, 이미지 등 다양한 형식의 문서에서 레이아웃 분석 수행\n",
    "- 문서의 구조적 요소(제목, 단락, 표, 이미지 등)를 자동으로 인식 및 추출\n",
    "- OCR 기능 지원 (선택적)\n",
    "UpstageLayoutAnalysisLoader는 단순한 텍스트 추출을 넘어 문서의 구조를 이해하고 요소 간 관계를 파악하여 보다 정확한 문서 분석을 가능하게 합니다.\n",
    "\n",
    "설치\n",
    "\n",
    "`langchain-upstage` 패키지를 설치 후 사용합니다.\n",
    "\n",
    "pip install -U langchain-upstage\n",
    "API Key 설정\n",
    "\n",
    "Upstage API KEY 발급 링크: https://console.upstage.ai/\n",
    ".env 파일에 UPSTAGE_API_KEY 키를 설정합니다.\n",
    "\n"
   ]
  },
  {
   "cell_type": "markdown",
   "metadata": {},
   "source": [
    "# UpstageLayoutAnalysisLoader\n",
    "__주요 파라미터__\n",
    "\n",
    "- `file_path`: 분석할 문서 경로\n",
    "- `output_type`: 출력 형식 [(기본값)'html', 'text']\n",
    "- `split`: 문서 분할 방식 ['none', 'element', 'page']\n",
    "- `use_ocr=True`: OCR 사용\n",
    "- `exclude=[\"header\", \"footer\"]`: 헤더, 푸터 제외"
   ]
  },
  {
   "cell_type": "code",
   "execution_count": 1,
   "metadata": {},
   "outputs": [],
   "source": [
    "from langchain_upstage import UpstageLayoutAnalysisLoader"
   ]
  },
  {
   "cell_type": "code",
   "execution_count": 2,
   "metadata": {},
   "outputs": [],
   "source": [
    "file_path = \"./data/SPRI_AI_Brief_2023년12월호_F.pdf\""
   ]
  },
  {
   "cell_type": "code",
   "execution_count": 3,
   "metadata": {},
   "outputs": [],
   "source": [
    "loader = UpstageLayoutAnalysisLoader(\n",
    "    file_path,\n",
    "    output_type=\"text\", #html\n",
    "    split=\"page\", #element\n",
    "    use_ocr=True,\n",
    "    exclude=[\"header\", \"footer\"], #\"fifure\", \"table\"들도 있음.\n",
    ")"
   ]
  },
  {
   "cell_type": "code",
   "execution_count": 4,
   "metadata": {},
   "outputs": [],
   "source": [
    "docs = loader.load()"
   ]
  },
  {
   "cell_type": "code",
   "execution_count": 6,
   "metadata": {},
   "outputs": [
    {
     "data": {
      "text/plain": [
       "23"
      ]
     },
     "execution_count": 6,
     "metadata": {},
     "output_type": "execute_result"
    }
   ],
   "source": [
    "len(docs)"
   ]
  },
  {
   "cell_type": "code",
   "execution_count": 5,
   "metadata": {},
   "outputs": [
    {
     "name": "stdout",
     "output_type": "stream",
     "text": [
      "page_content='SPRi AI Brief 인공지능 산업의 최신 동향 2023년 12월호' metadata={'page': 1}\n",
      "page_content='2023년 12월호 CONTENTS I 인공지능 산업 동향 브리프 1. 정책/법제 ▷ 미국, 안전하고 신뢰할 수 있는 AI 개발과 사용에 관한 행정명령 발표 1\n",
      "▷ G7, 히로시마 AI 프로세스를 통해 AI 기업 대상 국제 행동강령에 합의 2\n",
      "▷ 영국 AI 안전성 정상회의에 참가한 28개국, AI 위험에 공동 대응 선언 3\n",
      "▷ 미국 법원, 예술가들이 생성 AI 기업에 제기한 저작권 소송 기각 4\n",
      "▷ 미국 연방거래위원회, 저작권청에 소비자 보호와 경쟁 측면의 AI 의견서 제출 5\n",
      "▷ EU AI 법 3자 협상, 기반모델 규제 관련 견해차로 난항 6 2. 기업/산업 ▷ 미국 프런티어 모델 포럼, 1,000만 달러 규모의 AI 안전 기금 조성 7\n",
      "▷ 코히어, 데이터 투명성 확보를 위한 데이터 출처 탐색기 공개 8\n",
      "▷ 알리바바 클라우드, 최신 LLM '통이치엔원 2.0' 공개 9\n",
      "▷ 삼성전자, 자체 개발 생성 AI '삼성 가우스' 공개 10\n",
      "▷ 구글, 앤스로픽에 20억 달러 투자로 생성 AI 협력 강화 11\n",
      "▷ IDC, 2027년 AI 소프트웨어 매출 2,500억 달러 돌파 전망 12\n",
      "▷ 빌 게이츠, AI 에이전트로 인한 컴퓨터 사용의 패러다임 변화 전망 13\n",
      "▷ 유튜브, 2024년부터 AI 생성 콘텐츠 표시 의무화 14 3. 기술/연구 ▷ 영국 과학혁신기술부, AI 안전 연구소 설립 발표 15\n",
      "▷ 구글 딥마인드, 범용 AI 모델의 기능과 동작에 대한 분류 체계 발표 16\n",
      "▷ 갈릴레오의 LLM 환각 지수 평가에서 GPT-4가 가장 우수 17 4. 인력/교육 ▷ 영국 옥스퍼드 인터넷 연구소, AI 기술자의 임금이 평균 21% 높아 18 II. 주요 행사 ▷ CES 2024 19\n",
      "▷ AIMLA 2024 19\n",
      "▷ AAAI Conference on Artificial Intelligence 19' metadata={'page': 2}\n",
      "page_content='I . 인공지능 산업 동향 브리프' metadata={'page': 3}\n"
     ]
    }
   ],
   "source": [
    "for doc in docs[:3]:\n",
    "    print(doc)"
   ]
  },
  {
   "cell_type": "code",
   "execution_count": 7,
   "metadata": {},
   "outputs": [],
   "source": [
    "loader = UpstageLayoutAnalysisLoader(\n",
    "    file_path,\n",
    "    output_type=\"html\",\n",
    "    split=\"page\",\n",
    "    use_ocr=True,\n",
    "    exclude=[\"header\", \"footer\"], #\"fifure\", \"table\"들도 있음.\n",
    ")"
   ]
  },
  {
   "cell_type": "code",
   "execution_count": 8,
   "metadata": {},
   "outputs": [],
   "source": [
    "docs = loader.load()"
   ]
  },
  {
   "cell_type": "code",
   "execution_count": 9,
   "metadata": {},
   "outputs": [
    {
     "data": {
      "text/plain": [
       "23"
      ]
     },
     "execution_count": 9,
     "metadata": {},
     "output_type": "execute_result"
    }
   ],
   "source": [
    "len(docs)"
   ]
  },
  {
   "cell_type": "code",
   "execution_count": 10,
   "metadata": {},
   "outputs": [
    {
     "name": "stdout",
     "output_type": "stream",
     "text": [
      "page_content='<h1 id='0' style='font-size:20px'>SPRi AI Brief</h1> <h1 id='1' style='font-size:18px'>인공지능 산업의 최신 동향</h1> <h1 id='2' style='font-size:16px'>2023년 12월호</h1>' metadata={'page': 1}\n",
      "page_content='<p id='4' data-category='paragraph' style='font-size:16px'>2023년 12월호</p> <h1 id='5' style='font-size:22px'>CONTENTS</h1> <h1 id='6' style='font-size:20px'>I 인공지능 산업 동향 브리프</h1> <p id='7' data-category='paragraph' style='font-size:16px'>1. 정책/법제</p> <br><p id='8' data-category='list' style='font-size:14px'>▷ 미국, 안전하고 신뢰할 수 있는 AI 개발과 사용에 관한 행정명령 발표 1<br>▷ G7, 히로시마 AI 프로세스를 통해 AI 기업 대상 국제 행동강령에 합의 2<br>▷ 영국 AI 안전성 정상회의에 참가한 28개국, AI 위험에 공동 대응 선언 3<br>▷ 미국 법원, 예술가들이 생성 AI 기업에 제기한 저작권 소송 기각 4<br>▷ 미국 연방거래위원회, 저작권청에 소비자 보호와 경쟁 측면의 AI 의견서 제출 5<br>▷ EU AI 법 3자 협상, 기반모델 규제 관련 견해차로 난항 6</p> <p id='9' data-category='paragraph' style='font-size:16px'>2. 기업/산업</p> <br><p id='10' data-category='list' style='font-size:14px'>▷ 미국 프런티어 모델 포럼, 1,000만 달러 규모의 AI 안전 기금 조성 7<br>▷ 코히어, 데이터 투명성 확보를 위한 데이터 출처 탐색기 공개 8<br>▷ 알리바바 클라우드, 최신 LLM '통이치엔원 2.0' 공개 9<br>▷ 삼성전자, 자체 개발 생성 AI '삼성 가우스' 공개 10<br>▷ 구글, 앤스로픽에 20억 달러 투자로 생성 AI 협력 강화 11<br>▷ IDC, 2027년 AI 소프트웨어 매출 2,500억 달러 돌파 전망 12<br>▷ 빌 게이츠, AI 에이전트로 인한 컴퓨터 사용의 패러다임 변화 전망 13<br>▷ 유튜브, 2024년부터 AI 생성 콘텐츠 표시 의무화 14</p> <p id='11' data-category='paragraph' style='font-size:18px'>3. 기술/연구</p> <br><p id='12' data-category='list' style='font-size:14px'>▷ 영국 과학혁신기술부, AI 안전 연구소 설립 발표 15<br>▷ 구글 딥마인드, 범용 AI 모델의 기능과 동작에 대한 분류 체계 발표 16<br>▷ 갈릴레오의 LLM 환각 지수 평가에서 GPT-4가 가장 우수 17</p> <p id='13' data-category='paragraph' style='font-size:16px'>4. 인력/교육</p> <br><p id='14' data-category='paragraph' style='font-size:16px'>▷ 영국 옥스퍼드 인터넷 연구소, AI 기술자의 임금이 평균 21% 높아 18</p> <p id='15' data-category='paragraph' style='font-size:20px'>II. 주요 행사</p> <p id='16' data-category='list' style='font-size:14px'>▷ CES 2024 19<br>▷ AIMLA 2024 19<br>▷ AAAI Conference on Artificial Intelligence 19</p>' metadata={'page': 2}\n",
      "page_content='<h1 id='17' style='font-size:14px'>I . 인공지능 산업 동향 브리프</h1>' metadata={'page': 3}\n"
     ]
    }
   ],
   "source": [
    "for doc in docs[:3]:\n",
    "    print(doc)"
   ]
  },
  {
   "cell_type": "code",
   "execution_count": 11,
   "metadata": {},
   "outputs": [],
   "source": [
    "loader = UpstageLayoutAnalysisLoader(\n",
    "    file_path,\n",
    "    output_type=\"text\",\n",
    "    split=\"element\",\n",
    "    use_ocr=True,\n",
    "    exclude=[\"header\", \"footer\"], #\"fifure\", \"table\"들도 있음.\n",
    ")"
   ]
  },
  {
   "cell_type": "code",
   "execution_count": 12,
   "metadata": {},
   "outputs": [],
   "source": [
    "docs = loader.load()"
   ]
  },
  {
   "cell_type": "code",
   "execution_count": 13,
   "metadata": {},
   "outputs": [
    {
     "name": "stdout",
     "output_type": "stream",
     "text": [
      "page_content='SPRi AI Brief' metadata={'page': 1, 'id': 0, 'bounding_box': '[{\"x\": 175, \"y\": 301}, {\"x\": 1110, \"y\": 301}, {\"x\": 1110, \"y\": 428}, {\"x\": 175, \"y\": 428}]', 'category': 'heading1'}\n",
      "page_content='인공지능 산업의 최신 동향' metadata={'page': 1, 'id': 1, 'bounding_box': '[{\"x\": 411, \"y\": 498}, {\"x\": 862, \"y\": 498}, {\"x\": 862, \"y\": 552}, {\"x\": 411, \"y\": 552}]', 'category': 'heading1'}\n",
      "page_content='2023년 12월호' metadata={'page': 1, 'id': 2, 'bounding_box': '[{\"x\": 528, \"y\": 588}, {\"x\": 746, \"y\": 588}, {\"x\": 746, \"y\": 633}, {\"x\": 528, \"y\": 633}]', 'category': 'heading1'}\n"
     ]
    }
   ],
   "source": [
    "for doc in docs[:3]:\n",
    "    print(doc)"
   ]
  },
  {
   "cell_type": "code",
   "execution_count": 16,
   "metadata": {},
   "outputs": [],
   "source": [
    "loader = UpstageLayoutAnalysisLoader(\n",
    "    file_path,\n",
    "    output_type=\"html\",\n",
    "    split=\"element\",\n",
    "    use_ocr=True,\n",
    "    exclude=[\"header\", \"footer\"], #\"fifure\", \"table\"들도 있음.\n",
    ")"
   ]
  },
  {
   "cell_type": "code",
   "execution_count": 17,
   "metadata": {},
   "outputs": [],
   "source": [
    "docs = loader.load()"
   ]
  },
  {
   "cell_type": "code",
   "execution_count": 18,
   "metadata": {},
   "outputs": [
    {
     "name": "stdout",
     "output_type": "stream",
     "text": [
      "page_content='<h1 id='0' style='font-size:20px'>SPRi AI Brief</h1>' metadata={'page': 1, 'id': 0, 'bounding_box': '[{\"x\": 175, \"y\": 301}, {\"x\": 1110, \"y\": 301}, {\"x\": 1110, \"y\": 428}, {\"x\": 175, \"y\": 428}]', 'category': 'heading1'}\n",
      "page_content='<h1 id='1' style='font-size:18px'>인공지능 산업의 최신 동향</h1>' metadata={'page': 1, 'id': 1, 'bounding_box': '[{\"x\": 411, \"y\": 498}, {\"x\": 862, \"y\": 498}, {\"x\": 862, \"y\": 552}, {\"x\": 411, \"y\": 552}]', 'category': 'heading1'}\n",
      "page_content='<h1 id='2' style='font-size:16px'>2023년 12월호</h1>' metadata={'page': 1, 'id': 2, 'bounding_box': '[{\"x\": 528, \"y\": 588}, {\"x\": 746, \"y\": 588}, {\"x\": 746, \"y\": 633}, {\"x\": 528, \"y\": 633}]', 'category': 'heading1'}\n"
     ]
    }
   ],
   "source": [
    "for doc in docs[:3]:\n",
    "    print(doc)"
   ]
  },
  {
   "cell_type": "code",
   "execution_count": null,
   "metadata": {},
   "outputs": [],
   "source": []
  }
 ],
 "metadata": {
  "kernelspec": {
   "display_name": "langchain-kr-gLkynrUQ-py3.11",
   "language": "python",
   "name": "python3"
  },
  "language_info": {
   "codemirror_mode": {
    "name": "ipython",
    "version": 3
   },
   "file_extension": ".py",
   "mimetype": "text/x-python",
   "name": "python",
   "nbconvert_exporter": "python",
   "pygments_lexer": "ipython3",
   "version": "3.11.9"
  }
 },
 "nbformat": 4,
 "nbformat_minor": 2
}
