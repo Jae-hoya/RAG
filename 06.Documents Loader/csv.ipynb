{
 "cells": [
  {
   "cell_type": "code",
   "execution_count": 1,
   "metadata": {},
   "outputs": [
    {
     "data": {
      "text/plain": [
       "True"
      ]
     },
     "execution_count": 1,
     "metadata": {},
     "output_type": "execute_result"
    }
   ],
   "source": [
    "from dotenv import load_dotenv\n",
    "load_dotenv()"
   ]
  },
  {
   "cell_type": "code",
   "execution_count": 2,
   "metadata": {},
   "outputs": [
    {
     "data": {
      "text/plain": [
       "7"
      ]
     },
     "execution_count": 2,
     "metadata": {},
     "output_type": "execute_result"
    }
   ],
   "source": [
    "from langchain_community.document_loaders import PyPDFLoader\n",
    "\n",
    "loader = PyPDFLoader(\"./data/asdff.pdf\", extract_images=True)\n",
    "\n",
    "docs = loader.load()\n",
    "len(docs)"
   ]
  },
  {
   "cell_type": "code",
   "execution_count": 3,
   "metadata": {},
   "outputs": [
    {
     "name": "stdout",
     "output_type": "stream",
     "text": [
      "page_content='다중공선성은 독립변수간 상관관계가 있는지 나타\n",
      "내는 지표이다. 본 연구에서 사용한 데이터에서는 각\n",
      "독립변수는 각 column이 된다. 만약 다중공선성이 높\n",
      "다면, 각 column끼리 비슷하다는 것을 의미하며, 변\n",
      "수간의 차이가 없음을 의미한다. 데이터에서 column\n",
      "을 너무 많이 분할하면 나타나는 현상으로, 문제가 된\n",
      "다면 변수를 삭제한다거나, PCA(주성분 분석) 또는 정\n",
      "규화를 이용해야한다. 상수항(const)은 독립변수 들이\n",
      "함께 사용될 때 발생하는 자연스러운 결과이며, 독립\n",
      "변수 간의 다중공선성 문제를 반영하지않는다. 본 연\n",
      "구의 데이터에선 각 각 독립변수는 데이터에서 각각의\n",
      "column을 의미한다. 실제로 중요한값은 독립변수의\n",
      "VIF값들이다[7].\n",
      "Table.1 VIF(Variance Inflation Factors)\n",
      "위 표1은 VIF(분산팽창인수)을 나타낸다. 이 값은,\n",
      "다중공선성을 나타내는 척도다. VIF값이 5보다 크면\n",
      "다중 공선성에 문제가 있어 회귀 계수에 대한 신뢰할\n",
      "수 없는 추정치와 해석이 발생할 수 있다. 이 값이 5\n",
      "미만이면 다중공선성 문제가 크지 않다고 판단한다.\n",
      "위에서 언급했듯이, 상수항이 높은 VIF값은 크게 신경\n",
      "쓰지 않아도 된다[8]. 수식을 쉽게 표현하면 다음과 같\n",
      "다.\n",
      "식\n",
      "(2)\n",
      "4.3 Accuracy와 Recall\n",
      "Table.2 AccuracyModel Accuracy\n",
      "XGB 0.91\n",
      "SVC 0.91\n",
      "Ridge 0.88\n",
      "LR 0.89\n",
      "ADA 0.92\n",
      "KNN 0.89\n",
      "RF 0.89\n",
      "DT 0.90\n",
      "BNB 0.84\n",
      "GNB 0.85\n",
      "DNN 0.88\n",
      "RNN+CNN 0.92\n",
      "위 표2는 각각 모델별 Accuracy를 보여준다. 전체적\n",
      "으로 높은 정확도를 보여준다. 수식을 쉽게 표현하면\n",
      "다음과 같다.\n",
      "식(3)\n",
      "Table.3 Recall\n",
      "위 표3은 Recall값을 즉, 재현율을 보여준다. 값들\n",
      "은 소수점 두 번째 자리까지 나타낸다. 질병에 관해\n",
      "서는 Recall을 고려한다. weight평가는 클래스의 데\n",
      "이터 비율에 따라 가중치를 주어지는 방법이다.\n",
      "macro평가 는 클래스의 성능 지표를 동일한 비율로\n",
      "평균을 내는 방법이다. 본 연구에서 사용한 데이터가\n",
      "5:5 데이터가 아니기 때문에, macro평균을 제시한다.\n",
      "수식은 다음과 같다.\n",
      "VIF Factor features\n",
      "33.856990 const\n",
      "1.016757 gender\n",
      "2.415670 age\n",
      "1.113385 hypertension\n",
      "1.112824 heart_disease\n",
      "1.955416 ever_married\n",
      "1.339696 work_type\n",
      "1.001191 Residence_type\n",
      "1.106672 avg_glucose_level\n",
      "1.242843 bmi\n",
      "1.216712 smoking_status\n",
      "1.087601 strokeModel Recall-weight Recall-macro\n",
      "ADA 0.74 0.50\n",
      "LR 0.77 0.47\n",
      "XGB 0.74 0.49\n",
      "RF 0.84 0.47\n",
      "KNN 0.75 0.50\n",
      "SVC 0.73 0.50\n",
      "BNB 0.74 0.54\n",
      "Ridge 0.75 0.50\n",
      "DT 0.70 0.55\n",
      "GNB 0.79 0.62\n",
      "DNN 0.87 0.67\n",
      "RNN+CNN 0.91 0.735' metadata={'source': './data/asdff.pdf', 'page': 4}\n"
     ]
    }
   ],
   "source": [
    "print(docs[4])"
   ]
  },
  {
   "cell_type": "code",
   "execution_count": 4,
   "metadata": {},
   "outputs": [
    {
     "data": {
      "text/plain": [
       "[Document(metadata={'source': 'table/accuracy.csv', 'row': 0}, page_content='\\ufeff알고리즘: XGB\\nAccuracy: 0.91'),\n",
       " Document(metadata={'source': 'table/accuracy.csv', 'row': 1}, page_content='\\ufeff알고리즘: SVC\\nAccuracy: 0.91'),\n",
       " Document(metadata={'source': 'table/accuracy.csv', 'row': 2}, page_content='\\ufeff알고리즘: Ridge\\nAccuracy: 0.88'),\n",
       " Document(metadata={'source': 'table/accuracy.csv', 'row': 3}, page_content='\\ufeff알고리즘: LR\\nAccuracy: 0.89'),\n",
       " Document(metadata={'source': 'table/accuracy.csv', 'row': 4}, page_content='\\ufeff알고리즘: ADA\\nAccuracy: 0.92'),\n",
       " Document(metadata={'source': 'table/accuracy.csv', 'row': 5}, page_content='\\ufeff알고리즘: KNN\\nAccuracy: 0.89'),\n",
       " Document(metadata={'source': 'table/accuracy.csv', 'row': 6}, page_content='\\ufeff알고리즘: RF\\nAccuracy: 0.89'),\n",
       " Document(metadata={'source': 'table/accuracy.csv', 'row': 7}, page_content='\\ufeff알고리즘: DT\\nAccuracy: 0.9'),\n",
       " Document(metadata={'source': 'table/accuracy.csv', 'row': 8}, page_content='\\ufeff알고리즘: BNB\\nAccuracy: 0.84'),\n",
       " Document(metadata={'source': 'table/accuracy.csv', 'row': 9}, page_content='\\ufeff알고리즘: GNB\\nAccuracy: 0.85'),\n",
       " Document(metadata={'source': 'table/accuracy.csv', 'row': 10}, page_content='\\ufeff알고리즘: DNN\\nAccuracy: 0.88'),\n",
       " Document(metadata={'source': 'table/accuracy.csv', 'row': 11}, page_content='\\ufeff알고리즘: RNN+CNN\\nAccuracy: 0.92'),\n",
       " Document(metadata={'source': 'table/recall.csv', 'row': 0}, page_content='\\ufeffModel: ADA\\nRecall-weight: 0.74\\nRecall-macro: 0.5'),\n",
       " Document(metadata={'source': 'table/recall.csv', 'row': 1}, page_content='\\ufeffModel: LR\\nRecall-weight: 0.77\\nRecall-macro: 0.47'),\n",
       " Document(metadata={'source': 'table/recall.csv', 'row': 2}, page_content='\\ufeffModel: XGB\\nRecall-weight: 0.74\\nRecall-macro: 0.49'),\n",
       " Document(metadata={'source': 'table/recall.csv', 'row': 3}, page_content='\\ufeffModel: RF\\nRecall-weight: 0.84\\nRecall-macro: 0.47'),\n",
       " Document(metadata={'source': 'table/recall.csv', 'row': 4}, page_content='\\ufeffModel: KNN\\nRecall-weight: 0.75\\nRecall-macro: 0.5'),\n",
       " Document(metadata={'source': 'table/recall.csv', 'row': 5}, page_content='\\ufeffModel: SVC\\nRecall-weight: 0.73\\nRecall-macro: 0.5'),\n",
       " Document(metadata={'source': 'table/recall.csv', 'row': 6}, page_content='\\ufeffModel: BNB\\nRecall-weight: 0.74\\nRecall-macro: 0.54'),\n",
       " Document(metadata={'source': 'table/recall.csv', 'row': 7}, page_content='\\ufeffModel: Ridge\\nRecall-weight: 0.75\\nRecall-macro: 0.5'),\n",
       " Document(metadata={'source': 'table/recall.csv', 'row': 8}, page_content='\\ufeffModel: DT\\nRecall-weight: 0.7\\nRecall-macro: 0.55'),\n",
       " Document(metadata={'source': 'table/recall.csv', 'row': 9}, page_content='\\ufeffModel: GNB\\nRecall-weight: 0.79\\nRecall-macro: 0.62'),\n",
       " Document(metadata={'source': 'table/recall.csv', 'row': 10}, page_content='\\ufeffModel: DNN\\nRecall-weight: 0.87\\nRecall-macro: 0.67'),\n",
       " Document(metadata={'source': 'table/recall.csv', 'row': 11}, page_content='\\ufeffModel: RNN+CNN\\nRecall-weight: 0.91\\nRecall-macro: 0.73'),\n",
       " Document(metadata={'source': 'table/vif.csv', 'row': 0}, page_content='\\ufeff변수: const\\nVIF 값: 33.85699'),\n",
       " Document(metadata={'source': 'table/vif.csv', 'row': 1}, page_content='\\ufeff변수: gender\\nVIF 값: 1.016757'),\n",
       " Document(metadata={'source': 'table/vif.csv', 'row': 2}, page_content='\\ufeff변수: age\\nVIF 값: 2.41567'),\n",
       " Document(metadata={'source': 'table/vif.csv', 'row': 3}, page_content='\\ufeff변수: hypertension\\nVIF 값: 1.113385'),\n",
       " Document(metadata={'source': 'table/vif.csv', 'row': 4}, page_content='\\ufeff변수: heart_disease\\nVIF 값: 1.112824'),\n",
       " Document(metadata={'source': 'table/vif.csv', 'row': 5}, page_content='\\ufeff변수: ever_married\\nVIF 값: 1.955416'),\n",
       " Document(metadata={'source': 'table/vif.csv', 'row': 6}, page_content='\\ufeff변수: work_type\\nVIF 값: 1.339696'),\n",
       " Document(metadata={'source': 'table/vif.csv', 'row': 7}, page_content='\\ufeff변수: Residence_type\\nVIF 값: 1.001191'),\n",
       " Document(metadata={'source': 'table/vif.csv', 'row': 8}, page_content='\\ufeff변수: avg_glucose_level\\nVIF 값: 1.106672'),\n",
       " Document(metadata={'source': 'table/vif.csv', 'row': 9}, page_content='\\ufeff변수: bmi\\nVIF 값: 1.242843'),\n",
       " Document(metadata={'source': 'table/vif.csv', 'row': 10}, page_content='\\ufeff변수: smoking_status\\nVIF 값: 1.216712'),\n",
       " Document(metadata={'source': 'table/vif.csv', 'row': 11}, page_content='\\ufeff변수: stroke\\nVIF 값: 1.087601')]"
      ]
     },
     "execution_count": 4,
     "metadata": {},
     "output_type": "execute_result"
    }
   ],
   "source": [
    "from langchain_community.document_loaders import CSVLoader\n",
    "\n",
    "csv_files = [\"table/accuracy.csv\",\n",
    "            \"table/recall.csv\",\n",
    "            \"table/vif.csv\"]\n",
    "\n",
    "csv_documents = []\n",
    "\n",
    "for csv_file in csv_files:\n",
    "    loader = CSVLoader(file_path=csv_file)\n",
    "    csv_documents.extend(loader.load())\n",
    "\n",
    "\n",
    "csv_documents\n"
   ]
  },
  {
   "cell_type": "code",
   "execution_count": 5,
   "metadata": {},
   "outputs": [],
   "source": []
  },
  {
   "cell_type": "code",
   "execution_count": 5,
   "metadata": {},
   "outputs": [
    {
     "data": {
      "text/plain": [
       "36"
      ]
     },
     "execution_count": 5,
     "metadata": {},
     "output_type": "execute_result"
    }
   ],
   "source": [
    "len(csv_documents)"
   ]
  },
  {
   "cell_type": "code",
   "execution_count": 6,
   "metadata": {},
   "outputs": [],
   "source": []
  },
  {
   "cell_type": "code",
   "execution_count": 6,
   "metadata": {},
   "outputs": [],
   "source": [
    "from langchain_openai import ChatOpenAI, OpenAIEmbeddings\n",
    "from langchain_community.vectorstores import Chroma\n",
    "\n",
    "embeddings = OpenAIEmbeddings(model=\"text-embedding-3-small\")\n",
    "\n",
    "vector_store = Chroma.from_documents(csv_documents, embeddings)\n",
    "retriever = vector_store.as_retriever()"
   ]
  },
  {
   "cell_type": "code",
   "execution_count": 7,
   "metadata": {},
   "outputs": [
    {
     "data": {
      "text/plain": [
       "[Document(metadata={'row': 0, 'source': 'table/recall.csv'}, page_content='\\ufeffModel: ADA\\nRecall-weight: 0.74\\nRecall-macro: 0.5'),\n",
       " Document(metadata={'row': 5, 'source': 'table/recall.csv'}, page_content='\\ufeffModel: SVC\\nRecall-weight: 0.73\\nRecall-macro: 0.5'),\n",
       " Document(metadata={'row': 3, 'source': 'table/recall.csv'}, page_content='\\ufeffModel: RF\\nRecall-weight: 0.84\\nRecall-macro: 0.47'),\n",
       " Document(metadata={'row': 6, 'source': 'table/recall.csv'}, page_content='\\ufeffModel: BNB\\nRecall-weight: 0.74\\nRecall-macro: 0.54')]"
      ]
     },
     "execution_count": 7,
     "metadata": {},
     "output_type": "execute_result"
    }
   ],
   "source": [
    "retriever.invoke(\"본 논문에서 각각 알고리즘마다 recall값 알려줘\")"
   ]
  },
  {
   "cell_type": "code",
   "execution_count": 8,
   "metadata": {},
   "outputs": [],
   "source": [
    "from langchain_openai import ChatOpenAI, OpenAIEmbeddings\n",
    "from langchain_community.vectorstores import Chroma\n",
    "embeddings = OpenAIEmbeddings(model=\"text-embedding-3-small\")"
   ]
  },
  {
   "cell_type": "code",
   "execution_count": 9,
   "metadata": {},
   "outputs": [
    {
     "data": {
      "text/plain": [
       "[Document(metadata={'source': 'table/accuracy.csv', 'row': 0}, page_content='\\ufeff알고리즘: XGB\\nAccuracy: 0.91'),\n",
       " Document(metadata={'source': 'table/accuracy.csv', 'row': 1}, page_content='\\ufeff알고리즘: SVC\\nAccuracy: 0.91'),\n",
       " Document(metadata={'source': 'table/accuracy.csv', 'row': 2}, page_content='\\ufeff알고리즘: Ridge\\nAccuracy: 0.88'),\n",
       " Document(metadata={'source': 'table/accuracy.csv', 'row': 3}, page_content='\\ufeff알고리즘: LR\\nAccuracy: 0.89'),\n",
       " Document(metadata={'source': 'table/accuracy.csv', 'row': 4}, page_content='\\ufeff알고리즘: ADA\\nAccuracy: 0.92'),\n",
       " Document(metadata={'source': 'table/accuracy.csv', 'row': 5}, page_content='\\ufeff알고리즘: KNN\\nAccuracy: 0.89'),\n",
       " Document(metadata={'source': 'table/accuracy.csv', 'row': 6}, page_content='\\ufeff알고리즘: RF\\nAccuracy: 0.89'),\n",
       " Document(metadata={'source': 'table/accuracy.csv', 'row': 7}, page_content='\\ufeff알고리즘: DT\\nAccuracy: 0.9'),\n",
       " Document(metadata={'source': 'table/accuracy.csv', 'row': 8}, page_content='\\ufeff알고리즘: BNB\\nAccuracy: 0.84'),\n",
       " Document(metadata={'source': 'table/accuracy.csv', 'row': 9}, page_content='\\ufeff알고리즘: GNB\\nAccuracy: 0.85'),\n",
       " Document(metadata={'source': 'table/accuracy.csv', 'row': 10}, page_content='\\ufeff알고리즘: DNN\\nAccuracy: 0.88'),\n",
       " Document(metadata={'source': 'table/accuracy.csv', 'row': 11}, page_content='\\ufeff알고리즘: RNN+CNN\\nAccuracy: 0.92'),\n",
       " Document(metadata={'source': 'table/recall.csv', 'row': 0}, page_content='\\ufeffModel: ADA\\nRecall-weight: 0.74\\nRecall-macro: 0.5'),\n",
       " Document(metadata={'source': 'table/recall.csv', 'row': 1}, page_content='\\ufeffModel: LR\\nRecall-weight: 0.77\\nRecall-macro: 0.47'),\n",
       " Document(metadata={'source': 'table/recall.csv', 'row': 2}, page_content='\\ufeffModel: XGB\\nRecall-weight: 0.74\\nRecall-macro: 0.49'),\n",
       " Document(metadata={'source': 'table/recall.csv', 'row': 3}, page_content='\\ufeffModel: RF\\nRecall-weight: 0.84\\nRecall-macro: 0.47'),\n",
       " Document(metadata={'source': 'table/recall.csv', 'row': 4}, page_content='\\ufeffModel: KNN\\nRecall-weight: 0.75\\nRecall-macro: 0.5'),\n",
       " Document(metadata={'source': 'table/recall.csv', 'row': 5}, page_content='\\ufeffModel: SVC\\nRecall-weight: 0.73\\nRecall-macro: 0.5'),\n",
       " Document(metadata={'source': 'table/recall.csv', 'row': 6}, page_content='\\ufeffModel: BNB\\nRecall-weight: 0.74\\nRecall-macro: 0.54'),\n",
       " Document(metadata={'source': 'table/recall.csv', 'row': 7}, page_content='\\ufeffModel: Ridge\\nRecall-weight: 0.75\\nRecall-macro: 0.5'),\n",
       " Document(metadata={'source': 'table/recall.csv', 'row': 8}, page_content='\\ufeffModel: DT\\nRecall-weight: 0.7\\nRecall-macro: 0.55'),\n",
       " Document(metadata={'source': 'table/recall.csv', 'row': 9}, page_content='\\ufeffModel: GNB\\nRecall-weight: 0.79\\nRecall-macro: 0.62'),\n",
       " Document(metadata={'source': 'table/recall.csv', 'row': 10}, page_content='\\ufeffModel: DNN\\nRecall-weight: 0.87\\nRecall-macro: 0.67'),\n",
       " Document(metadata={'source': 'table/recall.csv', 'row': 11}, page_content='\\ufeffModel: RNN+CNN\\nRecall-weight: 0.91\\nRecall-macro: 0.73'),\n",
       " Document(metadata={'source': 'table/vif.csv', 'row': 0}, page_content='\\ufeff변수: const\\nVIF 값: 33.85699'),\n",
       " Document(metadata={'source': 'table/vif.csv', 'row': 1}, page_content='\\ufeff변수: gender\\nVIF 값: 1.016757'),\n",
       " Document(metadata={'source': 'table/vif.csv', 'row': 2}, page_content='\\ufeff변수: age\\nVIF 값: 2.41567'),\n",
       " Document(metadata={'source': 'table/vif.csv', 'row': 3}, page_content='\\ufeff변수: hypertension\\nVIF 값: 1.113385'),\n",
       " Document(metadata={'source': 'table/vif.csv', 'row': 4}, page_content='\\ufeff변수: heart_disease\\nVIF 값: 1.112824'),\n",
       " Document(metadata={'source': 'table/vif.csv', 'row': 5}, page_content='\\ufeff변수: ever_married\\nVIF 값: 1.955416'),\n",
       " Document(metadata={'source': 'table/vif.csv', 'row': 6}, page_content='\\ufeff변수: work_type\\nVIF 값: 1.339696'),\n",
       " Document(metadata={'source': 'table/vif.csv', 'row': 7}, page_content='\\ufeff변수: Residence_type\\nVIF 값: 1.001191'),\n",
       " Document(metadata={'source': 'table/vif.csv', 'row': 8}, page_content='\\ufeff변수: avg_glucose_level\\nVIF 값: 1.106672'),\n",
       " Document(metadata={'source': 'table/vif.csv', 'row': 9}, page_content='\\ufeff변수: bmi\\nVIF 값: 1.242843'),\n",
       " Document(metadata={'source': 'table/vif.csv', 'row': 10}, page_content='\\ufeff변수: smoking_status\\nVIF 값: 1.216712'),\n",
       " Document(metadata={'source': 'table/vif.csv', 'row': 11}, page_content='\\ufeff변수: stroke\\nVIF 값: 1.087601')]"
      ]
     },
     "execution_count": 9,
     "metadata": {},
     "output_type": "execute_result"
    }
   ],
   "source": [
    "csv_documents"
   ]
  },
  {
   "cell_type": "code",
   "execution_count": 27,
   "metadata": {},
   "outputs": [
    {
     "data": {
      "text/plain": [
       "36"
      ]
     },
     "execution_count": 27,
     "metadata": {},
     "output_type": "execute_result"
    }
   ],
   "source": [
    "len(csv_documents)"
   ]
  },
  {
   "cell_type": "code",
   "execution_count": 10,
   "metadata": {},
   "outputs": [],
   "source": [
    "table_vector_store = Chroma.from_documents(csv_documents, embeddings)"
   ]
  },
  {
   "cell_type": "code",
   "execution_count": 11,
   "metadata": {},
   "outputs": [],
   "source": [
    "table_retriever = table_vector_store.as_retriever()"
   ]
  },
  {
   "cell_type": "code",
   "execution_count": 28,
   "metadata": {},
   "outputs": [],
   "source": [
    "from langchain.retrievers import BM25Retriever\n",
    "bm25_retriever = BM25Retriever.from_documents(csv_documents)"
   ]
  },
  {
   "cell_type": "code",
   "execution_count": 42,
   "metadata": {},
   "outputs": [],
   "source": [
    "from langchain_core.prompts import PromptTemplate\n",
    "\n",
    "prompt = PromptTemplate.from_template(\n",
    "    \"\"\"\n",
    "    You are an assistant for question-answering tasks. \n",
    "    Use the following pieces of retrieved table to answer the question. \n",
    "    If you don't know the answer, just say that you don't know. \n",
    "    Please write your answer in a markdown table format with the main points.\n",
    "    Be sure to include your source and page numbers in your answer.\n",
    "    If I want to query the values from the Table, please use them to provide an answer.\n",
    "    Answer in Korean.\n",
    "\n",
    "\n",
    "    #Question: \n",
    "    {question}\n",
    "\n",
    "\n",
    "    #Table:\n",
    "    {table}\n",
    "\n",
    "    #Answer:\n",
    "    \"\"\"\n",
    ")\n",
    "\n",
    "llm = ChatOpenAI(model=\"gpt-4o-mini\")\n",
    "\n"
   ]
  },
  {
   "cell_type": "code",
   "execution_count": 43,
   "metadata": {},
   "outputs": [],
   "source": [
    "from langchain_core.runnables import RunnablePassthrough\n",
    "from langchain_core.output_parsers import StrOutputParser\n",
    "chain = ({\"table\": bm25_retriever,\"question\": RunnablePassthrough()}\n",
    "         | prompt\n",
    "         | llm\n",
    "         | StrOutputParser()\n",
    "         )\n",
    "\n",
    "# chain = ({\"table\": table_retriever,\"question\": RunnablePassthrough()}\n",
    "#          | prompt\n",
    "#          | llm\n",
    "#          | StrOutputParser()\n",
    "#          )"
   ]
  },
  {
   "cell_type": "code",
   "execution_count": 44,
   "metadata": {},
   "outputs": [],
   "source": [
    "response= chain.invoke(\"본 논문에서 각각 알고리즘마다 recall값 알려줘\")"
   ]
  },
  {
   "cell_type": "code",
   "execution_count": 45,
   "metadata": {},
   "outputs": [
    {
     "name": "stdout",
     "output_type": "stream",
     "text": [
      "| 알고리즘  | Recall-weight | Recall-macro | 출처               | 페이지 번호 |\n",
      "|-----------|---------------|---------------|--------------------|-------------|\n",
      "| RF        | 0.84          | 0.47          | table/recall.csv   | 3           |\n",
      "| XGB       | 0.74          | 0.49          | table/recall.csv   | 2           |\n"
     ]
    }
   ],
   "source": [
    "print(response)"
   ]
  },
  {
   "cell_type": "code",
   "execution_count": 46,
   "metadata": {},
   "outputs": [],
   "source": [
    "response2 = chain.invoke(\"본 논문에서 제시하는 변수마다 vif값 알려줘\")"
   ]
  },
  {
   "cell_type": "code",
   "execution_count": 47,
   "metadata": {},
   "outputs": [
    {
     "name": "stdout",
     "output_type": "stream",
     "text": [
      "| 변수             | VIF 값       | 출처              | 페이지 번호 |\n",
      "|------------------|--------------|-------------------|--------------|\n",
      "| stroke           | 1.087601     | table/vif.csv     | 11           |\n",
      "| smoking_status    | 1.216712     | table/vif.csv     | 10           |\n"
     ]
    }
   ],
   "source": [
    "print(response2)"
   ]
  },
  {
   "cell_type": "code",
   "execution_count": 48,
   "metadata": {},
   "outputs": [],
   "source": [
    "response3 = chain.invoke(\"본 논문에서 제시하는 모든 알고리즘의 Accuracy값 알려줘\")"
   ]
  },
  {
   "cell_type": "code",
   "execution_count": 49,
   "metadata": {},
   "outputs": [
    {
     "name": "stdout",
     "output_type": "stream",
     "text": [
      "| 알고리즘 | Accuracy 값 | 출처         | 페이지 번호 |\n",
      "|----------|-------------|--------------|--------------|\n",
      "| RF       | 알 수 없음   | table/recall.csv | 3            |\n",
      "| XGB      | 알 수 없음   | table/recall.csv | 2            |\n",
      "\n",
      "모든 알고리즘의 Accuracy 값에 대한 정보는 제공되지 않았습니다.\n"
     ]
    }
   ],
   "source": [
    "print(response3)"
   ]
  },
  {
   "cell_type": "code",
   "execution_count": 50,
   "metadata": {},
   "outputs": [
    {
     "name": "stdout",
     "output_type": "stream",
     "text": [
      "| 주요 포인트          | 내용                     |\n",
      "|-------------------|------------------------|\n",
      "| 변수               | stroke                 |\n",
      "| VIF 값            | 1.087601               |\n",
      "| 변수               | smoking_status         |\n",
      "| VIF 값            | 1.216712               |\n",
      "| 모델               | RF                     |\n",
      "| Recall-weight      | 0.84                   |\n",
      "| Recall-macro       | 0.47                   |\n",
      "| 모델               | XGB                    |\n",
      "| Recall-weight      | 0.74                   |\n",
      "| Recall-macro       | 0.49                   |\n",
      "\n",
      "**출처:** table/vif.csv 및 table/recall.csv, 페이지 번호: 11, 10, 3, 2\n"
     ]
    }
   ],
   "source": [
    "response4 = chain.invoke(\"\")\n",
    "print(response4)"
   ]
  },
  {
   "cell_type": "code",
   "execution_count": 51,
   "metadata": {},
   "outputs": [
    {
     "name": "stdout",
     "output_type": "stream",
     "text": [
      "| 변수             | VIF 값     | 출처                | 페이지 번호 |\n",
      "|------------------|------------|---------------------|--------------|\n",
      "| stroke           | 1.087601   | table/vif.csv       | 11           |\n",
      "| smoking_status    | 1.216712   | table/vif.csv       | 10           |\n"
     ]
    }
   ],
   "source": [
    "response2 = chain.invoke(\"vif값 알려줘\")\n",
    "print(response2)"
   ]
  },
  {
   "cell_type": "code",
   "execution_count": 52,
   "metadata": {},
   "outputs": [
    {
     "name": "stdout",
     "output_type": "stream",
     "text": [
      "| 변수            | VIF 값     | 출처               | 페이지  |\n",
      "|----------------|------------|-------------------|--------|\n",
      "| stroke         | 1.087601   | table/vif.csv     | 11     |\n",
      "| smoking_status  | 1.216712   | table/vif.csv     | 10     |\n"
     ]
    }
   ],
   "source": [
    "response2 = chain.invoke(\"모든 변수의 vif값 알려줘\")\n",
    "print(response2)"
   ]
  },
  {
   "cell_type": "code",
   "execution_count": 53,
   "metadata": {},
   "outputs": [
    {
     "name": "stdout",
     "output_type": "stream",
     "text": [
      "| 변수             | VIF 값     | 출처               | 페이지 번호 |\n",
      "|------------------|------------|--------------------|--------------|\n",
      "| stroke           | 1.087601   | table/vif.csv      | 11           |\n",
      "| smoking_status    | 1.216712   | table/vif.csv      | 10           |\n"
     ]
    }
   ],
   "source": [
    "response2 = chain.invoke(\"vif값을 가지고 있는 모든 변수알려줘\")\n",
    "print(response2)"
   ]
  },
  {
   "cell_type": "code",
   "execution_count": 54,
   "metadata": {},
   "outputs": [
    {
     "name": "stdout",
     "output_type": "stream",
     "text": [
      "| 변수               | VIF 값       | 출처                     | 페이지 |\n",
      "|------------------|-------------|--------------------------|-------|\n",
      "| stroke           | 1.087601    | table/vif.csv            | 11    |\n",
      "| smoking_status    | 1.216712    | table/vif.csv            | 10    |\n",
      "| Model: RF        | Recall-weight: 0.84, Recall-macro: 0.47 | table/recall.csv  | 3     |\n",
      "| Model: XGB       | Recall-weight: 0.74, Recall-macro: 0.49 | table/recall.csv  | 2     |\n",
      "\n",
      "출처: table/vif.csv, table/recall.csv\n"
     ]
    }
   ],
   "source": [
    "response2 = chain.invoke(\"제시하는 모든 변수들에는 무엇이 있어?\")\n",
    "print(response2)"
   ]
  },
  {
   "cell_type": "code",
   "execution_count": null,
   "metadata": {},
   "outputs": [],
   "source": []
  }
 ],
 "metadata": {
  "kernelspec": {
   "display_name": "langchain-kr-gLkynrUQ-py3.11",
   "language": "python",
   "name": "python3"
  },
  "language_info": {
   "codemirror_mode": {
    "name": "ipython",
    "version": 3
   },
   "file_extension": ".py",
   "mimetype": "text/x-python",
   "name": "python",
   "nbconvert_exporter": "python",
   "pygments_lexer": "ipython3",
   "version": "3.11.9"
  }
 },
 "nbformat": 4,
 "nbformat_minor": 2
}
