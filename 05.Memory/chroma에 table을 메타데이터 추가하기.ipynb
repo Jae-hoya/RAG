{
 "cells": [
  {
   "cell_type": "code",
   "execution_count": 1,
   "metadata": {},
   "outputs": [
    {
     "data": {
      "text/plain": [
       "True"
      ]
     },
     "execution_count": 1,
     "metadata": {},
     "output_type": "execute_result"
    }
   ],
   "source": [
    "from dotenv import load_dotenv\n",
    "load_dotenv()"
   ]
  },
  {
   "cell_type": "code",
   "execution_count": 2,
   "metadata": {},
   "outputs": [],
   "source": [
    "from langchain_openai import OpenAIEmbeddings\n",
    "from langchain_community.vectorstores import Chroma\n",
    "from langchain_community.document_loaders import PDFPlumberLoader\n",
    "from langchain_text_splitters import RecursiveCharacterTextSplitter"
   ]
  },
  {
   "cell_type": "code",
   "execution_count": 3,
   "metadata": {},
   "outputs": [],
   "source": [
    "loader = PDFPlumberLoader(\"./data/diabetes draft7.pdf\")\n",
    "docs = loader.load()"
   ]
  },
  {
   "cell_type": "code",
   "execution_count": 4,
   "metadata": {},
   "outputs": [
    {
     "data": {
      "text/plain": [
       "{'source': './data/diabetes draft7.pdf',\n",
       " 'file_path': './data/diabetes draft7.pdf',\n",
       " 'page': 5,\n",
       " 'total_pages': 6,\n",
       " 'Author': '@¬8',\n",
       " 'CreationDate': \"D:20240726144349+09'00'\",\n",
       " 'ModDate': \"D:20240726144349+09'00'\",\n",
       " 'Producer': 'Microsoft: Print To PDF',\n",
       " 'Title': 'diabetes draft7.hwp'}"
      ]
     },
     "execution_count": 4,
     "metadata": {},
     "output_type": "execute_result"
    }
   ],
   "source": [
    "docs[5].metadata"
   ]
  },
  {
   "cell_type": "code",
   "execution_count": 5,
   "metadata": {},
   "outputs": [],
   "source": [
    "import json\n",
    "table_data = {\n",
    "    \"headers\": [\"Model\", \"ROC-AUC\"],\n",
    "    \"rows\": [\n",
    "        {\"Model\": \"ADA\", \"ROC-AUC\": 0.51},\n",
    "        {\"Model\": \"LR\", \"ROC-AUC\": 0.50},\n",
    "        {\"Model\": \"XGB\", \"ROC-AUC\": 0.51},\n",
    "        {\"Model\": \"RF\", \"ROC-AUC\": 0.50},\n",
    "        {\"Model\": \"KNN\", \"ROC-AUC\": 0.50},\n",
    "        {\"Model\": \"SVC\", \"ROC-AUC\": 0.50},\n",
    "        {\"Model\": \"BNB\", \"ROC-AUC\": 0.54},\n",
    "        {\"Model\": \"Ridge\", \"ROC-AUC\": 0.51},\n",
    "        {\"Model\": \"DT\", \"ROC-AUC\": 0.54},\n",
    "        {\"Model\": \"GNB\", \"ROC-AUC\": 0.62},\n",
    "        {\"Model\": \"DNN\", \"ROC-AUC\": 0.81},\n",
    "        {\"Model\": \"RNN+CNN\", \"ROC-AUC\": 0.83}\n",
    "    ]\n",
    "}\n",
    "table_data_str = json.dumps(table_data)"
   ]
  },
  {
   "cell_type": "code",
   "execution_count": 6,
   "metadata": {},
   "outputs": [],
   "source": [
    "docs[5].metadata['table'] = table_data_str"
   ]
  },
  {
   "cell_type": "code",
   "execution_count": 7,
   "metadata": {},
   "outputs": [
    {
     "data": {
      "text/plain": [
       "{'source': './data/diabetes draft7.pdf',\n",
       " 'file_path': './data/diabetes draft7.pdf',\n",
       " 'page': 5,\n",
       " 'total_pages': 6,\n",
       " 'Author': '@¬8',\n",
       " 'CreationDate': \"D:20240726144349+09'00'\",\n",
       " 'ModDate': \"D:20240726144349+09'00'\",\n",
       " 'Producer': 'Microsoft: Print To PDF',\n",
       " 'Title': 'diabetes draft7.hwp',\n",
       " 'table': '{\"headers\": [\"Model\", \"ROC-AUC\"], \"rows\": [{\"Model\": \"ADA\", \"ROC-AUC\": 0.51}, {\"Model\": \"LR\", \"ROC-AUC\": 0.5}, {\"Model\": \"XGB\", \"ROC-AUC\": 0.51}, {\"Model\": \"RF\", \"ROC-AUC\": 0.5}, {\"Model\": \"KNN\", \"ROC-AUC\": 0.5}, {\"Model\": \"SVC\", \"ROC-AUC\": 0.5}, {\"Model\": \"BNB\", \"ROC-AUC\": 0.54}, {\"Model\": \"Ridge\", \"ROC-AUC\": 0.51}, {\"Model\": \"DT\", \"ROC-AUC\": 0.54}, {\"Model\": \"GNB\", \"ROC-AUC\": 0.62}, {\"Model\": \"DNN\", \"ROC-AUC\": 0.81}, {\"Model\": \"RNN+CNN\", \"ROC-AUC\": 0.83}]}'}"
      ]
     },
     "execution_count": 7,
     "metadata": {},
     "output_type": "execute_result"
    }
   ],
   "source": [
    "docs[5].metadata"
   ]
  },
  {
   "cell_type": "code",
   "execution_count": 8,
   "metadata": {},
   "outputs": [],
   "source": [
    "text_splitter = RecursiveCharacterTextSplitter(chunk_size=1000, chunk_overlap=50)\n",
    "documents = text_splitter.split_documents(docs)"
   ]
  },
  {
   "cell_type": "code",
   "execution_count": 9,
   "metadata": {},
   "outputs": [
    {
     "data": {
      "text/plain": [
       "10"
      ]
     },
     "execution_count": 9,
     "metadata": {},
     "output_type": "execute_result"
    }
   ],
   "source": [
    "len(documents)"
   ]
  },
  {
   "cell_type": "code",
   "execution_count": 10,
   "metadata": {},
   "outputs": [
    {
     "data": {
      "text/plain": [
       "{'source': './data/diabetes draft7.pdf',\n",
       " 'file_path': './data/diabetes draft7.pdf',\n",
       " 'page': 5,\n",
       " 'total_pages': 6,\n",
       " 'Author': '@¬8',\n",
       " 'CreationDate': \"D:20240726144349+09'00'\",\n",
       " 'ModDate': \"D:20240726144349+09'00'\",\n",
       " 'Producer': 'Microsoft: Print To PDF',\n",
       " 'Title': 'diabetes draft7.hwp',\n",
       " 'table': '{\"headers\": [\"Model\", \"ROC-AUC\"], \"rows\": [{\"Model\": \"ADA\", \"ROC-AUC\": 0.51}, {\"Model\": \"LR\", \"ROC-AUC\": 0.5}, {\"Model\": \"XGB\", \"ROC-AUC\": 0.51}, {\"Model\": \"RF\", \"ROC-AUC\": 0.5}, {\"Model\": \"KNN\", \"ROC-AUC\": 0.5}, {\"Model\": \"SVC\", \"ROC-AUC\": 0.5}, {\"Model\": \"BNB\", \"ROC-AUC\": 0.54}, {\"Model\": \"Ridge\", \"ROC-AUC\": 0.51}, {\"Model\": \"DT\", \"ROC-AUC\": 0.54}, {\"Model\": \"GNB\", \"ROC-AUC\": 0.62}, {\"Model\": \"DNN\", \"ROC-AUC\": 0.81}, {\"Model\": \"RNN+CNN\", \"ROC-AUC\": 0.83}]}'}"
      ]
     },
     "execution_count": 10,
     "metadata": {},
     "output_type": "execute_result"
    }
   ],
   "source": [
    "documents[8].metadata"
   ]
  },
  {
   "cell_type": "code",
   "execution_count": 11,
   "metadata": {},
   "outputs": [],
   "source": [
    "embedding = OpenAIEmbeddings(model='text-embedding-3-small')\n",
    "\n",
    "vector_store = Chroma.from_documents(documents, embedding)\n"
   ]
  },
  {
   "cell_type": "code",
   "execution_count": 12,
   "metadata": {},
   "outputs": [],
   "source": [
    "retriever = vector_store.as_retriever()"
   ]
  },
  {
   "cell_type": "code",
   "execution_count": 13,
   "metadata": {},
   "outputs": [
    {
     "data": {
      "text/plain": [
       "[Document(metadata={'Author': '@¬8', 'CreationDate': \"D:20240726144349+09'00'\", 'ModDate': \"D:20240726144349+09'00'\", 'Producer': 'Microsoft: Print To PDF', 'Title': 'diabetes draft7.hwp', 'file_path': './data/diabetes draft7.pdf', 'page': 2, 'source': './data/diabetes draft7.pdf', 'total_pages': 6}, page_content='. 기존연구\\n. 분석 알고리즘\\nFig3.ColumnsCorrelation\\nFig2.KNNAlgorithm'),\n",
       " Document(metadata={'Author': '@¬8', 'CreationDate': \"D:20240726144349+09'00'\", 'ModDate': \"D:20240726144349+09'00'\", 'Producer': 'Microsoft: Print To PDF', 'Title': 'diabetes draft7.hwp', 'file_path': './data/diabetes draft7.pdf', 'page': 5, 'source': './data/diabetes draft7.pdf', 'table': '{\"headers\": [\"Model\", \"ROC-AUC\"], \"rows\": [{\"Model\": \"ADA\", \"ROC-AUC\": 0.51}, {\"Model\": \"LR\", \"ROC-AUC\": 0.5}, {\"Model\": \"XGB\", \"ROC-AUC\": 0.51}, {\"Model\": \"RF\", \"ROC-AUC\": 0.5}, {\"Model\": \"KNN\", \"ROC-AUC\": 0.5}, {\"Model\": \"SVC\", \"ROC-AUC\": 0.5}, {\"Model\": \"BNB\", \"ROC-AUC\": 0.54}, {\"Model\": \"Ridge\", \"ROC-AUC\": 0.51}, {\"Model\": \"DT\", \"ROC-AUC\": 0.54}, {\"Model\": \"GNB\", \"ROC-AUC\": 0.62}, {\"Model\": \"DNN\", \"ROC-AUC\": 0.81}, {\"Model\": \"RNN+CNN\", \"ROC-AUC\": 0.83}]}', 'total_pages': 6}, page_content='Methodological Issues and Applications, pp.183-207, 2023\\nDOI:10.1007/978-3-031-37772-3_7\\n[9] N. Shrestha, “Detecting multicollinearity in regression\\nanalysis”, American Journal of Applied Mathematics and\\nStatistics, vol.8, no.2, pp.39-42, 2020.\\nDOI:10.12691/ajams-8-2-1\\n[10]A. Ogunpola, F.Saeed, S. Basurra, A.M. Albarrak, S.N.\\nQasem, \"Machine learning-based predictive models for\\ndetection of cardiovascular diseases\", Diagnostics, vol.14,\\n2024.DOI:10.3390/diagnostics14020144\\n김재호(Jae-Ho Kim)\\nREFERENCES\\n[1]GojkaRoglic,“WHOGlobalreportindiabetes:Asummary”,\\n수원대학교컴퓨터학부학사\\nInternational Journal ofNoncommunicable Diseases,vol.1,\\n수원대학교컴퓨터학부석사과정\\npp.3-8, Jun.2016.DOI:10.4103/2468-8827.184853 관심분야:인공지능\\n[2] S. G. Kim, D. S. Choi, “The present State of Diabetes\\nMellitus in Korea”, Journal of the Korean Medical\\nAssociation, vol.51, pp. 791-798, Sep. 2008. DOI: 김장영(Jang-Young Kim)\\nhttps://doi.org/10.5124/jkma.2008.51.9.791\\n연세대학교컴퓨터과학공학사\\n[3] Kaggle Data set, Diabetes Prediction Dataset, 2022.'),\n",
       " Document(metadata={'Author': '@¬8', 'CreationDate': \"D:20240726144349+09'00'\", 'ModDate': \"D:20240726144349+09'00'\", 'Producer': 'Microsoft: Print To PDF', 'Title': 'diabetes draft7.hwp', 'file_path': './data/diabetes draft7.pdf', 'page': 3, 'source': './data/diabetes draft7.pdf', 'total_pages': 6}, page_content='4.1 (exploratory data analysis)\\nEDA\\nIncome, Education, PhysActivity,\\nHvyAlcoholConsump, Veggies, Fruits Column\\n.\\nFig3.ColumnsCorrelation\\n4 column\\n.\\n.실험결과 및 분석\\nFig5.Diabetes Correlation\\n5 column\\n. Outcome\\n0.2 GenHlth, HighBP, DiffWalk,\\nBMI,HighChol .\\n,\\n[8]. , 0.7\\n. ,\\n,\\n.'),\n",
       " Document(metadata={'Author': '@¬8', 'CreationDate': \"D:20240726144349+09'00'\", 'ModDate': \"D:20240726144349+09'00'\", 'Producer': 'Microsoft: Print To PDF', 'Title': 'diabetes draft7.hwp', 'file_path': './data/diabetes draft7.pdf', 'page': 0, 'source': './data/diabetes draft7.pdf', 'total_pages': 6}, page_content='Journal of theKorea Institute ofInformation and\\nCommunication Engineering\\n한국정보통신학회논문지Vol.23,No.1:399~406,Mar.2019\\n딥러닝과 머신러닝을 통한 당뇨병 데이터 분석\\n1 · 김장영2*\\nDiabetes data analysis through deep learning and machine learning\\nJae-HoKim1· Jang-YoungKim2*\\n1Graduate Student, Department of Computer Science, The University of Suwon, Hwaseong, 18323 Korea\\n2*AssociateProfessor, Department of Computer Science, The University of Suwon, Hwaseong, 18323 Korea\\n요 약\\n, ,\\n. , .\\n, .\\n, . , ,\\n.\\n.\\n. CNN RNN\\nEnsembleModel , Accuracy Recall . EnsembleModel Transformer\\n, .\\nABSTRACT\\nDiabetes isawidespread chronicdisease thataffects peopleworldwideandimposessignificant financial burdens.\\nDiabetesimpairstheabilitytoregulatebloodglucoselevels,reducingqualityoflifeandlifeexpectancy.Additionally,\\ndiabetes is characterized by either the inability to produce insulin or to use it effectively. Despite its prevalence,\\ndiabetesisoftenunderrecognized. Whilethereisnocurefordiabetes,strategies suchasweightloss,healthyeating,an')]"
      ]
     },
     "execution_count": 13,
     "metadata": {},
     "output_type": "execute_result"
    }
   ],
   "source": [
    "retriever.invoke(\"본 논문에서 제시하는 ada모델의 roc-auc값을 알려줘\")"
   ]
  },
  {
   "cell_type": "code",
   "execution_count": 14,
   "metadata": {},
   "outputs": [],
   "source": [
    "from langchain_core.prompts import PromptTemplate\n",
    "from langchain_openai import ChatOpenAI\n",
    "from langchain_core.runnables import RunnablePassthrough\n",
    "from langchain_core.output_parsers import StrOutputParser\n",
    "template = \"\"\"\n",
    "당신은 주어진 context를 이용해 답변을 하는 qa챗봇입니다.\n",
    "모르면 모른다고 답변해 주세요\n",
    "모르면 모른다고 답변해 주세요\n",
    "답변의 출처를 적어주세요\n",
    "#Context\n",
    "{context}\n",
    "#Question\n",
    "{question}\n",
    "#Answer\n",
    "\"\"\"\n",
    "prompt = PromptTemplate.from_template(template)\n",
    "\n",
    "llm = ChatOpenAI(model=\"gpt-4o-mini\")\n",
    "\n",
    "chain = ({\"context\": retriever, \"question\": RunnablePassthrough()}\n",
    "         | prompt\n",
    "         | llm\n",
    "         | StrOutputParser()\n",
    "         )\n",
    "\n"
   ]
  },
  {
   "cell_type": "code",
   "execution_count": 15,
   "metadata": {},
   "outputs": [
    {
     "data": {
      "text/plain": [
       "'본 논문에서 제시하는 ADA 모델의 ROC-AUC 값은 0.51입니다. \\n\\n출처: [diabetes draft7.pdf, 페이지 5]'"
      ]
     },
     "execution_count": 15,
     "metadata": {},
     "output_type": "execute_result"
    }
   ],
   "source": [
    "chain.invoke(\"본 논문에서 제시하는 ADA모델의 roc-auc 값은 얼마야?\")"
   ]
  },
  {
   "cell_type": "code",
   "execution_count": 16,
   "metadata": {},
   "outputs": [
    {
     "data": {
      "text/plain": [
       "'논문에서 제시하는 모델들의 ROC-AUC 값은 다음과 같습니다:\\n\\n- ADA: 0.51\\n- LR: 0.5\\n- XGB: 0.51\\n- RF: 0.5\\n- KNN: 0.5\\n- SVC: 0.5\\n- BNB: 0.54\\n- Ridge: 0.51\\n- DT: 0.54\\n- GNB: 0.62\\n- DNN: 0.81\\n- RNN+CNN: 0.83\\n\\n출처: 문서에서 제공된 표 (페이지 5).'"
      ]
     },
     "execution_count": 16,
     "metadata": {},
     "output_type": "execute_result"
    }
   ],
   "source": [
    "chain.invoke(\"본 논문에서 제시하는 모델들의 roc-auc 값들을 알려줘?\")"
   ]
  },
  {
   "cell_type": "code",
   "execution_count": null,
   "metadata": {},
   "outputs": [],
   "source": []
  }
 ],
 "metadata": {
  "kernelspec": {
   "display_name": "langchain-kr-gLkynrUQ-py3.11",
   "language": "python",
   "name": "python3"
  },
  "language_info": {
   "codemirror_mode": {
    "name": "ipython",
    "version": 3
   },
   "file_extension": ".py",
   "mimetype": "text/x-python",
   "name": "python",
   "nbconvert_exporter": "python",
   "pygments_lexer": "ipython3",
   "version": "3.11.9"
  }
 },
 "nbformat": 4,
 "nbformat_minor": 2
}
