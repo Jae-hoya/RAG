{
 "cells": [
  {
   "cell_type": "markdown",
   "metadata": {},
   "source": [
    "### SQL(SQLalchemy)\n",
    "\n",
    "`SQLite` 사용"
   ]
  },
  {
   "cell_type": "markdown",
   "metadata": {},
   "source": [
    "pip install -qU langchain-community SQLAlchemy langchain-openai"
   ]
  },
  {
   "cell_type": "code",
   "execution_count": 1,
   "metadata": {},
   "outputs": [],
   "source": [
    "from dotenv import load_dotenv"
   ]
  },
  {
   "cell_type": "code",
   "execution_count": 3,
   "metadata": {},
   "outputs": [
    {
     "data": {
      "text/plain": [
       "True"
      ]
     },
     "execution_count": 3,
     "metadata": {},
     "output_type": "execute_result"
    }
   ],
   "source": [
    "load_dotenv()"
   ]
  },
  {
   "cell_type": "code",
   "execution_count": 4,
   "metadata": {},
   "outputs": [],
   "source": [
    "from langchain_community.chat_message_histories import SQLChatMessageHistory\n",
    "\n",
    "# SQLChatMessageHisory객체를 생성하고 세션 ID와 데이터베이스 연결 문자열을 전달.\n",
    "# session_id은 sqldb안에 column, connection에서 sqlite은 파일명. 내용은 한글이라 깨져보일 수 있다.\n",
    "chat_message_history = SQLChatMessageHistory(\n",
    "    session_id = \"sql_history\", connection=\"sqlite:///sqlite.db\" \n",
    ")"
   ]
  },
  {
   "cell_type": "code",
   "execution_count": 3,
   "metadata": {},
   "outputs": [],
   "source": [
    "# 사용자 메세지 추가\n",
    "chat_message_history.add_user_message(\n",
    "    \"안녕? 만나서 반가워. 내이름은 재호야. 나는 랭체인과 slm개발자를 희망하고 있어. 앞으로 잘 부탁해. \"\n",
    ")\n",
    "# AI 메세지 추가\n",
    "chat_message_history.add_ai_message(\"안녕 재호! 만나서 반가워. 나도 잘 부탁해\")"
   ]
  },
  {
   "cell_type": "code",
   "execution_count": 5,
   "metadata": {},
   "outputs": [],
   "source": [
    "from langchain_community.chat_message_histories import SQLChatMessageHistory\n",
    "\n",
    "# SQLChatMessageHisory객체를 생성하고 세션 ID와 데이터베이스 연결 문자열을 전달.\n",
    "# session_id은 sqldb안에 column, connection에서 sqlite은 파일명. 내용은 한글이라 깨져보일 수 있다.\n",
    "chat_message_history =SQLChatMessageHistory(\n",
    "    session_id = \"sql_history2\", connection=\"sqlite:///sqlite.db\" \n",
    ")"
   ]
  },
  {
   "cell_type": "code",
   "execution_count": 6,
   "metadata": {},
   "outputs": [],
   "source": [
    "# 사용자 메세지 추가\n",
    "chat_message_history.add_user_message(\n",
    "    \"안녕? 만나서 반가워. 내이름은 진원이야. 나는 성악과, 음악치료를 전공했어 그리고 재호랑 결혼할 사이야! 앞으로 잘 부탁해.\"\n",
    ")\n",
    "# AI 메세지 추가\n",
    "chat_message_history.add_ai_message(\"안녕 진원! 만나서 반가워. 나도 잘 부탁해\")"
   ]
  },
  {
   "cell_type": "markdown",
   "metadata": {},
   "source": [
    "저장된 대화내용 확인`chat_message_history.messages`"
   ]
  },
  {
   "cell_type": "markdown",
   "metadata": {},
   "source": [
    "# Chain에 적용"
   ]
  },
  {
   "cell_type": "code",
   "execution_count": 7,
   "metadata": {},
   "outputs": [],
   "source": [
    "from langchain_core.prompts import (\n",
    "    ChatPromptTemplate,\n",
    "    MessagesPlaceholder,\n",
    ")\n",
    "from langchain_core.runnables.history import RunnableWithMessageHistory\n",
    "from langchain_openai import ChatOpenAI\n",
    "from langchain_core.output_parsers import StrOutputParser"
   ]
  },
  {
   "cell_type": "code",
   "execution_count": 8,
   "metadata": {},
   "outputs": [],
   "source": [
    "prompt = ChatPromptTemplate.from_messages(\n",
    "    [\n",
    "        ('system', 'You are a helpful assistant'),\n",
    "        MessagesPlaceholder(variable_name=\"chat_history\"),\n",
    "        ('human', '{question}')\n",
    "    ]\n",
    ")\n",
    "chain = prompt | ChatOpenAI(model=\"gpt-4o-mini\") | StrOutputParser()"
   ]
  },
  {
   "cell_type": "markdown",
   "metadata": {},
   "source": [
    "`splite.db`.에서 대화내용을 가져오는 함수를 만든다.\n",
    "\n",
    "- `user_id`는 사용자 ID,\n",
    "- `conversation_id`는 대화ID"
   ]
  },
  {
   "cell_type": "code",
   "execution_count": 6,
   "metadata": {},
   "outputs": [],
   "source": [
    "# conversation_id은 thread id라 생각하면 된다.\n",
    "def get_chat_history(user_id, conversation_id):\n",
    "    return SQLChatMessageHistory(\n",
    "        table_name = user_id,\n",
    "        session_id = conversation_id,\n",
    "        connection=\"sqlite:///sqlite.db\"\n",
    "    )"
   ]
  },
  {
   "cell_type": "code",
   "execution_count": 9,
   "metadata": {},
   "outputs": [],
   "source": [
    " # 함수의 파라미터값과, config의 id가 일치해야한다.\n",
    "from langchain_core.runnables.utils import ConfigurableFieldSpec\n",
    "\n",
    "config_fields = [\n",
    "    ConfigurableFieldSpec(\n",
    "        id=\"user_id\",\n",
    "        annotation=str,\n",
    "        name=\"User ID\",\n",
    "        description=\"Unique identifier for a user.\",\n",
    "        default=\"\",\n",
    "        is_shared=True,\n",
    "    ),\n",
    "    ConfigurableFieldSpec(\n",
    "        id=\"conversation_id\",\n",
    "        annotation=str,\n",
    "        name=\"Conversation ID\",\n",
    "        description=\"Uniqte identifier for a conversation.\",\n",
    "        default=\"\",\n",
    "        is_shared=True,\n",
    "    )\n",
    "]"
   ]
  },
  {
   "cell_type": "code",
   "execution_count": 10,
   "metadata": {},
   "outputs": [],
   "source": [
    "chain_with_history = RunnableWithMessageHistory(\n",
    "    chain,\n",
    "    get_chat_history, # 대화 기록을 저장하는 함수\n",
    "    input_messages_key=\"question\", # 입력 메세지의 키를 'question'으로 저장. prompt의 {question}과 매핑이 되는것.\n",
    "    history_messages_key=\"chat_history\", # 대화 내용 기록을 chat_history로 저장\n",
    "    history_factory_config=config_fields # 대화 기록 조회시 참고할 파라미터를 설정. config_field를 매밍해준다. \n",
    "    # get_chat_history함수는 원래를 인자를 session_id로 하나만 받기로 되어있는데, \n",
    "    # 인자의 이름을 변경하거나, 개수를 늘려주고 싶으면 ConfigurableFieldSpec를 정의하고, history_factory_config에 넣어줘야한다.\n",
    ")"
   ]
  },
  {
   "cell_type": "code",
   "execution_count": 13,
   "metadata": {},
   "outputs": [],
   "source": [
    "# 세션 ID를 구성하는 곳\n",
    "config = {\"configurable\": {\"user_id\": \"user1\", \"conversation_id\": \"conversation1\"}}"
   ]
  },
  {
   "cell_type": "markdown",
   "metadata": {},
   "source": [
    "질문에 이름을 물어보는 질문을 해보겠습니다. 이전에 저장한 대화가 있다면, 올바르게 답할 것입니다.\n",
    "\n",
    "- `chain_with_history` 객체의 `invok`e 메서드를 호출하여 질문에 대한 답변을 생성합니다.\n",
    "- `invoke` 메서드에는 질문 딕셔너리와 `config` 설정이 전달됩니다"
   ]
  },
  {
   "cell_type": "code",
   "execution_count": 14,
   "metadata": {},
   "outputs": [
    {
     "data": {
      "text/plain": [
       "'안녕하세요, 재호님! 만나서 반갑습니다. 어떻게 도와드릴까요?'"
      ]
     },
     "execution_count": 14,
     "metadata": {},
     "output_type": "execute_result"
    }
   ],
   "source": [
    "chain_with_history.invoke({\"question\": \"안녕 반가워 내이름은 재호야\"}, config)"
   ]
  },
  {
   "cell_type": "code",
   "execution_count": 15,
   "metadata": {},
   "outputs": [
    {
     "data": {
      "text/plain": [
       "'재호님이라고 하셨죠! 맞나요?'"
      ]
     },
     "execution_count": 15,
     "metadata": {},
     "output_type": "execute_result"
    }
   ],
   "source": [
    "chain_with_history.invoke({\"question\": \"내 이름이 뭐라고?\"}, config)"
   ]
  },
  {
   "cell_type": "code",
   "execution_count": 16,
   "metadata": {},
   "outputs": [],
   "source": [
    "config2 = {\"configurable\": {\"user_id\": \"user2\", \"conversation_id\": \"conversation2\"}}"
   ]
  },
  {
   "cell_type": "code",
   "execution_count": 17,
   "metadata": {},
   "outputs": [
    {
     "data": {
      "text/plain": [
       "'죄송하지만, 당신의 이름을 알 수 있는 정보가 없습니다. 당신의 이름을 알려주시면 좋겠습니다!'"
      ]
     },
     "execution_count": 17,
     "metadata": {},
     "output_type": "execute_result"
    }
   ],
   "source": [
    "chain_with_history.invoke({\"question\": \"내 이름이 뭐라고?\"}, config2)"
   ]
  },
  {
   "cell_type": "code",
   "execution_count": null,
   "metadata": {},
   "outputs": [],
   "source": []
  }
 ],
 "metadata": {
  "kernelspec": {
   "display_name": "langchain-kr-mcYdBRZz-py3.11",
   "language": "python",
   "name": "python3"
  },
  "language_info": {
   "codemirror_mode": {
    "name": "ipython",
    "version": 3
   },
   "file_extension": ".py",
   "mimetype": "text/x-python",
   "name": "python",
   "nbconvert_exporter": "python",
   "pygments_lexer": "ipython3",
   "version": "3.11.9"
  }
 },
 "nbformat": 4,
 "nbformat_minor": 2
}
