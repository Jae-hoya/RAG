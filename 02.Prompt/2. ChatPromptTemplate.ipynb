{
 "cells": [
  {
   "cell_type": "markdown",
   "id": "ae81b714-aa0e-476e-a2d9-e6c54d136365",
   "metadata": {},
   "source": [
    "# ChatPromptTemplate\n",
    "- 대화 목록을 프롬프트로 주고자 할때 활용. ai와 대화를 할 수 있다.\n",
    "- 메세지는 튜플(tuple)형식이며, (role, message)로 구성하여 리스토로 생성할 수 있다.\n",
    "\n",
    "(role, message)구조\n",
    "\n",
    "### role\n",
    "- `\"system\"`: 시스템 설정 메세지. 주로 전역설정과 관련된 프롬프트. ai role이나, 페르소나등 임무등을 쥐어준다. 적용되는 범위가 대화 전체다.\n",
    "- `\"human\"`: 사용자 입력 메세지\n",
    "- `\"ai\"`: ai의 답변 메세지\n",
    "\n",
    "### Message\n",
    "- 우리의 지시사항, 전역설정 prompt, ai의 답변등 모두 될 수 있다."
   ]
  },
  {
   "cell_type": "code",
   "execution_count": 36,
   "id": "3fc45085-5850-4c35-901a-19253da98be5",
   "metadata": {},
   "outputs": [
    {
     "data": {
      "text/plain": [
       "True"
      ]
     },
     "execution_count": 36,
     "metadata": {},
     "output_type": "execute_result"
    }
   ],
   "source": [
    "from dotenv import load_dotenv\n",
    "load_dotenv()"
   ]
  },
  {
   "cell_type": "code",
   "execution_count": 37,
   "id": "557dddd6-56e4-4d23-b7de-8b0dc3a6f5b6",
   "metadata": {},
   "outputs": [
    {
     "name": "stdout",
     "output_type": "stream",
     "text": [
      "LangSmith 추적을 시작합니다.\n",
      "[프로젝트명]\n",
      "CH02-Prompt\n"
     ]
    }
   ],
   "source": [
    "from langchain_teddynote import logging\n",
    "logging.langsmith(\"CH02-Prompt\")"
   ]
  },
  {
   "cell_type": "code",
   "execution_count": 38,
   "id": "82d0941c-8a6f-4eb6-b65b-458b4905ce33",
   "metadata": {},
   "outputs": [
    {
     "data": {
      "text/plain": [
       "ChatPromptTemplate(input_variables=['country'], messages=[HumanMessagePromptTemplate(prompt=PromptTemplate(input_variables=['country'], template='{country}의 수도는 어디인가요?'))])"
      ]
     },
     "execution_count": 38,
     "metadata": {},
     "output_type": "execute_result"
    }
   ],
   "source": [
    "from langchain_core.prompts import ChatPromptTemplate\n",
    "\n",
    "chat_prompt = ChatPromptTemplate.from_template(\"{country}의 수도는 어디인가요?\")\n",
    "chat_prompt"
   ]
  },
  {
   "cell_type": "code",
   "execution_count": 39,
   "id": "6568ef86-11ec-45f8-823f-d88d95f54038",
   "metadata": {},
   "outputs": [
    {
     "data": {
      "text/plain": [
       "'Human: 대한민국의 수도는 어디인가요?'"
      ]
     },
     "execution_count": 39,
     "metadata": {},
     "output_type": "execute_result"
    }
   ],
   "source": [
    "chat_prompt.format(country=\"대한민국\")"
   ]
  },
  {
   "cell_type": "code",
   "execution_count": 40,
   "id": "28719215-18d7-4885-bf6b-3473b8a30cf4",
   "metadata": {},
   "outputs": [
    {
     "data": {
      "text/plain": [
       "ChatPromptTemplate(input_variables=['name', 'user_input'], messages=[SystemMessagePromptTemplate(prompt=PromptTemplate(input_variables=['name'], template='당신은 친절한 AI 어시스턴트입니다. 당신의 이름은 {name}입니다.')), HumanMessagePromptTemplate(prompt=PromptTemplate(input_variables=[], template='반가워요!')), AIMessagePromptTemplate(prompt=PromptTemplate(input_variables=[], template='안녕하세요! 무엇을 도와드릴까요?')), HumanMessagePromptTemplate(prompt=PromptTemplate(input_variables=['user_input'], template='{user_input}'))])"
      ]
     },
     "execution_count": 40,
     "metadata": {},
     "output_type": "execute_result"
    }
   ],
   "source": [
    "chat_template = ChatPromptTemplate.from_messages(\n",
    "    [\n",
    "        #role, message\n",
    "        (\"system\", \"당신은 친절한 AI 어시스턴트입니다. 당신의 이름은 {name}입니다.\"),\n",
    "        (\"human\", \"반가워요!\"),\n",
    "        (\"ai\", \"안녕하세요! 무엇을 도와드릴까요?\"),\n",
    "        (\"human\", \"{user_input}\")\n",
    "    ]\n",
    ")\n",
    "chat_template"
   ]
  },
  {
   "cell_type": "code",
   "execution_count": 41,
   "id": "b1642eb4-6ae7-423e-8e5b-56fc87b39ae5",
   "metadata": {},
   "outputs": [
    {
     "data": {
      "text/plain": [
       "[SystemMessage(content='당신은 친절한 AI 어시스턴트입니다. 당신의 이름은 방이입니다.'),\n",
       " HumanMessage(content='반가워요!'),\n",
       " AIMessage(content='안녕하세요! 무엇을 도와드릴까요?'),\n",
       " HumanMessage(content='당신의 이름은 무엇입니까?')]"
      ]
     },
     "execution_count": 41,
     "metadata": {},
     "output_type": "execute_result"
    }
   ],
   "source": [
    "messages = chat_template.format_messages(\n",
    "    name=\"방이\", user_input=\"당신의 이름은 무엇입니까?\"\n",
    ")\n",
    "messages\n"
   ]
  },
  {
   "cell_type": "code",
   "execution_count": 42,
   "id": "754bce99-9a15-4162-bd53-b88307866519",
   "metadata": {},
   "outputs": [],
   "source": [
    "from langchain_community.chat_models import ChatOllama\n",
    "llm = ChatOllama(model=\"llama3:8b\")"
   ]
  },
  {
   "cell_type": "code",
   "execution_count": 43,
   "id": "24335b49-8914-488e-8991-da7b044bfc4d",
   "metadata": {},
   "outputs": [
    {
     "data": {
      "text/plain": [
       "\"나의 이름은 방이(Bangi)입니다! 😊 Nice to meet you! I'm here to help and assist with any questions or topics you'd like to discuss. What's on your mind? 🤔\""
      ]
     },
     "execution_count": 43,
     "metadata": {},
     "output_type": "execute_result"
    }
   ],
   "source": [
    "llm.invoke(messages).content"
   ]
  },
  {
   "cell_type": "code",
   "execution_count": 44,
   "id": "93878b11-5c23-4804-864f-467e80a94d23",
   "metadata": {},
   "outputs": [],
   "source": [
    "chain = chat_template | llm"
   ]
  },
  {
   "cell_type": "code",
   "execution_count": 45,
   "id": "3d2f6f10-2a44-4727-bf06-39c0390fe70d",
   "metadata": {},
   "outputs": [
    {
     "data": {
      "text/plain": [
       "'저는 방이(Bangi)입니다! 친절한 AI 어시스턴트로, 다양한 질문과 요구에 응대하여 도움을 드리겠습니다. 반가워요! 😊'"
      ]
     },
     "execution_count": 45,
     "metadata": {},
     "output_type": "execute_result"
    }
   ],
   "source": [
    "chain.invoke({\"name\": \"방이\", \"user_input\": \"당신의 이름은 무엇입니까?\"}).content"
   ]
  },
  {
   "cell_type": "markdown",
   "id": "08cd17bc-ee04-4aa8-a39e-5273911481a4",
   "metadata": {},
   "source": [
    "# MessagePlaceholder\n",
    "- 확정되지 않은 메세지나 대화를 나중에 넣어주기 위해 위치만 잡아주는 것이다."
   ]
  },
  {
   "cell_type": "code",
   "execution_count": 46,
   "id": "082ce285-f17f-459b-831d-1e0435dbb730",
   "metadata": {},
   "outputs": [
    {
     "data": {
      "text/plain": [
       "ChatPromptTemplate(input_variables=['conversation', 'word_count'], input_types={'conversation': typing.List[typing.Union[langchain_core.messages.ai.AIMessage, langchain_core.messages.human.HumanMessage, langchain_core.messages.chat.ChatMessage, langchain_core.messages.system.SystemMessage, langchain_core.messages.function.FunctionMessage, langchain_core.messages.tool.ToolMessage]]}, messages=[MessagesPlaceholder(variable_name='conversation'), HumanMessagePromptTemplate(prompt=PromptTemplate(input_variables=['word_count'], template='지금까지의 대화를 {word_count} 단어로 요약합니다.'))])"
      ]
     },
     "execution_count": 46,
     "metadata": {},
     "output_type": "execute_result"
    }
   ],
   "source": [
    "from langchain_core.prompts import ChatPromptTemplate, MessagesPlaceholder\n",
    "\n",
    "chat_prompt = ChatPromptTemplate.from_messages(\n",
    "    [\n",
    "        MessagesPlaceholder(variable_name=\"conversation\"),\n",
    "        ('human', '지금까지의 대화를 {word_count} 단어로 요약합니다.')\n",
    "    ]\n",
    ")\n",
    "chat_prompt"
   ]
  },
  {
   "cell_type": "markdown",
   "id": "37c4c5dc-f488-478b-9897-cd29e4deae3d",
   "metadata": {},
   "source": [
    "##### `conversation` 대화목록을 나중에 추가하고자 할 때, `MessagesPlaceholder`를 사용할 수 있다."
   ]
  },
  {
   "cell_type": "code",
   "execution_count": 48,
   "id": "899488e5-e528-427b-97bd-10583bbe1543",
   "metadata": {},
   "outputs": [],
   "source": [
    "# () tuple형태, {} dictionary형태, [] list형태"
   ]
  },
  {
   "cell_type": "code",
   "execution_count": 49,
   "id": "198fe17c-335c-40dd-bb76-56a5af33c2e1",
   "metadata": {},
   "outputs": [
    {
     "data": {
      "text/plain": [
       "'Human: 안녕하세요! 저는 오늘 새로 입사한 뎨방입니다. 만나서 반갑습니다.\\nAI: 반가워요! 앞으로 잘 부탁드립니다!\\nHuman: 지금까지의 대화를 5 단어로 요약합니다.'"
      ]
     },
     "execution_count": 49,
     "metadata": {},
     "output_type": "execute_result"
    }
   ],
   "source": [
    "chat_prompt.format(\n",
    "    word_count=5,\n",
    "    conversation=[\n",
    "        (\"human\", \"안녕하세요! 저는 오늘 새로 입사한 뎨방입니다. 만나서 반갑습니다.\"),\n",
    "        ('ai', \"반가워요! 앞으로 잘 부탁드립니다!\")\n",
    "    ]\n",
    ")"
   ]
  },
  {
   "cell_type": "code",
   "execution_count": 50,
   "id": "ce9483e0-c262-4931-ada2-d8daca8a109b",
   "metadata": {},
   "outputs": [],
   "source": [
    "chain = chat_prompt | llm"
   ]
  },
  {
   "cell_type": "code",
   "execution_count": 51,
   "id": "493eadc2-b118-4563-9b12-b50b6a8204a9",
   "metadata": {},
   "outputs": [
    {
     "data": {
      "text/plain": [
       "'\"안녕하세요 반가워요 등대화\"'"
      ]
     },
     "execution_count": 51,
     "metadata": {},
     "output_type": "execute_result"
    }
   ],
   "source": [
    "chain.invoke(\n",
    "    {\n",
    "        \"word_count\":5,\n",
    "        \"conversation\": [\n",
    "            (\n",
    "                \"human\",\n",
    "                \"안녕하세요! 저는 오늘 새로 입사한 뎨방입니다. 만나서 반갑습니다.\"\n",
    "            ),\n",
    "            (\"ai\", \"반가워요! 앞으로 잘 부탁드립니다.\")\n",
    "        ]\n",
    "    }\n",
    ").content"
   ]
  },
  {
   "cell_type": "code",
   "execution_count": 52,
   "id": "11436584-a02b-4564-a099-98c46daff6e8",
   "metadata": {},
   "outputs": [
    {
     "ename": "NameError",
     "evalue": "name 'conversation' is not defined",
     "output_type": "error",
     "traceback": [
      "\u001b[1;31m---------------------------------------------------------------------------\u001b[0m",
      "\u001b[1;31mNameError\u001b[0m                                 Traceback (most recent call last)",
      "Cell \u001b[1;32mIn[52], line 1\u001b[0m\n\u001b[1;32m----> 1\u001b[0m conversation\n",
      "\u001b[1;31mNameError\u001b[0m: name 'conversation' is not defined"
     ]
    }
   ],
   "source": [
    "conversation"
   ]
  },
  {
   "cell_type": "code",
   "execution_count": null,
   "id": "cf80290e-cb7c-4eae-95ee-84d6525f1b64",
   "metadata": {},
   "outputs": [],
   "source": []
  }
 ],
 "metadata": {
  "kernelspec": {
   "display_name": "Python 3 (ipykernel)",
   "language": "python",
   "name": "python3"
  },
  "language_info": {
   "codemirror_mode": {
    "name": "ipython",
    "version": 3
   },
   "file_extension": ".py",
   "mimetype": "text/x-python",
   "name": "python",
   "nbconvert_exporter": "python",
   "pygments_lexer": "ipython3",
   "version": "3.12.3"
  }
 },
 "nbformat": 4,
 "nbformat_minor": 5
}
