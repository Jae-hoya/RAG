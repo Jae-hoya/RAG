{
 "cells": [
  {
   "cell_type": "code",
   "execution_count": 3,
   "id": "61d0c9e8-2fdd-4549-bd69-e86f9f6ce183",
   "metadata": {},
   "outputs": [
    {
     "data": {
      "text/plain": [
       "True"
      ]
     },
     "execution_count": 3,
     "metadata": {},
     "output_type": "execute_result"
    }
   ],
   "source": [
    "from dotenv import load_dotenv\n",
    "load_dotenv()"
   ]
  },
  {
   "cell_type": "code",
   "execution_count": 4,
   "id": "a294e71c-e956-450a-8df4-fdcb0995bf55",
   "metadata": {},
   "outputs": [
    {
     "name": "stdout",
     "output_type": "stream",
     "text": [
      "LangSmith 추적을 시작합니다.\n",
      "[프로젝트명]\n",
      "CH02-Prompt\n"
     ]
    }
   ],
   "source": [
    "from langchain_teddynote import logging\n",
    "logging.langsmith(\"CH02-Prompt\")"
   ]
  },
  {
   "cell_type": "code",
   "execution_count": 6,
   "id": "13a2a867-f324-4914-b43e-a909f927c7e2",
   "metadata": {},
   "outputs": [
    {
     "data": {
      "text/plain": [
       "ChatOpenAI(client=<openai.resources.chat.completions.Completions object at 0x000001D664E32690>, async_client=<openai.resources.chat.completions.AsyncCompletions object at 0x000001D667583650>, openai_api_key=SecretStr('**********'), openai_proxy='')"
      ]
     },
     "execution_count": 6,
     "metadata": {},
     "output_type": "execute_result"
    }
   ],
   "source": [
    "# from langchain_openai import ChatOpenAI\n",
    "# llm = ChatOpenAI()\n",
    "# llm"
   ]
  },
  {
   "cell_type": "code",
   "execution_count": 21,
   "id": "1b04a557-db02-45bd-9e59-fb7c32fe0343",
   "metadata": {},
   "outputs": [],
   "source": [
    "from langchain_community.chat_models import ChatOllama\n",
    "llm = ChatOllama(model=\"llama3:8b\")"
   ]
  },
  {
   "cell_type": "markdown",
   "id": "c2fc40d4-28e7-45bc-a932-81eccee72aab",
   "metadata": {},
   "source": [
    "# from_template()메소드를 사용하여 PromptTemplate객체 생성\n",
    "- 치환할 변수를 `{변수}` 로 묶어서 템플릿을 정의 - 중괄호 안에 있는것이 변수이다."
   ]
  },
  {
   "cell_type": "code",
   "execution_count": 23,
   "id": "12ebfa36-daee-4d4f-a86b-03d5a9fe9664",
   "metadata": {},
   "outputs": [
    {
     "data": {
      "text/plain": [
       "PromptTemplate(input_variables=['country'], template='{country}의 수도는 어디인가요?')"
      ]
     },
     "execution_count": 23,
     "metadata": {},
     "output_type": "execute_result"
    }
   ],
   "source": [
    "from langchain_core.prompts import PromptTemplate\n",
    "\n",
    "template = \"{country}의 수도는 어디인가요?\"\n",
    "\n",
    "prompt = PromptTemplate.from_template(template)\n",
    "prompt"
   ]
  },
  {
   "cell_type": "code",
   "execution_count": 24,
   "id": "4962039a-fdae-41d1-a379-0a86b9186fa4",
   "metadata": {},
   "outputs": [
    {
     "data": {
      "text/plain": [
       "'대한민국의 수도는 어디인가요?'"
      ]
     },
     "execution_count": 24,
     "metadata": {},
     "output_type": "execute_result"
    }
   ],
   "source": [
    "# format을 통해서 중간에 변수를 임의로 채워서 확인할 수 있다 .\n",
    "prompt = prompt.format(country=\"대한민국\")\n",
    "prompt"
   ]
  },
  {
   "cell_type": "code",
   "execution_count": 25,
   "id": "203541fc-241b-4c07-9fad-952ae832698a",
   "metadata": {},
   "outputs": [
    {
     "data": {
      "text/plain": [
       "PromptTemplate(input_variables=['country'], template='{country}의 수도는 어디인가요?')"
      ]
     },
     "execution_count": 25,
     "metadata": {},
     "output_type": "execute_result"
    }
   ],
   "source": [
    "from langchain_core.prompts import PromptTemplate\n",
    "\n",
    "template = \"{country}의 수도는 어디인가요?\"\n",
    "\n",
    "prompt = PromptTemplate.from_template(template)\n",
    "prompt"
   ]
  },
  {
   "cell_type": "code",
   "execution_count": 28,
   "id": "35975cf6-347e-4946-8e6e-101d651144a7",
   "metadata": {},
   "outputs": [
    {
     "name": "stdout",
     "output_type": "stream",
     "text": [
      "content='😊\\n\\nThe capital of South Korea is Seoul (,).' response_metadata={'model': 'llama3:8b', 'created_at': '2024-07-04T16:22:03.8948344Z', 'message': {'role': 'assistant', 'content': ''}, 'done_reason': 'stop', 'done': True, 'total_duration': 533675000, 'load_duration': 3530900, 'prompt_eval_duration': 257069000, 'eval_count': 14, 'eval_duration': 271293000} id='run-124747e7-4af3-4a3a-a633-c0d019c57534-0'\n",
      "😊\n",
      "\n",
      "The capital of South Korea is Seoul (, Hangugeo:). It is the largest city in Korea and the country's economic, cultural, and political hub.\n"
     ]
    }
   ],
   "source": [
    "chain = prompt | llm\n",
    "print(chain.invoke({\"country\":\"대한민국\"}))\n",
    "print(chain.invoke({\"country\":\"대한민국\"}).content)"
   ]
  },
  {
   "cell_type": "markdown",
   "id": "d2901be5-988f-4e5d-8aee-d5d54c453d35",
   "metadata": {},
   "source": [
    "# PromptTemplate객체 생성과 동시에 prompt생성"
   ]
  },
  {
   "cell_type": "code",
   "execution_count": 30,
   "id": "5a554c9e-2bc8-4b5f-935c-dc03a8e64750",
   "metadata": {},
   "outputs": [
    {
     "data": {
      "text/plain": [
       "PromptTemplate(input_variables=['country'], template='{country}의 수도는 어디인가요?')"
      ]
     },
     "execution_count": 30,
     "metadata": {},
     "output_type": "execute_result"
    }
   ],
   "source": [
    "template  = \"{country}의 수도는 어디인가요?\"\n",
    "\n",
    "teomplate = PromptTemplate(\n",
    "    template=template,\n",
    "    input_variables = [\"country\"],\n",
    ")\n",
    "prompt"
   ]
  },
  {
   "cell_type": "code",
   "execution_count": 31,
   "id": "2e59c8ec-c430-4f28-bc90-7475705e5655",
   "metadata": {},
   "outputs": [
    {
     "data": {
      "text/plain": [
       "'대한민국의 수도는 어디인가요?'"
      ]
     },
     "execution_count": 31,
     "metadata": {},
     "output_type": "execute_result"
    }
   ],
   "source": [
    "prompt.format(country=\"대한민국\")"
   ]
  },
  {
   "cell_type": "code",
   "execution_count": 32,
   "id": "cb7b8280-4b11-4ea1-aee2-95577a9d6e5f",
   "metadata": {},
   "outputs": [
    {
     "data": {
      "text/plain": [
       "PromptTemplate(input_variables=['country1'], partial_variables={'country2': '미국'}, template='{country1}과 {country2}의 수도는 어디인가요?')"
      ]
     },
     "execution_count": 32,
     "metadata": {},
     "output_type": "execute_result"
    }
   ],
   "source": [
    "template = \"{country1}과 {country2}의 수도는 어디인가요?\"\n",
    "\n",
    "prompt = PromptTemplate(\n",
    "    template=template,\n",
    "    input_variables=['country1'],\n",
    "    partial_variables={\n",
    "        \"country2\": \"미국\"\n",
    "    }\n",
    ")\n",
    "# country2는 미국으로 채워진 상태로 들어간다.\n",
    "prompt"
   ]
  },
  {
   "cell_type": "code",
   "execution_count": 33,
   "id": "92570917-e073-4b0c-89bb-5b61838d73d8",
   "metadata": {},
   "outputs": [
    {
     "data": {
      "text/plain": [
       "'대한민국과 미국의 수도는 어디인가요?'"
      ]
     },
     "execution_count": 33,
     "metadata": {},
     "output_type": "execute_result"
    }
   ],
   "source": [
    "prompt.format(country1=\"대한민국\")"
   ]
  },
  {
   "cell_type": "code",
   "execution_count": 34,
   "id": "11e1c391-d458-4454-9061-7599891d8e81",
   "metadata": {},
   "outputs": [
    {
     "data": {
      "text/plain": [
       "PromptTemplate(input_variables=['country1', 'country2'], template='{country1}과 {country2}의 수도는 어디인가요?')"
      ]
     },
     "execution_count": 34,
     "metadata": {},
     "output_type": "execute_result"
    }
   ],
   "source": [
    "prompt = PromptTemplate.from_template(template)\n",
    "prompt"
   ]
  },
  {
   "cell_type": "code",
   "execution_count": 39,
   "id": "3f01c545-29ab-47bd-b925-abb8c8311f6c",
   "metadata": {},
   "outputs": [
    {
     "data": {
      "text/plain": [
       "PromptTemplate(input_variables=['country1'], partial_variables={'country2': '캐나다'}, template='{country1}과 {country2}의 수도는 어디인가요?')"
      ]
     },
     "execution_count": 39,
     "metadata": {},
     "output_type": "execute_result"
    }
   ],
   "source": [
    "prompt_partial = prompt.partial(country2=\"캐나다\")\n",
    "prompt_partial"
   ]
  },
  {
   "cell_type": "code",
   "execution_count": 40,
   "id": "18b78382-0423-4bfc-a3f9-2e99a7176c8b",
   "metadata": {},
   "outputs": [
    {
     "data": {
      "text/plain": [
       "'대한민국과 캐나다의 수도는 어디인가요?'"
      ]
     },
     "execution_count": 40,
     "metadata": {},
     "output_type": "execute_result"
    }
   ],
   "source": [
    "prompt_partial.format(country1=\"대한민국\")"
   ]
  },
  {
   "cell_type": "code",
   "execution_count": 41,
   "id": "5dd47dd8-5ac0-4bb1-9e7b-15e8b3c8abeb",
   "metadata": {},
   "outputs": [],
   "source": [
    "chain = prompt_partial | llm"
   ]
  },
  {
   "cell_type": "code",
   "execution_count": 42,
   "id": "a5073415-f5e1-4c5e-ad3f-ec1493cb22fe",
   "metadata": {},
   "outputs": [
    {
     "data": {
      "text/plain": [
       "'😊\\n\\nThe capital of South Korea (대한민국) is Seoul (, Seoul), which is located in the northwest part of the country.\\n\\nAnd the capital of Canada is Ottawa (, Ottawa), which is located in the province of Ontario. 🇨🇦'"
      ]
     },
     "execution_count": 42,
     "metadata": {},
     "output_type": "execute_result"
    }
   ],
   "source": [
    "chain.invoke(\"대한민국\").content"
   ]
  },
  {
   "cell_type": "code",
   "execution_count": 43,
   "id": "8f27c16a-5388-4fa0-851e-4873bb0993a4",
   "metadata": {},
   "outputs": [
    {
     "data": {
      "text/plain": [
       "'😊\\n\\nThe capital of South Korea (대한민국) is Seoul (, officially known as Seoul Special Metropolitan City).\\n\\nAnd the capital of Australia (호주) is Canberra ().\\n\\nSo, they are two separate countries with their own capitals! 🇰🇷🇦🇺'"
      ]
     },
     "execution_count": 43,
     "metadata": {},
     "output_type": "execute_result"
    }
   ],
   "source": [
    "chain.invoke({\"country1\":\"대한민국\", \"country2\":\"호주\"}).content"
   ]
  },
  {
   "cell_type": "markdown",
   "id": "5a62fd9b-66fe-4f24-908d-ba238d4346f1",
   "metadata": {},
   "source": [
    "# Partial_variables: 부분변수 채움"
   ]
  },
  {
   "cell_type": "code",
   "execution_count": 47,
   "id": "125226b6-af13-4eef-b471-d8ba0c709666",
   "metadata": {},
   "outputs": [
    {
     "data": {
      "text/plain": [
       "'July 05'"
      ]
     },
     "execution_count": 47,
     "metadata": {},
     "output_type": "execute_result"
    }
   ],
   "source": [
    "from datetime import datetime\n",
    "\n",
    "datetime.now().strftime(\"%B %d\")"
   ]
  },
  {
   "cell_type": "code",
   "execution_count": 48,
   "id": "5fa1d0de-b6de-4951-9cb4-fe08d1435a83",
   "metadata": {},
   "outputs": [],
   "source": [
    "def get_today():\n",
    "    return datetime.now().strftime(\"%bB %d\")"
   ]
  },
  {
   "cell_type": "code",
   "execution_count": 49,
   "id": "279156a8-f4bc-412e-90d1-bbbb4ec58833",
   "metadata": {},
   "outputs": [
    {
     "data": {
      "text/plain": [
       "PromptTemplate(input_variables=['n'], partial_variables={'today': <function get_today at 0x000001D66B3C7C40>}, template='오늘의 날짜는 {today}입니다. 오늘이 생일인 {n}명을 나열해 주세요. 생년월일을 표기해주세요.')"
      ]
     },
     "execution_count": 49,
     "metadata": {},
     "output_type": "execute_result"
    }
   ],
   "source": [
    "prompt = PromptTemplate(\n",
    "    template = \"오늘의 날짜는 {today}입니다. 오늘이 생일인 {n}명을 나열해 주세요. 생년월일을 표기해주세요.\",\n",
    "    input_variables = [\"n\"],\n",
    "    partial_variables={\n",
    "        \"today\":get_today\n",
    "    },\n",
    ")\n",
    "prompt"
   ]
  },
  {
   "cell_type": "code",
   "execution_count": 50,
   "id": "eb9352a4-70d0-4f3e-8f9c-79ed0a2271fe",
   "metadata": {},
   "outputs": [
    {
     "data": {
      "text/plain": [
       "'오늘의 날짜는 JulB 05입니다. 오늘이 생일인 3명을 나열해 주세요. 생년월일을 표기해주세요.'"
      ]
     },
     "execution_count": 50,
     "metadata": {},
     "output_type": "execute_result"
    }
   ],
   "source": [
    "prompt.format(n=3)"
   ]
  },
  {
   "cell_type": "code",
   "execution_count": 56,
   "id": "c7e502cc-da39-44c6-bf66-70967327a634",
   "metadata": {},
   "outputs": [],
   "source": [
    "chain = prompt | llm"
   ]
  },
  {
   "cell_type": "code",
   "execution_count": 57,
   "id": "53d014f0-9dd3-4591-98b3-3a13f4ea3c7e",
   "metadata": {},
   "outputs": [
    {
     "name": "stdout",
     "output_type": "stream",
     "text": [
      "🎉\n",
      "\n",
      "Based on the date you provided, July 5th (Jul 05), here are three people who share their birthday with you:\n",
      "\n",
      "1. **Marilyn Monroe** - June 1, 1926\n",
      "2. **Lucille Ball** - August 6, 1911\n",
      "3. **Kirk Douglas** - December 9, 1916\n",
      "\n",
      "Note: These individuals may not be alive today, but they share the same birthday as you! 🎂\n"
     ]
    }
   ],
   "source": [
    "print(chain.invoke(3).content)"
   ]
  },
  {
   "cell_type": "code",
   "execution_count": 58,
   "id": "87f01659-4b0b-4dc5-9f72-a02f4375b096",
   "metadata": {},
   "outputs": [
    {
     "name": "stdout",
     "output_type": "stream",
     "text": [
      "Happy birthday to those born on January 2nd!\n",
      "\n",
      "Here are three notable individuals born on this day:\n",
      "\n",
      "1. **Pierre Trudeau** (January 2, 1918) - Canadian politician and lawyer, father of current Canadian Prime Minister Justin Trudeau.\n",
      "2. **James Levine** (January 2, 1943) - American conductor, music director of the Chicago Symphony Orchestra from 1986 to 2014.\n",
      "3. **Sylvain Chomet** (January 2, 1965) - French animator and filmmaker, known for his work on films like \"The Triplets of Belleville\" and \"Delicatessen\".\n",
      "\n",
      "Hope this birthday shoutout brings a smile to your face! 🎉\n"
     ]
    }
   ],
   "source": [
    "print(chain.invoke({\"today\": \"Jan 02\", \"n\": 3}).content)"
   ]
  },
  {
   "cell_type": "code",
   "execution_count": null,
   "id": "d75b8d2e",
   "metadata": {},
   "outputs": [],
   "source": []
  },
  {
   "cell_type": "code",
   "execution_count": null,
   "id": "a82e1fee-b625-47f0-be65-d746ca30bcde",
   "metadata": {},
   "outputs": [],
   "source": []
  },
  {
   "cell_type": "markdown",
   "id": "bd9ff2f5-224d-4b98-a52d-93265fb8cbd9",
   "metadata": {},
   "source": [
    "# 파일로부터 template읽어오기"
   ]
  },
  {
   "cell_type": "code",
   "execution_count": 67,
   "id": "eba6b73a-25f6-403b-9da4-64ac818ae13e",
   "metadata": {},
   "outputs": [],
   "source": [
    "from langchain_core.prompts import load_prompt\n",
    "\n",
    "#load_prompt(\"prompts/fruit_color.yaml\", encoding=\"cp949\")\n",
    "prompt = load_prompt(\"prompts/fruit_color.yaml\", encoding=\"utf-8\")"
   ]
  },
  {
   "cell_type": "code",
   "execution_count": 68,
   "id": "0ab96429-5539-4449-8d76-4b7eb43bc51b",
   "metadata": {},
   "outputs": [
    {
     "data": {
      "text/plain": [
       "PromptTemplate(input_variables=['fruit'], template='{fruit}의 색깔이 뭐야?')"
      ]
     },
     "execution_count": 68,
     "metadata": {},
     "output_type": "execute_result"
    }
   ],
   "source": [
    "prompt"
   ]
  },
  {
   "cell_type": "code",
   "execution_count": 70,
   "id": "8e81d144-8dd0-45c2-9ba5-57a07cc98a56",
   "metadata": {},
   "outputs": [
    {
     "data": {
      "text/plain": [
       "'사과의 색깔이 뭐야?'"
      ]
     },
     "execution_count": 70,
     "metadata": {},
     "output_type": "execute_result"
    }
   ],
   "source": [
    "prompt.format(fruit=\"사과\")"
   ]
  },
  {
   "cell_type": "code",
   "execution_count": 71,
   "id": "40a8eaba-4df8-4a35-bb84-949a1f7a135a",
   "metadata": {},
   "outputs": [
    {
     "data": {
      "text/plain": [
       "PromptTemplate(input_variables=['country'], template='{country}의 수도에 대해서 알려주세요.\\n수도의 특징을 다음의 양식에 맞게 정리해 주세요.\\n300자 내외로 작성해 주세요.\\n한글로 작성해 주세요.\\n----\\n[양식]\\n1. 면적\\n2. 인구\\n3. 역사적 장소\\n4. 특산품\\n\\n#Answer:\\n')"
      ]
     },
     "execution_count": 71,
     "metadata": {},
     "output_type": "execute_result"
    }
   ],
   "source": [
    "prompt2 = load_prompt(\"prompts/capital.yaml\", encoding=\"utf-8\")\n",
    "prompt2"
   ]
  },
  {
   "cell_type": "code",
   "execution_count": 73,
   "id": "f65649a0-ed3a-4d91-a5e2-d9333834a57b",
   "metadata": {},
   "outputs": [
    {
     "name": "stdout",
     "output_type": "stream",
     "text": [
      "대한민국의 수도에 대해서 알려주세요.\n",
      "수도의 특징을 다음의 양식에 맞게 정리해 주세요.\n",
      "300자 내외로 작성해 주세요.\n",
      "한글로 작성해 주세요.\n",
      "----\n",
      "[양식]\n",
      "1. 면적\n",
      "2. 인구\n",
      "3. 역사적 장소\n",
      "4. 특산품\n",
      "\n",
      "#Answer:\n",
      "\n"
     ]
    }
   ],
   "source": [
    "print(prompt2.format(country=\"대한민국\"))"
   ]
  },
  {
   "cell_type": "code",
   "execution_count": 74,
   "id": "cbb1952d-270b-4b45-998b-77f8ed6b67ee",
   "metadata": {},
   "outputs": [],
   "source": [
    "from langchain_community.chat_models import ChatOllama\n",
    "llm = ChatOllama(model=\"llama3:8b\")"
   ]
  },
  {
   "cell_type": "code",
   "execution_count": 75,
   "id": "e50f2999-cdf2-48ee-9ba8-a0358a26bb55",
   "metadata": {},
   "outputs": [],
   "source": [
    "from langchain_core.output_parsers import StrOutputParser"
   ]
  },
  {
   "cell_type": "code",
   "execution_count": 77,
   "id": "c62b61a0-c815-4f32-a041-04ab2751389d",
   "metadata": {},
   "outputs": [],
   "source": [
    "chain = prompt2 | llm | StrOutputParser()"
   ]
  },
  {
   "cell_type": "code",
   "execution_count": 79,
   "id": "37163c9f-875b-487b-a323-0023c6ff2605",
   "metadata": {},
   "outputs": [
    {
     "name": "stdout",
     "output_type": "stream",
     "text": [
      "🇰🇷\n",
      "\n",
      "대한민국의 수도는 서울(Segyeol)입니다.\n",
      "\n",
      "**1. 면적**\n",
      "서울시의 면적은 605.25km²입니다.\n",
      "\n",
      "**2. 인구**\n",
      "2020년 기준으로, 서울시의 인구는 약 10,221,000명입니다.\n",
      "\n",
      "**3. 역사적 장소**\n",
      "서울은 대한민국의 역사를 자랑하는 도시입니다. 고조선 시대부터 조선왕朝, 대한제국, 일제 강점기까지 다양한 역사를 갖추고 있습니다. 대표적인 역사적 장소로는 경복궁, 창덕궁, 덕수궁 등이 있습니다.\n",
      "\n",
      "**4. 특산품**\n",
      "서울은 곡물과 과일 등의 농산물을 생산합니다. 특히, 서울의 특산품으로는 감자, 밤, 홍삼, 등심 등이 있습니다.\n",
      "\n",
      "이러한 특징으로 인해, 서울은 대한민국의 수도로써 중요한 역할을 수행하고 있습니다.\n"
     ]
    }
   ],
   "source": [
    "print(chain.invoke({\"country\": \"대한민국\"}))"
   ]
  },
  {
   "cell_type": "code",
   "execution_count": 80,
   "id": "986044ca-214e-4976-bc0c-6228504d4322",
   "metadata": {},
   "outputs": [],
   "source": [
    "from langchain_teddynote.messages import stream_response"
   ]
  },
  {
   "cell_type": "code",
   "execution_count": 81,
   "id": "8b2d2828-3485-47a7-9540-e556af90dbb7",
   "metadata": {},
   "outputs": [],
   "source": [
    "answer = chain.stream({\"country\": \"대한민국\"})"
   ]
  },
  {
   "cell_type": "code",
   "execution_count": 83,
   "id": "a93a37d4-125d-48b4-9a1a-bb7375c3cca3",
   "metadata": {},
   "outputs": [
    {
     "name": "stdout",
     "output_type": "stream",
     "text": [
      "Here's the information about the capital of South Korea, Seoul:\n",
      "\n",
      "**서울특별시 (Seoul Special City)**\n",
      "\n",
      "**1. 면적 (Area)**\n",
      ": 605.25 km²\n",
      "\n",
      "**2. 인구 (Population)**\n",
      ": approximately 10 million people (as of 2020)\n",
      "\n",
      "**3. 역사적 장소 (Historic Places)**\n",
      ": Gyeongbokgung Palace, Changdeokgung Palace, Bukchon Hanok Village, Namsan Tower (Seoul Tower), and the National Folk Museum are some of the many historic places to visit in Seoul.\n",
      "\n",
      "**4. 특산품 (Special Products)**\n",
      ": Kimchi, doenjang (fermented soybean paste), gochujang (Korean chili paste), and handmade crafts like pottery and woodcarvings are some of the special products that can be found in Seoul.\n",
      "\n",
      "Note: The information is accurate as of 2020, but please note that population figures may have changed since then."
     ]
    }
   ],
   "source": [
    "stream_response(answer)"
   ]
  },
  {
   "cell_type": "code",
   "execution_count": 84,
   "id": "4e8fe195-2924-4a2f-9493-67362c23fcf1",
   "metadata": {},
   "outputs": [],
   "source": [
    "for token in answer:\n",
    "    print(token.content, end=\"\", flush=True)"
   ]
  },
  {
   "cell_type": "code",
   "execution_count": 85,
   "id": "0d99d7b3-1602-4a10-b40d-b45bbd991b47",
   "metadata": {},
   "outputs": [],
   "source": [
    "def merge_docs(retrieved_docs):\n",
    "    return \"\\n\\n\".join([d.content for d in retrieved_docs])"
   ]
  },
  {
   "cell_type": "code",
   "execution_count": null,
   "id": "dd58a2c9-da83-48bc-97cc-a99df1c78c7f",
   "metadata": {},
   "outputs": [],
   "source": [
    "# ChatPromptTemplate"
   ]
  }
 ],
 "metadata": {
  "kernelspec": {
   "display_name": "Python 3 (ipykernel)",
   "language": "python",
   "name": "python3"
  },
  "language_info": {
   "codemirror_mode": {
    "name": "ipython",
    "version": 3
   },
   "file_extension": ".py",
   "mimetype": "text/x-python",
   "name": "python",
   "nbconvert_exporter": "python",
   "pygments_lexer": "ipython3",
   "version": "3.12.3"
  }
 },
 "nbformat": 4,
 "nbformat_minor": 5
}
