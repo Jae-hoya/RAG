{
 "cells": [
  {
   "cell_type": "code",
   "execution_count": 33,
   "metadata": {},
   "outputs": [
    {
     "data": {
      "text/plain": [
       "True"
      ]
     },
     "execution_count": 33,
     "metadata": {},
     "output_type": "execute_result"
    }
   ],
   "source": [
    "from dotenv import load_dotenv\n",
    "load_dotenv()"
   ]
  },
  {
   "cell_type": "code",
   "execution_count": 32,
   "metadata": {},
   "outputs": [
    {
     "name": "stdout",
     "output_type": "stream",
     "text": [
      "LangSmith 추적을 시작합니다.\n",
      "[프로젝트명]\n",
      "CH16-Evaluations\n"
     ]
    }
   ],
   "source": [
    "from langchain_teddynote import logging\n",
    "\n",
    "logging.langsmith(\"CH16-Evaluations\")"
   ]
  },
  {
   "cell_type": "code",
   "execution_count": 3,
   "metadata": {},
   "outputs": [
    {
     "data": {
      "text/html": [
       "<div>\n",
       "<style scoped>\n",
       "    .dataframe tbody tr th:only-of-type {\n",
       "        vertical-align: middle;\n",
       "    }\n",
       "\n",
       "    .dataframe tbody tr th {\n",
       "        vertical-align: top;\n",
       "    }\n",
       "\n",
       "    .dataframe thead th {\n",
       "        text-align: right;\n",
       "    }\n",
       "</style>\n",
       "<table border=\"1\" class=\"dataframe\">\n",
       "  <thead>\n",
       "    <tr style=\"text-align: right;\">\n",
       "      <th></th>\n",
       "      <th>question</th>\n",
       "      <th>contexts</th>\n",
       "      <th>ground_truth</th>\n",
       "      <th>evolution_type</th>\n",
       "      <th>metadata</th>\n",
       "      <th>episode_done</th>\n",
       "    </tr>\n",
       "  </thead>\n",
       "  <tbody>\n",
       "    <tr>\n",
       "      <th>0</th>\n",
       "      <td>What role does content moderation play in the ...</td>\n",
       "      <td>['£유튜브, 특정인을 모방한 AI 생성 콘텐츠에 대한 삭제 요청에도 대응 계획\\n...</td>\n",
       "      <td>Content moderation plays a crucial role in AI ...</td>\n",
       "      <td>simple</td>\n",
       "      <td>[{'source': 'data/SPRI_AI_Brief_2023년12월호_F.pd...</td>\n",
       "      <td>True</td>\n",
       "    </tr>\n",
       "    <tr>\n",
       "      <th>1</th>\n",
       "      <td>What are the key aspects of the AI Development...</td>\n",
       "      <td>['SPRi AI Brief |\\n2023-12월호\\nG7, 히로시마 AI 프로세스...</td>\n",
       "      <td>The key aspects of the AI Development Guidelin...</td>\n",
       "      <td>simple</td>\n",
       "      <td>[{'source': 'data/SPRI_AI_Brief_2023년12월호_F.pd...</td>\n",
       "      <td>True</td>\n",
       "    </tr>\n",
       "    <tr>\n",
       "      <th>2</th>\n",
       "      <td>What was the purpose of the AI Safety Summit h...</td>\n",
       "      <td>['1. 정책/법제 2. 기업/산업 3. 기술/연구 4. 인력/교육\\n영국 AI 안...</td>\n",
       "      <td>The purpose of the AI Safety Summit held in No...</td>\n",
       "      <td>simple</td>\n",
       "      <td>[{'source': 'data/SPRI_AI_Brief_2023년12월호_F.pd...</td>\n",
       "      <td>True</td>\n",
       "    </tr>\n",
       "    <tr>\n",
       "      <th>3</th>\n",
       "      <td>What does 'Operationalizing Progress' refer to...</td>\n",
       "      <td>['구글 딥마인드, 범용 AI 모델의 기능과 동작에 대한 분류 체계 발표\\nKEY ...</td>\n",
       "      <td>The term 'Operationalizing Progress' in the co...</td>\n",
       "      <td>simple</td>\n",
       "      <td>[{'source': 'data/SPRI_AI_Brief_2023년12월호_F.pd...</td>\n",
       "      <td>True</td>\n",
       "    </tr>\n",
       "    <tr>\n",
       "      <th>4</th>\n",
       "      <td>What improvements does Tongyi Qianwen 2.0 have...</td>\n",
       "      <td>['1. 정책/법제 2. 기업/산업 3. 기술/연구 4. 인력/교육\\n알리바바 클라...</td>\n",
       "      <td>Tongyi Qianwen 2.0 has improvements over the p...</td>\n",
       "      <td>reasoning</td>\n",
       "      <td>[{'source': 'data/SPRI_AI_Brief_2023년12월호_F.pd...</td>\n",
       "      <td>True</td>\n",
       "    </tr>\n",
       "  </tbody>\n",
       "</table>\n",
       "</div>"
      ],
      "text/plain": [
       "                                            question  \\\n",
       "0  What role does content moderation play in the ...   \n",
       "1  What are the key aspects of the AI Development...   \n",
       "2  What was the purpose of the AI Safety Summit h...   \n",
       "3  What does 'Operationalizing Progress' refer to...   \n",
       "4  What improvements does Tongyi Qianwen 2.0 have...   \n",
       "\n",
       "                                            contexts  \\\n",
       "0  ['£유튜브, 특정인을 모방한 AI 생성 콘텐츠에 대한 삭제 요청에도 대응 계획\\n...   \n",
       "1  ['SPRi AI Brief |\\n2023-12월호\\nG7, 히로시마 AI 프로세스...   \n",
       "2  ['1. 정책/법제 2. 기업/산업 3. 기술/연구 4. 인력/교육\\n영국 AI 안...   \n",
       "3  ['구글 딥마인드, 범용 AI 모델의 기능과 동작에 대한 분류 체계 발표\\nKEY ...   \n",
       "4  ['1. 정책/법제 2. 기업/산업 3. 기술/연구 4. 인력/교육\\n알리바바 클라...   \n",
       "\n",
       "                                        ground_truth evolution_type  \\\n",
       "0  Content moderation plays a crucial role in AI ...         simple   \n",
       "1  The key aspects of the AI Development Guidelin...         simple   \n",
       "2  The purpose of the AI Safety Summit held in No...         simple   \n",
       "3  The term 'Operationalizing Progress' in the co...         simple   \n",
       "4  Tongyi Qianwen 2.0 has improvements over the p...      reasoning   \n",
       "\n",
       "                                            metadata  episode_done  \n",
       "0  [{'source': 'data/SPRI_AI_Brief_2023년12월호_F.pd...          True  \n",
       "1  [{'source': 'data/SPRI_AI_Brief_2023년12월호_F.pd...          True  \n",
       "2  [{'source': 'data/SPRI_AI_Brief_2023년12월호_F.pd...          True  \n",
       "3  [{'source': 'data/SPRI_AI_Brief_2023년12월호_F.pd...          True  \n",
       "4  [{'source': 'data/SPRI_AI_Brief_2023년12월호_F.pd...          True  "
      ]
     },
     "execution_count": 3,
     "metadata": {},
     "output_type": "execute_result"
    }
   ],
   "source": [
    "import pandas as pd\n",
    "df = pd.read_csv(\"data/ragas_synthetic_dataset.csv\")\n",
    "df.head()"
   ]
  },
  {
   "cell_type": "code",
   "execution_count": 4,
   "metadata": {},
   "outputs": [
    {
     "data": {
      "text/plain": [
       "(10, 6)"
      ]
     },
     "execution_count": 4,
     "metadata": {},
     "output_type": "execute_result"
    }
   ],
   "source": [
    "df.shape"
   ]
  },
  {
   "cell_type": "code",
   "execution_count": 5,
   "metadata": {},
   "outputs": [
    {
     "data": {
      "text/plain": [
       "Dataset({\n",
       "    features: ['question', 'contexts', 'ground_truth', 'evolution_type', 'metadata', 'episode_done'],\n",
       "    num_rows: 10\n",
       "})"
      ]
     },
     "execution_count": 5,
     "metadata": {},
     "output_type": "execute_result"
    }
   ],
   "source": [
    "# Dataset으로 wrapping이 되어야 ragas를 할 수있다.\n",
    "from datasets import Dataset\n",
    "\n",
    "test_dataset = Dataset.from_pandas(df)\n",
    "test_dataset"
   ]
  },
  {
   "cell_type": "code",
   "execution_count": 6,
   "metadata": {},
   "outputs": [
    {
     "data": {
      "application/vnd.jupyter.widget-view+json": {
       "model_id": "0e0f38b31ebf4f2bb7d528db6f33b90c",
       "version_major": 2,
       "version_minor": 0
      },
      "text/plain": [
       "Map:   0%|          | 0/10 [00:00<?, ? examples/s]"
      ]
     },
     "metadata": {},
     "output_type": "display_data"
    },
    {
     "name": "stdout",
     "output_type": "stream",
     "text": [
      "Dataset({\n",
      "    features: ['question', 'contexts', 'ground_truth', 'evolution_type', 'metadata', 'episode_done'],\n",
      "    num_rows: 10\n",
      "})\n"
     ]
    }
   ],
   "source": [
    "import ast\n",
    "\n",
    "# contexts를 list형식으로 바꿔준다. 원래는 문자열이다.\n",
    "def convert_to_list(example):\n",
    "    contexts = ast.literal_eval(example[\"contexts\"])\n",
    "    return {\"contexts\": contexts}\n",
    "\n",
    "test_dataset = test_dataset.map(convert_to_list)\n",
    "print(test_dataset)"
   ]
  },
  {
   "cell_type": "code",
   "execution_count": 7,
   "metadata": {},
   "outputs": [
    {
     "data": {
      "text/plain": [
       "['SPRi AI Brief |\\n2023-12월호\\nG7, 히로시마 AI 프로세스를 통해 AI 기업 대상 국제 행동강령에 합의\\nKEY Contents\\nn G7이 첨단 AI 시스템을 개발하는 기업을 대상으로 AI 위험 식별과 완화를 위해 자발적인\\n채택을 권고하는 AI 국제 행동강령을 마련\\nn 행동강령은 AI 수명주기 전반에 걸친 위험 평가와 완화, 투명성과 책임성의 보장, 정보공유와\\n이해관계자 간 협력, 보안 통제, 콘텐츠 인증과 출처 확인 등의 조치를 요구\\n£G7, 첨단 AI 시스템의 위험 관리를 위한 국제 행동강령 마련\\nn 주요 7개국(G7)*은 2023년 10월 30일 ‘히로시마 AI 프로세스’를 통해 AI 기업 대상의 AI 국제\\n행동강령(International Code of Conduct for Advanced AI Systems)에 합의\\n∙ G7은 2023년 5월 일본 히로시마에서 개최된 정상회의에서 생성 AI에 관한 국제규범 마련과\\n정보공유를 위해 ‘히로시마 AI 프로세스’를 출범**\\n∙ 기업의 자발적 채택을 위해 마련된 이번 행동강령은 기반모델과 생성 AI를 포함한 첨단 AI 시스템의\\n위험 식별과 완화에 필요한 조치를 포함\\n* 주요 7개국(G7)은 미국, 일본, 독일, 영국, 프랑스, 이탈리아, 캐나다를 의미\\n** 5월 정상회의에는 한국, 호주, 베트남 등을 포함한 8개국이 초청을 받았으나, AI 국제 행동강령에는 우선 G7 국가만 포함하여 채택\\nn G7은 행동강령을 통해 아래의 조치를 제시했으며, 빠르게 발전하는 기술에 대응할 수 있도록\\n이해관계자 협의를 통해 필요에 따라 개정할 예정\\n∙ 첨단 AI 시스템의 개발 과정에서 AI 수명주기 전반에 걸쳐 위험을 평가 및 완화하는 조치를 채택하고,\\n첨단 AI 시스템의 출시와 배포 이후 취약점과 오용 사고, 오용 유형을 파악해 완화\\n∙ 첨단 AI 시스템의 성능과 한계를 공개하고 적절하거나 부적절한 사용영역을 알리는 방법으로 투명성을\\n보장하고 책임성을 강화']"
      ]
     },
     "execution_count": 7,
     "metadata": {},
     "output_type": "execute_result"
    }
   ],
   "source": [
    "test_dataset[1][\"contexts\"]"
   ]
  },
  {
   "cell_type": "markdown",
   "metadata": {},
   "source": [
    "# RAG평가"
   ]
  },
  {
   "cell_type": "code",
   "execution_count": 15,
   "metadata": {},
   "outputs": [],
   "source": [
    "from langchain_community.document_loaders import PDFPlumberLoader\n",
    "from langchain_text_splitters import RecursiveCharacterTextSplitter\n",
    "from langchain_community.vectorstores import FAISS\n",
    "from langchain_openai import ChatOpenAI, OpenAIEmbeddings\n",
    "from langchain_core.prompts import PromptTemplate\n",
    "from langchain_core.runnables import RunnablePassthrough\n",
    "from langchain_core.output_parsers import StrOutputParser\n",
    "\n",
    "loader = PDFPlumberLoader(\"./data/SPRI_AI_Brief_2023년12월호_F.pdf\")\n",
    "docs = loader.load()\n",
    "\n",
    "text_splitter = RecursiveCharacterTextSplitter(chunk_size=1000, chunk_overlap=50)\n",
    "documents = text_splitter.split_documents(docs)\n",
    "\n",
    "embeddings = OpenAIEmbeddings(model=\"text-embedding-3-small\")\n",
    "\n",
    "vector_store = FAISS.from_documents(documents, embeddings)\n",
    "\n",
    "retriever = vector_store.as_retriever()\n",
    "\n",
    "prompt = PromptTemplate.from_template(\n",
    "    \"\"\"You are an assistant for question-answering tasks. \n",
    "Use the following pieces of retrieved context to answer the question. \n",
    "If you don't know the answer, just say that you don't know. \n",
    "\n",
    "#Context: \n",
    "{context}\n",
    "\n",
    "#Question:\n",
    "{question}\n",
    "\n",
    "#Answer:\"\"\"\n",
    ")\n",
    "\n",
    "llm = ChatOpenAI(model=\"gpt-4o-mini\", temperature=0)\n",
    "\n",
    "chain = (\n",
    "    {\"context\": retriever, \"question\": RunnablePassthrough()}\n",
    "     | prompt\n",
    "     | llm\n",
    "     | StrOutputParser()\n",
    ")"
   ]
  },
  {
   "cell_type": "markdown",
   "metadata": {},
   "source": [
    "**분산처리하는 batch**\n",
    "\n",
    "`batch()` 를 호출하여 배치 데이터셋에 대한 답변을 받습니다. 다량의 질문을 한번에 처리할때 용이합니다. \n"
   ]
  },
  {
   "cell_type": "code",
   "execution_count": 16,
   "metadata": {},
   "outputs": [
    {
     "data": {
      "text/plain": [
       "['What role does content moderation play in the context of AI development?',\n",
       " 'What are the key aspects of the AI Development Guidelines established by the G7?',\n",
       " 'What was the purpose of the AI Safety Summit held in November 2023?']"
      ]
     },
     "execution_count": 16,
     "metadata": {},
     "output_type": "execute_result"
    }
   ],
   "source": [
    "#batch_dataset에 question을 넣어줌\n",
    "batch_dataset = [question for question in test_dataset[\"question\"]]\n",
    "batch_dataset[:3]"
   ]
  },
  {
   "cell_type": "code",
   "execution_count": 18,
   "metadata": {},
   "outputs": [
    {
     "data": {
      "text/plain": [
       "['Content moderation plays a crucial role in the context of AI development by ensuring responsible use and deployment of AI-generated content. It involves implementing guidelines and policies to identify and manage AI-generated materials, particularly those that may mislead or harm users. For instance, platforms like YouTube are introducing mandatory labeling for AI-generated content to enhance transparency and protect users from misinformation. Additionally, content moderation helps mitigate risks associated with privacy violations and the potential for harmful or misleading representations, thereby fostering a safer digital environment. This approach aligns with broader AI governance strategies that emphasize accountability, security, and ethical standards in AI applications.',\n",
       " 'The key aspects of the AI Development Guidelines established by the G7 include:\\n\\n1. **Risk Assessment and Mitigation**: The guidelines recommend voluntary adoption by companies to identify and mitigate risks throughout the AI lifecycle.\\n\\n2. **Transparency and Accountability**: There is a focus on ensuring transparency regarding the performance and limitations of advanced AI systems, as well as informing users about appropriate and inappropriate use cases.\\n\\n3. **Information Sharing and Collaboration**: The guidelines emphasize the importance of collaboration among stakeholders, including industry, government, civil society, and academia, for information sharing and incident reporting.\\n\\n4. **Security Controls**: Implementation of strong security controls, including physical security, cybersecurity, and insider threat protection, is required.\\n\\n5. **Content Authentication and Provenance**: Development of mechanisms for reliable content authentication and provenance verification, such as watermarks, to help users identify AI-generated content.\\n\\n6. **Investment in Research**: Prioritization of research and effective mitigation measures to address social risks and safety/security issues, as well as the development of advanced AI systems to tackle global challenges like climate change and public health.\\n\\n7. **International Standards**: Acceleration of the development and adoption of international technical standards, along with appropriate safeguards for data privacy and intellectual property protection.\\n\\nThese guidelines aim to ensure responsible development and deployment of advanced AI systems while addressing associated risks.',\n",
       " 'The purpose of the AI Safety Summit held in November 2023 was to address AI safety and risk management. It involved representatives from 28 countries who agreed on collaborative measures to ensure the safety of advanced AI systems. The summit resulted in the Bletchley Declaration, which emphasized the importance of cooperation among various stakeholders, including governments, international organizations, businesses, and civil society, to manage AI risks effectively. Additionally, the summit aimed to establish safety testing plans for AI systems and promote transparency and appropriate evaluation metrics for AI development.']"
      ]
     },
     "execution_count": 18,
     "metadata": {},
     "output_type": "execute_result"
    }
   ],
   "source": [
    "answer = chain.batch(batch_dataset)\n",
    "answer[:3]"
   ]
  },
  {
   "cell_type": "markdown",
   "metadata": {},
   "source": [
    "llm이 생성한 답변울 \"answer\" 컬럼에 저장"
   ]
  },
  {
   "cell_type": "code",
   "execution_count": 19,
   "metadata": {},
   "outputs": [
    {
     "name": "stderr",
     "output_type": "stream",
     "text": [
      "c:\\Users\\skyop\\AppData\\Local\\pypoetry\\Cache\\virtualenvs\\langchain-kr-gLkynrUQ-py3.11\\Lib\\site-packages\\datasets\\table.py:1395: FutureWarning: promote has been superseded by promote_options='default'.\n",
      "  block_group = [InMemoryTable(cls._concat_blocks(list(block_group), axis=axis))]\n",
      "c:\\Users\\skyop\\AppData\\Local\\pypoetry\\Cache\\virtualenvs\\langchain-kr-gLkynrUQ-py3.11\\Lib\\site-packages\\datasets\\table.py:1421: FutureWarning: promote has been superseded by promote_options='default'.\n",
      "  table = cls._concat_blocks(blocks, axis=0)\n"
     ]
    }
   ],
   "source": [
    "# \"answer\" 컬럼 덮어쓰기 또는 추가\n",
    "if \"answer\" in test_dataset.column_names:\n",
    "    test_dataset = test_dataset.remove_columns([\"answer\"]).add_column(\"answer\", answer)\n",
    "else:\n",
    "    test_dataset = test_dataset.add_column(\"answer\", answer)"
   ]
  },
  {
   "cell_type": "code",
   "execution_count": 21,
   "metadata": {},
   "outputs": [
    {
     "data": {
      "text/plain": [
       "Dataset({\n",
       "    features: ['question', 'contexts', 'ground_truth', 'evolution_type', 'metadata', 'episode_done', 'answer'],\n",
       "    num_rows: 10\n",
       "})"
      ]
     },
     "execution_count": 21,
     "metadata": {},
     "output_type": "execute_result"
    }
   ],
   "source": [
    "# answer가 추가된건을 확인할 수 있다.\n",
    "test_dataset"
   ]
  },
  {
   "cell_type": "code",
   "execution_count": 25,
   "metadata": {},
   "outputs": [
    {
     "data": {
      "text/html": [
       "<div>\n",
       "<style scoped>\n",
       "    .dataframe tbody tr th:only-of-type {\n",
       "        vertical-align: middle;\n",
       "    }\n",
       "\n",
       "    .dataframe tbody tr th {\n",
       "        vertical-align: top;\n",
       "    }\n",
       "\n",
       "    .dataframe thead th {\n",
       "        text-align: right;\n",
       "    }\n",
       "</style>\n",
       "<table border=\"1\" class=\"dataframe\">\n",
       "  <thead>\n",
       "    <tr style=\"text-align: right;\">\n",
       "      <th></th>\n",
       "      <th>question</th>\n",
       "      <th>contexts</th>\n",
       "      <th>ground_truth</th>\n",
       "      <th>evolution_type</th>\n",
       "      <th>metadata</th>\n",
       "      <th>episode_done</th>\n",
       "      <th>answer</th>\n",
       "    </tr>\n",
       "  </thead>\n",
       "  <tbody>\n",
       "    <tr>\n",
       "      <th>0</th>\n",
       "      <td>What role does content moderation play in the ...</td>\n",
       "      <td>[£유튜브, 특정인을 모방한 AI 생성 콘텐츠에 대한 삭제 요청에도 대응 계획\\nn...</td>\n",
       "      <td>Content moderation plays a crucial role in AI ...</td>\n",
       "      <td>simple</td>\n",
       "      <td>[{'source': 'data/SPRI_AI_Brief_2023년12월호_F.pd...</td>\n",
       "      <td>True</td>\n",
       "      <td>Content moderation plays a crucial role in the...</td>\n",
       "    </tr>\n",
       "    <tr>\n",
       "      <th>1</th>\n",
       "      <td>What are the key aspects of the AI Development...</td>\n",
       "      <td>[SPRi AI Brief |\\n2023-12월호\\nG7, 히로시마 AI 프로세스를...</td>\n",
       "      <td>The key aspects of the AI Development Guidelin...</td>\n",
       "      <td>simple</td>\n",
       "      <td>[{'source': 'data/SPRI_AI_Brief_2023년12월호_F.pd...</td>\n",
       "      <td>True</td>\n",
       "      <td>The key aspects of the AI Development Guidelin...</td>\n",
       "    </tr>\n",
       "    <tr>\n",
       "      <th>2</th>\n",
       "      <td>What was the purpose of the AI Safety Summit h...</td>\n",
       "      <td>[1. 정책/법제 2. 기업/산업 3. 기술/연구 4. 인력/교육\\n영국 AI 안전...</td>\n",
       "      <td>The purpose of the AI Safety Summit held in No...</td>\n",
       "      <td>simple</td>\n",
       "      <td>[{'source': 'data/SPRI_AI_Brief_2023년12월호_F.pd...</td>\n",
       "      <td>True</td>\n",
       "      <td>The purpose of the AI Safety Summit held in No...</td>\n",
       "    </tr>\n",
       "  </tbody>\n",
       "</table>\n",
       "</div>"
      ],
      "text/plain": [
       "                                            question  \\\n",
       "0  What role does content moderation play in the ...   \n",
       "1  What are the key aspects of the AI Development...   \n",
       "2  What was the purpose of the AI Safety Summit h...   \n",
       "\n",
       "                                            contexts  \\\n",
       "0  [£유튜브, 특정인을 모방한 AI 생성 콘텐츠에 대한 삭제 요청에도 대응 계획\\nn...   \n",
       "1  [SPRi AI Brief |\\n2023-12월호\\nG7, 히로시마 AI 프로세스를...   \n",
       "2  [1. 정책/법제 2. 기업/산업 3. 기술/연구 4. 인력/교육\\n영국 AI 안전...   \n",
       "\n",
       "                                        ground_truth evolution_type  \\\n",
       "0  Content moderation plays a crucial role in AI ...         simple   \n",
       "1  The key aspects of the AI Development Guidelin...         simple   \n",
       "2  The purpose of the AI Safety Summit held in No...         simple   \n",
       "\n",
       "                                            metadata  episode_done  \\\n",
       "0  [{'source': 'data/SPRI_AI_Brief_2023년12월호_F.pd...          True   \n",
       "1  [{'source': 'data/SPRI_AI_Brief_2023년12월호_F.pd...          True   \n",
       "2  [{'source': 'data/SPRI_AI_Brief_2023년12월호_F.pd...          True   \n",
       "\n",
       "                                              answer  \n",
       "0  Content moderation plays a crucial role in the...  \n",
       "1  The key aspects of the AI Development Guidelin...  \n",
       "2  The purpose of the AI Safety Summit held in No...  "
      ]
     },
     "execution_count": 25,
     "metadata": {},
     "output_type": "execute_result"
    }
   ],
   "source": [
    "pd.DataFrame(test_dataset[:3])"
   ]
  },
  {
   "cell_type": "markdown",
   "metadata": {},
   "source": [
    "# 답변 평가"
   ]
  },
  {
   "cell_type": "code",
   "execution_count": 26,
   "metadata": {},
   "outputs": [
    {
     "data": {
      "application/vnd.jupyter.widget-view+json": {
       "model_id": "f3fb5f4b9fa24700b9e197345dbfe535",
       "version_major": 2,
       "version_minor": 0
      },
      "text/plain": [
       "Evaluating:   0%|          | 0/40 [00:00<?, ?it/s]"
      ]
     },
     "metadata": {},
     "output_type": "display_data"
    },
    {
     "data": {
      "text/plain": [
       "{'context_precision': 0.8000, 'faithfulness': 0.5326, 'answer_relevancy': 0.8946, 'context_recall': 0.8500}"
      ]
     },
     "execution_count": 26,
     "metadata": {},
     "output_type": "execute_result"
    }
   ],
   "source": [
    "from ragas import evaluate\n",
    "from ragas.metrics import (\n",
    "    answer_relevancy,\n",
    "    faithfulness,\n",
    "    context_recall,\n",
    "    context_precision\n",
    ")\n",
    "\n",
    "result = evaluate(\n",
    "    dataset=test_dataset,\n",
    "    metrics=[\n",
    "        context_precision,\n",
    "        faithfulness,\n",
    "        answer_relevancy,\n",
    "        context_recall\n",
    "    ]\n",
    ")\n",
    "result"
   ]
  },
  {
   "cell_type": "code",
   "execution_count": 27,
   "metadata": {},
   "outputs": [
    {
     "name": "stderr",
     "output_type": "stream",
     "text": [
      "c:\\Users\\skyop\\AppData\\Local\\pypoetry\\Cache\\virtualenvs\\langchain-kr-gLkynrUQ-py3.11\\Lib\\site-packages\\datasets\\table.py:1395: FutureWarning: promote has been superseded by promote_options='default'.\n",
      "  block_group = [InMemoryTable(cls._concat_blocks(list(block_group), axis=axis))]\n",
      "c:\\Users\\skyop\\AppData\\Local\\pypoetry\\Cache\\virtualenvs\\langchain-kr-gLkynrUQ-py3.11\\Lib\\site-packages\\datasets\\table.py:1421: FutureWarning: promote has been superseded by promote_options='default'.\n",
      "  table = cls._concat_blocks(blocks, axis=0)\n"
     ]
    },
    {
     "data": {
      "text/html": [
       "<div>\n",
       "<style scoped>\n",
       "    .dataframe tbody tr th:only-of-type {\n",
       "        vertical-align: middle;\n",
       "    }\n",
       "\n",
       "    .dataframe tbody tr th {\n",
       "        vertical-align: top;\n",
       "    }\n",
       "\n",
       "    .dataframe thead th {\n",
       "        text-align: right;\n",
       "    }\n",
       "</style>\n",
       "<table border=\"1\" class=\"dataframe\">\n",
       "  <thead>\n",
       "    <tr style=\"text-align: right;\">\n",
       "      <th></th>\n",
       "      <th>question</th>\n",
       "      <th>contexts</th>\n",
       "      <th>answer</th>\n",
       "      <th>ground_truth</th>\n",
       "      <th>context_precision</th>\n",
       "      <th>faithfulness</th>\n",
       "      <th>answer_relevancy</th>\n",
       "      <th>context_recall</th>\n",
       "    </tr>\n",
       "  </thead>\n",
       "  <tbody>\n",
       "    <tr>\n",
       "      <th>0</th>\n",
       "      <td>What role does content moderation play in the ...</td>\n",
       "      <td>[£유튜브, 특정인을 모방한 AI 생성 콘텐츠에 대한 삭제 요청에도 대응 계획\\nn...</td>\n",
       "      <td>Content moderation plays a crucial role in the...</td>\n",
       "      <td>Content moderation plays a crucial role in AI ...</td>\n",
       "      <td>1.0</td>\n",
       "      <td>0.400000</td>\n",
       "      <td>0.994678</td>\n",
       "      <td>1.0</td>\n",
       "    </tr>\n",
       "    <tr>\n",
       "      <th>1</th>\n",
       "      <td>What are the key aspects of the AI Development...</td>\n",
       "      <td>[SPRi AI Brief |\\n2023-12월호\\nG7, 히로시마 AI 프로세스를...</td>\n",
       "      <td>The key aspects of the AI Development Guidelin...</td>\n",
       "      <td>The key aspects of the AI Development Guidelin...</td>\n",
       "      <td>1.0</td>\n",
       "      <td>0.277778</td>\n",
       "      <td>1.000000</td>\n",
       "      <td>1.0</td>\n",
       "    </tr>\n",
       "    <tr>\n",
       "      <th>2</th>\n",
       "      <td>What was the purpose of the AI Safety Summit h...</td>\n",
       "      <td>[1. 정책/법제 2. 기업/산업 3. 기술/연구 4. 인력/교육\\n영국 AI 안전...</td>\n",
       "      <td>The purpose of the AI Safety Summit held in No...</td>\n",
       "      <td>The purpose of the AI Safety Summit held in No...</td>\n",
       "      <td>1.0</td>\n",
       "      <td>0.666667</td>\n",
       "      <td>1.000000</td>\n",
       "      <td>1.0</td>\n",
       "    </tr>\n",
       "    <tr>\n",
       "      <th>3</th>\n",
       "      <td>What does 'Operationalizing Progress' refer to...</td>\n",
       "      <td>[구글 딥마인드, 범용 AI 모델의 기능과 동작에 대한 분류 체계 발표\\nKEY C...</td>\n",
       "      <td>'Operationalizing Progress' in the context of ...</td>\n",
       "      <td>The term 'Operationalizing Progress' in the co...</td>\n",
       "      <td>1.0</td>\n",
       "      <td>0.444444</td>\n",
       "      <td>1.000000</td>\n",
       "      <td>0.0</td>\n",
       "    </tr>\n",
       "    <tr>\n",
       "      <th>4</th>\n",
       "      <td>What improvements does Tongyi Qianwen 2.0 have...</td>\n",
       "      <td>[1. 정책/법제 2. 기업/산업 3. 기술/연구 4. 인력/교육\\n알리바바 클라우...</td>\n",
       "      <td>Tongyi Qianwen 2.0 has improvements in underst...</td>\n",
       "      <td>Tongyi Qianwen 2.0 has improvements over the p...</td>\n",
       "      <td>1.0</td>\n",
       "      <td>0.900000</td>\n",
       "      <td>0.991582</td>\n",
       "      <td>0.5</td>\n",
       "    </tr>\n",
       "  </tbody>\n",
       "</table>\n",
       "</div>"
      ],
      "text/plain": [
       "                                            question  \\\n",
       "0  What role does content moderation play in the ...   \n",
       "1  What are the key aspects of the AI Development...   \n",
       "2  What was the purpose of the AI Safety Summit h...   \n",
       "3  What does 'Operationalizing Progress' refer to...   \n",
       "4  What improvements does Tongyi Qianwen 2.0 have...   \n",
       "\n",
       "                                            contexts  \\\n",
       "0  [£유튜브, 특정인을 모방한 AI 생성 콘텐츠에 대한 삭제 요청에도 대응 계획\\nn...   \n",
       "1  [SPRi AI Brief |\\n2023-12월호\\nG7, 히로시마 AI 프로세스를...   \n",
       "2  [1. 정책/법제 2. 기업/산업 3. 기술/연구 4. 인력/교육\\n영국 AI 안전...   \n",
       "3  [구글 딥마인드, 범용 AI 모델의 기능과 동작에 대한 분류 체계 발표\\nKEY C...   \n",
       "4  [1. 정책/법제 2. 기업/산업 3. 기술/연구 4. 인력/교육\\n알리바바 클라우...   \n",
       "\n",
       "                                              answer  \\\n",
       "0  Content moderation plays a crucial role in the...   \n",
       "1  The key aspects of the AI Development Guidelin...   \n",
       "2  The purpose of the AI Safety Summit held in No...   \n",
       "3  'Operationalizing Progress' in the context of ...   \n",
       "4  Tongyi Qianwen 2.0 has improvements in underst...   \n",
       "\n",
       "                                        ground_truth  context_precision  \\\n",
       "0  Content moderation plays a crucial role in AI ...                1.0   \n",
       "1  The key aspects of the AI Development Guidelin...                1.0   \n",
       "2  The purpose of the AI Safety Summit held in No...                1.0   \n",
       "3  The term 'Operationalizing Progress' in the co...                1.0   \n",
       "4  Tongyi Qianwen 2.0 has improvements over the p...                1.0   \n",
       "\n",
       "   faithfulness  answer_relevancy  context_recall  \n",
       "0      0.400000          0.994678             1.0  \n",
       "1      0.277778          1.000000             1.0  \n",
       "2      0.666667          1.000000             1.0  \n",
       "3      0.444444          1.000000             0.0  \n",
       "4      0.900000          0.991582             0.5  "
      ]
     },
     "execution_count": 27,
     "metadata": {},
     "output_type": "execute_result"
    }
   ],
   "source": [
    "result_df = result.to_pandas()\n",
    "result_df.head()"
   ]
  },
  {
   "cell_type": "code",
   "execution_count": 28,
   "metadata": {},
   "outputs": [],
   "source": [
    "result_df.to_csv(\"data/ragas_evaluation_result.csv\", index=False)"
   ]
  },
  {
   "cell_type": "code",
   "execution_count": 30,
   "metadata": {},
   "outputs": [
    {
     "data": {
      "text/html": [
       "<div>\n",
       "<style scoped>\n",
       "    .dataframe tbody tr th:only-of-type {\n",
       "        vertical-align: middle;\n",
       "    }\n",
       "\n",
       "    .dataframe tbody tr th {\n",
       "        vertical-align: top;\n",
       "    }\n",
       "\n",
       "    .dataframe thead th {\n",
       "        text-align: right;\n",
       "    }\n",
       "</style>\n",
       "<table border=\"1\" class=\"dataframe\">\n",
       "  <thead>\n",
       "    <tr style=\"text-align: right;\">\n",
       "      <th></th>\n",
       "      <th>context_precision</th>\n",
       "      <th>faithfulness</th>\n",
       "      <th>answer_relevancy</th>\n",
       "      <th>context_recall</th>\n",
       "    </tr>\n",
       "  </thead>\n",
       "  <tbody>\n",
       "    <tr>\n",
       "      <th>0</th>\n",
       "      <td>1.0</td>\n",
       "      <td>0.400000</td>\n",
       "      <td>0.994678</td>\n",
       "      <td>1.0</td>\n",
       "    </tr>\n",
       "    <tr>\n",
       "      <th>1</th>\n",
       "      <td>1.0</td>\n",
       "      <td>0.277778</td>\n",
       "      <td>1.000000</td>\n",
       "      <td>1.0</td>\n",
       "    </tr>\n",
       "    <tr>\n",
       "      <th>2</th>\n",
       "      <td>1.0</td>\n",
       "      <td>0.666667</td>\n",
       "      <td>1.000000</td>\n",
       "      <td>1.0</td>\n",
       "    </tr>\n",
       "    <tr>\n",
       "      <th>3</th>\n",
       "      <td>1.0</td>\n",
       "      <td>0.444444</td>\n",
       "      <td>1.000000</td>\n",
       "      <td>0.0</td>\n",
       "    </tr>\n",
       "    <tr>\n",
       "      <th>4</th>\n",
       "      <td>1.0</td>\n",
       "      <td>0.900000</td>\n",
       "      <td>0.991582</td>\n",
       "      <td>0.5</td>\n",
       "    </tr>\n",
       "    <tr>\n",
       "      <th>5</th>\n",
       "      <td>0.0</td>\n",
       "      <td>0.000000</td>\n",
       "      <td>0.000000</td>\n",
       "      <td>1.0</td>\n",
       "    </tr>\n",
       "    <tr>\n",
       "      <th>6</th>\n",
       "      <td>0.0</td>\n",
       "      <td>1.000000</td>\n",
       "      <td>0.997150</td>\n",
       "      <td>1.0</td>\n",
       "    </tr>\n",
       "    <tr>\n",
       "      <th>7</th>\n",
       "      <td>1.0</td>\n",
       "      <td>0.818182</td>\n",
       "      <td>0.991400</td>\n",
       "      <td>1.0</td>\n",
       "    </tr>\n",
       "    <tr>\n",
       "      <th>8</th>\n",
       "      <td>1.0</td>\n",
       "      <td>0.583333</td>\n",
       "      <td>0.974406</td>\n",
       "      <td>1.0</td>\n",
       "    </tr>\n",
       "    <tr>\n",
       "      <th>9</th>\n",
       "      <td>1.0</td>\n",
       "      <td>0.235294</td>\n",
       "      <td>0.996541</td>\n",
       "      <td>1.0</td>\n",
       "    </tr>\n",
       "  </tbody>\n",
       "</table>\n",
       "</div>"
      ],
      "text/plain": [
       "   context_precision  faithfulness  answer_relevancy  context_recall\n",
       "0                1.0      0.400000          0.994678             1.0\n",
       "1                1.0      0.277778          1.000000             1.0\n",
       "2                1.0      0.666667          1.000000             1.0\n",
       "3                1.0      0.444444          1.000000             0.0\n",
       "4                1.0      0.900000          0.991582             0.5\n",
       "5                0.0      0.000000          0.000000             1.0\n",
       "6                0.0      1.000000          0.997150             1.0\n",
       "7                1.0      0.818182          0.991400             1.0\n",
       "8                1.0      0.583333          0.974406             1.0\n",
       "9                1.0      0.235294          0.996541             1.0"
      ]
     },
     "execution_count": 30,
     "metadata": {},
     "output_type": "execute_result"
    }
   ],
   "source": [
    "result_df.loc[:, \"context_precision\": \"context_recall\"]"
   ]
  },
  {
   "cell_type": "markdown",
   "metadata": {},
   "source": [
    "# ContextRecall\n",
    "\n",
    "검색된 context가 llm이 생성한 답변과 얼마나 일치하는지 측정.\n",
    "\n",
    "이상적인 시나리어에서는 ground truth답변의 모든 주장이 검색된 context에 귀속될 수 있어야 한다."
   ]
  },
  {
   "cell_type": "markdown",
   "metadata": {},
   "source": [
    "# Context Precision\n",
    "\"얼마나 관련성 있는 문서가 상위에 배치되었는가?\" 를 평가하는 지표\n",
    "\n",
    "recall과 같이 봐야한다.\n",
    "10개의 문서에서 retriever를 한다고 할때, 답변에 필요한 문서가 10개의 모든문서에 포함되어 있다고 한다면, recall은 만점일것이다.\n",
    "\n",
    "하지만 precision관점에서는 상위에 얼마만큼 배치가 되어있는지가 중요하다.\n",
    "\n",
    "k=10개를 검출한다고 답변이 3개가 된다고 할때 유사도가 1,2,3등을 하면 만점이다.\n",
    "\n",
    "이상적인 시나리오는 모든 관련 chunks가 상위 문서에 나타나야 한다."
   ]
  },
  {
   "cell_type": "markdown",
   "metadata": {},
   "source": [
    "# Answer Relevancy\n",
    "\"생성된 답변이 주어진 prompt에 얼마나 적절한지\"를 평가하는 지표\n",
    "\n",
    "질문-답변 시스템의 성능을 평가하는데 유용하며, 생성된 답변이 원래 질문의 의도를 얼마나 잘 반영하는지를 측정\n",
    "\n",
    "질문에 대한 임베딩과 생성된 답변에 대한 임베딩의 코사인 유사도를 측정한다. 즉 답변이 질문에 대해서 연관성이 높아야한다."
   ]
  },
  {
   "cell_type": "markdown",
   "metadata": {},
   "source": [
    "# Faithfulness\n",
    "\"생성된 답변의 사실적 일관성을 주어진 컨텍스트와 비교하여 측정\"하는 지표"
   ]
  },
  {
   "cell_type": "markdown",
   "metadata": {},
   "source": []
  }
 ],
 "metadata": {
  "kernelspec": {
   "display_name": "langchain-kr-gLkynrUQ-py3.11",
   "language": "python",
   "name": "python3"
  },
  "language_info": {
   "codemirror_mode": {
    "name": "ipython",
    "version": 3
   },
   "file_extension": ".py",
   "mimetype": "text/x-python",
   "name": "python",
   "nbconvert_exporter": "python",
   "pygments_lexer": "ipython3",
   "version": "3.11.9"
  }
 },
 "nbformat": 4,
 "nbformat_minor": 2
}
