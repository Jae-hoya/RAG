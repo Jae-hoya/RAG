{
 "cells": [
  {
   "cell_type": "markdown",
   "metadata": {},
   "source": [
    "# LangSmith 데이터셋 생성"
   ]
  },
  {
   "cell_type": "markdown",
   "metadata": {},
   "source": [
    "자체 RAG평가용 데이터셋\n",
    "\n",
    "1. Question -> Retriever\n",
    "\n",
    "2. Question -> Anwer\n",
    "\n",
    "3. Retriever -> Answer\n",
    "\n",
    "`Question, Retrieval, Answer` 의 3가지 정보가 필요한 것이 일반적이지만, `Retrieval` 에 대한 `Ground Truth` 구축이 사실상 어렵습니다.\n",
    "\n",
    "만약, `Retrieval` 에 대한 `Ground Truth` 가 존재한다면, 모두 데이터셋으로 저장하여 활용하고, 그렇지 않다면 `Question, Answer` 만으로 데이터셋을 구축하여 활용할 수 있습니다.\n",
    "\n",
    "\n",
    "**정답과 llm의 답변을 비교하기 위한 output(answers)를 만드는것**"
   ]
  },
  {
   "cell_type": "code",
   "execution_count": 1,
   "metadata": {},
   "outputs": [
    {
     "data": {
      "text/plain": [
       "True"
      ]
     },
     "execution_count": 1,
     "metadata": {},
     "output_type": "execute_result"
    }
   ],
   "source": [
    "from dotenv import load_dotenv\n",
    "load_dotenv()\n"
   ]
  },
  {
   "cell_type": "code",
   "execution_count": 2,
   "metadata": {},
   "outputs": [
    {
     "name": "stdout",
     "output_type": "stream",
     "text": [
      "LangSmith 추적을 시작합니다.\n",
      "[프로젝트명]\n",
      "CH16-Evaluations\n"
     ]
    }
   ],
   "source": [
    "from langchain_teddynote import logging\n",
    "\n",
    "# 프로젝트 이름을 입력합니다.\n",
    "logging.langsmith(\"CH16-Evaluations\")"
   ]
  },
  {
   "cell_type": "markdown",
   "metadata": {},
   "source": [
    "# 데이터셋 생성\n",
    "`inputs`와 `outputs`를 활용하여 데이터셋을 생성. 데이터셋은 `question`과 `answer`로 구성"
   ]
  },
  {
   "cell_type": "code",
   "execution_count": 3,
   "metadata": {},
   "outputs": [
    {
     "data": {
      "text/html": [
       "<div>\n",
       "<style scoped>\n",
       "    .dataframe tbody tr th:only-of-type {\n",
       "        vertical-align: middle;\n",
       "    }\n",
       "\n",
       "    .dataframe tbody tr th {\n",
       "        vertical-align: top;\n",
       "    }\n",
       "\n",
       "    .dataframe thead th {\n",
       "        text-align: right;\n",
       "    }\n",
       "</style>\n",
       "<table border=\"1\" class=\"dataframe\">\n",
       "  <thead>\n",
       "    <tr style=\"text-align: right;\">\n",
       "      <th></th>\n",
       "      <th>question</th>\n",
       "      <th>answer</th>\n",
       "    </tr>\n",
       "  </thead>\n",
       "  <tbody>\n",
       "    <tr>\n",
       "      <th>0</th>\n",
       "      <td>삼성전자가 만든 생성형 AI의 이름은 무엇인가요?</td>\n",
       "      <td>삼성전자가 만든 생성형 AI의 이름은 삼성 가우스 입니다.</td>\n",
       "    </tr>\n",
       "    <tr>\n",
       "      <th>1</th>\n",
       "      <td>미국 바이든 대통령이 안전하고 신뢰할 수 있는 AI 개발과 사용을 보장하기 위한 행...</td>\n",
       "      <td>2023년 10월 30일 미국 바이든 대통령이 행정명령을 발표했습니다.</td>\n",
       "    </tr>\n",
       "    <tr>\n",
       "      <th>2</th>\n",
       "      <td>코히어의 데이터 출처 탐색기에 대해서 간략히 말해주세요.</td>\n",
       "      <td>코히어의 데이터 출처 탐색기는 AI 모델 훈련에 사용되는 데이터셋의 출처와 라이선스...</td>\n",
       "    </tr>\n",
       "  </tbody>\n",
       "</table>\n",
       "</div>"
      ],
      "text/plain": [
       "                                            question  \\\n",
       "0                        삼성전자가 만든 생성형 AI의 이름은 무엇인가요?   \n",
       "1  미국 바이든 대통령이 안전하고 신뢰할 수 있는 AI 개발과 사용을 보장하기 위한 행...   \n",
       "2                    코히어의 데이터 출처 탐색기에 대해서 간략히 말해주세요.   \n",
       "\n",
       "                                              answer  \n",
       "0                   삼성전자가 만든 생성형 AI의 이름은 삼성 가우스 입니다.  \n",
       "1            2023년 10월 30일 미국 바이든 대통령이 행정명령을 발표했습니다.  \n",
       "2  코히어의 데이터 출처 탐색기는 AI 모델 훈련에 사용되는 데이터셋의 출처와 라이선스...  "
      ]
     },
     "execution_count": 3,
     "metadata": {},
     "output_type": "execute_result"
    }
   ],
   "source": [
    "import pandas as pd\n",
    "\n",
    "# 문서에대한 질문과 답변 목록\n",
    "inputs = [\n",
    "    \"삼성전자가 만든 생성형 AI의 이름은 무엇인가요?\",\n",
    "    \"미국 바이든 대통령이 안전하고 신뢰할 수 있는 AI 개발과 사용을 보장하기 위한 행정명령을 발표한 날은 언제인가요?\",\n",
    "    \"코히어의 데이터 출처 탐색기에 대해서 간략히 말해주세요.\",\n",
    "]\n",
    "\n",
    "# 문서에대한 질문에 대한 답변 목록\n",
    "outputs = [\n",
    "    \"삼성전자가 만든 생성형 AI의 이름은 삼성 가우스 입니다.\",\n",
    "    \"2023년 10월 30일 미국 바이든 대통령이 행정명령을 발표했습니다.\",\n",
    "    \"코히어의 데이터 출처 탐색기는 AI 모델 훈련에 사용되는 데이터셋의 출처와 라이선스 상태를 추적하고 투명성을 확보하기 위한 플랫폼입니다. 12개 기관과 협력하여 2,000여 개 데이터셋의 출처 정보를 제공하며, 개발자들이 데이터의 구성과 계보를 쉽게 파악할 수 있게 돕습니다.\",\n",
    "]\n",
    "\n",
    "# 질문과 답변 쌍 생성\n",
    "qa_pairs = [{\"question\": q, \"answer\": a} for q, a in zip(inputs, outputs)]\n",
    "\n",
    "# 데이터프레임으로 변환\n",
    "df = pd.DataFrame(qa_pairs)\n",
    "\n",
    "# 데이터프레임 출력\n",
    "df.head()"
   ]
  },
  {
   "cell_type": "markdown",
   "metadata": {},
   "source": [
    "# HUGGING FACE에서 다운받아서 사용하는 방법"
   ]
  },
  {
   "cell_type": "code",
   "execution_count": 4,
   "metadata": {},
   "outputs": [
    {
     "data": {
      "text/html": [
       "<div>\n",
       "<style scoped>\n",
       "    .dataframe tbody tr th:only-of-type {\n",
       "        vertical-align: middle;\n",
       "    }\n",
       "\n",
       "    .dataframe tbody tr th {\n",
       "        vertical-align: top;\n",
       "    }\n",
       "\n",
       "    .dataframe thead th {\n",
       "        text-align: right;\n",
       "    }\n",
       "</style>\n",
       "<table border=\"1\" class=\"dataframe\">\n",
       "  <thead>\n",
       "    <tr style=\"text-align: right;\">\n",
       "      <th></th>\n",
       "      <th>contexts</th>\n",
       "      <th>evolution_type</th>\n",
       "      <th>metadata</th>\n",
       "      <th>episode_done</th>\n",
       "      <th>question_translated</th>\n",
       "      <th>ground_truth</th>\n",
       "    </tr>\n",
       "  </thead>\n",
       "  <tbody>\n",
       "    <tr>\n",
       "      <th>0</th>\n",
       "      <td>['£유튜브, 특정인을 모방한 AI 생성 콘텐츠에 대한 삭제 요청에도 대응 계획\\n...</td>\n",
       "      <td>simple</td>\n",
       "      <td>[{'source': 'data/SPRI_AI_Brief_2023년12월호_F.pd...</td>\n",
       "      <td>True</td>\n",
       "      <td>AI 개발의 맥락에서 콘텐츠 조정은 어떤 역할을 하나요?</td>\n",
       "      <td>콘텐츠 조정은 AI 시스템이 적절한 데이터로 학습하고 유해하거나 부적절한 콘텐츠가 ...</td>\n",
       "    </tr>\n",
       "    <tr>\n",
       "      <th>1</th>\n",
       "      <td>['SPRi AI Brief |\\n2023-12월호\\nG7, 히로시마 AI 프로세스...</td>\n",
       "      <td>simple</td>\n",
       "      <td>[{'source': 'data/SPRI_AI_Brief_2023년12월호_F.pd...</td>\n",
       "      <td>True</td>\n",
       "      <td>G7이 수립한 AI 개발 가이드라인의 주요 내용은 무엇인가요?</td>\n",
       "      <td>G7이 마련한 AI 개발 가이드라인의 주요 내용은 첨단 AI 시스템에 대한 국제 행...</td>\n",
       "    </tr>\n",
       "    <tr>\n",
       "      <th>2</th>\n",
       "      <td>['1. 정책/법제 2. 기업/산업 3. 기술/연구 4. 인력/교육\\n영국 AI 안...</td>\n",
       "      <td>simple</td>\n",
       "      <td>[{'source': 'data/SPRI_AI_Brief_2023년12월호_F.pd...</td>\n",
       "      <td>True</td>\n",
       "      <td>2023년 11월에 개최된 AI 안전 서밋의 목적은 무엇인가요?</td>\n",
       "      <td>2023년 11월에 개최된 AI 안전 서밋의 목적은 다양한 분야에서의 AI의 역할에...</td>\n",
       "    </tr>\n",
       "    <tr>\n",
       "      <th>3</th>\n",
       "      <td>['구글 딥마인드, 범용 AI 모델의 기능과 동작에 대한 분류 체계 발표\\nKEY ...</td>\n",
       "      <td>simple</td>\n",
       "      <td>[{'source': 'data/SPRI_AI_Brief_2023년12월호_F.pd...</td>\n",
       "      <td>True</td>\n",
       "      <td>AGI 개발의 맥락에서 '운영화 진행'이란 무엇을 의미하나요?</td>\n",
       "      <td>AGI 개발의 맥락에서 '운영화 진행'이라는 용어는 AGI 기능의 발전을 구현하고 ...</td>\n",
       "    </tr>\n",
       "    <tr>\n",
       "      <th>4</th>\n",
       "      <td>['1. 정책/법제 2. 기업/산업 3. 기술/연구 4. 인력/교육\\n알리바바 클라...</td>\n",
       "      <td>reasoning</td>\n",
       "      <td>[{'source': 'data/SPRI_AI_Brief_2023년12월호_F.pd...</td>\n",
       "      <td>True</td>\n",
       "      <td>통이췐웬 2.0은 이전 버전에 비해 어떤 점이 개선되었나요?</td>\n",
       "      <td>통이췐웬 2.0은 이전 버전에 비해 MMLU, GSM8k, ARC-C 등 다양한 벤...</td>\n",
       "    </tr>\n",
       "  </tbody>\n",
       "</table>\n",
       "</div>"
      ],
      "text/plain": [
       "                                            contexts evolution_type  \\\n",
       "0  ['£유튜브, 특정인을 모방한 AI 생성 콘텐츠에 대한 삭제 요청에도 대응 계획\\n...         simple   \n",
       "1  ['SPRi AI Brief |\\n2023-12월호\\nG7, 히로시마 AI 프로세스...         simple   \n",
       "2  ['1. 정책/법제 2. 기업/산업 3. 기술/연구 4. 인력/교육\\n영국 AI 안...         simple   \n",
       "3  ['구글 딥마인드, 범용 AI 모델의 기능과 동작에 대한 분류 체계 발표\\nKEY ...         simple   \n",
       "4  ['1. 정책/법제 2. 기업/산업 3. 기술/연구 4. 인력/교육\\n알리바바 클라...      reasoning   \n",
       "\n",
       "                                            metadata  episode_done  \\\n",
       "0  [{'source': 'data/SPRI_AI_Brief_2023년12월호_F.pd...          True   \n",
       "1  [{'source': 'data/SPRI_AI_Brief_2023년12월호_F.pd...          True   \n",
       "2  [{'source': 'data/SPRI_AI_Brief_2023년12월호_F.pd...          True   \n",
       "3  [{'source': 'data/SPRI_AI_Brief_2023년12월호_F.pd...          True   \n",
       "4  [{'source': 'data/SPRI_AI_Brief_2023년12월호_F.pd...          True   \n",
       "\n",
       "                   question_translated  \\\n",
       "0      AI 개발의 맥락에서 콘텐츠 조정은 어떤 역할을 하나요?   \n",
       "1   G7이 수립한 AI 개발 가이드라인의 주요 내용은 무엇인가요?   \n",
       "2  2023년 11월에 개최된 AI 안전 서밋의 목적은 무엇인가요?   \n",
       "3   AGI 개발의 맥락에서 '운영화 진행'이란 무엇을 의미하나요?   \n",
       "4    통이췐웬 2.0은 이전 버전에 비해 어떤 점이 개선되었나요?   \n",
       "\n",
       "                                        ground_truth  \n",
       "0  콘텐츠 조정은 AI 시스템이 적절한 데이터로 학습하고 유해하거나 부적절한 콘텐츠가 ...  \n",
       "1  G7이 마련한 AI 개발 가이드라인의 주요 내용은 첨단 AI 시스템에 대한 국제 행...  \n",
       "2  2023년 11월에 개최된 AI 안전 서밋의 목적은 다양한 분야에서의 AI의 역할에...  \n",
       "3  AGI 개발의 맥락에서 '운영화 진행'이라는 용어는 AGI 기능의 발전을 구현하고 ...  \n",
       "4  통이췐웬 2.0은 이전 버전에 비해 MMLU, GSM8k, ARC-C 등 다양한 벤...  "
      ]
     },
     "execution_count": 4,
     "metadata": {},
     "output_type": "execute_result"
    }
   ],
   "source": [
    "import pandas as pd\n",
    "from datasets import load_dataset, Dataset\n",
    "import os\n",
    "\n",
    "# huggingface dataset에서 repo_id로 데이터셋 다운로드\n",
    "dataset = load_dataset(\n",
    "    \"Jaehoya/ragas-test-dataset\",\n",
    "    token=os.environ[\"HUGGINGFACEHUB_API_TOKEN\"], #private 데이터인 경우 필요\n",
    ")\n",
    "\n",
    "#데이터 셋에서 split한 기준으로 조회\n",
    "huggingface_df = dataset[\"korean_v1\"].to_pandas()\n",
    "huggingface_df.head()"
   ]
  },
  {
   "cell_type": "markdown",
   "metadata": {},
   "source": [
    "# Langsmith 테스트를 위한 Dataset 생성"
   ]
  },
  {
   "cell_type": "code",
   "execution_count": 5,
   "metadata": {},
   "outputs": [],
   "source": [
    "from langsmith import Client\n",
    "\n",
    "client = Client()\n",
    "dataset_name = \"RAG_EVAL_DATASET_teddynote\"\n",
    "\n",
    "#데이터셋 생성 함수\n",
    "def create_dataset(client, dataset_name, description=None):\n",
    "    for dataset in client.list_datasets():\n",
    "        if dataset.name == dataset_name:\n",
    "            return dataset\n",
    "        \n",
    "    dataset = client.create_dataset(\n",
    "        dataset_name=dataset_name,\n",
    "        description=description\n",
    "    )\n",
    "    return dataset\n",
    "\n",
    "# 데이터셋 생성\n",
    "dataset = create_dataset(client, dataset_name)\n",
    "\n",
    "# 생성된 데이터셋에 예제 추가\n",
    "client.create_examples(\n",
    "    inputs=[{\"question\": q} for q in huggingface_df[\"question_translated\"].tolist()],\n",
    "    outputs=[{\"answer\": a} for a in huggingface_df[\"ground_truth\"].tolist()],\n",
    "    dataset_id = dataset.id,\n",
    ")"
   ]
  },
  {
   "cell_type": "markdown",
   "metadata": {},
   "source": [
    "데이터셋에 예제를 나중에 추가할 수 있습니다."
   ]
  },
  {
   "cell_type": "code",
   "execution_count": 6,
   "metadata": {},
   "outputs": [],
   "source": [
    "# 새로운 질문 목록\n",
    "new_questions = [\n",
    "    \"삼성전자가 만든 생성형 AI의 이름은 무엇인가요?\",\n",
    "    \"구글이 테디노트에게 20억달러를 투자한 것이 사실입니까?\",\n",
    "]\n",
    "\n",
    "# 새로운 답변 목록\n",
    "new_answers = [\n",
    "    \"삼성전자가 만든 생성형 AI의 이름은 테디노트 입니다.\",\n",
    "    \"사실이 아닙니다. 구글은 앤스로픽에 최대 20억 달러를 투자하기로 합의했으며, 이 중 5억 달러를 우선 투자하고 향후 15억 달러를 추가로 투자하기로 했습니다.\",\n",
    "]\n",
    "\n",
    "# UI에서 업데이트된 버전 확인\n",
    "client.create_examples(\n",
    "    inputs=[{\"question_translated\": q} for q in new_questions],\n",
    "    outputs=[{\"ground_truth\": a} for a in new_answers],\n",
    "    dataset_id=dataset.id,\n",
    ")"
   ]
  },
  {
   "cell_type": "code",
   "execution_count": null,
   "metadata": {},
   "outputs": [],
   "source": []
  }
 ],
 "metadata": {
  "kernelspec": {
   "display_name": "langchain-kr-gLkynrUQ-py3.11",
   "language": "python",
   "name": "python3"
  },
  "language_info": {
   "codemirror_mode": {
    "name": "ipython",
    "version": 3
   },
   "file_extension": ".py",
   "mimetype": "text/x-python",
   "name": "python",
   "nbconvert_exporter": "python",
   "pygments_lexer": "ipython3",
   "version": "3.11.9"
  }
 },
 "nbformat": 4,
 "nbformat_minor": 2
}
