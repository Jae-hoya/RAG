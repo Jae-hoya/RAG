{
 "cells": [
  {
   "cell_type": "markdown",
   "metadata": {},
   "source": [
    "# 캐싱(Casching)\n",
    "- 동일한 질문에 대한 답변을 여러번 요청하는 경우, LLM공급자에 대한 API호출 횟수를 줄여 비용을 절감할 수 있다.\n",
    "- API호출 횟수를 줄여, 어플리케이션의 속도를 높힐 수 있다."
   ]
  },
  {
   "cell_type": "code",
   "execution_count": 2,
   "metadata": {},
   "outputs": [],
   "source": [
    "from dotenv import load_dotenv\n",
    "from langchain_openai import ChatOpenAI\n",
    "from langchain_core.prompts import PromptTemplate"
   ]
  },
  {
   "cell_type": "code",
   "execution_count": 3,
   "metadata": {},
   "outputs": [
    {
     "data": {
      "text/plain": [
       "True"
      ]
     },
     "execution_count": 3,
     "metadata": {},
     "output_type": "execute_result"
    }
   ],
   "source": [
    "load_dotenv()"
   ]
  },
  {
   "cell_type": "code",
   "execution_count": 8,
   "metadata": {},
   "outputs": [],
   "source": [
    "llm = ChatOpenAI(model=\"gpt-4o-mini\")\n",
    "\n",
    "template = \"\"\"\n",
    "{country}에 대해서 200자 내외로 요약해줘\n",
    "\"\"\"\n",
    "\n",
    "prompt = PromptTemplate.from_template(template)\n",
    "\n",
    "chain = prompt | llm"
   ]
  },
  {
   "cell_type": "code",
   "execution_count": 9,
   "metadata": {},
   "outputs": [
    {
     "name": "stdout",
     "output_type": "stream",
     "text": [
      "한국은 동아시아에 위치한 국가로, 한반도의 남쪽에 위치합니다. 서울이 수도이며, 경제, 문화, 기술 분야에서 빠르게 발전하고 있습니다. 한식, K-팝, 한국 드라마 등이 세계적으로 인기를 끌고 있으며, 전통과 현대가 조화롭게 공존하는 사회입니다. 한국은 교육열이 높고, IT 산업이 발달하여 글로벌 경제에서 중요한 역할을 하고 있습니다.\n",
      "CPU times: total: 15.6 ms\n",
      "Wall time: 2.41 s\n"
     ]
    }
   ],
   "source": [
    "%%time\n",
    "response = chain.invoke({\"country\":\"한국\"})\n",
    "print(response.content)"
   ]
  },
  {
   "cell_type": "markdown",
   "metadata": {},
   "source": [
    "# InMemoryCache\n",
    "- 인메모리 캐시를 사용하여 동일 질문에 대한 답변을 저장하고, 캐시에 저장된 답변을 반환\n",
    "\n",
    "- 메모리 공간을 활용한 캐싱을 진행한다. `InMemoryCache` 은 휘발성이 있는 메모리다. 프로그램을 종료하면 날라간다.\n",
    "\n",
    "- 사용자별로 캐싱을 해야 할 때는 `InMemoryCache`가 유리할 수 있다."
   ]
  },
  {
   "cell_type": "code",
   "execution_count": 10,
   "metadata": {},
   "outputs": [
    {
     "name": "stdout",
     "output_type": "stream",
     "text": [
      "한국은 동아시아에 위치한 반도국으로, 한반도를 차지하고 있습니다. 남한과 북한으로 나뉘어 있으며, 서울은 남한의 수도입니다. 한국은 고유의 문화와 전통, K-팝, K-드라마 등으로 세계적으로 유명합니다. 경제적으로는 기술과 제조업이 발달했으며, 교육 수준이 높습니다. 한국의 역사적 유산과 자연 경관도 많은 관광객을 끌어옵니다.\n",
      "CPU times: total: 547 ms\n",
      "Wall time: 2.65 s\n"
     ]
    }
   ],
   "source": [
    "%%time\n",
    "from langchain.globals import set_llm_cache\n",
    "from langchain.cache import InMemoryCache\n",
    "\n",
    "# 인메모리 캐시를 사용\n",
    "set_llm_cache(InMemoryCache())\n",
    "\n",
    "# 체인을 실행\n",
    "response = chain.invoke({\"country\": \"한국\"})\n",
    "print(response.content)"
   ]
  },
  {
   "cell_type": "code",
   "execution_count": 12,
   "metadata": {},
   "outputs": [
    {
     "name": "stdout",
     "output_type": "stream",
     "text": [
      "한국은 동아시아에 위치한 반도국으로, 한반도를 차지하고 있습니다. 남한과 북한으로 나뉘어 있으며, 서울은 남한의 수도입니다. 한국은 고유의 문화와 전통, K-팝, K-드라마 등으로 세계적으로 유명합니다. 경제적으로는 기술과 제조업이 발달했으며, 교육 수준이 높습니다. 한국의 역사적 유산과 자연 경관도 많은 관광객을 끌어옵니다.\n",
      "CPU times: total: 0 ns\n",
      "Wall time: 1.99 ms\n"
     ]
    }
   ],
   "source": [
    "%%time\n",
    "# 시간이 엄청 줄었다! 비용역시 발생하지 않는다.\n",
    "response = chain.invoke({\"country\": \"한국\"})\n",
    "print(response.content)"
   ]
  },
  {
   "cell_type": "markdown",
   "metadata": {},
   "source": [
    "# SQLite Cache\n",
    "- 휘발성이 없애기 위해, DB에 저장하기 위함이다."
   ]
  },
  {
   "cell_type": "code",
   "execution_count": 13,
   "metadata": {},
   "outputs": [],
   "source": [
    "from langchain_community.cache import SQLiteCache\n",
    "from langchain_core.globals import set_llm_cache\n",
    "import os\n",
    "\n",
    "# 캐시 디렉토리를 생성\n",
    "if not os.path.exists(\"cache\"):\n",
    "    os.makedirs(\"cache\")\n",
    "\n",
    "# SQLiteCache를 사용\n",
    "set_llm_cache(SQLiteCache(database_path=\"cache/llm_cache.db\"))"
   ]
  },
  {
   "cell_type": "code",
   "execution_count": 14,
   "metadata": {},
   "outputs": [
    {
     "name": "stdout",
     "output_type": "stream",
     "text": [
      "한국은 동아시아에 위치한 한반도의 국가로, 남북으로 나뉘어 있습니다. 남한은 민주주의 국가로 경제가 발달하였으며, K-팝, K-드라마 등 문화가 세계적으로 인기를 끌고 있습니다. 북한은 사회주의 국가로, 정치적 특성이 다릅니다. 한국은 풍부한 역사와 전통, 맛있는 음식, 아름다운 자연 경관을 자랑합니다.\n",
      "CPU times: total: 46.9 ms\n",
      "Wall time: 2.65 s\n"
     ]
    }
   ],
   "source": [
    "%%time\n",
    "response = chain.invoke({\"country\": \"한국\"})\n",
    "print(response.content)"
   ]
  },
  {
   "cell_type": "code",
   "execution_count": null,
   "metadata": {},
   "outputs": [],
   "source": []
  }
 ],
 "metadata": {
  "kernelspec": {
   "display_name": "langchain-kr-mcYdBRZz-py3.11",
   "language": "python",
   "name": "python3"
  },
  "language_info": {
   "codemirror_mode": {
    "name": "ipython",
    "version": 3
   },
   "file_extension": ".py",
   "mimetype": "text/x-python",
   "name": "python",
   "nbconvert_exporter": "python",
   "pygments_lexer": "ipython3",
   "version": "3.11.9"
  }
 },
 "nbformat": 4,
 "nbformat_minor": 2
}
