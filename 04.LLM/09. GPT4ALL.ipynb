{
 "cells": [
  {
   "cell_type": "markdown",
   "metadata": {},
   "source": [
    "설치 방법 : pip install -qU gpt4all"
   ]
  },
  {
   "cell_type": "code",
   "execution_count": 8,
   "metadata": {},
   "outputs": [],
   "source": [
    "# 경로지정\n",
    "local_path = \"../models/EEVE-Korean-Instruct-10.8B-v1.0.Q6_K.gguf\""
   ]
  },
  {
   "cell_type": "code",
   "execution_count": 9,
   "metadata": {},
   "outputs": [],
   "source": [
    "from langchain_core.prompts import ChatPromptTemplate\n",
    "from langchain_community.llms import GPT4All\n",
    "from langchain_core.output_parsers import StrOutputParser\n",
    "from langchain_core.callbacks import StreamingStdOutCallbackHandler\n"
   ]
  },
  {
   "cell_type": "code",
   "execution_count": 10,
   "metadata": {},
   "outputs": [
    {
     "name": "stdout",
     "output_type": "stream",
     "text": [
      "대한민국(South Korea)의 수도는 서울입니다.\n",
      "\n",
      "서울은 세계에서 가장 큰 도시 중 하나이며, 약 1000만 명의 인구를 가진 대도시 지역으로 구성되어 있습니다. 또한 대한민국에서 정치, 경제, 문화 중심지 역할을 하고 있으며, 정부 기관과 주요 기업 본사가 위치해 있습니다.\n",
      "\n",
      "서울의 역사는 기원전 2333년까지 거슬러 올라가며, 이때 고구려 왕조에 의해 한성(Hanseong)이라는 도시로 창건되었습니다. 이후 삼국시대에는 백제와 신라의 수도가 되었으며, 고려 시대에는 개경으로 불렸습니다.\n",
      "\n",
      "서울은 1948년 대한민국이 설립된 이래로 국가의 수도 역할을 해왔습니다. 서울의 주요 명소로는 경복궁(Gyeongbokgung Palace), 창덕궁(Changdeokgung Palace), 덕수궁(Deoksugung Palace)과 같은 궁전, 그리고 남산타워와 N서울 타워와 같은 현대적인 랜드마크가 있습니다.\n",
      "\n",
      "또한 서울은 다양한 박물관, 미술관 및 기타 문화 기관을 보유하고 있어 방문객들에게 풍부한 문화적"
     ]
    }
   ],
   "source": [
    "prompt = ChatPromptTemplate.from_template(\n",
    "    \"\"\"<s>A chat between a curious user and an artificial intelligence assistant. The assistant gives helpful, detailed, and polite answers to the user's questions.</s>\n",
    "<s>Human: {question}</s>\n",
    "<s>Assistant:\n",
    "    \n",
    "\"\"\"\n",
    ")\n",
    "\n",
    "llm = GPT4All(\n",
    "    model = local_path,\n",
    "    backend = \"gpu\", # GPU설정\n",
    "    streaming=True, # 스트리밍 설정\n",
    "    callbacks=[StreamingStdOutCallbackHandler()] # 콜백설정\n",
    ")\n",
    "\n",
    "chain = prompt | llm | StrOutputParser()\n",
    "\n",
    "response = chain.invoke({\"question\":\"대한민국의 수도는 어디인가요?\"})"
   ]
  },
  {
   "cell_type": "code",
   "execution_count": null,
   "metadata": {},
   "outputs": [],
   "source": []
  }
 ],
 "metadata": {
  "kernelspec": {
   "display_name": "langchain-kr-mcYdBRZz-py3.11",
   "language": "python",
   "name": "python3"
  },
  "language_info": {
   "codemirror_mode": {
    "name": "ipython",
    "version": 3
   },
   "file_extension": ".py",
   "mimetype": "text/x-python",
   "name": "python",
   "nbconvert_exporter": "python",
   "pygments_lexer": "ipython3",
   "version": "3.11.9"
  }
 },
 "nbformat": 4,
 "nbformat_minor": 2
}
