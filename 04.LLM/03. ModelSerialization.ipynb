{
 "cells": [
  {
   "cell_type": "markdown",
   "metadata": {},
   "source": [
    "# 직렬화(Serialization)\n",
    "1. 정의: 모델을 저장 가능한 형싟으로 변환하는 과정\n",
    "2. 목적: 모델 재사용(재훈련 없이), 모델 배포 및 공유 용이, 계산 리소스 절약\n",
    "3. 장점: 빠른 모델 로딩, 버전 관리 가능, 다양한 환경에서 사용 가능.\n",
    "\n",
    "체인을 json형식을 바꾸어 저장을 하고, 저장된 파일을 나중에 disSerialization(역직렬화)을 하여 사용한다.\n",
    "\n",
    "즉, 직렬화는 우리가 만든 체인이나 프롬프트를 파일로 저장할때 변환하는 과정이다.\n",
    "\n",
    "- 직렬화가 가능한 타입은 따로 있다.\n",
    "\n",
    "`is_lc_serializable` 를 싱행하여 True가 나오면 된다."
   ]
  },
  {
   "cell_type": "code",
   "execution_count": 1,
   "metadata": {},
   "outputs": [
    {
     "data": {
      "text/plain": [
       "True"
      ]
     },
     "execution_count": 1,
     "metadata": {},
     "output_type": "execute_result"
    }
   ],
   "source": [
    "from dotenv import load_dotenv\n",
    "load_dotenv()"
   ]
  },
  {
   "cell_type": "code",
   "execution_count": 2,
   "metadata": {},
   "outputs": [],
   "source": [
    "import os\n",
    "from langchain_openai import ChatOpenAI\n",
    "from langchain.prompts import PromptTemplate\n",
    "\n",
    "llm = ChatOpenAI(model=\"gpt-4o-mini\")\n",
    "\n",
    "template = \"{fruit}의 색상은 무엇입니까?\"\n",
    "prompt = PromptTemplate.from_template(template)"
   ]
  },
  {
   "cell_type": "code",
   "execution_count": 5,
   "metadata": {},
   "outputs": [
    {
     "name": "stdout",
     "output_type": "stream",
     "text": [
      "ChatOpenAI: True\n"
     ]
    }
   ],
   "source": [
    "# 클래스에 대하여 직렬화 가능 여부를 체크한다.\n",
    "print(f\"ChatOpenAI: {llm.is_lc_serializable()}\")"
   ]
  },
  {
   "cell_type": "code",
   "execution_count": 6,
   "metadata": {},
   "outputs": [
    {
     "data": {
      "text/plain": [
       "True"
      ]
     },
     "execution_count": 6,
     "metadata": {},
     "output_type": "execute_result"
    }
   ],
   "source": [
    "chain = prompt | llm\n",
    "chain.is_lc_serializable()"
   ]
  },
  {
   "cell_type": "markdown",
   "metadata": {},
   "source": [
    "# 체인 직렬화(dumnps, dumped)\n",
    "### 개요\n",
    "체인 질력화는 딕셔너리 또는 json형식으로 변환하는 과정이다.\n",
    "\n",
    "### 직렬화방법\n",
    "객체의 속성 및 데이터를 키-값 쌍으로 저장하여 딕셔너리 형태로 변환한다.\n",
    "\n",
    "##### 참고\n",
    "- `dumps` : 객체를 JSON형태로 직렬화 string의 s\n",
    "- `dumpd` : 객체를 딕셔너리 형체로 직렬화 dictionary의 d"
   ]
  },
  {
   "cell_type": "code",
   "execution_count": 16,
   "metadata": {},
   "outputs": [],
   "source": [
    "from langchain_core.load import dumpd, dumps"
   ]
  },
  {
   "cell_type": "code",
   "execution_count": 17,
   "metadata": {},
   "outputs": [
    {
     "data": {
      "text/plain": [
       "{'lc': 1,\n",
       " 'type': 'constructor',\n",
       " 'id': ['langchain', 'schema', 'runnable', 'RunnableSequence'],\n",
       " 'kwargs': {'first': {'lc': 1,\n",
       "   'type': 'constructor',\n",
       "   'id': ['langchain', 'prompts', 'prompt', 'PromptTemplate'],\n",
       "   'kwargs': {'input_variables': ['fruit'],\n",
       "    'template': '{fruit}의 색상은 무엇입니까?',\n",
       "    'template_format': 'f-string'},\n",
       "   'name': 'PromptTemplate',\n",
       "   'graph': {'nodes': [{'id': 0, 'type': 'schema', 'data': 'PromptInput'},\n",
       "     {'id': 1,\n",
       "      'type': 'runnable',\n",
       "      'data': {'id': ['langchain', 'prompts', 'prompt', 'PromptTemplate'],\n",
       "       'name': 'PromptTemplate'}},\n",
       "     {'id': 2, 'type': 'schema', 'data': 'PromptTemplateOutput'}],\n",
       "    'edges': [{'source': 0, 'target': 1}, {'source': 1, 'target': 2}]}},\n",
       "  'last': {'lc': 1,\n",
       "   'type': 'constructor',\n",
       "   'id': ['langchain', 'chat_models', 'openai', 'ChatOpenAI'],\n",
       "   'kwargs': {'model_name': 'gpt-4o-mini',\n",
       "    'temperature': 0.7,\n",
       "    'openai_api_key': {'lc': 1, 'type': 'secret', 'id': ['OPENAI_API_KEY']},\n",
       "    'openai_proxy': '',\n",
       "    'max_retries': 2,\n",
       "    'n': 1},\n",
       "   'name': 'ChatOpenAI',\n",
       "   'graph': {'nodes': [{'id': 0, 'type': 'schema', 'data': 'ChatOpenAIInput'},\n",
       "     {'id': 1,\n",
       "      'type': 'runnable',\n",
       "      'data': {'id': ['langchain', 'chat_models', 'openai', 'ChatOpenAI'],\n",
       "       'name': 'ChatOpenAI'}},\n",
       "     {'id': 2, 'type': 'schema', 'data': 'ChatOpenAIOutput'}],\n",
       "    'edges': [{'source': 0, 'target': 1}, {'source': 1, 'target': 2}]}}},\n",
       " 'name': 'RunnableSequence',\n",
       " 'graph': {'nodes': [{'id': 0, 'type': 'schema', 'data': 'PromptInput'},\n",
       "   {'id': 1,\n",
       "    'type': 'runnable',\n",
       "    'data': {'id': ['langchain', 'prompts', 'prompt', 'PromptTemplate'],\n",
       "     'name': 'PromptTemplate'}},\n",
       "   {'id': 2,\n",
       "    'type': 'runnable',\n",
       "    'data': {'id': ['langchain', 'chat_models', 'openai', 'ChatOpenAI'],\n",
       "     'name': 'ChatOpenAI'}},\n",
       "   {'id': 3, 'type': 'schema', 'data': 'ChatOpenAIOutput'}],\n",
       "  'edges': [{'source': 0, 'target': 1},\n",
       "   {'source': 2, 'target': 3},\n",
       "   {'source': 1, 'target': 2}]}}"
      ]
     },
     "execution_count": 17,
     "metadata": {},
     "output_type": "execute_result"
    }
   ],
   "source": [
    "dumpd_chain = dumpd(chain)\n",
    "dumpd_chain"
   ]
  },
  {
   "cell_type": "code",
   "execution_count": 18,
   "metadata": {},
   "outputs": [
    {
     "data": {
      "text/plain": [
       "dict"
      ]
     },
     "execution_count": 18,
     "metadata": {},
     "output_type": "execute_result"
    }
   ],
   "source": [
    "type(dumpd_chain)"
   ]
  },
  {
   "cell_type": "code",
   "execution_count": 19,
   "metadata": {},
   "outputs": [
    {
     "data": {
      "text/plain": [
       "'{\"lc\": 1, \"type\": \"constructor\", \"id\": [\"langchain\", \"schema\", \"runnable\", \"RunnableSequence\"], \"kwargs\": {\"first\": {\"lc\": 1, \"type\": \"constructor\", \"id\": [\"langchain\", \"prompts\", \"prompt\", \"PromptTemplate\"], \"kwargs\": {\"input_variables\": [\"fruit\"], \"template\": \"{fruit}\\\\uc758 \\\\uc0c9\\\\uc0c1\\\\uc740 \\\\ubb34\\\\uc5c7\\\\uc785\\\\ub2c8\\\\uae4c?\", \"template_format\": \"f-string\"}, \"name\": \"PromptTemplate\", \"graph\": {\"nodes\": [{\"id\": 0, \"type\": \"schema\", \"data\": \"PromptInput\"}, {\"id\": 1, \"type\": \"runnable\", \"data\": {\"id\": [\"langchain\", \"prompts\", \"prompt\", \"PromptTemplate\"], \"name\": \"PromptTemplate\"}}, {\"id\": 2, \"type\": \"schema\", \"data\": \"PromptTemplateOutput\"}], \"edges\": [{\"source\": 0, \"target\": 1}, {\"source\": 1, \"target\": 2}]}}, \"last\": {\"lc\": 1, \"type\": \"constructor\", \"id\": [\"langchain\", \"chat_models\", \"openai\", \"ChatOpenAI\"], \"kwargs\": {\"model_name\": \"gpt-4o-mini\", \"temperature\": 0.7, \"openai_api_key\": {\"lc\": 1, \"type\": \"secret\", \"id\": [\"OPENAI_API_KEY\"]}, \"openai_proxy\": \"\", \"max_retries\": 2, \"n\": 1}, \"name\": \"ChatOpenAI\", \"graph\": {\"nodes\": [{\"id\": 0, \"type\": \"schema\", \"data\": \"ChatOpenAIInput\"}, {\"id\": 1, \"type\": \"runnable\", \"data\": {\"id\": [\"langchain\", \"chat_models\", \"openai\", \"ChatOpenAI\"], \"name\": \"ChatOpenAI\"}}, {\"id\": 2, \"type\": \"schema\", \"data\": \"ChatOpenAIOutput\"}], \"edges\": [{\"source\": 0, \"target\": 1}, {\"source\": 1, \"target\": 2}]}}}, \"name\": \"RunnableSequence\", \"graph\": {\"nodes\": [{\"id\": 0, \"type\": \"schema\", \"data\": \"PromptInput\"}, {\"id\": 1, \"type\": \"runnable\", \"data\": {\"id\": [\"langchain\", \"prompts\", \"prompt\", \"PromptTemplate\"], \"name\": \"PromptTemplate\"}}, {\"id\": 2, \"type\": \"runnable\", \"data\": {\"id\": [\"langchain\", \"chat_models\", \"openai\", \"ChatOpenAI\"], \"name\": \"ChatOpenAI\"}}, {\"id\": 3, \"type\": \"schema\", \"data\": \"ChatOpenAIOutput\"}], \"edges\": [{\"source\": 0, \"target\": 1}, {\"source\": 2, \"target\": 3}, {\"source\": 1, \"target\": 2}]}}'"
      ]
     },
     "execution_count": 19,
     "metadata": {},
     "output_type": "execute_result"
    }
   ],
   "source": [
    "dumps_chain = dumps(chain)\n",
    "dumps_chain"
   ]
  },
  {
   "cell_type": "code",
   "execution_count": 20,
   "metadata": {},
   "outputs": [
    {
     "data": {
      "text/plain": [
       "str"
      ]
     },
     "execution_count": 20,
     "metadata": {},
     "output_type": "execute_result"
    }
   ],
   "source": [
    "type(dumps_chain)"
   ]
  },
  {
   "cell_type": "markdown",
   "metadata": {},
   "source": [
    "# Pickle 파일\n",
    "파이썬 객체를 바이너리 형태로 직렬화하는 포맷"
   ]
  },
  {
   "cell_type": "code",
   "execution_count": null,
   "metadata": {},
   "outputs": [],
   "source": [
    "dumpd_chain\n",
    "dumps_chain"
   ]
  },
  {
   "cell_type": "code",
   "execution_count": 21,
   "metadata": {},
   "outputs": [],
   "source": [
    "import pickle\n",
    "\n",
    "# fruit_chain.pkl 파일로 직렬화 된 체인을 저장. wb는 로드, rb는 읽기\n",
    "with open(\"fruit_chain.pkl\", \"wb\") as f: \n",
    "    pickle.dump(dumpd_chain, f)"
   ]
  },
  {
   "cell_type": "code",
   "execution_count": 23,
   "metadata": {},
   "outputs": [],
   "source": [
    "# JSON파일로도 저장 가능.\n",
    "import json\n",
    "with open(\"fruit_chain.json\", \"w\") as fp: \n",
    "    json.dump(dumpd_chain, fp)"
   ]
  },
  {
   "cell_type": "markdown",
   "metadata": {},
   "source": [
    "# load:저장된 모델 불러오기"
   ]
  },
  {
   "cell_type": "code",
   "execution_count": 24,
   "metadata": {},
   "outputs": [],
   "source": [
    "import pickle\n",
    "\n",
    "# pickle파일 로드\n",
    "with open(\"fruit_chain.pkl\", \"rb\") as f: \n",
    "    loaded_chain = pickle.load(f)"
   ]
  },
  {
   "cell_type": "code",
   "execution_count": 25,
   "metadata": {},
   "outputs": [
    {
     "data": {
      "text/plain": [
       "{'lc': 1,\n",
       " 'type': 'constructor',\n",
       " 'id': ['langchain', 'schema', 'runnable', 'RunnableSequence'],\n",
       " 'kwargs': {'first': {'lc': 1,\n",
       "   'type': 'constructor',\n",
       "   'id': ['langchain', 'prompts', 'prompt', 'PromptTemplate'],\n",
       "   'kwargs': {'input_variables': ['fruit'],\n",
       "    'template': '{fruit}의 색상은 무엇입니까?',\n",
       "    'template_format': 'f-string'},\n",
       "   'name': 'PromptTemplate',\n",
       "   'graph': {'nodes': [{'id': 0, 'type': 'schema', 'data': 'PromptInput'},\n",
       "     {'id': 1,\n",
       "      'type': 'runnable',\n",
       "      'data': {'id': ['langchain', 'prompts', 'prompt', 'PromptTemplate'],\n",
       "       'name': 'PromptTemplate'}},\n",
       "     {'id': 2, 'type': 'schema', 'data': 'PromptTemplateOutput'}],\n",
       "    'edges': [{'source': 0, 'target': 1}, {'source': 1, 'target': 2}]}},\n",
       "  'last': {'lc': 1,\n",
       "   'type': 'constructor',\n",
       "   'id': ['langchain', 'chat_models', 'openai', 'ChatOpenAI'],\n",
       "   'kwargs': {'model_name': 'gpt-4o-mini',\n",
       "    'temperature': 0.7,\n",
       "    'openai_api_key': {'lc': 1, 'type': 'secret', 'id': ['OPENAI_API_KEY']},\n",
       "    'openai_proxy': '',\n",
       "    'max_retries': 2,\n",
       "    'n': 1},\n",
       "   'name': 'ChatOpenAI',\n",
       "   'graph': {'nodes': [{'id': 0, 'type': 'schema', 'data': 'ChatOpenAIInput'},\n",
       "     {'id': 1,\n",
       "      'type': 'runnable',\n",
       "      'data': {'id': ['langchain', 'chat_models', 'openai', 'ChatOpenAI'],\n",
       "       'name': 'ChatOpenAI'}},\n",
       "     {'id': 2, 'type': 'schema', 'data': 'ChatOpenAIOutput'}],\n",
       "    'edges': [{'source': 0, 'target': 1}, {'source': 1, 'target': 2}]}}},\n",
       " 'name': 'RunnableSequence',\n",
       " 'graph': {'nodes': [{'id': 0, 'type': 'schema', 'data': 'PromptInput'},\n",
       "   {'id': 1,\n",
       "    'type': 'runnable',\n",
       "    'data': {'id': ['langchain', 'prompts', 'prompt', 'PromptTemplate'],\n",
       "     'name': 'PromptTemplate'}},\n",
       "   {'id': 2,\n",
       "    'type': 'runnable',\n",
       "    'data': {'id': ['langchain', 'chat_models', 'openai', 'ChatOpenAI'],\n",
       "     'name': 'ChatOpenAI'}},\n",
       "   {'id': 3, 'type': 'schema', 'data': 'ChatOpenAIOutput'}],\n",
       "  'edges': [{'source': 0, 'target': 1},\n",
       "   {'source': 2, 'target': 3},\n",
       "   {'source': 1, 'target': 2}]}}"
      ]
     },
     "execution_count": 25,
     "metadata": {},
     "output_type": "execute_result"
    }
   ],
   "source": [
    "loaded_chain"
   ]
  },
  {
   "cell_type": "code",
   "execution_count": 27,
   "metadata": {},
   "outputs": [
    {
     "name": "stdout",
     "output_type": "stream",
     "text": [
      "content='사과의 색상은 다양합니다. 일반적으로 사과는 빨간색, 초록색, 노란색 등 여러 가지 색상으로 나타납니다. 예를 들어, 레드 딜리셔스 사과는 진한 빨간색을 띠고, 그린 스미스 사과는 선명한 초록색을 가지고 있으며, 골든 딜리셔스 사과는 노란색을 띱니다. 각 품종에 따라 색상이 다르므로, 사과의 색상은 품종에 따라 다양하게 나타납니다.' response_metadata={'token_usage': {'completion_tokens': 122, 'prompt_tokens': 17, 'total_tokens': 139}, 'model_name': 'gpt-4o-mini-2024-07-18', 'system_fingerprint': 'fp_48196bc67a', 'finish_reason': 'stop', 'logprobs': None} id='run-71244724-6a3f-4992-8f8b-86c6a962b85e-0' usage_metadata={'input_tokens': 17, 'output_tokens': 122, 'total_tokens': 139}\n"
     ]
    }
   ],
   "source": [
    "from langchain_core.load import load\n",
    "# 체인 로드\n",
    "chain_form_file = load(loaded_chain)\n",
    "\n",
    "# 체인 실행\n",
    "print(chain_form_file.invoke({\"fruit\": \"사과\"}))"
   ]
  },
  {
   "cell_type": "code",
   "execution_count": null,
   "metadata": {},
   "outputs": [],
   "source": []
  },
  {
   "cell_type": "code",
   "execution_count": 28,
   "metadata": {},
   "outputs": [],
   "source": [
    "import json\n",
    "with open(\"fruit_chain.json\", \"r\") as fp:\n",
    "    loaded_from_json_chain = json.load(fp)\n",
    "    loads_chain = load(loaded_from_json_chain)\n",
    "\n"
   ]
  },
  {
   "cell_type": "code",
   "execution_count": 29,
   "metadata": {},
   "outputs": [
    {
     "data": {
      "text/plain": [
       "AIMessage(content='사과의 색상은 다양합니다. 일반적으로 사과는 빨간색, 녹색, 노란색, 그리고 주황색과 같은 색상으로 나타납니다. 각 품종에 따라 색상이 다르며, 예를 들어 레드 딜리셔스는 주로 진한 빨간색을 띠고, 그라니 스미스는 녹색입니다. 또한, 일부 사과는 두 가지 이상의 색상이 혼합되어 있기도 합니다.', response_metadata={'token_usage': {'completion_tokens': 103, 'prompt_tokens': 17, 'total_tokens': 120}, 'model_name': 'gpt-4o-mini-2024-07-18', 'system_fingerprint': 'fp_48196bc67a', 'finish_reason': 'stop', 'logprobs': None}, id='run-8e4c9016-360f-435b-bc69-79caab351da7-0', usage_metadata={'input_tokens': 17, 'output_tokens': 103, 'total_tokens': 120})"
      ]
     },
     "execution_count": 29,
     "metadata": {},
     "output_type": "execute_result"
    }
   ],
   "source": [
    "loads_chain.invoke({\"fruit\":\"사과\"})"
   ]
  },
  {
   "cell_type": "code",
   "execution_count": null,
   "metadata": {},
   "outputs": [],
   "source": []
  }
 ],
 "metadata": {
  "kernelspec": {
   "display_name": "langchain-kr-mcYdBRZz-py3.11",
   "language": "python",
   "name": "python3"
  },
  "language_info": {
   "codemirror_mode": {
    "name": "ipython",
    "version": 3
   },
   "file_extension": ".py",
   "mimetype": "text/x-python",
   "name": "python",
   "nbconvert_exporter": "python",
   "pygments_lexer": "ipython3",
   "version": "3.11.9"
  }
 },
 "nbformat": 4,
 "nbformat_minor": 2
}
