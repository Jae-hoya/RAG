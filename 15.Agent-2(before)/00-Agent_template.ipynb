{
 "cells": [
  {
   "cell_type": "markdown",
   "metadata": {
    "vscode": {
     "languageId": "plaintext"
    }
   },
   "source": [
    "# Agent Template\n",
    "\n",
    "from langchain_community.tools.tavily_search import TavilySearchResults ## tavily search\n",
    "\n",
    "from langchain.tools.retriever import create_retriever_tool ## tool + retriever\n",
    "\n",
    "`create_retriever_tool` 안에 있는 description이 agent에게 역할을 주는것이라고 생각하면 된다.\n",
    "\n",
    "from langchain.agents import create_openai_functions_agent, AgentExecutor ## agent "
   ]
  },
  {
   "cell_type": "code",
   "execution_count": 1,
   "metadata": {},
   "outputs": [
    {
     "data": {
      "text/plain": [
       "True"
      ]
     },
     "execution_count": 1,
     "metadata": {},
     "output_type": "execute_result"
    }
   ],
   "source": [
    "from dotenv import load_dotenv\n",
    "load_dotenv()"
   ]
  },
  {
   "cell_type": "code",
   "execution_count": 2,
   "metadata": {},
   "outputs": [
    {
     "name": "stdout",
     "output_type": "stream",
     "text": [
      "LangSmith 추적을 시작합니다.\n",
      "[프로젝트명]\n",
      "CH-15 Agent_template\n"
     ]
    }
   ],
   "source": [
    "from langchain_teddynote import logging\n",
    "logging.langsmith(\"CH-15 Agent_template\")"
   ]
  },
  {
   "cell_type": "code",
   "execution_count": 3,
   "metadata": {},
   "outputs": [],
   "source": [
    "from langchain_community.tools.tavily_search import TavilySearchResults ## tavily search\n",
    "from langchain_community.document_loaders import PyPDFLoader\n",
    "from langchain_text_splitters import RecursiveCharacterTextSplitter\n",
    "from langchain_community.vectorstores import FAISS\n",
    "from langchain_openai import OpenAIEmbeddings, ChatOpenAI\n",
    "from langchain.tools.retriever import create_retriever_tool ## tool + retriever\n",
    "from langchain import hub\n",
    "from langchain.agents import create_openai_functions_agent, AgentExecutor ## agent\n",
    "\n",
    "# memory\n",
    "from langchain_community.chat_message_histories import ChatMessageHistory\n",
    "from langchain_core.runnables.history import RunnableWithMessageHistory"
   ]
  },
  {
   "cell_type": "code",
   "execution_count": 4,
   "metadata": {},
   "outputs": [],
   "source": [
    "# 1.search 도구\n",
    "search = TavilySearchResults(k=5)\n",
    "\n",
    "# 1-2.indexing\n",
    "loader = PyPDFLoader(\"./data/SPRI_AI_Brief_2023년12월호_F.pdf\")\n",
    "docs = loader.load()\n",
    "\n",
    "text_splitter = RecursiveCharacterTextSplitter(chunk_size=1000, chunk_overlap=50)\n",
    "\n",
    "documents = text_splitter.split_documents(docs)\n",
    "\n",
    "embeddings = OpenAIEmbeddings(model='text-embedding-3-small')\n",
    "vector_store = FAISS.from_documents(documents, embeddings)\n",
    "retriever = vector_store.as_retriever()\n",
    "\n",
    "# 1-3.tool모듈에서 retriever도구 생성 및 도구 정의\n",
    "retriever_tool = create_retriever_tool(\n",
    "    retriever,\n",
    "    name=\"pdf_search\",\n",
    "    description=\"2023년 12월 AI 관련 정보를 PDF 문서에서 검색합니다. '2023년 12월 AI 산업동향' 과 관련된 질문은 이 도구를 사용해야 합니다!\",\n",
    ")\n",
    "\n",
    "tools = [search, retriever_tool]"
   ]
  },
  {
   "cell_type": "code",
   "execution_count": 5,
   "metadata": {},
   "outputs": [],
   "source": [
    "# 2.llm 정의\n",
    "llm = ChatOpenAI(model=\"gpt-4o-mini\")"
   ]
  },
  {
   "cell_type": "code",
   "execution_count": 12,
   "metadata": {},
   "outputs": [
    {
     "name": "stdout",
     "output_type": "stream",
     "text": [
      "================================\u001b[1m System Message \u001b[0m================================\n",
      "\n",
      "You are a helpful assistant\n",
      "\n",
      "=============================\u001b[1m Messages Placeholder \u001b[0m=============================\n",
      "\n",
      "\u001b[33;1m\u001b[1;3m{chat_history}\u001b[0m\n",
      "\n",
      "================================\u001b[1m Human Message \u001b[0m=================================\n",
      "\n",
      "\u001b[33;1m\u001b[1;3m{input}\u001b[0m\n",
      "\n",
      "=============================\u001b[1m Messages Placeholder \u001b[0m=============================\n",
      "\n",
      "\u001b[33;1m\u001b[1;3m{agent_scratchpad}\u001b[0m\n"
     ]
    }
   ],
   "source": [
    "# 3.prompt 정의\n",
    "# prompt = hub.pull(\"hwchase17/openai-functions-agent\")\n",
    "# prompt.pretty_print()\n",
    "from langchain_core.prompts import ChatPromptTemplate\n",
    "\n",
    "prompt = ChatPromptTemplate.from_messages([\n",
    "  (\"system\", \"You are a helpful assistant\"),\n",
    "  (\"placeholder\", \"{chat_history}\"),\n",
    "  (\"human\", \"{input}\"),\n",
    "  (\"placeholder\", \"{agent_scratchpad}\"),\n",
    "])\n",
    "prompt.pretty_print()"
   ]
  },
  {
   "cell_type": "code",
   "execution_count": 7,
   "metadata": {},
   "outputs": [],
   "source": [
    "# 4.Agent정의 : 위에서 정의한 llm, toos, prompt를 인자로 사용한다.\n",
    "agent = create_openai_functions_agent(llm, tools, prompt)"
   ]
  },
  {
   "cell_type": "code",
   "execution_count": 8,
   "metadata": {},
   "outputs": [],
   "source": [
    "# 5.Agent Excutor 정의\n",
    "# AgentExecutor 클래스를 사용하여 agent와 tools를 설정하고, 상세한 로그를 출력하도록 verbose를 True로 설정합니다.\n",
    "agent_executor = AgentExecutor(agent=agent, tools=tools, verbose=True)"
   ]
  },
  {
   "cell_type": "code",
   "execution_count": 9,
   "metadata": {},
   "outputs": [],
   "source": [
    "# 6.채팅기록을 정의하는 메모리 추가\n",
    "message_history = ChatMessageHistory()"
   ]
  },
  {
   "cell_type": "code",
   "execution_count": 10,
   "metadata": {},
   "outputs": [],
   "source": [
    "agent_with_chat_history = RunnableWithMessageHistory(\n",
    "    agent_executor,\n",
    "    lambda session_id: message_history,\n",
    "    input_messages_key=\"input\",\n",
    "    history_messages_key=\"chat_history\"\n",
    ")"
   ]
  },
  {
   "cell_type": "code",
   "execution_count": 11,
   "metadata": {},
   "outputs": [
    {
     "name": "stdout",
     "output_type": "stream",
     "text": [
      "\n",
      "\n",
      "\u001b[1m> Entering new AgentExecutor chain...\u001b[0m\n",
      "\u001b[32;1m\u001b[1;3m\n",
      "Invoking: `pdf_search` with `{'query': 'YouTube 2024년 AI 생성콘텐츠 표시 의무화'}`\n",
      "\n",
      "\n",
      "\u001b[0m\u001b[33;1m\u001b[1;3mSPRi AI Brief |  \n",
      "2023-12 월호\n",
      "14유튜브 , 2024년부터 AI 생성 콘텐츠 표시 의무화 \n",
      "n유튜브가 몇 달 안에 생성 AI를 사용한 콘텐츠에 AI 라벨 표시를 의무화하기로 했으며 , 이를 \n",
      "준수하지 않는 콘텐츠는 삭제하고 크리에이터에 대한 수익 배분도 중단할 수 있다고 설명\n",
      "n유튜브는 AI 생성 콘텐츠가 신원 파악이 가능한 개인을 모방한 경우 개인정보 침해 신고 \n",
      "절차에 따라 콘텐츠 삭제 요청도 받을 계획KEY Contents\n",
      "£유튜브 , 생성 AI 콘텐츠에 AI 라벨 표시 안 하면 콘텐츠 삭제\n",
      "n유튜브가 2023 년 11월 14일 공식 블로그를 통해 몇 달 안에 생성 AI를 사용한 콘텐츠에 AI \n",
      "라벨을 표시하는 새로운 규칙을 시행한다고 발표 \n",
      "∙실제로 일어나지 않은 사건을 사실적으로 묘사하거나 실제로 하지 않은 말이나 행동을 보여주는 콘텐츠와 \n",
      "같이 AI 도구를 사용해 사실적으로 변경되거나 합성된 콘텐츠에는 AI 라벨을 표시 필요\n",
      "∙유튜브는 이러한 규칙이 선거나 분쟁 상황, 공중 보건, 공직자 관련 문제와 같이 민감한 주제를 다루는 \n",
      "콘텐츠에서 특히 중요하다고 강조했으며 , 크리에이터가 AI로 제작한 콘텐츠에 AI 라벨을 표시하지 않으면 \n",
      "해당 콘텐츠는 삭제되고 광고 수익을 배분하는 유튜브 파트너 프로그램도 정지될 수 있음\n",
      "∙유튜브는 두 가지 방식으로 AI를 이용한 콘텐츠의 변경이나 합성 여부를 시청자에게 전달할 계획으로 \n",
      "동영상 설명 패널에 라벨을 표시하는 방식이 기본이며 , 민감한 주제를 다루는 특정 유형의 콘텐츠는 동영상 \n",
      "플레이어에 더욱 눈에 띄는 라벨을 적용 \n",
      "∙유튜브는 커뮤니티 정책에 위반되는 일부 합성 콘텐츠에 대해서는 라벨 지정 여부와 관계없이 삭제할 \n",
      "방침으로 , 가령 사실적인 폭력을 보여주는 합성 동영상이 시청자에게 충격이나 혐오감을 줄 수 있다면 \n",
      "삭제될 수 있음\n",
      "£유튜브 , 특정인을 모방한 AI 생성 콘텐츠에 대한 삭제 요청에도 대응 계획\n",
      "\n",
      "£유튜브 , 특정인을 모방한 AI 생성 콘텐츠에 대한 삭제 요청에도 대응 계획\n",
      "n유튜브는 몇 달 내에 신원 파악이 가능한 개인의 얼굴이나 음성을 모방한 AI 생성 콘텐츠에 대하\n",
      "여 개인정보 침해 신고 절차를 마련해 삭제 요청을 받을 계획  \n",
      "∙단, 모든 콘텐츠가 삭제 대상은 아니며 유튜브는 콘텐츠가 패러디나 풍자인지 , 해당 영상에서 삭제 요청을 \n",
      "한 특정인을 식별할 수 있는지 , 공직자나 유명인이 등장하는지 등 다양한 요소를 고려할 예정\n",
      "∙유튜브는 음반사가 아티스트의 고유한 노래나 목소리를 모방한 AI 생성 음악에 대하여 삭제를 요청할 수 \n",
      "있는 기능도 도입할 방침\n",
      "☞ 출처 : Youtube, Our approach to responsible AI innovation, 2023.11.14.\n",
      "\n",
      "▹ IDC, 2027 년 AI 소프트웨어 매출 2,500 억 달러 돌파 전망··········································· 12\n",
      "   ▹ 빌 게이츠 , AI 에이전트로 인한 컴퓨터 사용의 패러다임 변화 전망································ 13\n",
      "   ▹ 유튜브 , 2024 년부터 AI 생성 콘텐츠 표시 의무화 ···························································· 14\n",
      " 3. 기술/연구\n",
      "   ▹ 영국 과학혁신기술부 , AI 안전 연구소 설립 발표······························································ 15\n",
      "   ▹ 구글 딥마인드 , 범용 AI 모델의 기능과 동작에 대한 분류 체계 발표······························ 16\n",
      "   ▹ 갈릴레오의 LLM 환각 지수 평가에서 GPT-4 가 가장 우수 ··········································· 17\n",
      "   \n",
      " 4. 인력/교육     \n",
      "   ▹ 영국 옥스퍼드 인터넷 연구소 , AI 기술자의 임금이 평균 21% 높아······························· 18\n",
      "   \n",
      "   \n",
      " \n",
      "Ⅱ. 주요 행사\n",
      "   ▹CES 2024 ····························································································································· 19\n",
      "   ▹AIMLA 2024 ························································································································· 19\n",
      "\n",
      "보장하고 책임성을 강화\n",
      "∙산업계 , 정부, 시민사회 , 학계를 포함해 첨단 AI 시스템을 개발하는 조직 간 정보공유와 사고 발생 시 \n",
      "신고를 위해 협력하고 , 위험 기반 접근방식을 토대로 개인정보보호 정책과 위험 완화 조치를 포함하는 \n",
      "AI 거버넌스와 위험 관리 정책을 마련\n",
      "∙AI 수명주기 전반에 걸쳐 물리보안 , 사이버보안 , 내부자 위협 보안을 포함한 강력한 보안 통제 구현\n",
      "∙사용자가 AI 생성 콘텐츠를 식별할 수 있도록 워터마크를 비롯하여 기술적으로 가능한 기법으로 \n",
      "신뢰할 수 있는 콘텐츠 인증과 출처 확인 메커니즘을 개발 및 구축 \n",
      "∙사회적 위험과 안전·보안 문제를 완화하는 연구와 효과적인 완화 대책에 우선 투자하고 , 기후 위기 \n",
      "대응, 세계 보건과 교육 등 세계적 난제 해결을 위한 첨단 AI 시스템을 우선 개발\n",
      "∙국제 기술 표준의 개발 및 채택을 가속화하고 , 개인정보와 지식재산권 보호를 위해 데이터 입력과 수집 \n",
      "시 적절한 보호 장치 구현\n",
      "☞ 출처: G7, Hiroshima Process International Code of Conduct for Advanced AI Systems, 2023.10.30.\u001b[0m\u001b[32;1m\u001b[1;3mYouTube는 2024년부터 생성 AI를 사용한 콘텐츠에 대해 AI 라벨 표시를 의무화할 예정입니다. 이 새로운 규칙은 2023년 11월 14일에 발표되었으며, AI 도구를 사용하여 사실적으로 변경되거나 합성된 콘텐츠에 적용됩니다. 만약 크리에이터가 AI로 제작한 콘텐츠에 AI 라벨을 표시하지 않으면 해당 콘텐츠는 삭제될 수 있으며, 광고 수익을 배분하는 유튜브 파트너 프로그램도 중지될 수 있습니다.\n",
      "\n",
      "또한, YouTube는 신원 파악이 가능한 개인의 얼굴이나 음성을 모방한 AI 생성 콘텐츠에 대해 개인정보 침해 신고 절차를 마련하여 삭제 요청을 받을 계획입니다. 모든 콘텐츠가 삭제 대상은 아니며, 패러디나 풍자 여부, 특정인을 식별할 수 있는지 등의 요소를 고려할 예정입니다.\n",
      "\n",
      "이러한 조치는 특히 선거, 공중 보건, 공직자 관련 문제와 같은 민감한 주제를 다루는 콘텐츠에서 중요하다고 강조되고 있습니다.\u001b[0m\n",
      "\n",
      "\u001b[1m> Finished chain.\u001b[0m\n",
      "답변: YouTube는 2024년부터 생성 AI를 사용한 콘텐츠에 대해 AI 라벨 표시를 의무화할 예정입니다. 이 새로운 규칙은 2023년 11월 14일에 발표되었으며, AI 도구를 사용하여 사실적으로 변경되거나 합성된 콘텐츠에 적용됩니다. 만약 크리에이터가 AI로 제작한 콘텐츠에 AI 라벨을 표시하지 않으면 해당 콘텐츠는 삭제될 수 있으며, 광고 수익을 배분하는 유튜브 파트너 프로그램도 중지될 수 있습니다.\n",
      "\n",
      "또한, YouTube는 신원 파악이 가능한 개인의 얼굴이나 음성을 모방한 AI 생성 콘텐츠에 대해 개인정보 침해 신고 절차를 마련하여 삭제 요청을 받을 계획입니다. 모든 콘텐츠가 삭제 대상은 아니며, 패러디나 풍자 여부, 특정인을 식별할 수 있는지 등의 요소를 고려할 예정입니다.\n",
      "\n",
      "이러한 조치는 특히 선거, 공중 보건, 공직자 관련 문제와 같은 민감한 주제를 다루는 콘텐츠에서 중요하다고 강조되고 있습니다.\n"
     ]
    }
   ],
   "source": [
    "# 7. 질의응답 테스트\n",
    "response = agent_with_chat_history.invoke(\n",
    "    {\n",
    "        \"input\": \"YouTube 2024년부터 AI 생성콘텐츠 표시 의무화에 대한 내용을 PDF 문서에서 알려줘\"\n",
    "    },\n",
    "    # 세션 ID를 설정합니다.\n",
    "    # 여기서는 간단한 메모리 내 ChatMessageHistory를 사용하기 때문에 실제로 사용되지 않습니다\n",
    "    config={\"configurable\": {\"session_id\": \"MyTestSessionID\"}},\n",
    ")\n",
    "print(f\"답변: {response['output']}\")"
   ]
  },
  {
   "cell_type": "code",
   "execution_count": null,
   "metadata": {},
   "outputs": [],
   "source": []
  }
 ],
 "metadata": {
  "kernelspec": {
   "display_name": "langchain-kr-gLkynrUQ-py3.11",
   "language": "python",
   "name": "python3"
  },
  "language_info": {
   "codemirror_mode": {
    "name": "ipython",
    "version": 3
   },
   "file_extension": ".py",
   "mimetype": "text/x-python",
   "name": "python",
   "nbconvert_exporter": "python",
   "pygments_lexer": "ipython3",
   "version": "3.11.9"
  }
 },
 "nbformat": 4,
 "nbformat_minor": 2
}
