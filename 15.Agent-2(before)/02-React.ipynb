{
 "cells": [
  {
   "cell_type": "code",
   "execution_count": 1,
   "metadata": {},
   "outputs": [
    {
     "data": {
      "text/plain": [
       "True"
      ]
     },
     "execution_count": 1,
     "metadata": {},
     "output_type": "execute_result"
    }
   ],
   "source": [
    "from dotenv import load_dotenv\n",
    "load_dotenv()"
   ]
  },
  {
   "cell_type": "code",
   "execution_count": 2,
   "metadata": {},
   "outputs": [],
   "source": [
    "from langchain_community.tools import TavilySearchResults"
   ]
  },
  {
   "cell_type": "code",
   "execution_count": 3,
   "metadata": {},
   "outputs": [],
   "source": [
    "search = TavilySearchResults(k=5)"
   ]
  },
  {
   "cell_type": "code",
   "execution_count": 18,
   "metadata": {},
   "outputs": [
    {
     "data": {
      "text/plain": [
       "[{'url': 'https://dspace.kci.go.kr/handle/kci/354859',\n",
       "  'content': '코로나 19와 서울 소상공인 상권의 상관관계 분석. ... 코로나 19와 서울 소상공인 상권의 상관관계 분석 ... 소상공인들의 폐업을 막는 것은 힘들게 되었다. 2020년 9월 서울기준, 코로나19사태로 인해 점포2만곳 이상이 폐점되었고, 코로나19블루로 인해 우울증에 ...'},\n",
       " {'url': 'https://dspace.kci.go.kr/handle/kci/2124104',\n",
       "  'content': '서울 소매업 상권의 공간적 의존성 분석 : 코로나19 전후 변화를 중심으로 ... 상권 간 관계 및 관계 변화에 관한 분석은 알려진 바가 없다. 따라서 본 연구는 코로나19로 인한 서울지역소매업 상권에 대한 영향을 파악하는 데 있어 소매업 상권의 지리적 의존성과 ...'},\n",
       " {'url': 'https://scienceon.kisti.re.kr/srch/selectPORSrchArticle.do?cn=JAKO202111236685840',\n",
       "  'content': '코로나 19와 서울 소상공인 상권의 상관관계 분석 The Analysis of Correlation Between COVID-19 and Seoul Small Business Commercial Districts 원문보기 한국정보통신학회논문지 = Journal of the Korea Institute of Information and Communication Engineering , v.25 no.3 , 2021년, pp.384 - 388'},\n",
       " {'url': 'https://koreascience.or.kr/article/JAKO202409378810072.pdf',\n",
       "  'content': '업 상권이 코로나19에 어떤 영향을 받았는지 주목할 필요가 있다. 이에 본 연구는 서울지역 상권의 소매업을 대상으로 공간적 의존성을 파악하고 코로나19의 영향으로 상권 간 의존관계가 어떻게 변화하였는지 실증적으로 알아 보는 것을 연구의 목적으로 한다.'},\n",
       " {'url': 'https://www.dbpia.co.kr/pdf/pdfView.do?nodeId=NODE10542851',\n",
       "  'content': 'The Analysis of Correlation Between COVID-19 and Seoul Small Business Commercial Districts'}]"
      ]
     },
     "execution_count": 18,
     "metadata": {},
     "output_type": "execute_result"
    }
   ],
   "source": [
    "search.invoke(\"코로나 19와 서울 소상공인 상권의 상관관계 분석 논문에 대해서 알아봐줘\")"
   ]
  },
  {
   "cell_type": "code",
   "execution_count": 19,
   "metadata": {},
   "outputs": [
    {
     "data": {
      "text/plain": [
       "[{'url': 'https://s-space.snu.ac.kr/handle/10371/174347',\n",
       "  'content': '한국의 코로나19 대응 평가에 대한 비판적 검토: 이슈의 변화와 경험적 근거 분석을 중심으로 : A Critical Review of the Evaluation of the COVID-19 Response in South Korea: Issue Changes and Analysis of Empirical Evidence. 본 논문은 코로나 (COVID-19) 사태의 전개과정에서 등장했던 주요 이슈 ...'},\n",
       " {'url': 'https://scholar.kyobobook.co.kr/article/detail/4010047373140',\n",
       "  'content': \"'코로나바이러스 감염증(COVID-19)'의 팬데믹(pandemic) 경험 분석을 위한 이론적 시각 제안 의 이용 수, 등재여부, 발행기관, 저자, 초록, 목차, 참고문헌 등 논문에 관한 다양한 정보 및 관련논문 목록과 논문의 분야별 BEST, NEW 논문 목록을 확인 하실 수 있습니다.\"},\n",
       " {'url': 'https://www.snu.ac.kr/coronavirus/research?md=v&bbsidx=132743',\n",
       "  'content': '〈코로나19의 과학 - 전문가의 20가지 이야기〉출판 서울대학교 의과대학 코로나19 과학위원회가 2020년 6월부터 2021년 7월까지 발간한 20호의 뉴스레터를 엮어 〈코로나19의 과학 - 전문가의 20가지 이야기 (도서출판 새로운 사람들)〉을 출판하였다.'},\n",
       " {'url': 'https://scienceon.kisti.re.kr/srch/selectPORSrchArticle.do?cn=ART002699837',\n",
       "  'content': 'This article argues that social risk is important to facilitate large-scale collective action, which is the political foundation of voluntary civic compliance with government non-pharmaceutical interventions policy recommendation and ultimately successful COVID-19 pandemic policy optimization between health and the economy. It produces descriptive and statistical analyses across advanced ...'},\n",
       " {'url': 'https://www.nrc.re.kr/board.es?mid=a10301000000&bid=0008&act=view&list_no=0&otp_id=OTP_0000000000010162',\n",
       "  'content': '코로나19 장기화로 인해 새롭고 빠르게 변화하고 불확실성이 높은 사회‧경제적 문제가 발생하고 있다. 이에 따라 새로운 정부의 운영방식과 협력적 거버넌스(adaptive governance) 접근방식에 대해서 면밀하게 검토할 필요가 있다. 기존의 코로나19 관련 연구들이 ...'}]"
      ]
     },
     "execution_count": 19,
     "metadata": {},
     "output_type": "execute_result"
    }
   ],
   "source": [
    "search.invoke(\"김재호가 작성한 코로나 논문에 대해서 알아봐줘\")"
   ]
  },
  {
   "cell_type": "code",
   "execution_count": 20,
   "metadata": {},
   "outputs": [],
   "source": [
    "from langchain_openai import ChatOpenAI\n",
    "llm = ChatOpenAI(model=\"gpt-4o-mini\", temperature=0)"
   ]
  },
  {
   "cell_type": "code",
   "execution_count": 23,
   "metadata": {},
   "outputs": [
    {
     "name": "stdout",
     "output_type": "stream",
     "text": [
      "================================\u001b[1m System Message \u001b[0m================================\n",
      "\n",
      "You are a helpful assistant\n",
      "\n",
      "=============================\u001b[1m Messages Placeholder \u001b[0m=============================\n",
      "\n",
      "\u001b[33;1m\u001b[1;3m{chat_history}\u001b[0m\n",
      "\n",
      "================================\u001b[1m Human Message \u001b[0m=================================\n",
      "\n",
      "\u001b[33;1m\u001b[1;3m{input}\u001b[0m\n",
      "\n",
      "=============================\u001b[1m Messages Placeholder \u001b[0m=============================\n",
      "\n",
      "\u001b[33;1m\u001b[1;3m{agent_scratchpad}\u001b[0m\n"
     ]
    }
   ],
   "source": [
    "from langchain import hub\n",
    "prompt = hub.pull(\"hwchase17/openai-functions-agent\")\n",
    "prompt.pretty_print()"
   ]
  },
  {
   "cell_type": "code",
   "execution_count": 24,
   "metadata": {},
   "outputs": [],
   "source": [
    "from langchain.agents import create_openai_functions_agent, tool\n",
    "\n",
    "agent_tools = [search]\n",
    "agent = create_openai_functions_agent(llm, agent_tools, prompt)"
   ]
  },
  {
   "cell_type": "code",
   "execution_count": 29,
   "metadata": {},
   "outputs": [],
   "source": [
    "from langchain.agents import AgentExecutor\n",
    "agent_executor = AgentExecutor(agent=agent, tools=agent_tools, verbose=True)"
   ]
  },
  {
   "cell_type": "code",
   "execution_count": 30,
   "metadata": {},
   "outputs": [
    {
     "name": "stdout",
     "output_type": "stream",
     "text": [
      "\n",
      "\n",
      "\u001b[1m> Entering new AgentExecutor chain...\u001b[0m\n",
      "\u001b[32;1m\u001b[1;3m안녕하세요, 재호님! 어떻게 도와드릴까요?\u001b[0m\n",
      "\n",
      "\u001b[1m> Finished chain.\u001b[0m\n"
     ]
    },
    {
     "data": {
      "text/plain": [
       "{'input': '안녕 난 재호야!', 'output': '안녕하세요, 재호님! 어떻게 도와드릴까요?'}"
      ]
     },
     "execution_count": 30,
     "metadata": {},
     "output_type": "execute_result"
    }
   ],
   "source": [
    "agent_executor.invoke({\"input\": \"안녕 난 재호야!\"})"
   ]
  },
  {
   "cell_type": "code",
   "execution_count": 31,
   "metadata": {},
   "outputs": [
    {
     "name": "stdout",
     "output_type": "stream",
     "text": [
      "\n",
      "\n",
      "\u001b[1m> Entering new AgentExecutor chain...\u001b[0m\n",
      "\u001b[32;1m\u001b[1;3m\n",
      "Invoking: `tavily_search_results_json` with `{'query': '테디노트 teddylee777 github'}`\n",
      "\n",
      "\n",
      "\u001b[0m\u001b[36;1m\u001b[1;3m[{'url': 'https://gist.github.com/teddylee777', 'content': \"GitHub Gist: star and fork teddylee777's gists by creating an account on GitHub. GitHub Gist: star and fork teddylee777's gists by creating an account on GitHub. ... YouTube '테디노트' Creator. Specializing in LLM applications, RAG, and LangChain Passionate about ML, DL, lecturing, and knowledge sharing. ...\"}, {'url': 'https://github.com/teddylee777/langchain-kr', 'content': 'teddylee777/langchain-kr\\nFolders and files\\nLatest commit\\nHistory\\n01-Basic\\n01-Basic\\n02-Prompt\\n02-Prompt\\n03-OutputParser\\n03-OutputParser\\n04-Model\\n04-Model\\n05-Memory\\n05-Memory\\n06-Chains\\n06-Chains\\n07-RAG\\n07-RAG\\n08-Agent\\n08-Agent\\n09-FastAPI\\n09-FastAPI\\n12-Use-Cases\\n12-Use-Cases\\n99-Projects\\n99-Projects\\nprompts\\nprompts\\n.env_sample\\n.env_sample\\n.gitignore\\n.gitignore\\nREADME.md\\nREADME.md\\nRepository files navigation\\n📘 LangChain 한국어 튜토리얼\\n🌟 LangChain 공식 Document, Cookbook, 그 밖의 실용 예제를 바탕으로 작성한 한국어 튜토리얼입니다.\\n Topics\\nResources\\nStars\\nWatchers\\nForks\\nReleases\\nPackages\\n0\\nLanguages\\nFooter\\nFooter navigation 🍿 유튜브\\n✏️ 블로그 글 목록\\nGeneral\\nOpenAI Python API\\nLangChain\\nLangGraph\\n👥 LangChain 밋업 2024 Q1 발표자료\\n📜 라이선스\\n본 프로젝트는 Apache License 2.0에 따라 라이선스가 부여됩니다.\\n 📚 출처\\n🌐 추가 자료\\n🚀 시작하기\\n본 튜토리얼을 시작하기 전에, LangChain과 관련된 기본적인 지식을 갖추는 것이 좋습니다. Saved searches\\nUse saved searches to filter your results more quickly\\nTo see all available qualifiers, see our documentation.\\n'}, {'url': 'https://teddylee777.github.io/lectures/', 'content': '텐서플로 개발자 자격증 취득\\n🙏 아래의 내용을 참고해 주세요 🙏\\n📌 VOD 강의 링크\\n💻 한 방으로 끝내는 판다스(Pandas) 데이터 분석 - 전자책 포함\\n🙏 아래의 내용을 참고해 주세요 🙏\\n📌 VOD 강의 링크\\n🌱 한 권으로 끝내는 파이썬(Python) 코딩 입문 - 전자책 포함\\n🙏 아래의 내용을 참고해 주세요 🙏\\n📌 VOD 강의 링크\\n🌱 깃헙 블로그(Github blog)로 차별화 된 나만의 홈페이지 만들기!\\n 🔥알림🔥\\n① 테디노트 유튜브 -\\n구경하러 가기!\\n② 서울대 X 테디노트 ChatGPT & PyTorch 강의\\n강의 커리큘럼 👀\\n강의\\n아래에 나열된 강의는 모두 제가 직접 촬영 및 진행한 내 새끼같은 강의들입니다.\\n 주제별로 강의 영상을 시리즈로 모아 놓았어요😊\\n구독, 좋아요👍 그리고 댓글 감사합니다🥰\\n📌 지금 당장 유튜브 보러가기\\n✏️ 머신러닝 스터디 혼자 해보기\\n깃헙(GitHub)에 혼자서 데이터 분석, 머신러닝, 딥러닝을 스터디 할 수 있도록 주제별로 정리해 놓았어요✌️\\n저도 혼자서 공부를 했었는데, 이해가 쏙쏙 되는 강의와 블로그 주소들을 메모해 두었다가 정리해 본 내용이에요.\\n 강의 링크\\n🌱 스트림릿(Streamlit)을 활용한 파이썬 웹앱 제작하기\\n🙏 아래의 내용을 참고해 주세요 🙏\\n스트림릿(streamlit)을 활용하여 파이썬 웹앱 대시보드를 구현해보고 싶으신 분들께 추천 드립니다🤩\\n데이터 분석/대시보드 제작 그리고 머신러닝 모델을 배포해서 서비스화 시키는 과정입니다😊\\n파이썬 기본 문법만 알고 계신다면 부담 없이 도전해 만들어 보고 싶으신 분들께 추천 드립니다🤩\\n코딩은 거의 없기 때문에 코린이도 문제 없어요😊\\n테디노트와 같은 블로그를 만들어 보고 싶으시다면 지금 바로 도전해 보세요 🥰\\n📌 VOD'}, {'url': 'https://teddylee777.github.io/about/', 'content': '코드스테이츠 X 테디노트 - 깃헙 블로그 제작하기 강의. DB FIS - 2023 데이터 분석가 과정 강의. SK그룹 - 2023년 상반기 텐서플로우 딥러닝 과정 강의. S-Oil - 파이썬 데이터 분석, 머신러닝 과정 강의. GS칼텍스 - CDS 파이썬 데이터 분석, 머신러닝, 딥러닝(PyTorch) 과정 강의.'}, {'url': 'https://github.com/teddylee777/teddylee777', 'content': '️ 코드스테이츠 X 테디노트 - 깃헙 블로그 제작하기 강의. ️ SK그룹 - 2023년 상반기 텐서플로우 딥러닝 과정 강의. ️ S-Oil - 파이썬 데이터 분석, 머신러닝 과정 강의. ️ GS칼텍스 - 2023년 상반기 CDS 파이썬 데이터 분석, 머신러닝, 딥러닝(PyTorch) 과정 강의.'}]\u001b[0m\u001b[32;1m\u001b[1;3m테디노트(teddylee777)의 GitHub 주소는 다음과 같습니다:\n",
      "\n",
      "- [teddylee777 GitHub](https://github.com/teddylee777)\n",
      "- [teddylee777 Gist](https://gist.github.com/teddylee777)\n",
      "- [LangChain 한국어 튜토리얼](https://github.com/teddylee777/langchain-kr)\n",
      "\n",
      "이 링크들을 통해 테디노트의 다양한 프로젝트와 자료를 확인할 수 있습니다.\u001b[0m\n",
      "\n",
      "\u001b[1m> Finished chain.\u001b[0m\n"
     ]
    }
   ],
   "source": [
    "result = agent_executor.invoke(\n",
    "    {\"input\": \"테디노트(teddylee777)의 github 주소를 알려줘\"}\n",
    ")"
   ]
  },
  {
   "cell_type": "code",
   "execution_count": 32,
   "metadata": {},
   "outputs": [
    {
     "name": "stdout",
     "output_type": "stream",
     "text": [
      "\n",
      "\n",
      "\u001b[1m> Entering new AgentExecutor chain...\u001b[0m\n",
      "\u001b[32;1m\u001b[1;3m\n",
      "Invoking: `tavily_search_results_json` with `{'query': '수원대학교 주소'}`\n",
      "\n",
      "\n",
      "\u001b[0m\u001b[36;1m\u001b[1;3m[{'url': 'https://www.addcampus.com/campus/detail/c137', 'content': '주소. 경기도 화성시 봉담읍 와우안길 17. 학생수. 11101. 교원. 47.5. 학교규모. 10개 대학. 개교일. 1977. 교통정보. 인근 버스정류장(수원대학교 역)(도보 5분)'}, {'url': 'https://en.wikipedia.org/wiki/University_of_Suwon', 'content': '수원 대학교 [1] Established: 1977 [2] President: Lee In-soo [3] Academic staff. 938 [4] Students: 12,415 [4] (2013) Undergraduates: 11,437 [4] (2013) Postgraduates: 978 [4] (2013) Address: 경기도 화성시 봉담읍 와우리 산2-2 (San 2-2, Wau-ri, Bongdam-eup, Hwaseong, Gyeonggi Province, South Korea)'}, {'url': 'http://en.suwon.ac.kr/', 'content': '수원대학교 음악테크놀로지대학,... view. 수원대학교 학생생활상담연구소,... view. 수원대학교 일어일문학 전공 3학... MORE CLOSE.'}, {'url': 'https://namu.wiki/w/수원대학교/캠퍼스', 'content': '건축면적으로 수원대학교 최대 규모의 건물이다. 공과대학 일부 학과가 2017년 이곳으로 이전할 예정이다. 현재 간호학과만이 사용 중이다. 최근 미래혁신관 내에 cu가 입점하였다. ... 구 주소체계상 번지가 산 2-2인 관계로(산을 깎아 만든 관계로) 언덕이 ...'}, {'url': 'https://www.suwon.ac.kr/index.html?menuno=593', 'content': '수원대학교 > 메인페이지 수원대학교 발전기금 입학/교육 입학/교육 입학 화성시 육아종합지원센터 외국인 유학생 학사 안내 수원대학교 학보 국내외 대학 소식 사용자별 주요서비스 바로가기 포털 바로가기 코로나 자가진단 바로가기 2023년~2027년 예비창업패키지 초기창업패키지 사업 운영\\xa0 2022~2026년 메이커스페이스 전문랩(WoW! 수원대 WoW!메이커스, ‘2023년 메이커스페이스 전문랩 구축·운영사업’ 연차평가서 최우수등급(S등급) 획득\\xa0 2024~2025년 로컬콘텐츠 중점대학 사업 운영\\xa0 view  수원대학교 연기예술 전공 동문 ... view  수원대학교 제24회 전국 학생 미... view  수원대학교 출신 국제 무대서 잇... view  수원대학교 양홍위 교수, 2024 ... view  USW NEWS LETTER 2024.09호 view  수원대학교 음악테크놀로지대학,... [언론보도] 수원대학교 성악과 졸업생 소... [언론보도] 수원대학교 데이터과학부, SC... 수원대학교 데이터과학부, SCI급 국제학술지에 논문 등재 수원대 데이터과학부, SCI급 국제학술지에 ... [언론보도] 수원대학교, 국악인 남상일 ... 수원대학교, 국악인 남상일 특임교수 임명 수원대, 국악인 남상일 특임교수 임명 이뉴스투데이 김... 수원대학교 공지사항'}]\u001b[0m\u001b[32;1m\u001b[1;3m수원대학교의 주소는 다음과 같습니다:\n",
      "\n",
      "- **경기도 화성시 봉담읍 와우리 산2-2** (San 2-2, Wau-ri, Bongdam-eup, Hwaseong, Gyeonggi Province, South Korea)\n",
      "\n",
      "추가 정보는 [수원대학교 공식 웹사이트](http://en.suwon.ac.kr/)에서 확인하실 수 있습니다.\u001b[0m\n",
      "\n",
      "\u001b[1m> Finished chain.\u001b[0m\n"
     ]
    }
   ],
   "source": [
    "result = agent_executor.invoke(\n",
    "    {\"input\": \"수원대학교 주소 알려줘\"}\n",
    ")"
   ]
  },
  {
   "cell_type": "code",
   "execution_count": 34,
   "metadata": {},
   "outputs": [
    {
     "name": "stdout",
     "output_type": "stream",
     "text": [
      "\n",
      "\n",
      "\u001b[1m> Entering new AgentExecutor chain...\u001b[0m\n",
      "\u001b[32;1m\u001b[1;3m\n",
      "Invoking: `tavily_search_results_json` with `{'query': '수원대학교 도로명 주소'}`\n",
      "\n",
      "\n",
      "\u001b[0m\u001b[36;1m\u001b[1;3m[{'url': 'https://www.jusoen.com/addreng.asp?p1=수원대학교', 'content': '영문주소. 우편번호. 도로명. 경기도 화성시 봉담읍 와우안길 17 (봉담읍, 수원대학교) 17, Wauan-gil, Bongdam-eup, Hwaseong-si, Gyeonggi-do, Republic of Korea. 18323. 도로명. 경기도 화성시 봉담읍 왕림1길 69 (봉담읍, 수원가톨릭대학교) 69, Wangnim 1-gil, Bongdam-eup, Hwaseong-si, Gyeonggi-do ...'}, {'url': 'https://www.jusoen.com/addreng.asp?p1=성균관대학교', 'content': '영문주소. 우편번호. 도로명. 경기도 수원시 장안구 서부로 2066 (천천동, 성균관대학교) 2066, Seobu-ro, Jangan-gu, Suwon-si, Gyeonggi-do, Republic of Korea. 16419. 도로명. 서울특별시 종로구 성균관로 25-2 (명륜3가, 성균관대학교) 25-2, Seonggyungwan-ro, Jongno-gu, Seoul, Republic of Korea.'}, {'url': 'https://www.juso.go.kr/openIndexPage.do', 'content': \"주소정보 누리집을 이용해 주셔서 감사합니다. 수상시설물에 대한 주소 부여와 관련하여. 도로명주소 표기 및 유통에 대한 서비스 변경 내용을 안내하오니, 자세한 사항은 아래의 '변경사항 상세보기'를 참고하시기 바랍니다. 변경일자 2024년 9월 30일 (월) 변경 ...\"}, {'url': 'https://namu.wiki/w/수원대학교', 'content': '수원대학교의 전신은 학교법인 고운학원(皐雲學園)의 초대 이사장 이종욱(李鍾郁) 박사가 1982년 3월 개교한 수원대학이다. 1982년 11월 종합대학교로 승격인가를 받고 학교명을 변경했다. [7] 1977년 학교법인 고운학원의 설립인가를 받았다. 1983년 5월 인문대학 건물에 이어 이듬해 11월 공과대학 건물을 ...'}, {'url': 'https://www.gov.kr/main?a=AA040RoadSearchFindZipCd2App', 'content': '주소검색. 도로명 또는 지번 주소 (법정동)를 검색해 주세요. 도로명은 붙여 쓰고, 도로명과 건물번호 사이는 띄어씀. ※ 2014.1.1.부터 원칙적으로 도로명주소를 표시하거나 사용해야 함. 다만, 도로명주소가 없는 경우 지번 주소를 사용할 수 있음.'}]\u001b[0m\u001b[32;1m\u001b[1;3m수원대학교의 도로명 주소는 다음과 같습니다:\n",
      "\n",
      "**경기도 화성시 봉담읍 와우안길 17**  \n",
      "(영문 주소: 17, Wauan-gil, Bongdam-eup, Hwaseong-si, Gyeonggi-do, Republic of Korea)  \n",
      "우편번호: 18323\n",
      "\n",
      "더 자세한 정보는 [여기](https://www.jusoen.com/addreng.asp?p1=수원대학교)에서 확인하실 수 있습니다.\u001b[0m\n",
      "\n",
      "\u001b[1m> Finished chain.\u001b[0m\n"
     ]
    }
   ],
   "source": [
    "result = agent_executor.invoke(\n",
    "    {\"input\": \"수원대학교 도로명 주소 알려줘\"}\n",
    ")"
   ]
  },
  {
   "cell_type": "code",
   "execution_count": 35,
   "metadata": {},
   "outputs": [
    {
     "data": {
      "text/plain": [
       "'수원대학교의 도로명 주소는 다음과 같습니다:\\n\\n**경기도 화성시 봉담읍 와우안길 17**  \\n(영문 주소: 17, Wauan-gil, Bongdam-eup, Hwaseong-si, Gyeonggi-do, Republic of Korea)  \\n우편번호: 18323\\n\\n더 자세한 정보는 [여기](https://www.jusoen.com/addreng.asp?p1=수원대학교)에서 확인하실 수 있습니다.'"
      ]
     },
     "execution_count": 35,
     "metadata": {},
     "output_type": "execute_result"
    }
   ],
   "source": [
    "result[\"output\"]"
   ]
  },
  {
   "cell_type": "code",
   "execution_count": null,
   "metadata": {},
   "outputs": [],
   "source": []
  }
 ],
 "metadata": {
  "kernelspec": {
   "display_name": "langchain-kr-gLkynrUQ-py3.11",
   "language": "python",
   "name": "python3"
  },
  "language_info": {
   "codemirror_mode": {
    "name": "ipython",
    "version": 3
   },
   "file_extension": ".py",
   "mimetype": "text/x-python",
   "name": "python",
   "nbconvert_exporter": "python",
   "pygments_lexer": "ipython3",
   "version": "3.11.9"
  }
 },
 "nbformat": 4,
 "nbformat_minor": 2
}
