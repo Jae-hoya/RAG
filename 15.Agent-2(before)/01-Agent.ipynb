{
 "cells": [
  {
   "cell_type": "markdown",
   "metadata": {
    "vscode": {
     "languageId": "plaintext"
    }
   },
   "source": [
    "# Agent\n",
    "에이전트 프레임워크를 가장 잘 이해하기 위해서, 온라인에서 정보를 찾는 도구 하나와 우리가 인덱스로 로드한 특정 데이터를 찾는 도구 하나를 가진 에이전트를 만들어 보겠습니다.\n",
    "\n",
    "### 단계별 추적을 위한 LangSmith 설정\n",
    "LangChain으로 구축한 애플리케이션은 여러 단계에 걸쳐 LLM 호출을 여러 번 사용하게 됩니다.\n",
    "\n",
    "단계별로 호출되는 로직이 더 복잡해짐에 따라, 체인이나 에이전트 내부에서 정확히 무슨 일이 일어나고 있는지 조사할 수 있는 능력이 매우 중요해집니다. 이를 위한 최선의 방법은 LangSmith를 사용하는 것입니다.\n",
    "\n",
    "LangSmith가 필수는 아니지만, 매우 유용한 도구입니다. LangSmith를 사용하고 싶다면, 위의 링크에서 가입한 후, 로깅 추적을 시작하기 위해 환경 변수를 설정해야 합니다.\n",
    "\n",
    "### 도구(Tools)\n",
    "Agent 가 활용할 도구를 정의하여 Agent 가 추론(reasoning)을 수행할 때 활용하도록 만들 수 있습니다.\n",
    "\n",
    "Tavily Search 는 그 중 대표적인 검색 도구 입니다. 검색을 통해 최신 정보에 접근하여 검색 결과를 가지고 답변을 생성할 수 있습니다. 도구는 이처럼 검색 도구 뿐만아니라 Python 코드를 실행할 수 있는 도구, 직접 정의한 함수를 실행하는 도구 등 다양한 종류와 방법론을 제공합니다.\n",
    "\n",
    "### 검색도구: Tavily Search\n",
    "LangChain에는 Tavily 검색 엔진을 도구로 쉽게 사용할 수 있는 내장 도구가 있습니다.\n",
    "\n",
    "Tavily Search 를 사용하기 위해서는 API KEY를 발급 받아야 합니다."
   ]
  },
  {
   "cell_type": "code",
   "execution_count": 1,
   "metadata": {},
   "outputs": [],
   "source": [
    "import os\n",
    "\n",
    "# TAVILY API KEY를 기입합니다.\n",
    "# os.environ[\"TAVILY_API_KEY\"] = \"TAVILY API KEY 입력\"\n",
    "\n",
    "# 디버깅을 위한 프로젝트명을 기입합니다.\n",
    "os.environ[\"LANGCHAIN_PROJECT\"] = \"AGENT TUTORIAL\""
   ]
  },
  {
   "cell_type": "code",
   "execution_count": 2,
   "metadata": {},
   "outputs": [
    {
     "data": {
      "text/plain": [
       "True"
      ]
     },
     "execution_count": 2,
     "metadata": {},
     "output_type": "execute_result"
    }
   ],
   "source": [
    "from dotenv import load_dotenv\n",
    "load_dotenv()"
   ]
  },
  {
   "cell_type": "code",
   "execution_count": 3,
   "metadata": {},
   "outputs": [],
   "source": [
    "from langchain_community.tools.tavily_search import TavilySearchResults\n",
    "\n",
    "# k=5개의 결과물을 가져오겠다는 뜻.\n",
    "search = TavilySearchResults(k=5)"
   ]
  },
  {
   "cell_type": "code",
   "execution_count": 4,
   "metadata": {},
   "outputs": [
    {
     "data": {
      "text/plain": [
       "[{'url': 'https://blog.naver.com/PostView.naver?blogId=amour1115&logNo=223386213560',\n",
       "  'content': '카카오 프렌즈 판교 아지트점. . 연중무휴 12:00-21:00. 토, 일 12:00-20:00. . 경기 성남시 분당구 판교역로 166. 카카오 판교 아지트 1층 카카오 프렌즈. 031-301-7225. 존재하지 않는 이미지입니다.'},\n",
       " {'url': 'https://kr.trip.com/moments/detail/seongnam-121856-121058702/',\n",
       "  'content': '사진찍으면서 실내데이트 즐기고 싶다면 주목📢 판교역에서 꼭 가봐야할 아기자기 귀여운 핫플레이스 카카오 프렌즈 캐릭터들의 포토존이 가득한 대형 카카오 프렌즈를 판교점은 정말 특별해요! 📍카카오프렌즈 판교 아지트점 ️경기도 성남시 분당구 판교역로 166 카카오판교아지트 다른 카카오 ...'},\n",
       " {'url': 'https://m.blog.naver.com/kimsso333/223186761448',\n",
       "  'content': '\\u200b\\n\\u200b\\n\\u200b\\n\\u200b\\n선물 후보로 끝까지 고민했던\\n춘식이 얼음틀 ㅋㅋㅋ\\n\\u200b\\n\\u200b\\n\\u200b\\n\\u200b\\n카카오프렌즈 판교점\\n한쪽에는 콜프용품들도\\n한가득 준비되어 있었고용\\n\\u200b\\n\\u200b\\n\\u200b\\n\\u200b\\n카카오톡에 이모티콘 친구들도\\nMD로 있어서 귀엽더라고요!\\n\\u200b\\n\\u200b\\n\\u200b\\n\\u200b\\n귀여운 루피와\\n일본에서 온 빤쮸토끼도\\n매장 한켠에 있었어요 ㅎㅎㅎ\\n\\u200b\\n\\u200b\\n\\u200b\\n\\u200b\\n보드게임도 있규여\\n\\u200b\\n\\u200b\\n\\u200b\\n\\u200b\\n피규어와 비타민까지 -\\n\\u200b\\n맘만먹으면\\n카카오로 집꾸미기 가~넝~\\n\\u200b\\n\\u200b\\n\\u200b\\n\\u200b\\n최고심X춘식이 쏘큐트\\n\\u200b\\n\\u200b\\n\\u200b\\n\\u200b\\n직장인 조르디 💚\\n컴퓨터 비싼거 쓰네 ~\\n\\u200b\\n\\u200b\\n\\u200b\\n\\u200b\\n이 친구들이 제가 최종적으로 픽한\\n친구에게 줄 선물 ㅋㅋㅋㅋ\\n\\u200b\\n최고심x춘식이 8. 18. 9:56\\n\\u200b\\n\\u200b\\n오늘은 퇴근길에 친구 선물사러들린\\n판교 카카오프렌즈샵을 소개해드려요!\\n\\u200b\\n\\u200b\\n\\u200b\\n판교 카카오프렌즈샵은 판교역이랑 딱붙어있어서\\n퇴근할때마다 한번가봐야지…가 1년이 넘었고\\nㅋㅋㅋㅋㅋㅋㅋㅋㅋㅋㅋㅋㅋㅋㅋㅋ\\n\\u200b\\n그러다가 친구가 곧 생일인데\\n받고싶단 선물이 소박하여 춘식이러버를 위해\\n추가선물을 구입하고자 퇴근길에 다녀왓어요 😎\\n\\u200b\\n\\u200b\\n경기도 성남시 분당구 판교역로 166 카카오판교아지트 1층 카카오프렌즈\\n\\u200b\\n<카카오프렌즈 판교아지트점>\\n\\u200b\\n📍위치 : 카카오판교 아지트 1층\\n⏰ 영업시간 : 10:00 ~ 21:00\\n\\u200b\\n\\u200b\\n\\u200b\\n\\u200b\\n다양한 세일전이 진행중이었는데\\n내가 사고싶은건 세일 안하쥬 🥲..ㅋㅋㅋ\\n\\u200b\\n\\u200b\\n\\u200b\\n\\u200b\\n대형쿠션과 인형, 발매트, 목베게에\\n \\u200b\\n\\u200b\\n\\u200b\\n\\u200b\\n라이딩하는 춘식이와 라이언 쏘큐트 - 💛\\n\\u200b\\n\\u200b\\n\\u200b\\n\\u200b\\n요즘 넷플릭스가\\n여기저기랑 엄청 콜라보하던데\\n카카오프렌즈도 참지못하고\\nDP로 MD를 출시했더라고요\\n\\u200b\\n\\u200b\\n\\u200b\\n\\u200b\\n그리고 국민티셔츠\\n마리떼 프랑소와 저버와 콜라보한\\n귀여운 인형과 키링들까지\\n\\u200b\\n\\u200b\\n\\u200b\\n\\u200b\\n카카오프렌즈 판교점의\\n귀여운 춘식이 모먼트 - 💛\\nㅋㅋㅋㅋㅋㅋㅋㅋㅋㅋㅋㅋㅋㅋ\\n\\u200b\\n\\u200b\\n\\u200b\\n\\u200b\\n여기 춘식존 귀여운게 많더라고요!\\n 지킴이펜이 될 것 같아\\n제 것도 살까 고민했어요\\nㅋㅋㅋㅋㅋㅋㅋㅋㅋㅋㅋㅋㅋㅋㅋ\\n\\u200b\\n\\u200b\\n\\u200b\\n오늘 포스팅이 도움되셨다면\\n공감(❤️)과 팬추가(🙂) 부탁드려요\\n\\u200b\\n\\u200b\\n\\u200b\\n여행의 즐거움과\\n쇼핑의 재미를 공유해요♥\\n- 주활동지역 광교/판교\\n- 3월 푸꾸옥 여행예정\\n수요일에는 쇼핑 콘텐츠\\n금요일에는 여행 콘텐츠\\n* 협업문의\\nkimsso333@naver.com\\nSince 2012\\n이 블로그\\n[블챌] 체크인 챌린지\\n카테고리 글\\n카테고리\\n이 블로그\\n[블챌] 체크인 챌린지\\n카테고리 글 배낭도 있공\\n\\u200b\\n\\u200b\\n\\u200b\\n\\u200b\\n매장 전반적인 느낌은 이렇게 깔-끔-\\n\\u200b\\n\\u200b\\n\\u200b\\n\\u200b\\n여름을 맞이한 컵과 인형들 ❤️\\n라이언 얼음과 아이스크림틀과\\n\\u200b\\n\\u200b\\n\\u200b\\n\\u200b\\n쏘큐트한 춘식이 포토존!\\n'},\n",
       " {'url': 'https://blog.naver.com/PostView.naver?blogId=0_0hy&logNo=222982732699',\n",
       "  'content': '새해 목표 예쁜 쓰레기 구매하지 않기 잘 실천중\\n춘식이가 쓰레기라는건 아니지만^__ㅠ\\n\\u200b\\n바라만봐도 행복해진다\\n\\u200b\\n애견용품까지 춘식이 버전ㅋㅋㅋㅋㅋㅋㅋㅋ\\n\\u200b\\n♥ ♥ ♥\\n\\u200b\\n\\u200b\\n\\u200b\\n\\u200b\\n2m 대왕 춘식이랑 ~~♥\\n\\u200b\\n진짜 사려다가 참았다 .\\n \\u200b\\n\\u200b\\n춘식이 랜덤 피규어 ♥\\n카카오프렌즈 최애 캐릭터가 춘식이라 보자마자 구매해야 겠다고 생각했다\\n\\u200b\\n\\u200b\\n젤 갖고싶었던 만년달력.. 가격은 사악 그잡채\\n\\u200b\\n춘식이 x 최고심 콜라보 *__*\\n\\u200b\\n\\u200b\\n두번째로 좋아하는 죠르디\\n앉은모습 졸귀야 ..\\n 갖고 싶단 말이지\\n\\u200b\\n\\u200b\\n에어팟 꽂은 라이언ㅋㅋㅋㅋㅋㅋㅋㅋㅋㅋㅋㅋㅋ\\n\\u200b\\n\\u200b\\n춘식러버는 춘식이 천국이라 행복\\n\\u200b\\n\\u200b\\n\\u200b\\n랜드마크 브릭피규어\\n우리나라 랜드마크도 출시 예정이라고 하던데 언제 나오는지..?\\n \\u200b\\n\\u200b\\n\\u200b\\n\\u200b\\n카카오프렌즈 판교아지트점\\n경기 성남시 분당구 판교역로 166 카카오판교아지트 1층 카카오프렌즈\\n평일 10:00 - 21:00, 토일 12:00 - 20:00\\n031-601-7225\\n판교 카카오 본사 건물 1층에 있음 !\\n \\u200b\\n\\u200b\\n\\u200b\\n\\u200b\\n\\u200b\\n\\u200b\\n\\u200b\\n앙꼬 / 루피 / 무직타이거 까지 !!\\n'},\n",
       " {'url': 'https://m.blog.naver.com/celina_827/222924602339',\n",
       "  'content': '너무 귀여운 카카오 속 세상이예요ㅠㅠ\\n\\u200b\\n경기도 성남시 분당구 판교역로 166\\n💬카카오프렌즈샵 아지트점은\\n판교역 1번 출구, 4번 출구를 이용하셔도 되고,\\n지하통로로도 연결되어있으니 참고 하세요!\\n\\u200b\\n💬영업시간\\n월 -금 10 : 00 ~ 21 : 00\\n토 - 일 12 : 00 ~ 20 : 00\\n\\u200b\\n\\u200b\\n소소한 episode가 있는 일상, 정보, 맛집을 포스팅하는 셀리나 입니다 ( ੭ ･ᴗ･ )੭\\n이 블로그\\nPANGYO LIFE\\n카테고리 글\\n카테고리\\n이 블로그\\nPANGYO LIFE\\n카테고리 글 \\u200b\\n근데 저 손잡은 춘식이 너무 귀여운거 아니냐구요 ㅠㅠ\\n크리스마스 맞이 산타 라이언🎄\\n폭신한 라이언 바디 필로우 사고싶지만\\n99.000원💸\\n핳 너무 비싸당 ㅎㅎㅎㅎ\\n아이패드파우치, 폰 거치대, 에어팟케이스 많지만\\n전...ㅎ 마우스 패드 살까 말까 고민 엄청했어요\\n\\u200b\\n근데 과연 사이즈가 괜찮을까 싶고...\\n근데 너무 귀엽다...\\n(ﾉ◕ヮ◕)ﾉ\\n\\u200b\\n그리고 카카오 프렌즈샵에\\n차량 아이템이 생각보다 많아서 놀랬어요!\\n피규어가 들어가있어서 그런지\\n주차번호판도 비싸다 ㅎㅎㅎ\\n차량 내부 송풍다는 송풍구 방향제!!\\n \\u200b\\n이걸 대체 어디다 써?싶었지만\\n요즘 정말 젊은 사람들도 골프를 많이 치니까\\n채를 보호하는 커버나 보호대같은걸 귀여운 캐릭터로\\n사는 사람이 있겠구나 싶더라구요🫣\\n골프용품이 있는곳에 있는 이 인형들은\\n도대체 어디다 쓰는거지 싶었는데\\n\\u200b\\n요렇게 쓰더라구요 ᕙ༼◕ ᴥ ◕༽ᕗ\\n👇🏻👇🏻\\n아니 이러면 커버 뚜껑은 어케 잠그지....?\\n 🔖혀땳은앙꼬\\n\\u200b\\n앙꼬 이모티콘을 너무 좋아해서 사서 쓰곤 했는데\\n이렇게 캐릭터 굿즈가 나오다니\\n너무 반갑더라구요 😍😍\\n스티커는 진작 품절이더라구요◡̈\\n역시 앙꼬는 귀여운 아이였어 ∑ദ്ദി˙◡･)\\n\\u200b\\n🔖인스타에서 핫하다는 목욕하는 춘식이◡̈\\n지금 카카오 프랜즈들의 대세는 춘식이인가봐요.\\n 🔖소주디스펜서죠르디 39,000원\\n🔖전동와인오프너치얼스라이언\\n23,000원\\n🔖라이언크리미맥주거품기 29,000원\\n🔖턴테이블 스피커\\n55,000원\\n여긴 스텐드들의 집합?💡\\n캬아 춘식이 피큐어예요!!!\\n'}]"
      ]
     },
     "execution_count": 4,
     "metadata": {},
     "output_type": "execute_result"
    }
   ],
   "source": [
    "search.invoke(\"판교 카카오 프렌즈샵 아지트점의 전화번호는 무엇인가요?\")"
   ]
  },
  {
   "cell_type": "markdown",
   "metadata": {},
   "source": [
    "### PDF 기반 문서 검색 도구: Retriever\n",
    "우리의 데이터에 대해 조회를 수행할 retriever도 생성합니다.\n",
    "\n",
    "이 코드는 웹 기반 문서 로더, 문서 분할기, 벡터 저장소, 그리고 OpenAI 임베딩을 사용하여 문서 검색 시스템을 구축합니다.\n",
    "\n",
    "여기서는 PDF 문서를 FAISS DB 에 저장하고 조회하는 retriever 를 생성합니다"
   ]
  },
  {
   "cell_type": "code",
   "execution_count": 5,
   "metadata": {},
   "outputs": [],
   "source": [
    "from langchain_community.document_loaders import PyPDFLoader\n",
    "from langchain_text_splitters import RecursiveCharacterTextSplitter\n",
    "from langchain_community.vectorstores import FAISS\n",
    "from langchain_openai import OpenAIEmbeddings\n",
    "\n",
    "loader = PyPDFLoader(\"data/SPRI_AI_Brief_2023년12월호_F.pdf\")\n",
    "docs = loader.load()\n",
    "\n",
    "text_splitter = RecursiveCharacterTextSplitter(chunk_size=1000, chunk_overlap=50)\n",
    "documents = text_splitter.split_documents(docs)\n",
    "\n",
    "embeddings = OpenAIEmbeddings(model=\"text-embedding-3-small\")\n",
    "\n",
    "vector_store = FAISS.from_documents(documents, embeddings)\n",
    "retriever = vector_store.as_retriever()\n"
   ]
  },
  {
   "cell_type": "code",
   "execution_count": 6,
   "metadata": {},
   "outputs": [
    {
     "name": "stderr",
     "output_type": "stream",
     "text": [
      "C:\\Users\\skyop\\AppData\\Local\\Temp\\ipykernel_11476\\2903745945.py:2: LangChainDeprecationWarning: The method `BaseRetriever.get_relevant_documents` was deprecated in langchain-core 0.1.46 and will be removed in 1.0. Use invoke instead.\n",
      "  retriever.get_relevant_documents(\n"
     ]
    },
    {
     "data": {
      "text/plain": [
       "[Document(metadata={'source': 'data/SPRI_AI_Brief_2023년12월호_F.pdf', 'page': 16}, page_content='SPRi AI Brief |  \\n2023-12 월호\\n14유튜브 , 2024년부터 AI 생성 콘텐츠 표시 의무화 \\nn유튜브가 몇 달 안에 생성 AI를 사용한 콘텐츠에 AI 라벨 표시를 의무화하기로 했으며 , 이를 \\n준수하지 않는 콘텐츠는 삭제하고 크리에이터에 대한 수익 배분도 중단할 수 있다고 설명\\nn유튜브는 AI 생성 콘텐츠가 신원 파악이 가능한 개인을 모방한 경우 개인정보 침해 신고 \\n절차에 따라 콘텐츠 삭제 요청도 받을 계획KEY Contents\\n£유튜브 , 생성 AI 콘텐츠에 AI 라벨 표시 안 하면 콘텐츠 삭제\\nn유튜브가 2023 년 11월 14일 공식 블로그를 통해 몇 달 안에 생성 AI를 사용한 콘텐츠에 AI \\n라벨을 표시하는 새로운 규칙을 시행한다고 발표 \\n∙실제로 일어나지 않은 사건을 사실적으로 묘사하거나 실제로 하지 않은 말이나 행동을 보여주는 콘텐츠와 \\n같이 AI 도구를 사용해 사실적으로 변경되거나 합성된 콘텐츠에는 AI 라벨을 표시 필요\\n∙유튜브는 이러한 규칙이 선거나 분쟁 상황, 공중 보건, 공직자 관련 문제와 같이 민감한 주제를 다루는 \\n콘텐츠에서 특히 중요하다고 강조했으며 , 크리에이터가 AI로 제작한 콘텐츠에 AI 라벨을 표시하지 않으면 \\n해당 콘텐츠는 삭제되고 광고 수익을 배분하는 유튜브 파트너 프로그램도 정지될 수 있음\\n∙유튜브는 두 가지 방식으로 AI를 이용한 콘텐츠의 변경이나 합성 여부를 시청자에게 전달할 계획으로 \\n동영상 설명 패널에 라벨을 표시하는 방식이 기본이며 , 민감한 주제를 다루는 특정 유형의 콘텐츠는 동영상 \\n플레이어에 더욱 눈에 띄는 라벨을 적용 \\n∙유튜브는 커뮤니티 정책에 위반되는 일부 합성 콘텐츠에 대해서는 라벨 지정 여부와 관계없이 삭제할 \\n방침으로 , 가령 사실적인 폭력을 보여주는 합성 동영상이 시청자에게 충격이나 혐오감을 줄 수 있다면 \\n삭제될 수 있음\\n£유튜브 , 특정인을 모방한 AI 생성 콘텐츠에 대한 삭제 요청에도 대응 계획'),\n",
       " Document(metadata={'source': 'data/SPRI_AI_Brief_2023년12월호_F.pdf', 'page': 16}, page_content='£유튜브 , 특정인을 모방한 AI 생성 콘텐츠에 대한 삭제 요청에도 대응 계획\\nn유튜브는 몇 달 내에 신원 파악이 가능한 개인의 얼굴이나 음성을 모방한 AI 생성 콘텐츠에 대하\\n여 개인정보 침해 신고 절차를 마련해 삭제 요청을 받을 계획  \\n∙단, 모든 콘텐츠가 삭제 대상은 아니며 유튜브는 콘텐츠가 패러디나 풍자인지 , 해당 영상에서 삭제 요청을 \\n한 특정인을 식별할 수 있는지 , 공직자나 유명인이 등장하는지 등 다양한 요소를 고려할 예정\\n∙유튜브는 음반사가 아티스트의 고유한 노래나 목소리를 모방한 AI 생성 음악에 대하여 삭제를 요청할 수 \\n있는 기능도 도입할 방침\\n☞ 출처 : Youtube, Our approach to responsible AI innovation, 2023.11.14.'),\n",
       " Document(metadata={'source': 'data/SPRI_AI_Brief_2023년12월호_F.pdf', 'page': 1}, page_content='▹ IDC, 2027 년 AI 소프트웨어 매출 2,500 억 달러 돌파 전망··········································· 12\\n   ▹ 빌 게이츠 , AI 에이전트로 인한 컴퓨터 사용의 패러다임 변화 전망································ 13\\n   ▹ 유튜브 , 2024 년부터 AI 생성 콘텐츠 표시 의무화 ···························································· 14\\n 3. 기술/연구\\n   ▹ 영국 과학혁신기술부 , AI 안전 연구소 설립 발표······························································ 15\\n   ▹ 구글 딥마인드 , 범용 AI 모델의 기능과 동작에 대한 분류 체계 발표······························ 16\\n   ▹ 갈릴레오의 LLM 환각 지수 평가에서 GPT-4 가 가장 우수 ··········································· 17\\n   \\n 4. 인력/교육     \\n   ▹ 영국 옥스퍼드 인터넷 연구소 , AI 기술자의 임금이 평균 21% 높아······························· 18\\n   \\n   \\n \\nⅡ. 주요 행사\\n   ▹CES 2024 ····························································································································· 19\\n   ▹AIMLA 2024 ························································································································· 19'),\n",
       " Document(metadata={'source': 'data/SPRI_AI_Brief_2023년12월호_F.pdf', 'page': 4}, page_content='보장하고 책임성을 강화\\n∙산업계 , 정부, 시민사회 , 학계를 포함해 첨단 AI 시스템을 개발하는 조직 간 정보공유와 사고 발생 시 \\n신고를 위해 협력하고 , 위험 기반 접근방식을 토대로 개인정보보호 정책과 위험 완화 조치를 포함하는 \\nAI 거버넌스와 위험 관리 정책을 마련\\n∙AI 수명주기 전반에 걸쳐 물리보안 , 사이버보안 , 내부자 위협 보안을 포함한 강력한 보안 통제 구현\\n∙사용자가 AI 생성 콘텐츠를 식별할 수 있도록 워터마크를 비롯하여 기술적으로 가능한 기법으로 \\n신뢰할 수 있는 콘텐츠 인증과 출처 확인 메커니즘을 개발 및 구축 \\n∙사회적 위험과 안전·보안 문제를 완화하는 연구와 효과적인 완화 대책에 우선 투자하고 , 기후 위기 \\n대응, 세계 보건과 교육 등 세계적 난제 해결을 위한 첨단 AI 시스템을 우선 개발\\n∙국제 기술 표준의 개발 및 채택을 가속화하고 , 개인정보와 지식재산권 보호를 위해 데이터 입력과 수집 \\n시 적절한 보호 장치 구현\\n☞ 출처: G7, Hiroshima Process International Code of Conduct for Advanced AI Systems, 2023.10.30.')]"
      ]
     },
     "execution_count": 6,
     "metadata": {},
     "output_type": "execute_result"
    }
   ],
   "source": [
    "# PDf 문서에서 Query 에 대한 관련성 높은 Chunk 를 가져옵니다.\n",
    "retriever.invoke(\n",
    "    \"YouTube의 2024년부터 AI 생성콘텐츠 표시 의무화에 대한 내용을 알려줘\"\n",
    ")"
   ]
  },
  {
   "cell_type": "markdown",
   "metadata": {},
   "source": [
    "`create_retriever_tool` 함수는 `langchain` 라이브러리의 `tools.retriever` 모듈에서 가져온다. 이 함수는 특정 데이터를 검색하기 위한 도구를 생성하는 데 사용된다. `langchain은` 언어 모델과 관련된 다양한 기능을 제공하는 라이브러리로, 이 중 검색 도구 생성 기능은 데이터 검색 및 처리 작업을 용이하게 한다.\n",
    "\n",
    "이 함수는 `create_retriever_tool`을 호출하여 `retriever_tool`을 생성합니다. 이 도구는 `LangSmith`에 대한 정보를 검색하는 데 사용됩니다.\n",
    "\n",
    "사용자가` LangSmith`에 대해 궁금한 점이 있을 때, 이 도구를 통해 질문을 해결할 수 있습니다. 함수는 `retriever` 인스턴스, 검색 도구의 이름인 `langsmith_search`, 그리고 사용자에게 도구 사용 방법을 안내하는 메시지를 인자로 받습니다."
   ]
  },
  {
   "cell_type": "code",
   "execution_count": 7,
   "metadata": {},
   "outputs": [],
   "source": [
    "from langchain.tools.retriever import create_retriever_tool\n",
    "\n",
    "retriever_tool = create_retriever_tool(\n",
    "    retriever,\n",
    "    name=\"pdf_search\",\n",
    "    description=\"2023년 12월 AI 관련 정보를 PDF 문서에서 검색합니다. '2023년 12월 AI 산업동향' 과 관련된 질문은 이 도구를 사용해야 합니다!\",\n",
    ")"
   ]
  },
  {
   "cell_type": "markdown",
   "metadata": {},
   "source": [
    "### Agent 가 사용할 도구 목록 정의\n",
    "이제 두 가지를 모두 만들었으므로, Agent 가 사용할 도구 목록을 만들 수 있습니다.\n",
    "\n",
    "`tools` 리스트는 `search`와 `retriever_tool`을 포함합니다. 이 리스트는 검색 및 정보 검색 도구를 저장하는 데 사용됩니다. 각 요소는 특정 작업을 수행하는 데 필요한 기능을 제공합니다.\n",
    "\n",
    "### 에이전트 생성\n",
    "도구를 정의하면, 에이전트를 생성할 수 있습니다. OpenAI Functions 에이전트를 사용할 것입니다.\n",
    "\n",
    "먼저, 에이전트가 활용할 LLM을 정의합니다.\n",
    "\n",
    "ChatOpenAI 클래스는 langchain_openai 모듈에서 가져온 것으로, OpenAI의 언어 모델을 활용하여 대화형 AI를 구현할 수 있게 해줍니다.\n",
    "\n",
    "temperature 매개변수를 0으로 설정하여 예측의 변동성을 최소화합니다.\n",
    "\n",
    "다음으로, 에이전트를 안내하기 위해 사용하고 싶은 프롬프트를 선택합니다.\n",
    "\n",
    "이 프롬프트의 내용을 보고 싶고 LangSmith에 접근할 수 있다면, 다음으로 이동하세요:\n",
    "\n",
    "다운로드 받아 활용할 프롬프트: https://smith.langchain.com/hub/hwchase17/openai-functions-agent\n",
    "\n",
    "hub.pull() 함수를 사용하여 리소스를 가져온 후, prompt.messages를 통해 해당 리소스의 메시지에 접근합니다.\n",
    "\n",
    "이제 LLM, 프롬프트 및 도구로 에이전트를 초기화할 수 있습니다. 에이전트는 입력을 받아 어떤 Action 을 취할지 결정하는 역할을 합니다.\n",
    "\n",
    "중요한 것은 에이전트가 Action 들을 실행하지 않는다는 것입니다 - 그것은 AgentExecutor(다음 단계)에 의해 수행됩니다.\n",
    "\n",
    "마지막으로, 우리는 에이전트(agent)를 AgentExecutor 내부의 도구들과 결합합니다(이는 반복적으로 에이전트를 호출하고 도구들을 실행할 것입니다).\n",
    "\n",
    "langchain.agents 모듈에서 AgentExecutor 클래스를 가져와 인스턴스를 생성합니다. 생성 시, agent, tools 객체를 인자로 전달하고, verbose=True를 설정하여 상세한 로그 출력을 활성화합니다. AgentExecutor는 주어진 에이전트와 도구들을 사용하여 작업을 실행하는 역할을 합니다.\n",
    "\n",
    "### 에이전트 실행하기\n",
    "이제 몇 가지 질의에 대해 에이전트를 실행할 수 있습니다\n",
    "\n",
    "현재 이러한 모든 질의는 상태(Stateless) 가 없는 질의입니다(이전 상호작용을 기억하지 않습니다).\n",
    "\n",
    "agent_executor 객체의 invoke 메소드는 딕셔너리 형태의 인자를 받아 처리합니다. 이 예제에서는 input 키에 hi! 값을 할당한 딕셔너리를 인자로 전달하고 있습니다. 이는 일반적으로 `AI 에이전트, 함수 실행기, 또는 명령 처리기 등의 객체에서 입력을 처리하기 위해 사용`됩니다."
   ]
  },
  {
   "cell_type": "code",
   "execution_count": 11,
   "metadata": {},
   "outputs": [],
   "source": [
    "# tools정의. search는 TavilySearchResults\n",
    "tools = [search, retriever_tool]"
   ]
  },
  {
   "cell_type": "code",
   "execution_count": 10,
   "metadata": {},
   "outputs": [],
   "source": [
    "# openai 정의\n",
    "from langchain_openai import ChatOpenAI\n",
    "llm = ChatOpenAI(model=\"gpt-4o-mini\", temperature=0)"
   ]
  },
  {
   "cell_type": "code",
   "execution_count": 12,
   "metadata": {},
   "outputs": [
    {
     "data": {
      "text/plain": [
       "[SystemMessagePromptTemplate(prompt=PromptTemplate(input_variables=[], template='You are a helpful assistant')),\n",
       " MessagesPlaceholder(variable_name='chat_history', optional=True),\n",
       " HumanMessagePromptTemplate(prompt=PromptTemplate(input_variables=['input'], template='{input}')),\n",
       " MessagesPlaceholder(variable_name='agent_scratchpad')]"
      ]
     },
     "execution_count": 12,
     "metadata": {},
     "output_type": "execute_result"
    }
   ],
   "source": [
    "# prompt정의\n",
    "from langchain import hub\n",
    "\n",
    "prompt = hub.pull(\"hwchase17/openai-functions-agent\")\n",
    "prompt.messages"
   ]
  },
  {
   "cell_type": "code",
   "execution_count": 16,
   "metadata": {},
   "outputs": [
    {
     "name": "stdout",
     "output_type": "stream",
     "text": [
      "================================\u001b[1m System Message \u001b[0m================================\n",
      "\n",
      "You are a helpful assistant\n",
      "\n",
      "=============================\u001b[1m Messages Placeholder \u001b[0m=============================\n",
      "\n",
      "\u001b[33;1m\u001b[1;3m{chat_history}\u001b[0m\n",
      "\n",
      "================================\u001b[1m Human Message \u001b[0m=================================\n",
      "\n",
      "\u001b[33;1m\u001b[1;3m{input}\u001b[0m\n",
      "\n",
      "=============================\u001b[1m Messages Placeholder \u001b[0m=============================\n",
      "\n",
      "\u001b[33;1m\u001b[1;3m{agent_scratchpad}\u001b[0m\n"
     ]
    }
   ],
   "source": [
    "prompt.pretty_print()"
   ]
  },
  {
   "cell_type": "code",
   "execution_count": 18,
   "metadata": {},
   "outputs": [],
   "source": [
    "# agent function 설정\n",
    "from langchain.agents import create_openai_functions_agent\n",
    "agent = create_openai_functions_agent(llm, tools, prompt)"
   ]
  },
  {
   "cell_type": "code",
   "execution_count": 19,
   "metadata": {},
   "outputs": [],
   "source": [
    "from langchain.agents import AgentExecutor\n",
    "\n",
    "# AgentExecutor 클래스를 사용하여 agent와 tools를 설정하고, 상세한 로그를 출력하도록 verbose를 True로 설정합니다.\n",
    "agent_executor = AgentExecutor(agent=agent, tools=tools, verbose=True)"
   ]
  },
  {
   "cell_type": "code",
   "execution_count": 22,
   "metadata": {},
   "outputs": [
    {
     "name": "stdout",
     "output_type": "stream",
     "text": [
      "\n",
      "\n",
      "\u001b[1m> Entering new AgentExecutor chain...\u001b[0m\n",
      "\u001b[32;1m\u001b[1;3m\n",
      "Invoking: `tavily_search_results_json` with `{'query': '2024년 대한민국 축구경기 결과'}`\n",
      "\n",
      "\n",
      "\u001b[0m\u001b[36;1m\u001b[1;3m[{'url': 'https://olympics.com/ko/news/korea-against-thailand-football-qualifying-for-world-cup-2026', 'content': '대한민국 축구 대표팀이 3월 26일 화요일 저녁 태국 방콕의 라자망갈라 국립 경기장에서 열린 2026 FIFA 월드컵 아시아 예선 2라운드 C조 네 번째 경기에서 태국을 3-0으로 물리쳤습니다. ... — theKFA (@theKFA) March 26, 2024.'}, {'url': 'https://olympics.com/ko/paris-2024/schedule/football', 'content': '2024 파리 올림픽 축구 공식 일정 및 결과. 어떤 선수가 메달을 획득하는지 결과를 실시간으로 확인하세요. ... 언어선택. en. 로그인 또는 회원가입. 뒤로. 뒤로. 올림픽 일정 및 결과 - 축구. ... omega가 시간기록 및 점수 제공. atos가 제공하는 경기결과. 올림픽 하루 ...'}, {'url': 'https://www.fifa.com/ko/tournaments/mens/worldcup/canadamexicousa2026/articles/asian-qualifying-results-and-fixtures-for-world-cup-26-ko', 'content': '2024년 3월 21 일 2024년 3월 21 ... 미얀마 1-1 시리아 (b조) 일본 1-0 북한 (b조) 대한민국 1-1 ... fifa가 아시아 예선 경기 결과, 일정 등을 공개한다. fifa+.'}, {'url': 'https://ko.wikipedia.org/wiki/대한민국_축구_국가대표팀', 'content': '2024년 8월 기준으로 총 11번 월드컵에 출전했고 2002년 fifa 월드컵에서 최종 순위 4위를 달성하며 아시아 축구 연맹 회원국 중 월드컵 최다 출전 및 최고 성적을 보유하고 있다. 2002년 월드컵에서 최초로 월드컵 준결승전에 진출한 아시아 축구 연맹 회원국 기록을 ...'}, {'url': 'https://namu.wiki/w/클린스만호/2024년', 'content': '이번 경기 승리로 클린스만호는 8경기 연속 무패(6경기 연승), 7경기 연속 무실점 기록을 달성했다. 7경기 연속 무실점은 대한민국 축구 국가대표팀 역대 3위에 해당하는 기록이며, 1978년 함흥철, 1989년 이회택 감독과 동률이 됐다.'}]\u001b[0m\u001b[32;1m\u001b[1;3m2024년 대한민국 축구경기 결과에 대한 정보는 다음과 같습니다:\n",
      "\n",
      "1. **2026 FIFA 월드컵 아시아 예선**:\n",
      "   - 2024년 3월 26일: 대한민국이 태국을 3-0으로 이겼습니다. 이 경기는 방콕의 라자망갈라 국립 경기장에서 열렸습니다. [자세한 내용](https://olympics.com/ko/news/korea-against-thailand-football-qualifying-for-world-cup-2026)\n",
      "\n",
      "2. **2024년 3월 21일**: 대한민국이 북한과 1-1로 비겼습니다. [자세한 내용](https://www.fifa.com/ko/tournaments/mens/worldcup/canadamexicousa2026/articles/asian-qualifying-results-and-fixtures-for-world-cup-26-ko)\n",
      "\n",
      "3. **클린스만호의 성적**: 클린스만 감독 하에 대한민국 축구 국가대표팀은 8경기 연속 무패(6경기 연승)와 7경기 연속 무실점 기록을 달성했습니다. 이는 대한민국 축구 역사상 3위에 해당하는 기록입니다. [자세한 내용](https://namu.wiki/w/클린스만호/2024년)\n",
      "\n",
      "추가적인 경기 결과나 일정이 필요하시면 말씀해 주세요!\u001b[0m\n",
      "\n",
      "\u001b[1m> Finished chain.\u001b[0m\n",
      "답변: 2024년 대한민국 축구경기 결과에 대한 정보는 다음과 같습니다:\n",
      "\n",
      "1. **2026 FIFA 월드컵 아시아 예선**:\n",
      "   - 2024년 3월 26일: 대한민국이 태국을 3-0으로 이겼습니다. 이 경기는 방콕의 라자망갈라 국립 경기장에서 열렸습니다. [자세한 내용](https://olympics.com/ko/news/korea-against-thailand-football-qualifying-for-world-cup-2026)\n",
      "\n",
      "2. **2024년 3월 21일**: 대한민국이 북한과 1-1로 비겼습니다. [자세한 내용](https://www.fifa.com/ko/tournaments/mens/worldcup/canadamexicousa2026/articles/asian-qualifying-results-and-fixtures-for-world-cup-26-ko)\n",
      "\n",
      "3. **클린스만호의 성적**: 클린스만 감독 하에 대한민국 축구 국가대표팀은 8경기 연속 무패(6경기 연승)와 7경기 연속 무실점 기록을 달성했습니다. 이는 대한민국 축구 역사상 3위에 해당하는 기록입니다. [자세한 내용](https://namu.wiki/w/클린스만호/2024년)\n",
      "\n",
      "추가적인 경기 결과나 일정이 필요하시면 말씀해 주세요!\n"
     ]
    }
   ],
   "source": [
    "# 에이전트 실행\n",
    "# tools에서 search로 들어간것이다.\n",
    "response = agent_executor.invoke({\"input\": \"2024년 대한민국 축구경기 결과를 알려줘\"})\n",
    "print(f'답변: {response[\"output\"]}')\n"
   ]
  },
  {
   "cell_type": "code",
   "execution_count": 23,
   "metadata": {},
   "outputs": [
    {
     "name": "stdout",
     "output_type": "stream",
     "text": [
      "\n",
      "\n",
      "\u001b[1m> Entering new AgentExecutor chain...\u001b[0m\n",
      "\u001b[32;1m\u001b[1;3m\n",
      "Invoking: `pdf_search` with `{'query': 'YouTube 2024년 AI 생성 콘텐츠 표시 의무화'}`\n",
      "\n",
      "\n",
      "\u001b[0m\u001b[33;1m\u001b[1;3mSPRi AI Brief |  \n",
      "2023-12 월호\n",
      "14유튜브 , 2024년부터 AI 생성 콘텐츠 표시 의무화 \n",
      "n유튜브가 몇 달 안에 생성 AI를 사용한 콘텐츠에 AI 라벨 표시를 의무화하기로 했으며 , 이를 \n",
      "준수하지 않는 콘텐츠는 삭제하고 크리에이터에 대한 수익 배분도 중단할 수 있다고 설명\n",
      "n유튜브는 AI 생성 콘텐츠가 신원 파악이 가능한 개인을 모방한 경우 개인정보 침해 신고 \n",
      "절차에 따라 콘텐츠 삭제 요청도 받을 계획KEY Contents\n",
      "£유튜브 , 생성 AI 콘텐츠에 AI 라벨 표시 안 하면 콘텐츠 삭제\n",
      "n유튜브가 2023 년 11월 14일 공식 블로그를 통해 몇 달 안에 생성 AI를 사용한 콘텐츠에 AI \n",
      "라벨을 표시하는 새로운 규칙을 시행한다고 발표 \n",
      "∙실제로 일어나지 않은 사건을 사실적으로 묘사하거나 실제로 하지 않은 말이나 행동을 보여주는 콘텐츠와 \n",
      "같이 AI 도구를 사용해 사실적으로 변경되거나 합성된 콘텐츠에는 AI 라벨을 표시 필요\n",
      "∙유튜브는 이러한 규칙이 선거나 분쟁 상황, 공중 보건, 공직자 관련 문제와 같이 민감한 주제를 다루는 \n",
      "콘텐츠에서 특히 중요하다고 강조했으며 , 크리에이터가 AI로 제작한 콘텐츠에 AI 라벨을 표시하지 않으면 \n",
      "해당 콘텐츠는 삭제되고 광고 수익을 배분하는 유튜브 파트너 프로그램도 정지될 수 있음\n",
      "∙유튜브는 두 가지 방식으로 AI를 이용한 콘텐츠의 변경이나 합성 여부를 시청자에게 전달할 계획으로 \n",
      "동영상 설명 패널에 라벨을 표시하는 방식이 기본이며 , 민감한 주제를 다루는 특정 유형의 콘텐츠는 동영상 \n",
      "플레이어에 더욱 눈에 띄는 라벨을 적용 \n",
      "∙유튜브는 커뮤니티 정책에 위반되는 일부 합성 콘텐츠에 대해서는 라벨 지정 여부와 관계없이 삭제할 \n",
      "방침으로 , 가령 사실적인 폭력을 보여주는 합성 동영상이 시청자에게 충격이나 혐오감을 줄 수 있다면 \n",
      "삭제될 수 있음\n",
      "£유튜브 , 특정인을 모방한 AI 생성 콘텐츠에 대한 삭제 요청에도 대응 계획\n",
      "\n",
      "£유튜브 , 특정인을 모방한 AI 생성 콘텐츠에 대한 삭제 요청에도 대응 계획\n",
      "n유튜브는 몇 달 내에 신원 파악이 가능한 개인의 얼굴이나 음성을 모방한 AI 생성 콘텐츠에 대하\n",
      "여 개인정보 침해 신고 절차를 마련해 삭제 요청을 받을 계획  \n",
      "∙단, 모든 콘텐츠가 삭제 대상은 아니며 유튜브는 콘텐츠가 패러디나 풍자인지 , 해당 영상에서 삭제 요청을 \n",
      "한 특정인을 식별할 수 있는지 , 공직자나 유명인이 등장하는지 등 다양한 요소를 고려할 예정\n",
      "∙유튜브는 음반사가 아티스트의 고유한 노래나 목소리를 모방한 AI 생성 음악에 대하여 삭제를 요청할 수 \n",
      "있는 기능도 도입할 방침\n",
      "☞ 출처 : Youtube, Our approach to responsible AI innovation, 2023.11.14.\n",
      "\n",
      "▹ IDC, 2027 년 AI 소프트웨어 매출 2,500 억 달러 돌파 전망··········································· 12\n",
      "   ▹ 빌 게이츠 , AI 에이전트로 인한 컴퓨터 사용의 패러다임 변화 전망································ 13\n",
      "   ▹ 유튜브 , 2024 년부터 AI 생성 콘텐츠 표시 의무화 ···························································· 14\n",
      " 3. 기술/연구\n",
      "   ▹ 영국 과학혁신기술부 , AI 안전 연구소 설립 발표······························································ 15\n",
      "   ▹ 구글 딥마인드 , 범용 AI 모델의 기능과 동작에 대한 분류 체계 발표······························ 16\n",
      "   ▹ 갈릴레오의 LLM 환각 지수 평가에서 GPT-4 가 가장 우수 ··········································· 17\n",
      "   \n",
      " 4. 인력/교육     \n",
      "   ▹ 영국 옥스퍼드 인터넷 연구소 , AI 기술자의 임금이 평균 21% 높아······························· 18\n",
      "   \n",
      "   \n",
      " \n",
      "Ⅱ. 주요 행사\n",
      "   ▹CES 2024 ····························································································································· 19\n",
      "   ▹AIMLA 2024 ························································································································· 19\n",
      "\n",
      "보장하고 책임성을 강화\n",
      "∙산업계 , 정부, 시민사회 , 학계를 포함해 첨단 AI 시스템을 개발하는 조직 간 정보공유와 사고 발생 시 \n",
      "신고를 위해 협력하고 , 위험 기반 접근방식을 토대로 개인정보보호 정책과 위험 완화 조치를 포함하는 \n",
      "AI 거버넌스와 위험 관리 정책을 마련\n",
      "∙AI 수명주기 전반에 걸쳐 물리보안 , 사이버보안 , 내부자 위협 보안을 포함한 강력한 보안 통제 구현\n",
      "∙사용자가 AI 생성 콘텐츠를 식별할 수 있도록 워터마크를 비롯하여 기술적으로 가능한 기법으로 \n",
      "신뢰할 수 있는 콘텐츠 인증과 출처 확인 메커니즘을 개발 및 구축 \n",
      "∙사회적 위험과 안전·보안 문제를 완화하는 연구와 효과적인 완화 대책에 우선 투자하고 , 기후 위기 \n",
      "대응, 세계 보건과 교육 등 세계적 난제 해결을 위한 첨단 AI 시스템을 우선 개발\n",
      "∙국제 기술 표준의 개발 및 채택을 가속화하고 , 개인정보와 지식재산권 보호를 위해 데이터 입력과 수집 \n",
      "시 적절한 보호 장치 구현\n",
      "☞ 출처: G7, Hiroshima Process International Code of Conduct for Advanced AI Systems, 2023.10.30.\u001b[0m\u001b[32;1m\u001b[1;3mYouTube는 2024년부터 AI 생성 콘텐츠에 대한 표시를 의무화할 계획입니다. 이 새로운 규칙에 따르면, 생성 AI를 사용한 콘텐츠는 반드시 AI 라벨을 표시해야 하며, 이를 준수하지 않을 경우 해당 콘텐츠는 삭제될 수 있고, 크리에이터에 대한 수익 배분도 중단될 수 있습니다.\n",
      "\n",
      "주요 내용은 다음과 같습니다:\n",
      "\n",
      "1. **AI 라벨 의무화**: YouTube는 AI 도구를 사용하여 사실적으로 변경되거나 합성된 콘텐츠에 대해 AI 라벨을 표시해야 한다고 발표했습니다. 이는 특히 선거, 공중 보건, 공직자 관련 문제와 같은 민감한 주제를 다루는 콘텐츠에서 중요합니다.\n",
      "\n",
      "2. **콘텐츠 삭제 및 수익 정지**: AI 라벨을 표시하지 않은 콘텐츠는 삭제될 수 있으며, YouTube 파트너 프로그램에 따른 광고 수익 배분이 정지될 수 있습니다.\n",
      "\n",
      "3. **라벨 표시 방식**: 기본적으로 동영상 설명 패널에 라벨을 표시하며, 민감한 주제를 다루는 콘텐츠에는 더 눈에 띄는 라벨을 적용할 계획입니다.\n",
      "\n",
      "4. **개인정보 침해 신고 절차**: YouTube는 신원 파악이 가능한 개인을 모방한 AI 생성 콘텐츠에 대해 개인정보 침해 신고 절차를 마련할 예정입니다. 이는 패러디나 풍자 여부, 특정인의 식별 가능성 등을 고려하여 삭제 요청을 처리할 것입니다.\n",
      "\n",
      "이러한 조치는 AI 생성 콘텐츠의 책임성과 투명성을 높이기 위한 노력의 일환으로 볼 수 있습니다.\u001b[0m\n",
      "\n",
      "\u001b[1m> Finished chain.\u001b[0m\n",
      "답변: YouTube는 2024년부터 AI 생성 콘텐츠에 대한 표시를 의무화할 계획입니다. 이 새로운 규칙에 따르면, 생성 AI를 사용한 콘텐츠는 반드시 AI 라벨을 표시해야 하며, 이를 준수하지 않을 경우 해당 콘텐츠는 삭제될 수 있고, 크리에이터에 대한 수익 배분도 중단될 수 있습니다.\n",
      "\n",
      "주요 내용은 다음과 같습니다:\n",
      "\n",
      "1. **AI 라벨 의무화**: YouTube는 AI 도구를 사용하여 사실적으로 변경되거나 합성된 콘텐츠에 대해 AI 라벨을 표시해야 한다고 발표했습니다. 이는 특히 선거, 공중 보건, 공직자 관련 문제와 같은 민감한 주제를 다루는 콘텐츠에서 중요합니다.\n",
      "\n",
      "2. **콘텐츠 삭제 및 수익 정지**: AI 라벨을 표시하지 않은 콘텐츠는 삭제될 수 있으며, YouTube 파트너 프로그램에 따른 광고 수익 배분이 정지될 수 있습니다.\n",
      "\n",
      "3. **라벨 표시 방식**: 기본적으로 동영상 설명 패널에 라벨을 표시하며, 민감한 주제를 다루는 콘텐츠에는 더 눈에 띄는 라벨을 적용할 계획입니다.\n",
      "\n",
      "4. **개인정보 침해 신고 절차**: YouTube는 신원 파악이 가능한 개인을 모방한 AI 생성 콘텐츠에 대해 개인정보 침해 신고 절차를 마련할 예정입니다. 이는 패러디나 풍자 여부, 특정인의 식별 가능성 등을 고려하여 삭제 요청을 처리할 것입니다.\n",
      "\n",
      "이러한 조치는 AI 생성 콘텐츠의 책임성과 투명성을 높이기 위한 노력의 일환으로 볼 수 있습니다.\n"
     ]
    }
   ],
   "source": [
    "# 'agent_executor' 객체의 'invoke' 메소드를 호출하여, 'langsmith'가 테스팅에 어떻게 도움을 줄 수 있는지에 대한 질문을 입력으로 제공합니다.\n",
    "# tools에서 retriever_tool로 들어간것이다.\n",
    "response = agent_executor.invoke(\n",
    "    {\n",
    "        \"input\": \"YouTube 2024년부터 AI 생성콘텐츠 표시 의무화에 대한 내용을 PDF 문서에서 알려줘\"\n",
    "    }\n",
    ")\n",
    "print(f'답변: {response[\"output\"]}')"
   ]
  },
  {
   "cell_type": "code",
   "execution_count": 24,
   "metadata": {},
   "outputs": [
    {
     "name": "stdout",
     "output_type": "stream",
     "text": [
      "\n",
      "\n",
      "\u001b[1m> Entering new AgentExecutor chain...\u001b[0m\n",
      "\u001b[32;1m\u001b[1;3m\n",
      "Invoking: `tavily_search_results_json` with `{'query': '판교 카카오 프렌즈샵 아지트점 전화번호'}`\n",
      "\n",
      "\n",
      "\u001b[0m\u001b[36;1m\u001b[1;3m[{'url': 'https://www.placeview.co.kr/id/MTcxODgwMDMxOCAg', 'content': '성남시 카카오프렌즈 판교점에 대한 장소정보(전화번호,주소,오시는길안내,지도,로드뷰,홈페이지,교통정보,리뷰등) ... 카카오프렌즈 판교아지트점 (031-601-7225) 경기 성남시 분당구 판교역로 166 . 카카오프렌즈 현대백화점판교점 (031-5170-2451) ...'}, {'url': 'https://blog.naver.com/PostView.naver?blogId=amour1115&logNo=223386213560', 'content': '카카오 프렌즈샵 판교 카카오 아지트점 후기: 판교역 카카오 본사 1층 귀여운 거 다 모인 대장 프렌즈샵 다녀왔어요☆ ... 카카오프렌즈 판교아지트점. 경기도 성남시 분당구 판교역로 166 카카오판교아지트 1층 카카오프렌즈 ...'}, {'url': 'https://m.blog.naver.com/kimsso333/223186761448', 'content': '\\u200b\\n\\u200b\\n\\u200b\\n\\u200b\\n선물 후보로 끝까지 고민했던\\n춘식이 얼음틀 ㅋㅋㅋ\\n\\u200b\\n\\u200b\\n\\u200b\\n\\u200b\\n카카오프렌즈 판교점\\n한쪽에는 콜프용품들도\\n한가득 준비되어 있었고용\\n\\u200b\\n\\u200b\\n\\u200b\\n\\u200b\\n카카오톡에 이모티콘 친구들도\\nMD로 있어서 귀엽더라고요!\\n\\u200b\\n\\u200b\\n\\u200b\\n\\u200b\\n귀여운 루피와\\n일본에서 온 빤쮸토끼도\\n매장 한켠에 있었어요 ㅎㅎㅎ\\n\\u200b\\n\\u200b\\n\\u200b\\n\\u200b\\n보드게임도 있규여\\n\\u200b\\n\\u200b\\n\\u200b\\n\\u200b\\n피규어와 비타민까지 -\\n\\u200b\\n맘만먹으면\\n카카오로 집꾸미기 가~넝~\\n\\u200b\\n\\u200b\\n\\u200b\\n\\u200b\\n최고심X춘식이 쏘큐트\\n\\u200b\\n\\u200b\\n\\u200b\\n\\u200b\\n직장인 조르디 💚\\n컴퓨터 비싼거 쓰네 ~\\n\\u200b\\n\\u200b\\n\\u200b\\n\\u200b\\n이 친구들이 제가 최종적으로 픽한\\n친구에게 줄 선물 ㅋㅋㅋㅋ\\n\\u200b\\n최고심x춘식이 8. 18. 9:56\\n\\u200b\\n\\u200b\\n오늘은 퇴근길에 친구 선물사러들린\\n판교 카카오프렌즈샵을 소개해드려요!\\n\\u200b\\n\\u200b\\n\\u200b\\n판교 카카오프렌즈샵은 판교역이랑 딱붙어있어서\\n퇴근할때마다 한번가봐야지…가 1년이 넘었고\\nㅋㅋㅋㅋㅋㅋㅋㅋㅋㅋㅋㅋㅋㅋㅋㅋ\\n\\u200b\\n그러다가 친구가 곧 생일인데\\n받고싶단 선물이 소박하여 춘식이러버를 위해\\n추가선물을 구입하고자 퇴근길에 다녀왓어요 😎\\n\\u200b\\n\\u200b\\n경기도 성남시 분당구 판교역로 166 카카오판교아지트 1층 카카오프렌즈\\n\\u200b\\n<카카오프렌즈 판교아지트점>\\n\\u200b\\n📍위치 : 카카오판교 아지트 1층\\n⏰ 영업시간 : 10:00 ~ 21:00\\n\\u200b\\n\\u200b\\n\\u200b\\n\\u200b\\n다양한 세일전이 진행중이었는데\\n내가 사고싶은건 세일 안하쥬 🥲..ㅋㅋㅋ\\n\\u200b\\n\\u200b\\n\\u200b\\n\\u200b\\n대형쿠션과 인형, 발매트, 목베게에\\n \\u200b\\n\\u200b\\n\\u200b\\n\\u200b\\n라이딩하는 춘식이와 라이언 쏘큐트 - 💛\\n\\u200b\\n\\u200b\\n\\u200b\\n\\u200b\\n요즘 넷플릭스가\\n여기저기랑 엄청 콜라보하던데\\n카카오프렌즈도 참지못하고\\nDP로 MD를 출시했더라고요\\n\\u200b\\n\\u200b\\n\\u200b\\n\\u200b\\n그리고 국민티셔츠\\n마리떼 프랑소와 저버와 콜라보한\\n귀여운 인형과 키링들까지\\n\\u200b\\n\\u200b\\n\\u200b\\n\\u200b\\n카카오프렌즈 판교점의\\n귀여운 춘식이 모먼트 - 💛\\nㅋㅋㅋㅋㅋㅋㅋㅋㅋㅋㅋㅋㅋㅋ\\n\\u200b\\n\\u200b\\n\\u200b\\n\\u200b\\n여기 춘식존 귀여운게 많더라고요!\\n 지킴이펜이 될 것 같아\\n제 것도 살까 고민했어요\\nㅋㅋㅋㅋㅋㅋㅋㅋㅋㅋㅋㅋㅋㅋㅋ\\n\\u200b\\n\\u200b\\n\\u200b\\n오늘 포스팅이 도움되셨다면\\n공감(❤️)과 팬추가(🙂) 부탁드려요\\n\\u200b\\n\\u200b\\n\\u200b\\n여행의 즐거움과\\n쇼핑의 재미를 공유해요♥\\n- 주활동지역 광교/판교\\n- 3월 푸꾸옥 여행예정\\n수요일에는 쇼핑 콘텐츠\\n금요일에는 여행 콘텐츠\\n* 협업문의\\nkimsso333@naver.com\\nSince 2012\\n이 블로그\\n[블챌] 체크인 챌린지\\n카테고리 글\\n카테고리\\n이 블로그\\n[블챌] 체크인 챌린지\\n카테고리 글 배낭도 있공\\n\\u200b\\n\\u200b\\n\\u200b\\n\\u200b\\n매장 전반적인 느낌은 이렇게 깔-끔-\\n\\u200b\\n\\u200b\\n\\u200b\\n\\u200b\\n여름을 맞이한 컵과 인형들 ❤️\\n라이언 얼음과 아이스크림틀과\\n\\u200b\\n\\u200b\\n\\u200b\\n\\u200b\\n쏘큐트한 춘식이 포토존!\\n'}, {'url': 'https://m.blog.naver.com/celina_827/222924602339', 'content': '너무 귀여운 카카오 속 세상이예요ㅠㅠ\\n\\u200b\\n경기도 성남시 분당구 판교역로 166\\n💬카카오프렌즈샵 아지트점은\\n판교역 1번 출구, 4번 출구를 이용하셔도 되고,\\n지하통로로도 연결되어있으니 참고 하세요!\\n\\u200b\\n💬영업시간\\n월 -금 10 : 00 ~ 21 : 00\\n토 - 일 12 : 00 ~ 20 : 00\\n\\u200b\\n\\u200b\\n소소한 episode가 있는 일상, 정보, 맛집을 포스팅하는 셀리나 입니다 ( ੭ ･ᴗ･ )੭\\n이 블로그\\nPANGYO LIFE\\n카테고리 글\\n카테고리\\n이 블로그\\nPANGYO LIFE\\n카테고리 글 \\u200b\\n근데 저 손잡은 춘식이 너무 귀여운거 아니냐구요 ㅠㅠ\\n크리스마스 맞이 산타 라이언🎄\\n폭신한 라이언 바디 필로우 사고싶지만\\n99.000원💸\\n핳 너무 비싸당 ㅎㅎㅎㅎ\\n아이패드파우치, 폰 거치대, 에어팟케이스 많지만\\n전...ㅎ 마우스 패드 살까 말까 고민 엄청했어요\\n\\u200b\\n근데 과연 사이즈가 괜찮을까 싶고...\\n근데 너무 귀엽다...\\n(ﾉ◕ヮ◕)ﾉ\\n\\u200b\\n그리고 카카오 프렌즈샵에\\n차량 아이템이 생각보다 많아서 놀랬어요!\\n피규어가 들어가있어서 그런지\\n주차번호판도 비싸다 ㅎㅎㅎ\\n차량 내부 송풍다는 송풍구 방향제!!\\n \\u200b\\n이걸 대체 어디다 써?싶었지만\\n요즘 정말 젊은 사람들도 골프를 많이 치니까\\n채를 보호하는 커버나 보호대같은걸 귀여운 캐릭터로\\n사는 사람이 있겠구나 싶더라구요🫣\\n골프용품이 있는곳에 있는 이 인형들은\\n도대체 어디다 쓰는거지 싶었는데\\n\\u200b\\n요렇게 쓰더라구요 ᕙ༼◕ ᴥ ◕༽ᕗ\\n👇🏻👇🏻\\n아니 이러면 커버 뚜껑은 어케 잠그지....?\\n 🔖혀땳은앙꼬\\n\\u200b\\n앙꼬 이모티콘을 너무 좋아해서 사서 쓰곤 했는데\\n이렇게 캐릭터 굿즈가 나오다니\\n너무 반갑더라구요 😍😍\\n스티커는 진작 품절이더라구요◡̈\\n역시 앙꼬는 귀여운 아이였어 ∑ദ്ദി˙◡･)\\n\\u200b\\n🔖인스타에서 핫하다는 목욕하는 춘식이◡̈\\n지금 카카오 프랜즈들의 대세는 춘식이인가봐요.\\n 🔖소주디스펜서죠르디 39,000원\\n🔖전동와인오프너치얼스라이언\\n23,000원\\n🔖라이언크리미맥주거품기 29,000원\\n🔖턴테이블 스피커\\n55,000원\\n여긴 스텐드들의 집합?💡\\n캬아 춘식이 피큐어예요!!!\\n'}, {'url': 'https://sshong.kr/1641', 'content': '카카오본사가 있는 판교역의 판교아지트 건물 1층에 카카오프렌즈샵이 오픈했다. 크루 대상으로 20% 할인이 가능하다. 크루가 할인받을 수 있는 오프라인매장이 큰게 별로 없었던 것 같은데.. 여긴 본사 건물 내에 있는 매장이라 그런지 꽤 크게 잘 만들어놨다. 층고가 높은 편이라 매장이 ...'}]\u001b[0m\u001b[32;1m\u001b[1;3m판교 카카오 프렌즈샵 아지트점의 전화번호는 **031-601-7225**입니다. \n",
      "\n",
      "주소는 경기도 성남시 분당구 판교역로 166입니다.\u001b[0m\n",
      "\n",
      "\u001b[1m> Finished chain.\u001b[0m\n",
      "답변: 판교 카카오 프렌즈샵 아지트점의 전화번호는 **031-601-7225**입니다. \n",
      "\n",
      "주소는 경기도 성남시 분당구 판교역로 166입니다.\n"
     ]
    }
   ],
   "source": [
    "# 검색 결과를 요청 후 질문에 대한 답변을 출력합니다.\n",
    "# tools에서 search로 들어간것이다.\n",
    "response = agent_executor.invoke(\n",
    "    {\"input\": \"판교 카카오 프렌즈샵 아지트점의 전화번호를 검색하여 결과를 알려주세요.\"}\n",
    ")\n",
    "print(f'답변: {response[\"output\"]}')"
   ]
  },
  {
   "cell_type": "markdown",
   "metadata": {},
   "source": [
    "### 메모리 추가하기\n",
    "앞서 언급했듯이, 이 에이전트는 상태가 없습니다. 이는 이전 상호작용을 기억하지 않는다는 것을 의미합니다. 이에게 메모리를 부여하기 위해서는 이전 `chat_history`를 전달해야 합니다.\n",
    "\n",
    "**[참고]**\n",
    "\n",
    "우리가 사용하는 프롬프트 때문에 `chat_history`라고 불러야 합니다. 다른 프롬프트를 사용한다면 변수 이름을 변경할 수 있습니다.\n",
    "\n",
    "함수는 사용자의 입력(`input`)과 채팅 기록(`chat_history`)을 매개변수로 받습니다. 여기서, chat_history는 채팅의 첫 번째 메시지를 처리할 때 빈 리스트([])로 전달됩니다. 이는 채팅 세션을 시작할 때 기존의 대화 기록이 없음을 나타냅니다.\n",
    "\n",
    "langchain_core.messages에서 AIMessage와 HumanMessage 클래스를 가져옵니다. AI와 인간 간의 메시지 교환을 처리하는 데 사용될 수 있습니다.\n",
    "\n",
    "AIMessage는 AI가 생성한 메시지를 나타내며, HumanMessage는 사용자가 입력한 메시지를 나타냅니다.\n",
    "\n",
    "RunnableWithMessageHistory 클래스는 에이전트 실행자(agent_executor)와 메시지 기록을 관리합니다. 이 클래스는 세션 ID를 기반으로 메시지 기록을 처리하는 람다 함수와, 입력 메시지 및 채팅 기록의 키를 인자로 받습니다. 여기서 세션 ID는 실제로 사용되지 않으며, 단순한 메모리 내 ChatMessageHistory를 사용하는 예시입니다.\n",
    "\n",
    "기본적으로 실행 가능 항목은 문자열인 session_id라는 단일 구성 매개변수를 받습니다. 이 매개변수는 주어진 session_id와 일치하는 새 채팅 메시지 기록을 만들거나 기존 채팅 메시지 기록을 조회하는 데 사용됩니다.\n",
    "\n",
    "이 경우 호출은 다음과 같습니다.\n",
    "\n",
    "`with_history.invoke(..., config={\"configurable\": {\"session_id\": \"bar\"}})`\n",
    "\n",
    "예: `{\"configurable\": {\"session_id\": \"<세션_id>\"}}`"
   ]
  },
  {
   "cell_type": "code",
   "execution_count": 25,
   "metadata": {},
   "outputs": [
    {
     "name": "stdout",
     "output_type": "stream",
     "text": [
      "\n",
      "\n",
      "\u001b[1m> Entering new AgentExecutor chain...\u001b[0m\n",
      "\u001b[32;1m\u001b[1;3mHi Teddy! It's great to meet you too. How can I assist you today?\u001b[0m\n",
      "\n",
      "\u001b[1m> Finished chain.\u001b[0m\n",
      "답변: Hi Teddy! It's great to meet you too. How can I assist you today?\n"
     ]
    }
   ],
   "source": [
    "# 채팅의 첫 번째 메시지이므로 chat_history에 빈 리스트를 전달합니다.\n",
    "response = agent_executor.invoke(\n",
    "    {\"input\": \"Hi! I'm Teddy. Glad to meet you.\", \"chat_history\": []}\n",
    ")\n",
    "print(f'답변: {response[\"output\"]}')"
   ]
  },
  {
   "cell_type": "code",
   "execution_count": 27,
   "metadata": {},
   "outputs": [],
   "source": [
    "# ChatMessageHistory 클래스의 인스턴스를 생성하여 message_history 변수에 할당합니다. 이 인스턴스는 채팅 메시지의 기록을 관리하는 데 사용됩니다\n",
    "from langchain_community.chat_message_histories import ChatMessageHistory\n",
    "from langchain_core.runnables.history import RunnableWithMessageHistory\n",
    "\n",
    "message_history = ChatMessageHistory()"
   ]
  },
  {
   "cell_type": "code",
   "execution_count": 28,
   "metadata": {},
   "outputs": [],
   "source": [
    "# 대부분의 실제 시나리오에서 세션 ID가 필요하기 때문에 이것이 필요합니다\n",
    "# 여기서는 간단한 메모리 내 ChatMessageHistory를 사용하기 때문에 실제로 사용되지 않습니다\n",
    "agent_with_chat_history = RunnableWithMessageHistory(\n",
    "    agent_executor,\n",
    "    lambda session_id: message_history,\n",
    "    input_messages_key=\"input\",\n",
    "    history_messages_key=\"chat_history\"\n",
    ")"
   ]
  },
  {
   "cell_type": "markdown",
   "metadata": {},
   "source": [
    "agent_with_chat_history.invoke 함수는 사용자 입력과 설정을 인자로 받아 처리합니다. 이 예제에서는 사용자의 입력(\"hi! I'm bob\")과 설정(config)을 전달합니다. 설정에는 session_id가 포함되어 있으나, 이는 간단한 메모리 내 ChatMessageHistory를 사용하는 예제이므로 실제로는 사용되지 않습니다. 이 코드는 대부분의 실제 상황에서 세션 ID가 필요함을 보여주지만, 특정 구현에서는 그렇지 않을 수 있음을 보여줍니다."
   ]
  },
  {
   "cell_type": "code",
   "execution_count": 29,
   "metadata": {},
   "outputs": [
    {
     "name": "stdout",
     "output_type": "stream",
     "text": [
      "\n",
      "\n",
      "\u001b[1m> Entering new AgentExecutor chain...\u001b[0m\n",
      "\u001b[32;1m\u001b[1;3m안녕하세요, 재호님! 만나서 반갑습니다. 어떻게 도와드릴까요?\u001b[0m\n",
      "\n",
      "\u001b[1m> Finished chain.\u001b[0m\n",
      "답변: 안녕하세요, 재호님! 만나서 반갑습니다. 어떻게 도와드릴까요?\n"
     ]
    }
   ],
   "source": [
    "response = agent_with_chat_history.invoke(\n",
    "    {\"input\": \"안녕 나는 재호야. 만나서 반가워\"},\n",
    "    # 세션 ID를 설정합니다.\n",
    "    # 여기서는 간단한 메모리 내 ChatMessageHistory를 사용하기 때문에 실제로 사용되지 않습니다\n",
    "    config={\"configurable\": {\"session_id\": \"MyTestSessionID\"}},\n",
    ")\n",
    "print(f\"답변: {response['output']}\")"
   ]
  },
  {
   "cell_type": "markdown",
   "metadata": {},
   "source": [
    "이 함수 호출은 agent_with_chat_history 객체를 사용하여 입력된 질문에 대한 응답을 생성합니다. 입력은 input 키를 통해 제공되며, 여기서는 \"what's my name?\"이 사용됩니다. 또한, config 매개변수를 통해 추가 설정을 제공할 수 있으며, 이 예제에서는 session_id를 <foo>로 설정합니다. 이는 대부분의 실제 시나리오에서 세션 ID가 필요하지만, 이 경우 간단한 메모리 내 ChatMessageHistory를 사용하기 때문에 실제로는 사용되지 않음을 나타냅니다."
   ]
  },
  {
   "cell_type": "code",
   "execution_count": 30,
   "metadata": {},
   "outputs": [
    {
     "name": "stdout",
     "output_type": "stream",
     "text": [
      "\n",
      "\n",
      "\u001b[1m> Entering new AgentExecutor chain...\u001b[0m\n",
      "\u001b[32;1m\u001b[1;3m당신의 이름은 재호입니다!\u001b[0m\n",
      "\n",
      "\u001b[1m> Finished chain.\u001b[0m\n",
      "답변: 당신의 이름은 재호입니다!\n"
     ]
    }
   ],
   "source": [
    "response = agent_with_chat_history.invoke(\n",
    "    {\"input\": \"내 이름이 뭐야?\"},\n",
    "    # 세션 ID를 설정합니다.\n",
    "    # 여기서는 간단한 메모리 내 ChatMessageHistory를 사용하기 때문에 실제로 사용되지 않습니다\n",
    "    config={\"configurable\": {\"session_id\": \"MyTestSessionID\"}},\n",
    ")\n",
    "print(f\"답변: {response['output']}\")"
   ]
  },
  {
   "cell_type": "code",
   "execution_count": 31,
   "metadata": {},
   "outputs": [
    {
     "name": "stdout",
     "output_type": "stream",
     "text": [
      "\n",
      "\n",
      "\u001b[1m> Entering new AgentExecutor chain...\u001b[0m\n",
      "\u001b[32;1m\u001b[1;3m\n",
      "Invoking: `tavily_search_results_json` with `{'query': '판교 카카오 프렌즈샵 아지트점 전화번호'}`\n",
      "\n",
      "\n",
      "\u001b[0m\u001b[36;1m\u001b[1;3m[{'url': 'https://blog.naver.com/PostView.naver?blogId=amour1115&logNo=223386213560', 'content': '카카오 프렌즈샵 판교 카카오 아지트점 후기: 판교역 카카오 본사 1층 귀여운 거 다 모인 대장 프렌즈샵 다녀왔어요☆ ... 카카오프렌즈 판교아지트점. 경기도 성남시 분당구 판교역로 166 카카오판교아지트 1층 카카오프렌즈 ...'}, {'url': 'https://blog.naver.com/PostView.naver?blogId=0_0hy&logNo=222982732699', 'content': '새해 목표 예쁜 쓰레기 구매하지 않기 잘 실천중\\n춘식이가 쓰레기라는건 아니지만^__ㅠ\\n\\u200b\\n바라만봐도 행복해진다\\n\\u200b\\n애견용품까지 춘식이 버전ㅋㅋㅋㅋㅋㅋㅋㅋ\\n\\u200b\\n♥ ♥ ♥\\n\\u200b\\n\\u200b\\n\\u200b\\n\\u200b\\n2m 대왕 춘식이랑 ~~♥\\n\\u200b\\n진짜 사려다가 참았다 .\\n \\u200b\\n\\u200b\\n춘식이 랜덤 피규어 ♥\\n카카오프렌즈 최애 캐릭터가 춘식이라 보자마자 구매해야 겠다고 생각했다\\n\\u200b\\n\\u200b\\n젤 갖고싶었던 만년달력.. 가격은 사악 그잡채\\n\\u200b\\n춘식이 x 최고심 콜라보 *__*\\n\\u200b\\n\\u200b\\n두번째로 좋아하는 죠르디\\n앉은모습 졸귀야 ..\\n 갖고 싶단 말이지\\n\\u200b\\n\\u200b\\n에어팟 꽂은 라이언ㅋㅋㅋㅋㅋㅋㅋㅋㅋㅋㅋㅋㅋ\\n\\u200b\\n\\u200b\\n춘식러버는 춘식이 천국이라 행복\\n\\u200b\\n\\u200b\\n\\u200b\\n랜드마크 브릭피규어\\n우리나라 랜드마크도 출시 예정이라고 하던데 언제 나오는지..?\\n \\u200b\\n\\u200b\\n\\u200b\\n\\u200b\\n카카오프렌즈 판교아지트점\\n경기 성남시 분당구 판교역로 166 카카오판교아지트 1층 카카오프렌즈\\n평일 10:00 - 21:00, 토일 12:00 - 20:00\\n031-601-7225\\n판교 카카오 본사 건물 1층에 있음 !\\n \\u200b\\n\\u200b\\n\\u200b\\n\\u200b\\n\\u200b\\n\\u200b\\n\\u200b\\n앙꼬 / 루피 / 무직타이거 까지 !!\\n'}, {'url': 'https://blog.naver.com/PostView.naver?blogId=astagram123&logNo=223185872381&noTrackingCode=true', 'content': '๑ 카카오프렌즈 판교아지트점 ๑ ♡ 위치 : 성남시 분당구 판교역로 116 카카오판교아지트 1층 카카오프렌...'}, {'url': 'https://m.blog.naver.com/celina_827/222924602339', 'content': '너무 귀여운 카카오 속 세상이예요ㅠㅠ\\n\\u200b\\n경기도 성남시 분당구 판교역로 166\\n💬카카오프렌즈샵 아지트점은\\n판교역 1번 출구, 4번 출구를 이용하셔도 되고,\\n지하통로로도 연결되어있으니 참고 하세요!\\n\\u200b\\n💬영업시간\\n월 -금 10 : 00 ~ 21 : 00\\n토 - 일 12 : 00 ~ 20 : 00\\n\\u200b\\n\\u200b\\n소소한 episode가 있는 일상, 정보, 맛집을 포스팅하는 셀리나 입니다 ( ੭ ･ᴗ･ )੭\\n이 블로그\\nPANGYO LIFE\\n카테고리 글\\n카테고리\\n이 블로그\\nPANGYO LIFE\\n카테고리 글 \\u200b\\n근데 저 손잡은 춘식이 너무 귀여운거 아니냐구요 ㅠㅠ\\n크리스마스 맞이 산타 라이언🎄\\n폭신한 라이언 바디 필로우 사고싶지만\\n99.000원💸\\n핳 너무 비싸당 ㅎㅎㅎㅎ\\n아이패드파우치, 폰 거치대, 에어팟케이스 많지만\\n전...ㅎ 마우스 패드 살까 말까 고민 엄청했어요\\n\\u200b\\n근데 과연 사이즈가 괜찮을까 싶고...\\n근데 너무 귀엽다...\\n(ﾉ◕ヮ◕)ﾉ\\n\\u200b\\n그리고 카카오 프렌즈샵에\\n차량 아이템이 생각보다 많아서 놀랬어요!\\n피규어가 들어가있어서 그런지\\n주차번호판도 비싸다 ㅎㅎㅎ\\n차량 내부 송풍다는 송풍구 방향제!!\\n \\u200b\\n이걸 대체 어디다 써?싶었지만\\n요즘 정말 젊은 사람들도 골프를 많이 치니까\\n채를 보호하는 커버나 보호대같은걸 귀여운 캐릭터로\\n사는 사람이 있겠구나 싶더라구요🫣\\n골프용품이 있는곳에 있는 이 인형들은\\n도대체 어디다 쓰는거지 싶었는데\\n\\u200b\\n요렇게 쓰더라구요 ᕙ༼◕ ᴥ ◕༽ᕗ\\n👇🏻👇🏻\\n아니 이러면 커버 뚜껑은 어케 잠그지....?\\n 🔖혀땳은앙꼬\\n\\u200b\\n앙꼬 이모티콘을 너무 좋아해서 사서 쓰곤 했는데\\n이렇게 캐릭터 굿즈가 나오다니\\n너무 반갑더라구요 😍😍\\n스티커는 진작 품절이더라구요◡̈\\n역시 앙꼬는 귀여운 아이였어 ∑ദ്ദി˙◡･)\\n\\u200b\\n🔖인스타에서 핫하다는 목욕하는 춘식이◡̈\\n지금 카카오 프랜즈들의 대세는 춘식이인가봐요.\\n 🔖소주디스펜서죠르디 39,000원\\n🔖전동와인오프너치얼스라이언\\n23,000원\\n🔖라이언크리미맥주거품기 29,000원\\n🔖턴테이블 스피커\\n55,000원\\n여긴 스텐드들의 집합?💡\\n캬아 춘식이 피큐어예요!!!\\n'}, {'url': 'https://m.blog.naver.com/bej214/223333437620', 'content': '물총, 수건, 유리컵, 카카오 방향제, 다이어리 등 선물용으로도 좋아 보였어요. 판교 가게 되시면 실내데이트 장소로. 카카오 건물 1층에 있는 카카오프렌즈 판교 아지트점. 방문해 보시면 시간 순삭 하는 경험을 하시게 될 듯합니다. 귀여운 매장이라 추천합니다.'}]\u001b[0m\u001b[32;1m\u001b[1;3m판교 카카오 프렌즈샵 아지트점의 전화번호는 **031-601-7225**입니다. 매장은 경기도 성남시 분당구 판교역로 166 카카오판교아지트 1층에 위치해 있습니다. 운영 시간은 평일 10:00 - 21:00, 토요일과 일요일은 12:00 - 20:00입니다.\u001b[0m\n",
      "\n",
      "\u001b[1m> Finished chain.\u001b[0m\n",
      "답변: 판교 카카오 프렌즈샵 아지트점의 전화번호는 **031-601-7225**입니다. 매장은 경기도 성남시 분당구 판교역로 166 카카오판교아지트 1층에 위치해 있습니다. 운영 시간은 평일 10:00 - 21:00, 토요일과 일요일은 12:00 - 20:00입니다.\n"
     ]
    }
   ],
   "source": [
    "response = agent_with_chat_history.invoke(\n",
    "    {\"input\": \"판교 카카오 프렌즈샵 아지트점의 전화번호를 검색하여 결과를 알려주세요.\"},\n",
    "    # 세션 ID를 설정합니다.\n",
    "    # 여기서는 간단한 메모리 내 ChatMessageHistory를 사용하기 때문에 실제로 사용되지 않습니다\n",
    "    config={\"configurable\": {\"session_id\": \"MyTestSessionID\"}},\n",
    ")\n",
    "print(f\"답변: {response['output']}\")"
   ]
  },
  {
   "cell_type": "code",
   "execution_count": 32,
   "metadata": {},
   "outputs": [
    {
     "name": "stdout",
     "output_type": "stream",
     "text": [
      "\n",
      "\n",
      "\u001b[1m> Entering new AgentExecutor chain...\u001b[0m\n",
      "\u001b[32;1m\u001b[1;3m\n",
      "Invoking: `pdf_search` with `{'query': 'YouTube 2024년부터 AI 생성콘텐츠 표시 의무화'}`\n",
      "\n",
      "\n",
      "\u001b[0m\u001b[33;1m\u001b[1;3mSPRi AI Brief |  \n",
      "2023-12 월호\n",
      "14유튜브 , 2024년부터 AI 생성 콘텐츠 표시 의무화 \n",
      "n유튜브가 몇 달 안에 생성 AI를 사용한 콘텐츠에 AI 라벨 표시를 의무화하기로 했으며 , 이를 \n",
      "준수하지 않는 콘텐츠는 삭제하고 크리에이터에 대한 수익 배분도 중단할 수 있다고 설명\n",
      "n유튜브는 AI 생성 콘텐츠가 신원 파악이 가능한 개인을 모방한 경우 개인정보 침해 신고 \n",
      "절차에 따라 콘텐츠 삭제 요청도 받을 계획KEY Contents\n",
      "£유튜브 , 생성 AI 콘텐츠에 AI 라벨 표시 안 하면 콘텐츠 삭제\n",
      "n유튜브가 2023 년 11월 14일 공식 블로그를 통해 몇 달 안에 생성 AI를 사용한 콘텐츠에 AI \n",
      "라벨을 표시하는 새로운 규칙을 시행한다고 발표 \n",
      "∙실제로 일어나지 않은 사건을 사실적으로 묘사하거나 실제로 하지 않은 말이나 행동을 보여주는 콘텐츠와 \n",
      "같이 AI 도구를 사용해 사실적으로 변경되거나 합성된 콘텐츠에는 AI 라벨을 표시 필요\n",
      "∙유튜브는 이러한 규칙이 선거나 분쟁 상황, 공중 보건, 공직자 관련 문제와 같이 민감한 주제를 다루는 \n",
      "콘텐츠에서 특히 중요하다고 강조했으며 , 크리에이터가 AI로 제작한 콘텐츠에 AI 라벨을 표시하지 않으면 \n",
      "해당 콘텐츠는 삭제되고 광고 수익을 배분하는 유튜브 파트너 프로그램도 정지될 수 있음\n",
      "∙유튜브는 두 가지 방식으로 AI를 이용한 콘텐츠의 변경이나 합성 여부를 시청자에게 전달할 계획으로 \n",
      "동영상 설명 패널에 라벨을 표시하는 방식이 기본이며 , 민감한 주제를 다루는 특정 유형의 콘텐츠는 동영상 \n",
      "플레이어에 더욱 눈에 띄는 라벨을 적용 \n",
      "∙유튜브는 커뮤니티 정책에 위반되는 일부 합성 콘텐츠에 대해서는 라벨 지정 여부와 관계없이 삭제할 \n",
      "방침으로 , 가령 사실적인 폭력을 보여주는 합성 동영상이 시청자에게 충격이나 혐오감을 줄 수 있다면 \n",
      "삭제될 수 있음\n",
      "£유튜브 , 특정인을 모방한 AI 생성 콘텐츠에 대한 삭제 요청에도 대응 계획\n",
      "\n",
      "£유튜브 , 특정인을 모방한 AI 생성 콘텐츠에 대한 삭제 요청에도 대응 계획\n",
      "n유튜브는 몇 달 내에 신원 파악이 가능한 개인의 얼굴이나 음성을 모방한 AI 생성 콘텐츠에 대하\n",
      "여 개인정보 침해 신고 절차를 마련해 삭제 요청을 받을 계획  \n",
      "∙단, 모든 콘텐츠가 삭제 대상은 아니며 유튜브는 콘텐츠가 패러디나 풍자인지 , 해당 영상에서 삭제 요청을 \n",
      "한 특정인을 식별할 수 있는지 , 공직자나 유명인이 등장하는지 등 다양한 요소를 고려할 예정\n",
      "∙유튜브는 음반사가 아티스트의 고유한 노래나 목소리를 모방한 AI 생성 음악에 대하여 삭제를 요청할 수 \n",
      "있는 기능도 도입할 방침\n",
      "☞ 출처 : Youtube, Our approach to responsible AI innovation, 2023.11.14.\n",
      "\n",
      "▹ IDC, 2027 년 AI 소프트웨어 매출 2,500 억 달러 돌파 전망··········································· 12\n",
      "   ▹ 빌 게이츠 , AI 에이전트로 인한 컴퓨터 사용의 패러다임 변화 전망································ 13\n",
      "   ▹ 유튜브 , 2024 년부터 AI 생성 콘텐츠 표시 의무화 ···························································· 14\n",
      " 3. 기술/연구\n",
      "   ▹ 영국 과학혁신기술부 , AI 안전 연구소 설립 발표······························································ 15\n",
      "   ▹ 구글 딥마인드 , 범용 AI 모델의 기능과 동작에 대한 분류 체계 발표······························ 16\n",
      "   ▹ 갈릴레오의 LLM 환각 지수 평가에서 GPT-4 가 가장 우수 ··········································· 17\n",
      "   \n",
      " 4. 인력/교육     \n",
      "   ▹ 영국 옥스퍼드 인터넷 연구소 , AI 기술자의 임금이 평균 21% 높아······························· 18\n",
      "   \n",
      "   \n",
      " \n",
      "Ⅱ. 주요 행사\n",
      "   ▹CES 2024 ····························································································································· 19\n",
      "   ▹AIMLA 2024 ························································································································· 19\n",
      "\n",
      "보장하고 책임성을 강화\n",
      "∙산업계 , 정부, 시민사회 , 학계를 포함해 첨단 AI 시스템을 개발하는 조직 간 정보공유와 사고 발생 시 \n",
      "신고를 위해 협력하고 , 위험 기반 접근방식을 토대로 개인정보보호 정책과 위험 완화 조치를 포함하는 \n",
      "AI 거버넌스와 위험 관리 정책을 마련\n",
      "∙AI 수명주기 전반에 걸쳐 물리보안 , 사이버보안 , 내부자 위협 보안을 포함한 강력한 보안 통제 구현\n",
      "∙사용자가 AI 생성 콘텐츠를 식별할 수 있도록 워터마크를 비롯하여 기술적으로 가능한 기법으로 \n",
      "신뢰할 수 있는 콘텐츠 인증과 출처 확인 메커니즘을 개발 및 구축 \n",
      "∙사회적 위험과 안전·보안 문제를 완화하는 연구와 효과적인 완화 대책에 우선 투자하고 , 기후 위기 \n",
      "대응, 세계 보건과 교육 등 세계적 난제 해결을 위한 첨단 AI 시스템을 우선 개발\n",
      "∙국제 기술 표준의 개발 및 채택을 가속화하고 , 개인정보와 지식재산권 보호를 위해 데이터 입력과 수집 \n",
      "시 적절한 보호 장치 구현\n",
      "☞ 출처: G7, Hiroshima Process International Code of Conduct for Advanced AI Systems, 2023.10.30.\u001b[0m\u001b[32;1m\u001b[1;3mYouTube는 2024년부터 생성 AI를 사용한 콘텐츠에 대해 AI 라벨을 표시하는 것을 의무화할 계획입니다. 이 규칙은 2023년 11월 14일 공식 블로그를 통해 발표되었으며, AI 도구를 사용해 사실적으로 변경되거나 합성된 콘텐츠에 적용됩니다. \n",
      "\n",
      "주요 내용은 다음과 같습니다:\n",
      "\n",
      "1. **AI 라벨 표시 의무화**: AI로 생성된 콘텐츠는 반드시 AI 라벨을 표시해야 하며, 이를 준수하지 않을 경우 해당 콘텐츠는 삭제될 수 있습니다. 또한, 유튜브 파트너 프로그램의 광고 수익 배분도 중단될 수 있습니다.\n",
      "\n",
      "2. **민감한 주제에 대한 중요성**: 유튜브는 선거, 공중 보건, 공직자 관련 문제와 같은 민감한 주제를 다루는 콘텐츠에서 AI 라벨의 중요성을 강조하고 있습니다.\n",
      "\n",
      "3. **삭제 요청 절차**: 신원 파악이 가능한 개인을 모방한 AI 생성 콘텐츠에 대해서는 개인정보 침해 신고 절차를 마련하여 삭제 요청을 받을 계획입니다. \n",
      "\n",
      "4. **특정 콘텐츠 삭제 기준**: 유튜브는 사실적인 폭력을 보여주는 합성 동영상과 같은 커뮤니티 정책에 위반되는 콘텐츠는 라벨과 관계없이 삭제할 수 있습니다.\n",
      "\n",
      "이러한 조치는 AI 생성 콘텐츠의 투명성을 높이고, 사용자에게 신뢰할 수 있는 정보를 제공하기 위한 노력의 일환으로 볼 수 있습니다.\u001b[0m\n",
      "\n",
      "\u001b[1m> Finished chain.\u001b[0m\n",
      "답변: YouTube는 2024년부터 생성 AI를 사용한 콘텐츠에 대해 AI 라벨을 표시하는 것을 의무화할 계획입니다. 이 규칙은 2023년 11월 14일 공식 블로그를 통해 발표되었으며, AI 도구를 사용해 사실적으로 변경되거나 합성된 콘텐츠에 적용됩니다. \n",
      "\n",
      "주요 내용은 다음과 같습니다:\n",
      "\n",
      "1. **AI 라벨 표시 의무화**: AI로 생성된 콘텐츠는 반드시 AI 라벨을 표시해야 하며, 이를 준수하지 않을 경우 해당 콘텐츠는 삭제될 수 있습니다. 또한, 유튜브 파트너 프로그램의 광고 수익 배분도 중단될 수 있습니다.\n",
      "\n",
      "2. **민감한 주제에 대한 중요성**: 유튜브는 선거, 공중 보건, 공직자 관련 문제와 같은 민감한 주제를 다루는 콘텐츠에서 AI 라벨의 중요성을 강조하고 있습니다.\n",
      "\n",
      "3. **삭제 요청 절차**: 신원 파악이 가능한 개인을 모방한 AI 생성 콘텐츠에 대해서는 개인정보 침해 신고 절차를 마련하여 삭제 요청을 받을 계획입니다. \n",
      "\n",
      "4. **특정 콘텐츠 삭제 기준**: 유튜브는 사실적인 폭력을 보여주는 합성 동영상과 같은 커뮤니티 정책에 위반되는 콘텐츠는 라벨과 관계없이 삭제할 수 있습니다.\n",
      "\n",
      "이러한 조치는 AI 생성 콘텐츠의 투명성을 높이고, 사용자에게 신뢰할 수 있는 정보를 제공하기 위한 노력의 일환으로 볼 수 있습니다.\n"
     ]
    }
   ],
   "source": [
    "response = agent_with_chat_history.invoke(\n",
    "    {\n",
    "        \"input\": \"YouTube 2024년부터 AI 생성콘텐츠 표시 의무화에 대한 내용을 PDF 문서에서 알려줘\"\n",
    "    },\n",
    "    # 세션 ID를 설정합니다.\n",
    "    # 여기서는 간단한 메모리 내 ChatMessageHistory를 사용하기 때문에 실제로 사용되지 않습니다\n",
    "    config={\"configurable\": {\"session_id\": \"MyTestSessionID\"}},\n",
    ")\n",
    "print(f\"답변: {response['output']}\")"
   ]
  },
  {
   "cell_type": "code",
   "execution_count": null,
   "metadata": {},
   "outputs": [],
   "source": []
  }
 ],
 "metadata": {
  "kernelspec": {
   "display_name": "langchain-kr-gLkynrUQ-py3.11",
   "language": "python",
   "name": "python3"
  },
  "language_info": {
   "codemirror_mode": {
    "name": "ipython",
    "version": 3
   },
   "file_extension": ".py",
   "mimetype": "text/x-python",
   "name": "python",
   "nbconvert_exporter": "python",
   "pygments_lexer": "ipython3",
   "version": "3.11.9"
  }
 },
 "nbformat": 4,
 "nbformat_minor": 2
}
