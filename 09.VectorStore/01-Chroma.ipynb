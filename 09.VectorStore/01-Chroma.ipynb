{
 "cells": [
  {
   "cell_type": "markdown",
   "metadata": {},
   "source": [
    "# VectorStore 생성\n",
    "\n",
    "## 벡터 저장소 생성 (from_documents)\n",
    "\n",
    "`from_documents` 클래스 메서드는 문서 리스트로부터 벡터 저장소를 생성합니다.\n",
    "\n",
    "**매개변수**\n",
    "\n",
    "- documents (List[Document]): 벡터 저장소에 추가할 문서 리스트\n",
    "- embedding (Optional[Embeddings]): 임베딩 함수. 기본값은 None\n",
    "- ids (Optional[List[str]]): 문서 ID 리스트. 기본값은 None\n",
    "- collection_name (str): 생성할 컬렉션 이름.\n",
    "- persist_directory (Optional[str]): 컬렉션을 저장할 디렉토리. 기본값은 None\n",
    "- client_settings (Optional[chromadb.config.Settings]): Chroma 클라이언트 설정\n",
    "- client (Optional[chromadb.Client]): Chroma 클라이언트 인스턴스\n",
    "- collection_metadata (Optional[Dict]): 컬렉션 구성 정보. 기본값은 None\n",
    "\n",
    "**참고**\n",
    "\n",
    "- persist_directory가 지정되면 컬렉션이 해당 디렉토리에 저장됩니다. 지정되지 않으면 데이터는 메모리에 임시로 저장됩니다.\n",
    "- 이 메서드는 내부적으로 from_texts 메서드를 호출하여 벡터 저장소를 생성합니다.\n",
    "- 문서의 page_content는 텍스트로, metadata는 메타데이터로 사용됩니다.\n",
    "\n",
    "**반환값**\n",
    "\n",
    "- Chroma: 생성된 Chroma 벡터 저장소 인스턴스\n",
    "생성시 documents 매개변수로 Document 리스트를 전달합니다. embedding 에 활용할 임베딩 모델을 지정하며, namespace 의 역할을 하는 collection_name 을 지정할 수 있습니다"
   ]
  },
  {
   "cell_type": "markdown",
   "metadata": {},
   "source": []
  }
 ],
 "metadata": {
  "language_info": {
   "name": "python"
  }
 },
 "nbformat": 4,
 "nbformat_minor": 2
}
