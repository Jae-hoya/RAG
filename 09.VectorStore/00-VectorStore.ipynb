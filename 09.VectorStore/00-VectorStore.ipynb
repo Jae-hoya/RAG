{
 "cells": [
  {
   "cell_type": "markdown",
   "metadata": {},
   "source": [
    "# VectorStore\n",
    "\n",
    "- 생성된 임베딩 벡터를 효율적으로 저장하고 관리하는 과정\n",
    "- 검색 과정에서 벡터들을 빠르게 조회하고, 관련 문서를 신속하게 찾아내는데 필수적.\n",
    "- 검색 과정에서 시멘틱서치는 지원하지만 키워드검색을 지원하는지? , 여러 검색 방법을 지원하는지가 중요\n",
    "\n",
    "# VectorDB의 필요성?\n",
    "- 빠른 검색속도\n",
    "- 스케일러빌리티\n",
    "- 의미검색. 벡터디비가 제공하는 알고리즘으로 검색을 하게됌.\n",
    "- local db의 한계가 있으므로 속도차원에서 클라우드 db가 좋다."
   ]
  }
 ],
 "metadata": {
  "language_info": {
   "name": "python"
  }
 },
 "nbformat": 4,
 "nbformat_minor": 2
}
