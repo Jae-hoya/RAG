{
 "cells": [
  {
   "cell_type": "markdown",
   "metadata": {
    "vscode": {
     "languageId": "plaintext"
    }
   },
   "source": [
    "# LangGraph 찍먹!\n",
    "\n",
    "LangGraph는 `에이전트` 및 `멀티에이전트 워크플로우` 를 만드는 데 사용되는 LLM으로 `상태 저장`, `멀티액터` 애플리케이션을 구축하기 위한 라이브러리입니다.\n",
    "\n",
    "다른 LLM 프레임워크와 비교할 때 `주기(Cycle)`, `제어 가능성`, `지속성` 이라는 핵심 이점을 제공합니다. LangGraph를 사용하면 대부분의 에이전트 아키텍처에 필수적인 `주기를 포함하는 플로우를 정의할 수 있어 DAG 기반 솔루션과 차별화` 됩니다.\n",
    "\n",
    "매우 낮은 수준의 프레임워크로서 애플리케이션의 `흐름과 상태를 모두 세밀하게 제어할 수 있어 안정적인 에이전트를 만드는 데 매우 중요` 합니다. 또한 LangGraph에는 지속성이 내장되어 있어 고급 휴먼 인 더 루프 및 메모리 기능을 사용할 수 있습니다.\n",
    "\n",
    "LangGraph는 Pregel과 Apache Beam에서 영감을 받았습니다. 공용 인터페이스는 NetworkX에서 영감을 얻었습니다. LangGraph는 LangChain을 개발한 LangChain Inc에서 구축했지만, LangChain 없이도 사용할 수 있습니다."
   ]
  },
  {
   "cell_type": "code",
   "execution_count": 1,
   "metadata": {},
   "outputs": [
    {
     "data": {
      "text/plain": [
       "True"
      ]
     },
     "execution_count": 1,
     "metadata": {},
     "output_type": "execute_result"
    }
   ],
   "source": [
    "from dotenv import load_dotenv\n",
    "load_dotenv()"
   ]
  },
  {
   "cell_type": "code",
   "execution_count": 2,
   "metadata": {},
   "outputs": [
    {
     "name": "stdout",
     "output_type": "stream",
     "text": [
      "LangSmith 추적을 시작합니다.\n",
      "[프로젝트명]\n",
      "CH17-LANGGRAPH\n"
     ]
    }
   ],
   "source": [
    "from langchain_teddynote import logging\n",
    "logging.langsmith(\"CH17-LANGGRAPH\")"
   ]
  },
  {
   "cell_type": "markdown",
   "metadata": {},
   "source": [
    "# 노드와 엣지\n",
    "주요 개념\n",
    "\n",
    "- `GraphState(상태 저장 그래프)`: LangGraph는 그래프의 각 노드가 계산의 단계를 나타내며, 그래프는 계산이 진행됨에 따라 전달되고 업데이트되는 상태를 유지하는 상태 저장 그래프 개념을 중심으로 작동합니다.\n",
    "- `Node(노드)`: 노드는 LangGraph의 구성 요소입니다. 각 노드는 함수 또는 계산 단계를 나타냅니다. 입력 처리, 의사 결정, 외부 API와의 상호 작용 등 특정 작업을 수행하도록 노드를 정의할 수 있습니다.\n",
    "- `Edge(엣지)`: 에지는 그래프에서 노드를 연결하여 계산의 흐름을 정의합니다. LangGraph는 조건부 에지를 지원하므로 그래프의 현재 상태에 따라 실행할 다음 노드를 동적으로 결정할 수 있습니다."
   ]
  },
  {
   "cell_type": "markdown",
   "metadata": {},
   "source": [
    "# StateGraph\n",
    "각 노드에서 다음 노드로 전달되는 상태를 저장"
   ]
  },
  {
   "cell_type": "code",
   "execution_count": 3,
   "metadata": {},
   "outputs": [],
   "source": [
    "from typing import TypedDict\n",
    "\n",
    "class GraphState(TypedDict):\n",
    "    goal: str # 목표\n",
    "    todo: list[str] # 할 일 목록\n",
    "    current_job: str # 현재 작업\n",
    "    total_time: int # 총 소요 시간\n",
    "    time_spent: int # 소요시간\n",
    "    status: str # 상태"
   ]
  },
  {
   "cell_type": "markdown",
   "metadata": {},
   "source": [
    "# Node & Edge"
   ]
  },
  {
   "cell_type": "code",
   "execution_count": 4,
   "metadata": {},
   "outputs": [],
   "source": [
    "# 목표 설정 node\n",
    "from langchain_openai import ChatOpenAI\n",
    "from langchain_core.prompts import ChatPromptTemplate\n",
    "from langchain_core.output_parsers import CommaSeparatedListOutputParser\n",
    "from rag.utils import format_task\n",
    "\n",
    "def create_todo_list(goal):\n",
    "    output_parser = CommaSeparatedListOutputParser()\n",
    "    prompt = ChatPromptTemplate.from_messages(\n",
    "        [\n",
    "            (\n",
    "                \"system\",\n",
    "                \"당신은 나의 할일을 관리하는 비서입니다. 당신의 임무는 나를 위하여 주어진 목표에 대하여 할일 목록을 작성하는 것입니다.\",\n",
    "            ),\n",
    "            (\n",
    "                \"human\",\n",
    "                \"\"\"주어진 목표(goal)를 잘 수행하기 위하여 할일 목록을 작성해 주세요. \n",
    "                `할일:걸리는시간(hour)` 으로 작성하세요. 걸리는 시간은 반올림하여 int 로 작성하세요.\n",
    "                \n",
    "                #목표: {goal}\n",
    "                \n",
    "                #형식: {format_instuctions}\n",
    "                \n",
    "                \"\"\"\n",
    "            )\n",
    "        ]\n",
    "    )\n",
    "    prompt = prompt.partial(format_instuctions = output_parser.get_format_instructions())\n",
    "    llm = ChatOpenAI(model=\"gpt-4o-mini\")\n",
    "    chain = prompt | llm | CommaSeparatedListOutputParser()\n",
    "\n",
    "    output = chain.invoke({\"goal\": goal})\n",
    "    return output"
   ]
  },
  {
   "cell_type": "code",
   "execution_count": 5,
   "metadata": {},
   "outputs": [
    {
     "data": {
      "text/plain": [
       "['튜토리얼 자료 찾기:2',\n",
       " '튜토리얼 읽기:4',\n",
       " '실습 환경 설정:1',\n",
       " '예제 코드 실행:3',\n",
       " 'RAG 개념 정리:2',\n",
       " '추가 자료 검색:2']"
      ]
     },
     "execution_count": 5,
     "metadata": {},
     "output_type": "execute_result"
    }
   ],
   "source": [
    "todo = create_todo_list(\"LangChain 튜토리얼로 RAG 공부하기\")\n",
    "todo"
   ]
  },
  {
   "cell_type": "markdown",
   "metadata": {},
   "source": [
    "### 각 노드의 세부 기능 정의"
   ]
  },
  {
   "cell_type": "code",
   "execution_count": 6,
   "metadata": {},
   "outputs": [],
   "source": [
    "# GraphState에서의 todo를 만들어주는 함수.\n",
    "def list_todo(state: GraphState) -> GraphState:\n",
    "    goal = state[\"goal\"]\n",
    "\n",
    "    # list작성 - 목표설정\n",
    "    todo = create_todo_list(goal)\n",
    "    \n",
    "    # 할일 목록을 포럼 - task와 시간을 나눔\n",
    "    todo = format_task(create_todo_list(todo))\n",
    "    return GraphState(todo=todo)"
   ]
  },
  {
   "cell_type": "code",
   "execution_count": 7,
   "metadata": {},
   "outputs": [],
   "source": [
    "# 처음 시작. list todo에서 정의한 todo를 가져온다.\n",
    "# pop() : # 리스트의 맨 마지막 요소를 리턴하고, 해당 요소는 삭제한다.. 따라서 pop(0)은 첫번째 요소를 리턴하고 제거한다.\n",
    "def start_job(state: GraphState) -> GraphState:\n",
    "    todo = state[\"todo\"]\n",
    "    if len(todo):\n",
    "        current_job, total_time = todo.pop(0)\n",
    "        status = \"진행중\"\n",
    "        time_spent = 0\n",
    "    return GraphState(\n",
    "        current_job=current_job,\n",
    "        total_time=total_time,\n",
    "        status=status,\n",
    "        time_spent=time_spent\n",
    "    )"
   ]
  },
  {
   "cell_type": "code",
   "execution_count": 8,
   "metadata": {},
   "outputs": [],
   "source": [
    "# 진행중\n",
    "def process_job(state: GraphState) -> GraphState:\n",
    "    time_spent = state[\"time_spent\"]\n",
    "    time_spent += 1\n",
    "\n",
    "    return GraphState(time_spent=time_spent)"
   ]
  },
  {
   "cell_type": "code",
   "execution_count": 9,
   "metadata": {},
   "outputs": [],
   "source": [
    "# 작업상태\n",
    "def check_progress(state: GraphState) -> GraphState:\n",
    "    if state[\"time_spent\"] >= state[\"total_time\"]:\n",
    "        status = \"다음 작업\"\n",
    "        if len(state[\"todo\"]) == 0:\n",
    "            status = \"종료\"\n",
    "    else:\n",
    "        status = \"진행중\"\n",
    "    return GraphState(status=status)"
   ]
  },
  {
   "cell_type": "code",
   "execution_count": 10,
   "metadata": {},
   "outputs": [],
   "source": [
    "# 다음 스텝\n",
    "def next_step(state: GraphState) -> GraphState:\n",
    "    return state[\"status\"]"
   ]
  },
  {
   "cell_type": "markdown",
   "metadata": {},
   "source": [
    "# 그래프 정의"
   ]
  },
  {
   "cell_type": "code",
   "execution_count": 17,
   "metadata": {},
   "outputs": [],
   "source": [
    "from langgraph.graph import START, END, StateGraph\n",
    "from langgraph.checkpoint.memory import MemorySaver\n",
    "\n",
    "# GraphState는 위에서 class로 정의함\n",
    "workflow = StateGraph(GraphState)\n",
    "\n",
    "# todo를 작성\n",
    "workflow.add_node(\"list_todo\", list_todo)\n",
    "\n",
    "# todo 작업 시작\n",
    "workflow.add_node(\"start_job\", start_job)\n",
    "\n",
    "# 작업을 진행\n",
    "workflow.add_node(\"process_job\", process_job)\n",
    "\n",
    "# 작업을 중간에 체크\n",
    "workflow.add_node(\"check_progress\", check_progress)\n",
    "\n",
    "# 각 노드들을 연결\n",
    "workflow.add_edge(\"list_todo\", \"start_job\")\n",
    "workflow.add_edge(\"start_job\", \"process_job\")\n",
    "workflow.add_edge(\"process_job\", \"check_progress\")\n",
    "\n",
    "# 조건부 edge\n",
    "workflow.add_conditional_edges(\n",
    "    \"check_progress\",\n",
    "    next_step,\n",
    "    {\n",
    "        \"진행중\" : \"process_job\",\n",
    "        \"다음 작업\": \"start_job\",\n",
    "        \"종료\": END\n",
    "    }\n",
    ")\n",
    "\n",
    "# 시작접을 설정\n",
    "workflow.set_entry_point(\"list_todo\")\n",
    "\n",
    "memory = MemorySaver()\n",
    "\n",
    "app = workflow.compile(checkpointer=memory)"
   ]
  },
  {
   "cell_type": "code",
   "execution_count": 18,
   "metadata": {},
   "outputs": [
    {
     "data": {
      "image/jpeg": "[encoded data removed]",
      "text/plain": [
       "<IPython.core.display.Image object>"
      ]
     },
     "metadata": {},
     "output_type": "display_data"
    }
   ],
   "source": [
    "from IPython.display import Image, display\n",
    "\n",
    "try:\n",
    "    display(\n",
    "        Image(app.get_graph(xray=True).draw_mermaid_png())\n",
    "    )  # 실행 가능한 객체의 그래프를 mermaid 형식의 PNG로 그려서 표시합니다. \n",
    "       # xray=True는 추가적인 세부 정보를 포함합니다.\n",
    "except:\n",
    "    # 이 부분은 추가적인 의존성이 필요하며 선택적으로 실행됩니다.\n",
    "    pass"
   ]
  },
  {
   "cell_type": "code",
   "execution_count": 19,
   "metadata": {},
   "outputs": [
    {
     "name": "stdout",
     "output_type": "stream",
     "text": [
      "'[NODE] list_todo'\n",
      "(\"<todo> [('자료 조사', 3), ('발표자료 구성', 2), ('슬라이드 디자인', 4), ('리허설', 2), ('피드백 \"\n",
      " \"반영', 1), ('최종 점검', 1)]\")\n",
      "'=============================='\n",
      "'[NODE] start_job'\n",
      "'<current_job> 자료 조사'\n",
      "'<total_time> 3'\n",
      "'<time_spent> 0'\n",
      "'<status> 진행중'\n",
      "'=============================='\n",
      "'[NODE] process_job'\n",
      "'<time_spent> 1'\n",
      "'=============================='\n",
      "'[NODE] check_progress'\n",
      "'<status> 진행중'\n",
      "'=============================='\n",
      "'[NODE] process_job'\n",
      "'<time_spent> 2'\n",
      "'=============================='\n",
      "'[NODE] check_progress'\n",
      "'<status> 진행중'\n",
      "'=============================='\n",
      "'[NODE] process_job'\n",
      "'<time_spent> 3'\n",
      "'=============================='\n",
      "'[NODE] check_progress'\n",
      "'<status> 다음 작업'\n",
      "'=============================='\n",
      "'[NODE] start_job'\n",
      "'<current_job> 발표자료 구성'\n",
      "'<total_time> 2'\n",
      "'<time_spent> 0'\n",
      "'<status> 진행중'\n",
      "'=============================='\n",
      "'[NODE] process_job'\n",
      "'<time_spent> 1'\n",
      "'=============================='\n",
      "'[NODE] check_progress'\n",
      "'<status> 진행중'\n",
      "'=============================='\n",
      "'[NODE] process_job'\n",
      "'<time_spent> 2'\n",
      "'=============================='\n",
      "'[NODE] check_progress'\n",
      "'<status> 다음 작업'\n",
      "'=============================='\n",
      "'[NODE] start_job'\n",
      "'<current_job> 슬라이드 디자인'\n",
      "'<total_time> 4'\n",
      "'<time_spent> 0'\n",
      "'<status> 진행중'\n",
      "'=============================='\n",
      "'[NODE] process_job'\n",
      "'<time_spent> 1'\n",
      "'=============================='\n",
      "'[NODE] check_progress'\n",
      "'<status> 진행중'\n",
      "'=============================='\n",
      "'[NODE] process_job'\n",
      "'<time_spent> 2'\n",
      "'=============================='\n",
      "'[NODE] check_progress'\n",
      "'<status> 진행중'\n",
      "'=============================='\n",
      "'[NODE] process_job'\n",
      "'<time_spent> 3'\n",
      "'=============================='\n",
      "'[NODE] check_progress'\n",
      "'<status> 진행중'\n",
      "'=============================='\n",
      "'[NODE] process_job'\n",
      "'<time_spent> 4'\n",
      "'=============================='\n",
      "'[NODE] check_progress'\n",
      "'<status> 다음 작업'\n",
      "'=============================='\n",
      "'[NODE] start_job'\n",
      "'<current_job> 리허설'\n",
      "'<total_time> 2'\n",
      "'<time_spent> 0'\n",
      "'<status> 진행중'\n",
      "'=============================='\n",
      "'[NODE] process_job'\n",
      "'<time_spent> 1'\n",
      "'=============================='\n",
      "'[NODE] check_progress'\n",
      "'<status> 진행중'\n",
      "'=============================='\n",
      "'[NODE] process_job'\n",
      "'<time_spent> 2'\n",
      "'=============================='\n",
      "'[NODE] check_progress'\n",
      "'<status> 다음 작업'\n",
      "'=============================='\n",
      "'[NODE] start_job'\n",
      "'<current_job> 피드백 반영'\n",
      "'<total_time> 1'\n",
      "'<time_spent> 0'\n",
      "'<status> 진행중'\n",
      "'=============================='\n",
      "'[NODE] process_job'\n",
      "'<time_spent> 1'\n",
      "'=============================='\n",
      "'[NODE] check_progress'\n",
      "'<status> 다음 작업'\n",
      "'=============================='\n",
      "'[NODE] start_job'\n",
      "'<current_job> 최종 점검'\n",
      "'<total_time> 1'\n",
      "'<time_spent> 0'\n",
      "'<status> 진행중'\n",
      "'=============================='\n",
      "'[NODE] process_job'\n",
      "'<time_spent> 1'\n",
      "'=============================='\n",
      "'[NODE] check_progress'\n",
      "'<status> 종료'\n",
      "'=============================='\n"
     ]
    }
   ],
   "source": [
    "import pprint\n",
    "from langgraph.errors import GraphRecursionError\n",
    "from langchain_core.runnables import RunnableConfig\n",
    "\n",
    "config = RunnableConfig(recursion_limit=100, configurable={\"thread_id\": \"TODO\"})\n",
    "\n",
    "# GraphState 객체를 활용하여 질문을 입력합니다.\n",
    "inputs = GraphState(goal=\"랭체인(LangChain) 밋업에서 발표자료를 준비하기\")\n",
    "\n",
    "# app.stream을 통해 입력된 메시지에 대한 출력을 스트리밍합니다.\n",
    "try:\n",
    "    for output in app.stream(inputs, config=config):\n",
    "        # 출력된 결과에서 키와 값을 순회합니다.\n",
    "        for key, value in output.items():\n",
    "            # 노드의 이름과 해당 노드에서 나온 출력을 출력합니다.\n",
    "            pprint.pprint(f\"[NODE] {key}\")\n",
    "            for k, v in value.items():\n",
    "                pprint.pprint(f\"<{k}> {v}\")\n",
    "            pprint.pprint(\"===\" * 10)\n",
    "            # 출력 값을 예쁘게 출력합니다.\n",
    "            # pprint.pprint(value, indent=2, width=80, depth=None)\n",
    "except GraphRecursionError as e:\n",
    "    pprint.pprint(f\"Recursion limit reached: {e}\")"
   ]
  },
  {
   "cell_type": "code",
   "execution_count": null,
   "metadata": {},
   "outputs": [],
   "source": []
  },
  {
   "cell_type": "code",
   "execution_count": null,
   "metadata": {},
   "outputs": [],
   "source": []
  }
 ],
 "metadata": {
  "kernelspec": {
   "display_name": "langchain-kr-gLkynrUQ-py3.11",
   "language": "python",
   "name": "python3"
  },
  "language_info": {
   "codemirror_mode": {
    "name": "ipython",
    "version": 3
   },
   "file_extension": ".py",
   "mimetype": "text/x-python",
   "name": "python",
   "nbconvert_exporter": "python",
   "pygments_lexer": "ipython3",
   "version": "3.11.9"
  }
 },
 "nbformat": 4,
 "nbformat_minor": 2
}
