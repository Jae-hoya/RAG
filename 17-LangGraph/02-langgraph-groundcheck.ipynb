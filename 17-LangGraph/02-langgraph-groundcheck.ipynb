{
 "cells": [
  {
   "cell_type": "markdown",
   "metadata": {},
   "source": [
    "# LangGraph Retrieval GroundCheck\n",
    "기존의 RAG에 GroundChecker 기능을 추가하여 답변-문서 간에 관련성 여부를 확인합니다.\n",
    "\n",
    "이번 튜토리얼에서는 `Upstage` 의 `UpstageGroundednessCheck` 기능을 사용하여 검증합니다.\n",
    "\n",
    "필요에 따라, 직접 구현한 LLM 으로 GroundChecker를 수행할 수 있습니다."
   ]
  },
  {
   "cell_type": "code",
   "execution_count": 1,
   "metadata": {},
   "outputs": [
    {
     "data": {
      "text/plain": [
       "True"
      ]
     },
     "execution_count": 1,
     "metadata": {},
     "output_type": "execute_result"
    }
   ],
   "source": [
    "from dotenv import load_dotenv\n",
    "load_dotenv()"
   ]
  },
  {
   "cell_type": "code",
   "execution_count": 2,
   "metadata": {},
   "outputs": [
    {
     "name": "stdout",
     "output_type": "stream",
     "text": [
      "LangSmith 추적을 시작합니다.\n",
      "[프로젝트명]\n",
      "CH17-LANGGRAPH\n"
     ]
    }
   ],
   "source": [
    "from langchain_teddynote import logging\n",
    "logging.langsmith(\"CH17-LANGGRAPH\")"
   ]
  },
  {
   "cell_type": "code",
   "execution_count": 3,
   "metadata": {},
   "outputs": [],
   "source": [
    "from rag.base import RetrieverChain"
   ]
  },
  {
   "cell_type": "code",
   "execution_count": 4,
   "metadata": {},
   "outputs": [],
   "source": [
    "from rag.pdf import PDFRetrievalChain\n",
    "pdf = PDFRetrievalChain([\"./data/SPRI_AI_Brief_2023년12월호_F.pdf\"]).create_chain()\n",
    "pdf_retriever = pdf.retriever\n",
    "pdf_chain = pdf.chain\n"
   ]
  },
  {
   "cell_type": "markdown",
   "metadata": {},
   "source": [
    "# GraphSte\n",
    "각 노드에서 다옴 노드로 전달되는 상태를 저장"
   ]
  },
  {
   "cell_type": "code",
   "execution_count": 10,
   "metadata": {},
   "outputs": [],
   "source": [
    "from typing import TypedDict\n",
    "\n",
    "class GraphState(TypedDict):\n",
    "    question: str # 질문\n",
    "    context: str # 문서의 검색 결과\n",
    "    answer: str # 답변\n",
    "    relevance: str # 문서의 관련성"
   ]
  },
  {
   "cell_type": "code",
   "execution_count": 11,
   "metadata": {},
   "outputs": [
    {
     "data": {
      "text/plain": [
       "'notGrounded'"
      ]
     },
     "execution_count": 11,
     "metadata": {},
     "output_type": "execute_result"
    }
   ],
   "source": [
    "from rag.utils import format_docs\n",
    "from langchain_upstage import UpstageGroundednessCheck\n",
    "\n",
    "# 업스테이지 문서 관련성 체크 기능을 설정합니다. https://upstage.ai\n",
    "upstage_ground_checker = UpstageGroundednessCheck()\n",
    "upstage_ground_checker.run(\n",
    "    {\n",
    "        \"context\": format_docs(\n",
    "            pdf_retriever.invoke(\"삼성전자가 개발한 생성형 ai의 이름은?\")\n",
    "        ),\n",
    "        \"answer\": \" 삼성전자가 개발한 생성형 AI의이름은 빅스비 입니다\"\n",
    "    }\n",
    ")"
   ]
  },
  {
   "cell_type": "code",
   "execution_count": 12,
   "metadata": {},
   "outputs": [],
   "source": [
    "# 문서에서 검색하여 관련성 있는 문서를 찾는다.\n",
    "def retrieve_document(state: GraphState) -> GraphState:\n",
    "    retrived_docs = pdf_retriever.invoke(state[\"question\"])\n",
    "    return GraphState(context=format_docs(retrived_docs))"
   ]
  },
  {
   "cell_type": "code",
   "execution_count": 13,
   "metadata": {},
   "outputs": [],
   "source": [
    "# chain을 사용하여 답변을 생성\n",
    "def llm_answer(state:GraphState) -> GraphState:\n",
    "    return GraphState(\n",
    "        answer = pdf_chain.invoke(\n",
    "            {\"question\": state[\"question\"], \"context\": state[\"context\"]}\n",
    "        ),\n",
    "        context = state[\"context\"],\n",
    "        question = state[\"question\"]\n",
    "    )"
   ]
  },
  {
   "cell_type": "code",
   "execution_count": 14,
   "metadata": {},
   "outputs": [],
   "source": [
    "# 테스트용 더미 답변 생성 함수\n",
    "def fake_llm_answer(state: GraphState) -> GraphState:\n",
    "    return GraphState(\n",
    "        answer = \"삼성전자가 개발한 생성형 ai의 이름은 빅스비ai입니다.\",\n",
    "        context = state[\"context\"],\n",
    "        question = state[\"question\"]\n",
    "    )"
   ]
  },
  {
   "cell_type": "code",
   "execution_count": 15,
   "metadata": {},
   "outputs": [],
   "source": [
    "# 관령성 체크\n",
    "def relevance_check(state: GraphState) -> GraphState:\n",
    "    response = upstage_ground_checker.run(\n",
    "        {\"context\": state[\"context\"], \"answer\": state[\"answer\"]}\n",
    "    )\n",
    "    return GraphState(\n",
    "        relevance=response,\n",
    "        context=state[\"context\"],\n",
    "        answer=state[\"answer\"],\n",
    "        question=state[\"question\"]\n",
    "    )"
   ]
  },
  {
   "cell_type": "code",
   "execution_count": 16,
   "metadata": {},
   "outputs": [],
   "source": [
    "# 관련성 체크 결과 답변\n",
    "def is_relevant(state:GraphState) -> GraphState:\n",
    "    if state[\"relevance\"] == \"grounded\":\n",
    "        return \"관련성 O\"\n",
    "    elif state[\"relevance\"] == \"notGrounded\":\n",
    "        return \"관련성 X\"\n",
    "    elif state[\"relevance\"] == \"notSure\":\n",
    "        return \"확인불가\""
   ]
  },
  {
   "cell_type": "markdown",
   "metadata": {},
   "source": [
    "# 그래프 정의"
   ]
  },
  {
   "cell_type": "code",
   "execution_count": 17,
   "metadata": {},
   "outputs": [],
   "source": [
    "from langgraph.graph import END, StateGraph\n",
    "from langgraph.checkpoint.memory import MemorySaver\n",
    "\n",
    "workflow = StateGraph(GraphState)\n",
    "\n",
    "# 노드 정의\n",
    "workflow.add_node(\"retrieve\", retrieve_document) # 에이전트 노드 추가\n",
    "workflow.add_node(\"llm_answer\", llm_answer) # 정보 검색 노드 추가\n",
    "#workflow.add_node(\"fake_llm_answer\", fake_llm_answer)\n",
    "workflow.add_node(\"relevance_check\", relevance_check) # 관련성 체크 노드 추가\n",
    "\n",
    "# 노드를 연결하는 엣지정의\n",
    "workflow.add_edge(\"retrieve\", \"llm_answer\")\n",
    "workflow.add_edge(\"llm_answer\", \"relevance_check\")\n",
    "\n",
    "# 조건부 edge\n",
    "workflow.add_conditional_edges(\n",
    "    \"relevance_check\",\n",
    "    is_relevant,\n",
    "    {\n",
    "        \"관련성 O\": END,\n",
    "        \"관련성 X\": \"retrieve\",\n",
    "        \"확인불가\": \"retrieve\"\n",
    "    }\n",
    ")\n",
    "\n",
    "# 시작점 설정\n",
    "workflow.set_entry_point(\"retrieve\")\n",
    "\n",
    "# 기록을 위한 메모리 저장소를 설정합니다.\n",
    "memory = MemorySaver()\n",
    "\n",
    "app = workflow.compile(checkpointer=memory)"
   ]
  },
  {
   "cell_type": "markdown",
   "metadata": {},
   "source": [
    "# 그래프 시각화"
   ]
  },
  {
   "cell_type": "code",
   "execution_count": 18,
   "metadata": {},
   "outputs": [
    {
     "data": {
      "image/jpeg": "[encoded data removed]",
      "text/plain": [
       "<IPython.core.display.Image object>"
      ]
     },
     "metadata": {},
     "output_type": "display_data"
    }
   ],
   "source": [
    "from IPython.display import Image, display\n",
    "\n",
    "try:\n",
    "    display(\n",
    "        Image(app.get_graph(xray=True).draw_mermaid_png())\n",
    "    )  # 실행 가능한 객체의 그래프를 mermaid 형식의 PNG로 그려서 표시합니다. xray=True는 추가적인 세부 정보를 포함합니다.\n",
    "except:\n",
    "    # 이 부분은 추가적인 의존성이 필요하며 선택적으로 실행됩니다.\n",
    "    pass"
   ]
  },
  {
   "cell_type": "markdown",
   "metadata": {},
   "source": [
    "# 그래프 출력"
   ]
  },
  {
   "cell_type": "code",
   "execution_count": 19,
   "metadata": {},
   "outputs": [],
   "source": [
    "from langchain_core.runnables import RunnableConfig\n",
    "# recursion_limit 재귀한도(반복 횟수)\n",
    "config = RunnableConfig(recursion_limit=5, configurable={\"thread_id\": \"SELF-RAG\"})\n",
    "\n",
    "# GraphState 객체를 활용하여 질문을 입력\n",
    "inputs = GraphState(question=\"삼성전자가 개발한 생성형 AI의 이름은?\")"
   ]
  },
  {
   "cell_type": "code",
   "execution_count": 20,
   "metadata": {},
   "outputs": [
    {
     "name": "stdout",
     "output_type": "stream",
     "text": [
      "'[NODE] retrieve'\n",
      "('context <document><content>SPRi AI Brief |\\n'\n",
      " '2023-12월호\\n'\n",
      " '삼성전자, 자체 개발 생성 AI ‘삼성 가우스’ 공개\\n'\n",
      " 'KEY Contents\\n'\n",
      " 'n 삼성전자가 온디바이스에서 작동 가능하며 언어, 코드, 이미지의 3개 모델로 구성된 자체 개발 생성\\n'\n",
      " 'AI 모델 ‘삼성 가우스’를 공개\\n'\n",
      " 'n 삼성전자는 삼성 가우스를 다양한 제품에 단계적으로 탑재할 계획으로, 온디바이스 작동이 가능한\\n'\n",
      " '삼성 가우스는 외부로 사용자 정보가 유출될 위험이 없다는 장점을 보유\\n'\n",
      " '£언어, 코드, 이미지의 3개 모델로 구성된 삼성 가우스, 온디바이스 작동 지원\\n'\n",
      " 'n 삼성전자가 2023년 11월 8일 열린 ‘삼성 AI 포럼 2023’ 행사에서 자체 개발한 생성 AI 모델\\n'\n",
      " '‘삼성 가우스’를 최초 공개\\n'\n",
      " '∙ 정규분포 이론을 정립한 천재 수학자 가우스(Gauss)의 이름을 본뜬 삼성 가우스는 다양한 상황에\\n'\n",
      " '최적화된 크기의 모델 선택이 가능\\n'\n",
      " '∙ 삼성 가우스는 라이선스나 개인정보를 침해하지 않는 안전한 데이터를 통해 학습되었으며,\\n'\n",
      " '온디바이스에서 작동하도록 설계되어 외부로 사용자의 정보가 유출되지 않는 장점을 보유\\n'\n",
      " '∙ 삼성전자는 삼성 가우스를 활용한 온디바이스 AI 기술도 소개했으며, 생성 AI 모델을 다양한 제품에\\n'\n",
      " '단계적으로 탑재할 계획\\n'\n",
      " 'n 삼성 가우스는 △텍스트를 생성하는 언어모델 △코드를 생성하는 코드 모델 △이미지를 생성하는\\n'\n",
      " '이미지 모델의 3개 모델로 구성\\n'\n",
      " '∙ 언어 모델은 클라우드와 온디바이스 대상 다양한 모델로 구성되며, 메일 작성, 문서 요약, 번역 업무의\\n'\n",
      " '처리를 지원\\n'\n",
      " '∙ 코드 모델 기반의 AI 코딩 어시스턴트 ‘코드아이(code.i)’는 대화형 인터페이스로 서비스를 제공하며\\n'\n",
      " '사내 소프트웨어 개발에 최적화\\n'\n",
      " '∙ 이미지 모델은 창의적인 이미지를 생성하고 기존 이미지를 원하는 대로 바꿀 수 있도록 지원하며\\n'\n",
      " '저해상도 이미지의 고해상도 전환도 지원\\n'\n",
      " 'n IT 전문지 테크리퍼블릭(TechRepublic)은 온디바이스 AI가 주요 기술 트렌드로 '\n",
      " '부상했다며,</content><source>./data/SPRI_AI_Brief_2023년12월호_F.pdf</source><page>13</page></document>\\n'\n",
      " '<document><content>2024년부터 가우스를 탑재한 삼성 스마트폰이 메타의 라마(Llama)2를 탑재한 퀄컴 기기 및 구글\\n'\n",
      " '어시스턴트를 적용한 구글 픽셀(Pixel)과 경쟁할 것으로 예상\\n'\n",
      " '☞ 출처 : 삼성전자, ‘삼성 AI 포럼’서 자체 개발 생성형 AI ‘삼성 가우스’ 공개, 2023.11.08.\\n'\n",
      " '삼성전자, ‘삼성 개발자 콘퍼런스 코리아 2023’ 개최, 2023.11.14.\\n'\n",
      " 'TechRepublic, Samsung Gauss: Samsung Research Reveals Generative AI, '\n",
      " '2023.11.08.\\n'\n",
      " '10</content><source>./data/SPRI_AI_Brief_2023년12월호_F.pdf</source><page>13</page></document>\\n'\n",
      " '<document><content>다양한 기업들이 맞춤형 AI 모델을 한층 쉽게 개발할 수 있도록 지원\\n'\n",
      " '∙ 생성 AI 개발에 필요한 컴퓨팅과 데이터 처리 요구사항을 지원하기 위해 AI 플랫폼(PAI),\\n'\n",
      " '데이터베이스 솔루션, 컨테이너 서비스와 같은 클라우드 신제품도 발표\\n'\n",
      " 'n 알리바바 클라우드는 AI 개발을 촉진하기 위해 올해 말까지 720억 개 매개변수를 가진 통이치엔원\\n'\n",
      " '모델을 오픈소스화한다는 계획도 공개\\n'\n",
      " '☞ 출처 : Alibaba Cloud, Alibaba Cloud Launches Tongyi Qianwen 2.0 and '\n",
      " 'Industry-specific Models to Support\\n'\n",
      " 'Customers Reap Benefits of Generative AI, '\n",
      " '2023.10.31.</content><source>./data/SPRI_AI_Brief_2023년12월호_F.pdf</source><page>12</page></document>\\n'\n",
      " '<document><content>n 연구진은 상기 원칙에 따라 AI를 성능에 따라 0~5단계와 광범위한 목적에 활용될 수 있는 범용 '\n",
      " 'AI 및 특정\\n'\n",
      " '과업에 활용되는 특수 AI로 분류했으며, 특수 AI에서는 5단계까지 달성되었으나, 범용 AI는 현재 1단계 수준\\n'\n",
      " '<구글 딥마인드의 범용 AI 분류 프레임워크>\\n'\n",
      " '성능 특수 AI 예시 범용 AI 예시\\n'\n",
      " '0단계: AI 아님 계산기 소프트웨어, 컴파일러 아마존 메커니컬 터크\\n'\n",
      " '1단계: 신진(숙련되지 않은 인간) GOFAI(Good Old Fashioned Artificial Intelligence) 챗GPT, '\n",
      " '바드, 라마2\\n'\n",
      " '스마트 스피커(애플 시리, 아마존 알렉사, 구글\\n'\n",
      " '2단계: 유능(숙련된 인간의 50% 이상) 미달성\\n'\n",
      " '어시스턴트), IBM 왓슨\\n'\n",
      " '3단계: 전문가(숙련된 인간의 90% 이상) 문법 교정기(그래머리), 생성 이미지 모델(달리2) 미달성\\n'\n",
      " '4단계: 거장(숙련된 인간의 99% 이상) 딥블루, 알파고 미달성\\n'\n",
      " '5단계: 초인간(인간을 100% 능가) 알파폴드, 알파제로, 스톡피시 미달성\\n'\n",
      " '☞ 출처 : Arxiv.org, Levels of AGI: Operationalizing Progress on the Path to '\n",
      " 'AGI, 2023.11.04.\\n'\n",
      " '16</content><source>./data/SPRI_AI_Brief_2023년12월호_F.pdf</source><page>19</page></document>\\n'\n",
      " '<document><content>2023년 12월호\\n'\n",
      " 'Ⅰ\\n'\n",
      " '. 인공지능 산업 동향 브리프\\n'\n",
      " '1. 정책/법제\\n'\n",
      " '▹ 미국, 안전하고 신뢰할 수 있는 AI 개발과 사용에 관한 행정명령 발표 ·························1\\n'\n",
      " '▹ G7, 히로시마 AI 프로세스를 통해 AI 기업 대상 국제 행동강령에 합의···························2\\n'\n",
      " '▹ 영국 AI 안전성 정상회의에 참가한 28개국, AI 위험에 공동 대응 선언···························3\\n'\n",
      " '▹ 미국 법원, 예술가들이 생성 AI 기업에 제기한 저작권 소송 '\n",
      " '기각·····································4\\n'\n",
      " '▹ 미국 연방거래위원회, 저작권청에 소비자 보호와 경쟁 측면의 AI 의견서 제출·················5\\n'\n",
      " '▹ EU AI 법 3자 협상, 기반모델 규제 관련 견해차로 '\n",
      " '난항···················································6\\n'\n",
      " '2. 기업/산업\\n'\n",
      " '▹ 미국 프런티어 모델 포럼, 1,000만 달러 규모의 AI 안전 기금 조성································7\\n'\n",
      " '▹ 코히어, 데이터 투명성 확보를 위한 데이터 출처 탐색기 공개 '\n",
      " '·······································8\\n'\n",
      " '▹ 알리바바 클라우드, 최신 LLM ‘통이치엔원 2.0’ 공개 '\n",
      " '······················································9\\n'\n",
      " '▹ 삼성전자, 자체 개발 생성 AI ‘삼성 가우스’ 공개 '\n",
      " '···························································10\\n'\n",
      " '▹ 구글, 앤스로픽에 20억 달러 투자로 생성 AI 협력 강화 '\n",
      " '················································11\\n'\n",
      " '▹ IDC, 2027년 AI 소프트웨어 매출 2,500억 달러 돌파 '\n",
      " '전망···········································12</content><source>./data/SPRI_AI_Brief_2023년12월호_F.pdf</source><page>2</page></document>')\n",
      "'=============================='\n",
      "'[NODE] llm_answer'\n",
      "'question 삼성전자가 개발한 생성형 AI의 이름은?'\n",
      "('context <document><content>SPRi AI Brief |\\n'\n",
      " '2023-12월호\\n'\n",
      " '삼성전자, 자체 개발 생성 AI ‘삼성 가우스’ 공개\\n'\n",
      " 'KEY Contents\\n'\n",
      " 'n 삼성전자가 온디바이스에서 작동 가능하며 언어, 코드, 이미지의 3개 모델로 구성된 자체 개발 생성\\n'\n",
      " 'AI 모델 ‘삼성 가우스’를 공개\\n'\n",
      " 'n 삼성전자는 삼성 가우스를 다양한 제품에 단계적으로 탑재할 계획으로, 온디바이스 작동이 가능한\\n'\n",
      " '삼성 가우스는 외부로 사용자 정보가 유출될 위험이 없다는 장점을 보유\\n'\n",
      " '£언어, 코드, 이미지의 3개 모델로 구성된 삼성 가우스, 온디바이스 작동 지원\\n'\n",
      " 'n 삼성전자가 2023년 11월 8일 열린 ‘삼성 AI 포럼 2023’ 행사에서 자체 개발한 생성 AI 모델\\n'\n",
      " '‘삼성 가우스’를 최초 공개\\n'\n",
      " '∙ 정규분포 이론을 정립한 천재 수학자 가우스(Gauss)의 이름을 본뜬 삼성 가우스는 다양한 상황에\\n'\n",
      " '최적화된 크기의 모델 선택이 가능\\n'\n",
      " '∙ 삼성 가우스는 라이선스나 개인정보를 침해하지 않는 안전한 데이터를 통해 학습되었으며,\\n'\n",
      " '온디바이스에서 작동하도록 설계되어 외부로 사용자의 정보가 유출되지 않는 장점을 보유\\n'\n",
      " '∙ 삼성전자는 삼성 가우스를 활용한 온디바이스 AI 기술도 소개했으며, 생성 AI 모델을 다양한 제품에\\n'\n",
      " '단계적으로 탑재할 계획\\n'\n",
      " 'n 삼성 가우스는 △텍스트를 생성하는 언어모델 △코드를 생성하는 코드 모델 △이미지를 생성하는\\n'\n",
      " '이미지 모델의 3개 모델로 구성\\n'\n",
      " '∙ 언어 모델은 클라우드와 온디바이스 대상 다양한 모델로 구성되며, 메일 작성, 문서 요약, 번역 업무의\\n'\n",
      " '처리를 지원\\n'\n",
      " '∙ 코드 모델 기반의 AI 코딩 어시스턴트 ‘코드아이(code.i)’는 대화형 인터페이스로 서비스를 제공하며\\n'\n",
      " '사내 소프트웨어 개발에 최적화\\n'\n",
      " '∙ 이미지 모델은 창의적인 이미지를 생성하고 기존 이미지를 원하는 대로 바꿀 수 있도록 지원하며\\n'\n",
      " '저해상도 이미지의 고해상도 전환도 지원\\n'\n",
      " 'n IT 전문지 테크리퍼블릭(TechRepublic)은 온디바이스 AI가 주요 기술 트렌드로 '\n",
      " '부상했다며,</content><source>./data/SPRI_AI_Brief_2023년12월호_F.pdf</source><page>13</page></document>\\n'\n",
      " '<document><content>2024년부터 가우스를 탑재한 삼성 스마트폰이 메타의 라마(Llama)2를 탑재한 퀄컴 기기 및 구글\\n'\n",
      " '어시스턴트를 적용한 구글 픽셀(Pixel)과 경쟁할 것으로 예상\\n'\n",
      " '☞ 출처 : 삼성전자, ‘삼성 AI 포럼’서 자체 개발 생성형 AI ‘삼성 가우스’ 공개, 2023.11.08.\\n'\n",
      " '삼성전자, ‘삼성 개발자 콘퍼런스 코리아 2023’ 개최, 2023.11.14.\\n'\n",
      " 'TechRepublic, Samsung Gauss: Samsung Research Reveals Generative AI, '\n",
      " '2023.11.08.\\n'\n",
      " '10</content><source>./data/SPRI_AI_Brief_2023년12월호_F.pdf</source><page>13</page></document>\\n'\n",
      " '<document><content>다양한 기업들이 맞춤형 AI 모델을 한층 쉽게 개발할 수 있도록 지원\\n'\n",
      " '∙ 생성 AI 개발에 필요한 컴퓨팅과 데이터 처리 요구사항을 지원하기 위해 AI 플랫폼(PAI),\\n'\n",
      " '데이터베이스 솔루션, 컨테이너 서비스와 같은 클라우드 신제품도 발표\\n'\n",
      " 'n 알리바바 클라우드는 AI 개발을 촉진하기 위해 올해 말까지 720억 개 매개변수를 가진 통이치엔원\\n'\n",
      " '모델을 오픈소스화한다는 계획도 공개\\n'\n",
      " '☞ 출처 : Alibaba Cloud, Alibaba Cloud Launches Tongyi Qianwen 2.0 and '\n",
      " 'Industry-specific Models to Support\\n'\n",
      " 'Customers Reap Benefits of Generative AI, '\n",
      " '2023.10.31.</content><source>./data/SPRI_AI_Brief_2023년12월호_F.pdf</source><page>12</page></document>\\n'\n",
      " '<document><content>n 연구진은 상기 원칙에 따라 AI를 성능에 따라 0~5단계와 광범위한 목적에 활용될 수 있는 범용 '\n",
      " 'AI 및 특정\\n'\n",
      " '과업에 활용되는 특수 AI로 분류했으며, 특수 AI에서는 5단계까지 달성되었으나, 범용 AI는 현재 1단계 수준\\n'\n",
      " '<구글 딥마인드의 범용 AI 분류 프레임워크>\\n'\n",
      " '성능 특수 AI 예시 범용 AI 예시\\n'\n",
      " '0단계: AI 아님 계산기 소프트웨어, 컴파일러 아마존 메커니컬 터크\\n'\n",
      " '1단계: 신진(숙련되지 않은 인간) GOFAI(Good Old Fashioned Artificial Intelligence) 챗GPT, '\n",
      " '바드, 라마2\\n'\n",
      " '스마트 스피커(애플 시리, 아마존 알렉사, 구글\\n'\n",
      " '2단계: 유능(숙련된 인간의 50% 이상) 미달성\\n'\n",
      " '어시스턴트), IBM 왓슨\\n'\n",
      " '3단계: 전문가(숙련된 인간의 90% 이상) 문법 교정기(그래머리), 생성 이미지 모델(달리2) 미달성\\n'\n",
      " '4단계: 거장(숙련된 인간의 99% 이상) 딥블루, 알파고 미달성\\n'\n",
      " '5단계: 초인간(인간을 100% 능가) 알파폴드, 알파제로, 스톡피시 미달성\\n'\n",
      " '☞ 출처 : Arxiv.org, Levels of AGI: Operationalizing Progress on the Path to '\n",
      " 'AGI, 2023.11.04.\\n'\n",
      " '16</content><source>./data/SPRI_AI_Brief_2023년12월호_F.pdf</source><page>19</page></document>\\n'\n",
      " '<document><content>2023년 12월호\\n'\n",
      " 'Ⅰ\\n'\n",
      " '. 인공지능 산업 동향 브리프\\n'\n",
      " '1. 정책/법제\\n'\n",
      " '▹ 미국, 안전하고 신뢰할 수 있는 AI 개발과 사용에 관한 행정명령 발표 ·························1\\n'\n",
      " '▹ G7, 히로시마 AI 프로세스를 통해 AI 기업 대상 국제 행동강령에 합의···························2\\n'\n",
      " '▹ 영국 AI 안전성 정상회의에 참가한 28개국, AI 위험에 공동 대응 선언···························3\\n'\n",
      " '▹ 미국 법원, 예술가들이 생성 AI 기업에 제기한 저작권 소송 '\n",
      " '기각·····································4\\n'\n",
      " '▹ 미국 연방거래위원회, 저작권청에 소비자 보호와 경쟁 측면의 AI 의견서 제출·················5\\n'\n",
      " '▹ EU AI 법 3자 협상, 기반모델 규제 관련 견해차로 '\n",
      " '난항···················································6\\n'\n",
      " '2. 기업/산업\\n'\n",
      " '▹ 미국 프런티어 모델 포럼, 1,000만 달러 규모의 AI 안전 기금 조성································7\\n'\n",
      " '▹ 코히어, 데이터 투명성 확보를 위한 데이터 출처 탐색기 공개 '\n",
      " '·······································8\\n'\n",
      " '▹ 알리바바 클라우드, 최신 LLM ‘통이치엔원 2.0’ 공개 '\n",
      " '······················································9\\n'\n",
      " '▹ 삼성전자, 자체 개발 생성 AI ‘삼성 가우스’ 공개 '\n",
      " '···························································10\\n'\n",
      " '▹ 구글, 앤스로픽에 20억 달러 투자로 생성 AI 협력 강화 '\n",
      " '················································11\\n'\n",
      " '▹ IDC, 2027년 AI 소프트웨어 매출 2,500억 달러 돌파 '\n",
      " '전망···········································12</content><source>./data/SPRI_AI_Brief_2023년12월호_F.pdf</source><page>2</page></document>')\n",
      "(\"answer 삼성전자가 개발한 생성형 AI의 이름은 '삼성 가우스'입니다. 이 AI는 언어, 코드, 이미지의 3개 모델로 구성되어 \"\n",
      " '있으며, 온디바이스에서 작동할 수 있도록 설계되었습니다. 출처: ./data/SPRI_AI_Brief_2023년12월호_F.pdf, '\n",
      " '페이지 10.')\n",
      "'=============================='\n",
      "'[NODE] relevance_check'\n",
      "'question 삼성전자가 개발한 생성형 AI의 이름은?'\n",
      "('context <document><content>SPRi AI Brief |\\n'\n",
      " '2023-12월호\\n'\n",
      " '삼성전자, 자체 개발 생성 AI ‘삼성 가우스’ 공개\\n'\n",
      " 'KEY Contents\\n'\n",
      " 'n 삼성전자가 온디바이스에서 작동 가능하며 언어, 코드, 이미지의 3개 모델로 구성된 자체 개발 생성\\n'\n",
      " 'AI 모델 ‘삼성 가우스’를 공개\\n'\n",
      " 'n 삼성전자는 삼성 가우스를 다양한 제품에 단계적으로 탑재할 계획으로, 온디바이스 작동이 가능한\\n'\n",
      " '삼성 가우스는 외부로 사용자 정보가 유출될 위험이 없다는 장점을 보유\\n'\n",
      " '£언어, 코드, 이미지의 3개 모델로 구성된 삼성 가우스, 온디바이스 작동 지원\\n'\n",
      " 'n 삼성전자가 2023년 11월 8일 열린 ‘삼성 AI 포럼 2023’ 행사에서 자체 개발한 생성 AI 모델\\n'\n",
      " '‘삼성 가우스’를 최초 공개\\n'\n",
      " '∙ 정규분포 이론을 정립한 천재 수학자 가우스(Gauss)의 이름을 본뜬 삼성 가우스는 다양한 상황에\\n'\n",
      " '최적화된 크기의 모델 선택이 가능\\n'\n",
      " '∙ 삼성 가우스는 라이선스나 개인정보를 침해하지 않는 안전한 데이터를 통해 학습되었으며,\\n'\n",
      " '온디바이스에서 작동하도록 설계되어 외부로 사용자의 정보가 유출되지 않는 장점을 보유\\n'\n",
      " '∙ 삼성전자는 삼성 가우스를 활용한 온디바이스 AI 기술도 소개했으며, 생성 AI 모델을 다양한 제품에\\n'\n",
      " '단계적으로 탑재할 계획\\n'\n",
      " 'n 삼성 가우스는 △텍스트를 생성하는 언어모델 △코드를 생성하는 코드 모델 △이미지를 생성하는\\n'\n",
      " '이미지 모델의 3개 모델로 구성\\n'\n",
      " '∙ 언어 모델은 클라우드와 온디바이스 대상 다양한 모델로 구성되며, 메일 작성, 문서 요약, 번역 업무의\\n'\n",
      " '처리를 지원\\n'\n",
      " '∙ 코드 모델 기반의 AI 코딩 어시스턴트 ‘코드아이(code.i)’는 대화형 인터페이스로 서비스를 제공하며\\n'\n",
      " '사내 소프트웨어 개발에 최적화\\n'\n",
      " '∙ 이미지 모델은 창의적인 이미지를 생성하고 기존 이미지를 원하는 대로 바꿀 수 있도록 지원하며\\n'\n",
      " '저해상도 이미지의 고해상도 전환도 지원\\n'\n",
      " 'n IT 전문지 테크리퍼블릭(TechRepublic)은 온디바이스 AI가 주요 기술 트렌드로 '\n",
      " '부상했다며,</content><source>./data/SPRI_AI_Brief_2023년12월호_F.pdf</source><page>13</page></document>\\n'\n",
      " '<document><content>2024년부터 가우스를 탑재한 삼성 스마트폰이 메타의 라마(Llama)2를 탑재한 퀄컴 기기 및 구글\\n'\n",
      " '어시스턴트를 적용한 구글 픽셀(Pixel)과 경쟁할 것으로 예상\\n'\n",
      " '☞ 출처 : 삼성전자, ‘삼성 AI 포럼’서 자체 개발 생성형 AI ‘삼성 가우스’ 공개, 2023.11.08.\\n'\n",
      " '삼성전자, ‘삼성 개발자 콘퍼런스 코리아 2023’ 개최, 2023.11.14.\\n'\n",
      " 'TechRepublic, Samsung Gauss: Samsung Research Reveals Generative AI, '\n",
      " '2023.11.08.\\n'\n",
      " '10</content><source>./data/SPRI_AI_Brief_2023년12월호_F.pdf</source><page>13</page></document>\\n'\n",
      " '<document><content>다양한 기업들이 맞춤형 AI 모델을 한층 쉽게 개발할 수 있도록 지원\\n'\n",
      " '∙ 생성 AI 개발에 필요한 컴퓨팅과 데이터 처리 요구사항을 지원하기 위해 AI 플랫폼(PAI),\\n'\n",
      " '데이터베이스 솔루션, 컨테이너 서비스와 같은 클라우드 신제품도 발표\\n'\n",
      " 'n 알리바바 클라우드는 AI 개발을 촉진하기 위해 올해 말까지 720억 개 매개변수를 가진 통이치엔원\\n'\n",
      " '모델을 오픈소스화한다는 계획도 공개\\n'\n",
      " '☞ 출처 : Alibaba Cloud, Alibaba Cloud Launches Tongyi Qianwen 2.0 and '\n",
      " 'Industry-specific Models to Support\\n'\n",
      " 'Customers Reap Benefits of Generative AI, '\n",
      " '2023.10.31.</content><source>./data/SPRI_AI_Brief_2023년12월호_F.pdf</source><page>12</page></document>\\n'\n",
      " '<document><content>n 연구진은 상기 원칙에 따라 AI를 성능에 따라 0~5단계와 광범위한 목적에 활용될 수 있는 범용 '\n",
      " 'AI 및 특정\\n'\n",
      " '과업에 활용되는 특수 AI로 분류했으며, 특수 AI에서는 5단계까지 달성되었으나, 범용 AI는 현재 1단계 수준\\n'\n",
      " '<구글 딥마인드의 범용 AI 분류 프레임워크>\\n'\n",
      " '성능 특수 AI 예시 범용 AI 예시\\n'\n",
      " '0단계: AI 아님 계산기 소프트웨어, 컴파일러 아마존 메커니컬 터크\\n'\n",
      " '1단계: 신진(숙련되지 않은 인간) GOFAI(Good Old Fashioned Artificial Intelligence) 챗GPT, '\n",
      " '바드, 라마2\\n'\n",
      " '스마트 스피커(애플 시리, 아마존 알렉사, 구글\\n'\n",
      " '2단계: 유능(숙련된 인간의 50% 이상) 미달성\\n'\n",
      " '어시스턴트), IBM 왓슨\\n'\n",
      " '3단계: 전문가(숙련된 인간의 90% 이상) 문법 교정기(그래머리), 생성 이미지 모델(달리2) 미달성\\n'\n",
      " '4단계: 거장(숙련된 인간의 99% 이상) 딥블루, 알파고 미달성\\n'\n",
      " '5단계: 초인간(인간을 100% 능가) 알파폴드, 알파제로, 스톡피시 미달성\\n'\n",
      " '☞ 출처 : Arxiv.org, Levels of AGI: Operationalizing Progress on the Path to '\n",
      " 'AGI, 2023.11.04.\\n'\n",
      " '16</content><source>./data/SPRI_AI_Brief_2023년12월호_F.pdf</source><page>19</page></document>\\n'\n",
      " '<document><content>2023년 12월호\\n'\n",
      " 'Ⅰ\\n'\n",
      " '. 인공지능 산업 동향 브리프\\n'\n",
      " '1. 정책/법제\\n'\n",
      " '▹ 미국, 안전하고 신뢰할 수 있는 AI 개발과 사용에 관한 행정명령 발표 ·························1\\n'\n",
      " '▹ G7, 히로시마 AI 프로세스를 통해 AI 기업 대상 국제 행동강령에 합의···························2\\n'\n",
      " '▹ 영국 AI 안전성 정상회의에 참가한 28개국, AI 위험에 공동 대응 선언···························3\\n'\n",
      " '▹ 미국 법원, 예술가들이 생성 AI 기업에 제기한 저작권 소송 '\n",
      " '기각·····································4\\n'\n",
      " '▹ 미국 연방거래위원회, 저작권청에 소비자 보호와 경쟁 측면의 AI 의견서 제출·················5\\n'\n",
      " '▹ EU AI 법 3자 협상, 기반모델 규제 관련 견해차로 '\n",
      " '난항···················································6\\n'\n",
      " '2. 기업/산업\\n'\n",
      " '▹ 미국 프런티어 모델 포럼, 1,000만 달러 규모의 AI 안전 기금 조성································7\\n'\n",
      " '▹ 코히어, 데이터 투명성 확보를 위한 데이터 출처 탐색기 공개 '\n",
      " '·······································8\\n'\n",
      " '▹ 알리바바 클라우드, 최신 LLM ‘통이치엔원 2.0’ 공개 '\n",
      " '······················································9\\n'\n",
      " '▹ 삼성전자, 자체 개발 생성 AI ‘삼성 가우스’ 공개 '\n",
      " '···························································10\\n'\n",
      " '▹ 구글, 앤스로픽에 20억 달러 투자로 생성 AI 협력 강화 '\n",
      " '················································11\\n'\n",
      " '▹ IDC, 2027년 AI 소프트웨어 매출 2,500억 달러 돌파 '\n",
      " '전망···········································12</content><source>./data/SPRI_AI_Brief_2023년12월호_F.pdf</source><page>2</page></document>')\n",
      "(\"answer 삼성전자가 개발한 생성형 AI의 이름은 '삼성 가우스'입니다. 이 AI는 언어, 코드, 이미지의 3개 모델로 구성되어 \"\n",
      " '있으며, 온디바이스에서 작동할 수 있도록 설계되었습니다. 출처: ./data/SPRI_AI_Brief_2023년12월호_F.pdf, '\n",
      " '페이지 10.')\n",
      "'relevance grounded'\n",
      "'=============================='\n"
     ]
    }
   ],
   "source": [
    "import pprint\n",
    "from langgraph.errors import GraphRecursionError\n",
    "\n",
    "# app.stream을 통해 입력된 메시지에 대한 출력을 스트리밍.\n",
    "# 스트리밍된 출력에서 각 노드의 결과를 순차적으로 처리. key는 노드의 이름을 나타내고, value는 그 노드의 출력값.\n",
    "# 루프는 노드의 출력인 value에서 구체적인 출력 내용을 다시 순차적으로 출력합니다. 이때 k는 출력의 키, v는 출력 값\n",
    "try:\n",
    "    for output in app.stream(inputs, config=config):\n",
    "        for key, value in output.items():\n",
    "            pprint.pprint(f\"[NODE] {key}\") # 각 노드의 이름 출력\n",
    "            for k, v in value.items():\n",
    "                pprint.pprint(f\"{k} {v}\")\n",
    "            pprint.pprint(\"===\"*10)\n",
    "except GraphRecursionError as e: #ERROR 처리\n",
    "    pprint.pprint(f\"Recursion linit rechead: {e}\")"
   ]
  },
  {
   "cell_type": "code",
   "execution_count": 21,
   "metadata": {},
   "outputs": [
    {
     "name": "stdout",
     "output_type": "stream",
     "text": [
      "Question: \t 삼성전자가 개발한 생성형 AI의 이름은?\n",
      "Answer: \t 삼성전자가 개발한 생성형 AI의 이름은 '삼성 가우스'입니다. 이 AI는 언어, 코드, 이미지의 3개 모델로 구성되어 있으며, 온디바이스에서 작동할 수 있도록 설계되었습니다. 출처: ./data/SPRI_AI_Brief_2023년12월호_F.pdf, 페이지 10.\n",
      "Relevance: \t grounded\n"
     ]
    }
   ],
   "source": [
    "print(\"Question: \\t\", output[\"relevance_check\"][\"question\"])\n",
    "print(\"Answer: \\t\", output[\"relevance_check\"][\"answer\"])\n",
    "print(\"Relevance: \\t\", output[\"relevance_check\"][\"relevance\"])"
   ]
  },
  {
   "cell_type": "code",
   "execution_count": null,
   "metadata": {},
   "outputs": [],
   "source": []
  }
 ],
 "metadata": {
  "kernelspec": {
   "display_name": "langchain-kr-gLkynrUQ-py3.11",
   "language": "python",
   "name": "python3"
  },
  "language_info": {
   "codemirror_mode": {
    "name": "ipython",
    "version": 3
   },
   "file_extension": ".py",
   "mimetype": "text/x-python",
   "name": "python",
   "nbconvert_exporter": "python",
   "pygments_lexer": "ipython3",
   "version": "3.11.9"
  }
 },
 "nbformat": 4,
 "nbformat_minor": 2
}
