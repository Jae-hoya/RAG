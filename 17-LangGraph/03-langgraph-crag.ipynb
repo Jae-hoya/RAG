{
 "cells": [
  {
   "cell_type": "markdown",
   "metadata": {
    "vscode": {
     "languageId": "plaintext"
    }
   },
   "source": [
    "# Corrective RAG\n",
    "- 논문: https://arxiv.org/pdf/2401.15884\n",
    "\n",
    "**배경**\n",
    "\n",
    "- RAG의 답변 결과는 검색된 문서의 관련성에 크게 의존적\n",
    "- 따라서, 검색이 잘못된 경우 답변에 대한 품질 우려가 됨\n",
    "\n",
    "**제안**\n",
    "\n",
    "- 사용자 입력 쿼리(query) 에 대하여 검색된 문서의 품질을 평가\n",
    "- 한마디로 검색된 결과가 사용자 입력 쿼리와 관련성이 높도록 쿼리를 수정(Corrective)"
   ]
  },
  {
   "cell_type": "code",
   "execution_count": null,
   "metadata": {},
   "outputs": [],
   "source": [
    "from dotenv import load_dotenv\n",
    "load_dotenv()"
   ]
  },
  {
   "cell_type": "code",
   "execution_count": 1,
   "metadata": {},
   "outputs": [
    {
     "name": "stdout",
     "output_type": "stream",
     "text": [
      "LangSmith 추적을 시작합니다.\n",
      "[프로젝트명]\n",
      "CH17-LANGGRAPH\n"
     ]
    }
   ],
   "source": [
    "from langchain_teddynote import logging\n",
    "logging.langsmith(\"CH17-LANGGRAPH\")"
   ]
  },
  {
   "cell_type": "code",
   "execution_count": 8,
   "metadata": {},
   "outputs": [],
   "source": [
    "from rag.pdf import PDFRetrievalChain\n",
    "pdf = PDFRetrievalChain([\"./data/SPRI_AI_Brief_2023년12월호_F.pdf\"]).create_chain()\n",
    "pdf_retriever = pdf.retriever\n",
    "pdf_chain = pdf.chain"
   ]
  },
  {
   "cell_type": "markdown",
   "metadata": {},
   "source": [
    "### 노드 함수들 정의"
   ]
  },
  {
   "cell_type": "code",
   "execution_count": 4,
   "metadata": {},
   "outputs": [],
   "source": [
    "from langchain_upstage import UpstageGroundednessCheck\n",
    "from langchain_core.prompts import ChatPromptTemplate\n",
    "from langchain_openai import ChatOpenAI\n",
    "from langchain_core.output_parsers import StrOutputParser\n",
    "\n",
    "upstage_ground_checker = UpstageGroundednessCheck()"
   ]
  },
  {
   "cell_type": "code",
   "execution_count": 6,
   "metadata": {},
   "outputs": [],
   "source": [
    "from typing import TypedDict\n",
    "class GraphState(TypedDict):\n",
    "    question: str #질문\n",
    "    context: str # 문서의 검색 결과\n",
    "    answer: str # 답변\n",
    "    relevance: str # 답변의 문서에 대한 관련성"
   ]
  },
  {
   "cell_type": "code",
   "execution_count": 7,
   "metadata": {},
   "outputs": [],
   "source": [
    "# 문서검색 함수\n",
    "def retrieve_document(state: GraphState) -> GraphState:\n",
    "    retrieved_docs = pdf.retriever.invoke(state[\"question\"])\n",
    "    return GraphState(context=\"\".join([doc.page_content for doc in retrieved_docs]))"
   ]
  },
  {
   "cell_type": "code",
   "execution_count": 9,
   "metadata": {},
   "outputs": [],
   "source": [
    "# chain을 사용하여 답변을 생성\n",
    "def llm_answer(state: GraphState) -> GraphState:\n",
    "    return GraphState(\n",
    "        answer = pdf_chain.invoke(\n",
    "            {\"question\": state[\"question\"], \"context\": state[\"context\"]}\n",
    "        ),\n",
    "        context = state[\"context\"],\n",
    "        question = state[\"question\"]\n",
    "    )"
   ]
  },
  {
   "cell_type": "code",
   "execution_count": 10,
   "metadata": {},
   "outputs": [],
   "source": [
    "# 재작성 함수\n",
    "def rewrite(state):\n",
    "    question = state[\"question\"]\n",
    "    prompt = ChatPromptTemplate.from_messages(\n",
    "        [\n",
    "            (\n",
    "                \"system\",\n",
    "                \"\"\"\n",
    "                You are a professional prompt rewriter. \n",
    "                Your task is to improve the question. Question must be written in same language. Don't narrate, just reponse an improved question.\n",
    "                \"\"\"\n",
    "            ),\n",
    "            \"human\",\n",
    "            \"\"\"\n",
    "            Look at the input and try to reason about the underlying semantic intent / meaning.\n",
    "            Here is the initial question: \n",
    "            ----------------------{question}----------------------\n",
    "            Formulate an improved question:\n",
    "            \"\"\"\n",
    "     \n",
    "        ]\n",
    "    )\n",
    "    # Question rewriting model\n",
    "    model = ChatOpenAI(model=\"gpt-4o-mini\", temperature=0)\n",
    "\n",
    "    chain = prompt| model| StrOutputParser()\n",
    "    response = chain.invoke({\"question\": question})\n",
    "    return GraphState(\n",
    "        context=state[\"context\"], question=response, answer=state[\"answer\"]\n",
    "    )"
   ]
  },
  {
   "cell_type": "code",
   "execution_count": 13,
   "metadata": {},
   "outputs": [],
   "source": [
    "# 관련성 체크를 실행. 결과: grounded, notGrounded, notSure\n",
    "def relevance_check(state: GraphState) -> GraphState:\n",
    "    response = upstage_ground_checker.run(\n",
    "        {\"context\": state[\"context\"], \"answer\": state[\"answer\"]}\n",
    "    )\n",
    "    return GraphState(\n",
    "        relevance=response,\n",
    "        context=state[\"context\"],\n",
    "        answer=state[\"answer\"],\n",
    "        question=state[\"question\"]\n",
    "    )\n",
    "\n",
    "def is_relevant(state: GraphState) -> GraphState:\n",
    "    return state[\"relevance\"]"
   ]
  },
  {
   "cell_type": "code",
   "execution_count": null,
   "metadata": {},
   "outputs": [],
   "source": []
  },
  {
   "cell_type": "code",
   "execution_count": null,
   "metadata": {},
   "outputs": [],
   "source": []
  },
  {
   "cell_type": "code",
   "execution_count": null,
   "metadata": {},
   "outputs": [],
   "source": []
  }
 ],
 "metadata": {
  "kernelspec": {
   "display_name": "langchain-kr-gLkynrUQ-py3.11",
   "language": "python",
   "name": "python3"
  },
  "language_info": {
   "codemirror_mode": {
    "name": "ipython",
    "version": 3
   },
   "file_extension": ".py",
   "mimetype": "text/x-python",
   "name": "python",
   "nbconvert_exporter": "python",
   "pygments_lexer": "ipython3",
   "version": "3.11.9"
  }
 },
 "nbformat": 4,
 "nbformat_minor": 2
}
