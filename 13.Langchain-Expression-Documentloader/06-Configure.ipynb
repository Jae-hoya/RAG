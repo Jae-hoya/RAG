{
 "cells": [
  {
   "cell_type": "markdown",
   "metadata": {},
   "source": [
    "# 런타임에 체인 내부 구성하기\n",
    "이번 튜토리얼은 Chain 을 호출시 다양한 옵션을 동적으로 설정할 수 있는 방법을 알아보겠습니다.\n",
    "\n",
    "다음의 2가지 방식으로 동적 구성을 할 수 있습니다.\n",
    "\n",
    "- 첫째, configurable_fields 메서드입니다. 이 메서드를 통해 실행 가능한 객체의 특정 필드를 구성할 수 있습니다.\n",
    "\n",
    "- 둘째, configurable_alternatives 메서드입니다. 이 메서드를 사용하면 런타임 중에 설정할 수 있는 특정 실행 가능한 객체에 대한 대안을 나열할 수 있습니다.\n",
    "\n",
    "## configurable_fields\n",
    "`configurable_fields` 는 시스템의 설정 값을 정의하는 필드를 의미합니다.\n",
    "\n",
    "### 동적 속성 지정\n",
    "`ChatOpenAI` 을 사용할 때, 우리는 `model_name` 와 같은 설정을 조정할 수 있습니다.\n",
    "\n",
    "`model_name` 은 GPT 의 버전을 명시할 때 사용하는 속성입니다. 예를 들어, `gpt-4o`, `gpt-4o-mini` 등을 설정하여 모델을 선택할 수 있습니다.\n",
    "\n",
    "만약, 고정된 `model_name` 이 아닌 동적으로 모델을 지정하고 싶을 때는 다음과 같이 `ConfigurableField` 를 활용하여 동적으로 설정할 수 있는 속성 값으로 변환할 수 있습니다."
   ]
  },
  {
   "cell_type": "code",
   "execution_count": 1,
   "metadata": {},
   "outputs": [
    {
     "data": {
      "text/plain": [
       "True"
      ]
     },
     "execution_count": 1,
     "metadata": {},
     "output_type": "execute_result"
    }
   ],
   "source": [
    "from dotenv import load_dotenv\n",
    "load_dotenv()"
   ]
  },
  {
   "cell_type": "code",
   "execution_count": 2,
   "metadata": {},
   "outputs": [
    {
     "data": {
      "text/plain": [
       "{'content': '대한민국의 수도는 서울입니다. 서울은 대한민국의 정치, 경제, 문화의 중심지로서 많은 중요한 정부 기관과 기업들이 위치해 있습니다.',\n",
       " 'additional_kwargs': {'refusal': None},\n",
       " 'response_metadata': {'token_usage': {'completion_tokens': 33,\n",
       "   'prompt_tokens': 15,\n",
       "   'total_tokens': 48},\n",
       "  'model_name': 'gpt-4o-2024-05-13',\n",
       "  'system_fingerprint': 'fp_992d1ea92d',\n",
       "  'finish_reason': 'stop',\n",
       "  'logprobs': None},\n",
       " 'type': 'ai',\n",
       " 'name': None,\n",
       " 'id': 'run-cc043bb2-0524-4e05-8aca-fe89e429d358-0',\n",
       " 'example': False,\n",
       " 'tool_calls': [],\n",
       " 'invalid_tool_calls': [],\n",
       " 'usage_metadata': {'input_tokens': 15,\n",
       "  'output_tokens': 33,\n",
       "  'total_tokens': 48}}"
      ]
     },
     "execution_count": 2,
     "metadata": {},
     "output_type": "execute_result"
    }
   ],
   "source": [
    "from langchain_core.prompts import PromptTemplate\n",
    "from langchain_core.runnables import ConfigurableField\n",
    "from langchain_openai import ChatOpenAI\n",
    "\n",
    "model = ChatOpenAI(temperature=0, model_name=\"gpt-4o\")\n",
    "\n",
    "model.invoke(\"대한민국의 수도는 어디야?\").__dict__"
   ]
  },
  {
   "cell_type": "code",
   "execution_count": 3,
   "metadata": {},
   "outputs": [],
   "source": [
    "model = ChatOpenAI(temperature=0).configurable_fields(\n",
    "    model_name=ConfigurableField(\n",
    "        id=\"gpt_version\",\n",
    "        name=\"Version of GPT\",\n",
    "        description=\"Official model name of GPTs. ex) gpt-4o, gpt-4o-mini\",\n",
    "    )\n",
    ")\n",
    "# model.invoke() 호출시 config={\"configurable\": {\"키\": \"값\"}} 형식으로 동적 지정할 수 있습니다."
   ]
  },
  {
   "cell_type": "code",
   "execution_count": 5,
   "metadata": {},
   "outputs": [
    {
     "data": {
      "text/plain": [
       "{'content': '대한민국의 수도는 서울이야.',\n",
       " 'additional_kwargs': {'refusal': None},\n",
       " 'response_metadata': {'token_usage': {'completion_tokens': 16,\n",
       "   'prompt_tokens': 22,\n",
       "   'total_tokens': 38},\n",
       "  'model_name': 'gpt-3.5-turbo-0125',\n",
       "  'system_fingerprint': None,\n",
       "  'finish_reason': 'stop',\n",
       "  'logprobs': None},\n",
       " 'type': 'ai',\n",
       " 'name': None,\n",
       " 'id': 'run-f510a289-3988-4ad7-aa16-66a676e5a83a-0',\n",
       " 'example': False,\n",
       " 'tool_calls': [],\n",
       " 'invalid_tool_calls': [],\n",
       " 'usage_metadata': {'input_tokens': 22,\n",
       "  'output_tokens': 16,\n",
       "  'total_tokens': 38}}"
      ]
     },
     "execution_count": 5,
     "metadata": {},
     "output_type": "execute_result"
    }
   ],
   "source": [
    "model.invoke(\n",
    "    \"대한민국의 수도는 어디야?\",\n",
    "    # gpt_version 을 gpt-3.5-turbo 로 설정합니다.\n",
    "    config={\"configurable\": {\"gpt_version\": \"gpt-3.5-turbo\"}},\n",
    ").__dict__"
   ]
  },
  {
   "cell_type": "code",
   "execution_count": 6,
   "metadata": {},
   "outputs": [
    {
     "data": {
      "text/plain": [
       "{'content': '대한민국의 수도는 서울입니다.',\n",
       " 'additional_kwargs': {'refusal': None},\n",
       " 'response_metadata': {'token_usage': {'completion_tokens': 8,\n",
       "   'prompt_tokens': 15,\n",
       "   'total_tokens': 23},\n",
       "  'model_name': 'gpt-4o-mini-2024-07-18',\n",
       "  'system_fingerprint': 'fp_483d39d857',\n",
       "  'finish_reason': 'stop',\n",
       "  'logprobs': None},\n",
       " 'type': 'ai',\n",
       " 'name': None,\n",
       " 'id': 'run-b480ebf9-b502-4709-b52d-59ac28419db2-0',\n",
       " 'example': False,\n",
       " 'tool_calls': [],\n",
       " 'invalid_tool_calls': [],\n",
       " 'usage_metadata': {'input_tokens': 15,\n",
       "  'output_tokens': 8,\n",
       "  'total_tokens': 23}}"
      ]
     },
     "execution_count": 6,
     "metadata": {},
     "output_type": "execute_result"
    }
   ],
   "source": [
    "model.invoke(\n",
    "    # gpt_version 을 gpt-4o-mini 로 설정합니다.\n",
    "    \"대한민국의 수도는 어디야?\",\n",
    "    config={\"configurable\": {\"gpt_version\": \"gpt-4o-mini\"}},\n",
    ").__dict__"
   ]
  },
  {
   "cell_type": "code",
   "execution_count": 7,
   "metadata": {},
   "outputs": [
    {
     "data": {
      "text/plain": [
       "{'content': '대한민국의 수도는 서울입니다.',\n",
       " 'additional_kwargs': {'refusal': None},\n",
       " 'response_metadata': {'token_usage': {'completion_tokens': 8,\n",
       "   'prompt_tokens': 15,\n",
       "   'total_tokens': 23},\n",
       "  'model_name': 'gpt-4o-mini-2024-07-18',\n",
       "  'system_fingerprint': 'fp_483d39d857',\n",
       "  'finish_reason': 'stop',\n",
       "  'logprobs': None},\n",
       " 'type': 'ai',\n",
       " 'name': None,\n",
       " 'id': 'run-f36e1f35-c184-4e9b-99f1-84c3dbbaf508-0',\n",
       " 'example': False,\n",
       " 'tool_calls': [],\n",
       " 'invalid_tool_calls': [],\n",
       " 'usage_metadata': {'input_tokens': 15,\n",
       "  'output_tokens': 8,\n",
       "  'total_tokens': 23}}"
      ]
     },
     "execution_count": 7,
     "metadata": {},
     "output_type": "execute_result"
    }
   ],
   "source": [
    "# id와 version을 넣어준것\n",
    "model.with_config(configurable={\"gpt_version\": \"gpt-4o-mini\"}).invoke(\n",
    "    \"대한민국의 수도는 어디야?\"\n",
    ").__dict__"
   ]
  },
  {
   "cell_type": "code",
   "execution_count": 9,
   "metadata": {},
   "outputs": [
    {
     "data": {
      "text/plain": [
       "{'content': '5',\n",
       " 'additional_kwargs': {'refusal': None},\n",
       " 'response_metadata': {'token_usage': {'completion_tokens': 1,\n",
       "   'prompt_tokens': 21,\n",
       "   'total_tokens': 22},\n",
       "  'model_name': 'gpt-3.5-turbo-0125',\n",
       "  'system_fingerprint': None,\n",
       "  'finish_reason': 'stop',\n",
       "  'logprobs': None},\n",
       " 'type': 'ai',\n",
       " 'name': None,\n",
       " 'id': 'run-179d455b-9e01-4eea-b588-ada1b7282842-0',\n",
       " 'example': False,\n",
       " 'tool_calls': [],\n",
       " 'invalid_tool_calls': [],\n",
       " 'usage_metadata': {'input_tokens': 21,\n",
       "  'output_tokens': 1,\n",
       "  'total_tokens': 22}}"
      ]
     },
     "execution_count": 9,
     "metadata": {},
     "output_type": "execute_result"
    }
   ],
   "source": [
    "# 템플릿에서 프롬프트 템플릿을 생성합니다.\n",
    "prompt = PromptTemplate.from_template(\"{x} 보다 큰 위의 난수를 선택합니다.\")\n",
    "chain = (\n",
    "    prompt | model\n",
    ")  # 프롬프트와 모델을 연결하여 체인을 생성합니다. 프롬프트의 출력이 모델의 입력으로 전달됩니다.\n",
    "chain.invoke({\"x\": 0}).__dict__  # 체인을 호출하고 입력 변수 \"x\"에 0을 전달합니다."
   ]
  },
  {
   "cell_type": "code",
   "execution_count": 10,
   "metadata": {},
   "outputs": [
    {
     "data": {
      "text/plain": [
       "{'content': '위의 난수를 선택하는 방법은 여러 가지가 있습니다. 예를 들어, 파이썬(Python) 프로그래밍 언어를 사용하여 0보다 큰 난수를 선택하는 방법을 보여드리겠습니다.\\n\\n```python\\nimport random\\n\\n# 0보다 큰 난수를 선택합니다.\\nrandom_number = random.uniform(0.0001, 1.0)\\nprint(random_number)\\n```\\n\\n위의 코드는 `random.uniform(a, b)` 함수를 사용하여 0.0001과 1.0 사이의 난수를 생성합니다. 이 함수는 a와 b 사이의 부동 소수점 난수를 반환합니다. 0보다 큰 난수를 원하므로, 0.0001과 같은 작은 값을 사용하여 0을 피할 수 있습니다.\\n\\n또는, 정수 난수를 원한다면 `random.randint(a, b)` 함수를 사용할 수 있습니다.\\n\\n```python\\nimport random\\n\\n# 0보다 큰 정수 난수를 선택합니다.\\nrandom_integer = random.randint(1, 100)\\nprint(random_integer)\\n```\\n\\n이 코드는 1과 100 사이의 정수 난수를 반환합니다. 원하는 범위에 맞게 a와 b 값을 조정할 수 있습니다.',\n",
       " 'additional_kwargs': {'refusal': None},\n",
       " 'response_metadata': {'token_usage': {'completion_tokens': 255,\n",
       "   'prompt_tokens': 17,\n",
       "   'total_tokens': 272},\n",
       "  'model_name': 'gpt-4o-2024-05-13',\n",
       "  'system_fingerprint': 'fp_25624ae3a5',\n",
       "  'finish_reason': 'stop',\n",
       "  'logprobs': None},\n",
       " 'type': 'ai',\n",
       " 'name': None,\n",
       " 'id': 'run-fb988464-f091-4f47-a5b8-83f31bd38c5a-0',\n",
       " 'example': False,\n",
       " 'tool_calls': [],\n",
       " 'invalid_tool_calls': [],\n",
       " 'usage_metadata': {'input_tokens': 17,\n",
       "  'output_tokens': 255,\n",
       "  'total_tokens': 272}}"
      ]
     },
     "execution_count": 10,
     "metadata": {},
     "output_type": "execute_result"
    }
   ],
   "source": [
    "# 체인을 호출할 때 설정을 지정하여 체인을 호출할 수 있습니다.\n",
    "chain.with_config(configurable={\"gpt_version\": \"gpt-4o\"}).invoke({\"x\": 0}).__dict__"
   ]
  },
  {
   "cell_type": "markdown",
   "metadata": {},
   "source": [
    "# Configurable Alternatives: Runnable 객체 자체의 대안 설정\n",
    "런타임에 설정할 수 있는 Runnable 에 대한 대안을 구성합니다.\n",
    "\n",
    "구성 가능한 대안들\n",
    "\n",
    "`ChatAnthropic` 의 구성 가능한 언어 모델은 다양한 작업과 컨텍스트에 적용할 수 있는 유연성을 제공합니다.\n",
    "\n",
    "동적으로 설정(Config) 값을 변경하기 위하여 모델에 설정하는 파라미터를 ConfigurableField 객체로 설정합니다.\n",
    "\n",
    "- `model`: 사용할 기본 언어 모델을 지정합니다.\n",
    "\n",
    "- `temperature`: 0에서 1 사이의 값으로, 샘플링의 무작위성을 제어합니다. 값이 낮을수록 더 결정적이고 반복적인 출력이 생성되며, 값이 높을수록 더 다양하고 창의적인 출력이 생성됩니다.\n",
    "\n",
    "LLM 객체의 대안(alternatives) 설정 방법\n",
    "LLM(Large Language Model)을 활용하여 이를 수행하는 방법을 살펴보겠습니다.\n",
    "\n",
    "[참고]\n",
    "\n",
    "- ChatAnthropic 모델을 사용하기 위하여 API KEY를 발급받아 설정해야합니다.\n",
    "- 링크: https://console.anthropic.com/dashboard\n",
    "- 아래 주석을 해제하고 API KEY를 설정하거나, .env 파일에 설정합니다.\n",
    "ANTHROPIC_API_KEY 환경변수를 설정합니다"
   ]
  },
  {
   "cell_type": "code",
   "execution_count": 15,
   "metadata": {},
   "outputs": [],
   "source": [
    "from langchain.prompts import PromptTemplate\n",
    "#from langchain_anthropic import ChatAnthropic\n",
    "from langchain_core.runnables import ConfigurableField\n",
    "from langchain_openai import ChatOpenAI\n",
    "\n",
    "llm = ChatOpenAI(\n",
    "    temperature=0, model=\"gpt-4o-mini\"\n",
    ").configurable_alternatives(\n",
    "    # 이 필드에 id를 부여합니다.\n",
    "    # 최종 실행 가능한 객체를 구성할 때, 이 id를 사용하여 이 필드를 구성할 수 있습니다.\n",
    "    ConfigurableField(id=\"llm\"),\n",
    "    # 기본 키를 설정합니다.\n",
    "    # 이 키를 지정하면 위에서 초기화된 기본 LLM(ChatAnthropic)이 사용됩니다.\n",
    "    default_key=\"openai\",    \n",
    "    # 'gpt4'라는 이름의 새 옵션을 추가하며, 이는 `ChatOpenAI(model=\"gpt-4\")`와 동일합니다.\n",
    "    gpt4o=ChatOpenAI(model=\"gpt-4o\"),\n",
    "    # 여기에 더 많은 구성 옵션을 추가할 수 있습니다.\n",
    ")\n",
    "prompt = PromptTemplate.from_template(\"{topic} 에 대해 간단히 설명해주세요.\")\n",
    "chain = prompt | llm"
   ]
  },
  {
   "cell_type": "code",
   "execution_count": 16,
   "metadata": {},
   "outputs": [
    {
     "data": {
      "text/plain": [
       "{'content': '뉴진스(NewJeans)는 2022년 데뷔한 대한민국의 걸그룹으로, 하이브의 자회사인 어도어(ADOR) 소속입니다. 그룹은 민지, 하니, 다니엘, 해린, 혜인으로 구성되어 있으며, 다양한 음악 스타일과 독창적인 콘셉트로 주목받고 있습니다. 뉴진스는 데뷔곡 \"Attention\"과 \"Hype Boy\"로 큰 인기를 얻었으며, 그들의 음악과 패션은 젊은 세대에게 많은 영향을 미치고 있습니다. 그룹은 신선한 이미지와 트렌디한 사운드로 K-pop 씬에서 빠르게 자리 잡고 있습니다.',\n",
       " 'additional_kwargs': {'refusal': None},\n",
       " 'response_metadata': {'token_usage': {'completion_tokens': 152,\n",
       "   'prompt_tokens': 18,\n",
       "   'total_tokens': 170},\n",
       "  'model_name': 'gpt-4o-mini-2024-07-18',\n",
       "  'system_fingerprint': 'fp_483d39d857',\n",
       "  'finish_reason': 'stop',\n",
       "  'logprobs': None},\n",
       " 'type': 'ai',\n",
       " 'name': None,\n",
       " 'id': 'run-ebcc475d-af79-430c-a8cd-693ece4a9f12-0',\n",
       " 'example': False,\n",
       " 'tool_calls': [],\n",
       " 'invalid_tool_calls': [],\n",
       " 'usage_metadata': {'input_tokens': 18,\n",
       "  'output_tokens': 152,\n",
       "  'total_tokens': 170}}"
      ]
     },
     "execution_count": 16,
     "metadata": {},
     "output_type": "execute_result"
    }
   ],
   "source": [
    "# Anthropic을 기본으로 호출합니다.\n",
    "chain.invoke({\"topic\": \"뉴진스\"}).__dict__"
   ]
  },
  {
   "cell_type": "code",
   "execution_count": 17,
   "metadata": {},
   "outputs": [
    {
     "data": {
      "text/plain": [
       "{'content': '뉴진스(NewJeans)는 대한민국의 걸그룹으로, 2022년에 데뷔하였습니다. 이 그룹은 어도어(ADOR)라는 하이브 레이블 소속입니다. 뉴진스는 독특한 음악 스타일과 패션으로 주목받고 있으며, 데뷔와 동시에 큰 인기를 끌었습니다. 그룹의 이름은 \"새로운 트렌드(New Jeans)\"와 \"영원히 사랑받는 진(Jeans)\"이라는 두 가지 의미를 담고 있습니다. 멤버들은 뛰어난 가창력과 퍼포먼스로 팬들에게 사랑받고 있습니다.',\n",
       " 'additional_kwargs': {'refusal': None},\n",
       " 'response_metadata': {'token_usage': {'completion_tokens': 130,\n",
       "   'prompt_tokens': 18,\n",
       "   'total_tokens': 148},\n",
       "  'model_name': 'gpt-4o-2024-05-13',\n",
       "  'system_fingerprint': 'fp_25624ae3a5',\n",
       "  'finish_reason': 'stop',\n",
       "  'logprobs': None},\n",
       " 'type': 'ai',\n",
       " 'name': None,\n",
       " 'id': 'run-390fa457-be3d-4b02-9567-9d196fd590bb-0',\n",
       " 'example': False,\n",
       " 'tool_calls': [],\n",
       " 'invalid_tool_calls': [],\n",
       " 'usage_metadata': {'input_tokens': 18,\n",
       "  'output_tokens': 130,\n",
       "  'total_tokens': 148}}"
      ]
     },
     "execution_count": 17,
     "metadata": {},
     "output_type": "execute_result"
    }
   ],
   "source": [
    "# 체인의 설정을 변경하여 호출합니다.\n",
    "chain.with_config(configurable={\"llm\": \"gpt4o\"}).invoke({\"topic\": \"뉴진스\"}).__dict__"
   ]
  },
  {
   "cell_type": "code",
   "execution_count": 18,
   "metadata": {},
   "outputs": [
    {
     "data": {
      "text/plain": [
       "{'content': '뉴진스(NewJeans)는 2022년 데뷔한 대한민국의 걸그룹으로, 하이브의 자회사인 어도어(ADOR) 소속입니다. 그룹은 민지, 하니, 다니엘, 해린, 혜인으로 구성되어 있으며, 다양한 음악 스타일과 독창적인 콘셉트로 주목받고 있습니다. 뉴진스는 데뷔곡 \"Attention\"과 \"Hype Boy\"로 큰 인기를 얻었으며, 그들의 음악은 R&B, 팝, 힙합 등 다양한 장르를 아우릅니다. 또한, 세련된 패션과 비주얼로도 많은 사랑을 받고 있습니다. 뉴진스는 빠르게 성장하며 K-pop 씬에서 중요한 위치를 차지하고 있습니다.',\n",
       " 'additional_kwargs': {'refusal': None},\n",
       " 'response_metadata': {'token_usage': {'completion_tokens': 168,\n",
       "   'prompt_tokens': 18,\n",
       "   'total_tokens': 186},\n",
       "  'model_name': 'gpt-4o-mini-2024-07-18',\n",
       "  'system_fingerprint': 'fp_483d39d857',\n",
       "  'finish_reason': 'stop',\n",
       "  'logprobs': None},\n",
       " 'type': 'ai',\n",
       " 'name': None,\n",
       " 'id': 'run-84959b2c-862d-4bc6-87b5-8c37fe0fd60a-0',\n",
       " 'example': False,\n",
       " 'tool_calls': [],\n",
       " 'invalid_tool_calls': [],\n",
       " 'usage_metadata': {'input_tokens': 18,\n",
       "  'output_tokens': 168,\n",
       "  'total_tokens': 186}}"
      ]
     },
     "execution_count": 18,
     "metadata": {},
     "output_type": "execute_result"
    }
   ],
   "source": [
    "# 체인의 설정을 변경하여 호출합니다.\n",
    "chain.with_config(configurable={\"llm\": \"openai\"}).invoke(\n",
    "    {\"topic\": \"뉴진스\"}\n",
    ").__dict__"
   ]
  },
  {
   "cell_type": "code",
   "execution_count": null,
   "metadata": {},
   "outputs": [],
   "source": []
  }
 ],
 "metadata": {
  "kernelspec": {
   "display_name": "langchain-kr-gLkynrUQ-py3.11",
   "language": "python",
   "name": "python3"
  },
  "language_info": {
   "codemirror_mode": {
    "name": "ipython",
    "version": 3
   },
   "file_extension": ".py",
   "mimetype": "text/x-python",
   "name": "python",
   "nbconvert_exporter": "python",
   "pygments_lexer": "ipython3",
   "version": "3.11.9"
  }
 },
 "nbformat": 4,
 "nbformat_minor": 2
}
