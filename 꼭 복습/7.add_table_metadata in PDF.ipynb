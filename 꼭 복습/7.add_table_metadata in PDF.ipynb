{
 "cells": [
  {
   "cell_type": "code",
   "execution_count": 2,
   "metadata": {},
   "outputs": [
    {
     "data": {
      "text/plain": [
       "True"
      ]
     },
     "execution_count": 2,
     "metadata": {},
     "output_type": "execute_result"
    }
   ],
   "source": [
    "from dotenv import load_dotenv\n",
    "load_dotenv()"
   ]
  },
  {
   "cell_type": "markdown",
   "metadata": {},
   "source": [
    "# 파일 로드"
   ]
  },
  {
   "cell_type": "code",
   "execution_count": 12,
   "metadata": {},
   "outputs": [
    {
     "data": {
      "text/plain": [
       "6"
      ]
     },
     "execution_count": 12,
     "metadata": {},
     "output_type": "execute_result"
    }
   ],
   "source": [
    "from langchain_community.document_loaders import PDFPlumberLoader\n",
    "\n",
    "loader = PDFPlumberLoader(\"data/diabetes draft7.pdf\")\n",
    "\n",
    "docs = loader.load()\n",
    "len(docs)"
   ]
  },
  {
   "cell_type": "markdown",
   "metadata": {},
   "source": [
    "# 메타 데이터 확인"
   ]
  },
  {
   "cell_type": "code",
   "execution_count": 13,
   "metadata": {},
   "outputs": [
    {
     "data": {
      "text/plain": [
       "{'source': 'data/diabetes draft7.pdf',\n",
       " 'file_path': 'data/diabetes draft7.pdf',\n",
       " 'page': 5,\n",
       " 'total_pages': 6,\n",
       " 'Author': '@¬8',\n",
       " 'CreationDate': \"D:20240726144349+09'00'\",\n",
       " 'ModDate': \"D:20240726144349+09'00'\",\n",
       " 'Producer': 'Microsoft: Print To PDF',\n",
       " 'Title': 'diabetes draft7.hwp'}"
      ]
     },
     "execution_count": 13,
     "metadata": {},
     "output_type": "execute_result"
    }
   ],
   "source": [
    "docs[5].metadata"
   ]
  },
  {
   "cell_type": "code",
   "execution_count": 14,
   "metadata": {},
   "outputs": [
    {
     "data": {
      "text/plain": [
       "[{'source': 'data/diabetes draft7.pdf',\n",
       "  'file_path': 'data/diabetes draft7.pdf',\n",
       "  'page': 0,\n",
       "  'total_pages': 6,\n",
       "  'Author': '@¬8',\n",
       "  'CreationDate': \"D:20240726144349+09'00'\",\n",
       "  'ModDate': \"D:20240726144349+09'00'\",\n",
       "  'Producer': 'Microsoft: Print To PDF',\n",
       "  'Title': 'diabetes draft7.hwp'},\n",
       " {'source': 'data/diabetes draft7.pdf',\n",
       "  'file_path': 'data/diabetes draft7.pdf',\n",
       "  'page': 1,\n",
       "  'total_pages': 6,\n",
       "  'Author': '@¬8',\n",
       "  'CreationDate': \"D:20240726144349+09'00'\",\n",
       "  'ModDate': \"D:20240726144349+09'00'\",\n",
       "  'Producer': 'Microsoft: Print To PDF',\n",
       "  'Title': 'diabetes draft7.hwp'},\n",
       " {'source': 'data/diabetes draft7.pdf',\n",
       "  'file_path': 'data/diabetes draft7.pdf',\n",
       "  'page': 2,\n",
       "  'total_pages': 6,\n",
       "  'Author': '@¬8',\n",
       "  'CreationDate': \"D:20240726144349+09'00'\",\n",
       "  'ModDate': \"D:20240726144349+09'00'\",\n",
       "  'Producer': 'Microsoft: Print To PDF',\n",
       "  'Title': 'diabetes draft7.hwp'},\n",
       " {'source': 'data/diabetes draft7.pdf',\n",
       "  'file_path': 'data/diabetes draft7.pdf',\n",
       "  'page': 3,\n",
       "  'total_pages': 6,\n",
       "  'Author': '@¬8',\n",
       "  'CreationDate': \"D:20240726144349+09'00'\",\n",
       "  'ModDate': \"D:20240726144349+09'00'\",\n",
       "  'Producer': 'Microsoft: Print To PDF',\n",
       "  'Title': 'diabetes draft7.hwp'},\n",
       " {'source': 'data/diabetes draft7.pdf',\n",
       "  'file_path': 'data/diabetes draft7.pdf',\n",
       "  'page': 4,\n",
       "  'total_pages': 6,\n",
       "  'Author': '@¬8',\n",
       "  'CreationDate': \"D:20240726144349+09'00'\",\n",
       "  'ModDate': \"D:20240726144349+09'00'\",\n",
       "  'Producer': 'Microsoft: Print To PDF',\n",
       "  'Title': 'diabetes draft7.hwp'},\n",
       " {'source': 'data/diabetes draft7.pdf',\n",
       "  'file_path': 'data/diabetes draft7.pdf',\n",
       "  'page': 5,\n",
       "  'total_pages': 6,\n",
       "  'Author': '@¬8',\n",
       "  'CreationDate': \"D:20240726144349+09'00'\",\n",
       "  'ModDate': \"D:20240726144349+09'00'\",\n",
       "  'Producer': 'Microsoft: Print To PDF',\n",
       "  'Title': 'diabetes draft7.hwp'}]"
      ]
     },
     "execution_count": 14,
     "metadata": {},
     "output_type": "execute_result"
    }
   ],
   "source": [
    "# docs 리스트에 포함된 모든 문서의 metadata 추출\n",
    "all_metadata = [doc.metadata for doc in docs]\n",
    "\n",
    "all_metadata"
   ]
  },
  {
   "cell_type": "markdown",
   "metadata": {},
   "source": [
    "# 추가할 데이터 생성\n",
    "\n",
    "GPT에,\n",
    "\n",
    "이미지를 캡쳐해서 `PDF의 메타데이터에 넣을수 있는 표로 파이썬 코드를 이용해서 작성해줘.` 라고 입력 - 직접 코딩할 일이 없어짐!"
   ]
  },
  {
   "cell_type": "code",
   "execution_count": 15,
   "metadata": {},
   "outputs": [],
   "source": [
    "import json\n",
    "table_data = {\n",
    "    \"headers\": [\"Model\", \"ROC-AUC\"],\n",
    "    \"rows\": [\n",
    "        {\"Model\": \"ADA\", \"ROC-AUC\": 0.51},\n",
    "        {\"Model\": \"LR\", \"ROC-AUC\": 0.50},\n",
    "        {\"Model\": \"XGB\", \"ROC-AUC\": 0.51},\n",
    "        {\"Model\": \"RF\", \"ROC-AUC\": 0.50},\n",
    "        {\"Model\": \"KNN\", \"ROC-AUC\": 0.50},\n",
    "        {\"Model\": \"SVC\", \"ROC-AUC\": 0.50},\n",
    "        {\"Model\": \"BNB\", \"ROC-AUC\": 0.54},\n",
    "        {\"Model\": \"Ridge\", \"ROC-AUC\": 0.51},\n",
    "        {\"Model\": \"DT\", \"ROC-AUC\": 0.54},\n",
    "        {\"Model\": \"GNB\", \"ROC-AUC\": 0.62},\n",
    "        {\"Model\": \"DNN\", \"ROC-AUC\": 0.81},\n",
    "        {\"Model\": \"RNN+CNN\", \"ROC-AUC\": 0.83}\n",
    "    ]\n",
    "}\n",
    "table_data_str = json.dumps(table_data)"
   ]
  },
  {
   "cell_type": "code",
   "execution_count": 16,
   "metadata": {},
   "outputs": [],
   "source": [
    "docs[5].metadata['table'] = table_data_str"
   ]
  },
  {
   "cell_type": "code",
   "execution_count": 17,
   "metadata": {},
   "outputs": [
    {
     "data": {
      "text/plain": [
       "{'source': 'data/diabetes draft7.pdf',\n",
       " 'file_path': 'data/diabetes draft7.pdf',\n",
       " 'page': 5,\n",
       " 'total_pages': 6,\n",
       " 'Author': '@¬8',\n",
       " 'CreationDate': \"D:20240726144349+09'00'\",\n",
       " 'ModDate': \"D:20240726144349+09'00'\",\n",
       " 'Producer': 'Microsoft: Print To PDF',\n",
       " 'Title': 'diabetes draft7.hwp',\n",
       " 'table': '{\"headers\": [\"Model\", \"ROC-AUC\"], \"rows\": [{\"Model\": \"ADA\", \"ROC-AUC\": 0.51}, {\"Model\": \"LR\", \"ROC-AUC\": 0.5}, {\"Model\": \"XGB\", \"ROC-AUC\": 0.51}, {\"Model\": \"RF\", \"ROC-AUC\": 0.5}, {\"Model\": \"KNN\", \"ROC-AUC\": 0.5}, {\"Model\": \"SVC\", \"ROC-AUC\": 0.5}, {\"Model\": \"BNB\", \"ROC-AUC\": 0.54}, {\"Model\": \"Ridge\", \"ROC-AUC\": 0.51}, {\"Model\": \"DT\", \"ROC-AUC\": 0.54}, {\"Model\": \"GNB\", \"ROC-AUC\": 0.62}, {\"Model\": \"DNN\", \"ROC-AUC\": 0.81}, {\"Model\": \"RNN+CNN\", \"ROC-AUC\": 0.83}]}'}"
      ]
     },
     "execution_count": 17,
     "metadata": {},
     "output_type": "execute_result"
    }
   ],
   "source": [
    "docs[5].metadata"
   ]
  },
  {
   "cell_type": "markdown",
   "metadata": {},
   "source": [
    "# 하던대로 RAG구축"
   ]
  },
  {
   "cell_type": "code",
   "execution_count": 54,
   "metadata": {},
   "outputs": [],
   "source": [
    "from operator import itemgetter\n",
    "from langchain_text_splitters import RecursiveCharacterTextSplitter\n",
    "from langchain_community.vectorstores import Chroma\n",
    "from langchain_openai import ChatOpenAI, OpenAIEmbeddings\n",
    "from langchain_core.prompts import ChatPromptTemplate, MessagesPlaceholder, PromptTemplate\n",
    "from langchain_community.chat_message_histories import ChatMessageHistory\n",
    "from langchain_core.runnables import RunnablePassthrough, RunnableWithMessageHistory\n",
    "from langchain_core.output_parsers import StrOutputParser\n"
   ]
  },
  {
   "cell_type": "code",
   "execution_count": 21,
   "metadata": {},
   "outputs": [],
   "source": [
    "text_splitter = RecursiveCharacterTextSplitter(chunk_size=1000, chunk_overlap=100)\n",
    "documents = text_splitter.split_documents(docs)"
   ]
  },
  {
   "cell_type": "code",
   "execution_count": 22,
   "metadata": {},
   "outputs": [
    {
     "data": {
      "text/plain": [
       "10"
      ]
     },
     "execution_count": 22,
     "metadata": {},
     "output_type": "execute_result"
    }
   ],
   "source": [
    "len(documents)"
   ]
  },
  {
   "cell_type": "code",
   "execution_count": 23,
   "metadata": {},
   "outputs": [],
   "source": [
    "embeddings = OpenAIEmbeddings(model=\"text-embedding-3-small\")\n",
    "llm = ChatOpenAI(model=\"gpt-4o-mini\")\n",
    "\n",
    "vector_store = Chroma.from_documents(documents, embeddings)\n",
    "retriever = vector_store.as_retriever()"
   ]
  },
  {
   "cell_type": "markdown",
   "metadata": {},
   "source": [
    "# retriever 확인해보기\n",
    "\n",
    "page_content에는 내용이 들어가 있지 않지만, metadata로 들어간것을 확인할 수 있다."
   ]
  },
  {
   "cell_type": "code",
   "execution_count": 27,
   "metadata": {},
   "outputs": [],
   "source": [
    "result = retriever.invoke(\"knn의 roc-auc값 알려줘\")"
   ]
  },
  {
   "cell_type": "code",
   "execution_count": 40,
   "metadata": {},
   "outputs": [
    {
     "data": {
      "text/plain": [
       "[Document(metadata={'Author': '@¬8', 'CreationDate': \"D:20240726144349+09'00'\", 'ModDate': \"D:20240726144349+09'00'\", 'Producer': 'Microsoft: Print To PDF', 'Title': 'diabetes draft7.hwp', 'file_path': 'data/diabetes draft7.pdf', 'page': 2, 'source': 'data/diabetes draft7.pdf', 'total_pages': 6}, page_content='. 기존연구\\n. 분석 알고리즘\\nFig3.ColumnsCorrelation\\nFig2.KNNAlgorithm'),\n",
       " Document(metadata={'Author': '@¬8', 'CreationDate': \"D:20240726144349+09'00'\", 'ModDate': \"D:20240726144349+09'00'\", 'Producer': 'Microsoft: Print To PDF', 'Title': 'diabetes draft7.hwp', 'file_path': 'data/diabetes draft7.pdf', 'page': 5, 'source': 'data/diabetes draft7.pdf', 'table': '{\"headers\": [\"Model\", \"ROC-AUC\"], \"rows\": [{\"Model\": \"ADA\", \"ROC-AUC\": 0.51}, {\"Model\": \"LR\", \"ROC-AUC\": 0.5}, {\"Model\": \"XGB\", \"ROC-AUC\": 0.51}, {\"Model\": \"RF\", \"ROC-AUC\": 0.5}, {\"Model\": \"KNN\", \"ROC-AUC\": 0.5}, {\"Model\": \"SVC\", \"ROC-AUC\": 0.5}, {\"Model\": \"BNB\", \"ROC-AUC\": 0.54}, {\"Model\": \"Ridge\", \"ROC-AUC\": 0.51}, {\"Model\": \"DT\", \"ROC-AUC\": 0.54}, {\"Model\": \"GNB\", \"ROC-AUC\": 0.62}, {\"Model\": \"DNN\", \"ROC-AUC\": 0.81}, {\"Model\": \"RNN+CNN\", \"ROC-AUC\": 0.83}]}', 'total_pages': 6}, page_content='Partial Least Squares Path Modeling: Basic Concepts,\\nMethodological Issues and Applications, pp.183-207, 2023\\nDOI:10.1007/978-3-031-37772-3_7\\n[9] N. Shrestha, “Detecting multicollinearity in regression\\nanalysis”, American Journal of Applied Mathematics and\\nStatistics, vol.8, no.2, pp.39-42, 2020.\\nDOI:10.12691/ajams-8-2-1\\n[10]A. Ogunpola, F.Saeed, S. Basurra, A.M. Albarrak, S.N.\\nQasem, \"Machine learning-based predictive models for\\ndetection of cardiovascular diseases\", Diagnostics, vol.14,\\n2024.DOI:10.3390/diagnostics14020144\\n김재호(Jae-Ho Kim)\\nREFERENCES\\n[1]GojkaRoglic,“WHOGlobalreportindiabetes:Asummary”,\\n수원대학교컴퓨터학부학사\\nInternational Journal ofNoncommunicable Diseases,vol.1,\\n수원대학교컴퓨터학부석사과정\\npp.3-8, Jun.2016.DOI:10.4103/2468-8827.184853 관심분야:인공지능\\n[2] S. G. Kim, D. S. Choi, “The present State of Diabetes\\nMellitus in Korea”, Journal of the Korean Medical\\nAssociation, vol.51, pp. 791-798, Sep. 2008. DOI: 김장영(Jang-Young Kim)\\nhttps://doi.org/10.5124/jkma.2008.51.9.791\\n연세대학교컴퓨터과학공학사'),\n",
       " Document(metadata={'Author': '@¬8', 'CreationDate': \"D:20240726144349+09'00'\", 'ModDate': \"D:20240726144349+09'00'\", 'Producer': 'Microsoft: Print To PDF', 'Title': 'diabetes draft7.hwp', 'file_path': 'data/diabetes draft7.pdf', 'page': 5, 'source': 'data/diabetes draft7.pdf', 'table': '{\"headers\": [\"Model\", \"ROC-AUC\"], \"rows\": [{\"Model\": \"ADA\", \"ROC-AUC\": 0.51}, {\"Model\": \"LR\", \"ROC-AUC\": 0.5}, {\"Model\": \"XGB\", \"ROC-AUC\": 0.51}, {\"Model\": \"RF\", \"ROC-AUC\": 0.5}, {\"Model\": \"KNN\", \"ROC-AUC\": 0.5}, {\"Model\": \"SVC\", \"ROC-AUC\": 0.5}, {\"Model\": \"BNB\", \"ROC-AUC\": 0.54}, {\"Model\": \"Ridge\", \"ROC-AUC\": 0.51}, {\"Model\": \"DT\", \"ROC-AUC\": 0.54}, {\"Model\": \"GNB\", \"ROC-AUC\": 0.62}, {\"Model\": \"DNN\", \"ROC-AUC\": 0.81}, {\"Model\": \"RNN+CNN\", \"ROC-AUC\": 0.83}]}', 'total_pages': 6}, page_content='https://doi.org/10.5124/jkma.2008.51.9.791\\n연세대학교컴퓨터과학공학사\\n[3] Kaggle Data set, Diabetes Prediction Dataset, 2022.\\nPennsylvaniaStateUniv.공학석사\\n[Internet].Available:https://www.kaggle.com/datasets/a StateUniversityofNewYork공학박사\\nlexteboul/diabetes-health-indicators-dataset?resourc UniversityofSouthCarolina교수\\n수원대학교컴퓨터학부교수\\ne=download 관심분야:Bigdata,AI,Cloudcomputing,Networks\\n[4]J.W.Smith, J. E. Everhart, W. C. Dickson, W. C. Knowler\\n, R. S. Johannes, “Using the ADAP Learning Algorithm to\\nForecast the Onset of Diabetes Mellitus,” Proceedings\\nAnnual Symposium on Computer Application in Medical'),\n",
       " Document(metadata={'Author': '@¬8', 'CreationDate': \"D:20240726144349+09'00'\", 'ModDate': \"D:20240726144349+09'00'\", 'Producer': 'Microsoft: Print To PDF', 'Title': 'diabetes draft7.hwp', 'file_path': 'data/diabetes draft7.pdf', 'page': 4, 'source': 'data/diabetes draft7.pdf', 'total_pages': 6}, page_content='Table.1 VIF(Variance Inflation Factors)\\n2 Accuracy .\\n.\\nTable.3 Recall\\n3 , Recall .\\nRecall .\\n,\\n. ,\\n. ,\\n.Recall\\n4.2Accuracy Recall\\n[10].\\nTable.1 Accuracy\\nⅤ. 결론 및 향후연구')]"
      ]
     },
     "execution_count": 40,
     "metadata": {},
     "output_type": "execute_result"
    }
   ],
   "source": [
    "result"
   ]
  },
  {
   "cell_type": "code",
   "execution_count": 41,
   "metadata": {},
   "outputs": [
    {
     "name": "stdout",
     "output_type": "stream",
     "text": [
      "{'Author': '@¬8', 'CreationDate': \"D:20240726144349+09'00'\", 'ModDate': \"D:20240726144349+09'00'\", 'Producer': 'Microsoft: Print To PDF', 'Title': 'diabetes draft7.hwp', 'file_path': 'data/diabetes draft7.pdf', 'page': 5, 'source': 'data/diabetes draft7.pdf', 'table': '{\"headers\": [\"Model\", \"ROC-AUC\"], \"rows\": [{\"Model\": \"ADA\", \"ROC-AUC\": 0.51}, {\"Model\": \"LR\", \"ROC-AUC\": 0.5}, {\"Model\": \"XGB\", \"ROC-AUC\": 0.51}, {\"Model\": \"RF\", \"ROC-AUC\": 0.5}, {\"Model\": \"KNN\", \"ROC-AUC\": 0.5}, {\"Model\": \"SVC\", \"ROC-AUC\": 0.5}, {\"Model\": \"BNB\", \"ROC-AUC\": 0.54}, {\"Model\": \"Ridge\", \"ROC-AUC\": 0.51}, {\"Model\": \"DT\", \"ROC-AUC\": 0.54}, {\"Model\": \"GNB\", \"ROC-AUC\": 0.62}, {\"Model\": \"DNN\", \"ROC-AUC\": 0.81}, {\"Model\": \"RNN+CNN\", \"ROC-AUC\": 0.83}]}', 'total_pages': 6}\n",
      "-------\n",
      "{'Author': '@¬8', 'CreationDate': \"D:20240726144349+09'00'\", 'ModDate': \"D:20240726144349+09'00'\", 'Producer': 'Microsoft: Print To PDF', 'Title': 'diabetes draft7.hwp', 'file_path': 'data/diabetes draft7.pdf', 'page': 5, 'source': 'data/diabetes draft7.pdf', 'table': '{\"headers\": [\"Model\", \"ROC-AUC\"], \"rows\": [{\"Model\": \"ADA\", \"ROC-AUC\": 0.51}, {\"Model\": \"LR\", \"ROC-AUC\": 0.5}, {\"Model\": \"XGB\", \"ROC-AUC\": 0.51}, {\"Model\": \"RF\", \"ROC-AUC\": 0.5}, {\"Model\": \"KNN\", \"ROC-AUC\": 0.5}, {\"Model\": \"SVC\", \"ROC-AUC\": 0.5}, {\"Model\": \"BNB\", \"ROC-AUC\": 0.54}, {\"Model\": \"Ridge\", \"ROC-AUC\": 0.51}, {\"Model\": \"DT\", \"ROC-AUC\": 0.54}, {\"Model\": \"GNB\", \"ROC-AUC\": 0.62}, {\"Model\": \"DNN\", \"ROC-AUC\": 0.81}, {\"Model\": \"RNN+CNN\", \"ROC-AUC\": 0.83}]}', 'total_pages': 6}\n"
     ]
    }
   ],
   "source": [
    "print(result[1].metadata)\n",
    "print(\"-------\")\n",
    "print(result[2].metadata)"
   ]
  },
  {
   "cell_type": "code",
   "execution_count": 44,
   "metadata": {},
   "outputs": [
    {
     "name": "stdout",
     "output_type": "stream",
     "text": [
      "Partial Least Squares Path Modeling: Basic Concepts,\n",
      "Methodological Issues and Applications, pp.183-207, 2023\n",
      "DOI:10.1007/978-3-031-37772-3_7\n",
      "[9] N. Shrestha, “Detecting multicollinearity in regression\n",
      "analysis”, American Journal of Applied Mathematics and\n",
      "Statistics, vol.8, no.2, pp.39-42, 2020.\n",
      "DOI:10.12691/ajams-8-2-1\n",
      "[10]A. Ogunpola, F.Saeed, S. Basurra, A.M. Albarrak, S.N.\n",
      "Qasem, \"Machine learning-based predictive models for\n",
      "detection of cardiovascular diseases\", Diagnostics, vol.14,\n",
      "2024.DOI:10.3390/diagnostics14020144\n",
      "김재호(Jae-Ho Kim)\n",
      "REFERENCES\n",
      "[1]GojkaRoglic,“WHOGlobalreportindiabetes:Asummary”,\n",
      "수원대학교컴퓨터학부학사\n",
      "International Journal ofNoncommunicable Diseases,vol.1,\n",
      "수원대학교컴퓨터학부석사과정\n",
      "pp.3-8, Jun.2016.DOI:10.4103/2468-8827.184853 관심분야:인공지능\n",
      "[2] S. G. Kim, D. S. Choi, “The present State of Diabetes\n",
      "Mellitus in Korea”, Journal of the Korean Medical\n",
      "Association, vol.51, pp. 791-798, Sep. 2008. DOI: 김장영(Jang-Young Kim)\n",
      "https://doi.org/10.5124/jkma.2008.51.9.791\n",
      "연세대학교컴퓨터과학공학사\n",
      "-------\n",
      "https://doi.org/10.5124/jkma.2008.51.9.791\n",
      "연세대학교컴퓨터과학공학사\n",
      "[3] Kaggle Data set, Diabetes Prediction Dataset, 2022.\n",
      "PennsylvaniaStateUniv.공학석사\n",
      "[Internet].Available:https://www.kaggle.com/datasets/a StateUniversityofNewYork공학박사\n",
      "lexteboul/diabetes-health-indicators-dataset?resourc UniversityofSouthCarolina교수\n",
      "수원대학교컴퓨터학부교수\n",
      "e=download 관심분야:Bigdata,AI,Cloudcomputing,Networks\n",
      "[4]J.W.Smith, J. E. Everhart, W. C. Dickson, W. C. Knowler\n",
      ", R. S. Johannes, “Using the ADAP Learning Algorithm to\n",
      "Forecast the Onset of Diabetes Mellitus,” Proceedings\n",
      "Annual Symposium on Computer Application in Medical\n"
     ]
    }
   ],
   "source": [
    "print(result[1].page_content)\n",
    "print(\"-------\")\n",
    "print(result[2].page_content)"
   ]
  },
  {
   "cell_type": "code",
   "execution_count": 64,
   "metadata": {},
   "outputs": [],
   "source": [
    "template = (\n",
    "    [\n",
    "        (\n",
    "            'system', \n",
    "            \"\"\"\n",
    "            당신은 도움이 되는 Q&A 챗봇입니다. 주어진 문서에 대해서 질문을 하면 답변을 해주세요.\n",
    "            답변을 주요 내용과 함께 마크다운 테이블 형식으로 작성해주세요.\n",
    "            답변의 출처를 적어주세요.\n",
    "            모르면 모른다고 답변해 주세요. \n",
    "            하지만, 당신의 생각을 답변할 수 있습니다. 다만, 당신의 생각이라고 말해야 합니다.\n",
    "            한국어로 답변해 주세요.\n",
    "\n",
    "            \n",
    "            #예제 형식:\n",
    "            (답변 간략 요약)\n",
    "            (테이블)\n",
    "            (질문에 대한 자세한 답변)\n",
    "            \n",
    "            **출처**\n",
    "            - (페이지 소스 및 페이지 번호)\n",
    "            \"\"\"\n",
    "        ),\n",
    "        MessagesPlaceholder(variable_name=\"chat_history\"),\n",
    "        ('human',\n",
    "        \"\"\"\n",
    "        #Question\n",
    "        {question}\n",
    "        #Context\n",
    "        {context}\n",
    "        \"\"\")\n",
    "\n",
    "    ]\n",
    ")\n",
    "prompt = ChatPromptTemplate.from_messages(template)"
   ]
  },
  {
   "cell_type": "code",
   "execution_count": 80,
   "metadata": {},
   "outputs": [],
   "source": [
    "\n",
    "llm = ChatOpenAI(model=\"gpt-4o-mini\")\n",
    "\n",
    "chain = (\n",
    "{\n",
    "    \"context\": itemgetter(\"question\")|retriever,\n",
    "    \"question\": itemgetter(\"question\"),\n",
    "    \"chat_history\": itemgetter(\"chat_history\"),\n",
    "}\n",
    "| prompt\n",
    "| llm\n",
    "| StrOutputParser()\n",
    ")\n"
   ]
  },
  {
   "cell_type": "code",
   "execution_count": 81,
   "metadata": {},
   "outputs": [
    {
     "ename": "TypeError",
     "evalue": "string indices must be integers, not 'str'",
     "output_type": "error",
     "traceback": [
      "\u001b[1;31m---------------------------------------------------------------------------\u001b[0m",
      "\u001b[1;31mTypeError\u001b[0m                                 Traceback (most recent call last)",
      "Cell \u001b[1;32mIn[81], line 1\u001b[0m\n\u001b[1;32m----> 1\u001b[0m \u001b[43mchain\u001b[49m\u001b[38;5;241;43m.\u001b[39;49m\u001b[43minvoke\u001b[49m\u001b[43m(\u001b[49m\u001b[38;5;124;43m\"\u001b[39;49m\u001b[38;5;124;43m본 논문에서 제시하는 ADA모델의 roc-auc 값은 얼마야?\u001b[39;49m\u001b[38;5;124;43m\"\u001b[39;49m\u001b[43m)\u001b[49m\n",
      "File \u001b[1;32mc:\\Users\\skyop\\AppData\\Local\\pypoetry\\Cache\\virtualenvs\\langchain-kr-gLkynrUQ-py3.11\\Lib\\site-packages\\langchain_core\\runnables\\base.py:2877\u001b[0m, in \u001b[0;36mRunnableSequence.invoke\u001b[1;34m(self, input, config, **kwargs)\u001b[0m\n\u001b[0;32m   2875\u001b[0m context\u001b[38;5;241m.\u001b[39mrun(_set_config_context, config)\n\u001b[0;32m   2876\u001b[0m \u001b[38;5;28;01mif\u001b[39;00m i \u001b[38;5;241m==\u001b[39m \u001b[38;5;241m0\u001b[39m:\n\u001b[1;32m-> 2877\u001b[0m     \u001b[38;5;28minput\u001b[39m \u001b[38;5;241m=\u001b[39m \u001b[43mcontext\u001b[49m\u001b[38;5;241;43m.\u001b[39;49m\u001b[43mrun\u001b[49m\u001b[43m(\u001b[49m\u001b[43mstep\u001b[49m\u001b[38;5;241;43m.\u001b[39;49m\u001b[43minvoke\u001b[49m\u001b[43m,\u001b[49m\u001b[43m \u001b[49m\u001b[38;5;28;43minput\u001b[39;49m\u001b[43m,\u001b[49m\u001b[43m \u001b[49m\u001b[43mconfig\u001b[49m\u001b[43m,\u001b[49m\u001b[43m \u001b[49m\u001b[38;5;241;43m*\u001b[39;49m\u001b[38;5;241;43m*\u001b[39;49m\u001b[43mkwargs\u001b[49m\u001b[43m)\u001b[49m\n\u001b[0;32m   2878\u001b[0m \u001b[38;5;28;01melse\u001b[39;00m:\n\u001b[0;32m   2879\u001b[0m     \u001b[38;5;28minput\u001b[39m \u001b[38;5;241m=\u001b[39m context\u001b[38;5;241m.\u001b[39mrun(step\u001b[38;5;241m.\u001b[39minvoke, \u001b[38;5;28minput\u001b[39m, config)\n",
      "File \u001b[1;32mc:\\Users\\skyop\\AppData\\Local\\pypoetry\\Cache\\virtualenvs\\langchain-kr-gLkynrUQ-py3.11\\Lib\\site-packages\\langchain_core\\runnables\\base.py:3580\u001b[0m, in \u001b[0;36mRunnableParallel.invoke\u001b[1;34m(self, input, config)\u001b[0m\n\u001b[0;32m   3575\u001b[0m     \u001b[38;5;28;01mwith\u001b[39;00m get_executor_for_config(config) \u001b[38;5;28;01mas\u001b[39;00m executor:\n\u001b[0;32m   3576\u001b[0m         futures \u001b[38;5;241m=\u001b[39m [\n\u001b[0;32m   3577\u001b[0m             executor\u001b[38;5;241m.\u001b[39msubmit(_invoke_step, step, \u001b[38;5;28minput\u001b[39m, config, key)\n\u001b[0;32m   3578\u001b[0m             \u001b[38;5;28;01mfor\u001b[39;00m key, step \u001b[38;5;129;01min\u001b[39;00m steps\u001b[38;5;241m.\u001b[39mitems()\n\u001b[0;32m   3579\u001b[0m         ]\n\u001b[1;32m-> 3580\u001b[0m         output \u001b[38;5;241m=\u001b[39m \u001b[43m{\u001b[49m\u001b[43mkey\u001b[49m\u001b[43m:\u001b[49m\u001b[43m \u001b[49m\u001b[43mfuture\u001b[49m\u001b[38;5;241;43m.\u001b[39;49m\u001b[43mresult\u001b[49m\u001b[43m(\u001b[49m\u001b[43m)\u001b[49m\u001b[43m \u001b[49m\u001b[38;5;28;43;01mfor\u001b[39;49;00m\u001b[43m \u001b[49m\u001b[43mkey\u001b[49m\u001b[43m,\u001b[49m\u001b[43m \u001b[49m\u001b[43mfuture\u001b[49m\u001b[43m \u001b[49m\u001b[38;5;129;43;01min\u001b[39;49;00m\u001b[43m \u001b[49m\u001b[38;5;28;43mzip\u001b[39;49m\u001b[43m(\u001b[49m\u001b[43msteps\u001b[49m\u001b[43m,\u001b[49m\u001b[43m \u001b[49m\u001b[43mfutures\u001b[49m\u001b[43m)\u001b[49m\u001b[43m}\u001b[49m\n\u001b[0;32m   3581\u001b[0m \u001b[38;5;66;03m# finish the root run\u001b[39;00m\n\u001b[0;32m   3582\u001b[0m \u001b[38;5;28;01mexcept\u001b[39;00m \u001b[38;5;167;01mBaseException\u001b[39;00m \u001b[38;5;28;01mas\u001b[39;00m e:\n",
      "File \u001b[1;32mc:\\Users\\skyop\\AppData\\Local\\pypoetry\\Cache\\virtualenvs\\langchain-kr-gLkynrUQ-py3.11\\Lib\\site-packages\\langchain_core\\runnables\\base.py:3580\u001b[0m, in \u001b[0;36m<dictcomp>\u001b[1;34m(.0)\u001b[0m\n\u001b[0;32m   3575\u001b[0m     \u001b[38;5;28;01mwith\u001b[39;00m get_executor_for_config(config) \u001b[38;5;28;01mas\u001b[39;00m executor:\n\u001b[0;32m   3576\u001b[0m         futures \u001b[38;5;241m=\u001b[39m [\n\u001b[0;32m   3577\u001b[0m             executor\u001b[38;5;241m.\u001b[39msubmit(_invoke_step, step, \u001b[38;5;28minput\u001b[39m, config, key)\n\u001b[0;32m   3578\u001b[0m             \u001b[38;5;28;01mfor\u001b[39;00m key, step \u001b[38;5;129;01min\u001b[39;00m steps\u001b[38;5;241m.\u001b[39mitems()\n\u001b[0;32m   3579\u001b[0m         ]\n\u001b[1;32m-> 3580\u001b[0m         output \u001b[38;5;241m=\u001b[39m {key: \u001b[43mfuture\u001b[49m\u001b[38;5;241;43m.\u001b[39;49m\u001b[43mresult\u001b[49m\u001b[43m(\u001b[49m\u001b[43m)\u001b[49m \u001b[38;5;28;01mfor\u001b[39;00m key, future \u001b[38;5;129;01min\u001b[39;00m \u001b[38;5;28mzip\u001b[39m(steps, futures)}\n\u001b[0;32m   3581\u001b[0m \u001b[38;5;66;03m# finish the root run\u001b[39;00m\n\u001b[0;32m   3582\u001b[0m \u001b[38;5;28;01mexcept\u001b[39;00m \u001b[38;5;167;01mBaseException\u001b[39;00m \u001b[38;5;28;01mas\u001b[39;00m e:\n",
      "File \u001b[1;32m~\\.pyenv\\pyenv-win\\versions\\3.11.9\\Lib\\concurrent\\futures\\_base.py:449\u001b[0m, in \u001b[0;36mFuture.result\u001b[1;34m(self, timeout)\u001b[0m\n\u001b[0;32m    447\u001b[0m     \u001b[38;5;28;01mraise\u001b[39;00m CancelledError()\n\u001b[0;32m    448\u001b[0m \u001b[38;5;28;01melif\u001b[39;00m \u001b[38;5;28mself\u001b[39m\u001b[38;5;241m.\u001b[39m_state \u001b[38;5;241m==\u001b[39m FINISHED:\n\u001b[1;32m--> 449\u001b[0m     \u001b[38;5;28;01mreturn\u001b[39;00m \u001b[38;5;28;43mself\u001b[39;49m\u001b[38;5;241;43m.\u001b[39;49m\u001b[43m__get_result\u001b[49m\u001b[43m(\u001b[49m\u001b[43m)\u001b[49m\n\u001b[0;32m    451\u001b[0m \u001b[38;5;28mself\u001b[39m\u001b[38;5;241m.\u001b[39m_condition\u001b[38;5;241m.\u001b[39mwait(timeout)\n\u001b[0;32m    453\u001b[0m \u001b[38;5;28;01mif\u001b[39;00m \u001b[38;5;28mself\u001b[39m\u001b[38;5;241m.\u001b[39m_state \u001b[38;5;129;01min\u001b[39;00m [CANCELLED, CANCELLED_AND_NOTIFIED]:\n",
      "File \u001b[1;32m~\\.pyenv\\pyenv-win\\versions\\3.11.9\\Lib\\concurrent\\futures\\_base.py:401\u001b[0m, in \u001b[0;36mFuture.__get_result\u001b[1;34m(self)\u001b[0m\n\u001b[0;32m    399\u001b[0m \u001b[38;5;28;01mif\u001b[39;00m \u001b[38;5;28mself\u001b[39m\u001b[38;5;241m.\u001b[39m_exception:\n\u001b[0;32m    400\u001b[0m     \u001b[38;5;28;01mtry\u001b[39;00m:\n\u001b[1;32m--> 401\u001b[0m         \u001b[38;5;28;01mraise\u001b[39;00m \u001b[38;5;28mself\u001b[39m\u001b[38;5;241m.\u001b[39m_exception\n\u001b[0;32m    402\u001b[0m     \u001b[38;5;28;01mfinally\u001b[39;00m:\n\u001b[0;32m    403\u001b[0m         \u001b[38;5;66;03m# Break a reference cycle with the exception in self._exception\u001b[39;00m\n\u001b[0;32m    404\u001b[0m         \u001b[38;5;28mself\u001b[39m \u001b[38;5;241m=\u001b[39m \u001b[38;5;28;01mNone\u001b[39;00m\n",
      "File \u001b[1;32m~\\.pyenv\\pyenv-win\\versions\\3.11.9\\Lib\\concurrent\\futures\\thread.py:58\u001b[0m, in \u001b[0;36m_WorkItem.run\u001b[1;34m(self)\u001b[0m\n\u001b[0;32m     55\u001b[0m     \u001b[38;5;28;01mreturn\u001b[39;00m\n\u001b[0;32m     57\u001b[0m \u001b[38;5;28;01mtry\u001b[39;00m:\n\u001b[1;32m---> 58\u001b[0m     result \u001b[38;5;241m=\u001b[39m \u001b[38;5;28;43mself\u001b[39;49m\u001b[38;5;241;43m.\u001b[39;49m\u001b[43mfn\u001b[49m\u001b[43m(\u001b[49m\u001b[38;5;241;43m*\u001b[39;49m\u001b[38;5;28;43mself\u001b[39;49m\u001b[38;5;241;43m.\u001b[39;49m\u001b[43margs\u001b[49m\u001b[43m,\u001b[49m\u001b[43m \u001b[49m\u001b[38;5;241;43m*\u001b[39;49m\u001b[38;5;241;43m*\u001b[39;49m\u001b[38;5;28;43mself\u001b[39;49m\u001b[38;5;241;43m.\u001b[39;49m\u001b[43mkwargs\u001b[49m\u001b[43m)\u001b[49m\n\u001b[0;32m     59\u001b[0m \u001b[38;5;28;01mexcept\u001b[39;00m \u001b[38;5;167;01mBaseException\u001b[39;00m \u001b[38;5;28;01mas\u001b[39;00m exc:\n\u001b[0;32m     60\u001b[0m     \u001b[38;5;28mself\u001b[39m\u001b[38;5;241m.\u001b[39mfuture\u001b[38;5;241m.\u001b[39mset_exception(exc)\n",
      "File \u001b[1;32mc:\\Users\\skyop\\AppData\\Local\\pypoetry\\Cache\\virtualenvs\\langchain-kr-gLkynrUQ-py3.11\\Lib\\site-packages\\langchain_core\\runnables\\base.py:3564\u001b[0m, in \u001b[0;36mRunnableParallel.invoke.<locals>._invoke_step\u001b[1;34m(step, input, config, key)\u001b[0m\n\u001b[0;32m   3562\u001b[0m context \u001b[38;5;241m=\u001b[39m copy_context()\n\u001b[0;32m   3563\u001b[0m context\u001b[38;5;241m.\u001b[39mrun(_set_config_context, child_config)\n\u001b[1;32m-> 3564\u001b[0m \u001b[38;5;28;01mreturn\u001b[39;00m context\u001b[38;5;241m.\u001b[39mrun(\n\u001b[0;32m   3565\u001b[0m     step\u001b[38;5;241m.\u001b[39minvoke,\n\u001b[0;32m   3566\u001b[0m     \u001b[38;5;28minput\u001b[39m,\n\u001b[0;32m   3567\u001b[0m     child_config,\n\u001b[0;32m   3568\u001b[0m )\n",
      "File \u001b[1;32mc:\\Users\\skyop\\AppData\\Local\\pypoetry\\Cache\\virtualenvs\\langchain-kr-gLkynrUQ-py3.11\\Lib\\site-packages\\langchain_core\\runnables\\base.py:2877\u001b[0m, in \u001b[0;36mRunnableSequence.invoke\u001b[1;34m(self, input, config, **kwargs)\u001b[0m\n\u001b[0;32m   2875\u001b[0m context\u001b[38;5;241m.\u001b[39mrun(_set_config_context, config)\n\u001b[0;32m   2876\u001b[0m \u001b[38;5;28;01mif\u001b[39;00m i \u001b[38;5;241m==\u001b[39m \u001b[38;5;241m0\u001b[39m:\n\u001b[1;32m-> 2877\u001b[0m     \u001b[38;5;28minput\u001b[39m \u001b[38;5;241m=\u001b[39m \u001b[43mcontext\u001b[49m\u001b[38;5;241;43m.\u001b[39;49m\u001b[43mrun\u001b[49m\u001b[43m(\u001b[49m\u001b[43mstep\u001b[49m\u001b[38;5;241;43m.\u001b[39;49m\u001b[43minvoke\u001b[49m\u001b[43m,\u001b[49m\u001b[43m \u001b[49m\u001b[38;5;28;43minput\u001b[39;49m\u001b[43m,\u001b[49m\u001b[43m \u001b[49m\u001b[43mconfig\u001b[49m\u001b[43m,\u001b[49m\u001b[43m \u001b[49m\u001b[38;5;241;43m*\u001b[39;49m\u001b[38;5;241;43m*\u001b[39;49m\u001b[43mkwargs\u001b[49m\u001b[43m)\u001b[49m\n\u001b[0;32m   2878\u001b[0m \u001b[38;5;28;01melse\u001b[39;00m:\n\u001b[0;32m   2879\u001b[0m     \u001b[38;5;28minput\u001b[39m \u001b[38;5;241m=\u001b[39m context\u001b[38;5;241m.\u001b[39mrun(step\u001b[38;5;241m.\u001b[39minvoke, \u001b[38;5;28minput\u001b[39m, config)\n",
      "File \u001b[1;32mc:\\Users\\skyop\\AppData\\Local\\pypoetry\\Cache\\virtualenvs\\langchain-kr-gLkynrUQ-py3.11\\Lib\\site-packages\\langchain_core\\runnables\\base.py:4475\u001b[0m, in \u001b[0;36mRunnableLambda.invoke\u001b[1;34m(self, input, config, **kwargs)\u001b[0m\n\u001b[0;32m   4461\u001b[0m \u001b[38;5;250m\u001b[39m\u001b[38;5;124;03m\"\"\"Invoke this Runnable synchronously.\u001b[39;00m\n\u001b[0;32m   4462\u001b[0m \n\u001b[0;32m   4463\u001b[0m \u001b[38;5;124;03mArgs:\u001b[39;00m\n\u001b[1;32m   (...)\u001b[0m\n\u001b[0;32m   4472\u001b[0m \u001b[38;5;124;03m    TypeError: If the Runnable is a coroutine function.\u001b[39;00m\n\u001b[0;32m   4473\u001b[0m \u001b[38;5;124;03m\"\"\"\u001b[39;00m\n\u001b[0;32m   4474\u001b[0m \u001b[38;5;28;01mif\u001b[39;00m \u001b[38;5;28mhasattr\u001b[39m(\u001b[38;5;28mself\u001b[39m, \u001b[38;5;124m\"\u001b[39m\u001b[38;5;124mfunc\u001b[39m\u001b[38;5;124m\"\u001b[39m):\n\u001b[1;32m-> 4475\u001b[0m     \u001b[38;5;28;01mreturn\u001b[39;00m \u001b[38;5;28;43mself\u001b[39;49m\u001b[38;5;241;43m.\u001b[39;49m\u001b[43m_call_with_config\u001b[49m\u001b[43m(\u001b[49m\n\u001b[0;32m   4476\u001b[0m \u001b[43m        \u001b[49m\u001b[38;5;28;43mself\u001b[39;49m\u001b[38;5;241;43m.\u001b[39;49m\u001b[43m_invoke\u001b[49m\u001b[43m,\u001b[49m\n\u001b[0;32m   4477\u001b[0m \u001b[43m        \u001b[49m\u001b[38;5;28;43minput\u001b[39;49m\u001b[43m,\u001b[49m\n\u001b[0;32m   4478\u001b[0m \u001b[43m        \u001b[49m\u001b[38;5;28;43mself\u001b[39;49m\u001b[38;5;241;43m.\u001b[39;49m\u001b[43m_config\u001b[49m\u001b[43m(\u001b[49m\u001b[43mconfig\u001b[49m\u001b[43m,\u001b[49m\u001b[43m \u001b[49m\u001b[38;5;28;43mself\u001b[39;49m\u001b[38;5;241;43m.\u001b[39;49m\u001b[43mfunc\u001b[49m\u001b[43m)\u001b[49m\u001b[43m,\u001b[49m\n\u001b[0;32m   4479\u001b[0m \u001b[43m        \u001b[49m\u001b[38;5;241;43m*\u001b[39;49m\u001b[38;5;241;43m*\u001b[39;49m\u001b[43mkwargs\u001b[49m\u001b[43m,\u001b[49m\n\u001b[0;32m   4480\u001b[0m \u001b[43m    \u001b[49m\u001b[43m)\u001b[49m\n\u001b[0;32m   4481\u001b[0m \u001b[38;5;28;01melse\u001b[39;00m:\n\u001b[0;32m   4482\u001b[0m     \u001b[38;5;28;01mraise\u001b[39;00m \u001b[38;5;167;01mTypeError\u001b[39;00m(\n\u001b[0;32m   4483\u001b[0m         \u001b[38;5;124m\"\u001b[39m\u001b[38;5;124mCannot invoke a coroutine function synchronously.\u001b[39m\u001b[38;5;124m\"\u001b[39m\n\u001b[0;32m   4484\u001b[0m         \u001b[38;5;124m\"\u001b[39m\u001b[38;5;124mUse `ainvoke` instead.\u001b[39m\u001b[38;5;124m\"\u001b[39m\n\u001b[0;32m   4485\u001b[0m     )\n",
      "File \u001b[1;32mc:\\Users\\skyop\\AppData\\Local\\pypoetry\\Cache\\virtualenvs\\langchain-kr-gLkynrUQ-py3.11\\Lib\\site-packages\\langchain_core\\runnables\\base.py:1786\u001b[0m, in \u001b[0;36mRunnable._call_with_config\u001b[1;34m(self, func, input, config, run_type, serialized, **kwargs)\u001b[0m\n\u001b[0;32m   1782\u001b[0m     context \u001b[38;5;241m=\u001b[39m copy_context()\n\u001b[0;32m   1783\u001b[0m     context\u001b[38;5;241m.\u001b[39mrun(_set_config_context, child_config)\n\u001b[0;32m   1784\u001b[0m     output \u001b[38;5;241m=\u001b[39m cast(\n\u001b[0;32m   1785\u001b[0m         Output,\n\u001b[1;32m-> 1786\u001b[0m         \u001b[43mcontext\u001b[49m\u001b[38;5;241;43m.\u001b[39;49m\u001b[43mrun\u001b[49m\u001b[43m(\u001b[49m\n\u001b[0;32m   1787\u001b[0m \u001b[43m            \u001b[49m\u001b[43mcall_func_with_variable_args\u001b[49m\u001b[43m,\u001b[49m\u001b[43m  \u001b[49m\u001b[38;5;66;43;03m# type: ignore[arg-type]\u001b[39;49;00m\n\u001b[0;32m   1788\u001b[0m \u001b[43m            \u001b[49m\u001b[43mfunc\u001b[49m\u001b[43m,\u001b[49m\u001b[43m  \u001b[49m\u001b[38;5;66;43;03m# type: ignore[arg-type]\u001b[39;49;00m\n\u001b[0;32m   1789\u001b[0m \u001b[43m            \u001b[49m\u001b[38;5;28;43minput\u001b[39;49m\u001b[43m,\u001b[49m\u001b[43m  \u001b[49m\u001b[38;5;66;43;03m# type: ignore[arg-type]\u001b[39;49;00m\n\u001b[0;32m   1790\u001b[0m \u001b[43m            \u001b[49m\u001b[43mconfig\u001b[49m\u001b[43m,\u001b[49m\n\u001b[0;32m   1791\u001b[0m \u001b[43m            \u001b[49m\u001b[43mrun_manager\u001b[49m\u001b[43m,\u001b[49m\n\u001b[0;32m   1792\u001b[0m \u001b[43m            \u001b[49m\u001b[38;5;241;43m*\u001b[39;49m\u001b[38;5;241;43m*\u001b[39;49m\u001b[43mkwargs\u001b[49m\u001b[43m,\u001b[49m\n\u001b[0;32m   1793\u001b[0m \u001b[43m        \u001b[49m\u001b[43m)\u001b[49m,\n\u001b[0;32m   1794\u001b[0m     )\n\u001b[0;32m   1795\u001b[0m \u001b[38;5;28;01mexcept\u001b[39;00m \u001b[38;5;167;01mBaseException\u001b[39;00m \u001b[38;5;28;01mas\u001b[39;00m e:\n\u001b[0;32m   1796\u001b[0m     run_manager\u001b[38;5;241m.\u001b[39mon_chain_error(e)\n",
      "File \u001b[1;32mc:\\Users\\skyop\\AppData\\Local\\pypoetry\\Cache\\virtualenvs\\langchain-kr-gLkynrUQ-py3.11\\Lib\\site-packages\\langchain_core\\runnables\\config.py:398\u001b[0m, in \u001b[0;36mcall_func_with_variable_args\u001b[1;34m(func, input, config, run_manager, **kwargs)\u001b[0m\n\u001b[0;32m    396\u001b[0m \u001b[38;5;28;01mif\u001b[39;00m run_manager \u001b[38;5;129;01mis\u001b[39;00m \u001b[38;5;129;01mnot\u001b[39;00m \u001b[38;5;28;01mNone\u001b[39;00m \u001b[38;5;129;01mand\u001b[39;00m accepts_run_manager(func):\n\u001b[0;32m    397\u001b[0m     kwargs[\u001b[38;5;124m\"\u001b[39m\u001b[38;5;124mrun_manager\u001b[39m\u001b[38;5;124m\"\u001b[39m] \u001b[38;5;241m=\u001b[39m run_manager\n\u001b[1;32m--> 398\u001b[0m \u001b[38;5;28;01mreturn\u001b[39;00m \u001b[43mfunc\u001b[49m\u001b[43m(\u001b[49m\u001b[38;5;28;43minput\u001b[39;49m\u001b[43m,\u001b[49m\u001b[43m \u001b[49m\u001b[38;5;241;43m*\u001b[39;49m\u001b[38;5;241;43m*\u001b[39;49m\u001b[43mkwargs\u001b[49m\u001b[43m)\u001b[49m\n",
      "File \u001b[1;32mc:\\Users\\skyop\\AppData\\Local\\pypoetry\\Cache\\virtualenvs\\langchain-kr-gLkynrUQ-py3.11\\Lib\\site-packages\\langchain_core\\runnables\\base.py:4331\u001b[0m, in \u001b[0;36mRunnableLambda._invoke\u001b[1;34m(self, input, run_manager, config, **kwargs)\u001b[0m\n\u001b[0;32m   4329\u001b[0m                 output \u001b[38;5;241m=\u001b[39m chunk\n\u001b[0;32m   4330\u001b[0m \u001b[38;5;28;01melse\u001b[39;00m:\n\u001b[1;32m-> 4331\u001b[0m     output \u001b[38;5;241m=\u001b[39m \u001b[43mcall_func_with_variable_args\u001b[49m\u001b[43m(\u001b[49m\n\u001b[0;32m   4332\u001b[0m \u001b[43m        \u001b[49m\u001b[38;5;28;43mself\u001b[39;49m\u001b[38;5;241;43m.\u001b[39;49m\u001b[43mfunc\u001b[49m\u001b[43m,\u001b[49m\u001b[43m \u001b[49m\u001b[38;5;28;43minput\u001b[39;49m\u001b[43m,\u001b[49m\u001b[43m \u001b[49m\u001b[43mconfig\u001b[49m\u001b[43m,\u001b[49m\u001b[43m \u001b[49m\u001b[43mrun_manager\u001b[49m\u001b[43m,\u001b[49m\u001b[43m \u001b[49m\u001b[38;5;241;43m*\u001b[39;49m\u001b[38;5;241;43m*\u001b[39;49m\u001b[43mkwargs\u001b[49m\n\u001b[0;32m   4333\u001b[0m \u001b[43m    \u001b[49m\u001b[43m)\u001b[49m\n\u001b[0;32m   4334\u001b[0m \u001b[38;5;66;03m# If the output is a Runnable, invoke it\u001b[39;00m\n\u001b[0;32m   4335\u001b[0m \u001b[38;5;28;01mif\u001b[39;00m \u001b[38;5;28misinstance\u001b[39m(output, Runnable):\n",
      "File \u001b[1;32mc:\\Users\\skyop\\AppData\\Local\\pypoetry\\Cache\\virtualenvs\\langchain-kr-gLkynrUQ-py3.11\\Lib\\site-packages\\langchain_core\\runnables\\config.py:398\u001b[0m, in \u001b[0;36mcall_func_with_variable_args\u001b[1;34m(func, input, config, run_manager, **kwargs)\u001b[0m\n\u001b[0;32m    396\u001b[0m \u001b[38;5;28;01mif\u001b[39;00m run_manager \u001b[38;5;129;01mis\u001b[39;00m \u001b[38;5;129;01mnot\u001b[39;00m \u001b[38;5;28;01mNone\u001b[39;00m \u001b[38;5;129;01mand\u001b[39;00m accepts_run_manager(func):\n\u001b[0;32m    397\u001b[0m     kwargs[\u001b[38;5;124m\"\u001b[39m\u001b[38;5;124mrun_manager\u001b[39m\u001b[38;5;124m\"\u001b[39m] \u001b[38;5;241m=\u001b[39m run_manager\n\u001b[1;32m--> 398\u001b[0m \u001b[38;5;28;01mreturn\u001b[39;00m \u001b[43mfunc\u001b[49m\u001b[43m(\u001b[49m\u001b[38;5;28;43minput\u001b[39;49m\u001b[43m,\u001b[49m\u001b[43m \u001b[49m\u001b[38;5;241;43m*\u001b[39;49m\u001b[38;5;241;43m*\u001b[39;49m\u001b[43mkwargs\u001b[49m\u001b[43m)\u001b[49m\n",
      "\u001b[1;31mTypeError\u001b[0m: string indices must be integers, not 'str'"
     ]
    }
   ],
   "source": [
    "chain.invoke(\"본 논문에서 제시하는 ADA모델의 roc-auc 값은 얼마야?\")"
   ]
  },
  {
   "cell_type": "code",
   "execution_count": 82,
   "metadata": {},
   "outputs": [],
   "source": [
    "store = {}\n",
    "\n",
    "# 세션 기록을 가져오는 함수\n",
    "def get_session_history(session_ids):\n",
    "    print(f\"[대화 세션ID]: {session_ids}\")\n",
    "    if session_ids not in store:\n",
    "        store[session_ids] = ChatMessageHistory()\n",
    "\n",
    "    return store[session_ids]"
   ]
  },
  {
   "cell_type": "code",
   "execution_count": 83,
   "metadata": {},
   "outputs": [],
   "source": [
    "chain_with_history = RunnableWithMessageHistory(\n",
    "    chain,\n",
    "    get_session_history, # 세션 기록을 가져오는 함수\n",
    "    input_messages_key=\"question\", # 사용자의 질문이 템플릿 변수에 들어갈 key\n",
    "    history_messages_key=\"chat_history\" #기록 메세지의 키\n",
    ")"
   ]
  },
  {
   "cell_type": "code",
   "execution_count": 85,
   "metadata": {},
   "outputs": [
    {
     "name": "stdout",
     "output_type": "stream",
     "text": [
      "[대화 세션ID]: abc123\n"
     ]
    }
   ],
   "source": [
    "response = chain_with_history.invoke({\"question\": \"본 논문에서 제시하는 모델들의 roc-auc 값들을 알려줘\"},\n",
    "                           config={\"configurable\": {\"session_id\":\"abc123\"}})"
   ]
  },
  {
   "cell_type": "code",
   "execution_count": 86,
   "metadata": {},
   "outputs": [
    {
     "name": "stdout",
     "output_type": "stream",
     "text": [
      "본 논문에서 제시하는 모델들의 ROC-AUC 값은 다음과 같습니다.\n",
      "\n",
      "| 모델       | ROC-AUC |\n",
      "|------------|---------|\n",
      "| ADA        | 0.51    |\n",
      "| LR         | 0.50    |\n",
      "| XGB        | 0.51    |\n",
      "| RF         | 0.50    |\n",
      "| KNN        | 0.50    |\n",
      "| SVC        | 0.50    |\n",
      "| BNB        | 0.54    |\n",
      "| Ridge      | 0.51    |\n",
      "| DT         | 0.54    |\n",
      "| GNB        | 0.62    |\n",
      "| DNN        | 0.81    |\n",
      "| RNN+CNN    | 0.83    |\n",
      "\n",
      "**출처**\n",
      "- (페이지 소스: data/diabetes draft7.pdf, 페이지 번호: 5)\n"
     ]
    }
   ],
   "source": [
    "print(response)"
   ]
  },
  {
   "cell_type": "code",
   "execution_count": null,
   "metadata": {},
   "outputs": [],
   "source": []
  },
  {
   "cell_type": "code",
   "execution_count": 49,
   "metadata": {},
   "outputs": [
    {
     "data": {
      "text/plain": [
       "'논문에서 제시하는 모델들의 ROC-AUC 값은 다음과 같습니다:\\n\\n- ADA: 0.51\\n- LR: 0.50\\n- XGB: 0.51\\n- RF: 0.50\\n- KNN: 0.50\\n- SVC: 0.50\\n- BNB: 0.54\\n- Ridge: 0.51\\n- DT: 0.54\\n- GNB: 0.62\\n- DNN: 0.81\\n- RNN+CNN: 0.83\\n\\n출처: \"diabetes draft7.pdf\" 문서, 페이지 5.'"
      ]
     },
     "execution_count": 49,
     "metadata": {},
     "output_type": "execute_result"
    }
   ],
   "source": [
    "chain.invoke(\"본 논문에서 제시하는 모델들의 roc-auc 값들을 알려줘\")"
   ]
  },
  {
   "cell_type": "code",
   "execution_count": 50,
   "metadata": {},
   "outputs": [
    {
     "name": "stdout",
     "output_type": "stream",
     "text": [
      "본 논문에서 제시하는 모델들의 ROC-AUC 값은 다음과 같습니다:\n",
      "\n",
      "- ADA: 0.51\n",
      "- LR: 0.5\n",
      "- XGB: 0.51\n",
      "- RF: 0.5\n",
      "- KNN: 0.5\n",
      "- SVC: 0.5\n",
      "- BNB: 0.54\n",
      "- Ridge: 0.51\n",
      "- DT: 0.54\n",
      "- GNB: 0.62\n",
      "- DNN: 0.81\n",
      "- RNN+CNN: 0.83\n",
      "\n",
      "출처: `data/diabetes draft7.pdf`, 페이지 5.\n"
     ]
    }
   ],
   "source": [
    "print(chain.invoke(\"본 논문에서 제시하는 모델들의 roc-auc 값들을 알려줘\"))"
   ]
  },
  {
   "cell_type": "code",
   "execution_count": 51,
   "metadata": {},
   "outputs": [
    {
     "data": {
      "text/plain": [
       "'KNN의 ROC-AUC 값은 0.5입니다. \\n\\n출처: \"diabetes draft7.pdf\" 문서의 페이지 5.'"
      ]
     },
     "execution_count": 51,
     "metadata": {},
     "output_type": "execute_result"
    }
   ],
   "source": [
    "#chain.invoke(\"knn값은 얼마야?\")"
   ]
  },
  {
   "cell_type": "code",
   "execution_count": 52,
   "metadata": {},
   "outputs": [
    {
     "data": {
      "text/plain": [
       "'주어진 context에서는 여러 머신러닝 모델의 ROC-AUC 값에 대한 내용이 포함되어 있습니다. 이 표에는 ADA, LR, XGB, RF, KNN, SVC, BNB, Ridge, DT, GNB, DNN, RNN+CNN 모델의 ROC-AUC 값이 나열되어 있습니다. 특히 DNN 모델은 0.81, RNN+CNN 모델은 0.83의 ROC-AUC 값을 가지고 있습니다. \\n\\n출처: data/diabetes draft7.pdf (page 5)'"
      ]
     },
     "execution_count": 52,
     "metadata": {},
     "output_type": "execute_result"
    }
   ],
   "source": [
    "#chain.invoke(\"어떤 모델값에 대한\")"
   ]
  },
  {
   "cell_type": "code",
   "execution_count": null,
   "metadata": {},
   "outputs": [],
   "source": []
  }
 ],
 "metadata": {
  "kernelspec": {
   "display_name": "langchain-kr-gLkynrUQ-py3.11",
   "language": "python",
   "name": "python3"
  },
  "language_info": {
   "codemirror_mode": {
    "name": "ipython",
    "version": 3
   },
   "file_extension": ".py",
   "mimetype": "text/x-python",
   "name": "python",
   "nbconvert_exporter": "python",
   "pygments_lexer": "ipython3",
   "version": "3.11.9"
  }
 },
 "nbformat": 4,
 "nbformat_minor": 2
}
