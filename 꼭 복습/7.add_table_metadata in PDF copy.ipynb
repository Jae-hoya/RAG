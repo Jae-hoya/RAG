{
 "cells": [
  {
   "cell_type": "code",
   "execution_count": 1,
   "metadata": {},
   "outputs": [
    {
     "data": {
      "text/plain": [
       "True"
      ]
     },
     "execution_count": 1,
     "metadata": {},
     "output_type": "execute_result"
    }
   ],
   "source": [
    "from dotenv import load_dotenv\n",
    "load_dotenv()"
   ]
  },
  {
   "cell_type": "markdown",
   "metadata": {},
   "source": [
    "# 파일 로드"
   ]
  },
  {
   "cell_type": "code",
   "execution_count": 41,
   "metadata": {},
   "outputs": [
    {
     "data": {
      "text/plain": [
       "7"
      ]
     },
     "execution_count": 41,
     "metadata": {},
     "output_type": "execute_result"
    }
   ],
   "source": [
    "from langchain_community.document_loaders import PDFPlumberLoader\n",
    "\n",
    "loader = PDFPlumberLoader(\"data/diabetes draft7-3.pdf\")\n",
    "\n",
    "docs = loader.load()\n",
    "len(docs)"
   ]
  },
  {
   "cell_type": "code",
   "execution_count": 42,
   "metadata": {},
   "outputs": [
    {
     "data": {
      "text/plain": [
       "[Document(metadata={'source': 'data/diabetes draft7-3.pdf', 'file_path': 'data/diabetes draft7-3.pdf', 'page': 0, 'total_pages': 7, 'Author': '@¬8', 'CreationDate': \"D:20241012020337+09'00'\", 'ModDate': \"D:20241012020337+09'00'\", 'Producer': 'Microsoft: Print To PDF', 'Title': 'diabetes draft7 - õ¬ø.hwp'}, page_content=\"Journal of the Korea Institute of Information and\\nCommunication Engineering\\n한국정보통신학회논문지Vol.23,No.1:399~406,Mar.2019\\n딥러닝과 머신러닝을 통한 당뇨병 데이터 분석\\n김재호1 · 김장영2*\\n1 2*\\n1Graduate Student, Department of Computer Science, The University of Suwon, Hwaseong, 18323 Korea\\n2Associate Professor, Department of Computer Science, The University of Suwon, Hwaseong, 18323\\nKorea\\n요 약\\n당뇨병은 널리 퍼진 만성 질환으로, 세계적으로 영향을 미치고, 경제적으로도 상당한 재정적 부담을\\n부가하고 있다. 당뇨병은 혈액의 포도당을 조절하는 능력을 저하하고 , 삶의 질과 수명을 감소시킬 수 있는\\n만성 질환이다. 또한 당뇨병은 인슐린을 생성하지 못하거나, 효과적으로 사용하지 못한다. 당뇨병 문제의 규\\n모는 상대적으로 크지만, 쉽게 인식하지 못한다. 당뇨병을 완치할 수 있는방법은 없지만 체중 감량, 건강식,\\n활동적 생활 및 치료를 받는 것과 같은 전략은 많은 환자에서 이 질병의 피해를 완화할 수 있다. 조기 진단은\\n생활 방식의 변화와 보다 효과적인 치료로 이어진다. 본 연구의 의의는 당뇨병이 있는지 여부에 대한 정확한\\n예측을 제공하고 당뇨병 위험을 가장 잘 예측하는 위 험 요소는 무엇인지 찾는 것이다. 예측에 있어서 여러\\n가지 머신러닝 기법과 딥러닝의 CNN과 RNN을 통한 Ensemble Model 사용하고, 평가방법으로 Accuracy와\\nRecall을사용한다. 이Ensemble Model은 Transformer구조를 따르고자 했고, 경량화하였다.\\nABSTRACT\\nDiabetes is a widespread chronic disease that affects people worldwide and imposes significant\\nfinancial burdens. Diabetes impairs the ability to regulate blood glucose levels, reducing\\nquality of life and life expectancy. Additionally, diabetes is characterized by either the\\ninability to produce insulin or to use it effectively. Despite its prevalence, diabetes is often\\nunderrecognized. While there is no cure for diabetes, strategies such as weight loss, healthy\\neating, an active lifestyle, and treatment can mitigate the disease's impact in many patients.\\nEarly diagnosis leads to lifestyle changes and more effective treatment. This study aims to\\nprovide accurate predictions for diabetes and identify the most significant risk factors for its\\ndevelopment. The study employs various machine learning techniques, and ensemble models using\\nCNN and RNN, with accuracy and recall as evaluation metrics. This Ensemble Model attempted to\\nfollow the Transformer structure and made it lightweight.\\n키워드 : 당뇨병, 분류, 머신러닝, 딥러닝\\nKeywords : Diabetes , Classification, Machine Learning, Deep Learning\\nAssociate Professor,\\nOpenAccess pISSN:2234-4772\\nThis is an Open Access article distributed under the terms of the Creative Commons Attribution Non-Commercial\\nLicense(http://creativecommons.org/li \\xadcenses/ by-nc/3.0/) which permits unrestricted non-commercial use, distribution, and reproduction in\\nany medium, provided the original work is properly cited.\\nCopyright The Korea Institute ofInformation and Communication Engineering.\\n\"),\n",
       " Document(metadata={'source': 'data/diabetes draft7-3.pdf', 'file_path': 'data/diabetes draft7-3.pdf', 'page': 1, 'total_pages': 7, 'Author': '@¬8', 'CreationDate': \"D:20241012020337+09'00'\", 'ModDate': \"D:20241012020337+09'00'\", 'Producer': 'Microsoft: Print To PDF', 'Title': 'diabetes draft7 - õ¬ø.hwp'}, page_content='Ⅰ. 서 론 BRFSS2015에서 가져온 데이터로, 253,680개의 설\\n문조사응답으로구성되어있으며,데이터세트의목적\\n당뇨병은 지방과 단백질의 대사 장애를 동반한 혈 은 데이터 세트에 포함된 특정 진단 측정값을 기반으\\n당치의 상승이 특징인 만성 질환이다. 혈당은 췌장에 로환자에게당뇨병이있는지여부를진단적으로예측\\n의한 인슐린 생산의 부족이나 세포가 생산 중인 인슐 하는 것이다. 데이터 세트의 column은 총 22개로 1\\n린을 효과적으로 사용할 수 없기 때문에 세포에서 대 개는 당뇨병 유무, 나머지 21개는 특성변수로 이루어\\n사될수없기때문에상승한다. 당뇨병의 주요유형은 져 있다. 데이터의 column구성은 Diabetes_binary,\\n췌장에서인슐린이생성되지않는제1형, 체세포가생 HighBP, HighChol, CholCheck, BMI, Smoker,\\n성 중인 인슐린의 작용에 저항성을 가지며 시간이 지 Stroke, HeartDiseaseorAttack, PhysActivity,\\n남에 따라 인슐린의 생산이 점진적으로 감소하는 제2 Fruits, Veggies, HvyAlcoholConsump,\\n형,임신중에발생하여합병증을일으킬수있는임신 AnyHealthcare, NoDocbcCost, GenHlth,\\n성 당뇨이다. 임신 중, 그리고 출생 시 산모의 제2형 MentHlth, PhysHlth, DiffWalk, Sex, Age,\\n당뇨병과자손의비만의위험을증가시킨다. 통제되지 Education, Income 으로 총 22개다.\\n않는 당뇨병은 많은 장기에 합병증을 일으킨다. 크고 Diabetes_binary같은 당뇨병 유무를, High BP는 고\\n작은혈관과 신경이손상되면시력과 신장기능상실, 혈압 유무를, HighChol은 고콜레스테롤을,\\n심장마비,뇌졸중,하지절단등이발생한다.당뇨병은 CholCheck은 최근 5년간 콜레스테롤 검사 유무를,\\n장애를일으키고수명을단축시킨다.당뇨병은한국의 BMI는체질량수를, Smoker은일생에담배를100개\\n사회적전염병으로우리에게다가왔다.유병률한국의 이상 흡연했는지, Stroke는 뇌졸중 유무를,\\n당뇨병은지난30년동안1.5%에서7~9%로5~6배 HeartDiseaseorAttack은심장질환및심근경색증유\\n증가했다[1]. 이러한 증가율은 우리나라 등 선진국에 무를, PhysActivity은 지난 30일간 신체활동 유무를,\\n비해현저히높다. 또한미국은지난30년동안두배 Fruits은 하루 1번이상 과입섭취 유무를, Veggies는\\n로 늘었다. 세계적으로 당뇨병으로 인한 사망률은 지 하루 1번이상 야채섭취 유무를,\\n난 20년동안 급격히 증가했다. 당뇨병의 직간접적인 HvyAlcoholConsump은 과음의 유무를,\\n비용을 모두 포함한 손실은 총 1조 7천억 달러로, 중 AnyHealthcare은건강보험을포함한모든종류의의\\n저소득 국가들에게는 8천억 달러를 차지할 것으로 추 료보험유무를, NoDocbcCost은아팠지만비용에의\\n산된다. 의료시스템과국가경제에대한경제적부담 해 병원가지 못한 유무를, GenHlth는 일반적인 건강\\n외에도, 당뇨병은종종장애와조기사망으로인한소 상태를,,MentHlth는스트레스,우울증,감정문제등을\\n득 손실과 현금 지급으로 인한 치명적인 개인 지출을 포함한 정신건강을, PhysHlth은신체적 질병및부상\\n초래한다. 이에따라국내에서는의료비국민건강보험 을 포함한 신체적 건강을, DiffWalk는 계단을 오르는\\n공단이보장하는당뇨병은3조2000억원,전체의료비 데의어려움을, Sex은성별을, Age를13단계의 범주\\n의 19.2%를 차지했다. 한편, 인지도와 치료율은 로나눈것을,Education은교육수준을, Income은수\\n1998년에서 2005년으로 당뇨병 환자의 비율이 개선 입을뜻한다[3].\\n되다. 그러나적절한비율치료받은당뇨병환자의혈\\n당 조절(HbA1c < 7%)은 40%에 불과했다. 공공 접\\n근을 포함한 포괄적이고 통합된 보건 개입이 시급히\\n필요하다. 당뇨병의 유병률증가및이와관련된바람\\n직하지 않은 결과를 제어한다[2]. 본 연구의 의의는\\n당뇨병이있는지여부에대한정확한예측을제공하고\\n당뇨병위험을가장잘예측하는위험요소는무엇인\\n지찾는것이다.\\n본 연구에서 사용된 데이터 세트는 CDC의\\nFig1. Data heart diabetes percentage\\n'),\n",
       " Document(metadata={'source': 'data/diabetes draft7-3.pdf', 'file_path': 'data/diabetes draft7-3.pdf', 'page': 2, 'total_pages': 7, 'Author': '@¬8', 'CreationDate': \"D:20241012020337+09'00'\", 'ModDate': \"D:20241012020337+09'00'\", 'Producer': 'Microsoft: Print To PDF', 'Title': 'diabetes draft7 - õ¬ø.hwp'}, page_content='위 그림1은 데이터의 당뇨병 퍼센테이지를 보여준 위 그림2는 KNN을 그림으로 나타낸 것이다. 새\\n다. 설문 응답자 수는 253,680이며, 당뇨병 환자는 데이터가 기존 데이터들과 하나씩 거리를 계산하고\\n86.1%인데이터다. 거리상 가까운 데이터를 선택하여 할당된다[5].\\nⅡ. 기존연구\\n3.2 DNN(Deep Neural Network)\\n2.1 ADAP학습 알고리즘을 사용한 당뇨병 발병 예측 심층신경망은(DNN) 2개 이상의 은닉층을 포함하\\n병렬 처리를 위한 신경망 또는 연결 모델은 새로 는 인공 신경망을 말한다. 스스로 분류하는 labeling\\n운 것이 아니다. 그러나 지난 50년 동안 관심의 부 을 만들고 많은 학습 데이터와 반복학습,\\n활이 일어났다. 부분적으로 이것은 현재 숨겨진 노 backpropagation등을 통해 머신러닝은 비선형데이\\n드라고 하는 것에 대한 더 나은 이해와 관련이 있 터를 다루기 위해 여러 가지 기술들이 도입되었지\\n다. 이러한 알고리즘은 패턴 인식 문제에서 현저한 만, DNN의 경우에는 다수의 은닉층이 있기 때문에\\n가치가 있는 것으로 간주된다. 이 때문에 우리는 초 별도의 기술없이 비선형 분류가 가능하다. 은닉층의\\n기 신경망 모델인 ADAP가 Pima 인디언의 고위험군 경우 입력받은 데이터 x에 대하여 가중치를 부여하\\n에서 당뇨병 발병을 예측하는 능력을 테스트했다. 고, 활성화 함수를 통해 출력된 값을 채택할지 판단\\n알고리즘의 성능은 민감도, 특이도 및 수신기 작동 하고 최종적으로 y를 출력한다. 은닉층이 여러 개로\\n특성 곡선과 같은 임상 테스트에 대한 표준 측정값 구성되면 보다 정확할수 있지만, Overfitting에 취약\\n을 사용하여 분석되었다. 민감도와 특이도의 교차점 하다. 변수 형태에 상관없이 분석이 가능하며, 비선\\n은 0.76이다. 우리는 현재 정확하게 동일한 훈련 및 형적 데이터를 학습할수 있고 수 있는 장점이 있지\\n예측 세트를 사용하여 로지스틱 회귀 및 선형 퍼셉 만, 학습에 있어서 연산량이나 Gradient Vanishing\\n트론 모델에서 얻은 결과와 ADAP결과를 비교하여 과 같은 문제들이 발생한다[6].\\n이러한 방법을 추가로 조사하고 있다. 알고리즘에\\n대한 설명이 포함되어 있다[4]. 3.3 Ensemble Neural Network(RNN + CNN)\\nⅢ. 분석 알고리즘\\n3.1 KNN\\nKNN(K-Nearest neighbor)은 학습에 이용되지 않\\n은 새로운 데이터를 받았을 때 기존 Cluster에서 모\\n든 데이터와 instance거리(데이터와 데이터 사이의\\n거리)를 측정한 후 가장 많은 속성을 가진 클러스터\\n에 포함하는 지도학습의 Classification이다. 따라서\\n과거의 데이터를 저장해두고 필요할 때 비교를 수행\\n한다. 이 값은 K의 값에따라 분류의 결과값이 달라\\nFig3. Columns Correlation\\n진다. 여기서 K개로 분류한다는 뜻을 가진다.\\n위 그림은 본 연구에서 제시하는 Ensemble 모델\\n의 구조다. RNN model과 CNN모델로 구성되어 있\\n으며,두 모델 모두 같은 Embedding Layer를 사용한\\n다. 입력 텍스트를 고차원 벡터로 변환한다.\\nRNNModel에서는 LSTM 방식을 이용하며, 두 개의\\n양방향 LSTM 레이어를 사용하고, dropout이 적용\\nFig2. KNNAlgorithm 된다. LayerNorm에서 LSTM 출력에 레이어 정규화\\n'),\n",
       " Document(metadata={'source': 'data/diabetes draft7-3.pdf', 'file_path': 'data/diabetes draft7-3.pdf', 'page': 3, 'total_pages': 7, 'Author': '@¬8', 'CreationDate': \"D:20241012020337+09'00'\", 'ModDate': \"D:20241012020337+09'00'\", 'Producer': 'Microsoft: Print To PDF', 'Title': 'diabetes draft7 - õ¬ø.hwp'}, page_content='가 적용되고 Attention에서는 Multihead Attention이 analysis)\\n적용되어 정보가 강조된다. GlobalMaxPool에서는 EDA에있어서본데이터에서상관관계표가음수인\\nLSTM의 출력을 최대 풀링하여 벡터 크기를 줄이고, Income, Education, PhysActivity,\\nFully Connected Layers: 최종 출력을 위한 여러 선 HvyAlcoholConsump, Veggies, Fruits 들의\\n형 레이어가 존재한다. 마지막으로 과적합 방지를 Column들은제외를시킨후데이터를학습시켰다.\\n위한 Dropout으로 구성된다. CNNModel은\\nConvolutional Layers은 여러 크기의 커널을 가진\\n컨볼루션 레이어를 포함한다.Dilated Convolutions은\\n수용 필드 확장을 위한 팽창 컨볼루션을 사용한다.\\nGlobalMaxPool: CNN 출력에 대해 최대 풀링을 적\\n용하고다. Fully Connected Layers: 최종 출력을 위\\n한 여러 선형 레이어가 포함된다. 마지막으로\\nDropout: Dropout이 적용되어 있다. 마지막\\nEnsemble 모델은 Concatenation하여 RNNModel과\\nFig3. Columns Correlation\\nCNNModel의 출력을 결합한다. 이 구조는 RNN과\\n위 그림4은 서로 다른 column간 상관관계를 보여\\nCNN의 장점을 결합하여 더 강력한 성능과 일반화능\\n준다.\\n력, 하이브리드 특징 추출을 통해 더욱더 복합적인\\n특징을 정교하게 추출하는 것을 목표로 한다[7]. 이\\n모델은 Transformer구조는 아니지만, 그와 비슷하게\\n하며, 경량화하기위해 노력하였다.\\nⅣ.실험결과 및 분석\\n본 연구에서 성능이 제일 좋았던 모델 Ensemble\\nModel(RNN+CNN)에서, 기본적으로 Embedding\\nlayer를 통과시켰고, RNN에서는 BI-LSTM을 이용했\\n다. LSTM Layer자체는 2개만 쌓았다. Attention으로\\n는 Multihead Attention을 사용했고, features은 고\\n정하였다. 그 이후 Max Pooling을한 후에 Fully\\nConnected Layer를 통과시켰다. CNN에서는\\nConv1D를 사용하였고, Sequential Model을 이용해\\n분류한다. Kernel size는 3, 4 5 로 늘려가며, stride Fig5. Diabetes Correlation\\n는 1로 layer를 쌓았고, Max Polling 후에 Fully 위 그림5는 당뇨병과 다른 column간 상관관계 사\\nConnected Layer를 통과시켰다. 풀링층에서는 에서 진이다. 본연구에서Outcome과높은상관관계를가\\n는 각 커널 값을 평균화 시켜 중요한 가중치를 갖는 지는 데이터는 0.2 이상들로 GenHlth, HighBP,\\n값의 특성이 희미해질수 있기 때문에 max polling을 DiffWalk, BMI, HighChol이 인 것을 확인할 수 있\\n사용했다. 훈련에 있어서 loss function으로는 다. 상관관계가 높지 않으므로, 본 연구의 데이터는\\nbinary cross-entropy를 사용했으며, optimizer으로 다중공선성에대해안전하다는근거가될수있다[8].\\n는 Adam을 사용했다. 출력 Activation function으 보통, 상관계수가 0.7이상이면 다중공선성이 있다고\\n로는 sigmoid 함수를 사용하였다. 판단된다. 여기서, 다중공선성이란, 독립변수간 상관\\n4.1 탐험적 데이터분석(exploratory data 관계가있는지나타내는지표이다.\\n'),\n",
       " Document(metadata={'source': 'data/diabetes draft7-3.pdf', 'file_path': 'data/diabetes draft7-3.pdf', 'page': 4, 'total_pages': 7, 'Author': '@¬8', 'CreationDate': \"D:20241012020337+09'00'\", 'ModDate': \"D:20241012020337+09'00'\", 'Producer': 'Microsoft: Print To PDF', 'Title': 'diabetes draft7 - õ¬ø.hwp'}, page_content='Table.1 VIF(Variance Inflation Factors) SVC 0.863\\nFeatures VIF Factor LR 0.861\\nconst 116.856706 Ridge 0.861\\nDiabetes_binary 1.193120 RF 0.850\\nHighBP 1.344502 BNB 0.823\\nHighChol 1.180932 DT 0.816\\nCholCheck 1.033501 GNB 0.778\\nBMI 1.160280 CNN 0.865\\nSmoker 1.091872 DNN 0.866\\nStroke 1.081612 Ensemble 0.892\\n위 표2은 각각 모델별 Accuracy를 보여준다. 값들\\nHeartDiseaseorAttack 1.175776\\n은소수점세번째자리까지만표현한다.\\nPhysActivity 1.157396\\nFruits 1.112540\\nTable.3 Recall\\nVeggies 1.112397\\nModel Recall\\nHvyAlcoholConsump 1.025418\\nGNB 0.687\\nAnyHealthcare 1.113209\\nBNB 0.672\\nNoDocbcCost 1.144200\\nDT 0.596\\nGenHlth 1.821914\\nRF 0.580\\nMentHlth 1.239497\\nKNN 0.554\\nPhysHlth 1.623288\\nXGB 0.570\\nDiffWalk 1.536636\\nADA 0.578\\nSex 1.075748\\nLR 0.563\\nAge 1.354954\\nSVC 0.535\\nEducation 1.326495\\nRidge 0.516\\nIncome 1.505649\\nCNN 0.67\\n위 표 1은 각 컬럼별 VIF값이다. 다중공선성이\\nDNN 0.69\\n적다는 근거로 이용할수 있는 VIF(분산팽창요인)\\nEnsemble 0.79\\n값이다. const값은 상수항으로, 무시해도 좋다.\\n위 표 3는 각 모델별, Recall값을 나타낸다. 질병\\n학자들마다, VIF값에따른 다중공선성 기준은 학\\n에 있어서 Recall은 매우 중요한 지표가 될 수 있다.\\n자마다 다르지만, 이 값이 5 미만이면 다중공선\\n왜냐하면 질병에 걸리지 않았는데 질병에 걸렸다고\\n성에 크게 문제가 없다고 판단한다. 모두 1점대\\n예측하는것보다, 질병에걸린환자를질병에걸리지\\n를 보여주면서 다중공선성이 낮다는걸 보여준\\n않았다고 놓치는 것은 매우 위험하기 때문이다. 즉,\\n다. 이것은, 독립변수의 영향을 더 명확하게 해\\n질병에있어서는실제양성인데음성으로예측하는것\\n석할 수 있다[9].\\n은 매우 치명적이라는 것이다. 이것은 과잉진단을 감\\n수하더라도, 모든 잠재적 환자를 식별하는 것이 중요\\n4.2 Accuracy와Recall\\n하다.Recall의수식은다음과같다[10].\\nTable.1 Accuracy\\nModel Accuracy\\nⅤ. 결론 및 향후연구\\nKNN 0.875\\nXGB 0.864\\nADA 0.864 본 연구에서는 diabates 데이터를 통해서 여러 가\\n'),\n",
       " Document(metadata={'source': 'data/diabetes draft7-3.pdf', 'file_path': 'data/diabetes draft7-3.pdf', 'page': 5, 'total_pages': 7, 'Author': '@¬8', 'CreationDate': \"D:20241012020337+09'00'\", 'ModDate': \"D:20241012020337+09'00'\", 'Producer': 'Microsoft: Print To PDF', 'Title': 'diabetes draft7 - õ¬ø.hwp'}, page_content='지 머신러닝기법들과 딥러닝의 성능을 분석한다. 이 Learning Algorithm to Forecast the Onset of\\n중, Ensemble 알고리즘이 가장 좋은 결과값을 가진 Diabetes Mellitus,”\\n(\\n다. 이것은 경량화 모델을 고려할 때 의미가 있다.\\n, pp. 261-265, Nov.\\n본 연구는 CNN + RNN계열이 활용방법을 더 방대\\n1988.\\n하게 만드는데 도움을 줄 수 있다. 이미지 처리 및 [5] D. Bhatt, C. Patel, H. Talsania, J. Patel, R.\\n분류, 컴퓨터비전, Sequence model, 자연어처리등 Vaghela, S. Pandya, K. Modi, H. Ghayvat, “CNN\\nVariants for Computer Vision: History, Architecture,\\n비정형 데이터에 주로 사용하는 모델이 정형적인 범\\nApplication, Challenges and Future Scope,”\\n주형 데이터를 binary classification에서 사용했을\\n, vol.10, Oct, 2021.\\n때, 결과값은 Accuracy는 0.89, Recall은 0.79라는 DOI:10.3390/electronics10202470\\n결과값을 가지므로 충분히 고려할 수 있는 모델임을 [6] Y. Wang, J. Liu, J. Mišić, V. B. Mišić, S. Lv, X.\\nChang, “Assessing Optimizer Impact onDNNModel\\n증명한다.\\nSensitivity to Adversarial Examples,” ,\\n마지막으로, 비용적인 부분에서, 학습시간도 짧았\\nvol.7, pp. 152766-152776, 2019.\\n다. 가장 큰 의미를 가지는 부분은, Large Model이\\nDOI:10.1109/access.2019.2948658\\n주목받는데, 엄청난 비용이 요구되기 때문에, 일반 [7] X. Li, G. A. Ng, F. S. Schlindwein, \"Convolutional\\n개인 연구자들은 이러한 작은 Model에 관심을 가질 and recurrent neural networks for early detection of\\nsepsis using hourly physiological data from patients\\n수 밖에 없다, 가령, 라즈베리파이와 같은 저사양의\\nin intensive care unit\",\\n장치를 사용할 경우에 큰 모델을 사용하기에는 제약\\n, IEEE, 2019. DOI:\\n이 생긴다. 그렇기 때문에 파인튜닝을 하는 SLM모 10.22489/CinC.2019.054\\n델이 많이 사용되는데, 그런 의미에서 본 연구에서 [8] S.Streukens, S.Leroi Werelds, \"Multicollinearity: an\\noverview and introduction of ridge PLS-SEM\\n제시된 Ensemble 알고리즘도 예측분야에서는 충분\\nestimation\",\\n히 고려할 수 있다. 즉, 모델의 크기가 작고 높은 성\\n능을 가지는 것을 요구하는데 이 연구에서는 높은\\npp.183-207, 2023\\n정확도를 가지는 알고리즘에 대해 탐구하는데 의의 DOI:10.1007/978-3-031-37772-3_7\\n가 있다. [9] N. Shrestha, “Detecting multicollinearity in\\nregression analysis”,\\nREFERENCES\\n, vol.8, no.2, pp.39-42,\\n[1] Gojka Roglic, “WHO Global report in diabetes: A\\n2020. DOI:10.12691/ajams-8-2-1\\nsummary”,\\n[10] A. Ogunpola, F. Saeed, S. Basurra, A. M.\\n, vol.1, pp. 3-8, Jun.\\nAlbarrak, S. N. Qasem, \"Machine learning-based\\n2016. DOI:10.4103/2468-8827.184853\\npredictive models for detection of cardiovascular\\n[2] S. G. Kim, D. S. Choi, “The present State of\\ndiseases\", , vol.14, 2024.\\nDiabetes Mellitus in Korea”,\\nDOI:10.3390/diagnostics14020144\\n, vol.51, pp. 791-798, Sep.\\n2008. DOI:\\n김재호(Jae-Ho Kim)\\nhttps://doi.org/10.5124/jkma.2008.51.9.791\\n[3] Kaggle Data set, Diabetes Prediction Dataset,\\n2 0 2 2 . 수원대학교컴퓨터학부학사\\n수원대학교컴퓨터학부석사과정\\n[Internet].Available:https://www.kaggle.com/da\\n관심분야:인공지능\\ntasets/alexteboul/diabetes-health-indicators\\n-dataset?resource=download\\n[4] J. W. Smith, J. E. Everhart, W. C. Dickson, W. C.\\nKnowler , R. S. Johannes, “Using the ADAP\\n'),\n",
       " Document(metadata={'source': 'data/diabetes draft7-3.pdf', 'file_path': 'data/diabetes draft7-3.pdf', 'page': 6, 'total_pages': 7, 'Author': '@¬8', 'CreationDate': \"D:20241012020337+09'00'\", 'ModDate': \"D:20241012020337+09'00'\", 'Producer': 'Microsoft: Print To PDF', 'Title': 'diabetes draft7 - õ¬ø.hwp'}, page_content='김장영(Jang-Young Kim)\\n연세대학교컴퓨터과학공학사\\nPennsylvaniaStateUniv.공학석사\\nStateUniversityofNewYork공학박사\\nUniversityofSouthCarolina교수\\n수원대학교컴퓨터학부교수\\n관심분야:Bigdata,AI,Cloudcomputing,Networks\\n')]"
      ]
     },
     "execution_count": 42,
     "metadata": {},
     "output_type": "execute_result"
    }
   ],
   "source": [
    "docs"
   ]
  },
  {
   "cell_type": "markdown",
   "metadata": {},
   "source": [
    "# 메타 데이터 확인"
   ]
  },
  {
   "cell_type": "code",
   "execution_count": 4,
   "metadata": {},
   "outputs": [
    {
     "data": {
      "text/plain": [
       "{'source': 'data/diabetes draft7.pdf',\n",
       " 'file_path': 'data/diabetes draft7.pdf',\n",
       " 'page': 5,\n",
       " 'total_pages': 6,\n",
       " 'Author': '@¬8',\n",
       " 'CreationDate': \"D:20240726144349+09'00'\",\n",
       " 'ModDate': \"D:20240726144349+09'00'\",\n",
       " 'Producer': 'Microsoft: Print To PDF',\n",
       " 'Title': 'diabetes draft7.hwp'}"
      ]
     },
     "execution_count": 4,
     "metadata": {},
     "output_type": "execute_result"
    }
   ],
   "source": [
    "docs[5].metadata"
   ]
  },
  {
   "cell_type": "code",
   "execution_count": 14,
   "metadata": {},
   "outputs": [
    {
     "data": {
      "text/plain": [
       "[{'source': 'data/diabetes draft7.pdf',\n",
       "  'file_path': 'data/diabetes draft7.pdf',\n",
       "  'page': 0,\n",
       "  'total_pages': 6,\n",
       "  'Author': '@¬8',\n",
       "  'CreationDate': \"D:20240726144349+09'00'\",\n",
       "  'ModDate': \"D:20240726144349+09'00'\",\n",
       "  'Producer': 'Microsoft: Print To PDF',\n",
       "  'Title': 'diabetes draft7.hwp'},\n",
       " {'source': 'data/diabetes draft7.pdf',\n",
       "  'file_path': 'data/diabetes draft7.pdf',\n",
       "  'page': 1,\n",
       "  'total_pages': 6,\n",
       "  'Author': '@¬8',\n",
       "  'CreationDate': \"D:20240726144349+09'00'\",\n",
       "  'ModDate': \"D:20240726144349+09'00'\",\n",
       "  'Producer': 'Microsoft: Print To PDF',\n",
       "  'Title': 'diabetes draft7.hwp'},\n",
       " {'source': 'data/diabetes draft7.pdf',\n",
       "  'file_path': 'data/diabetes draft7.pdf',\n",
       "  'page': 2,\n",
       "  'total_pages': 6,\n",
       "  'Author': '@¬8',\n",
       "  'CreationDate': \"D:20240726144349+09'00'\",\n",
       "  'ModDate': \"D:20240726144349+09'00'\",\n",
       "  'Producer': 'Microsoft: Print To PDF',\n",
       "  'Title': 'diabetes draft7.hwp'},\n",
       " {'source': 'data/diabetes draft7.pdf',\n",
       "  'file_path': 'data/diabetes draft7.pdf',\n",
       "  'page': 3,\n",
       "  'total_pages': 6,\n",
       "  'Author': '@¬8',\n",
       "  'CreationDate': \"D:20240726144349+09'00'\",\n",
       "  'ModDate': \"D:20240726144349+09'00'\",\n",
       "  'Producer': 'Microsoft: Print To PDF',\n",
       "  'Title': 'diabetes draft7.hwp'},\n",
       " {'source': 'data/diabetes draft7.pdf',\n",
       "  'file_path': 'data/diabetes draft7.pdf',\n",
       "  'page': 4,\n",
       "  'total_pages': 6,\n",
       "  'Author': '@¬8',\n",
       "  'CreationDate': \"D:20240726144349+09'00'\",\n",
       "  'ModDate': \"D:20240726144349+09'00'\",\n",
       "  'Producer': 'Microsoft: Print To PDF',\n",
       "  'Title': 'diabetes draft7.hwp'},\n",
       " {'source': 'data/diabetes draft7.pdf',\n",
       "  'file_path': 'data/diabetes draft7.pdf',\n",
       "  'page': 5,\n",
       "  'total_pages': 6,\n",
       "  'Author': '@¬8',\n",
       "  'CreationDate': \"D:20240726144349+09'00'\",\n",
       "  'ModDate': \"D:20240726144349+09'00'\",\n",
       "  'Producer': 'Microsoft: Print To PDF',\n",
       "  'Title': 'diabetes draft7.hwp'}]"
      ]
     },
     "execution_count": 14,
     "metadata": {},
     "output_type": "execute_result"
    }
   ],
   "source": [
    "# docs 리스트에 포함된 모든 문서의 metadata 추출\n",
    "all_metadata = [doc.metadata for doc in docs]\n",
    "\n",
    "all_metadata"
   ]
  },
  {
   "cell_type": "markdown",
   "metadata": {},
   "source": [
    "# 추가할 데이터 생성\n",
    "\n",
    "GPT에,\n",
    "\n",
    "이미지를 캡쳐해서 `PDF의 메타데이터에 넣을수 있는 표로 파이썬 코드를 이용해서 작성해줘.` 라고 입력 - 직접 코딩할 일이 없어짐!"
   ]
  },
  {
   "cell_type": "code",
   "execution_count": 5,
   "metadata": {},
   "outputs": [],
   "source": [
    "import json\n",
    "table_data = {\n",
    "    \"headers\": [\"Model\", \"ROC-AUC\"],\n",
    "    \"rows\": [\n",
    "        {\"Model\": \"ADA\", \"ROC-AUC\": 0.51},\n",
    "        {\"Model\": \"LR\", \"ROC-AUC\": 0.50},\n",
    "        {\"Model\": \"XGB\", \"ROC-AUC\": 0.51},\n",
    "        {\"Model\": \"RF\", \"ROC-AUC\": 0.50},\n",
    "        {\"Model\": \"KNN\", \"ROC-AUC\": 0.50},\n",
    "        {\"Model\": \"SVC\", \"ROC-AUC\": 0.50},\n",
    "        {\"Model\": \"BNB\", \"ROC-AUC\": 0.54},\n",
    "        {\"Model\": \"Ridge\", \"ROC-AUC\": 0.51},\n",
    "        {\"Model\": \"DT\", \"ROC-AUC\": 0.54},\n",
    "        {\"Model\": \"GNB\", \"ROC-AUC\": 0.62},\n",
    "        {\"Model\": \"DNN\", \"ROC-AUC\": 0.81},\n",
    "        {\"Model\": \"RNN+CNN\", \"ROC-AUC\": 0.83}\n",
    "    ]\n",
    "}\n",
    "table_data_str = json.dumps(table_data)"
   ]
  },
  {
   "cell_type": "code",
   "execution_count": 9,
   "metadata": {},
   "outputs": [
    {
     "name": "stdout",
     "output_type": "stream",
     "text": [
      "{\"headers\": [\"Model\", \"ROC-AUC\"], \"rows\": [{\"Model\": \"ADA\", \"ROC-AUC\": 0.51}, {\"Model\": \"LR\", \"ROC-AUC\": 0.5}, {\"Model\": \"XGB\", \"ROC-AUC\": 0.51}, {\"Model\": \"RF\", \"ROC-AUC\": 0.5}, {\"Model\": \"KNN\", \"ROC-AUC\": 0.5}, {\"Model\": \"SVC\", \"ROC-AUC\": 0.5}, {\"Model\": \"BNB\", \"ROC-AUC\": 0.54}, {\"Model\": \"Ridge\", \"ROC-AUC\": 0.51}, {\"Model\": \"DT\", \"ROC-AUC\": 0.54}, {\"Model\": \"GNB\", \"ROC-AUC\": 0.62}, {\"Model\": \"DNN\", \"ROC-AUC\": 0.81}, {\"Model\": \"RNN+CNN\", \"ROC-AUC\": 0.83}]}\n"
     ]
    }
   ],
   "source": [
    "print(table_data_str)"
   ]
  },
  {
   "cell_type": "code",
   "execution_count": 6,
   "metadata": {},
   "outputs": [],
   "source": [
    "docs[5].metadata['table'] = table_data_str"
   ]
  },
  {
   "cell_type": "code",
   "execution_count": 7,
   "metadata": {},
   "outputs": [
    {
     "data": {
      "text/plain": [
       "{'source': 'data/diabetes draft7.pdf',\n",
       " 'file_path': 'data/diabetes draft7.pdf',\n",
       " 'page': 5,\n",
       " 'total_pages': 6,\n",
       " 'Author': '@¬8',\n",
       " 'CreationDate': \"D:20240726144349+09'00'\",\n",
       " 'ModDate': \"D:20240726144349+09'00'\",\n",
       " 'Producer': 'Microsoft: Print To PDF',\n",
       " 'Title': 'diabetes draft7.hwp',\n",
       " 'table': '{\"headers\": [\"Model\", \"ROC-AUC\"], \"rows\": [{\"Model\": \"ADA\", \"ROC-AUC\": 0.51}, {\"Model\": \"LR\", \"ROC-AUC\": 0.5}, {\"Model\": \"XGB\", \"ROC-AUC\": 0.51}, {\"Model\": \"RF\", \"ROC-AUC\": 0.5}, {\"Model\": \"KNN\", \"ROC-AUC\": 0.5}, {\"Model\": \"SVC\", \"ROC-AUC\": 0.5}, {\"Model\": \"BNB\", \"ROC-AUC\": 0.54}, {\"Model\": \"Ridge\", \"ROC-AUC\": 0.51}, {\"Model\": \"DT\", \"ROC-AUC\": 0.54}, {\"Model\": \"GNB\", \"ROC-AUC\": 0.62}, {\"Model\": \"DNN\", \"ROC-AUC\": 0.81}, {\"Model\": \"RNN+CNN\", \"ROC-AUC\": 0.83}]}'}"
      ]
     },
     "execution_count": 7,
     "metadata": {},
     "output_type": "execute_result"
    }
   ],
   "source": [
    "docs[5].metadata"
   ]
  },
  {
   "cell_type": "markdown",
   "metadata": {},
   "source": [
    "# 하던대로 RAG구축"
   ]
  },
  {
   "cell_type": "code",
   "execution_count": 43,
   "metadata": {},
   "outputs": [],
   "source": [
    "from operator import itemgetter\n",
    "from langchain_text_splitters import RecursiveCharacterTextSplitter\n",
    "from langchain_community.vectorstores import Chroma\n",
    "from langchain_openai import ChatOpenAI, OpenAIEmbeddings\n",
    "from langchain_core.prompts import ChatPromptTemplate, MessagesPlaceholder, PromptTemplate\n",
    "from langchain_community.chat_message_histories import ChatMessageHistory\n",
    "from langchain_core.runnables import RunnablePassthrough, RunnableWithMessageHistory\n",
    "from langchain_core.output_parsers import StrOutputParser\n"
   ]
  },
  {
   "cell_type": "code",
   "execution_count": 44,
   "metadata": {},
   "outputs": [],
   "source": [
    "text_splitter = RecursiveCharacterTextSplitter(chunk_size=1000, chunk_overlap=100)\n",
    "documents = text_splitter.split_documents(docs)"
   ]
  },
  {
   "cell_type": "code",
   "execution_count": 45,
   "metadata": {},
   "outputs": [
    {
     "data": {
      "text/plain": [
       "16"
      ]
     },
     "execution_count": 45,
     "metadata": {},
     "output_type": "execute_result"
    }
   ],
   "source": [
    "len(documents)"
   ]
  },
  {
   "cell_type": "code",
   "execution_count": 46,
   "metadata": {},
   "outputs": [],
   "source": [
    "embeddings = OpenAIEmbeddings(model=\"text-embedding-3-small\")\n",
    "llm = ChatOpenAI(model=\"gpt-4o-mini\")\n",
    "\n",
    "vector_store = Chroma.from_documents(documents, embeddings)\n",
    "retriever = vector_store.as_retriever()"
   ]
  },
  {
   "cell_type": "markdown",
   "metadata": {},
   "source": [
    "# retriever 확인해보기\n",
    "\n",
    "page_content에는 내용이 들어가 있지 않지만, metadata로 들어간것을 확인할 수 있다."
   ]
  },
  {
   "cell_type": "code",
   "execution_count": 47,
   "metadata": {},
   "outputs": [],
   "source": [
    "result = retriever.invoke(\"knn의 roc-auc값 알려줘\")"
   ]
  },
  {
   "cell_type": "code",
   "execution_count": 48,
   "metadata": {},
   "outputs": [
    {
     "data": {
      "text/plain": [
       "[Document(metadata={'Author': '@¬8', 'CreationDate': \"D:20240726144349+09'00'\", 'ModDate': \"D:20240726144349+09'00'\", 'Producer': 'Microsoft: Print To PDF', 'Title': 'diabetes draft7.hwp', 'file_path': 'data/diabetes draft7-2.pdf', 'page': 2, 'source': 'data/diabetes draft7-2.pdf', 'total_pages': 6}, page_content='. 기존연구\\n. 분석 알고리즘\\nFig3.ColumnsCorrelation\\nFig2.KNNAlgorithm'),\n",
       " Document(metadata={'Author': '@¬8', 'CreationDate': \"D:20240726144349+09'00'\", 'ModDate': \"D:20240726144349+09'00'\", 'Producer': 'Microsoft: Print To PDF', 'Title': 'diabetes draft7.hwp', 'file_path': 'data/diabetes draft7.pdf', 'page': 2, 'source': 'data/diabetes draft7.pdf', 'total_pages': 6}, page_content='. 기존연구\\n. 분석 알고리즘\\nFig3.ColumnsCorrelation\\nFig2.KNNAlgorithm'),\n",
       " Document(metadata={'Author': '@¬8', 'CreationDate': \"D:20241012020337+09'00'\", 'ModDate': \"D:20241012020337+09'00'\", 'Producer': 'Microsoft: Print To PDF', 'Title': 'diabetes draft7 - õ¬ø.hwp', 'file_path': 'data/diabetes draft7-3.pdf', 'page': 4, 'source': 'data/diabetes draft7-3.pdf', 'total_pages': 7}, page_content='위 표 3는 각 모델별, Recall값을 나타낸다. 질병\\n학자들마다, VIF값에따른 다중공선성 기준은 학\\n에 있어서 Recall은 매우 중요한 지표가 될 수 있다.\\n자마다 다르지만, 이 값이 5 미만이면 다중공선\\n왜냐하면 질병에 걸리지 않았는데 질병에 걸렸다고\\n성에 크게 문제가 없다고 판단한다. 모두 1점대\\n예측하는것보다, 질병에걸린환자를질병에걸리지\\n를 보여주면서 다중공선성이 낮다는걸 보여준\\n않았다고 놓치는 것은 매우 위험하기 때문이다. 즉,\\n다. 이것은, 독립변수의 영향을 더 명확하게 해\\n질병에있어서는실제양성인데음성으로예측하는것\\n석할 수 있다[9].\\n은 매우 치명적이라는 것이다. 이것은 과잉진단을 감\\n수하더라도, 모든 잠재적 환자를 식별하는 것이 중요\\n4.2 Accuracy와Recall\\n하다.Recall의수식은다음과같다[10].\\nTable.1 Accuracy\\nModel Accuracy\\nⅤ. 결론 및 향후연구\\nKNN 0.875\\nXGB 0.864\\nADA 0.864 본 연구에서는 diabates 데이터를 통해서 여러 가'),\n",
       " Document(metadata={'Author': '@¬8', 'CreationDate': \"D:20241012020337+09'00'\", 'ModDate': \"D:20241012020337+09'00'\", 'Producer': 'Microsoft: Print To PDF', 'Title': 'diabetes draft7 - õ¬ø.hwp', 'file_path': 'data/diabetes draft7-3.pdf', 'page': 2, 'source': 'data/diabetes draft7-3.pdf', 'total_pages': 7}, page_content='은 0.76이다. 우리는 현재 정확하게 동일한 훈련 및 형적 데이터를 학습할수 있고 수 있는 장점이 있지\\n예측 세트를 사용하여 로지스틱 회귀 및 선형 퍼셉 만, 학습에 있어서 연산량이나 Gradient Vanishing\\n트론 모델에서 얻은 결과와 ADAP결과를 비교하여 과 같은 문제들이 발생한다[6].\\n이러한 방법을 추가로 조사하고 있다. 알고리즘에\\n대한 설명이 포함되어 있다[4]. 3.3 Ensemble Neural Network(RNN + CNN)\\nⅢ. 분석 알고리즘\\n3.1 KNN\\nKNN(K-Nearest neighbor)은 학습에 이용되지 않\\n은 새로운 데이터를 받았을 때 기존 Cluster에서 모\\n든 데이터와 instance거리(데이터와 데이터 사이의\\n거리)를 측정한 후 가장 많은 속성을 가진 클러스터\\n에 포함하는 지도학습의 Classification이다. 따라서\\n과거의 데이터를 저장해두고 필요할 때 비교를 수행\\n한다. 이 값은 K의 값에따라 분류의 결과값이 달라\\nFig3. Columns Correlation\\n진다. 여기서 K개로 분류한다는 뜻을 가진다.\\n위 그림은 본 연구에서 제시하는 Ensemble 모델\\n의 구조다. RNN model과 CNN모델로 구성되어 있\\n으며,두 모델 모두 같은 Embedding Layer를 사용한\\n다. 입력 텍스트를 고차원 벡터로 변환한다.\\nRNNModel에서는 LSTM 방식을 이용하며, 두 개의\\n양방향 LSTM 레이어를 사용하고, dropout이 적용\\nFig2. KNNAlgorithm 된다. LayerNorm에서 LSTM 출력에 레이어 정규화')]"
      ]
     },
     "execution_count": 48,
     "metadata": {},
     "output_type": "execute_result"
    }
   ],
   "source": [
    "result"
   ]
  },
  {
   "cell_type": "code",
   "execution_count": 49,
   "metadata": {},
   "outputs": [
    {
     "name": "stdout",
     "output_type": "stream",
     "text": [
      "{'Author': '@¬8', 'CreationDate': \"D:20240726144349+09'00'\", 'ModDate': \"D:20240726144349+09'00'\", 'Producer': 'Microsoft: Print To PDF', 'Title': 'diabetes draft7.hwp', 'file_path': 'data/diabetes draft7.pdf', 'page': 2, 'source': 'data/diabetes draft7.pdf', 'total_pages': 6}\n",
      "-------\n",
      "{'Author': '@¬8', 'CreationDate': \"D:20241012020337+09'00'\", 'ModDate': \"D:20241012020337+09'00'\", 'Producer': 'Microsoft: Print To PDF', 'Title': 'diabetes draft7 - õ¬ø.hwp', 'file_path': 'data/diabetes draft7-3.pdf', 'page': 4, 'source': 'data/diabetes draft7-3.pdf', 'total_pages': 7}\n"
     ]
    }
   ],
   "source": [
    "print(result[1].metadata)\n",
    "print(\"-------\")\n",
    "print(result[2].metadata)"
   ]
  },
  {
   "cell_type": "code",
   "execution_count": 50,
   "metadata": {},
   "outputs": [
    {
     "name": "stdout",
     "output_type": "stream",
     "text": [
      ". 기존연구\n",
      ". 분석 알고리즘\n",
      "Fig3.ColumnsCorrelation\n",
      "Fig2.KNNAlgorithm\n",
      "-------\n",
      "위 표 3는 각 모델별, Recall값을 나타낸다. 질병\n",
      "학자들마다, VIF값에따른 다중공선성 기준은 학\n",
      "에 있어서 Recall은 매우 중요한 지표가 될 수 있다.\n",
      "자마다 다르지만, 이 값이 5 미만이면 다중공선\n",
      "왜냐하면 질병에 걸리지 않았는데 질병에 걸렸다고\n",
      "성에 크게 문제가 없다고 판단한다. 모두 1점대\n",
      "예측하는것보다, 질병에걸린환자를질병에걸리지\n",
      "를 보여주면서 다중공선성이 낮다는걸 보여준\n",
      "않았다고 놓치는 것은 매우 위험하기 때문이다. 즉,\n",
      "다. 이것은, 독립변수의 영향을 더 명확하게 해\n",
      "질병에있어서는실제양성인데음성으로예측하는것\n",
      "석할 수 있다[9].\n",
      "은 매우 치명적이라는 것이다. 이것은 과잉진단을 감\n",
      "수하더라도, 모든 잠재적 환자를 식별하는 것이 중요\n",
      "4.2 Accuracy와Recall\n",
      "하다.Recall의수식은다음과같다[10].\n",
      "Table.1 Accuracy\n",
      "Model Accuracy\n",
      "Ⅴ. 결론 및 향후연구\n",
      "KNN 0.875\n",
      "XGB 0.864\n",
      "ADA 0.864 본 연구에서는 diabates 데이터를 통해서 여러 가\n"
     ]
    }
   ],
   "source": [
    "print(result[1].page_content)\n",
    "print(\"-------\")\n",
    "print(result[2].page_content)"
   ]
  },
  {
   "cell_type": "code",
   "execution_count": 67,
   "metadata": {},
   "outputs": [],
   "source": [
    "template = (\n",
    "    [\n",
    "        (\n",
    "            'system', \n",
    "            \"\"\"\n",
    "            당신은 도움이 되는 Q&A 챗봇입니다. 주어진 문서에 대해서 질문을 하면 답변을 해주세요.\n",
    "            답변을 주요 내용과 함께 마크다운 테이블 형식으로 작성해주세요.\n",
    "            답변의 출처를 적어주세요.\n",
    "            모르면 모른다고 답변해 주세요. \n",
    "            표에대한 답변을 할때는 반올림이나 반내림을 하지 마세요.\n",
    "            하지만, 당신의 생각을 답변할 수 있습니다. 다만, 당신의 생각이라고 말해야 합니다.\n",
    "            한국어로 답변해 주세요.\n",
    "            \n",
    "            \n",
    "            #예제 형식:\n",
    "            (답변 간략 요약)\n",
    "            (테이블)\n",
    "            (질문에 대한 자세한 답변)\n",
    "            \n",
    "            **출처**\n",
    "            - (페이지 소스 및 페이지 번호)\n",
    "            \"\"\"\n",
    "        ),\n",
    "        MessagesPlaceholder(variable_name=\"chat_history\"),\n",
    "        ('human',\n",
    "        \"\"\"\n",
    "        #Question\n",
    "        {question}\n",
    "        #Context\n",
    "        {context}\n",
    "        \"\"\")\n",
    "\n",
    "    ]\n",
    ")\n",
    "prompt = ChatPromptTemplate.from_messages(template)"
   ]
  },
  {
   "cell_type": "code",
   "execution_count": 68,
   "metadata": {},
   "outputs": [],
   "source": [
    "\n",
    "llm = ChatOpenAI(model=\"gpt-4o-mini\")\n",
    "\n",
    "chain = (\n",
    "{\n",
    "    \"context\": itemgetter(\"question\")|retriever,\n",
    "    \"question\": itemgetter(\"question\"),\n",
    "    \"chat_history\": itemgetter(\"chat_history\"),\n",
    "}\n",
    "| prompt\n",
    "| llm\n",
    "| StrOutputParser()\n",
    ")\n"
   ]
  },
  {
   "cell_type": "code",
   "execution_count": 69,
   "metadata": {},
   "outputs": [],
   "source": [
    "store = {}\n",
    "\n",
    "# 세션 기록을 가져오는 함수\n",
    "def get_session_history(session_ids):\n",
    "    print(f\"[대화 세션ID]: {session_ids}\")\n",
    "    if session_ids not in store:\n",
    "        store[session_ids] = ChatMessageHistory()\n",
    "\n",
    "    return store[session_ids]"
   ]
  },
  {
   "cell_type": "code",
   "execution_count": 70,
   "metadata": {},
   "outputs": [],
   "source": [
    "chain_with_history = RunnableWithMessageHistory(\n",
    "    chain,\n",
    "    get_session_history, # 세션 기록을 가져오는 함수\n",
    "    input_messages_key=\"question\", # 사용자의 질문이 템플릿 변수에 들어갈 key\n",
    "    history_messages_key=\"chat_history\" #기록 메세지의 키\n",
    ")"
   ]
  },
  {
   "cell_type": "code",
   "execution_count": 71,
   "metadata": {},
   "outputs": [
    {
     "name": "stdout",
     "output_type": "stream",
     "text": [
      "[대화 세션ID]: 뎨방방\n",
      "ADA 모델의 Accuracy 값은 0.864입니다.\n",
      "\n",
      "| 모델    | Accuracy |\n",
      "|---------|----------|\n",
      "| ADA     | 0.864    |\n",
      "\n",
      "ADA 모델은 여러 머신러닝 기법 중 하나로, 본 논문에서는 Accuracy 지표로 0.864의 성능을 보였습니다. 이는 데이터 분석 및 예측에 있어 신뢰할 수 있는 결과로 간주됩니다.\n",
      "\n",
      "**출처**\n",
      "- (페이지 소스: data/diabetes draft7-3.pdf, 페이지 4)\n"
     ]
    }
   ],
   "source": [
    "response = chain_with_history.invoke({\"question\": \"본 논문에서 제시하는 ADA모델의 Accuracy 값은 얼마야?\"},\n",
    "             config={\"configurable\": {\"session_id\":\"뎨방방\"}})\n",
    "print(response)"
   ]
  },
  {
   "cell_type": "code",
   "execution_count": 72,
   "metadata": {},
   "outputs": [
    {
     "name": "stdout",
     "output_type": "stream",
     "text": [
      "[대화 세션ID]: 뎨방방\n",
      "ADA 모델의 Recall 값은 0.578입니다.\n",
      "\n",
      "| 모델    | Recall  |\n",
      "|---------|---------|\n",
      "| ADA     | 0.578   |\n",
      "\n",
      "Recall은 실제 양성 중에서 모델이 올바르게 예측한 비율을 나타내며, ADA 모델은 0.578의 Recall 값을 보여줍니다. 이는 질병에 걸린 환자를 식별하는 데 있어 중요한 지표로 작용합니다.\n",
      "\n",
      "**출처**\n",
      "- (페이지 소스: data/diabetes draft7-3.pdf, 페이지 4)\n"
     ]
    }
   ],
   "source": [
    "response = chain_with_history.invoke({\"question\": \"본 논문에서 제시하는 ADA모델의 Recall 값은 얼마야?\"},\n",
    "             config={\"configurable\": {\"session_id\":\"뎨방방\"}})\n",
    "print(response)"
   ]
  },
  {
   "cell_type": "code",
   "execution_count": 73,
   "metadata": {},
   "outputs": [
    {
     "name": "stdout",
     "output_type": "stream",
     "text": [
      "[대화 세션ID]: abc123\n",
      "본 논문에서 제시하는 모델들의 Accuracy와 Recall 값은 다음과 같습니다.\n",
      "\n",
      "| 모델명  | Accuracy | Recall |\n",
      "|---------|----------|--------|\n",
      "| KNN     | 0.875    | 0.554  |\n",
      "| XGB     | 0.864    | 0.570  |\n",
      "| ADA     | 0.864    | 0.578  |\n",
      "| SVC     | 0.863    | 0.535  |\n",
      "| LR      | 0.861    | 0.563  |\n",
      "| Ridge   | 0.861    | 0.516  |\n",
      "| CNN     | 0.865    | 0.670  |\n",
      "| DNN     | 0.866    | 0.690  |\n",
      "| Ensemble| 0.892    | 0.790  |\n",
      "| RF      | 0.850    | 0.580  |\n",
      "| BNB     | 0.823    | 0.672  |\n",
      "| DT      | 0.816    | 0.596  |\n",
      "| GNB     | 0.778    | 0.687  |\n",
      "\n",
      "**출처**\n",
      "- (페이지 소스: data/diabetes draft7-3.pdf, 페이지: 4)\n"
     ]
    }
   ],
   "source": [
    "response = chain_with_history.invoke({\"question\": \"본 논문에서 제시하는 모델들의 Accuracy,Recall 값들을 알려줘.\"},\n",
    "                           config={\"configurable\": {\"session_id\":\"abc123\"}})\n",
    "print(response)"
   ]
  },
  {
   "cell_type": "code",
   "execution_count": 74,
   "metadata": {},
   "outputs": [
    {
     "name": "stdout",
     "output_type": "stream",
     "text": [
      "[대화 세션ID]: abc123\n",
      "논문에서 제시하는 모델들의 VIF(Variance Inflation Factors) 값은 다음과 같습니다.\n",
      "\n",
      "| 특징                    | VIF       |\n",
      "|-----------------------|-----------|\n",
      "| const                 | 116.856706|\n",
      "| Diabetes_binary       | 1.193120  |\n",
      "| HighBP                | 1.344502  |\n",
      "| HighChol              | 1.180932  |\n",
      "| CholCheck             | 1.033501  |\n",
      "| BMI                   | 1.160280  |\n",
      "| Smoker                | 1.091872  |\n",
      "| Stroke                | 1.081612  |\n",
      "| HeartDiseaseorAttack  | 1.175776  |\n",
      "| PhysActivity          | 1.157396  |\n",
      "| Fruits                | 1.112540  |\n",
      "| Veggies               | 1.112397  |\n",
      "| HvyAlcoholConsump     | 1.025418  |\n",
      "| AnyHealthcare         | 1.113209  |\n",
      "| NoDocbcCost          | 1.144200  |\n",
      "| GenHlth              | 1.821914  |\n",
      "| MentHlth             | 1.239497  |\n",
      "| PhysHlth             | 1.623288  |\n",
      "| DiffWalk             | 1.536636  |\n",
      "| Sex                   | 1.075748  |\n",
      "| Age                   | 1.354954  |\n",
      "| Education            | 1.326495  |\n",
      "| Income                | 1.505649  |\n",
      "\n",
      "**출처**\n",
      "- (페이지 소스: data/diabetes draft7-3.pdf, 페이지: 4)\n"
     ]
    }
   ],
   "source": [
    "response = chain_with_history.invoke({\"question\": \"본 논문에서 제시하는 모델들의 vif 값들을 알려줘.\"},\n",
    "                           config={\"configurable\": {\"session_id\":\"abc123\"}})\n",
    "print(response)"
   ]
  },
  {
   "cell_type": "code",
   "execution_count": 52,
   "metadata": {},
   "outputs": [
    {
     "data": {
      "text/plain": [
       "'주어진 context에서는 여러 머신러닝 모델의 ROC-AUC 값에 대한 내용이 포함되어 있습니다. 이 표에는 ADA, LR, XGB, RF, KNN, SVC, BNB, Ridge, DT, GNB, DNN, RNN+CNN 모델의 ROC-AUC 값이 나열되어 있습니다. 특히 DNN 모델은 0.81, RNN+CNN 모델은 0.83의 ROC-AUC 값을 가지고 있습니다. \\n\\n출처: data/diabetes draft7.pdf (page 5)'"
      ]
     },
     "execution_count": 52,
     "metadata": {},
     "output_type": "execute_result"
    }
   ],
   "source": [
    "#chain.invoke(\"어떤 모델값에 대한\")"
   ]
  },
  {
   "cell_type": "code",
   "execution_count": null,
   "metadata": {},
   "outputs": [],
   "source": []
  }
 ],
 "metadata": {
  "kernelspec": {
   "display_name": "langchain-kr-gLkynrUQ-py3.11",
   "language": "python",
   "name": "python3"
  },
  "language_info": {
   "codemirror_mode": {
    "name": "ipython",
    "version": 3
   },
   "file_extension": ".py",
   "mimetype": "text/x-python",
   "name": "python",
   "nbconvert_exporter": "python",
   "pygments_lexer": "ipython3",
   "version": "3.11.9"
  }
 },
 "nbformat": 4,
 "nbformat_minor": 2
}
