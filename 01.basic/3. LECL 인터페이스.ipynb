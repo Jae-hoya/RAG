{
 "cells": [
  {
   "cell_type": "markdown",
   "id": "6d0e1e62-6cb2-4b14-bd87-5addb0d91d67",
   "metadata": {},
   "source": [
    "# LECL인터페이스\n",
    "\n",
    "`stream` : 응답의 chunk를 streaming한다.\n",
    "\n",
    "`invoke` : 입력에 대해 체인을 호출한다.\n",
    "\n",
    "`batch`: 입력 목록에 대한 체인을 호출."
   ]
  },
  {
   "cell_type": "markdown",
   "id": "f362aa2e-1ed8-4f0a-88f3-4ad76f946a87",
   "metadata": {},
   "source": [
    "### 비동기 메소드"
   ]
  },
  {
   "cell_type": "code",
   "execution_count": 6,
   "id": "81817a5d-af80-4f6e-846e-717632c8f22f",
   "metadata": {},
   "outputs": [
    {
     "data": {
      "text/plain": [
       "True"
      ]
     },
     "execution_count": 6,
     "metadata": {},
     "output_type": "execute_result"
    }
   ],
   "source": [
    "from dotenv import load_dotenv\n",
    "load_dotenv()"
   ]
  },
  {
   "cell_type": "code",
   "execution_count": 7,
   "id": "34636d75-145e-41c3-b84c-393912fa1708",
   "metadata": {},
   "outputs": [
    {
     "name": "stdout",
     "output_type": "stream",
     "text": [
      "LangSmith 추적을 시작합니다.\n",
      "[프로젝트명]\n",
      "CH01.Basic\n"
     ]
    }
   ],
   "source": [
    "from langchain_teddynote import logging\n",
    "\n",
    "logging.langsmith(\"CH01.Basic\")"
   ]
  },
  {
   "cell_type": "code",
   "execution_count": 8,
   "id": "68d0b640-0c27-4ad6-85dc-c62986108f8c",
   "metadata": {},
   "outputs": [],
   "source": [
    "from langchain_community.chat_models import ChatOllama\n",
    "from langchain_core.prompts import PromptTemplate\n",
    "from langchain_core.output_parsers import StrOutputParser"
   ]
  },
  {
   "cell_type": "code",
   "execution_count": 11,
   "id": "097718ef-95b2-41b0-afcb-60e23caba2a5",
   "metadata": {},
   "outputs": [],
   "source": [
    "model = ChatOllama(model=\"llama3:8b\")\n",
    "template= \"\"\"\n",
    "{topic}에 대하여 3문장으로 설명해줘\n",
    "\"\"\"\n",
    "prompt = PromptTemplate.from_template(template)\n",
    "\n",
    "chain = prompt | model | StrOutputParser()"
   ]
  },
  {
   "cell_type": "code",
   "execution_count": 20,
   "id": "a4d55bda-ff4f-407c-ae14-6f17f84495e6",
   "metadata": {},
   "outputs": [
    {
     "data": {
      "text/plain": [
       "PromptTemplate(input_variables=['topic'], template='\\n{topic}에 대하여 3문장으로 설명해줘\\n')\n",
       "| ChatOllama(model='llama3:8b')\n",
       "| StrOutputParser()"
      ]
     },
     "execution_count": 20,
     "metadata": {},
     "output_type": "execute_result"
    }
   ],
   "source": [
    "chain"
   ]
  },
  {
   "cell_type": "markdown",
   "id": "d3c8cffa-be63-4748-836f-0a8680349e18",
   "metadata": {},
   "source": [
    "# stream: 실시간 출력"
   ]
  },
  {
   "cell_type": "code",
   "execution_count": 18,
   "id": "5607d6ac-896a-4c22-bab1-a2a7043363f3",
   "metadata": {},
   "outputs": [
    {
     "name": "stdout",
     "output_type": "stream",
     "text": [
      "Here are three sentences explaining multimodal:\n",
      "\n",
      "Multimodal refers to the combination of multiple modes or forms of expression, such as text, image, audio, and video, to convey meaning and communicate information. In a multimodal system, different modalities can be used together to provide a more comprehensive and engaging experience for users. By leveraging the strengths of each modality, multimodal systems can improve comprehension, recall, and overall user satisfaction in various applications, such as education, entertainment, and social media."
     ]
    }
   ],
   "source": [
    "answer = \"\"\n",
    "for token in chain.stream({'topic': \"멀티모달\"}):\n",
    "    print(token, end=\"\", flush=True)\n",
    "    answer += token"
   ]
  },
  {
   "cell_type": "code",
   "execution_count": 19,
   "id": "100903ba-f345-46a7-9e3a-2c4fd013b138",
   "metadata": {},
   "outputs": [
    {
     "data": {
      "text/plain": [
       "'Here are three sentences explaining multimodal:\\n\\nMultimodal refers to the combination of multiple modes or forms of expression, such as text, image, audio, and video, to convey meaning and communicate information. In a multimodal system, different modalities can be used together to provide a more comprehensive and engaging experience for users. By leveraging the strengths of each modality, multimodal systems can improve comprehension, recall, and overall user satisfaction in various applications, such as education, entertainment, and social media.'"
      ]
     },
     "execution_count": 19,
     "metadata": {},
     "output_type": "execute_result"
    }
   ],
   "source": [
    "answer"
   ]
  },
  {
   "cell_type": "markdown",
   "id": "916c0414-fc30-4bba-9b01-c2df1d28b831",
   "metadata": {},
   "source": [
    "# batch: 배치 단위 실행\n",
    "\n",
    "여러개의 딕셔너리를 포함하는 리스트를 인자로 받아 각 딕셔너리에 있는 topic키의 값을 사용하여 일괄 처리를 수행\n",
    "\n",
    "즉, 한번의 여러개를 호출할때 사용"
   ]
  },
  {
   "cell_type": "code",
   "execution_count": 21,
   "id": "51a15a07-688d-4f20-a1e6-9c85fffb1576",
   "metadata": {},
   "outputs": [],
   "source": [
    "answer = chain.batch([{\"topic\":\"ChatGPT\"}, {\"topic\": \"Instagram\"}])"
   ]
  },
  {
   "cell_type": "code",
   "execution_count": 24,
   "id": "11fb9790-ea4c-403a-a0e7-e90d6b20bcbc",
   "metadata": {},
   "outputs": [
    {
     "name": "stdout",
     "output_type": "stream",
     "text": [
      "Here are three sentences explaining ChatGPT:\n",
      "\n",
      "ChatGPT is a cutting-edge language model developed by Meta AI that can understand and respond to human input in a conversational manner. It uses a massive dataset of text from the internet to learn patterns and relationships, allowing it to generate human-like responses to a wide range of questions and topics. Through its ability to process and generate natural language, ChatGPT has the potential to revolutionize fields such as customer service, content creation, and even artificial intelligence research itself.\n",
      "Here are three sentences that describe Instagram:\n",
      "\n",
      "Instagram is a social media platform where users can share photos and videos with friends, family, and followers. Users can upload content to their own feed, as well as engage with others by liking, commenting, and sharing posts. With over a billion active users, Instagram has become one of the most popular social media platforms in the world, allowing people to express themselves visually and connect with others through visual storytelling.\n"
     ]
    }
   ],
   "source": [
    "print(answer[0])\n",
    "print(answer[1])"
   ]
  },
  {
   "cell_type": "code",
   "execution_count": 27,
   "id": "146175c3-7e3c-4a3b-aa19-b18ba97b2609",
   "metadata": {},
   "outputs": [
    {
     "data": {
      "text/plain": [
       "['Here are three sentences explaining ChatGPT:\\n\\nChatGPT is a cutting-edge language model developed by Meta AI that can understand and respond to human input in a conversational manner. It uses a combination of machine learning algorithms and large datasets to generate human-like text that can answer questions, provide information, and even engage in creative activities like storytelling and joke-telling. By leveraging its vast knowledge base and advanced natural language processing capabilities, ChatGPT has the potential to revolutionize various industries and aspects of our daily lives, from customer service and education to entertainment and healthcare.',\n",
       " \"Here are three sentences that explain Instagram:\\n\\nInstagram is a social media platform where users can share photos and videos with their followers, as well as edit and enhance them using various filters and effects. Founded in 2010 by Kevin Systrom and Mike Krieger, Instagram was acquired by Facebook in 2012 and has since become one of the most popular social media platforms worldwide, with over a billion active users. On Instagram, users can follow accounts they're interested in, such as friends, celebrities, or brands, and engage with their content through likes, comments, and direct messaging.\",\n",
       " 'Here are three sentences explaining what multimodal is:\\n\\nMultimodal refers to the combination of multiple forms or modes of communication, such as text, images, audio, and video, to convey information or express meaning. In a multimodal approach, these different modes work together to create a richer and more comprehensive understanding of a topic or idea. Multimodality allows for the integration of diverse forms of knowledge and expression, enabling a more nuanced and engaging way of communicating with others.',\n",
       " \"Here are three sentences that explain programming:\\n\\nProgramming is the process of designing, writing, testing, and maintaining software to solve a specific problem or achieve a particular goal. It involves creating a set of instructions, called code, that a computer can execute, using programming languages such as Java, Python, or C++. Through programming, developers can create applications, games, websites, and other digital products that interact with users, automate tasks, and improve people's lives.\",\n",
       " 'Here are three sentences that explain machine learning:\\n\\nMachine learning is a subfield of artificial intelligence (AI) that enables computers to learn from data and make predictions or decisions without being explicitly programmed. By analyzing large datasets, machines can identify patterns and relationships, and improve their performance over time through trial and error. Machine learning has numerous applications in areas such as computer vision, natural language processing, recommendation systems, and predictive analytics, revolutionizing industries like healthcare, finance, and e-commerce.']"
      ]
     },
     "execution_count": 27,
     "metadata": {},
     "output_type": "execute_result"
    }
   ],
   "source": [
    "chain.batch(\n",
    "    [\n",
    "            {\"topic\":\"ChatGPT\"},\n",
    "            {\"topic\":\"Instagram\"},\n",
    "            {\"topic\":\"멀티모달\"},\n",
    "            {\"topic\":\"프로그래밍\"},\n",
    "            {\"topic\":\"머신러닝\"},\n",
    "    ],\n",
    "    config={\"max_concurrency\":3}, #최대 3개씩\n",
    ")"
   ]
  },
  {
   "cell_type": "code",
   "execution_count": null,
   "id": "5ba924f3-27f0-4e5a-b7e5-eb9687c02cce",
   "metadata": {},
   "outputs": [],
   "source": []
  },
  {
   "cell_type": "markdown",
   "id": "dc3d534d-c358-4f54-88cd-e92b11d33366",
   "metadata": {},
   "source": [
    "# async steam: 비동기 스트림\n",
    "\n",
    "어싱크러너스\n",
    "\n",
    "- 특정 task를 할 때, 이 task가 종료될 때 까지, 기다리는것은 동기 스트림이다.\n",
    "- 특정 task를 할 때 다른것을 수행하는것을 비동기 스트림이다. 즉, 작읩의 완료를 기다리는 동안 다른 코드의 실행이 가능하다."
   ]
  },
  {
   "cell_type": "code",
   "execution_count": 33,
   "id": "933a01bc-2ddd-45a1-a6d5-a38a2547a32c",
   "metadata": {},
   "outputs": [
    {
     "data": {
      "text/plain": [
       "'Here are three sentences explaining NVDA:\\n\\nNVDA (NonVisual Desktop Access) is a free and open-source screen reader software that provides auditory feedback to users who are blind or have low vision. It reads aloud the text on the computer screen, including menus, buttons, and other interface elements, allowing users to navigate and interact with digital content without visual assistance. NVDA also supports braille displays and offers a range of customization options to suit individual needs and preferences.'"
      ]
     },
     "execution_count": 33,
     "metadata": {},
     "output_type": "execute_result"
    }
   ],
   "source": [
    "# #비동기 체인 객체의 \"ainvoke\"메서드를 출력하여 \"nvda\"토픽을 처리한다.\n",
    "chain.invoke({\"topic\": \"nvda\"})"
   ]
  },
  {
   "cell_type": "code",
   "execution_count": 31,
   "id": "345715dc-8ec7-4947-8016-42bb5a1de877",
   "metadata": {},
   "outputs": [],
   "source": [
    "my_process = chain.ainvoke({\"topic\":\"nvda\"})"
   ]
  },
  {
   "cell_type": "code",
   "execution_count": 32,
   "id": "7f3859cc-df12-4ad5-ad70-ae2ca5ffdaa0",
   "metadata": {},
   "outputs": [
    {
     "data": {
      "text/plain": [
       "\"Here are three sentences explaining NVDA:\\n\\nNVDA (NonVisual Desktop Access) is a free and open-source screen reader software that provides auditory feedback to users who are blind or have low vision. It reads aloud the text on a computer's screen, allowing users to navigate and interact with digital content without relying on visual cues. With NVDA, users can access a wide range of applications, including web browsers, email clients, word processors, and more, using a keyboard-only interface or with assistive technologies such as braille displays or speech-output devices.\""
      ]
     },
     "execution_count": 32,
     "metadata": {},
     "output_type": "execute_result"
    }
   ],
   "source": [
    "# 비동기로 처리되는 프로세스가 끝날떄까지 기다린다.\n",
    "await my_process"
   ]
  },
  {
   "cell_type": "code",
   "execution_count": null,
   "id": "40eeba79-ed04-4f36-adfd-02d6adadad4d",
   "metadata": {},
   "outputs": [],
   "source": []
  }
 ],
 "metadata": {
  "kernelspec": {
   "display_name": "Python 3 (ipykernel)",
   "language": "python",
   "name": "python3"
  },
  "language_info": {
   "codemirror_mode": {
    "name": "ipython",
    "version": 3
   },
   "file_extension": ".py",
   "mimetype": "text/x-python",
   "name": "python",
   "nbconvert_exporter": "python",
   "pygments_lexer": "ipython3",
   "version": "3.12.3"
  }
 },
 "nbformat": 4,
 "nbformat_minor": 5
}
