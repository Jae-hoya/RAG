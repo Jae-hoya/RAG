{
 "cells": [
  {
   "cell_type": "code",
   "execution_count": 1,
   "id": "1d9da827-b832-4165-97b4-284c42bca295",
   "metadata": {},
   "outputs": [],
   "source": [
    "from dotenv import load_dotenv"
   ]
  },
  {
   "cell_type": "code",
   "execution_count": 2,
   "id": "3345e641-02ce-4178-99c7-11737f3ae090",
   "metadata": {},
   "outputs": [
    {
     "data": {
      "text/plain": [
       "True"
      ]
     },
     "execution_count": 2,
     "metadata": {},
     "output_type": "execute_result"
    }
   ],
   "source": [
    "load_dotenv()"
   ]
  },
  {
   "cell_type": "code",
   "execution_count": 3,
   "id": "f783ec2b-a19e-47a6-a673-8d2c03bd3949",
   "metadata": {},
   "outputs": [],
   "source": [
    "from langchain_teddynote import logging"
   ]
  },
  {
   "cell_type": "code",
   "execution_count": 4,
   "id": "874a9fd5-0312-4053-962a-ba219b3f5e6a",
   "metadata": {},
   "outputs": [
    {
     "name": "stdout",
     "output_type": "stream",
     "text": [
      "LangSmith 추적을 시작합니다.\n",
      "[프로젝트명]\n",
      "CH01-Basic\n"
     ]
    }
   ],
   "source": [
    "logging.langsmith(\"CH01-Basic\")"
   ]
  },
  {
   "cell_type": "markdown",
   "id": "34d3a441-2f62-48dc-b580-a6210f224d20",
   "metadata": {},
   "source": [
    "# PromptTemplate\n",
    "`PromptTemplate`\n",
    "- 입력변수를 사용하여 프롬프트 문자열을 만드는 템플릿\n",
    "- LLM에게 질문을 던지는것. 지시사항과 함께!\n",
    "- dictionary형식으로 입력해줘야 한다."
   ]
  },
  {
   "cell_type": "markdown",
   "id": "bd08a51b-91db-4073-941f-2de4f2f647be",
   "metadata": {},
   "source": [
    "#LCEL : Langcahin Expression Language\n",
    "- 과정, 단계들을 차례로 하나의 파이프라인으로 묶어준다."
   ]
  },
  {
   "cell_type": "code",
   "execution_count": 5,
   "id": "e2fd1957",
   "metadata": {},
   "outputs": [],
   "source": [
    "from langchain_core.prompts import PromptTemplate"
   ]
  },
  {
   "cell_type": "code",
   "execution_count": 6,
   "id": "7bec0558",
   "metadata": {},
   "outputs": [
    {
     "data": {
      "text/plain": [
       "PromptTemplate(input_variables=['contry'], template='{contry}의 수도는 어디인가요?')"
      ]
     },
     "execution_count": 6,
     "metadata": {},
     "output_type": "execute_result"
    }
   ],
   "source": [
    "template = \"{contry}의 수도는 어디인가요?\"  # {contry}은 입력변수\n",
    "\n",
    "prompt_template = PromptTemplate.from_template(template)\n",
    "prompt_template"
   ]
  },
  {
   "cell_type": "code",
   "execution_count": 7,
   "id": "35a6f8cd",
   "metadata": {},
   "outputs": [
    {
     "data": {
      "text/plain": [
       "'대한민국의 수도는 어디인가요?'"
      ]
     },
     "execution_count": 7,
     "metadata": {},
     "output_type": "execute_result"
    }
   ],
   "source": [
    "prompt = prompt_template.format(contry=\"대한민국\")\n",
    "prompt"
   ]
  },
  {
   "cell_type": "code",
   "execution_count": 8,
   "id": "e5440b4c",
   "metadata": {},
   "outputs": [
    {
     "data": {
      "text/plain": [
       "'미국의 수도는 어디인가요?'"
      ]
     },
     "execution_count": 8,
     "metadata": {},
     "output_type": "execute_result"
    }
   ],
   "source": [
    "prompt = prompt_template.format(contry=\"미국\")\n",
    "prompt"
   ]
  },
  {
   "cell_type": "code",
   "execution_count": 9,
   "id": "f7e540a7",
   "metadata": {},
   "outputs": [],
   "source": [
    "from langchain_community.chat_models import ChatOllama"
   ]
  },
  {
   "cell_type": "code",
   "execution_count": 10,
   "id": "b0507ffe",
   "metadata": {},
   "outputs": [],
   "source": [
    "model = ChatOllama(model=\"llama3:8b\", temperature=0.1, max_token=2048)"
   ]
  },
  {
   "cell_type": "code",
   "execution_count": 14,
   "id": "08ce59d9",
   "metadata": {},
   "outputs": [
    {
     "data": {
      "text/plain": [
       "AIMessage(content=\"😊\\n\\nYes, I have been trained on a significant amount of Korean language data and can understand and respond to basic phrases and sentences. However, please note that my proficiency in Korean is limited compared to native speakers or those who have spent extensive time studying the language.\\n\\nI can try to help with:\\n\\n* Basic conversations: greetings, introductions, simple questions and answers\\n* Understanding common phrases and expressions\\n* Translating short texts or phrases from English to Korean (and vice versa)\\n\\nHowever, my abilities are not yet advanced enough to:\\n\\n* Engage in complex conversations or discussions\\n* Understand nuanced cultural references or idioms\\n* Read or write Korean texts with ease\\n\\nIf you have any specific questions or topics you'd like to discuss in Korean, I'll do my best to help! 😊\", response_metadata={'model': 'llama3:8b', 'created_at': '2024-07-03T17:30:37.9591533Z', 'message': {'role': 'assistant', 'content': ''}, 'done_reason': 'stop', 'done': True, 'total_duration': 5535759200, 'load_duration': 4285000, 'prompt_eval_count': 13, 'prompt_eval_duration': 74322000, 'eval_count': 164, 'eval_duration': 5454949000}, id='run-cab639b6-ec95-4e3c-91de-bf0b1e148937-0')"
      ]
     },
     "execution_count": 14,
     "metadata": {},
     "output_type": "execute_result"
    }
   ],
   "source": [
    "model.invoke(\"너는 한국말을 잘해?\")"
   ]
  },
  {
   "cell_type": "code",
   "execution_count": 11,
   "id": "58ecf885",
   "metadata": {},
   "outputs": [],
   "source": [
    "prompt = PromptTemplate.from_template(\"{topic}에 대해서 쉽게 설명해주세요\")\n",
    "\n",
    "chain = prompt | model"
   ]
  },
  {
   "cell_type": "code",
   "execution_count": 13,
   "id": "a33a26fb",
   "metadata": {},
   "outputs": [
    {
     "data": {
      "text/plain": [
       "PromptTemplate(input_variables=['topic'], template='{topic}에 대해서 쉽게 설명해 주세요')\n",
       "| ChatOllama(model='llama3:8b', temperature=0.1)"
      ]
     },
     "execution_count": 13,
     "metadata": {},
     "output_type": "execute_result"
    }
   ],
   "source": [
    "chain"
   ]
  },
  {
   "cell_type": "code",
   "execution_count": 12,
   "id": "922fe5ff",
   "metadata": {},
   "outputs": [
    {
     "data": {
      "text/plain": [
       "AIMessage(content='😊 Here\\'s a brief and easy introduction to Korea:\\n\\n**Location**: Korea is located on the Korean Peninsula in East Asia. It shares borders with China to the north, Russia to the northeast, and North Korea (also known as the Democratic People\\'s Republic of Korea) to the north.\\n\\n**Capital City**: The capital city of South Korea is Seoul (), which is also the largest city. It has a population of over 10 million people!\\n\\n**Language**: The official language is Korean (), but many Koreans speak English, especially among the younger generation and those in the service industry.\\n\\n**Culture**: Korean culture is known for its rich history, vibrant traditions, and modern pop culture. You might have heard of K-pop (Korean pop music) and K-drama (Korean TV dramas), which are super popular worldwide!\\n\\n**Food**: Korean cuisine is famous for its spicy and savory flavors. Popular dishes include bibimbap (), bulgogi (), and kimchi () - a traditional side dish made from fermented vegetables.\\n\\n**History**: Korea has a long history dating back to the ancient kingdoms of Goguryeo, Baekje, and Silla. The country was divided into North and South in 1945 after World War II, with the Korean War (1950-1953) separating the two nations.\\n\\n**Economy**: South Korea is one of the Four Asian Tigers, along with Hong Kong, Singapore, and Taiwan. It has a highly developed economy, with major industries like electronics, automotive, and shipbuilding.\\n\\n**Fun Facts**:\\n\\n1. Korea is home to the world\\'s oldest known tree, the Juknokwon Tree (estimated to be over 2,000 years old!).\\n2. The country has a unique system of etiquette called \"jeong\" (), which emphasizes respect, politeness, and harmony.\\n3. Koreans love their coffee culture - there are more than 70,000 coffee shops in Seoul alone!\\n\\nThat\\'s a brief overview of Korea! 🇰🇷 If you have any specific questions or topics you\\'d like to know more about, feel free to ask! 😊', response_metadata={'model': 'llama3:8b', 'created_at': '2024-07-03T17:28:44.490512Z', 'message': {'role': 'assistant', 'content': ''}, 'done_reason': 'stop', 'done': True, 'total_duration': 16768167800, 'load_duration': 4760684900, 'prompt_eval_count': 22, 'prompt_eval_duration': 48997000, 'eval_count': 433, 'eval_duration': 11953853000}, id='run-68deed0c-c0fc-4dbc-9f82-15aed5883b42-0')"
      ]
     },
     "execution_count": 12,
     "metadata": {},
     "output_type": "execute_result"
    }
   ],
   "source": [
    "chain.invoke(\"{topic}:한국\")"
   ]
  },
  {
   "cell_type": "code",
   "execution_count": 15,
   "id": "3011684e",
   "metadata": {},
   "outputs": [
    {
     "data": {
      "text/plain": [
       "AIMessage(content=\"I'd be happy to explain the basics of artificial intelligence (AI) learning in a simple way.\\n\\n**What is AI Learning?**\\n\\nAI learning, also known as machine learning, is a type of computer programming that allows machines to learn from data without being explicitly programmed. This means that AI systems can improve their performance over time by analyzing and processing large amounts of data.\\n\\n**How Does AI Learning Work?**\\n\\nHere's a simplified overview of the process:\\n\\n1. **Data Collection**: A large dataset is collected, which can be images, text, audio files, or any other type of data.\\n2. **Model Creation**: An AI model is created, which is essentially a set of algorithms and rules that define how to analyze the data.\\n3. **Training**: The AI model is trained on the dataset by feeding it examples of input-output pairs. This process helps the model learn patterns and relationships within the data.\\n4. **Testing**: The trained AI model is tested on a separate dataset, known as the test set, to evaluate its performance.\\n5. **Improvement**: If the AI model performs well on the test set, it's considered good enough for practical use. Otherwise, the training process can be repeated with adjustments made to the model or the data.\\n\\n**Types of AI Learning**\\n\\nThere are several types of AI learning, including:\\n\\n1. **Supervised Learning**: The AI model is trained on labeled data, where each example has a corresponding output.\\n2. **Unsupervised Learning**: The AI model is trained on unlabeled data and must find patterns or relationships within the data.\\n3. **Reinforcement Learning**: The AI model learns by interacting with an environment and receiving rewards or penalties for its actions.\\n\\n**Key Concepts**\\n\\nSome key concepts in AI learning include:\\n\\n1. **Neural Networks**: A type of AI model inspired by the human brain, consisting of interconnected nodes (neurons) that process information.\\n2. **Deep Learning**: A subfield of machine learning that uses neural networks to analyze data.\\n3. **Gradient Descent**: An optimization algorithm used in many AI models to adjust parameters and minimize errors.\\n\\n**Real-World Applications**\\n\\nAI learning has numerous applications in various fields, such as:\\n\\n1. **Computer Vision**: Image recognition, object detection, facial recognition, etc.\\n2. **Natural Language Processing (NLP)**: Text analysis, sentiment analysis, language translation, etc.\\n3. **Robotics**: Autonomous vehicles, robotic arms, and other intelligent systems.\\n\\nI hope this helps you understand the basics of AI learning!\", response_metadata={'model': 'llama3:8b', 'created_at': '2024-07-03T17:34:08.6350565Z', 'message': {'role': 'assistant', 'content': ''}, 'done_reason': 'stop', 'done': True, 'total_duration': 16301904700, 'load_duration': 3860400, 'prompt_eval_count': 20, 'prompt_eval_duration': 56635000, 'eval_count': 519, 'eval_duration': 16239156000}, id='run-cab2ced8-c9fe-4d56-a870-a2f8d30ab5ad-0')"
      ]
     },
     "execution_count": 15,
     "metadata": {},
     "output_type": "execute_result"
    }
   ],
   "source": [
    "input = {\"topic\": \"인공지능 학습의 원리\"}\n",
    "chain.invoke(input)"
   ]
  },
  {
   "cell_type": "code",
   "execution_count": 16,
   "id": "32882fd7",
   "metadata": {},
   "outputs": [],
   "source": [
    "prompt = PromptTemplate.from_template(\"{topic}에 대해서 {how} 설명해주세요\")\n",
    "\n",
    "chain = prompt | model"
   ]
  },
  {
   "cell_type": "code",
   "execution_count": 17,
   "id": "fcbf405e",
   "metadata": {},
   "outputs": [
    {
     "data": {
      "text/plain": [
       "PromptTemplate(input_variables=['how', 'topic'], template='{topic}에 대해서 {how} 설명해주세요')\n",
       "| ChatOllama(model='llama3:8b', temperature=0.1)"
      ]
     },
     "execution_count": 17,
     "metadata": {},
     "output_type": "execute_result"
    }
   ],
   "source": [
    "chain"
   ]
  },
  {
   "cell_type": "code",
   "execution_count": 31,
   "id": "c4a31ee9",
   "metadata": {},
   "outputs": [
    {
     "data": {
      "text/plain": [
       "AIMessage(content='What a great question! 🤖 I\\'d be happy to explain the basics of artificial intelligence (AI) learning in a way that\\'s easy for kids and adults alike to understand.\\n\\n**What is AI?**\\n\\nArtificial Intelligence is like a super smart computer program that can think, learn, and make decisions on its own. It\\'s like having a robot friend that can play games with you, recognize your face, or even drive a car! 🚗\\n\\n**How does AI learn?**\\n\\nAI learns by using something called \"machine learning\". Machine learning is like a special kind of training where the AI program gets better and better at doing things on its own.\\n\\nHere\\'s how it works:\\n\\n1. **Data**: The AI program starts with lots of data, like pictures, words, or numbers.\\n2. **Algorithm**: The AI uses a special set of rules (called an algorithm) to look at the data and figure out what patterns or relationships exist between them.\\n3. **Training**: The AI is trained on this data by trying different things and seeing how they work out. It\\'s like practicing a new skill, like riding a bike!\\n4. **Feedback**: The AI gets feedback from humans (like you!) about whether it did something correctly or not.\\n5. **Improvement**: Based on the feedback, the AI adjusts its algorithm to do better next time.\\n\\n**Examples of AI learning**\\n\\n1. **Image recognition**: An AI program looks at lots of pictures and learns what different objects are (e.g., cats, dogs, cars). Then, it can recognize those objects in new pictures!\\n2. **Language understanding**: An AI program reads lots of texts and learns the meanings of words and phrases. Then, it can understand what you\\'re saying when you talk to it! 🗣️\\n3. **Game playing**: An AI program plays games like chess or Go against other players. It learns from its wins and losses to get better at the game!\\n\\n**Why is AI learning important?**\\n\\nAI learning helps us:\\n\\n1. **Solve problems**: AI can help us solve complex problems that are too hard for humans to do on our own.\\n2. **Make decisions**: AI can make decisions faster and more accurately than humans, especially in situations where there\\'s a lot of data to consider.\\n3. **Improve lives**: AI can help us with things like healthcare, education, and transportation, making our lives easier and better!\\n\\nI hope this explanation helps you understand the basics of AI learning! 🤩', response_metadata={'model': 'llama3:8b', 'created_at': '2024-07-03T17:41:02.1399046Z', 'message': {'role': 'assistant', 'content': ''}, 'done_reason': 'stop', 'done': True, 'total_duration': 17178864500, 'load_duration': 5000100, 'prompt_eval_count': 17, 'prompt_eval_duration': 111304000, 'eval_count': 515, 'eval_duration': 17059326000}, id='run-3d889ead-5b7f-4d9b-9a9e-f5489cd863b0-0')"
      ]
     },
     "execution_count": 31,
     "metadata": {},
     "output_type": "execute_result"
    }
   ],
   "source": [
    "chain.invoke(\n",
    "    {\"topic\": \"인공지능 학습의 원리\", \"how\": \"한국어로, 어린이도 이해할수 있게\"}\n",
    ")"
   ]
  },
  {
   "cell_type": "code",
   "execution_count": 18,
   "id": "0f1c832f",
   "metadata": {},
   "outputs": [],
   "source": [
    "input = {\"topic\": \"인공지능 학습의 원리\", \"how\": \"간단하게\"}"
   ]
  },
  {
   "cell_type": "code",
   "execution_count": 20,
   "id": "f9f3de18",
   "metadata": {},
   "outputs": [
    {
     "data": {
      "text/plain": [
       "AIMessage(content=\"I'd be happy to explain the basics of artificial intelligence (AI) learning in simple terms.\\n\\n**What is AI Learning?**\\n\\nAI learning, also known as machine learning, is a type of artificial intelligence that enables machines to learn from data without being explicitly programmed. This means that AI systems can improve their performance over time by analyzing and processing large amounts of data.\\n\\n**How does AI Learning work?**\\n\\nHere's a simplified overview:\\n\\n1. **Data Collection**: A large dataset is collected, which can be in the form of text, images, audio, or any other type of data.\\n2. **Model Creation**: An AI model is created to analyze and process the data. This model is like a set of rules that the AI system uses to make predictions or decisions.\\n3. **Training**: The AI model is trained on the collected dataset by feeding it examples of input-output pairs. The model learns from these examples and adjusts its internal parameters to improve its performance.\\n4. **Testing**: The trained AI model is tested on a separate set of data, known as the test dataset, to evaluate its performance and accuracy.\\n5. **Iteration**: If the AI model performs well on the test dataset, it's considered ready for deployment. Otherwise, the training process is repeated with adjustments made to the model or the dataset.\\n\\n**Types of AI Learning**\\n\\nThere are several types of AI learning, including:\\n\\n1. **Supervised Learning**: The AI model learns from labeled data, where each example has a corresponding output.\\n2. **Unsupervised Learning**: The AI model discovers patterns and relationships in unlabeled data.\\n3. **Reinforcement Learning**: The AI model learns by interacting with an environment and receiving rewards or penalties for its actions.\\n\\n**Key Concepts**\\n\\nSome key concepts to understand AI learning include:\\n\\n1. **Algorithm**: A set of instructions that the AI system follows to learn from data.\\n2. **Hyperparameter**: Adjustable parameters that affect the performance of the AI model.\\n3. **Bias-Variance Tradeoff**: The balance between the AI model's ability to fit the training data (bias) and its ability to generalize to new data (variance).\\n\\nThat's a basic overview of AI learning! If you have any specific questions or want more details, feel free to ask. 😊\", response_metadata={'model': 'llama3:8b', 'created_at': '2024-07-03T17:35:59.1800678Z', 'message': {'role': 'assistant', 'content': ''}, 'done_reason': 'stop', 'done': True, 'total_duration': 14243166700, 'load_duration': 5232400, 'prompt_eval_count': 11, 'prompt_eval_duration': 127583000, 'eval_count': 465, 'eval_duration': 14107420000}, id='run-c2f6233a-f37b-46de-9d97-fbf1f8c6b9ea-0')"
      ]
     },
     "execution_count": 20,
     "metadata": {},
     "output_type": "execute_result"
    }
   ],
   "source": [
    "chain.invoke(input)"
   ]
  },
  {
   "cell_type": "markdown",
   "id": "4fb13110",
   "metadata": {},
   "source": [
    "# OutputParser\n",
    "`StrOutputParser` : invoke를 하면 AI Message라는 객체로 감싸져있다. 이것이 default값이다. 우리는 답변만 나오는것을 추구한다. 그렇기 때문에 문자열만 출력하는 StrOutPutParser를 사용한다."
   ]
  },
  {
   "cell_type": "code",
   "execution_count": 33,
   "id": "90f7a3ad",
   "metadata": {},
   "outputs": [],
   "source": [
    "from langchain_core.output_parsers import StrOutputParser"
   ]
  },
  {
   "cell_type": "code",
   "execution_count": 34,
   "id": "96412851",
   "metadata": {},
   "outputs": [],
   "source": [
    "chain = prompt | model | StrOutputParser()"
   ]
  },
  {
   "cell_type": "code",
   "execution_count": 36,
   "id": "f8734fb3",
   "metadata": {},
   "outputs": [
    {
     "data": {
      "text/plain": [
       "\"I'd be happy to explain the basics of artificial intelligence (AI) learning in simple terms.\\n\\n**What is AI Learning?**\\n\\nArtificial Intelligence (AI) learning, also known as Machine Learning (ML), is a type of computer programming that allows machines to learn from data without being explicitly programmed. In other words, AI learns by itself!\\n\\n**How does it work?**\\n\\nHere's a simplified overview:\\n\\n1. **Data Collection**: A large dataset is gathered, which can be images, text, audio, or any other type of data.\\n2. **Model Creation**: An AI model is created, which is essentially a set of algorithms and rules that will analyze the data.\\n3. **Training**: The AI model is trained on the collected data by feeding it into the model multiple times. This process helps the model learn patterns, relationships, and insights from the data.\\n4. **Testing**: The trained AI model is tested with new, unseen data to evaluate its performance and accuracy.\\n5. **Improvement**: If the AI model performs well, it's refined and re-trained on more data to improve its performance.\\n\\n**Types of AI Learning**\\n\\nThere are three main types of AI learning:\\n\\n1. **Supervised Learning**: The AI model is trained on labeled data (e.g., images with specific labels) to learn patterns and relationships.\\n2. **Unsupervised Learning**: The AI model is trained on unlabeled data, and it must find patterns and relationships on its own.\\n3. **Reinforcement Learning**: The AI model learns by interacting with an environment and receiving rewards or penalties for its actions.\\n\\n**Key Concepts**\\n\\nSome key concepts in AI learning include:\\n\\n1. **Neural Networks**: A type of AI model inspired by the human brain, consisting of interconnected nodes (neurons) that process information.\\n2. **Deep Learning**: A subfield of machine learning that uses neural networks to analyze complex data.\\n3. **Gradient Descent**: An optimization algorithm used in many AI models to adjust parameters and improve performance.\\n\\nThat's a basic overview of AI learning! If you have any specific questions or want more details, feel free to ask. 😊\""
      ]
     },
     "execution_count": 36,
     "metadata": {},
     "output_type": "execute_result"
    }
   ],
   "source": [
    "chain.invoke(input)"
   ]
  },
  {
   "cell_type": "code",
   "execution_count": 59,
   "id": "9b84039a",
   "metadata": {},
   "outputs": [
    {
     "data": {
      "text/plain": [
       "PromptTemplate(input_variables=['question'], template='\\n당신은 영어를 가르치는 10년차 영어 선생님입니다. 주어진 상황에 맞는 영어 회화를 작성해 주세요. 회화에서 각자의 역할까지 알려주세요.\\n양식은 [FORMAT]을 작성해 주세요.\\n\\n#상황\\n{question}\\n\\n#FORMAT:\\n- 영어 회화:\\n- 한글 해석:\\n')"
      ]
     },
     "execution_count": 59,
     "metadata": {},
     "output_type": "execute_result"
    }
   ],
   "source": [
    "# 중괄호는 변수지만, 대괄호는 변수가 아니다! 중괄호를 표현하고 싶으면 두번쓰면 된다 {{}}\n",
    "# #은 구분자이다.\n",
    "template = \"\"\"\n",
    "당신은 영어를 가르치는 10년차 영어 선생님입니다. 주어진 상황에 맞는 영어 회화를 작성해 주세요. 회화에서 각자의 역할까지 알려주세요.\n",
    "양식은 [FORMAT]을 작성해 주세요.\n",
    "\n",
    "#상황\n",
    "{question}\n",
    "\n",
    "#FORMAT:\n",
    "- 영어 회화:\n",
    "- 한글 해석:\n",
    "\"\"\"\n",
    "prompt = PromptTemplate.from_template(template)\n",
    "prompt"
   ]
  },
  {
   "cell_type": "code",
   "execution_count": 60,
   "id": "5273880f",
   "metadata": {},
   "outputs": [],
   "source": [
    "model = ChatOllama(model=\"llama3:8b\")\n",
    "\n",
    "output_parser = StrOutputParser()"
   ]
  },
  {
   "cell_type": "code",
   "execution_count": 61,
   "id": "d3a90707",
   "metadata": {},
   "outputs": [],
   "source": [
    "chain = prompt | model | output_parser"
   ]
  },
  {
   "cell_type": "code",
   "execution_count": 62,
   "id": "720f116b",
   "metadata": {},
   "outputs": [
    {
     "name": "stdout",
     "output_type": "stream",
     "text": [
      "Here is a possible conversation:\n",
      "\n",
      "**FORMAT**\n",
      "\n",
      "* English conversation:\n",
      "* Korean interpretation:\n",
      "\n",
      "**#상황**\n",
      "question: 저는 식당에 가서 음식을 주문하고 싶어요.\n",
      "\n",
      "* English conversation:\n",
      "Student: Excuse me, I would like to order some food, please.\n",
      "Waiter: Okay! What can I get for you?\n",
      "Student: I'll have the chicken teriyaki and a side of rice, please.\n",
      "Waiter: Alrighty! That's $15. Would you like to try our special dessert today?\n",
      "Student: No, thank you. Just the meal is fine.\n",
      "\n",
      "* Korean interpretation:\n",
      "학생: excuse me, 음식을 주문하고 싶어요.\n",
      "웨이터: 알겠습니다! 무엇을 드릴까요?\n",
      "학생: 치킨 테리야키와 리스 사이드를 주세요.\n",
      "웨이터: 알송이! 그게 15불입니다. 오늘의 특별 디저트를 시도해보고 싶나요?\n",
      "학생: 아니요, 감사합니다. juste meal은 괜찮아요.\n",
      "\n",
      "Please note that the conversation is a simplified example and may not be a realistic representation of how a native English speaker would speak in this situation.\n"
     ]
    }
   ],
   "source": [
    "print(chain.invoke(\"question: 저는 식당에 가서 음식을 주문하고 싶어요.\"))"
   ]
  },
  {
   "cell_type": "code",
   "execution_count": 63,
   "id": "cd072fa1",
   "metadata": {},
   "outputs": [
    {
     "name": "stdout",
     "output_type": "stream",
     "text": [
      "Here's a conversation for the given situation:\n",
      "\n",
      "**FORMAT**\n",
      "\n",
      "* English conversation:\n",
      "* Korean interpretation:\n",
      "\n",
      "**상황**\n",
      "question: 미국가서 피자주문!\n",
      "\n",
      "**English conversation:**\n",
      "Me (Student): Hi, can I order a pizza please?\n",
      "Pizza Shop Owner: Sure thing! What kind of pizza would you like?\n",
      "Me (Student): Hmm, what do you recommend?\n",
      "Pizza Shop Owner: Well, our most popular flavor is the Meat Lover's.\n",
      "Me (Student): Okay, that sounds good. And how much will it cost?\n",
      "Pizza Shop Owner: It'll be around $15. Would you like to add any toppings?\n",
      "Me (Student): Yeah, can I get some extra cheese and pepperoni?\n",
      "Pizza Shop Owner: Absolutely! That'll be an additional $3.\n",
      "Me (Student): Alright, that sounds good. I'll take it.\n",
      "\n",
      "**한글 해석:**\n",
      "내가 학생입니다. 피자 주문합니다. 피자집 주인: 좋은데 어떤 피자를 좋아하세요? 내가 학생: hmm, 추천이 있나요? 피자집 주인: 잘知道 우리의 가장 인기있는 맛은 메이트 러버스입니다. 내가 학생: 좋아요, 그럼 가격이 얼마나 되나요? 피자집 주인: 15불쯤 됩니다. 추가 토핑이 필요하나요? 내가 학생: 예, 에서 치즈와 페퍼로니를 더 달라고 합니다. 피자집 주인: 물론입니다! 그럼 3불 추가됩니다. 내가 학생: 알겠습니다, 그것으로 하면 좋아요.\n"
     ]
    }
   ],
   "source": [
    "print(chain.invoke(\"question: 미국가서 피자주문!\"))"
   ]
  },
  {
   "cell_type": "code",
   "execution_count": 64,
   "id": "73096792",
   "metadata": {},
   "outputs": [],
   "source": [
    "from langchain_teddynote.messages import stream_response"
   ]
  },
  {
   "cell_type": "code",
   "execution_count": 65,
   "id": "656f0b97",
   "metadata": {},
   "outputs": [],
   "source": [
    "answer = chain.stream({\"question\": \"미국에서 피자 주문\"})"
   ]
  },
  {
   "cell_type": "code",
   "execution_count": null,
   "id": "4ec0ff4e",
   "metadata": {},
   "outputs": [],
   "source": [
    "# final_answer = \"\"\n",
    "# for token in answer:\n",
    "#     print(token.content, end=\"\", flush=True)\n",
    "#     final_answer += token.content"
   ]
  },
  {
   "cell_type": "code",
   "execution_count": 66,
   "id": "5fc2ccbb",
   "metadata": {},
   "outputs": [
    {
     "name": "stdout",
     "output_type": "stream",
     "text": [
      "Here is an example of a conversation for the situation \"Ordering pizza from the US\":\n",
      "\n",
      "**#상황**\n",
      "미국에서 피자 주문\n",
      "\n",
      "**#FORMAT:**\n",
      "- English conversation:\n",
      "- Korean translation:\n",
      "\n",
      "\n",
      "English conversation:\n",
      "Student: Hi, I'd like to order some pizzas.\n",
      "Pizza Place: Hi there! How many pizzas would you like?\n",
      "Student: We're a group of 4, so we'll need 2-3 pizzas. Can you recommend something good?\n",
      "Pizza Place: Absolutely! Our top seller is the \"Meat Lover's\" pizza. It has pepperoni, sausage, and bacon.\n",
      "Student: That sounds great! Can I also get a veggie pizza with mushrooms, bell peppers, and onions?\n",
      "Pizza Place: Yeah, that'll be $25 total. We can deliver it to you within 30 minutes.\n",
      "Student: Awesome, thank you! I'll take the \"Meat Lover's\" and one veggie pizza.\n",
      "\n",
      "Korean translation:\n",
      "학생: 안녕하세요. 저희는 피자 몇 개 주문하고 싶습니다.\n",
      "피자 집: 하하! 당신들은 얼마나 많은가요?\n",
      "학생:我們은 4명이니까 2-3개의 피자를 필요로 합니다. 추천해 주세요!\n",
      "피자 집: 분명히! 우리의 탑 셀러는 \"Meat Lover's\" 피자가 있습니다. 호박, 소세지, 및 베이컨을 포함합니다.\n",
      "학생: 그것은 정말 좋은데! 또한 버지 피자의 경우에는 도다기, 벨 펠퍼, 및 오이도 추가해 주세요!\n",
      "피자 집: 예, 그건 25달러입니다. 우리는 30분 내에 배달할 수 있습니다.\n",
      "학생: 좋은 것 같습니다! \"Meat Lover's\"와 한 개의 버지 피자를 주문할게요!\n",
      "\n",
      "In this conversation, the student is ordering pizzas for a group of 4 people from a pizza place in the US. The pizza place asks how many pizzas they would like and recommends their top seller, the \"Meat Lover's\" pizza. The student orders two to three pizzas, including one veggie pizza with specific toppings, and pays $25 total."
     ]
    }
   ],
   "source": [
    "stream_response(answer)"
   ]
  },
  {
   "cell_type": "code",
   "execution_count": null,
   "id": "48c92d15",
   "metadata": {},
   "outputs": [],
   "source": []
  }
 ],
 "metadata": {
  "kernelspec": {
   "display_name": "Python 3 (ipykernel)",
   "language": "python",
   "name": "python3"
  },
  "language_info": {
   "codemirror_mode": {
    "name": "ipython",
    "version": 3
   },
   "file_extension": ".py",
   "mimetype": "text/x-python",
   "name": "python",
   "nbconvert_exporter": "python",
   "pygments_lexer": "ipython3",
   "version": "3.12.3"
  }
 },
 "nbformat": 4,
 "nbformat_minor": 5
}
