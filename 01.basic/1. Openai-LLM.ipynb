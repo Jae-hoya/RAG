{
 "cells": [
  {
   "cell_type": "code",
   "execution_count": 1,
   "metadata": {},
   "outputs": [
    {
     "data": {
      "text/plain": [
       "True"
      ]
     },
     "execution_count": 1,
     "metadata": {},
     "output_type": "execute_result"
    }
   ],
   "source": [
    "# 환경 가져오기\n",
    "\n",
    "from dotenv import load_dotenv\n",
    "\n",
    "load_dotenv()"
   ]
  },
  {
   "cell_type": "code",
   "execution_count": 2,
   "metadata": {},
   "outputs": [],
   "source": [
    "from langchain_teddynote import logging"
   ]
  },
  {
   "cell_type": "code",
   "execution_count": 3,
   "metadata": {},
   "outputs": [
    {
     "name": "stdout",
     "output_type": "stream",
     "text": [
      "LangSmith 추적을 시작합니다.\n",
      "[프로젝트명]\n",
      "CH01-Basic\n"
     ]
    }
   ],
   "source": [
    "logging.langsmith(\"CH01-Basic\")"
   ]
  },
  {
   "cell_type": "code",
   "execution_count": null,
   "metadata": {},
   "outputs": [],
   "source": []
  },
  {
   "cell_type": "code",
   "execution_count": 4,
   "metadata": {},
   "outputs": [],
   "source": [
    "from langchain_openai import ChatOpenAI\n",
    "from langchain_community.chat_models import ChatOllama"
   ]
  },
  {
   "cell_type": "code",
   "execution_count": 5,
   "metadata": {},
   "outputs": [],
   "source": [
    "llm = ChatOllama(model=\"llama3:8b\", temperature=0)\n",
    "# model= \"\", temparature= x , max_tokens\n",
    "# llm = ChatOllama(model=\"llama3:8b\")#, token=api_token)"
   ]
  },
  {
   "cell_type": "code",
   "execution_count": 6,
   "metadata": {},
   "outputs": [],
   "source": [
    "question = \"대한민국의 수도는 어디인가요?\""
   ]
  },
  {
   "cell_type": "code",
   "execution_count": 7,
   "metadata": {},
   "outputs": [],
   "source": [
    "response = llm.invoke(\"대한민국의 수도는 어디인가요? 한국어로 답해주세요\")"
   ]
  },
  {
   "cell_type": "code",
   "execution_count": 8,
   "metadata": {},
   "outputs": [
    {
     "data": {
      "text/plain": [
       "AIMessage(content='😊\\n\\n대한민국의 수도는 서울특별시(Seoul Special City)입니다.', response_metadata={'model': 'llama3:8b', 'created_at': '2024-07-02T19:30:59.5654962Z', 'message': {'role': 'assistant', 'content': ''}, 'done_reason': 'stop', 'done': True, 'total_duration': 4864885100, 'load_duration': 4369421700, 'prompt_eval_count': 25, 'prompt_eval_duration': 58290000, 'eval_count': 18, 'eval_duration': 434411000}, id='run-b50fb8a4-52a9-4e0c-af77-ec2d5a15c158-0')"
      ]
     },
     "execution_count": 8,
     "metadata": {},
     "output_type": "execute_result"
    }
   ],
   "source": [
    "response"
   ]
  },
  {
   "cell_type": "code",
   "execution_count": 9,
   "metadata": {},
   "outputs": [
    {
     "data": {
      "text/plain": [
       "'😊\\n\\n대한민국의 수도는 서울특별시(Seoul Special City)입니다.'"
      ]
     },
     "execution_count": 9,
     "metadata": {},
     "output_type": "execute_result"
    }
   ],
   "source": [
    "response.content"
   ]
  },
  {
   "cell_type": "code",
   "execution_count": 10,
   "metadata": {},
   "outputs": [
    {
     "data": {
      "text/plain": [
       "{'model': 'llama3:8b',\n",
       " 'created_at': '2024-07-02T19:30:59.5654962Z',\n",
       " 'message': {'role': 'assistant', 'content': ''},\n",
       " 'done_reason': 'stop',\n",
       " 'done': True,\n",
       " 'total_duration': 4864885100,\n",
       " 'load_duration': 4369421700,\n",
       " 'prompt_eval_count': 25,\n",
       " 'prompt_eval_duration': 58290000,\n",
       " 'eval_count': 18,\n",
       " 'eval_duration': 434411000}"
      ]
     },
     "execution_count": 10,
     "metadata": {},
     "output_type": "execute_result"
    }
   ],
   "source": [
    "response.response_metadata"
   ]
  },
  {
   "cell_type": "markdown",
   "metadata": {},
   "source": [
    "### 스트리밍 출력: 하나의 token단위로 출력.\n",
    "반복문으로 출력해야함"
   ]
  },
  {
   "cell_type": "code",
   "execution_count": 28,
   "metadata": {},
   "outputs": [],
   "source": [
    "#  스트림 방식!\n",
    "answer = llm.stream(\"대한민국의 아름다운 관광지 10곳과 주소를 알려주세요!\")"
   ]
  },
  {
   "cell_type": "code",
   "execution_count": 29,
   "metadata": {},
   "outputs": [
    {
     "name": "stdout",
     "output_type": "stream",
     "text": [
      "Here are 10 beautiful tourist attractions in South Korea, along with their addresses:\n",
      "\n",
      "1. **Gyeongbokgung Palace** ()\n",
      "Address: 161, Sajik-ro, Jongno-gu, Seoul, 03129\n",
      "One of the most iconic and historic palaces in Korea, Gyeongbokgung Palace is a must-visit attraction.\n",
      "\n",
      "2. **Nami Island** ()\n",
      "Address: 1-13, Namin-dong, Chuncheon-si, Gangwon-do, 201-702\n",
      "A peaceful island in the middle of the Han River, Nami Island is famous for its beautiful gardens and sculptures.\n",
      "\n",
      "3. **Bulguksa Temple** ()\n",
      "Address: 62, Gwangneung-gil, Gyeongju-si, Gyeongsangbuk-do, 38160\n",
      "A UNESCO World Heritage Site, Bulguksa Temple is a stunning example of Buddhist architecture and art.\n",
      "\n",
      "4. **Myeong-dong Shopping District** ()\n",
      "Address: 140-1, Myeong-dong, Jung-gu, Seoul, 04533\n",
      "One of the busiest shopping districts in Korea, Myeong-dong offers a wide range of fashion, beauty, and food options.\n",
      "\n",
      "5. **Jeju Island's Seongsan Ilchulbong Sunrise Peak** ()\n",
      "Address: 143-1, Seongsan-ri, Biseulsang-myeon, Jeju-si, Jeju-do, 58343\n",
      "A breathtaking natural wonder, Seongsan Ilchulbong Sunrise Peak is a must-visit attraction on Jeju Island.\n",
      "\n",
      "6. **N Seoul Tower** ()\n",
      "Address: 131, Namsan-tong, Jung-gu, Seoul, 04605\n",
      "Offering stunning views of the city, N Seoul Tower is a popular spot for couples and tourists alike.\n",
      "\n",
      "7. **Haeundae Beach** ()\n",
      "Address: 101-1, Haeundae-ro, Busanjin-gu, Busan, 48091\n",
      "One of Korea's most famous beaches, Haeundae Beach is known for its white sand and crystal-clear waters.\n",
      "\n",
      "8. **Gwangalli Beach** ()\n",
      "Address: 123, Gwangalli-ro, Gangneung-si, Gangwon-do, 210-701\n",
      "A scenic beach in the coastal city of Gangneung, Gwangalli Beach offers stunning views of the East Sea.\n",
      "\n",
      "9. **Bukchon Hanok Village** ()\n",
      "Address: 1, Sajik-ro, Jongno-gu, Seoul, 03129\n",
      "A traditional Korean village, Bukchon Hanok Village is a charming area filled with historic hanok houses and cultural attractions.\n",
      "\n",
      "10. **Jinhae Ganpang Festival** ()\n",
      "Address: Jinhae-gu, Changwon-si, Gyeongsangnam-do, 511-850\n",
      "While not a physical attraction, the Jinhae Ganpang Festival is a famous annual event that takes place in Jinhae-gu, featuring beautiful lanterns and traditional performances.\n",
      "\n",
      "Note: Addresses are provided in Korean format (city/province/zip code)."
     ]
    }
   ],
   "source": [
    "# 실시간 출력\n",
    "for token in answer:\n",
    "    print(token.content, end=\"\", flush=True)"
   ]
  },
  {
   "cell_type": "code",
   "execution_count": 30,
   "metadata": {},
   "outputs": [],
   "source": [
    "answer = llm.stream(\"대한민국의 아름다운 관광지 10곳과 주소를 알려주세요!\")"
   ]
  },
  {
   "cell_type": "code",
   "execution_count": null,
   "metadata": {},
   "outputs": [],
   "source": []
  },
  {
   "cell_type": "code",
   "execution_count": 31,
   "metadata": {},
   "outputs": [
    {
     "name": "stdout",
     "output_type": "stream",
     "text": [
      "Here are 10 beautiful tourist attractions in South Korea, along with their addresses:\n",
      "\n",
      "1. **Gyeongbokgung Palace** ()\n",
      "Address: 161, Sajik-ro, Jongno-gu, Seoul, 03129\n",
      "One of the most iconic and historic palaces in Korea, Gyeongbokgung Palace is a must-visit attraction.\n",
      "\n",
      "2. **Nami Island** ()\n",
      "Address: 1-13, Namin-dong, Chuncheon-si, Gangwon-do, 201-702\n",
      "A peaceful island in the middle of the Han River, Nami Island is famous for its beautiful gardens and sculptures.\n",
      "\n",
      "3. **Bulguksa Temple** ()\n",
      "Address: 62, Gwangneung-gil, Gyeongju-si, Gyeongsangbuk-do, 38160\n",
      "A UNESCO World Heritage Site, Bulguksa Temple is a stunning example of Buddhist architecture and art.\n",
      "\n",
      "4. **Myeong-dong Shopping District** ()\n",
      "Address: 140-1, Myeong-dong, Jung-gu, Seoul, 04533\n",
      "One of the busiest shopping districts in Korea, Myeong-dong offers a wide range of fashion, beauty, and food options.\n",
      "\n",
      "5. **Jeju Island's Seongsan Ilchulbong Sunrise Peak** ()\n",
      "Address: 143-1, Seongsan-ri, Biseulsang-myeon, Jeju-si, Jeju-do, 58343\n",
      "A breathtaking natural wonder, Seongsan Ilchulbong Sunrise Peak is a must-visit attraction on Jeju Island.\n",
      "\n",
      "6. **N Seoul Tower** ()\n",
      "Address: 131, Namsan-tong, Jung-gu, Seoul, 04605\n",
      "Offering stunning views of the city, N Seoul Tower is a popular spot for couples and tourists alike.\n",
      "\n",
      "7. **Haeundae Beach** ()\n",
      "Address: 101-1, Haeundae-ro, Busanjin-gu, Busan, 48091\n",
      "One of Korea's most famous beaches, Haeundae Beach is known for its white sand and crystal-clear waters.\n",
      "\n",
      "8. **Gwangalli Beach** ()\n",
      "Address: 123, Gwangalli-ro, Gangneung-si, Gangwon-do, 210-701\n",
      "A scenic beach in the coastal city of Gangneung, Gwangalli Beach offers stunning views of the East Sea.\n",
      "\n",
      "9. **Bukchon Hanok Village** ()\n",
      "Address: 1, Sajik-ro, Jongno-gu, Seoul, 03129\n",
      "A traditional Korean village, Bukchon Hanok Village is a charming area filled with historic hanok houses and cultural attractions.\n",
      "\n",
      "10. **Jinhae Ganpang Festival** ()\n",
      "Address: Jinhae-gu, Changwon-si, Gyeongsangnam-do, 511-850\n",
      "While not a physical attraction, the Jinhae Ganpang Festival is a famous annual event that takes place in Jinhae-gu, featuring beautiful lanterns and traditional performances.\n",
      "\n",
      "Note: Addresses are provided in Korean format (city/province/zip code)."
     ]
    }
   ],
   "source": [
    "# 중요 문법 코드\n",
    "final_answer = \"\"\n",
    "for token in answer:\n",
    "    print(token.content, end=\"\", flush=True)\n",
    "    final_answer += token.content"
   ]
  },
  {
   "cell_type": "code",
   "execution_count": 34,
   "metadata": {},
   "outputs": [
    {
     "name": "stdout",
     "output_type": "stream",
     "text": [
      "Here are 10 beautiful tourist attractions in South Korea, along with their addresses:\n",
      "\n",
      "1. **Gyeongbokgung Palace** ()\n",
      "Address: 161, Sajik-ro, Jongno-gu, Seoul, 03129\n",
      "One of the most iconic and historic palaces in Korea, Gyeongbokgung Palace is a must-visit attraction.\n",
      "\n",
      "2. **Nami Island** ()\n",
      "Address: 1-13, Namin-dong, Chuncheon-si, Gangwon-do, 201-702\n",
      "A peaceful island in the middle of the Han River, Nami Island is famous for its beautiful gardens and sculptures.\n",
      "\n",
      "3. **Bulguksa Temple** ()\n",
      "Address: 62, Gwangneung-gil, Gyeongju-si, Gyeongsangbuk-do, 38160\n",
      "A UNESCO World Heritage Site, Bulguksa Temple is a stunning example of Buddhist architecture and art.\n",
      "\n",
      "4. **Myeong-dong Shopping District** ()\n",
      "Address: 140-1, Myeong-dong, Jung-gu, Seoul, 04533\n",
      "One of the busiest shopping districts in Korea, Myeong-dong offers a wide range of fashion, beauty, and food options.\n",
      "\n",
      "5. **Jeju Island's Seongsan Ilchulbong Sunrise Peak** ()\n",
      "Address: 143-1, Seongsan-ri, Biseulsang-myeon, Jeju-si, Jeju-do, 58343\n",
      "A breathtaking natural wonder, Seongsan Ilchulbong Sunrise Peak is a must-visit attraction on Jeju Island.\n",
      "\n",
      "6. **N Seoul Tower** ()\n",
      "Address: 131, Namsan-tong, Jung-gu, Seoul, 04605\n",
      "Offering stunning views of the city, N Seoul Tower is a popular spot for couples and tourists alike.\n",
      "\n",
      "7. **Haeundae Beach** ()\n",
      "Address: 101-1, Haeundae-ro, Busanjin-gu, Busan, 48091\n",
      "One of Korea's most famous beaches, Haeundae Beach is known for its white sand and crystal-clear waters.\n",
      "\n",
      "8. **Gwangalli Beach** ()\n",
      "Address: 123, Gwangalli-ro, Gangneung-si, Gangwon-do, 210-701\n",
      "A scenic beach in the coastal city of Gangneung, Gwangalli Beach offers stunning views of the East Sea.\n",
      "\n",
      "9. **Bukchon Hanok Village** ()\n",
      "Address: 1, Sajik-ro, Jongno-gu, Seoul, 03129\n",
      "A traditional Korean village, Bukchon Hanok Village is a charming area filled with historic hanok houses and cultural attractions.\n",
      "\n",
      "10. **Jinhae Ganpang Festival** ()\n",
      "Address: Jinhae-gu, Changwon-si, Gyeongsangnam-do, 511-850\n",
      "While not a physical attraction, the Jinhae Ganpang Festival is a famous annual event that takes place in Jinhae-gu, featuring beautiful lanterns and traditional performances.\n",
      "\n",
      "Note: Addresses are provided in Korean format (city/province/zip code).\n"
     ]
    }
   ],
   "source": [
    "print(final_answer)"
   ]
  },
  {
   "cell_type": "code",
   "execution_count": 35,
   "metadata": {},
   "outputs": [
    {
     "name": "stdout",
     "output_type": "stream",
     "text": [
      "What a great question! 😊 Here are 10 beautiful tourist destinations in South Korea:\n",
      "\n",
      "1. **Jeju Island** (): A volcanic island off the southern coast, known for its stunning natural beauty, including waterfalls, black sand beaches, and lush green countryside.\n",
      "2. **Seoraksan National Park** (): Located in Gangwon-do Province, this national park is famous for its majestic mountains, temples, and scenic hiking trails.\n",
      "3. **Bulguksa Temple** (): A UNESCO World Heritage Site located in Gyeongju, North Gyeongsang Province, known for its beautiful gardens, pagodas, and cultural significance.\n",
      "4. **Nami Island** (): An island in the Han River, popular for its picturesque scenery, walking trails, and romantic atmosphere.\n",
      "5. **Gyeongju Historic Area** (): A city in North Gyeongsang Province, famous for its ancient ruins, including the Bulguksa Temple complex, and the Cheomseongdae Observatory.\n",
      "6. **Pyeongchang Ski Resort** (): Located in Gangwon-do Province, this ski resort hosted the alpine skiing events during the 2018 Winter Olympics.\n",
      "7. **Haeundae Beach** (): A popular beach in Busan, known for its white sand and crystal-clear waters.\n",
      "8. **Naksan Beach** (): A scenic beach in Yangsan, South Gyeongsang Province, famous for its stunning sunsets and picturesque views.\n",
      "9. **Suwon Hwaseong Fortress** (): A historic fortress in Suwon, Gyeonggi Province, known for its well-preserved architecture and cultural significance.\n",
      "10. **Myeong-dong Night Market** (): A bustling night market in Seoul, famous for its street food, shopping, and lively atmosphere.\n",
      "\n",
      "These are just a few of the many beautiful tourist destinations in South Korea. Each place has its unique charm and attractions, so be sure to explore and discover more! 😊"
     ]
    },
    {
     "data": {
      "text/plain": [
       "'What a great question! 😊 Here are 10 beautiful tourist destinations in South Korea:\\n\\n1. **Jeju Island** (): A volcanic island off the southern coast, known for its stunning natural beauty, including waterfalls, black sand beaches, and lush green countryside.\\n2. **Seoraksan National Park** (): Located in Gangwon-do Province, this national park is famous for its majestic mountains, temples, and scenic hiking trails.\\n3. **Bulguksa Temple** (): A UNESCO World Heritage Site located in Gyeongju, North Gyeongsang Province, known for its beautiful gardens, pagodas, and cultural significance.\\n4. **Nami Island** (): An island in the Han River, popular for its picturesque scenery, walking trails, and romantic atmosphere.\\n5. **Gyeongju Historic Area** (): A city in North Gyeongsang Province, famous for its ancient ruins, including the Bulguksa Temple complex, and the Cheomseongdae Observatory.\\n6. **Pyeongchang Ski Resort** (): Located in Gangwon-do Province, this ski resort hosted the alpine skiing events during the 2018 Winter Olympics.\\n7. **Haeundae Beach** (): A popular beach in Busan, known for its white sand and crystal-clear waters.\\n8. **Naksan Beach** (): A scenic beach in Yangsan, South Gyeongsang Province, famous for its stunning sunsets and picturesque views.\\n9. **Suwon Hwaseong Fortress** (): A historic fortress in Suwon, Gyeonggi Province, known for its well-preserved architecture and cultural significance.\\n10. **Myeong-dong Night Market** (): A bustling night market in Seoul, famous for its street food, shopping, and lively atmosphere.\\n\\nThese are just a few of the many beautiful tourist destinations in South Korea. Each place has its unique charm and attractions, so be sure to explore and discover more! 😊'"
      ]
     },
     "execution_count": 35,
     "metadata": {},
     "output_type": "execute_result"
    }
   ],
   "source": [
    "from langchain_teddynote.messages import stream_response\n",
    "\n",
    "answer = llm.stream(\"대한민국의 아름다운 관광지 10곳을 알려주세요!\")\n",
    "stream_response(answer, return_output=True)"
   ]
  },
  {
   "cell_type": "code",
   "execution_count": null,
   "metadata": {},
   "outputs": [],
   "source": [
    "document = [d.page_content for d in document]"
   ]
  }
 ],
 "metadata": {
  "kernelspec": {
   "display_name": "Python 3 (ipykernel)",
   "language": "python",
   "name": "python3"
  },
  "language_info": {
   "codemirror_mode": {
    "name": "ipython",
    "version": 3
   },
   "file_extension": ".py",
   "mimetype": "text/x-python",
   "name": "python",
   "nbconvert_exporter": "python",
   "pygments_lexer": "ipython3",
   "version": "3.12.3"
  }
 },
 "nbformat": 4,
 "nbformat_minor": 4
}
