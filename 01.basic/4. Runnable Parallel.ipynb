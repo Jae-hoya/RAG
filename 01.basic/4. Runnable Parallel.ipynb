{
 "cells": [
  {
   "cell_type": "code",
   "execution_count": 21,
   "id": "86f681cb-253a-4a59-8e8b-56e13b0a8f38",
   "metadata": {},
   "outputs": [],
   "source": [
    "from dotenv import load_dotenv"
   ]
  },
  {
   "cell_type": "code",
   "execution_count": 22,
   "id": "06f644df-6c60-44c4-b5c6-5f104bc7c615",
   "metadata": {
    "scrolled": true
   },
   "outputs": [
    {
     "data": {
      "text/plain": [
       "True"
      ]
     },
     "execution_count": 22,
     "metadata": {},
     "output_type": "execute_result"
    }
   ],
   "source": [
    "load_dotenv()"
   ]
  },
  {
   "cell_type": "code",
   "execution_count": 23,
   "id": "dd507652-e103-4ad4-b3cd-9fda64f89e61",
   "metadata": {},
   "outputs": [
    {
     "name": "stdout",
     "output_type": "stream",
     "text": [
      "LangSmith 추적을 시작합니다.\n",
      "[프로젝트명]\n",
      "CH01-Basic\n"
     ]
    }
   ],
   "source": [
    "from langchain_teddynote import logging\n",
    "logging.langsmith(\"CH01-Basic\")"
   ]
  },
  {
   "cell_type": "markdown",
   "id": "f2450c85-7e34-4c6f-a2e2-25abd9cbddc6",
   "metadata": {},
   "source": [
    "# Runnable \n",
    "- 사용자 정의 체인을 묶어서 체인으로 만든다. 이 체인을 묶을 때, 모든 모듈은(prompt, llm, outputparser...) Runnable 프로토콜을 가지고있다.\n",
    "- Runnable에는 prompt, llm, outputparser, retriever, tool...."
   ]
  },
  {
   "cell_type": "markdown",
   "id": "9d67d80c-b4a5-4eab-8603-f9eb15b954c2",
   "metadata": {},
   "source": [
    "# Runnable Passthrough\n",
    "- 데이터를 효과적으로 전달하기 위한 방법. 데이터를 받아서 전달한다.\n",
    "- 즉, key-value에 RunnablePassthrough를 입력한다. RunnablePassthrough에는 사용자의 입력이 전달된다.\n",
    "- 그렇다면 사용자가 값만 전달할 수 있다."
   ]
  },
  {
   "cell_type": "code",
   "execution_count": 24,
   "id": "264c3675-d227-4471-8687-a893397be238",
   "metadata": {},
   "outputs": [],
   "source": [
    "from langchain_core.prompts import PromptTemplate\n",
    "#from langchain_openai import ChatOpenAI\n",
    "from langchain_community.chat_models import ChatOllama"
   ]
  },
  {
   "cell_type": "code",
   "execution_count": 25,
   "id": "4f31dc6b-d7f1-4c6a-9dd0-26924de5fdc5",
   "metadata": {},
   "outputs": [],
   "source": [
    "prompt = PromptTemplate.from_template(\"{num}의 10배는?\")\n",
    "llm = ChatOllama(model=\"llama3:8b\", temperature=0)\n",
    "\n",
    "chain = prompt | llm"
   ]
  },
  {
   "cell_type": "code",
   "execution_count": 26,
   "id": "3679383f-83fa-4ab8-b622-54879c606168",
   "metadata": {},
   "outputs": [
    {
     "data": {
      "text/plain": [
       "AIMessage(content='😊\\n\\n5의 10배 (5 times 10) is... 50! 🎉', response_metadata={'model': 'llama3:8b', 'created_at': '2024-07-04T07:06:24.2351002Z', 'message': {'role': 'assistant', 'content': ''}, 'done_reason': 'stop', 'done': True, 'total_duration': 4358721400, 'load_duration': 3821235800, 'prompt_eval_count': 17, 'prompt_eval_duration': 40069000, 'eval_count': 23, 'eval_duration': 494380000}, id='run-78244bb8-393e-452f-b41f-a47a3dbe24e3-0')"
      ]
     },
     "execution_count": 26,
     "metadata": {},
     "output_type": "execute_result"
    }
   ],
   "source": [
    "# dictionary형태. 이게 기본형태다!\n",
    "chain.invoke({\"num\": 5})"
   ]
  },
  {
   "cell_type": "code",
   "execution_count": 27,
   "id": "67540c07-10b4-4c49-ab05-a7121f438a72",
   "metadata": {},
   "outputs": [
    {
     "data": {
      "text/plain": [
       "AIMessage(content='😊\\n\\n5의 10배 (5 times 10) is... 50! 🎉', response_metadata={'model': 'llama3:8b', 'created_at': '2024-07-04T07:07:04.5041679Z', 'message': {'role': 'assistant', 'content': ''}, 'done_reason': 'stop', 'done': True, 'total_duration': 806721700, 'load_duration': 2676900, 'prompt_eval_duration': 322252000, 'eval_count': 23, 'eval_duration': 479731000}, id='run-ad21acfb-ef5d-4678-9fef-9fdc6adcafa0-0')"
      ]
     },
     "execution_count": 27,
     "metadata": {},
     "output_type": "execute_result"
    }
   ],
   "source": [
    "#변수가 하나라면 값만 전달해도 된다.\n",
    "chain.invoke(5)"
   ]
  },
  {
   "cell_type": "code",
   "execution_count": 28,
   "id": "f5541ba3-b1ba-49fa-9277-53251e0437b4",
   "metadata": {},
   "outputs": [],
   "source": [
    "from langchain_core.runnables import RunnablePassthrough"
   ]
  },
  {
   "cell_type": "code",
   "execution_count": 29,
   "id": "510e4a03-0985-4449-89ef-ac9e8bb4b828",
   "metadata": {},
   "outputs": [
    {
     "data": {
      "text/plain": [
       "{'num': 10}"
      ]
     },
     "execution_count": 29,
     "metadata": {},
     "output_type": "execute_result"
    }
   ],
   "source": [
    "RunnablePassthrough().invoke({\"num\":10})"
   ]
  },
  {
   "cell_type": "code",
   "execution_count": 34,
   "id": "52235741-8f0d-4201-8eb9-fa3db1574860",
   "metadata": {},
   "outputs": [
    {
     "data": {
      "text/plain": [
       "'😊\\n\\n10의 10배는 100입니다. (10 × 10 = 100)'"
      ]
     },
     "execution_count": 34,
     "metadata": {},
     "output_type": "execute_result"
    }
   ],
   "source": [
    "# RunnablePassthrough에는 사용자의 입력이 전달된다. 사용자가 키값을 모두 기억하지 못하지만 넣어야할 입력값을 알고있다.\n",
    "runnable_chain = {\"num\": RunnablePassthrough()} | prompt | llm | StrOutputParser()\n",
    "\n",
    "runnable_chain.invoke(10)"
   ]
  },
  {
   "cell_type": "code",
   "execution_count": null,
   "id": "730742ed-df38-479a-9c37-0bb068b3c6d9",
   "metadata": {},
   "outputs": [],
   "source": [
    "# query라고 생각하자! - RunnablePassthrough을 넣음으로써, 이것을 입력으로 받는것이다!\n",
    "# chain = ({\"context\": retriever, \"qeustion\": RunnablePassthrough()}\n",
    "#         | prompt\n",
    "#         | llm\n",
    "#         | StrOutputParser\n",
    "#         )"
   ]
  },
  {
   "cell_type": "code",
   "execution_count": 35,
   "id": "08fb49bd-4289-45d7-911b-f77ed07628b6",
   "metadata": {},
   "outputs": [
    {
     "data": {
      "text/plain": [
       "{'num': 1}"
      ]
     },
     "execution_count": 35,
     "metadata": {},
     "output_type": "execute_result"
    }
   ],
   "source": [
    "RunnablePassthrough().invoke({\"num\":1})"
   ]
  },
  {
   "cell_type": "markdown",
   "id": "53d02e9e-5f7e-4c0b-bc1a-1f6ebeae6af2",
   "metadata": {},
   "source": [
    "# RunnalblePassthrough.assign()\n",
    "- 입력값으로 들어온 값의 key/value쌍과 새롭게 할당된 key/value쌍을 합친다."
   ]
  },
  {
   "cell_type": "code",
   "execution_count": 36,
   "id": "f1a70cd7-4a41-40ee-ace1-b09323e54bd1",
   "metadata": {},
   "outputs": [
    {
     "data": {
      "text/plain": [
       "{'num': 1, 'new_num': 3}"
      ]
     },
     "execution_count": 36,
     "metadata": {},
     "output_type": "execute_result"
    }
   ],
   "source": [
    "# invoke가 실행되고, new_num에 들어가 계산이 된다.\n",
    "(RunnablePassthrough.assign(new_num=lambda x : x[\"num\"] * 3)).invoke({\"num\": 1})"
   ]
  },
  {
   "cell_type": "markdown",
   "id": "e873674b-a7ee-4c5f-90e5-4b4caa2b1c71",
   "metadata": {},
   "source": [
    "# Runnable parallel\n",
    "- 2개의 chain을 병렬적으로 처리하기 위한 방법이다."
   ]
  },
  {
   "cell_type": "code",
   "execution_count": 1,
   "id": "efabdfe9-cf3a-4f19-b4e9-d68927084dea",
   "metadata": {},
   "outputs": [],
   "source": [
    "from langchain_community.chat_models import ChatOllama\n",
    "from langchain_core.prompts import PromptTemplate\n",
    "from langchain_core.runnables import RunnableParallel, RunnablePassthrough\n",
    "from langchain_core.output_parsers import StrOutputParser"
   ]
  },
  {
   "cell_type": "code",
   "execution_count": 2,
   "id": "0870fd52-cd9d-44de-b5c8-4acc3a951746",
   "metadata": {},
   "outputs": [],
   "source": [
    "model = ChatOllama(model=\"llama3:8b\")"
   ]
  },
  {
   "cell_type": "code",
   "execution_count": 3,
   "id": "ee7b2743-c4a3-4791-81e9-d19be0dffa0d",
   "metadata": {},
   "outputs": [
    {
     "data": {
      "text/plain": [
       "ChatOllama(model='llama3:8b')"
      ]
     },
     "execution_count": 3,
     "metadata": {},
     "output_type": "execute_result"
    }
   ],
   "source": [
    "model"
   ]
  },
  {
   "cell_type": "code",
   "execution_count": 4,
   "id": "c7e1ee4b-aa9f-43a5-8d05-186815b7ffde",
   "metadata": {},
   "outputs": [],
   "source": [
    "chain1 = (\n",
    "    PromptTemplate.from_template(\"{country}의 수도는 어디야?\")\n",
    "    | model\n",
    "    | StrOutputParser()\n",
    ")\n",
    "\n",
    "chain2 = (\n",
    "    PromptTemplate.from_template(\"{country}의 면적은 얼마야?\")\n",
    "    | model\n",
    "    | StrOutputParser()\n",
    ")"
   ]
  },
  {
   "cell_type": "code",
   "execution_count": 5,
   "id": "b27cd2bb-8e65-456a-ae59-2b313996e361",
   "metadata": {},
   "outputs": [],
   "source": [
    "combined = RunnableParallel(capital=chain1, area=chain2)\n",
    "# cpaital=chain1 체인을 실행해서 결과에 답변을 넣어주는 key값"
   ]
  },
  {
   "cell_type": "code",
   "execution_count": 6,
   "id": "eca15975-bd6a-4bfb-ad9f-709855defd6a",
   "metadata": {},
   "outputs": [
    {
     "data": {
      "text/plain": [
       "'😊\\n\\nThe capital of the Republic of Korea (South Korea) is Seoul (, Seoul). 🏙️'"
      ]
     },
     "execution_count": 6,
     "metadata": {},
     "output_type": "execute_result"
    }
   ],
   "source": [
    "chain1.invoke({\"country\": \"대한민국\"})"
   ]
  },
  {
   "cell_type": "code",
   "execution_count": 7,
   "id": "87820600-7287-49e2-8d9a-76069b095d2b",
   "metadata": {},
   "outputs": [
    {
     "data": {
      "text/plain": [
       "'😊\\n\\nThe United States of America has a total area of approximately 9,833,517 square kilometers (3,805,927 square miles). This includes:\\n\\n* Land area: about 9,695,000 square kilometers (3,756,000 square miles)\\n* Water area: about 138,500 square kilometers (53,600 square miles)\\n\\nTo put that in perspective, the United States is the third-largest country by land area, after Canada and China. 🌎'"
      ]
     },
     "execution_count": 7,
     "metadata": {},
     "output_type": "execute_result"
    }
   ],
   "source": [
    "chain2.invoke({\"country\": \"미국\"})"
   ]
  },
  {
   "cell_type": "code",
   "execution_count": 8,
   "id": "1134c4b2-0514-49e6-b10d-f2be72b2c4a7",
   "metadata": {},
   "outputs": [
    {
     "data": {
      "text/plain": [
       "{'capital': '😊\\n\\nThe capital of the Republic of Korea (South Korea) is Seoul! 🏙️',\n",
       " 'area': '😊\\n\\nThe Republic of Korea, also known as South Korea, has a total area of approximately 100,363 square kilometers (38,750 square miles). It is the seventh largest country in East Asia and the ninth largest in the world. 🌏'}"
      ]
     },
     "execution_count": 8,
     "metadata": {},
     "output_type": "execute_result"
    }
   ],
   "source": [
    "combined.invoke({\"country\": \"대한민국\"})"
   ]
  },
  {
   "cell_type": "code",
   "execution_count": 9,
   "id": "f1f46b8c-3ceb-4a54-ad2a-f1c89c910158",
   "metadata": {},
   "outputs": [],
   "source": [
    "chain1 = (\n",
    "    PromptTemplate.from_template(\"{country1}의 수도는 어디야?\")\n",
    "    | model\n",
    "    | StrOutputParser()\n",
    ")\n",
    "\n",
    "chain2 = (\n",
    "    PromptTemplate.from_template(\"{country2}의 면적은 얼마야?\")\n",
    "    | model\n",
    "    | StrOutputParser()\n",
    ")"
   ]
  },
  {
   "cell_type": "code",
   "execution_count": 10,
   "id": "7fc0ef14-409d-4b5d-ba23-694bef83edac",
   "metadata": {},
   "outputs": [],
   "source": [
    "combined = RunnableParallel(capital=chain1, area=chain2)\n",
    "# cpaital=chain1 체인을 실행해서 결과에 답변을 넣어주는 key값"
   ]
  },
  {
   "cell_type": "code",
   "execution_count": 11,
   "id": "a4f1f6b8-27c1-4652-8544-bbf33a86967f",
   "metadata": {},
   "outputs": [
    {
     "data": {
      "text/plain": [
       "{'capital': '😊\\n\\nThe capital of South Korea is Seoul (, also known as Hanguk in Korean). Specifically, the city is divided into two parts: North Seoul () and South Seoul (), with the Han River running through it.',\n",
       " 'area': '😊\\n\\nThe total area of the United States is approximately 9,833,517 square kilometers (3,805,927 square miles). This includes:\\n\\n* Land area: 9,695,957 square kilometers (3,761,799 square miles)\\n* Water area: 137,560 square kilometers (53,128 square miles)\\n\\nSo, the United States has a total of about 10 million square kilometers (4 million square miles) in land and water areas combined. 🌊🏞️'}"
      ]
     },
     "execution_count": 11,
     "metadata": {},
     "output_type": "execute_result"
    }
   ],
   "source": [
    "combined.invoke({\"country1\": \"대한민국\", \"country2\":\"미국\"})"
   ]
  },
  {
   "cell_type": "code",
   "execution_count": null,
   "id": "bf9cb075-9da2-411f-9ffd-28c1824a26c0",
   "metadata": {},
   "outputs": [],
   "source": []
  },
  {
   "cell_type": "markdown",
   "id": "5c9c69b8-4d25-4ee3-96d3-500c921ab927",
   "metadata": {},
   "source": [
    "### Runnable Parallel 심화"
   ]
  },
  {
   "cell_type": "code",
   "execution_count": 39,
   "id": "18b31358-bd8f-48d1-81aa-fd13876a0962",
   "metadata": {},
   "outputs": [],
   "source": [
    "from langchain_core.runnables import RunnableParallel"
   ]
  },
  {
   "cell_type": "code",
   "execution_count": 42,
   "id": "baf4f935-a47d-4976-a8ce-615e48c07d4d",
   "metadata": {},
   "outputs": [
    {
     "data": {
      "text/plain": [
       "{'passed': {'num': 1}, 'extra': {'num': 1, 'multi': 3}, 'modified': 2}"
      ]
     },
     "execution_count": 42,
     "metadata": {},
     "output_type": "execute_result"
    }
   ],
   "source": [
    "runnable = RunnableParallel(\n",
    "    passed = RunnablePassthrough(),\n",
    "\n",
    "    extra = RunnablePassthrough.assign(multi=lambda x: x[\"num\"] * 3),\n",
    "\n",
    "    modified = lambda x: x[\"num\"] + 1    \n",
    ")\n",
    "runnable.invoke({\"num\":1})\n",
    "# num이 x에 들어간다고 생각하자"
   ]
  },
  {
   "cell_type": "code",
   "execution_count": 44,
   "id": "55b927b9-aef4-4a2b-ab00-45a3486b0b44",
   "metadata": {},
   "outputs": [],
   "source": [
    "chain1 = (\n",
    "    {\"country\": RunnablePassthrough()}\n",
    "    | PromptTemplate.from_template(\"{country}의 수도는?\")\n",
    "    | llm\n",
    ")\n",
    "\n",
    "chain1 = (\n",
    "    {\"country\": RunnablePassthrough()}\n",
    "    | PromptTemplate.from_template(\"{country}의 면적은?\")\n",
    "    | llm\n",
    ")"
   ]
  },
  {
   "cell_type": "code",
   "execution_count": 45,
   "id": "5acd7fbb-cd0c-4f93-83c2-f5d830cc2405",
   "metadata": {},
   "outputs": [
    {
     "data": {
      "text/plain": [
       "{'capital': AIMessage(content='😊\\n\\nThe area of South Korea (대한민국) is approximately 100,363 square kilometers (38,750 square miles).', response_metadata={'model': 'llama3:8b', 'created_at': '2024-07-04T09:25:17.2009469Z', 'message': {'role': 'assistant', 'content': ''}, 'done_reason': 'stop', 'done': True, 'total_duration': 4079295900, 'load_duration': 3475836800, 'prompt_eval_count': 17, 'prompt_eval_duration': 37531000, 'eval_count': 28, 'eval_duration': 563053000}, id='run-e6bf3d1b-c72a-430b-9831-e54ba5c539fa-0'),\n",
       " 'area': '😊\\n\\nThe area of South Korea, also known as the Republic of Korea (대한민국), is approximately 100,363 square kilometers (38,750 square miles). 🇰🇷'}"
      ]
     },
     "execution_count": 45,
     "metadata": {},
     "output_type": "execute_result"
    }
   ],
   "source": [
    "combined_chain = RunnableParallel(capital = chain1, area = chain2)\n",
    "combined_chain.invoke(\"대한민국\")"
   ]
  },
  {
   "cell_type": "code",
   "execution_count": null,
   "id": "b89ed005-3c9e-4377-b870-b01248275267",
   "metadata": {},
   "outputs": [],
   "source": []
  },
  {
   "cell_type": "markdown",
   "id": "2d90ccbf-60f6-4b5c-8bad-95d7a2e54dda",
   "metadata": {},
   "source": [
    "# 배치처리 정렬"
   ]
  },
  {
   "cell_type": "code",
   "execution_count": 12,
   "id": "fb12d9c5-d90b-4261-bbe1-127ecaf47053",
   "metadata": {},
   "outputs": [],
   "source": [
    "chain1 = (\n",
    "    PromptTemplate.from_template(\"{country}의 수도는 어디야?\")\n",
    "    | model\n",
    "    | StrOutputParser()\n",
    ")\n",
    "\n",
    "chain2 = (\n",
    "    PromptTemplate.from_template(\"{country}의 면적은 얼마야?\")\n",
    "    | model\n",
    "    | StrOutputParser()\n",
    ")"
   ]
  },
  {
   "cell_type": "code",
   "execution_count": 13,
   "id": "96f1aa10-7c82-4f03-ab7d-5f27833acbae",
   "metadata": {},
   "outputs": [],
   "source": [
    "combined = RunnableParallel(capital=chain1, area=chain2)"
   ]
  },
  {
   "cell_type": "code",
   "execution_count": 14,
   "id": "b7d5e382-b4bd-4898-8801-ef4ade4ead05",
   "metadata": {},
   "outputs": [
    {
     "data": {
      "text/plain": [
       "['😊\\n\\nThe capital of South Korea is Seoul (,).',\n",
       " '😊 The capital of the United States is Washington, D.C. (short for District of Columbia).']"
      ]
     },
     "execution_count": 14,
     "metadata": {},
     "output_type": "execute_result"
    }
   ],
   "source": [
    "chain1.batch([{\"country\": \"대한민국\"}, {\"country\":\"미국\"}])"
   ]
  },
  {
   "cell_type": "code",
   "execution_count": 15,
   "id": "15b04bb7-dcda-4610-83b5-5b7f2e7eceaf",
   "metadata": {},
   "outputs": [
    {
     "data": {
      "text/plain": [
       "['😊\\n\\nThe Republic of Korea (South Korea) has a total area of approximately 100,363 square kilometers (38,750 square miles). It is the 109th largest country in the world by land area.',\n",
       " '😊\\n\\nThe total area of the United States is approximately 9,833,517 square kilometers (3,805,927 square miles). This includes:\\n\\n* Land area: 9,695,700 square kilometers (3,764,100 square miles)\\n* Water area: 137,817 square kilometers (53,227 square miles)\\n\\nNote that these figures are approximate and may vary slightly depending on the source.']"
      ]
     },
     "execution_count": 15,
     "metadata": {},
     "output_type": "execute_result"
    }
   ],
   "source": [
    "chain2.batch([{\"country\": \"대한민국\"}, {\"country\":\"미국\"}])"
   ]
  },
  {
   "cell_type": "code",
   "execution_count": 16,
   "id": "ae6d3c4e-06b4-42e7-b20c-9659f80a3442",
   "metadata": {},
   "outputs": [
    {
     "data": {
      "text/plain": [
       "[{'capital': \"That's an easy one! 🇰🇷 The capital of South Korea (Republic of Korea) is Seoul (서울)! 🏙️\",\n",
       "  'area': '😊\\n\\nThe area of the Republic of Korea (대한민국) is approximately 100,363 square kilometers (38,750 sq mi).'},\n",
       " {'capital': \"😊\\n\\nThe capital of the United States is Washington, D.C. (short for District of Columbia). It's located on the East Coast, along the Potomac River, and is home to many iconic landmarks such as the White House, Capitol Building, and National Mall. 🏛️\",\n",
       "  'area': '😊\\n\\nThe area of the United States is approximately 9,833,517 square kilometers (3,805,927 square miles). This makes it one of the largest countries in the world by land area.'}]"
      ]
     },
     "execution_count": 16,
     "metadata": {},
     "output_type": "execute_result"
    }
   ],
   "source": [
    "combined.batch([{\"country\": \"대한민국\"}, {\"country\":\"미국\"}])"
   ]
  },
  {
   "cell_type": "code",
   "execution_count": null,
   "id": "ea1d2129-26cf-4293-bd59-c70da3efd4be",
   "metadata": {},
   "outputs": [],
   "source": []
  },
  {
   "cell_type": "markdown",
   "id": "cb039203-61c2-4c0d-9bd4-64304443afa9",
   "metadata": {},
   "source": [
    "# RunnableLambda, itemgetter\n",
    "- 사용자 정의 함수를 매핑해주는 역할을 하는 runnable 객체\n",
    "- 즉, 사용자 정의 함수를 RunnableLambda로 감싸서 prompt 입력으로 넣어준다."
   ]
  },
  {
   "cell_type": "code",
   "execution_count": 54,
   "id": "5f597d62-d6bb-48f1-83b2-c9c6e343a17a",
   "metadata": {},
   "outputs": [
    {
     "data": {
      "text/plain": [
       "'Jul-04'"
      ]
     },
     "execution_count": 54,
     "metadata": {},
     "output_type": "execute_result"
    }
   ],
   "source": [
    "from langchain_core.output_parsers import StrOutputParser\n",
    "from langchain_core.prompts import PromptTemplate\n",
    "#from langchain_openai import ChatOpenAI\n",
    "from langchain_community.chat_models import ChatOllama\n",
    "from datetime import datetime\n",
    "\n",
    "def get_today(a):\n",
    "    #오늘 날짜 가져오기\n",
    "    return datetime.today().strftime(\"%b-%d\")\n",
    "# 왜 함수에 사용하지도 않는 매개변수가 들어가있는가? RunnableLambda를 할떄는 무조건 하나 이상의 매개변수가 있어야한다 - 더미 매개변수\n",
    "\n",
    "get_today(None)"
   ]
  },
  {
   "cell_type": "code",
   "execution_count": 58,
   "id": "4c19d439-d54b-4aba-b4ca-c2651cbe51ab",
   "metadata": {},
   "outputs": [],
   "source": [
    "from langchain_core.runnables import RunnableLambda, RunnablePassthrough\n",
    "\n",
    "prompt = PromptTemplate.from_template(\n",
    "    \"{today}가  생일인 {n}명을 나열하세요. 생년월일을 표기해 주세요.\"\n",
    ")\n",
    "\n",
    "llm = ChatOllama(model=\"llama3:8b\", temperature=0)"
   ]
  },
  {
   "cell_type": "code",
   "execution_count": 61,
   "id": "2aece464-ece1-4736-8b02-dffa50428170",
   "metadata": {},
   "outputs": [],
   "source": [
    "chain = (\n",
    "    {\"today\": RunnableLambda(get_today), \"n\": RunnablePassthrough()}\n",
    "    | prompt\n",
    "    | llm\n",
    "    | StrOutputParser()\n",
    ")"
   ]
  },
  {
   "cell_type": "code",
   "execution_count": 63,
   "id": "2a716128-9347-4f20-9c72-8323c4457373",
   "metadata": {},
   "outputs": [
    {
     "name": "stdout",
     "output_type": "stream",
     "text": [
      "Here are three people born on July 4th:\n",
      "\n",
      "1. **John Adams** (July 4, 1735) - 2nd President of the United States\n",
      "2. **Thomas Jefferson** (July 4, 1743) - 3rd President of the United States and principal author of the Declaration of Independence\n",
      "3. **Evelyn \"Evie\" Stevens** (July 4, 1988) - American professional road racing cyclist\n"
     ]
    }
   ],
   "source": [
    "print(chain.invoke(3))"
   ]
  },
  {
   "cell_type": "code",
   "execution_count": 64,
   "id": "3616a198-ce28-4cbd-ac91-2d0757fb576c",
   "metadata": {},
   "outputs": [
    {
     "name": "stdout",
     "output_type": "stream",
     "text": [
      "입력받은 변수 a의 값: None\n"
     ]
    },
    {
     "data": {
      "text/plain": [
       "'Jul-04'"
      ]
     },
     "execution_count": 64,
     "metadata": {},
     "output_type": "execute_result"
    }
   ],
   "source": [
    "def get_today(a):\n",
    "    print(f\"입력받은 변수 a의 값: {a}\")\n",
    "    #오늘 날짜 가져오기\n",
    "    return datetime.today().strftime(\"%b-%d\")\n",
    "# 왜 함수에 사용하지도 않는 매개변수가 들어가있는가? RunnableLambda를 할떄는 무조건 하나 이상의 매개변수가 있어야한다 - 더미 매개변수\n",
    "\n",
    "get_today(None)"
   ]
  },
  {
   "cell_type": "code",
   "execution_count": 66,
   "id": "af41f0a2-d865-4586-bead-cd1db1a07fda",
   "metadata": {},
   "outputs": [
    {
     "name": "stdout",
     "output_type": "stream",
     "text": [
      "입력받은 변수 a의 값: 3\n",
      "Here are three people born on July 4th:\n",
      "\n",
      "1. **John Adams** (July 4, 1735) - 2nd President of the United States\n",
      "2. **Thomas Jefferson** (July 4, 1743) - 3rd President of the United States and principal author of the Declaration of Independence\n",
      "3. **Evelyn \"Evie\" Stevens** (July 4, 1988) - American professional road racing cyclist\n"
     ]
    }
   ],
   "source": [
    "#매개변수 a에 사용자가 지정한 값이 들어간다.\n",
    "chain = (\n",
    "    {\"today\": RunnableLambda(get_today), \"n\": RunnablePassthrough()}\n",
    "    | prompt\n",
    "    | llm\n",
    "    | StrOutputParser()\n",
    ")\n",
    "print(chain.invoke(3))"
   ]
  },
  {
   "cell_type": "code",
   "execution_count": 67,
   "id": "ab39ce1f-d8ba-4828-9f88-53e12b0f9004",
   "metadata": {},
   "outputs": [
    {
     "name": "stdout",
     "output_type": "stream",
     "text": [
      "입력받은 변수 a의 값: {'n': 3}\n",
      "Here are three people born on July 4th, along with their birth dates:\n",
      "\n",
      "1. **John Adams** - July 4, 1735\n",
      "2. **Thomas Jefferson** - July 4, 1743\n",
      "3. **Donald Trump** - July 4, 1946\n"
     ]
    }
   ],
   "source": [
    "print(chain.invoke({\"n\":3}))"
   ]
  },
  {
   "cell_type": "code",
   "execution_count": null,
   "id": "4f1eb689-6f69-4d8f-9d06-80ed29403cc9",
   "metadata": {},
   "outputs": [],
   "source": []
  }
 ],
 "metadata": {
  "kernelspec": {
   "display_name": "Python 3 (ipykernel)",
   "language": "python",
   "name": "python3"
  },
  "language_info": {
   "codemirror_mode": {
    "name": "ipython",
    "version": 3
   },
   "file_extension": ".py",
   "mimetype": "text/x-python",
   "name": "python",
   "nbconvert_exporter": "python",
   "pygments_lexer": "ipython3",
   "version": "3.12.3"
  }
 },
 "nbformat": 4,
 "nbformat_minor": 5
}
