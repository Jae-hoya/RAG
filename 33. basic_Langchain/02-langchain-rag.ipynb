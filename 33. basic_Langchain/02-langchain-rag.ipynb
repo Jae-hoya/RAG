{
 "cells": [
  {
   "cell_type": "code",
   "execution_count": 1,
   "metadata": {},
   "outputs": [
    {
     "data": {
      "text/plain": [
       "True"
      ]
     },
     "execution_count": 1,
     "metadata": {},
     "output_type": "execute_result"
    }
   ],
   "source": [
    "from dotenv import load_dotenv\n",
    "load_dotenv()"
   ]
  },
  {
   "cell_type": "code",
   "execution_count": 2,
   "metadata": {},
   "outputs": [],
   "source": [
    "# Document Loader로 문서 불러오기\n",
    "from langchain_community.document_loaders import UnstructuredPDFLoader\n",
    "\n",
    "loader = UnstructuredPDFLoader(\"./data/Naive_RAG.pdf\")\n",
    "\n",
    "pages = loader.load_and_split() # 페이지마다 잘라준다."
   ]
  },
  {
   "cell_type": "code",
   "execution_count": 4,
   "metadata": {},
   "outputs": [
    {
     "name": "stdout",
     "output_type": "stream",
     "text": [
      "page_content='Retrieval-Augmented Generation for Knowledge-Intensive NLP Tasks\n",
      "\n",
      "Patrick Lewis†‡, Ethan Perez(cid:63),\n",
      "\n",
      "1 2 0 2\n",
      "\n",
      "Aleksandra Piktus†, Fabio Petroni†, Vladimir Karpukhin†, Naman Goyal†, Heinrich Küttler†,\n",
      "\n",
      "Mike Lewis†, Wen-tau Yih†, Tim Rocktäschel†‡, Sebastian Riedel†‡, Douwe Kiela†\n",
      "\n",
      "r p A 2 1\n",
      "\n",
      "†Facebook AI Research; ‡University College London; (cid:63)New York University; plewis@fb.com\n",
      "\n",
      "] L C . s c [\n",
      "\n",
      "4 v 1 0 4 1 1 . 5 0 0 2 : v i X r a\n",
      "\n",
      "Abstract\n",
      "\n",
      "Large pre-trained language models have been shown to store factual knowledge in their parameters, and achieve state-of-the-art results when ﬁne-tuned on down- stream NLP tasks. However, their ability to access and precisely manipulate knowl- edge is still limited, and hence on knowledge-intensive tasks, their performance lags behind task-speciﬁc architectures. Additionally, providing provenance for their decisions and updating their world knowledge remain open research problems. Pre- trained models with a differentiable access mechanism to explicit non-parametric memory have so far been only investigated for extractive downstream tasks. We explore a general-purpose ﬁne-tuning recipe for retrieval-augmented generation (RAG) — models which combine pre-trained parametric and non-parametric mem- ory for language generation. We introduce RAG models where the parametric memory is a pre-trained seq2seq model and the non-parametric memory is a dense vector index of Wikipedia, accessed with a pre-trained neural retriever. We com- pare two RAG formulations, one which conditions on the same retrieved passages across the whole generated sequence, and another which can use different passages per token. We ﬁne-tune and evaluate our models on a wide range of knowledge- intensive NLP tasks and set the state of the art on three open domain QA tasks, outperforming parametric seq2seq models and task-speciﬁc retrieve-and-extract architectures. For language generation tasks, we ﬁnd that RAG models generate more speciﬁc, diverse and factual language than a state-of-the-art parametric-only seq2seq baseline.\n",
      "\n",
      "1\n",
      "\n",
      "Introduction\n",
      "\n",
      "Pre-trained neural language models have been shown to learn a substantial amount of in-depth knowl- edge from data [47]. They can do so without any access to an external memory, as a parameterized implicit knowledge base [51, 52]. While this development is exciting, such models do have down- sides: They cannot easily expand or revise their memory, can’t straightforwardly provide insight into their predictions, and may produce “hallucinations” [38]. Hybrid models that combine parametric memory with non-parametric (i.e., retrieval-based) memories [20, 26, 48] can address some of these issues because knowledge can be directly revised and expanded, and accessed knowledge can be inspected and interpreted. REALM [20] and ORQA [31], two recently introduced models that combine masked language models [8] with a differentiable retriever, have shown promising results,\n",
      "\n",
      "supports\t(y)Question GenerationFact Veriﬁcation:Label GenerationDocumentIndex\n",
      "\n",
      "End-to-End Backprop through q and pθBarack\tObama\twasborn\tin\tHawaii.(x)\n",
      "\n",
      "Fact Veriﬁcation: Fact Query\n",
      "\n",
      "Margin-alize\n",
      "\n",
      "The\tDivineComedy\t(x)\n",
      "\n",
      "pθGenerator pθ(Parametric)\n",
      "\n",
      "This\t14th\tcentury\tworkis\tdivided\tinto\t3sections:\t\"Inferno\",\"Purgatorio\"\t&\"Paradiso\"\t\t\t\t\t\t\t\t\t(y)\n",
      "\n",
      "The\tmiddle\tear\tincludesthe\ttympanic\tcavity\tandthe\tthree\tossicles.\t\t(y)Question Answering:Answer GenerationRetriever pη(Non-Parametric)z4z3z2z1d(z)Jeopardy QuestionGeneration:Answer Query\n",
      "\n",
      "qQueryEncoder\n",
      "\n",
      "q(x)\n",
      "\n",
      "MIPS\n",
      "\n",
      "Define\t\"middle\tear\"(x)Question Answering:Question Query\n",
      "\n",
      "Figure 1: Overview of our approach. We combine a pre-trained retriever (Query Encoder + Document Index) with a pre-trained seq2seq model (Generator) and ﬁne-tune end-to-end. For query x, we use Maximum Inner Product Search (MIPS) to ﬁnd the top-K documents zi. For ﬁnal prediction y, we treat z as a latent variable and marginalize over seq2seq predictions given different documents.' metadata={'source': './data/Naive_RAG.pdf'}\n"
     ]
    }
   ],
   "source": [
    "print(pages[0])"
   ]
  },
  {
   "cell_type": "code",
   "execution_count": 8,
   "metadata": {},
   "outputs": [
    {
     "data": {
      "text/plain": [
       "[('Retrieval-Augmented Generation for Knowledge-Intensive NLP Tasks\\n\\nPatrick Lewis†‡, Ethan Perez(cid:6',\n",
       "  {'source': './data/Naive_RAG.pdf'}),\n",
       " ('but have only explored open-domain extractive question answering. Here, we bring hybrid parametric a',\n",
       "  {'source': './data/Naive_RAG.pdf'}),\n",
       " ('2\\n\\nby θ that generates a current token based on a context of the previous i − 1 tokens y1:i−1, the o',\n",
       "  {'source': './data/Naive_RAG.pdf'}),\n",
       " ('We jointly train the retriever and generator components without any direct supervision on what docum',\n",
       "  {'source': './data/Naive_RAG.pdf'}),\n",
       " ('3.2 Abstractive Question Answering\\n\\nRAG models can go beyond simple extractive QA and answer questio',\n",
       "  {'source': './data/Naive_RAG.pdf'}),\n",
       " ('4 Results\\n\\n4.1 Open-domain Question Answering\\n\\nTable 1 shows results for RAG along with state-of-the',\n",
       "  {'source': './data/Naive_RAG.pdf'}),\n",
       " ('Jeopardy questions often contain two separate pieces of information, and RAG-Token may perform best ',\n",
       "  {'source': './data/Naive_RAG.pdf'}),\n",
       " ('The Divine Comedy\\n\\nFor 2-way classiﬁcation, we compare against Thorne and Vlachos [57], who train Ro',\n",
       "  {'source': './data/Naive_RAG.pdf'}),\n",
       " ('Effect of Retrieving more documents Models are trained with either 5 or 10 retrieved latent document',\n",
       "  {'source': './data/Naive_RAG.pdf'}),\n",
       " ('Memory-based Architectures Our document index can be seen as a large external memory for neural netw',\n",
       "  {'source': './data/Naive_RAG.pdf'}),\n",
       " ('Acknowledgments\\n\\nThe authors would like to thank the reviewers for their thoughtful and constructive',\n",
       "  {'source': './data/Naive_RAG.pdf'}),\n",
       " ('[11] Angela Fan, Mike Lewis, and Yann Dauphin. Hierarchical neural story generation. In Proceed- ing',\n",
       "  {'source': './data/Naive_RAG.pdf'}),\n",
       " ('[23] Jeff Johnson, Matthijs Douze, and Hervé Jégou. Billion-scale similarity search with gpus. arXiv',\n",
       "  {'source': './data/Naive_RAG.pdf'}),\n",
       " ('[34] Margaret Li, Jason Weston, and Stephen Roller. Acute-eval: Improved dialogue evaluation with op',\n",
       "  {'source': './data/Naive_RAG.pdf'}),\n",
       " ('[46] Ethan Perez, Siddharth Karamcheti, Rob Fergus, Jason Weston, Douwe Kiela, and Kyunghyun Cho. Fi',\n",
       "  {'source': './data/Naive_RAG.pdf'}),\n",
       " ('[58] Ashish Vaswani, Noam Shazeer, Niki Parmar, Jakob Uszkoreit, Llion Jones, Aidan N Gomez, Ł ukasz',\n",
       "  {'source': './data/Naive_RAG.pdf'}),\n",
       " ('[67] Shiyue Zhang and Mohit Bansal. Addressing semantic drift in question generation for semi- super',\n",
       "  {'source': './data/Naive_RAG.pdf'}),\n",
       " ('2https://github.com/pytorch/fairseq 3https://github.com/huggingface/transformers\\n\\n17\\n\\nD Further Deta',\n",
       "  {'source': './data/Naive_RAG.pdf'}),\n",
       " ('F Null Document Probabilities\\n\\nWe experimented with adding \"Null document\" mechanism to RAG, similar',\n",
       "  {'source': './data/Naive_RAG.pdf'})]"
      ]
     },
     "execution_count": 8,
     "metadata": {},
     "output_type": "execute_result"
    }
   ],
   "source": [
    "[(i.page_content[:100], i.metadata) for i in pages]"
   ]
  },
  {
   "cell_type": "markdown",
   "metadata": {},
   "source": [
    "# WebBaseLoader"
   ]
  },
  {
   "cell_type": "code",
   "execution_count": 11,
   "metadata": {},
   "outputs": [
    {
     "name": "stderr",
     "output_type": "stream",
     "text": [
      "c:\\Users\\skyop\\AppData\\Local\\pypoetry\\Cache\\virtualenvs\\langchain-kr-gLkynrUQ-py3.11\\Lib\\site-packages\\urllib3\\connectionpool.py:1099: InsecureRequestWarning: Unverified HTTPS request is being made to host 'www.espn.com'. Adding certificate verification is strongly advised. See: https://urllib3.readthedocs.io/en/latest/advanced-usage.html#tls-warnings\n",
      "  warnings.warn(\n"
     ]
    },
    {
     "name": "stdout",
     "output_type": "stream",
     "text": [
      "[Document(metadata={'source': 'https://www.espn.com/', 'title': 'ESPN - Serving Sports Fans. Anytime. Anywhere.', 'description': 'Visit ESPN for live scores, highlights and sports news. Stream exclusive games on ESPN+ and play fantasy sports.', 'language': 'en'}, page_content=\"\\n\\n\\n\\n\\n\\n\\n\\n\\nESPN - Serving Sports Fans. Anytime. Anywhere.\\n\\n\\n\\n\\n\\n\\n\\n\\n\\n\\n\\n\\n\\n\\n\\n\\n\\n\\n\\n\\n\\n\\n\\n\\n\\n\\n\\n\\n\\n\\n\\n\\n\\n\\n\\n\\n\\n\\n\\n\\n\\n\\n\\n\\n\\n\\n\\n\\n\\n\\n\\n\\n\\n\\n\\n\\n\\n\\n\\n\\n\\n\\n\\n\\n\\n\\n\\n\\n\\n\\n\\n\\n\\n\\n\\n\\n\\n\\n\\n\\n\\n\\n\\n\\n\\n\\n\\n\\n\\n\\n\\n\\n        Skip to main content\\n    \\n\\n        Skip to navigation\\n    \\n\\n\\n\\n\\n\\n\\n\\n\\n\\n\\n\\n\\n\\n\\n\\n\\n\\n\\n\\n\\n\\n\\n\\n\\n\\n\\n\\n\\n\\n\\n\\n\\n\\n<\\n\\n>\\n\\n\\n\\n\\n\\n\\n\\n\\n\\nMenuESPN\\n\\n\\n\\n\\n\\nscores\\n\\n\\n\\n\\nNEW! Find where to watch all of your favorite sports!\\n\\n\\n\\n\\n\\n\\n\\nNFLNBAMLBNCAAFNHLSoccerWNBAMore SportsBoxingCFLNCAACricketF1GolfHorseLLWSMMANASCARNBA G LeagueNBA Summer LeagueNCAAMNCAAWNWSLOlympicsPLLProfessional WrestlingRacingRN BBRN FBRugbySports BettingTennisX GamesUFLFantasyWatchESPN BETESPN+\\n\\n\\n\\n\\n\\n\\n\\n\\n\\n\\n\\n\\n\\n\\n\\n  \\n\\nSubscribe Now\\n\\n\\n\\n\\n\\nMonday Night Football: Commanders vs. Bengals\\n\\n\\n\\n\\n\\n\\n\\nMLB\\n\\n\\n\\n\\n\\n\\n\\nNFL PrimeTime\\n\\n\\n\\n\\n\\n\\n\\nNHL: Preseason\\n\\n\\nQuick Links\\n\\n\\n\\n\\nWhere To Watch\\n\\n\\n\\n\\n\\n\\n\\nWNBA Playoffs\\n\\n\\n\\n\\n\\n\\n\\nMLB Playoff Tracker\\n\\n\\n\\n\\n\\n\\n\\nMLB Standings\\n\\n\\n\\n\\n\\n\\n\\n2024 NFL Schedule\\n\\n\\n\\n\\n\\n\\n\\nCollege Football Schedule\\n\\n\\n\\n\\n\\n\\n\\nESPN Radio: Listen Live\\n\\n\\n\\n\\n\\n\\nFavorites\\n\\n\\n\\n\\n\\n\\n      Manage Favorites\\n      \\n\\n\\n\\nCustomize ESPNCreate AccountLog InFantasy\\n\\n\\n\\n\\nFootball\\n\\n\\n\\n\\n\\n\\n\\nBaseball\\n\\n\\n\\n\\n\\n\\n\\nBasketball\\n\\n\\n\\n\\n\\n\\n\\nHockey\\n\\n\\nESPN Sites\\n\\n\\n\\n\\nESPN Deportes\\n\\n\\n\\n\\n\\n\\n\\nAndscape\\n\\n\\n\\n\\n\\n\\n\\nespnW\\n\\n\\n\\n\\n\\n\\n\\nESPNFC\\n\\n\\n\\n\\n\\n\\n\\nX Games\\n\\n\\n\\n\\n\\n\\n\\nSEC Network\\n\\n\\nESPN Apps\\n\\n\\n\\n\\nESPN\\n\\n\\n\\n\\n\\n\\n\\nESPN Fantasy\\n\\n\\n\\n\\n\\n\\n\\nTournament Challenge\\n\\n\\nFollow ESPN\\n\\n\\n\\n\\nFacebook\\n\\n\\n\\n\\n\\n\\n\\nX/Twitter\\n\\n\\n\\n\\n\\n\\n\\nInstagram\\n\\n\\n\\n\\n\\n\\n\\nSnapchat\\n\\n\\n\\n\\n\\n\\n\\nTikTok\\n\\n\\n\\n\\n\\n\\n\\nYouTube\\n\\n\\nTerry McLaurin makes unreal catch to give Jayden Daniels another TD pass in big road win4h0:37Near-perfect Daniels, Commanders make statement in win over BengalsJayden Daniels finished the night 21-of-23 for 254 yards and added another 39 yards on the ground.5hBen Baby and John Keim\\n\\n\\n\\nDaniels credits teammates for big night4h1:23\\n\\n\\nDaniels' 3-TD game lifts Commanders past Bengals4h1:49\\n\\n\\nDaniels follows up 55-yard dime with rushing TD5h0:50\\n\\n\\nTrent Scott busts a move after catching Daniels' first NFL TD pass6h0:21\\n\\n\\nJa'Marr Chase grabs 31-yard TD pass for second score of the night4h0:30\\n\\n\\nAustin Ekeler puts Commanders ahead with 24-yard TD run4h0:34\\n\\n\\nBurrow airs it out to Chase for a 41-yard TD4h0:28\\n\\n\\n\\nPlayoffs 'furthest thing from mind' for 0-3 BengalsTOP HEADLINESDaniels, 'the answer,' delivers for CommandersJags' Pederson vague on Lawrence, vows changesSources: Utah St. accepts invitation to join Pac-12Sources: UNLV exploring options after USU defectsDT Hargrave out; CMC sees specialist in GermanyPhils 'stayed hungry' after heartbreak, win NL EastFreeze vents after Arkansas defeat: 'Hard to take''We tried': A's owner pens apology letter to fansLatest bowl projections: CFP and moreJosh Allen tosses four TDs in Bills' rout of Jaguars5h1:35Allen puts on a show to leave Jaguars with deep questionsQuarterback Josh Allen led the Bills to five first-half touchdowns in commanding home win.5hAlaina Getzenberg and Michael DiRocco\\n\\n\\n\\nHamlin describes 'special' feeling of his INT on MNF4h0:51\\n\\n\\nMac Jones fumbles ball away on his first dropback of the game5h0:40\\n\\n\\nKhalil Shakir spins past a defender and into the end zone for a TD5h0:25\\n\\n\\nDamar Hamlin comes up with first INT of career5h0:30\\n\\n\\nTrevor Lawrence finds Brenton Strange for the Jags' first TD5h0:29\\n\\n\\n\\nAllen finds 4 receivers for TDs as 'everybody eats'MLB SCOREBOARDMONDAY'S GAMESMLB standingsMLB playoff trackerGUIDE TO FINAL WEEK OF REGULAR SEASONMets-Braves, Ohtani and ... : What we're watching the final week of the MLB seasonThe last week of the regular season is here! This is what's still left to play for.21hESPNJim McIsaac/Getty ImagesPlayoff tracker: Who can clinch next?StandingsThe Chelsea Gray revival tour21hKatie BarnesWNBA PLAYOFFSHow Sun shut down Caitlin Clark, Fever to open playoffsThe Sun stifled the Fever's backcourt, which has excelled since the season restarted following the Olympics.1dMichael Voepel and Charlie CremePhoto by Joe Buglewicz/Getty ImagesClark's ROY award sparks heated debate with Stephen A. Smith15h2:38Rookie tracker: Clark, Fever fall to Sun in Game 1WNBA 101: Teams, players and stats to knowWNBA playoffs: Schedule, news and moreCFB STORYLINES AND RANKINGSCollege football takeaways: Travis Hunter's triumph, Hugh Freeze's struggles and moreOur experts break down the key storylines and big performances from Week 4.19hESPNAndrew Wevers/Getty ImagesPower Rankings: Texas remains on top for second straight weekThree new teams enter the rankings, while the Longhorns maintain the top spot.20hESPNSP+ rankings for all 134 FBS teamsAP poll: What's next for each Top 25 team?RODRI OUT FOR SEASONRodri's season-ending ACL injury just made Man City, Pep Guardiola's job so much harderLosing the influential midfielder to a potentially season-ending injury is a huge blow to Manchester City's fortunes this season. Can Pep Guardiola & Co. overcome it to win the league?11hMark OgdenMartin Rickett/PA Images via Getty ImagesWEEK 3 TAKEAWAYSWhat we learned from five big upsets: Barnwell on wins by the Rams, Broncos, Giants, Packers and PanthersFive NFL Week 3 games were won by underdogs of three points or more, including several previously winless teams.19hBill BarnwellNathan Ray Seebeck-Imagn ImagesAnalyzing Week 3: Answering big questions and sizing up every single matchupNFL Nation reporters react to all of the action, answering the biggest questions coming out of each game.4hNFL NationOverreactions: Did Bears make the wrong call on Fields vs. Williams? Top HeadlinesDaniels, 'the answer,' delivers for CommandersJags' Pederson vague on Lawrence, vows changesSources: Utah St. accepts invitation to join Pac-12Sources: UNLV exploring options after USU defectsDT Hargrave out; CMC sees specialist in GermanyPhils 'stayed hungry' after heartbreak, win NL EastFreeze vents after Arkansas defeat: 'Hard to take''We tried': A's owner pens apology letter to fansLatest bowl projections: CFP and moreFavorites FantasyManage FavoritesFantasy HomeCustomize ESPNCreate AccountLog InICYMI0:33Chiefs seal win vs. Falcons with big 4th-down stopThe Chiefs tackle Bijan Robinson behind the line on 4th-and-inches with under a minute to go, helping Kansas City seal a win Sunday night. Best of ESPN+Photo by Jayne Kamin-Oncea/Imagn ImagesNFL Week 3 season-saving wins for Rams, Broncos, Giants, PanthersFive NFL Week 3 games were won by underdogs of three points or more, a few of which were pulled off by previously winless teams.Kevin Jairaj/Imagn ImagesProjecting the College Football Playoff top 12 after Week 4We assess how the committee would stack the top teams in the country after Week 4.ESPNBreaking down Shohei Ohtani's historic 50/50 seasonThe first-ever season with 50 home runs and 50 stolen bases is just the latest feat by baseball's most unique talent. Trending NowPhoto by Ethan Miller/Getty ImagesWNBA playoffs 2024: A'ja Wilson and the top 25 playersA'ja Wilson, Napheesa Collier and Breanna Stewart lead the way, but where do players such as Caitlin Clark, Sabrina Ionescu and Kelsey Plum rank?ESPN Illustration2024 MLB playoff tracker: Schedule, bracket, clinching scenarios\\n\\nWe have everything you need to know as the regular season reaches the homestretch, from current playoff matchups to league races to the postseason schedule.Frank Jansky/Southcreek GlobalReliving Golden Tate's jump into the Michigan State band 15 years laterAfter a prolific career, Golden Tate will always be remembered for a spur-of-the-moment celebration. Sign up to play the #1 Fantasy game!Create A LeagueJoin Public LeagueReactivate A LeagueMock Draft NowSign up for FREE!Create A LeagueJoin a Public LeagueReactivate a LeaguePractice With a Mock DraftSign up for FREE!Create A LeagueJoin a Public LeagueReactivate a LeaguePractice with a Mock DraftGet a custom ESPN experienceEnjoy the benefits of a personalized accountSelect your favorite leagues, teams and players and get the latest scores, news and updates that matter most to you. \\n\\nESPN+\\n\\n\\n\\n\\nMonday Night Football: Commanders vs. Bengals\\n\\n\\n\\n\\n\\n\\n\\nMLB\\n\\n\\n\\n\\n\\n\\n\\nNFL PrimeTime\\n\\n\\n\\n\\n\\n\\n\\nNHL: Preseason\\n\\n\\nQuick Links\\n\\n\\n\\n\\nWhere To Watch\\n\\n\\n\\n\\n\\n\\n\\nWNBA Playoffs\\n\\n\\n\\n\\n\\n\\n\\nMLB Playoff Tracker\\n\\n\\n\\n\\n\\n\\n\\nMLB Standings\\n\\n\\n\\n\\n\\n\\n\\n2024 NFL Schedule\\n\\n\\n\\n\\n\\n\\n\\nCollege Football Schedule\\n\\n\\n\\n\\n\\n\\n\\nESPN Radio: Listen Live\\n\\n\\nFantasy\\n\\n\\n\\n\\nFootball\\n\\n\\n\\n\\n\\n\\n\\nBaseball\\n\\n\\n\\n\\n\\n\\n\\nBasketball\\n\\n\\n\\n\\n\\n\\n\\nHockey\\n\\n\\nESPN Sites\\n\\n\\n\\n\\nESPN Deportes\\n\\n\\n\\n\\n\\n\\n\\nAndscape\\n\\n\\n\\n\\n\\n\\n\\nespnW\\n\\n\\n\\n\\n\\n\\n\\nESPNFC\\n\\n\\n\\n\\n\\n\\n\\nX Games\\n\\n\\n\\n\\n\\n\\n\\nSEC Network\\n\\n\\nESPN Apps\\n\\n\\n\\n\\nESPN\\n\\n\\n\\n\\n\\n\\n\\nESPN Fantasy\\n\\n\\n\\n\\n\\n\\n\\nTournament Challenge\\n\\n\\nFollow ESPN\\n\\n\\n\\n\\nFacebook\\n\\n\\n\\n\\n\\n\\n\\nX/Twitter\\n\\n\\n\\n\\n\\n\\n\\nInstagram\\n\\n\\n\\n\\n\\n\\n\\nSnapchat\\n\\n\\n\\n\\n\\n\\n\\nTikTok\\n\\n\\n\\n\\n\\n\\n\\nYouTube\\n\\n\\nTerms of UsePrivacy PolicyInterest-Based AdsÂ© ESPN Enterprises, Inc. All rights reserved.\\n\\n\\n\\n\\n\\n\\n\\n\\n\\n\\n\\n\\n\\n\\n\\n\\n\\n\")]\n"
     ]
    }
   ],
   "source": [
    "from langchain_community.document_loaders import WebBaseLoader\n",
    "\n",
    "loader = WebBaseLoader(\"https://www.espn.com/\")\n",
    "\n",
    "# ssl verification 에러 방지를 위한 코드\n",
    "loader.requests_kwargs = {'verify':False}\n",
    "data = loader.load()\n",
    "print(data)"
   ]
  },
  {
   "cell_type": "code",
   "execution_count": 14,
   "metadata": {},
   "outputs": [
    {
     "name": "stderr",
     "output_type": "stream",
     "text": [
      "c:\\Users\\skyop\\AppData\\Local\\pypoetry\\Cache\\virtualenvs\\langchain-kr-gLkynrUQ-py3.11\\Lib\\site-packages\\urllib3\\connectionpool.py:1099: InsecureRequestWarning: Unverified HTTPS request is being made to host 'www.espn.com'. Adding certificate verification is strongly advised. See: https://urllib3.readthedocs.io/en/latest/advanced-usage.html#tls-warnings\n",
      "  warnings.warn(\n"
     ]
    },
    {
     "name": "stdout",
     "output_type": "stream",
     "text": [
      "[Document(metadata={'source': 'https://www.espn.com'}, page_content=\"Daniels, 'the answer,' delivers for CommandersJags' Pederson vague on Lawrence, vows changesSources: Utah St. accepts invitation to join Pac-12Sources: UNLV exploring options after USU defectsDT Hargrave out; CMC sees specialist in GermanyPhils 'stayed hungry' after heartbreak, win NL EastFreeze vents after Arkansas defeat: 'Hard to take''We tried': A's owner pens apology letter to fansLatest bowl projections: CFP and more Top HeadlinesDaniels, 'the answer,' delivers for CommandersJags' Pederson vague on Lawrence, vows changesSources: Utah St. accepts invitation to join Pac-12Sources: UNLV exploring options after USU defectsDT Hargrave out; CMC sees specialist in GermanyPhils 'stayed hungry' after heartbreak, win NL EastFreeze vents after Arkansas defeat: 'Hard to take''We tried': A's owner pens apology letter to fansLatest bowl projections: CFP and more\")]\n"
     ]
    }
   ],
   "source": [
    "# 일부 원하는 부분만 가져오기 코드\n",
    "import bs4\n",
    "loader = WebBaseLoader(\"https://www.espn.com\",\n",
    "                       bs_kwargs=dict(\n",
    "                           parse_only=bs4.SoupStrainer(\n",
    "                               class_=\"headlineStack top-headlines\"\n",
    "                           )\n",
    "                       )\n",
    "                    )\n",
    "\n",
    "# ssl verification 에러 방지를 위한 코드\n",
    "loader.requests_kwargs = {'verify':False}\n",
    "data = loader.load()\n",
    "print(data)"
   ]
  },
  {
   "cell_type": "markdown",
   "metadata": {},
   "source": [
    "# Text Splitter로 문서 분할하기"
   ]
  },
  {
   "cell_type": "code",
   "execution_count": 24,
   "metadata": {},
   "outputs": [
    {
     "name": "stderr",
     "output_type": "stream",
     "text": [
      "Created a chunk of size 1611, which is longer than the specified 1000\n",
      "Created a chunk of size 1075, which is longer than the specified 1000\n",
      "Created a chunk of size 1062, which is longer than the specified 1000\n",
      "Created a chunk of size 1054, which is longer than the specified 1000\n",
      "Created a chunk of size 1040, which is longer than the specified 1000\n",
      "Created a chunk of size 1181, which is longer than the specified 1000\n",
      "Created a chunk of size 1338, which is longer than the specified 1000\n"
     ]
    },
    {
     "name": "stdout",
     "output_type": "stream",
     "text": [
      "page_content='Retrieval-Augmented Generation for Knowledge-Intensive NLP Tasks\n",
      "\n",
      "Patrick Lewis†‡, Ethan Perez(cid:63),\n",
      "\n",
      "1 2 0 2\n",
      "\n",
      "Aleksandra Piktus†, Fabio Petroni†, Vladimir Karpukhin†, Naman Goyal†, Heinrich Küttler†,\n",
      "\n",
      "Mike Lewis†, Wen-tau Yih†, Tim Rocktäschel†‡, Sebastian Riedel†‡, Douwe Kiela†\n",
      "\n",
      "r p A 2 1\n",
      "\n",
      "†Facebook AI Research; ‡University College London; (cid:63)New York University; plewis@fb.com\n",
      "\n",
      "] L C . s c [\n",
      "\n",
      "4 v 1 0 4 1 1 . 5 0 0 2 : v i X r a\n",
      "\n",
      "Abstract' metadata={'source': './data/Naive_RAG.pdf'}\n"
     ]
    }
   ],
   "source": [
    "from langchain_community.document_loaders import PDFPlumberLoader\n",
    "from langchain_text_splitters import RecursiveCharacterTextSplitter, CharacterTextSplitter\n",
    "\n",
    "loader = PDFPlumberLoader(\"./data/autogen.pdf\")\n",
    "docs = loader.load()\n",
    "\n",
    "text_splitter = CharacterTextSplitter(\n",
    "    #separator = \"\\n\", # 특정한 구분자로 나눠주겠다.\n",
    "    chunk_size=1000,\n",
    "    chunk_overlap=100,\n",
    "    #length_function=len # 글자수 기반으로 잘라준다.\n",
    ")\n",
    "\n",
    "documents = text_splitter.split_documents(pages)\n",
    "print(documents[0])"
   ]
  },
  {
   "cell_type": "code",
   "execution_count": 25,
   "metadata": {},
   "outputs": [
    {
     "name": "stdout",
     "output_type": "stream",
     "text": [
      "[451, 1611, 965, 997, 195, 1075, 516, 1062, 827, 719, 597, 971, 867, 817, 990, 72, 1054, 785, 1040, 34, 993, 766, 964, 1181, 45, 896, 985, 505, 762, 682, 1338, 991, 914, 315, 725, 823, 965, 988, 583, 975, 884, 874, 660, 923, 752, 944, 534, 754, 800, 877, 836, 970, 258, 933, 963, 988, 946, 172, 994, 829, 956, 716, 462, 889, 994, 797, 769, 536, 511, 858, 816, 992, 726, 736, 915, 938, 696, 438, 811, 867, 562, 996, 121, 851, 595, 946, 744, 972, 686, 844, 852]\n"
     ]
    }
   ],
   "source": [
    "print([len(i.page_content)for i in documents])"
   ]
  },
  {
   "cell_type": "code",
   "execution_count": 26,
   "metadata": {},
   "outputs": [],
   "source": [
    "# 여러가지 구분자를 통해서 splitter하는 RecursiveCharacterTextSplitter\n",
    "recursive_text_splitter = RecursiveCharacterTextSplitter(\n",
    "    chunk_size=1000,\n",
    "    chunk_overlap=100,\n",
    ")"
   ]
  },
  {
   "cell_type": "code",
   "execution_count": 27,
   "metadata": {},
   "outputs": [
    {
     "name": "stdout",
     "output_type": "stream",
     "text": [
      "page_content='Retrieval-Augmented Generation for Knowledge-Intensive NLP Tasks\n",
      "\n",
      "Patrick Lewis†‡, Ethan Perez(cid:63),\n",
      "\n",
      "1 2 0 2\n",
      "\n",
      "Aleksandra Piktus†, Fabio Petroni†, Vladimir Karpukhin†, Naman Goyal†, Heinrich Küttler†,\n",
      "\n",
      "Mike Lewis†, Wen-tau Yih†, Tim Rocktäschel†‡, Sebastian Riedel†‡, Douwe Kiela†\n",
      "\n",
      "r p A 2 1\n",
      "\n",
      "†Facebook AI Research; ‡University College London; (cid:63)New York University; plewis@fb.com\n",
      "\n",
      "] L C . s c [\n",
      "\n",
      "4 v 1 0 4 1 1 . 5 0 0 2 : v i X r a\n",
      "\n",
      "Abstract' metadata={'source': './data/Naive_RAG.pdf'}\n"
     ]
    }
   ],
   "source": [
    "recursive_documents = recursive_text_splitter.split_documents(pages)\n",
    "print(recursive_documents[0])"
   ]
  },
  {
   "cell_type": "code",
   "execution_count": 28,
   "metadata": {},
   "outputs": [
    {
     "name": "stdout",
     "output_type": "stream",
     "text": [
      "[451, 998, 710, 965, 997, 195, 999, 174, 516, 998, 159, 827, 719, 597, 971, 867, 817, 990, 72, 998, 154, 785, 997, 142, 34, 993, 766, 964, 998, 282, 45, 896, 991, 509, 762, 682, 1000, 432, 991, 914, 315, 725, 823, 965, 988, 583, 975, 884, 874, 660, 923, 752, 944, 534, 754, 800, 877, 836, 970, 258, 933, 963, 988, 946, 70, 994, 829, 956, 716, 462, 889, 994, 797, 769, 536, 511, 858, 816, 992, 726, 736, 915, 938, 696, 438, 811, 867, 562, 996, 121, 851, 595, 946, 744, 972, 686, 844, 852]\n"
     ]
    }
   ],
   "source": [
    "print([len(i.page_content)for i in recursive_documents])"
   ]
  },
  {
   "cell_type": "code",
   "execution_count": 30,
   "metadata": {},
   "outputs": [],
   "source": [
    "# 임베딩모델로 텍스트 수치화하기.\n",
    "\n",
    "from langchain_openai import OpenAIEmbeddings\n",
    "\n",
    "embeddings_model = OpenAIEmbeddings(model=\"text-embedding-3-small\")\n",
    "\n",
    "embeddings = embeddings_model.embed_documents(\n",
    "    [\n",
    "        \"안녕!\",\n",
    "        \"오 안녕!\",\n",
    "        \"이름이 뭐야?\",\n",
    "        \"나를 Wrold라고 불러줘\",\n",
    "        \"안녕 World\"\n",
    "    ]\n",
    ")"
   ]
  },
  {
   "cell_type": "code",
   "execution_count": 33,
   "metadata": {},
   "outputs": [
    {
     "name": "stdout",
     "output_type": "stream",
     "text": [
      "5\n",
      "1536\n",
      "[0.0035856578033417463, -0.053943317383527756, -0.035351887345314026, 0.026971658691763878, -0.007611453533172607, -0.05300435423851013, -0.005410763435065746, 0.04711237549781799, -0.055962081998586655, -0.02945990487933159]\n"
     ]
    }
   ],
   "source": [
    "# 5개의 문장,  1536차원\n",
    "print(len(embeddings))\n",
    "print(len(embeddings[0]))\n",
    "print(embeddings[0][:10])"
   ]
  },
  {
   "cell_type": "code",
   "execution_count": 34,
   "metadata": {},
   "outputs": [
    {
     "data": {
      "text/plain": [
       "(412, 1536)"
      ]
     },
     "execution_count": 34,
     "metadata": {},
     "output_type": "execute_result"
    }
   ],
   "source": [
    "from langchain_openai import OpenAIEmbeddings\n",
    "from langchain_community.document_loaders import PyPDFLoader\n",
    "from langchain_text_splitters import RecursiveCharacterTextSplitter\n",
    "\n",
    "#임베딩 모델 API 호출\n",
    "embeddings_model = OpenAIEmbeddings(model = 'text-embedding-3-small')\n",
    "\n",
    "#PDF 문서 로드\n",
    "loader = PyPDFLoader(\"./data/autogen.pdf\")\n",
    "pages = loader.load()\n",
    "\n",
    "#PDF 문서를 여러 청크로 분할\n",
    "text_splitter = RecursiveCharacterTextSplitter(\n",
    "    chunk_size=500,\n",
    "    chunk_overlap=100\n",
    ")\n",
    "\n",
    "texts = text_splitter.split_documents(pages)\n",
    "\n",
    "#OpenAI 임베딩 모델로 청크들을 임베딩 변환하기\n",
    "embeddings = embeddings_model.embed_documents([i.page_content for i in texts])\n",
    "len(embeddings), len(embeddings[0])"
   ]
  },
  {
   "cell_type": "markdown",
   "metadata": {},
   "source": [
    "# 벡터 스토어 저장"
   ]
  },
  {
   "cell_type": "code",
   "execution_count": 35,
   "metadata": {},
   "outputs": [],
   "source": [
    "from langchain.vectorstores import FAISS"
   ]
  },
  {
   "cell_type": "code",
   "execution_count": 37,
   "metadata": {},
   "outputs": [],
   "source": [
    "embeddings = OpenAIEmbeddings(model=\"text-embedding-3-small\")\n",
    "vector_sotre = FAISS.from_documents(texts, embeddings)"
   ]
  },
  {
   "cell_type": "markdown",
   "metadata": {},
   "source": [
    "# Retriever 생성"
   ]
  },
  {
   "cell_type": "code",
   "execution_count": 38,
   "metadata": {},
   "outputs": [
    {
     "data": {
      "text/plain": [
       "[Document(metadata={'source': './data/autogen.pdf', 'page': 1}, page_content='behaviors. AutoGen provides ready-to-use implementations and also allows easy extension and\\nexperimentation for both steps. (Section 2.2)\\n3We refer to Appendix A for a detailed discussion.\\n2'),\n",
       " Document(metadata={'source': './data/autogen.pdf', 'page': 8}, page_content='applications. AutoGen serves as a general framework for creating and experimenting with multi-\\nagent systems that can easily fulfill various practical requirements, such as reusing, customizing,\\nand extending existing agents, as well as programming conversations between them.\\nOur experiments, as detailed in Section 3, demonstrate that this approach offers numerous benefits.\\nThe adoption of AutoGen has resulted in improved performance (over state-of-the-art approaches),'),\n",
       " Document(metadata={'source': './data/autogen.pdf', 'page': 6}, page_content='AutoGen (3 agent) AutoGen (2 agent) ReAct\\nMethods020406080100Success Ratio (%)69%\\n54% 54%77%\\n63%66%Average\\nBest of 3\\n(c) A3: Performance on ALFWorld.\\nF1 Recall\\nMetrics020406080100Percentage (%)96.00%98.00%\\n88.00%\\n78.00%83.00%\\n72.00%\\n48.00%\\n32.00%Multi-GPT4\\nSingle-GPT4\\nMulti-GPT3.5\\nSingle-GPT3.5 (d) A4: Performance on OptiGuide.\\nFigure 4: Performance on four applications A1-A4. (a) shows that AutoGen agents can be used'),\n",
       " Document(metadata={'source': './data/autogen.pdf', 'page': 16}, page_content='AutoGen supports could be desirable in many scenarios, a high level of autonomy can also pose\\npotential risks, especially in high-risk applications (Amodei et al., 2016; Weld & Etzioni, 1994). As\\na result, building fail-safes against cascading failures and exploitation, mitigating reward hacking,\\nout of control and undesired behaviors, maintaining effective human oversight of applications built\\nwith AutoGen agents will become important. While AutoGen provides convenient and seamless')]"
      ]
     },
     "execution_count": 38,
     "metadata": {},
     "output_type": "execute_result"
    }
   ],
   "source": [
    "retriever = vector_sotre.as_retriever()\n",
    "\n",
    "query = \"autogen이 뭐야?\"\n",
    "retriever.invoke(query)"
   ]
  },
  {
   "cell_type": "code",
   "execution_count": 39,
   "metadata": {},
   "outputs": [],
   "source": [
    "from langchain import hub\n",
    "from langchain_openai import ChatOpenAI\n",
    "from langchain_core.output_parsers import StrOutputParser\n",
    "from langchain_core.runnables import RunnablePassthrough"
   ]
  },
  {
   "cell_type": "code",
   "execution_count": 40,
   "metadata": {},
   "outputs": [],
   "source": [
    "model = ChatOpenAI(model=\"gpt-4o-mini\")\n",
    "prompt = hub.pull(\"rlm/rag-prompt\")\n",
    "\n",
    "def format_docs(docs): # page_content만 가져오기 위한 함수\n",
    "    return \"\\n\\n\".join(doc.page_content for doc in docs)\n",
    "\n",
    "chain = ({\"context\":retriever | format_docs, \"question\": RunnablePassthrough()}\n",
    "         |prompt\n",
    "         |model\n",
    "         |StrOutputParser())"
   ]
  },
  {
   "cell_type": "code",
   "execution_count": 41,
   "metadata": {},
   "outputs": [
    {
     "data": {
      "text/plain": [
       "'AutoGen은 다중 에이전트 시스템을 생성하고 실험할 수 있는 일반적인 프레임워크입니다. 이 프레임워크는 기존 에이전트를 재사용하고 맞춤화하며 확장할 수 있는 기능을 제공하여 다양한 실용적인 요구를 충족할 수 있게 합니다. AutoGen의 채택은 성능 향상에 기여하며, 특히 고위험 애플리케이션에서의 안전성 확보가 중요합니다.'"
      ]
     },
     "execution_count": 41,
     "metadata": {},
     "output_type": "execute_result"
    }
   ],
   "source": [
    "chain.invoke(\"autogen이 뭐야?\")"
   ]
  },
  {
   "cell_type": "code",
   "execution_count": null,
   "metadata": {},
   "outputs": [],
   "source": []
  }
 ],
 "metadata": {
  "kernelspec": {
   "display_name": "langchain-kr-gLkynrUQ-py3.11",
   "language": "python",
   "name": "python3"
  },
  "language_info": {
   "codemirror_mode": {
    "name": "ipython",
    "version": 3
   },
   "file_extension": ".py",
   "mimetype": "text/x-python",
   "name": "python",
   "nbconvert_exporter": "python",
   "pygments_lexer": "ipython3",
   "version": "3.11.9"
  }
 },
 "nbformat": 4,
 "nbformat_minor": 2
}
