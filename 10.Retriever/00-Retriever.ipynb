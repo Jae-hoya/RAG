{
 "cells": [
  {
   "cell_type": "markdown",
   "metadata": {},
   "source": [
    "# 문서를 검색하는 Retriever단계\n",
    "\n",
    "question -> retrieve -> prompt -> llm\n",
    "\n",
    "질문이 들어오면 임베딩하여 벡터스토어에 저장하고 프롬프트를받아 정보를 탐색하고 llm을 통해 문장을 생성한다.\n",
    "\n",
    "질문이 잘 걸리는지 langsmith로 수시로 확인해야한다. \n",
    "1. 필요한 정보들을 잘 검색하는지\n",
    "2. 필요없는 정보들까지 검색을 하는지\n",
    "\n",
    "- 의미검색 : Dense Retriever = Semantic Search ex) 유사도검색\n",
    "- 키워드 검색 : Sparse Retriever ex) TF-IDF, BM25\n"
   ]
  },
  {
   "cell_type": "markdown",
   "metadata": {},
   "source": []
  }
 ],
 "metadata": {
  "language_info": {
   "name": "python"
  }
 },
 "nbformat": 4,
 "nbformat_minor": 2
}
