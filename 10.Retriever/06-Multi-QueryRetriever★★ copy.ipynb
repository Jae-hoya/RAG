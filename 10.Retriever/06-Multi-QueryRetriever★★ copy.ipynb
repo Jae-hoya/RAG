{
 "cells": [
  {
   "cell_type": "markdown",
   "metadata": {},
   "source": [
    "# Multi-QueryRetriever\n",
    "큰 장점. 유저가 생각보다 쿼리를 친절하게 작성을 안한다. 이것을 친절한 표현으로 바꿔주는 후처리적인 개념\n",
    "\n",
    "우리가 쿼리를 가지고 문서검색을 할때, 날것의 질문보다, llm의 질문이 더 성능이 좋다고 기대할 수 있다."
   ]
  },
  {
   "cell_type": "code",
   "execution_count": 33,
   "metadata": {},
   "outputs": [
    {
     "data": {
      "text/plain": [
       "True"
      ]
     },
     "execution_count": 33,
     "metadata": {},
     "output_type": "execute_result"
    }
   ],
   "source": [
    "from dotenv import load_dotenv\n",
    "load_dotenv()"
   ]
  },
  {
   "cell_type": "code",
   "execution_count": 34,
   "metadata": {},
   "outputs": [
    {
     "name": "stdout",
     "output_type": "stream",
     "text": [
      "LangSmith 추적을 시작합니다.\n",
      "[프로젝트명]\n",
      "CH10-Retriever\n"
     ]
    }
   ],
   "source": [
    "# LangSmith 추적을 설정합니다. https://smith.langchain.com\n",
    "# !pip install langchain-teddynote\n",
    "from langchain_teddynote import logging\n",
    "\n",
    "# 프로젝트 이름을 입력합니다.\n",
    "logging.langsmith(\"CH10-Retriever\")"
   ]
  },
  {
   "cell_type": "code",
   "execution_count": 35,
   "metadata": {},
   "outputs": [
    {
     "data": {
      "text/plain": [
       "4"
      ]
     },
     "execution_count": 35,
     "metadata": {},
     "output_type": "execute_result"
    }
   ],
   "source": [
    "from langchain_community.document_loaders import WebBaseLoader\n",
    "from langchain_community.vectorstores import Chroma\n",
    "from langchain_openai import OpenAIEmbeddings\n",
    "from langchain_text_splitters import RecursiveCharacterTextSplitter\n",
    "\n",
    "\n",
    "# 블로그 포스트 로드\n",
    "loader = WebBaseLoader(\n",
    "    \"https://teddylee777.github.io/openai/openai-assistant-tutorial/\", encoding=\"utf-8\"\n",
    ")\n",
    "\n",
    "docs = loader.load()\n",
    "\n",
    "text_splitter = RecursiveCharacterTextSplitter(chunk_size=1000, chunk_overlap=50)\n",
    "documents = text_splitter.split_documents(docs)\n",
    "\n",
    "embeddings = OpenAIEmbeddings(model=\"text-embedding-3-small\")\n",
    "\n",
    "vector_store = Chroma.from_documents(documents, embeddings)\n",
    "retriever = vector_store.as_retriever()\n",
    "\n",
    "query = \"OpenAI Assistant API의 Functions 사용법에 대해 알려주세요.\"\n",
    "relevant_docs = retriever.invoke(query)\n",
    "\n",
    "len(relevant_docs)\n"
   ]
  },
  {
   "cell_type": "code",
   "execution_count": 36,
   "metadata": {},
   "outputs": [
    {
     "name": "stdout",
     "output_type": "stream",
     "text": [
      "[Document(metadata={'description': 'OpenAI의 새로운 Assistants API는 상태 유지 대화와 강력한 도구 접근성을 제공합니다. OpenAI Assistants API 튜토리얼: Code Interpreter, Retrieval, Functions 활용법에 대하여 알아보겠습니다.', 'language': 'ko', 'source': 'https://teddylee777.github.io/openai/openai-assistant-tutorial/', 'title': '[Assistants API] Code Interpreter, Retrieval, Functions 활용법 - 테디노트'}, page_content='34 분 소요\\n        \\n      \\n\\n\\n\\n\\n\\n 목차\\nAssistants API 개요Assistants API 의 탄생 배경Assistants API의 기본 요소환경설정Python 라이브러리 설정Helper 함수API KEY 설정Assistants APIPlayground 에서 Assistants 생성Assistants API 로 생성Threads(스레드)Run(실행)Message(메시지)함수화전체코드(템플릿 코드)Assistant + tools(도구)도구1: Code Interpreter(코드 인터프리터)실행단계(steps)도구2: Retrieval(검색)파일 업로드Assistant 설정 업데이트(도구 추가)도구3: Functions(함수)required_action퀴즈 생성기 전체코드1) 환경설정2) 파일 업로드3) Function Schema 정의4) 퀴즈 요청5) 피드백끝으로Reference\\n\\n\\nOpenAI의 새로운 Assistants API는 대화와 더불어 강력한 도구 접근성을 제공합니다. 본 튜토리얼은 OpenAI Assistants API를 활용하는 내용을 다룹니다. 특히, Assistant API 가 제공하는 도구인 Code Interpreter, Retrieval, Functions 를 활용하는 방법에 대해 다룹니다. 이와 더불어 파일을 업로드 하는 내용과 사용자의 피드백을 제출하는 내용도 튜토리얼 말미에 포함하고 있습니다.\\n\\n\\n\\n주요내용'), Document(metadata={'description': 'OpenAI의 새로운 Assistants API는 상태 유지 대화와 강력한 도구 접근성을 제공합니다. OpenAI Assistants API 튜토리얼: Code Interpreter, Retrieval, Functions 활용법에 대하여 알아보겠습니다.', 'language': 'ko', 'source': 'https://teddylee777.github.io/openai/openai-assistant-tutorial/', 'title': '[Assistants API] Code Interpreter, Retrieval, Functions 활용법 - 테디노트'}, page_content='34 분 소요\\n        \\n      \\n\\n\\n\\n\\n\\n 목차\\nAssistants API 개요Assistants API 의 탄생 배경Assistants API의 기본 요소환경설정Python 라이브러리 설정Helper 함수API KEY 설정Assistants APIPlayground 에서 Assistants 생성Assistants API 로 생성Threads(스레드)Run(실행)Message(메시지)함수화전체코드(템플릿 코드)Assistant + tools(도구)도구1: Code Interpreter(코드 인터프리터)실행단계(steps)도구2: Retrieval(검색)파일 업로드Assistant 설정 업데이트(도구 추가)도구3: Functions(함수)required_action퀴즈 생성기 전체코드1) 환경설정2) 파일 업로드3) Function Schema 정의4) 퀴즈 요청5) 피드백끝으로Reference\\n\\n\\nOpenAI의 새로운 Assistants API는 대화와 더불어 강력한 도구 접근성을 제공합니다. 본 튜토리얼은 OpenAI Assistants API를 활용하는 내용을 다룹니다. 특히, Assistant API 가 제공하는 도구인 Code Interpreter, Retrieval, Functions 를 활용하는 방법에 대해 다룹니다. 이와 더불어 파일을 업로드 하는 내용과 사용자의 피드백을 제출하는 내용도 튜토리얼 말미에 포함하고 있습니다.\\n\\n\\n\\n주요내용'), Document(metadata={'description': 'OpenAI의 새로운 Assistants API는 상태 유지 대화와 강력한 도구 접근성을 제공합니다. OpenAI Assistants API 튜토리얼: Code Interpreter, Retrieval, Functions 활용법에 대하여 알아보겠습니다.', 'language': 'ko', 'source': 'https://teddylee777.github.io/openai/openai-assistant-tutorial/', 'title': '[Assistants API] Code Interpreter, Retrieval, Functions 활용법 - 테디노트'}, page_content='주요내용\\n\\n🚀 Assistants API 개요: 상태 유지 대화를 가능하게 하는 새로운 API 소개\\n💻 설정 방법: Python 라이브러리 설정 및 사용 방법 안내\\n🧠 흐름 이해: Assistant, Thread, Message, Run의 개념과 사용법 설명\\n🔧 도구 사용: Code Interpreter, Retrieval, Functions 등 강력한 기능\\n📁 파일 업로드: API 를 사용한 파일 업로드 및 File ID 획득 방법\\n📝 실용적인 예시: 실제 코드를 통한 Assistants API 활용 예시 제공\\n\\nAssistants API 개요\\n새로운 Assistants API는 Chat Completions API를 발전시킨 것으로, 개발자가 어시스턴트와 유사한 경험을 간편하게 만들고 코드 해석기 및 검색과 같은 강력한 도구에 액세스할 수 있도록 하기 위한 것입니다.\\nAssistants API 의 탄생 배경\\nChat Completions API의 기본 요소는 Message 이며, 여기에 Model(gpt-3.5-turbo, gpt-4-turbo-preview 등)을 사용하여 Completion을 수행합니다.\\nChat Completions API 는 메시지를 주고 받는데에는 가볍게 잘 동작하지만, 상태를 관리할 수는 없습니다. 우리는 이것을 Stateless 하다는 표현을 사용합니다.\\n여기서 상태란, ChatGPT 와 플러그인 형식으로 동작하는 도구의 개념으로 이해하셔도 좋습니다.\\n예를 들면, ‘검색(search)’, ‘문서 검색(retrieval)’, ‘코드 실행(code interpreter)’ 등의 기능이 부재하기 때문에, 이에 대한 보완책으로 Assistants API 가 탄생하게 되었습니다.\\nAssistants API의 기본 요소\\n\\n\\n\\nAssistants: 모델(GPT-3.5, GPT-4, etc), instruction(지시문/프롬프트), tools(도구), files(업로드한 파일)를 캡슐화하는 역할입니다.'), Document(metadata={'description': 'OpenAI의 새로운 Assistants API는 상태 유지 대화와 강력한 도구 접근성을 제공합니다. OpenAI Assistants API 튜토리얼: Code Interpreter, Retrieval, Functions 활용법에 대하여 알아보겠습니다.', 'language': 'ko', 'source': 'https://teddylee777.github.io/openai/openai-assistant-tutorial/', 'title': '[Assistants API] Code Interpreter, Retrieval, Functions 활용법 - 테디노트'}, page_content='주요내용\\n\\n🚀 Assistants API 개요: 상태 유지 대화를 가능하게 하는 새로운 API 소개\\n💻 설정 방법: Python 라이브러리 설정 및 사용 방법 안내\\n🧠 흐름 이해: Assistant, Thread, Message, Run의 개념과 사용법 설명\\n🔧 도구 사용: Code Interpreter, Retrieval, Functions 등 강력한 기능\\n📁 파일 업로드: API 를 사용한 파일 업로드 및 File ID 획득 방법\\n📝 실용적인 예시: 실제 코드를 통한 Assistants API 활용 예시 제공\\n\\nAssistants API 개요\\n새로운 Assistants API는 Chat Completions API를 발전시킨 것으로, 개발자가 어시스턴트와 유사한 경험을 간편하게 만들고 코드 해석기 및 검색과 같은 강력한 도구에 액세스할 수 있도록 하기 위한 것입니다.\\nAssistants API 의 탄생 배경\\nChat Completions API의 기본 요소는 Message 이며, 여기에 Model(gpt-3.5-turbo, gpt-4-turbo-preview 등)을 사용하여 Completion을 수행합니다.\\nChat Completions API 는 메시지를 주고 받는데에는 가볍게 잘 동작하지만, 상태를 관리할 수는 없습니다. 우리는 이것을 Stateless 하다는 표현을 사용합니다.\\n여기서 상태란, ChatGPT 와 플러그인 형식으로 동작하는 도구의 개념으로 이해하셔도 좋습니다.\\n예를 들면, ‘검색(search)’, ‘문서 검색(retrieval)’, ‘코드 실행(code interpreter)’ 등의 기능이 부재하기 때문에, 이에 대한 보완책으로 Assistants API 가 탄생하게 되었습니다.\\nAssistants API의 기본 요소\\n\\n\\n\\nAssistants: 모델(GPT-3.5, GPT-4, etc), instruction(지시문/프롬프트), tools(도구), files(업로드한 파일)를 캡슐화하는 역할입니다.')]\n"
     ]
    }
   ],
   "source": [
    "print(relevant_docs)"
   ]
  },
  {
   "cell_type": "code",
   "execution_count": 37,
   "metadata": {},
   "outputs": [],
   "source": [
    "# llm을 통해 멀티쿼리를 생성. vector_store를 넣어준다."
   ]
  },
  {
   "cell_type": "code",
   "execution_count": 38,
   "metadata": {},
   "outputs": [],
   "source": [
    "from langchain.retrievers import MultiQueryRetriever\n",
    "from langchain_openai import ChatOpenAI\n",
    "\n",
    "llm = ChatOpenAI(model=\"gpt-4o-mini\")\n",
    "\n",
    "multiquery_retriever = MultiQueryRetriever.from_llm(\n",
    "    retriever = vector_store.as_retriever(),\n",
    "    llm=llm\n",
    ")"
   ]
  },
  {
   "cell_type": "code",
   "execution_count": 39,
   "metadata": {},
   "outputs": [],
   "source": [
    "# 쿼리에 대한 로깅 설정\n",
    "import logging\n",
    "\n",
    "logging.basicConfig()\n",
    "logging.getLogger(\"langchain_retrievers.multi_query\").setLevel(logging.INFO)"
   ]
  },
  {
   "cell_type": "code",
   "execution_count": 40,
   "metadata": {},
   "outputs": [
    {
     "name": "stdout",
     "output_type": "stream",
     "text": [
      "===============\n",
      "검색된 문서 개수: 3\n",
      "===============\n",
      "34 분 소요\n",
      "        \n",
      "      \n",
      "\n",
      "\n",
      "\n",
      "\n",
      "\n",
      " 목차\n",
      "Assistants API 개요Assistants API 의 탄생 배경Assistants API의 기본 요소환경설정Python 라이브러리 설정Helper 함수API KEY 설정Assistants APIPlayground 에서 Assistants 생성Assistants API 로 생성Threads(스레드)Run(실행)Message(메시지)함수화전체코드(템플릿 코드)Assistant + tools(도구)도구1: Code Interpreter(코드 인터프리터)실행단계(steps)도구2: Retrieval(검색)파일 업로드Assistant 설정 업데이트(도구 추가)도구3: Functions(함수)required_action퀴즈 생성기 전체코드1) 환경설정2) 파일 업로드3) Function Schema 정의4) 퀴즈 요청5) 피드백끝으로Reference\n",
      "\n",
      "\n",
      "OpenAI의 새로운 Assistants API는 대화와 더불어 강력한 도구 접근성을 제공합니다. 본 튜토리얼은 OpenAI Assistants API를 활용하는 내용을 다룹니다. 특히, Assistant API 가 제공하는 도구인 Code Interpreter, Retrieval, Functions 를 활용하는 방법에 대해 다룹니다. 이와 더불어 파일을 업로드 하는 내용과 사용자의 피드백을 제출하는 내용도 튜토리얼 말미에 포함하고 있습니다.\n",
      "\n",
      "\n",
      "\n",
      "주요내용\n"
     ]
    }
   ],
   "source": [
    "# 질문을 정의합니다.\n",
    "question = \"OpenAI Assistant API의 Functions 사용법에 대해 알려주세요.\"\n",
    "# 문서 검색\n",
    "relevant_docs = multiquery_retriever.invoke(question)\n",
    "\n",
    "# 검색된 고유한 문서의 개수를 반환합니다.\n",
    "print(\n",
    "    f\"===============\\n검색된 문서 개수: {len(relevant_docs)}\",\n",
    "    end=\"\\n===============\\n\",\n",
    ")\n",
    "\n",
    "# 검색된 문서의 내용을 출력합니다.\n",
    "print(relevant_docs[0].page_content)"
   ]
  },
  {
   "cell_type": "code",
   "execution_count": 47,
   "metadata": {},
   "outputs": [
    {
     "data": {
      "text/plain": [
       "{'description': 'OpenAI의 새로운 Assistants API는 상태 유지 대화와 강력한 도구 접근성을 제공합니다. OpenAI Assistants API 튜토리얼: Code Interpreter, Retrieval, Functions 활용법에 대하여 알아보겠습니다.',\n",
       " 'language': 'ko',\n",
       " 'source': 'https://teddylee777.github.io/openai/openai-assistant-tutorial/',\n",
       " 'title': '[Assistants API] Code Interpreter, Retrieval, Functions 활용법 - 테디노트'}"
      ]
     },
     "execution_count": 47,
     "metadata": {},
     "output_type": "execute_result"
    }
   ],
   "source": [
    "ddrelevant_docs[1]."
   ]
  },
  {
   "cell_type": "code",
   "execution_count": null,
   "metadata": {},
   "outputs": [],
   "source": []
  },
  {
   "cell_type": "markdown",
   "metadata": {},
   "source": [
    "# LECL Chain 활용하는 방법"
   ]
  },
  {
   "cell_type": "code",
   "execution_count": 18,
   "metadata": {},
   "outputs": [
    {
     "data": {
      "text/plain": [
       "'OpenAI Assistant API의 Functions 활용 방법에 대해 설명해 주세요.  \\nOpenAI Assistant API에서 Functions를 사용하는 절차를 알려주세요.  \\nOpenAI Assistant API의 Functions 기능에 대한 안내를 부탁드립니다.  \\nOpenAI Assistant API의 Functions 사용에 대한 정보를 제공해 주세요.  \\nOpenAI Assistant API에서 Functions를 어떻게 활용할 수 있는지 궁금합니다.  '"
      ]
     },
     "execution_count": 18,
     "metadata": {},
     "output_type": "execute_result"
    }
   ],
   "source": [
    "from langchain_core.runnables import RunnablePassthrough\n",
    "from langchain_core.prompts import PromptTemplate\n",
    "from langchain_core.output_parsers import StrOutputParser\n",
    "\n",
    "template = \"\"\"\n",
    "You are an AI language model assistant. \n",
    "Your task is to generate five different versions of the given user question to retrieve relevant documents from a vector database. \n",
    "By generating multiple perspectives on the user question, your goal is to help the user overcome some of the limitations of the distance-based similarity search. \n",
    "Your response should be a list of values separated by new lines, eg: `foo\\nbar\\nbaz\\n`\n",
    "\n",
    "#ORIGINAL QUESTION: \n",
    "{question}\n",
    "\n",
    "#Answer in Korean:\n",
    "\n",
    "\"\"\"\n",
    "\n",
    "prompt = PromptTemplate.from_template(template)\n",
    "\n",
    "llm = ChatOpenAI(temperature=0, model=\"gpt-4o-mini\")\n",
    "\n",
    "custom_multiquery_chain = (\n",
    "    {\"question\": RunnablePassthrough()} | prompt| llm | StrOutputParser()\n",
    ")\n",
    "# 질문을 정의합니다.\n",
    "question = \"OpenAI Assistant API의 Functions 사용법에 대해 알려주세요.\"\n",
    "\n",
    "# 체인을 실행하여 생성된 다중 쿼리를 확인합니다.\n",
    "multi_queries = custom_multiquery_chain.invoke(question)\n",
    "# 결과를 확인합니다.(5개 질문 생성)\n",
    "multi_queries"
   ]
  },
  {
   "cell_type": "code",
   "execution_count": 13,
   "metadata": {},
   "outputs": [],
   "source": [
    "multiquery_retriever = MultiQueryRetriever.from_llm(\n",
    "    llm=custom_multiquery_chain, retriever=vector_store.as_retriever()\n",
    ")"
   ]
  },
  {
   "cell_type": "code",
   "execution_count": 14,
   "metadata": {},
   "outputs": [],
   "source": [
    "# 결과\n",
    "relevant_docs = multiquery_retriever.invoke(question)"
   ]
  },
  {
   "cell_type": "code",
   "execution_count": 15,
   "metadata": {},
   "outputs": [
    {
     "data": {
      "text/plain": [
       "[Document(metadata={'description': 'OpenAI의 새로운 Assistants API는 상태 유지 대화와 강력한 도구 접근성을 제공합니다. OpenAI Assistants API 튜토리얼: Code Interpreter, Retrieval, Functions 활용법에 대하여 알아보겠습니다.', 'language': 'ko', 'source': 'https://teddylee777.github.io/openai/openai-assistant-tutorial/', 'title': '[Assistants API] Code Interpreter, Retrieval, Functions 활용법 - 테디노트'}, page_content='34 분 소요\\n        \\n      \\n\\n\\n\\n\\n\\n 목차\\nAssistants API 개요Assistants API 의 탄생 배경Assistants API의 기본 요소환경설정Python 라이브러리 설정Helper 함수API KEY 설정Assistants APIPlayground 에서 Assistants 생성Assistants API 로 생성Threads(스레드)Run(실행)Message(메시지)함수화전체코드(템플릿 코드)Assistant + tools(도구)도구1: Code Interpreter(코드 인터프리터)실행단계(steps)도구2: Retrieval(검색)파일 업로드Assistant 설정 업데이트(도구 추가)도구3: Functions(함수)required_action퀴즈 생성기 전체코드1) 환경설정2) 파일 업로드3) Function Schema 정의4) 퀴즈 요청5) 피드백끝으로Reference\\n\\n\\nOpenAI의 새로운 Assistants API는 대화와 더불어 강력한 도구 접근성을 제공합니다. 본 튜토리얼은 OpenAI Assistants API를 활용하는 내용을 다룹니다. 특히, Assistant API 가 제공하는 도구인 Code Interpreter, Retrieval, Functions 를 활용하는 방법에 대해 다룹니다. 이와 더불어 파일을 업로드 하는 내용과 사용자의 피드백을 제출하는 내용도 튜토리얼 말미에 포함하고 있습니다.\\n\\n\\n\\n주요내용'),\n",
       " Document(metadata={'description': 'OpenAI의 새로운 Assistants API는 상태 유지 대화와 강력한 도구 접근성을 제공합니다. OpenAI Assistants API 튜토리얼: Code Interpreter, Retrieval, Functions 활용법에 대하여 알아보겠습니다.', 'language': 'ko', 'source': 'https://teddylee777.github.io/openai/openai-assistant-tutorial/', 'title': '[Assistants API] Code Interpreter, Retrieval, Functions 활용법 - 테디노트'}, page_content='주요내용\\n\\n🚀 Assistants API 개요: 상태 유지 대화를 가능하게 하는 새로운 API 소개\\n💻 설정 방법: Python 라이브러리 설정 및 사용 방법 안내\\n🧠 흐름 이해: Assistant, Thread, Message, Run의 개념과 사용법 설명\\n🔧 도구 사용: Code Interpreter, Retrieval, Functions 등 강력한 기능\\n📁 파일 업로드: API 를 사용한 파일 업로드 및 File ID 획득 방법\\n📝 실용적인 예시: 실제 코드를 통한 Assistants API 활용 예시 제공\\n\\nAssistants API 개요\\n새로운 Assistants API는 Chat Completions API를 발전시킨 것으로, 개발자가 어시스턴트와 유사한 경험을 간편하게 만들고 코드 해석기 및 검색과 같은 강력한 도구에 액세스할 수 있도록 하기 위한 것입니다.\\nAssistants API 의 탄생 배경\\nChat Completions API의 기본 요소는 Message 이며, 여기에 Model(gpt-3.5-turbo, gpt-4-turbo-preview 등)을 사용하여 Completion을 수행합니다.\\nChat Completions API 는 메시지를 주고 받는데에는 가볍게 잘 동작하지만, 상태를 관리할 수는 없습니다. 우리는 이것을 Stateless 하다는 표현을 사용합니다.\\n여기서 상태란, ChatGPT 와 플러그인 형식으로 동작하는 도구의 개념으로 이해하셔도 좋습니다.\\n예를 들면, ‘검색(search)’, ‘문서 검색(retrieval)’, ‘코드 실행(code interpreter)’ 등의 기능이 부재하기 때문에, 이에 대한 보완책으로 Assistants API 가 탄생하게 되었습니다.\\nAssistants API의 기본 요소\\n\\n\\n\\nAssistants: 모델(GPT-3.5, GPT-4, etc), instruction(지시문/프롬프트), tools(도구), files(업로드한 파일)를 캡슐화하는 역할입니다.'),\n",
       " Document(metadata={'description': 'OpenAI의 새로운 Assistants API는 상태 유지 대화와 강력한 도구 접근성을 제공합니다. OpenAI Assistants API 튜토리얼: Code Interpreter, Retrieval, Functions 활용법에 대하여 알아보겠습니다.', 'language': 'ko', 'source': 'https://teddylee777.github.io/openai/openai-assistant-tutorial/', 'title': '[Assistants API] Code Interpreter, Retrieval, Functions 활용법 - 테디노트'}, page_content='def show_json(obj):\\n    # obj의 모델을 JSON 형태로 변환한 후 출력합니다.\\n    display(json.loads(obj.model_dump_json()))\\n\\nAPI KEY 설정\\nAPI KEY 발급은 아래 링크를 참고해 주세요\\n\\nOpenAI Python API 키 발급방법, 요금체계\\n\\n# API KEY 정보를 불러옵니다\\nfrom dotenv import load_dotenv\\n\\nload_dotenv()\\n\\n\\nTrue\\n\\napi_key 에 OPENAI_API_KEY 를 설정합니다.\\n필요에 따라서는 주석을 해제 후 API KEY 를 직업 입력해 주세요\\nimport os\\n\\n# os.environ[\"OPENAI_API_KEY\"] = \"API KEY를 입력해 주세요\"\\n# OPENAI_API_KEY 를 설정합니다.\\napi_key = os.environ.get(\"OPENAI_API_KEY\")\\n\\nAssistants API\\nPlayground 에서 Assistants 생성\\nAssistants를 활용해보기 가장 쉬운 방법은 Assistants Playground를 통하는 것입니다.\\n\\nAssistants 를 한 번 생성해 보겠습니다.\\n문서 에서와 같이 Math Tutor 라는 수학 문제 풀이 과외선생님을 만들어 보겠습니다.\\n\\n생성한 Assistant를 Assistants Dashboard 에서 볼 수 있습니다.\\n\\n아주 간단하게 Playground 에서 Assistants 생성이 끝났습니다!\\nAssistants API 로 생성\\nAssistants API를 통해 직접 Assistant를 생성할 수도 있습니다.\\nfrom openai import OpenAI\\n\\n# OpenAI API를 사용하기 위한 클라이언트 객체를 생성합니다.\\nclient = OpenAI(api_key=api_key)'),\n",
       " Document(metadata={'description': 'OpenAI의 새로운 Assistants API는 상태 유지 대화와 강력한 도구 접근성을 제공합니다. OpenAI Assistants API 튜토리얼: Code Interpreter, Retrieval, Functions 활용법에 대하여 알아보겠습니다.', 'language': 'ko', 'source': 'https://teddylee777.github.io/openai/openai-assistant-tutorial/', 'title': '[Assistants API] Code Interpreter, Retrieval, Functions 활용법 - 테디노트'}, page_content='다시 한번, 대시보드나 API를 통해 우리의 Assistant를 업데이트합시다.\\n\\n\\n참고\\n\\n\\n대시보드에 함수 JSON을 붙여넣는 것이 들여쓰기 등으로 인해 조금 까다로웠습니다.\\n\\n\\n저는 ChatGPT에게 대시보드의 예시 중 하나와 동일하게 내 함수를 포맷하도록 요청했습니다!\\n\\n\\n새로운 Assistant 를 생성하고, retrieval 그리고 function 도구를 추가합니다.\\n\\n\\nretrieval 도구는 문서에서 내용을 검색할 때 활용합니다.\\n\\n\\nfunction 도구는 사용자 정의 함수를 사용할 때 활용합니다.\\n\\n\\n# 퀴즈를 출제하는 역할을 하는 챗봇을 생성합니다.\\nassistant = client.beta.assistants.create(\\n    name=\"Quiz Generator\",\\n    instructions=\"You are an expert in generating multiple choice quizzes. Create quizzes based on uploaded files.\",\\n    model=\"gpt-4-turbo-preview\",\\n    tools=[\\n        {\"type\": \"retrieval\"},\\n        {\"type\": \"function\", \"function\": function_schema},\\n    ],\\n    file_ids=file_ids,\\n)\\n\\nASSISTANT_ID = assistant.id\\n# 생성된 챗봇의 정보를 JSON 형태로 출력합니다.\\nshow_json(assistant)'),\n",
       " Document(metadata={'description': 'OpenAI의 새로운 Assistants API는 상태 유지 대화와 강력한 도구 접근성을 제공합니다. OpenAI Assistants API 튜토리얼: Code Interpreter, Retrieval, Functions 활용법에 대하여 알아보겠습니다.', 'language': 'ko', 'source': 'https://teddylee777.github.io/openai/openai-assistant-tutorial/', 'title': '[Assistants API] Code Interpreter, Retrieval, Functions 활용법 - 테디노트'}, page_content='가장 강력한 도구로서, Assistant에게 사용자 정의 함수를 지정할 수 있습니다. 이는 Chat Completions API에서의 함수 호출과 매우 유사합니다.\\n\\n\\nFunction calling(함수 호출) 도구를 사용하면 Assistant 에게 사용자 정의 함수 를 설명하여 호출해야 하는 함수를 인자와 함께 지능적으로 반환하도록 할 수 있습니다.\\n\\n\\nAssistant API는 실행 중에 함수를 호출할 때 실행을 일시 중지하며, 함수 호출 결과를 다시 제공하여 Run 실행을 계속할 수 있습니다. (이는 사용자 피드백을 받아 재게할 수 있는 의미이기도 합니다. 아래 튜토리얼에서 상세히 다룹니다).\\n\\n\\n이번에 진행할 예제는 퀴즈문제 출제 챗봇입니다.\\n우리의 수학 튜터를 위한 display_quiz() 함수를 생성하였습니다(사실 이 함수는 퀴즈 문제에 대한 사용자 입력을 받는 함수라 역할이 중요하지는 않습니다).\\n이 함수는 title과 question의 배열을 받아 퀴즈를 표시하고 사용자로부터 각각에 대한 입력을 받습니다.\\n\\n\\ntitle\\n\\n\\nquestions\\n\\n\\nquestion_text\\n\\n\\nchoices: [“선택지 1”, “선택지 2”, “선택지 3”, “선택지 4”]\\n\\n\\n\\n\\ndef display_quiz(title, questions, show_numeric=False):\\n    print(f\"제목: {title}\\\\n\")\\n    responses = []\\n\\n    for q in questions:\\n        # 질문을 출력합니다.\\n        print(q[\"question_text\"])\\n        response = \"\"')]"
      ]
     },
     "execution_count": 15,
     "metadata": {},
     "output_type": "execute_result"
    }
   ],
   "source": [
    "relevant_docs"
   ]
  },
  {
   "cell_type": "code",
   "execution_count": 16,
   "metadata": {},
   "outputs": [
    {
     "name": "stdout",
     "output_type": "stream",
     "text": [
      "===============\n",
      "검색된 문서 개수: 5\n",
      "===============\n",
      "34 분 소요\n",
      "        \n",
      "      \n",
      "\n",
      "\n",
      "\n",
      "\n",
      "\n",
      " 목차\n",
      "Assistants API 개요Assistants API 의 탄생 배경Assistants API의 기본 요소환경설정Python 라이브러리 설정Helper 함수API KEY 설정Assistants APIPlayground 에서 Assistants 생성Assistants API 로 생성Threads(스레드)Run(실행)Message(메시지)함수화전체코드(템플릿 코드)Assistant + tools(도구)도구1: Code Interpreter(코드 인터프리터)실행단계(steps)도구2: Retrieval(검색)파일 업로드Assistant 설정 업데이트(도구 추가)도구3: Functions(함수)required_action퀴즈 생성기 전체코드1) 환경설정2) 파일 업로드3) Function Schema 정의4) 퀴즈 요청5) 피드백끝으로Reference\n",
      "\n",
      "\n",
      "OpenAI의 새로운 Assistants API는 대화와 더불어 강력한 도구 접근성을 제공합니다. 본 튜토리얼은 OpenAI Assistants API를 활용하는 내용을 다룹니다. 특히, Assistant API 가 제공하는 도구인 Code Interpreter, Retrieval, Functions 를 활용하는 방법에 대해 다룹니다. 이와 더불어 파일을 업로드 하는 내용과 사용자의 피드백을 제출하는 내용도 튜토리얼 말미에 포함하고 있습니다.\n",
      "\n",
      "\n",
      "\n",
      "주요내용\n"
     ]
    }
   ],
   "source": [
    "# 결과\n",
    "relevant_docs = multiquery_retriever.invoke(question)\n",
    "\n",
    "# 검색된 고유한 문서의 개수를 반환합니다.\n",
    "print(\n",
    "    f\"===============\\n검색된 문서 개수: {len(relevant_docs)}\",\n",
    "    end=\"\\n===============\\n\",\n",
    ")\n",
    "\n",
    "# 검색된 문서의 내용을 출력합니다.\n",
    "print(relevant_docs[0].page_content)"
   ]
  },
  {
   "cell_type": "code",
   "execution_count": null,
   "metadata": {},
   "outputs": [],
   "source": []
  }
 ],
 "metadata": {
  "kernelspec": {
   "display_name": "langchain-kr-gLkynrUQ-py3.11",
   "language": "python",
   "name": "python3"
  },
  "language_info": {
   "codemirror_mode": {
    "name": "ipython",
    "version": 3
   },
   "file_extension": ".py",
   "mimetype": "text/x-python",
   "name": "python",
   "nbconvert_exporter": "python",
   "pygments_lexer": "ipython3",
   "version": "3.11.9"
  }
 },
 "nbformat": 4,
 "nbformat_minor": 2
}
