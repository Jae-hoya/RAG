{
 "cells": [
  {
   "cell_type": "markdown",
   "metadata": {},
   "source": [
    "# 도구 (Tools)\n",
    "도구(Tool)는 에이전트, 체인 또는 LLM이 외부 세계와 상호작용하기 위한 인터페이스입니다.\n",
    "\n",
    "LangChain 에서 기본 제공하는 도구를 사용하여 쉽게 도구를 활용할 수 있으며, 사용자 정의 도구(Custom Tool) 를 쉽게 구축하는 것도 가능합니다.\n",
    "\n",
    "LangChain 통합된 도구 리스트: https://python.langchain.com/v0.1/docs/integrations/tools/\n",
    "\n",
    "- 실습 tool 예제목록\n",
    "1. Python REPL\n",
    "2. 검색 tool\n",
    "3. 이미지 생성 tool\n",
    "4. 구글 뉴스기사 검색 도구\n",
    "5. 사용자 정의 도구(Custom Tool)"
   ]
  },
  {
   "cell_type": "markdown",
   "metadata": {},
   "source": [
    "### 빌트인 도구(built-in tools)\n",
    "랭체인에서 제공하는 사전에 정의된 도구(tool) 와 툴킷(toolkit) 을 사용할 수 있습니다.\n",
    "\n",
    "tool 은 단일 도구를 의미하며, toolkit 은 여러 도구를 묶어서 하나의 도구로 사용할 수 있습니다.\n",
    "\n",
    "관련 도구는 아래의 링크에서 참고하실 수 있습니다.\n",
    "\n",
    "**참고**\n",
    "\n",
    "LangChain Tools/Toolkits: https://python.langchain.com/docs/integrations/tools/\n"
   ]
  },
  {
   "cell_type": "markdown",
   "metadata": {},
   "source": [
    "### Python REPL 도구\n",
    "- 이 도구는 Python 코드를 REPL(Read-Eval-Print Loop) 환경에서 실행하기 위한 두 가지 주요 클래스를 제공합니다 - PythonREPLTool\n",
    "\n",
    "**설명**\n",
    "\n",
    "- Python 셸 환경을 제공합니다.\n",
    "- 유효한 Python 명령어를 입력으로 받아 실행합니다.\n",
    "- 결과를 보려면 print(...) 함수를 사용해야 합니다.\n",
    "\n",
    "**주요 특징**\n",
    "\n",
    "- sanitize_input: 입력을 정제하는 옵션 (기본값: True)\n",
    "- python_repl: PythonREPL 인스턴스 (기본값: 전역 범위에서 실행)\n",
    "\n",
    "**사용 방법**\n",
    "\n",
    "- PythonREPLTool 인스턴스 생성\n",
    "- run 또는 arun, invoke 메서드를 사용하여 Python 코드 실행\n",
    "\n",
    "**입력 정제**\n",
    "\n",
    "- 입력 문자열에서 불필요한 공백, 백틱, 'python' 키워드 등을 제거합니다."
   ]
  },
  {
   "cell_type": "code",
   "execution_count": 1,
   "metadata": {},
   "outputs": [
    {
     "data": {
      "text/plain": [
       "True"
      ]
     },
     "execution_count": 1,
     "metadata": {},
     "output_type": "execute_result"
    }
   ],
   "source": [
    "from dotenv import load_dotenv\n",
    "load_dotenv()"
   ]
  },
  {
   "cell_type": "code",
   "execution_count": 2,
   "metadata": {},
   "outputs": [
    {
     "name": "stdout",
     "output_type": "stream",
     "text": [
      "LangSmith 추적을 시작합니다.\n",
      "[프로젝트명]\n",
      "CH15-Tools\n"
     ]
    }
   ],
   "source": [
    "from langchain_teddynote import logging\n",
    "logging.langsmith(\"CH15-Tools\")"
   ]
  },
  {
   "cell_type": "code",
   "execution_count": 3,
   "metadata": {},
   "outputs": [],
   "source": [
    "import warnings\n",
    "warnings.filterwarnings(\"ignore\")"
   ]
  },
  {
   "cell_type": "code",
   "execution_count": 4,
   "metadata": {},
   "outputs": [
    {
     "name": "stderr",
     "output_type": "stream",
     "text": [
      "Python REPL can execute arbitrary code. Use with caution.\n"
     ]
    },
    {
     "name": "stdout",
     "output_type": "stream",
     "text": [
      "300\n",
      "\n"
     ]
    }
   ],
   "source": [
    "# PythonREPLTool : 파이썬 코드를 실행하게 하는 코드\n",
    "from langchain_experimental.tools import PythonREPLTool\n",
    "\n",
    "python_tool = PythonREPLTool()\n",
    "\n",
    "print(python_tool.invoke(\"print(100+200)\"))"
   ]
  },
  {
   "cell_type": "markdown",
   "metadata": {},
   "source": [
    "아래는 LLM 에게 파이썬 코드를 작성하도록 요청하고 결과를 반환하는 예제\n",
    "### 흐름 정리\n",
    "\n",
    "1. LLM 모델에게 특정 작업을 수행하는 Python 코드를 작성하도록 요청합니다.\n",
    "2. 작성된 코드를 실행하여 결과를 얻습니다.\n",
    "3. 결과를 출력합니다."
   ]
  },
  {
   "cell_type": "code",
   "execution_count": 11,
   "metadata": {},
   "outputs": [],
   "source": [
    "from langchain_openai import ChatOpenAI\n",
    "from langchain_core.prompts import ChatPromptTemplate\n",
    "from langchain_core.output_parsers import StrOutputParser\n",
    "from langchain_core.runnables import RunnableLambda\n",
    "\n",
    "def print_and_execute(code, debug=True):\n",
    "    if debug:\n",
    "        print(\"Code\")\n",
    "        print(code)\n",
    "\n",
    "    return python_tool.invoke(code)"
   ]
  },
  {
   "cell_type": "code",
   "execution_count": 12,
   "metadata": {},
   "outputs": [],
   "source": [
    "prompt = ChatPromptTemplate.from_messages(\n",
    "    [\n",
    "        (\n",
    "            \"system\",\n",
    "            \"You are Raymond Hetting, an expert python programmer, well versed in meta-programming and elegant, concise and short but well documented code. You follow the PEP8 style guide. \"\n",
    "            \"Return only the code, no intro, no explanation, no chatty, no markdown, no code block, no nothing. Just the code.\",\n",
    "        ),\n",
    "        (\"human\",\n",
    "         \"{input}\"\n",
    "         )\n",
    "    ]\n",
    ")\n",
    "\n",
    "llm = ChatOpenAI(model=\"gpt-4o-mini\", temperature=0)\n",
    "\n",
    "chain = prompt | llm | StrOutputParser() | RunnableLambda(print_and_execute)"
   ]
  },
  {
   "cell_type": "code",
   "execution_count": 13,
   "metadata": {},
   "outputs": [
    {
     "name": "stdout",
     "output_type": "stream",
     "text": [
      "Code\n",
      "import random\n",
      "\n",
      "def generate_lotto_numbers():\n",
      "    \"\"\"Generate a set of 6 unique lotto numbers from 1 to 45.\"\"\"\n",
      "    return sorted(random.sample(range(1, 46), 6))\n",
      "\n",
      "if __name__ == \"__main__\":\n",
      "    print(generate_lotto_numbers())\n"
     ]
    },
    {
     "data": {
      "text/plain": [
       "''"
      ]
     },
     "execution_count": 13,
     "metadata": {},
     "output_type": "execute_result"
    }
   ],
   "source": [
    "chain.invoke(\"로또 번호 생성기를 출력하느 코드를 작성하세요\")"
   ]
  },
  {
   "cell_type": "code",
   "execution_count": 14,
   "metadata": {},
   "outputs": [
    {
     "name": "stdout",
     "output_type": "stream",
     "text": [
      "[11, 12, 17, 20, 39, 43]\n"
     ]
    }
   ],
   "source": [
    "import random\n",
    "\n",
    "def generate_lotto_numbers():\n",
    "    \"\"\"Generate a set of 6 unique lotto numbers from 1 to 45.\"\"\"\n",
    "    return sorted(random.sample(range(1, 46), 6))\n",
    "\n",
    "if __name__ == \"__main__\":\n",
    "    print(generate_lotto_numbers())"
   ]
  },
  {
   "cell_type": "markdown",
   "metadata": {},
   "source": [
    "# TavilySearchResults\n",
    "- Tavily 검색 API를 쿼리하고 JSON 형식의 결과를 반환합니다.\n",
    "- 포괄적이고 정확하며 신뢰할 수 있는 결과에 최적화된 검색 엔진입니다.\n",
    "- 현재 이벤트에 대한 질문에 답변할 때 유용합니다.\n",
    "\n",
    "**주요 매개변수**\n",
    "\n",
    "- max_results (int): 반환할 최대 검색 결과 수 (기본값: 5)\n",
    "- search_depth (str): 검색 깊이 (\"basic\" 또는 \"advanced\") ??\n",
    "- include_domains (List[str]): 검색 결과에 포함할 도메인 목록\n",
    "- exclude_domains (List[str]): 검색 결과에서 제외할 도메인 목록\n",
    "- include_answer (bool): 원본 쿼리에 대한 짧은 답변 포함 여부\n",
    "- include_raw_content (bool): 각 사이트의 정제된 HTML 콘텐츠 포함 여부\n",
    "- include_images (bool): 쿼리 관련 이미지 목록 포함 여부\n",
    "\n",
    "**반환 값**\n",
    "\n",
    "- 검색 결과를 포함하는 JSON 형식의 문자열(url, content) 혹은 아래의 주석을 해제하고 발급받은 API 키를 입력합니다."
   ]
  },
  {
   "cell_type": "code",
   "execution_count": 16,
   "metadata": {},
   "outputs": [
    {
     "data": {
      "text/plain": [
       "[{'url': 'https://wikidocs.net/262582',\n",
       "  'content': '2 days ago · 도구(Tool)는 에이전트, 체인 또는 LLM이 외부 세계와 상호작용하기 위한 인터페이스입니다. LangChain 에서 기본 제공하는 도구를 사용하여 쉽게 도구를\\xa0...'},\n",
       " {'url': 'https://teddylee777.github.io/langchain/langchain-agent/',\n",
       "  'content': '태그:\\nAgent,\\nAPI KEY,\\nFAISS,\\nLangChain,\\nLangSmith,\\nmemory,\\nOpenAI,\\nPython,\\nRetriever,\\nTavily Search,\\ntools,\\n검색도구,\\n랭체인,\\n에이전트\\n카테고리:\\nlangchain\\n업데이트: 2024년 02월 09일\\n참고\\nLangChain RAG 파헤치기: 다음의 추적 링크에서 자세한 단계별 수행 결과를 확인할 수 있습니다\\nLangSmith 추적\\n다음의 추적 링크에서 자세한 단계별 수행 결과를 확인할 수 있습니다\\nLangSmith 추적\\n④ 메모리 추가하기\\n앞서 언급했듯이, 이 에이전트는 상태가 없습니다. LangChain 한국어 튜토리얼\\n바로가기 👀\\n[LangChain] 에이전트(Agent)와 도구(tools)를 활용한 지능형 검색 시스템 구축 가이드\\n2024년 02월 09일\\n41 분 소요\\n이 글에서는 LangChain 의 Agent 프레임워크를 활용하여 복잡한 검색과 📍 전체 템플릿 코드\\n다음의 추적 링크에서 자세한 단계별 수행 결과를 확인할 수 있습니다\\nLangSmith 추적\\n마무리입니다!\\n 문서 기반 QA 시스템 설계 방법 - 심화편\\n2024년 02월 06일\\n22 분 소요\\nLangChain의 RAG 시스템을 통해 문서(PDF, txt, 웹페이지 등)에 대한 질문-답변을 찾는 과정을 정리하였습니다.\\n'},\n",
       " {'url': 'https://13akstjq.github.io/TIL/post/2024-07-09-LLMStudyDiaryComprehensiveReviewofLangChainPart4',\n",
       "  'content': 'Memory. 원래 코드는 그대로 작동합니다. Langchain의 다양한 메모리 유형 목록에 대한 링크가 깨져 있어 찾아보았습니다. ... tools=toolkit, verbose=True) agent_executor\\xa0...'},\n",
       " {'url': 'https://wikidocs.net/233351',\n",
       "  'content': '또한 LangChain은 포맷하는 동안 렌더링할 메시지를 완전히 제어할 수 있는 MessagePlaceholder 를 제공합니다. 메시지 프롬프트 템플릿에 어떤 역할을 사용해야 할지 확실\\xa0...'},\n",
       " {'url': 'https://ncsoft.github.io/ncresearch/f4a00ed849299e3c91fb3244e74ea7f9b974ebb7',\n",
       "  'content': 'Jun 23, 2023 · LangChain은 이런 LLM을 좀 더 쉽게 사용할 수 있도록 개념들을 추상화하여, LLM을 사용하면서 편리할만한 패턴들을 규격화시킨 프레임워크입니다.'},\n",
       " {'url': 'https://13akstjq.github.io/TIL/post/2024-07-12-GenAIwithPythonLLMvsAgents',\n",
       "  'content': 'Jul 12, 2024 · 주요 라이브러리는 다음과 같습니다: LangChain — 거의 모든 LLM 기능을 포함하는 매쉬업 프레임워크입니다. Agent가 낮은 수준에서 코딩되어야 하는 경\\xa0...'}]"
      ]
     },
     "execution_count": 16,
     "metadata": {},
     "output_type": "execute_result"
    }
   ],
   "source": [
    "from langchain_community.tools.tavily_search import TavilySearchResults\n",
    "\n",
    "# 도구생성\n",
    "# tool = TavilySearchResults()\n",
    "\n",
    "tool = TavilySearchResults(\n",
    "    max_results=6,\n",
    "    include_answer=True,\n",
    "    include_raw_content=True,\n",
    "    # include_images=True, \n",
    "    # search_depth=\"advanced\", # or \"basic\"\n",
    "    include_domains=[\"github.io\", \"wikidocs.net\"],\n",
    "    # exclude_domains = []   \n",
    ")\n",
    "# 도구 실행\n",
    "tool.invoke({\"query\": \"LangChain Tools 에 대해서 알려주세요\"})"
   ]
  },
  {
   "cell_type": "markdown",
   "metadata": {},
   "source": [
    "# Image 생성 도구 (DALL-E)\n",
    "- DallEAPIWrapper 클래스: OpenAI의 DALL-E 이미지 생성기를 위한 래퍼(wrapper)입니다.\n",
    "이 도구를 사용하면 DALL-E API를 쉽게 통합하여 텍스트 기반 이미지 생성 기능을 구현할 수 있습니다. 다양한 설정 옵션을 통해 유연하고 강력한 이미지 생성 도구로 활용할 수 있습니다.\n",
    "\n",
    "**주요 속성**\n",
    "\n",
    "- model: 사용할 DALL-E 모델 이름 (기본값: \"dall-e-2\", \"dall-e-3\")\n",
    "\n",
    "- n: 생성할 이미지 수 (기본값: 1)\n",
    "\n",
    "- size: 생성할 이미지 크기\n",
    "\n",
    "    - \"dall-e-2\": \"1024x1024\", \"512x512\", \"256x256\"\n",
    "    - \"dall-e-3\": \"1024x1024\", \"1792x1024\", \"1024x1792\"\n",
    "- style: 생성될 이미지의 스타일 (기본값: \"natural\", \"vivid\")\n",
    "\n",
    "- quality: 생성될 이미지의 품질 (기본값: \"standard\", \"hd\")\n",
    "\n",
    "- max_retries: 생성 시 최대 재시도 횟수\n",
    "\n",
    "**주요 기능**\n",
    "\n",
    "- DALL-E API를 사용하여 텍스트 설명에 기반한 이미지 생성\n",
    "**흐름 정리**\n",
    "\n",
    "다음은 DALL-E Image Generator 를 사용하여 이미지를 생성하는 예제입니다.\n",
    "\n",
    "이번에는 DallEAPIWrapper 를 사용하여 이미지를 생성해 보겠습니다.\n",
    "\n",
    "이때 입력 프롬프트는 LLM 모델에게 이미지를 생성하는 프롬프트를 작성하도록 요청합니다."
   ]
  },
  {
   "cell_type": "code",
   "execution_count": 20,
   "metadata": {},
   "outputs": [
    {
     "name": "stdout",
     "output_type": "stream",
     "text": [
      "A portrait of King Sejong the Great, joyfully gazing at a scene celebrating Hangul Day. The background features colorful banners and traditional Korean decorations symbolizing the importance of the Korean language. Sejong, dressed in traditional royal attire, wears a serene and content expression, with a subtle smile playing on his lips. In one hand, he holds a stylized version of the Hangul alphabet, while the other hand gestures towards a group of diverse people, young and old, joyfully reading and writing in Hangul. The setting is a harmonious blend of historical and contemporary elements, showcasing both the beauty of traditional Korean culture and the vibrant spirit of modern society. Soft, warm lighting enhances the feeling of celebration and unity, making the scene both nostalgic and uplifting.\n"
     ]
    }
   ],
   "source": [
    "from langchain_core.output_parsers import StrOutputParser\n",
    "from langchain_core.prompts import PromptTemplate\n",
    "from langchain_openai import ChatOpenAI\n",
    "\n",
    "# ChatOpenAI 모델 초기화\n",
    "llm = ChatOpenAI(model=\"gpt-4o-mini\", temperature=0.9, max_tokens=1000)\n",
    "\n",
    "# DALL-E 이미지 생성을 위한 프롬프트 템플릿 정의\n",
    "prompt = PromptTemplate.from_template(\n",
    "    \"Generate a detailed IMAGE GENERATION prompt for DALL-E based on the following description. \"\n",
    "    \"Return only the prompt, no intro, no explanation, no chatty, no markdown, no code block, no nothing. Just the prompt\"\n",
    "    \"Output should be less than 1000 characters. Write in English only.\"\n",
    "    \"Image Description: \\n{image_desc}\",\n",
    ")\n",
    "\n",
    "# 프롬프트, LLM, 출력 파서를 연결하는 체인 생성\n",
    "chain = prompt | llm | StrOutputParser()\n",
    "\n",
    "# 체인 실행\n",
    "image_prompt = chain.invoke(\n",
    "    #{\"image_desc\": \"스마트폰을 바라보는 사람들을 풍자한 neo-classicism painting\"}\n",
    "    {\"image_desc\": \"한글날을 바라보며 흐뭇해하는 세종대왕 그림\"}\n",
    ")\n",
    "\n",
    "# 이미지 프롬프트 출력\n",
    "print(image_prompt)"
   ]
  },
  {
   "cell_type": "code",
   "execution_count": 21,
   "metadata": {},
   "outputs": [
    {
     "data": {
      "text/html": [
       "<img src=\"https://oaidalleapiprodscus.blob.core.windows.net/private/org-n8h6eTrPolQT4RTdz1CaZ4kB/user-QVxAcaAByhejj7ixYh2AuWQu/img-rnYkKjg2TMfep5cnSdPFmFQn.png?st=2024-10-09T13%3A39%3A41Z&se=2024-10-09T15%3A39%3A41Z&sp=r&sv=2024-08-04&sr=b&rscd=inline&rsct=image/png&skoid=d505667d-d6c1-4a0a-bac7-5c84a87759f8&sktid=a48cca56-e6da-484e-a814-9c849652bcb3&skt=2024-10-09T00%3A14%3A23Z&ske=2024-10-10T00%3A14%3A23Z&sks=b&skv=2024-08-04&sig=DQ6oOKCDhYdxqgn229c8Ss/CGeHha319c8iMXha5vjE%3D\" width=\"500\"/>"
      ],
      "text/plain": [
       "<IPython.core.display.Image object>"
      ]
     },
     "execution_count": 21,
     "metadata": {},
     "output_type": "execute_result"
    }
   ],
   "source": [
    "# DALL-E API 래퍼 가져오기\n",
    "from langchain_community.utilities.dalle_image_generator import DallEAPIWrapper\n",
    "from IPython.display import Image\n",
    "\n",
    "# DALL-E API 래퍼 초기화\n",
    "# model: 사용할 DALL-E 모델 버전\n",
    "# size: 생성할 이미지 크기\n",
    "# quality: 이미지 품질\n",
    "# n: 생성할 이미지 수\n",
    "dalle = DallEAPIWrapper(model=\"dall-e-3\", size=\"1024x1024\", quality=\"standard\", n=1)\n",
    "\n",
    "# 질문\n",
    "query = \"한글날을 바라보며 흐뭇해하는 세종대왕 그림\"\n",
    "\n",
    "# 이미지 생성 및 URL 받기\n",
    "# chain.invoke()를 사용하여 이미지 설명을 DALL-E 프롬프트로 변환\n",
    "# dalle.run()을 사용하여 실제 이미지 생성\n",
    "image_url = dalle.run(chain.invoke({\"image_desc\": query}))\n",
    "\n",
    "# 생성된 이미지를 표시합니다.\n",
    "Image(url=image_url, width=500)"
   ]
  },
  {
   "cell_type": "markdown",
   "metadata": {},
   "source": [
    "# 사용자 정의 도구(Custom Tool)\n",
    "LangChain 에서 제공하는 빌트인 도구 외에도 사용자가 직접 도구를 정의하여 사용할 수 있습니다.\n",
    "\n",
    "이를 위해서는 langchain.tools 모듈에서 제공하는 tool 데코레이터를 사용하여 함수를 도구로 변환합니다.\n",
    "\n",
    "### @tool 데코레이터\n",
    "이 데코레이터는 함수를 도구로 변환하는 기능을 제공합니다. 다양한 옵션을 통해 도구의 동작을 커스터마이즈할 수 있습니다.\n",
    "\n",
    "**사용 방법**\n",
    "\n",
    "1. 함수 위에 @tool 데코레이터 적용\n",
    "2. 필요에 따라 데코레이터 매개변수 설정\n",
    "\n",
    "이 데코레이터를 사용하면 일반 Python 함수를 강력한 도구로 쉽게 변환할 수 있으며, 자동화된 문서화와 유연한 인터페이스 생성이 가능합니다."
   ]
  },
  {
   "cell_type": "code",
   "execution_count": 22,
   "metadata": {},
   "outputs": [],
   "source": [
    "from langchain.tools import tool\n",
    "\n",
    "# 데코레이터를 사용하여 함수를 도구로 반환\n",
    "@tool\n",
    "def add_number(a:int, b:int) -> int:\n",
    "    \"\"\"Add tow number\"\"\"\n",
    "    return a+b\n",
    "\n",
    "@tool \n",
    "def mulply_numbers(a:int, b:int):\n",
    "    \"\"\"Multiply two numbers\"\"\"\n",
    "    return a*b"
   ]
  },
  {
   "cell_type": "code",
   "execution_count": 25,
   "metadata": {},
   "outputs": [
    {
     "data": {
      "text/plain": [
       "7"
      ]
     },
     "execution_count": 25,
     "metadata": {},
     "output_type": "execute_result"
    }
   ],
   "source": [
    "# 도구 실행\n",
    "add_number.invoke({\"a\":3, \"b\": \"4\"})"
   ]
  },
  {
   "cell_type": "code",
   "execution_count": 26,
   "metadata": {},
   "outputs": [
    {
     "data": {
      "text/plain": [
       "12"
      ]
     },
     "execution_count": 26,
     "metadata": {},
     "output_type": "execute_result"
    }
   ],
   "source": [
    "# 도구 실행\n",
    "mulply_numbers.invoke({\"a\":3, \"b\": \"4\"})"
   ]
  },
  {
   "cell_type": "markdown",
   "metadata": {},
   "source": [
    "# 구글 뉴스기사 검색 도구\n",
    "langchain-teddynote 패키지에서 제공하는 GoogleNews 도구를 사용하여 구글 뉴스기사를 검색하는 도구입니다.\n",
    "\n",
    "**참고**\n",
    "\n",
    "- API 키가 필요하지 않습니다. (RSS 피드를 사용하기 때문)\n",
    "news.google.com 에서 제공하는 뉴스기사를 검색하는 도구입니다.\n",
    "\n",
    "**설명**\n",
    "\n",
    "- 구글 뉴스 검색 API를 사용하여 최신 뉴스를 검색합니다.\n",
    "- 키워드를 기반으로 뉴스를 검색할 수 있습니다.\n",
    "- 최신 뉴스를 검색할 수 있습니다.\n",
    "\n",
    "**주요 매개변수**\n",
    "\n",
    "- k (int): 반환할 최대 검색 결과 수 (기본값: 5)\n",
    "사용하기 전 패키지를 업데이트 해주세요."
   ]
  },
  {
   "cell_type": "code",
   "execution_count": 27,
   "metadata": {},
   "outputs": [],
   "source": [
    "#!pip install -qU langchain-teddynote"
   ]
  },
  {
   "cell_type": "code",
   "execution_count": 28,
   "metadata": {},
   "outputs": [
    {
     "data": {
      "text/plain": [
       "[{'url': 'https://news.google.com/rss/articles/CBMidEFVX3lxTFBjQ2IzeEc0SnhPcDkyS25qaWpKMWQyMF9SbUtaTnFKLURqZ1g2LTNteURuVlNDS3VJYzJJbFVMSERZZ1A2REwwQXNSYmVSRWxtQ3RyTUhiSmhXaVA2YS1IazBMT0VVZUJpS2VoUUc1U3hWMk9G?oc=5',\n",
       "  'content': '[단독] 박완수 경남지사 쪽 “2021년 윤 자택 방문…명태균이 제안” - 한겨레'},\n",
       " {'url': 'https://news.google.com/rss/articles/CBMiUEFVX3lxTFBiNXhWMzZPNGVoM3FxRDU0dnpXQ1d2OEN3VVIxWENQZkM2YnduallWLXplUUQ2MHJPYmpMQl84SnZrZVBxd3AtUFliRnVDbGFl0gFTQVVfeXFMUFhRZER4WU42cEkwZjFOdGp4ZjRRWC1vdnpoLWN5YWpwVEhsSU1xU0JzMVFHV2Z5VWxqYVdJdTBCN0ZydkNEeS0wMElwZ1A4eUZ2NVU?oc=5',\n",
       "  'content': '북한 “한국 연결 도로·철도 영구 차단하고 요새화”...‘통일 삭제’ 언급 없이 개헌 - VOA Korea'},\n",
       " {'url': 'https://news.google.com/rss/articles/CBMigwFBVV95cUxQQzdYZm9zcHRGa1V1cURBSHRqRFNVQmtoYmluQjlUR00yWUlUY3pFem5IVjVhb1RMNWkwSkIyazdoOS1sQ0RaQmF4d3hvS0EtZzJwV2hJd2ZDcVdGR3lJUDM3NFM4TnduRDhmWVMtQ08tTHBBX0U4OVFhRHk2VnhISmRYa9IBlwFBVV95cUxQZUgyZy1Vam9ZM2VQdG9FN2pDMVFMWUJpd3U4Y3ZsVjRWNzUzYldrbGZlSUVNSTlUdTNQOHlsVWdSblBpUXhqd001T3kteFlvLXhyOTZHNmFCMDdfS2lpaTNqMjhfcVRBZm1Tdkg1aFltbE04SGpPRnNOZnBzUHlOdml1bXRkWGktcnJWblhTMy16Sy1XS0Zj?oc=5',\n",
       "  'content': 'AI, 노벨상도 장악… 화학상에 ‘구글 딥마인드’ 주역들 - 조선일보'},\n",
       " {'url': 'https://news.google.com/rss/articles/CBMieEFVX3lxTE83bEkwYTVxdlBEQXFqVThzcEx1YzdpVVd3cFNPOElwV0pJaXhZT2c4MlJZRnk5NV8wQzd3Q1E2OGtnY296LUd0YTlmT25rMW5zMVBJTGVjSXZRTFhyaHJmdjFlYmFpME5zaXV0WjNrVHR1UjlxQk9ZN9IBeEFVX3lxTFAxMFBwSUlmYXdhZ1BqZF9mRTMxTW9oR3FaaWppTmhtRXlPdkFfcEJsSmR5LXA3TzNvRjBVY0tnSllDZnFybklsc0R1cmYtX3ZFZTBDOWxjblVLeldFWEtyM3N6bmVVemJycnM2VktQcUhfS3ZvZTBzZA?oc=5',\n",
       "  'content': '\"국민들 짜증나\" 불만 터지자‥\"김여사 공개 활동 자제해야\" - MBC 뉴스'},\n",
       " {'url': 'https://news.google.com/rss/articles/CBMiakFVX3lxTE1POFNIaEN1MVNUWmZrQWxkNWxpeEl2Qzl3eUZfLW94OVh1bHczMlh2Z2tsS2M4UU91c09VcDlUdE5vOUlyRnk2MFVIX0x3WDNWT2Q5SlhUTHBfSkxSb3J2UzRUTHk4OGFiYkE?oc=5',\n",
       "  'content': '국회 무시하는 ‘김건희 국감’ 증인들…야권 동행명령장에 숨바꼭질 - 한겨레'}]"
      ]
     },
     "execution_count": 28,
     "metadata": {},
     "output_type": "execute_result"
    }
   ],
   "source": [
    "from langchain_teddynote.tools import GoogleNews\n",
    "news_tool=GoogleNews()\n",
    "news_tool.search_latest(k=5)"
   ]
  },
  {
   "cell_type": "code",
   "execution_count": 29,
   "metadata": {},
   "outputs": [
    {
     "data": {
      "text/plain": [
       "[{'url': 'https://news.google.com/rss/articles/CBMiWkFVX3lxTE1tdU1haE5HMTRQNXZxNXRYXzBBMDVrZHYyeXEyMzNqc05jaEVPLXlaYUZ2dEVjWEVjdGxfd2lsUTZySWV0bzh2X3dEVXVpR3BXMjN4dFlzUTM2d9IBVEFVX3lxTFBBWDMxcTloY2JnSzVDU1Q1TVJ3aTZkY2lUNFVjOFlDOWVXcF8zcG10eTMtSFkzMk1HazNObURJUFpPS2VCOGhYT0FCM2dndFpUek5OSQ?oc=5',\n",
       "  'content': '오펜하이머 \"MS,오픈AI 투자 손실 위험\"…\\'중립\\'하향 - 한국경제'},\n",
       " {'url': 'https://news.google.com/rss/articles/CBMiVkFVX3lxTFBaN3Z4eDhSNTBhamJPQ1hIb0pCeDdBR2N4dmpoQjJYZ1VYMkc0ZEFqN2lPREJNT3AtLTB3c3VHQTBrRHoxZ0JxcnNHcTZmb1JaOUxYZVBR?oc=5',\n",
       "  'content': '\"AI 인프라 구축력 인정\"…베슬에이아이, 158억원 투자 유치 - ZD넷 코리아'},\n",
       " {'url': 'https://news.google.com/rss/articles/CBMiW0FVX3lxTFBIYnl0dmFrRjBLYWdPRVk1QUtNM2NEQzB3RU1KN3BaZVdmTW42dDlwVlZlajNaSnliR2k0R2NhenRaUGItLVBFdzRXZTVqa21qN2V5cUttbVNKZEHSAV5BVV95cUxNcUVzNmltVl9UX29VU1N6dFVDcW4yU2IzQzMwQ3BsTm5veHM2VGJUUGtkQWw2WEktZzZ2aEJ4NmJtX25kbWt3bklzNlVqNE9RU0VpeC1lbS1Ga1pIZ1h3?oc=5',\n",
       "  'content': '\"엔비디아, 연말 추가 상승 전망…AI 투자 지속 기대\" - 연합뉴스'},\n",
       " {'url': 'https://news.google.com/rss/articles/CBMiU0FVX3lxTFB1VDRjTlIxeHRjV3NKaERHMFJLOFNpUlNUVnZzQ0JvOUpISVE2cW9rbTZPVU9lQXZuUURJNHF0aDZyaDdQM0F5NFhsc0NrN1dHNEZz?oc=5',\n",
       "  'content': '글로벌 CEO들 \"향후 3년 무조건 AI 투자···직원도 더 뽑을 것\" - 네이트 뉴스'},\n",
       " {'url': 'https://news.google.com/rss/articles/CBMicEFVX3lxTE0tUlB0Nm12Skd3aUFmVVlqRjlEVVREbkZHOFZIcmgzOW5TVFNkc184UWZpRGhpWHZvRGlHUTdJcTQwTnlhdjBhdGlTRFMyeE51LXQwVXBjajRWczI0cl9IeWJ1VGRQeGRIcnhBbG9GaWM?oc=5',\n",
       "  'content': 'AI 투자하고 반도체공장 짓고… 오일머니, ‘빅테크 연료’ 가 되다[Global Economy] - 문화일보'}]"
      ]
     },
     "execution_count": 29,
     "metadata": {},
     "output_type": "execute_result"
    }
   ],
   "source": [
    "# 키워드로 뉴스 검색\n",
    "news_tool.search_by_keyword(\"AI 투자\", k=5)"
   ]
  },
  {
   "cell_type": "code",
   "execution_count": 39,
   "metadata": {},
   "outputs": [],
   "source": [
    "from langchain_teddynote.tools import GoogleNews\n",
    "from langchain.tools import tool\n",
    "from typing import List, Dict\n",
    "\n",
    "@tool\n",
    "def search_keywrod(query: str) -> List[Dict[str, str]]:\n",
    "    \"\"\"Look up news by keyword\"\"\"\n",
    "    print(query)\n",
    "    news_tool = GoogleNews()\n",
    "    return news_tool.search_by_keyword(query, k=5)"
   ]
  },
  {
   "cell_type": "code",
   "execution_count": 40,
   "metadata": {},
   "outputs": [
    {
     "name": "stdout",
     "output_type": "stream",
     "text": [
      "AI투자\n"
     ]
    },
    {
     "data": {
      "text/plain": [
       "[{'url': 'https://news.google.com/rss/articles/CBMiVkFVX3lxTE9FdmQ4S2VSMmowbU0yYmVMRkxQNjk5Z2EzRGR5LWJFZVZuYVBvLUhoakYwd0tiM2tGczFfZm16TXJCbDYtbjI4eDg5WUlaVWRzeGx1X2F3?oc=5',\n",
       "  'content': '오펜하이머 \"MS,오픈AI 투자 손실 위험\"…\\'중립\\'하향 - 네이트 뉴스'},\n",
       " {'url': 'https://news.google.com/rss/articles/CBMiVkFVX3lxTFBaN3Z4eDhSNTBhamJPQ1hIb0pCeDdBR2N4dmpoQjJYZ1VYMkc0ZEFqN2lPREJNT3AtLTB3c3VHQTBrRHoxZ0JxcnNHcTZmb1JaOUxYZVBR?oc=5',\n",
       "  'content': '\"AI 인프라 구축력 인정\"…베슬에이아이, 158억원 투자 유치 - ZD넷 코리아'},\n",
       " {'url': 'https://news.google.com/rss/articles/CBMiW0FVX3lxTFBIYnl0dmFrRjBLYWdPRVk1QUtNM2NEQzB3RU1KN3BaZVdmTW42dDlwVlZlajNaSnliR2k0R2NhenRaUGItLVBFdzRXZTVqa21qN2V5cUttbVNKZEHSAV5BVV95cUxNcUVzNmltVl9UX29VU1N6dFVDcW4yU2IzQzMwQ3BsTm5veHM2VGJUUGtkQWw2WEktZzZ2aEJ4NmJtX25kbWt3bklzNlVqNE9RU0VpeC1lbS1Ga1pIZ1h3?oc=5',\n",
       "  'content': '\"엔비디아, 연말 추가 상승 전망…AI 투자 지속 기대\" - 연합뉴스'},\n",
       " {'url': 'https://news.google.com/rss/articles/CBMiTkFVX3lxTE5mMVQ1aGpDQlRDRGh1UkU2VnhhN0lJMl9tN0Q3VTRMZ3RfdFlOekZrelVBTUlvRzFBRHBfYlhObkpKSVF4dTlHUVc3alpLZw?oc=5',\n",
       "  'content': '베슬에이아이, 158억 규모 시리즈 A 투자 유치 - 전자신문'},\n",
       " {'url': 'https://news.google.com/rss/articles/CBMicEFVX3lxTE0tUlB0Nm12Skd3aUFmVVlqRjlEVVREbkZHOFZIcmgzOW5TVFNkc184UWZpRGhpWHZvRGlHUTdJcTQwTnlhdjBhdGlTRFMyeE51LXQwVXBjajRWczI0cl9IeWJ1VGRQeGRIcnhBbG9GaWM?oc=5',\n",
       "  'content': 'AI 투자하고 반도체공장 짓고… 오일머니, ‘빅테크 연료’ 가 되다[Global Economy] - 문화일보'}]"
      ]
     },
     "execution_count": 40,
     "metadata": {},
     "output_type": "execute_result"
    }
   ],
   "source": [
    "search_keywrod.invoke({\"query\": \"AI투자\"})"
   ]
  },
  {
   "cell_type": "code",
   "execution_count": 41,
   "metadata": {},
   "outputs": [
    {
     "name": "stdout",
     "output_type": "stream",
     "text": [
      "투자가치 있는 주식\n"
     ]
    },
    {
     "data": {
      "text/plain": [
       "[{'url': 'https://news.google.com/rss/articles/CBMickFVX3lxTE9iM1pxaWNScHdUWXcyNFBFSzU3a2wxZlRFNlVEWENkOFFoSDctdHVkbU10MHlNZVowc2YwaVVuQ05RV0RIYnNwYkhJTzhLYlExN1N0Ti1xVF82SExCZzl1bjdLQ0Etanc0dlJORnh1Zk5MQQ?oc=5',\n",
       "  'content': '미 증시 고공행진에도 현금 계속 쌓는 기업인들...왜? - 오피니언뉴스'},\n",
       " {'url': 'https://news.google.com/rss/articles/CBMiUkFVX3lxTE96S0hUejFMTG5rODN5bndqY2J3QzlreTJOaC1xSUV1SFdLU3A2cUhkbmdfR3F0RkdtaGVTVXdyTGp5ZG12NGotSU9sNHRyVmNyM1E?oc=5',\n",
       "  'content': '中의 쩐해전술 부양책 … 해외주식 간접투자로 즐긴다 - 매일경제'},\n",
       " {'url': 'https://news.google.com/rss/articles/CBMiW0FVX3lxTE1VV3Y5LWNCcWJEcWI4a0hJMkMxcGk2Z0JCbEZNQ0NmYlhlTGRPQ19TVnZXemcwWHBHanBUZVZiWHc3Uksyd3Jfa2lOUlo3VUV3cFMzYmRJTTgtSXM?oc=5',\n",
       "  'content': '지배구조가 밸류업과 무슨 상관이냐는 대한상의 - 에너지경제'},\n",
       " {'url': 'https://news.google.com/rss/articles/CBMiWkFVX3lxTE4wVUxWQy1WQVl0aUtTeEpyZ3pmdWlDWXcwaHFjT0F5YjJENEl3MV83LVl4SFI5THhTM2NGRFBqeVNOYk5RbGNrYjVITVBUNi1seEc4OTdJeTNnQdIBVEFVX3lxTE9vVEhQeWpaUWJCMkNFSlkxRW1sYmxaRXpsdjRBbkJOLUZFTWhGcnBfejFxSU5RRjc5MVBYOWRiQVZzZU5lLUw3VWlTd211d2htTGQ2VA?oc=5',\n",
       "  'content': '현재 주가 대비 적정가치 상당히 높은 10달러 미만 최고의 주식 10종목 - 한국경제'},\n",
       " {'url': 'https://news.google.com/rss/articles/CBMicEFVX3lxTE9US1RTOTRWQTV2LUlZZjRJTEZ5Zlk5NmZYbFZKOVU3MW5zUWtPLWE3ZGtiOHVPbTRocmhLSk1uNlU2VXVHU2N4dFduZGdsSDYzWkZQNTdEZUlmR1N1NE02V0dOZC1MMW00YUR2THJhNUM?oc=5',\n",
       "  'content': '[원더 인터뷰] \"현대차의 KT 지분 소유가 단순투자 목적? 소가 웃을 일\" By 인포스탁데일리 - Investing.com'}]"
      ]
     },
     "execution_count": 41,
     "metadata": {},
     "output_type": "execute_result"
    }
   ],
   "source": [
    "search_keywrod.invoke({\"query\": \"투자가치 있는 주식\"})"
   ]
  },
  {
   "cell_type": "code",
   "execution_count": null,
   "metadata": {},
   "outputs": [],
   "source": []
  },
  {
   "cell_type": "code",
   "execution_count": 35,
   "metadata": {},
   "outputs": [
    {
     "name": "stderr",
     "output_type": "stream",
     "text": [
      "C:\\Users\\skyop\\AppData\\Local\\Temp\\ipykernel_15588\\1209353012.py:7: LangChainDeprecationWarning: The function `initialize_agent` was deprecated in LangChain 0.1.0 and will be removed in 1.0. Use Use new agent constructor methods like create_react_agent, create_json_agent, create_structured_chat_agent, etc. instead.\n",
      "  agent_chain = initialize_agent(\n"
     ]
    }
   ],
   "source": [
    "from langchain.agents import AgentType, initialize_agent\n",
    "from langchain_community.tools.yahoo_finance_news import YahooFinanceNewsTool\n",
    "from langchain_openai import ChatOpenAI\n",
    "\n",
    "llm = ChatOpenAI(temperature=0.0)\n",
    "tools = [YahooFinanceNewsTool()]\n",
    "agent_chain = initialize_agent(\n",
    "    tools,\n",
    "    llm,\n",
    "    agent=AgentType.ZERO_SHOT_REACT_DESCRIPTION,\n",
    "    verbose=True,\n",
    ")"
   ]
  },
  {
   "cell_type": "code",
   "execution_count": 36,
   "metadata": {},
   "outputs": [
    {
     "name": "stdout",
     "output_type": "stream",
     "text": [
      "\n",
      "\n",
      "\u001b[1m> Entering new AgentExecutor chain...\u001b[0m\n",
      "\u001b[32;1m\u001b[1;3mI should check the latest financial news about Intel to get an idea of how the stock is performing.\n",
      "Action: yahoo_finance_news\n",
      "Action Input: INTC\u001b[0m\n",
      "Observation: \u001b[36;1m\u001b[1;3mIntel Corporation (INTC) Navigates Qualcomm Acquisition Rumors and Antitrust Concerns While Securing Multi-Billion Dollar Deal with AWS for Custom Xeon Chips\n",
      "We recently compiled a list of the 35 AI Superstars According to Goldman Sachs. In this article, we are going to take a look at where Intel Corporation (NASDAQ:INTC) stands against the other AI superstars according to Goldman Sachs. US technology stocks have surged dramatically this year, largely driven by the growing excitement surrounding generative artificial […]\u001b[0m\n",
      "Thought:\u001b[32;1m\u001b[1;3mBased on the news, it seems like Intel is navigating some challenges but also securing significant deals.\n",
      "Action: yahoo_finance_news\n",
      "Action Input: INTC\u001b[0m\n",
      "Observation: \u001b[36;1m\u001b[1;3mIntel Corporation (INTC) Navigates Qualcomm Acquisition Rumors and Antitrust Concerns While Securing Multi-Billion Dollar Deal with AWS for Custom Xeon Chips\n",
      "We recently compiled a list of the 35 AI Superstars According to Goldman Sachs. In this article, we are going to take a look at where Intel Corporation (NASDAQ:INTC) stands against the other AI superstars according to Goldman Sachs. US technology stocks have surged dramatically this year, largely driven by the growing excitement surrounding generative artificial […]\u001b[0m\n",
      "Thought:\u001b[32;1m\u001b[1;3mThe news suggests that Intel is actively involved in the tech industry and making strategic moves.\n",
      "Final Answer: Based on the recent financial news, Intel seems to be navigating challenges while also securing significant deals, indicating a dynamic position in the market.\u001b[0m\n",
      "\n",
      "\u001b[1m> Finished chain.\u001b[0m\n"
     ]
    },
    {
     "data": {
      "text/plain": [
       "{'input': '인텔 주식은 최근에 어때?',\n",
       " 'output': 'Based on the recent financial news, Intel seems to be navigating challenges while also securing significant deals, indicating a dynamic position in the market.'}"
      ]
     },
     "execution_count": 36,
     "metadata": {},
     "output_type": "execute_result"
    }
   ],
   "source": [
    "agent_chain.invoke(\n",
    "    \"인텔 주식은 최근에 어때?\"\n",
    ")"
   ]
  },
  {
   "cell_type": "code",
   "execution_count": 37,
   "metadata": {},
   "outputs": [
    {
     "name": "stdout",
     "output_type": "stream",
     "text": [
      "\n",
      "\n",
      "\u001b[1m> Entering new AgentExecutor chain...\u001b[0m\n",
      "\u001b[32;1m\u001b[1;3m인텔 주식에 대한 최신 정보를 알아야 한다. 이 정보를 토대로 투자할 가치를 판단할 수 있다.\n",
      "Action: yahoo_finance_news\n",
      "Action Input: INTC\u001b[0m\n",
      "Observation: \u001b[36;1m\u001b[1;3mIntel Corporation (INTC) Navigates Qualcomm Acquisition Rumors and Antitrust Concerns While Securing Multi-Billion Dollar Deal with AWS for Custom Xeon Chips\n",
      "We recently compiled a list of the 35 AI Superstars According to Goldman Sachs. In this article, we are going to take a look at where Intel Corporation (NASDAQ:INTC) stands against the other AI superstars according to Goldman Sachs. US technology stocks have surged dramatically this year, largely driven by the growing excitement surrounding generative artificial […]\u001b[0m\n",
      "Thought:\u001b[32;1m\u001b[1;3m인텔 주식은 Qualcomm 인수 소문과 반독점 우려를 겪고 있지만 AWS와의 수십억 달러 거래를 확보하고 있다. 최신 정보를 토대로 투자할 가치를 판단해야 한다.\n",
      "Action: yahoo_finance_news\n",
      "Action Input: INTC\u001b[0m\n",
      "Observation: \u001b[36;1m\u001b[1;3mIntel Corporation (INTC) Navigates Qualcomm Acquisition Rumors and Antitrust Concerns While Securing Multi-Billion Dollar Deal with AWS for Custom Xeon Chips\n",
      "We recently compiled a list of the 35 AI Superstars According to Goldman Sachs. In this article, we are going to take a look at where Intel Corporation (NASDAQ:INTC) stands against the other AI superstars according to Goldman Sachs. US technology stocks have surged dramatically this year, largely driven by the growing excitement surrounding generative artificial […]\u001b[0m\n",
      "Thought:\u001b[32;1m\u001b[1;3m인텔 주식은 현재 Qualcomm 인수 소문과 AWS와의 거래 등 다양한 요인에 영향을 받고 있다. 향후 주가 변동을 예측하고 투자할 가치를 판단해야 한다.\n",
      "Final Answer: 인텔 주식은 현재 다양한 요인에 영향을 받고 있으며, 향후 주가 변동을 예측하여 투자할 가치를 판단해야 한다.\u001b[0m\n",
      "\n",
      "\u001b[1m> Finished chain.\u001b[0m\n"
     ]
    },
    {
     "data": {
      "text/plain": [
       "{'input': '인텔 주식에 대한 동향을 알려줘. 그리고 투자할 가치가 있는지 판단해줘. 한국어로 답해줘',\n",
       " 'output': '인텔 주식은 현재 다양한 요인에 영향을 받고 있으며, 향후 주가 변동을 예측하여 투자할 가치를 판단해야 한다.'}"
      ]
     },
     "execution_count": 37,
     "metadata": {},
     "output_type": "execute_result"
    }
   ],
   "source": [
    "agent_chain.invoke(\n",
    "    \"인텔 주식에 대한 동향을 알려줘. 그리고 투자할 가치가 있는지 판단해줘. 한국어로 답해줘\"\n",
    ")"
   ]
  },
  {
   "cell_type": "code",
   "execution_count": 38,
   "metadata": {},
   "outputs": [
    {
     "name": "stdout",
     "output_type": "stream",
     "text": [
      "\n",
      "\n",
      "\u001b[1m> Entering new AgentExecutor chain...\u001b[0m\n",
      "\u001b[32;1m\u001b[1;3mI should check the latest financial news about Intel to see how their stock is performing today.\n",
      "Action: yahoo_finance_news\n",
      "Action Input: INTC\u001b[0m\n",
      "Observation: \u001b[36;1m\u001b[1;3mIntel Corporation (INTC) Navigates Qualcomm Acquisition Rumors and Antitrust Concerns While Securing Multi-Billion Dollar Deal with AWS for Custom Xeon Chips\n",
      "We recently compiled a list of the 35 AI Superstars According to Goldman Sachs. In this article, we are going to take a look at where Intel Corporation (NASDAQ:INTC) stands against the other AI superstars according to Goldman Sachs. US technology stocks have surged dramatically this year, largely driven by the growing excitement surrounding generative artificial […]\u001b[0m\n",
      "Thought:\u001b[32;1m\u001b[1;3mI should check the latest financial news about Intel to see how their stock is performing today.\n",
      "Action: yahoo_finance_news\n",
      "Action Input: INTC\u001b[0m\n",
      "Observation: \u001b[36;1m\u001b[1;3mIntel Corporation (INTC) Navigates Qualcomm Acquisition Rumors and Antitrust Concerns While Securing Multi-Billion Dollar Deal with AWS for Custom Xeon Chips\n",
      "We recently compiled a list of the 35 AI Superstars According to Goldman Sachs. In this article, we are going to take a look at where Intel Corporation (NASDAQ:INTC) stands against the other AI superstars according to Goldman Sachs. US technology stocks have surged dramatically this year, largely driven by the growing excitement surrounding generative artificial […]\u001b[0m\n",
      "Thought:\u001b[32;1m\u001b[1;3mI have checked the latest financial news about Intel and their stock is navigating through acquisition rumors and antitrust concerns while securing a multi-billion dollar deal with AWS for custom Xeon chips.\n",
      "Final Answer: Intel's stock is currently navigating through various challenges and opportunities.\u001b[0m\n",
      "\n",
      "\u001b[1m> Finished chain.\u001b[0m\n"
     ]
    },
    {
     "data": {
      "text/plain": [
       "{'input': '오늘 인텔 주식은 어떻게 됐어?',\n",
       " 'output': \"Intel's stock is currently navigating through various challenges and opportunities.\"}"
      ]
     },
     "execution_count": 38,
     "metadata": {},
     "output_type": "execute_result"
    }
   ],
   "source": [
    "agent_chain.invoke(\n",
    "    \"오늘 인텔 주식은 어떻게 됐어?\"\n",
    ")"
   ]
  },
  {
   "cell_type": "code",
   "execution_count": null,
   "metadata": {},
   "outputs": [],
   "source": []
  }
 ],
 "metadata": {
  "kernelspec": {
   "display_name": "langchain-kr-gLkynrUQ-py3.11",
   "language": "python",
   "name": "python3"
  },
  "language_info": {
   "codemirror_mode": {
    "name": "ipython",
    "version": 3
   },
   "file_extension": ".py",
   "mimetype": "text/x-python",
   "name": "python",
   "nbconvert_exporter": "python",
   "pygments_lexer": "ipython3",
   "version": "3.11.9"
  }
 },
 "nbformat": 4,
 "nbformat_minor": 2
}
