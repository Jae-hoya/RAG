{
 "cells": [
  {
   "cell_type": "markdown",
   "metadata": {},
   "source": [
    "https://python.langchain.com/docs/integrations/tools/arxiv/"
   ]
  },
  {
   "cell_type": "code",
   "execution_count": 1,
   "metadata": {},
   "outputs": [
    {
     "data": {
      "text/plain": [
       "True"
      ]
     },
     "execution_count": 1,
     "metadata": {},
     "output_type": "execute_result"
    }
   ],
   "source": [
    "from dotenv import load_dotenv\n",
    "load_dotenv()"
   ]
  },
  {
   "cell_type": "code",
   "execution_count": 6,
   "metadata": {},
   "outputs": [],
   "source": [
    "from langchain import hub\n",
    "from langchain.agents import AgentExecutor, create_react_agent, load_tools\n",
    "from langchain_openai import ChatOpenAI\n",
    "\n",
    "llm = ChatOpenAI(model=\"gpt-4o-mini\", temperature=0)\n",
    "tools = load_tools([\"arxiv\"])\n",
    "\n",
    "prompt = hub.pull(\"hwchase17/react\")\n",
    "\n",
    "agent = create_react_agent(llm, tools, prompt)\n",
    "agent_executor = AgentExecutor(agent=agent, tools=tools, verbose=True, max_iterations=10)"
   ]
  },
  {
   "cell_type": "code",
   "execution_count": 7,
   "metadata": {},
   "outputs": [
    {
     "name": "stdout",
     "output_type": "stream",
     "text": [
      "\n",
      "\n",
      "\u001b[1m> Entering new AgentExecutor chain...\u001b[0m\n",
      "\u001b[32;1m\u001b[1;3m이 논문에 대한 정보를 찾기 위해 arXiv에서 해당 논문의 내용을 검색해야 합니다. \n",
      "Action: arxiv\n",
      "Action Input: 2401.15884\u001b[0m\u001b[36;1m\u001b[1;3mPublished: 2024-10-07\n",
      "Title: Corrective Retrieval Augmented Generation\n",
      "Authors: Shi-Qi Yan, Jia-Chen Gu, Yun Zhu, Zhen-Hua Ling\n",
      "Summary: Large language models (LLMs) inevitably exhibit hallucinations since the\n",
      "accuracy of generated texts cannot be secured solely by the parametric\n",
      "knowledge they encapsulate. Although retrieval-augmented generation (RAG) is a\n",
      "practicable complement to LLMs, it relies heavily on the relevance of retrieved\n",
      "documents, raising concerns about how the model behaves if retrieval goes\n",
      "wrong. To this end, we propose the Corrective Retrieval Augmented Generation\n",
      "(CRAG) to improve the robustness of generation. Specifically, a lightweight\n",
      "retrieval evaluator is designed to assess the overall quality of retrieved\n",
      "documents for a query, returning a confidence degree based on which different\n",
      "knowledge retrieval actions can be triggered. Since retrieval from static and\n",
      "limited corpora can only return sub-optimal documents, large-scale web searches\n",
      "are utilized as an extension for augmenting the retrieval results. Besides, a\n",
      "decompose-then-recompose algorithm is designed for retrieved documents to\n",
      "selectively focus on key information and filter out irrelevant information in\n",
      "them. CRAG is plug-and-play and can be seamlessly coupled with various\n",
      "RAG-based approaches. Experiments on four datasets covering short- and\n",
      "long-form generation tasks show that CRAG can significantly improve the\n",
      "performance of RAG-based approaches.\u001b[0m\u001b[32;1m\u001b[1;3m이 논문의 내용을 요약할 수 있습니다. \n",
      "Final Answer: 이 논문은 \"Corrective Retrieval Augmented Generation\" (CRAG)이라는 새로운 접근 방식을 제안합니다. CRAG는 대형 언어 모델(LLM)이 생성하는 텍스트의 정확성을 높이기 위해 설계되었습니다. LLM은 종종 환각을 일으키며, 이는 단순히 모델이 내포한 매개변수 지식만으로는 해결할 수 없습니다. CRAG는 검색된 문서의 관련성에 의존하는 기존의 검색 보강 생성(RAG) 방식의 한계를 극복하기 위해, 쿼리에 대한 검색된 문서의 전반적인 품질을 평가하는 경량 검색 평가기를 설계했습니다. 이 평가기는 신뢰도를 반환하여 다양한 지식 검색 작업을 트리거할 수 있습니다. 또한, 정적이고 제한된 코퍼스에서의 검색은 최적의 문서만 반환할 수 있기 때문에, 대규모 웹 검색을 통해 검색 결과를 보강합니다. 마지막으로, 검색된 문서에서 핵심 정보에 집중하고 관련 없는 정보를 필터링하는 '분해-재조합' 알고리즘이 설계되었습니다. CRAG는 다양한 RAG 기반 접근 방식과 원활하게 결합될 수 있으며, 여러 데이터셋에서 실험을 통해 RAG 기반 접근 방식의 성능을 크게 향상시킬 수 있음을 보여주었습니다.\u001b[0m\n",
      "\n",
      "\u001b[1m> Finished chain.\u001b[0m\n",
      "{'input': '2401.15884논문 한국어로 정리해서 알려줘', 'output': '이 논문은 \"Corrective Retrieval Augmented Generation\" (CRAG)이라는 새로운 접근 방식을 제안합니다. CRAG는 대형 언어 모델(LLM)이 생성하는 텍스트의 정확성을 높이기 위해 설계되었습니다. LLM은 종종 환각을 일으키며, 이는 단순히 모델이 내포한 매개변수 지식만으로는 해결할 수 없습니다. CRAG는 검색된 문서의 관련성에 의존하는 기존의 검색 보강 생성(RAG) 방식의 한계를 극복하기 위해, 쿼리에 대한 검색된 문서의 전반적인 품질을 평가하는 경량 검색 평가기를 설계했습니다. 이 평가기는 신뢰도를 반환하여 다양한 지식 검색 작업을 트리거할 수 있습니다. 또한, 정적이고 제한된 코퍼스에서의 검색은 최적의 문서만 반환할 수 있기 때문에, 대규모 웹 검색을 통해 검색 결과를 보강합니다. 마지막으로, 검색된 문서에서 핵심 정보에 집중하고 관련 없는 정보를 필터링하는 \\'분해-재조합\\' 알고리즘이 설계되었습니다. CRAG는 다양한 RAG 기반 접근 방식과 원활하게 결합될 수 있으며, 여러 데이터셋에서 실험을 통해 RAG 기반 접근 방식의 성능을 크게 향상시킬 수 있음을 보여주었습니다.'}\n"
     ]
    }
   ],
   "source": [
    "response = agent_executor.invoke(\n",
    "    {\n",
    "        \"input\": \"2401.15884논문 한국어로 정리해서 알려줘\",\n",
    "    }\n",
    ")\n",
    "\n",
    "print(response)"
   ]
  },
  {
   "cell_type": "code",
   "execution_count": 8,
   "metadata": {},
   "outputs": [
    {
     "name": "stdout",
     "output_type": "stream",
     "text": [
      "\n",
      "\n",
      "\u001b[1m> Entering new AgentExecutor chain...\u001b[0m\n",
      "\u001b[32;1m\u001b[1;3m이 논문에 대한 정보를 찾기 위해 \"Corrective Retrieval Augmented Generation\"이라는 키워드로 arXiv에서 검색해 보겠습니다. \n",
      "Action: arxiv\n",
      "Action Input: Corrective Retrieval Augmented Generation\u001b[0m\u001b[36;1m\u001b[1;3mPublished: 2024-10-07\n",
      "Title: Corrective Retrieval Augmented Generation\n",
      "Authors: Shi-Qi Yan, Jia-Chen Gu, Yun Zhu, Zhen-Hua Ling\n",
      "Summary: Large language models (LLMs) inevitably exhibit hallucinations since the\n",
      "accuracy of generated texts cannot be secured solely by the parametric\n",
      "knowledge they encapsulate. Although retrieval-augmented generation (RAG) is a\n",
      "practicable complement to LLMs, it relies heavily on the relevance of retrieved\n",
      "documents, raising concerns about how the model behaves if retrieval goes\n",
      "wrong. To this end, we propose the Corrective Retrieval Augmented Generation\n",
      "(CRAG) to improve the robustness of generation. Specifically, a lightweight\n",
      "retrieval evaluator is designed to assess the overall quality of retrieved\n",
      "documents for a query, returning a confidence degree based on which different\n",
      "knowledge retrieval actions can be triggered. Since retrieval from static and\n",
      "limited corpora can only return sub-optimal documents, large-scale web searches\n",
      "are utilized as an extension for augmenting the retrieval results. Besides, a\n",
      "decompose-then-recompose algorithm is designed for retrieved documents to\n",
      "selectively focus on key information and filter out irrelevant information in\n",
      "them. CRAG is plug-and-play and can be seamlessly coupled with various\n",
      "RAG-based approaches. Experiments on four datasets covering short- and\n",
      "long-form generation tasks show that CRAG can significantly improve the\n",
      "performance of RAG-based approaches.\n",
      "\n",
      "Published: 2024-05-29\n",
      "Title: A Multi-Source Retrieval Question Answering Framework Based on RAG\n",
      "Authors: Ridong Wu, Shuhong Chen, Xiangbiao Su, Yuankai Zhu, Yifei Liao, Jianming Wu\n",
      "Summary: With the rapid development of large-scale language models,\n",
      "Retrieval-Augmented Generation (RAG) has been widely adopted. However, existing\n",
      "RAG paradigms are inevitably influenced by erroneous retrieval information,\n",
      "thereby reducing the reliability and correctness of generated results.\n",
      "Therefore, to improve the relevance of retrieval information, this study\n",
      "proposes a method that replaces traditional retrievers with GPT-3.5, leveraging\n",
      "its vast corpus knowledge to generate retrieval information. We also propose a\n",
      "web retrieval based method to implement fine-grained knowledge retrieval,\n",
      "Utilizing the powerful reasoning capability of GPT-3.5 to realize semantic\n",
      "partitioning of problem.In order to mitigate the illusion of GPT retrieval and\n",
      "reduce noise in Web retrieval,we proposes a multi-source retrieval framework,\n",
      "named MSRAG, which combines GPT retrieval with web retrieval. Experiments on\n",
      "multiple knowledge-intensive QA datasets demonstrate that the proposed\n",
      "framework in this study performs better than existing RAG framework in\n",
      "enhancing the overall efficiency and accuracy of QA systems.\n",
      "\n",
      "Published: 2024-10-08\n",
      "Title: Retrieving, Rethinking and Revising: The Chain-of-Verification Can Improve Retrieval Augmented Generation\n",
      "Authors: Bolei He, Nuo Chen, Xinran He, Lingyong Yan, Zhenkai Wei, Jinchang Luo, Zhen-Hua Ling\n",
      "Summary: Recent Retrieval Augmented Generation (RAG) aims to enhance Large Language\n",
      "Models (LLMs) by incorporating extensive knowledge retrieved from external\n",
      "sources. However, such approach encounters some challenges: Firstly, the\n",
      "original queries may not be suitable for precise retrieval, resulting in\n",
      "erroneous contextual knowledge; Secondly, the language model can easily\n",
      "generate inconsistent answer with external references due to their knowledge\n",
      "boundary limitation. To address these issues, we propose the\n",
      "chain-of-verification (CoV-RAG) to enhance the external retrieval correctness\n",
      "and internal generation consistency. Specifically, we integrate the\n",
      "verification module into the RAG, engaging in scoring, judgment, and rewriting.\n",
      "To correct external retrieval errors, CoV-RAG retrieves new knowledge using a\n",
      "revised query. To correct internal generation errors, we unify QA and\n",
      "verification tasks with a Chain-of-Thought (CoT) reasoning during training. Our\n",
      "comprehensive experiments across various LLMs \u001b[0m\u001b[32;1m\u001b[1;3m이 논문은 \"Corrective Retrieval Augmented Generation\" (CRAG)이라는 새로운 접근 방식을 제안합니다. CRAG는 대형 언어 모델(LLM)이 생성하는 텍스트의 정확성을 보장하기 위해, 검색된 문서의 품질을 평가하는 경량 검색 평가기를 설계하여 생성의 강건성을 향상시키는 방법입니다. 이 방법은 검색이 잘못될 경우 모델의 동작에 대한 우려를 해결하고, 정적이고 제한된 코퍼스에서 검색된 문서가 최적이 아닐 수 있음을 인식하여 대규모 웹 검색을 활용하여 검색 결과를 보강합니다. 또한, 검색된 문서에서 핵심 정보를 선택적으로 집중하고 관련 없는 정보를 필터링하는 '분해-재조합' 알고리즘을 설계하였습니다. CRAG는 다양한 RAG 기반 접근 방식과 원활하게 결합될 수 있으며, 여러 데이터셋에서 실험을 통해 RAG 기반 접근 방식의 성능을 크게 향상시킬 수 있음을 보여주었습니다.\n",
      "\n",
      "Final Answer: \"Corrective Retrieval Augmented Generation\" (CRAG) 논문은 대형 언어 모델의 생성 강건성을 향상시키기 위해 검색된 문서의 품질을 평가하고, 대규모 웹 검색을 활용하여 검색 결과를 보강하는 방법을 제안합니다. CRAG는 다양한 RAG 기반 접근 방식과 결합 가능하며, 실험을 통해 성능 향상을 입증하였습니다.\u001b[0m\n",
      "\n",
      "\u001b[1m> Finished chain.\u001b[0m\n",
      "{'input': 'Corrective Retrieval Augmented Generation 논문 한국어로 정리해서 알려줘', 'output': '\"Corrective Retrieval Augmented Generation\" (CRAG) 논문은 대형 언어 모델의 생성 강건성을 향상시키기 위해 검색된 문서의 품질을 평가하고, 대규모 웹 검색을 활용하여 검색 결과를 보강하는 방법을 제안합니다. CRAG는 다양한 RAG 기반 접근 방식과 결합 가능하며, 실험을 통해 성능 향상을 입증하였습니다.'}\n"
     ]
    }
   ],
   "source": [
    "response = agent_executor.invoke(\n",
    "    {\n",
    "        \"input\": \"Corrective Retrieval Augmented Generation 논문 한국어로 정리해서 알려줘\",\n",
    "    }\n",
    ")\n",
    "\n",
    "print(response)"
   ]
  },
  {
   "cell_type": "code",
   "execution_count": 10,
   "metadata": {},
   "outputs": [
    {
     "name": "stdout",
     "output_type": "stream",
     "text": [
      "\n",
      "\n",
      "\u001b[1m> Entering new AgentExecutor chain...\u001b[0m\n",
      "\u001b[32;1m\u001b[1;3mRAG (Retrieval-Augmented Generation) is a popular topic in the field of natural language processing and machine learning. To find popular papers on this topic, I will search for recent and influential papers related to RAG on arXiv. \n",
      "\n",
      "Action: arxiv  \n",
      "Action Input: \"Retrieval-Augmented Generation\"  \n",
      "\u001b[0m\u001b[36;1m\u001b[1;3mNo good Arxiv Result was found\u001b[0m\u001b[32;1m\u001b[1;3mIt seems that the search did not yield any relevant results for \"Retrieval-Augmented Generation.\" I will try a broader search term that might capture more papers related to RAG, such as \"RAG\" or \"Retrieval-Augmented.\" \n",
      "\n",
      "Action: arxiv  \n",
      "Action Input: \"RAG\"  \n",
      "\u001b[0m\u001b[36;1m\u001b[1;3mNo good Arxiv Result was found\u001b[0m\u001b[32;1m\u001b[1;3mIt appears that my searches for \"Retrieval-Augmented Generation\" and \"RAG\" did not yield any relevant results on arXiv. I will try searching for related terms that might encompass the broader context of retrieval-augmented methods in natural language processing, such as \"retrieval\" or \"augmented generation.\" \n",
      "\n",
      "Action: arxiv  \n",
      "Action Input: \"retrieval augmented generation\"  \n",
      "\u001b[0m\u001b[36;1m\u001b[1;3mNo good Arxiv Result was found\u001b[0m\u001b[32;1m\u001b[1;3mIt seems that my attempts to find relevant papers on RAG have not been successful. I will try searching for papers that discuss related concepts in natural language processing, such as \"information retrieval\" or \"generative models,\" which might lead to relevant findings.\n",
      "\n",
      "Action: arxiv  \n",
      "Action Input: \"information retrieval\"  \n",
      "\u001b[0m\u001b[36;1m\u001b[1;3mNo good Arxiv Result was found\u001b[0m\u001b[32;1m\u001b[1;3mIt seems that my searches for relevant papers on RAG and related concepts have not yielded any results. I will try searching for a combination of terms that might be more specific to the context of RAG, such as \"retrieval\" and \"generation\" together.\n",
      "\n",
      "Action: arxiv  \n",
      "Action Input: \"retrieval generation\"  \n",
      "\u001b[0m\u001b[36;1m\u001b[1;3mNo good Arxiv Result was found\u001b[0m\u001b[32;1m\u001b[1;3mIt appears that my searches for relevant papers on RAG and related concepts have not yielded any results. I will try searching for a combination of terms that might be more specific to the context of RAG, such as \"retrieval-augmented\" and \"NLP\" (natural language processing) together.\n",
      "\n",
      "Action: arxiv  \n",
      "Action Input: \"retrieval-augmented NLP\"  \n",
      "\u001b[0m\u001b[36;1m\u001b[1;3mNo good Arxiv Result was found\u001b[0m\u001b[32;1m\u001b[1;3mIt seems that my attempts to find relevant papers on RAG have not been successful. I will try searching for more general terms related to the field of natural language processing and machine learning, as well as looking for recent surveys or reviews that might cover RAG as part of a broader discussion.\n",
      "\n",
      "Action: arxiv  \n",
      "Action Input: \"natural language processing survey\"  \n",
      "\u001b[0m\u001b[36;1m\u001b[1;3mNo good Arxiv Result was found\u001b[0m\u001b[32;1m\u001b[1;3mIt seems that my attempts to find relevant papers on RAG and related concepts have not yielded any results. I will try searching for a combination of terms that might be more specific to the context of RAG, such as \"retrieval-augmented generation\" and \"survey\" to see if there are any review papers that discuss this topic.\n",
      "\n",
      "Action: arxiv  \n",
      "Action Input: \"retrieval-augmented generation survey\"  \n",
      "\u001b[0m\u001b[36;1m\u001b[1;3mNo good Arxiv Result was found\u001b[0m\u001b[32;1m\u001b[1;3mIt seems that my attempts to find relevant papers on RAG have not been successful. I will try searching for the term \"RAG\" in a more general context, perhaps looking for papers that mention RAG in their abstracts or titles, which might provide insights into popular works in this area.\n",
      "\n",
      "Action: arxiv  \n",
      "Action Input: \"RAG\"  \n",
      "\u001b[0m\u001b[36;1m\u001b[1;3mNo good Arxiv Result was found\u001b[0m\u001b[32;1m\u001b[1;3mIt seems that my attempts to find relevant papers on RAG have not been successful. I will try searching for the term \"Retrieval-Augmented Generation\" in a more general context, perhaps looking for papers that mention RAG in their abstracts or titles, which might provide insights into popular works in this area.\n",
      "\n",
      "Action: arxiv  \n",
      "Action Input: \"Retrieval-Augmented Generation\"  \n",
      "\u001b[0m\u001b[36;1m\u001b[1;3mNo good Arxiv Result was found\u001b[0m\u001b[32;1m\u001b[1;3m\u001b[0m\n",
      "\n",
      "\u001b[1m> Finished chain.\u001b[0m\n",
      "{'input': '인기있는 RAG논문들 알려줘', 'output': 'Agent stopped due to iteration limit or time limit.'}\n"
     ]
    }
   ],
   "source": [
    "response = agent_executor.invoke(\n",
    "    {\n",
    "        \"input\": \"인기있는 RAG논문들 알려줘\",\n",
    "    }\n",
    ")\n",
    "\n",
    "print(response)"
   ]
  },
  {
   "cell_type": "code",
   "execution_count": 11,
   "metadata": {},
   "outputs": [
    {
     "name": "stdout",
     "output_type": "stream",
     "text": [
      "\n",
      "\n",
      "\u001b[1m> Entering new AgentExecutor chain...\u001b[0m\n",
      "\u001b[32;1m\u001b[1;3mRAG (Retrieval-Augmented Generation) is a topic in the field of natural language processing and machine learning. To find the latest research papers on this topic, I will search for recent articles on arXiv. \n",
      "\n",
      "Action: arxiv  \n",
      "Action Input: \"Retrieval-Augmented Generation\"  \n",
      "\u001b[0m\u001b[36;1m\u001b[1;3mNo good Arxiv Result was found\u001b[0m\u001b[32;1m\u001b[1;3mIt seems that my initial search did not yield relevant results. I will try a broader search term related to RAG to see if I can find any recent papers.\n",
      "\n",
      "Action: arxiv  \n",
      "Action Input: \"RAG\"  \n",
      "\u001b[0m\u001b[36;1m\u001b[1;3mNo good Arxiv Result was found\u001b[0m\u001b[32;1m\u001b[1;3mIt appears that my searches for \"Retrieval-Augmented Generation\" and \"RAG\" did not yield any relevant results. I will try searching for related terms or broader categories in natural language processing that might include RAG.\n",
      "\n",
      "Action: arxiv  \n",
      "Action Input: \"Retrieval\"  \n",
      "\u001b[0m\u001b[36;1m\u001b[1;3mNo good Arxiv Result was found\u001b[0m\u001b[32;1m\u001b[1;3mIt seems that my attempts to find relevant papers on RAG have not been successful so far. I will try searching for a combination of terms that might be related to the concept of retrieval-augmented generation, such as \"retrieval-based generation\" or \"augmented generation.\"\n",
      "\n",
      "Action: arxiv  \n",
      "Action Input: \"retrieval-based generation\"  \n",
      "\u001b[0m\u001b[36;1m\u001b[1;3mNo good Arxiv Result was found\u001b[0m\u001b[32;1m\u001b[1;3mIt seems that my attempts to find relevant papers on RAG have not been successful so far. I will try searching for a combination of terms that might be related to the concept of retrieval-augmented generation, such as \"augmented generation\" or \"retrieval in NLP.\"\n",
      "\n",
      "Action: arxiv  \n",
      "Action Input: \"augmented generation\"  \n",
      "\u001b[0m\u001b[36;1m\u001b[1;3mNo good Arxiv Result was found\u001b[0m\u001b[32;1m\u001b[1;3mIt seems that my attempts to find relevant papers on RAG have not been successful so far. I will try searching for a combination of terms that might be related to the concept of retrieval-augmented generation, such as \"retrieval-augmented\" or \"RAG in NLP.\"\n",
      "\n",
      "Action: arxiv  \n",
      "Action Input: \"retrieval-augmented\"  \n",
      "\u001b[0m\u001b[36;1m\u001b[1;3mNo good Arxiv Result was found\u001b[0m\u001b[32;1m\u001b[1;3mIt seems that my attempts to find relevant papers on RAG have not been successful so far. I will try searching for a combination of terms that might be related to the concept of retrieval-augmented generation, such as \"RAG model\" or \"retrieval-augmented models.\"\n",
      "\n",
      "Action: arxiv  \n",
      "Action Input: \"RAG model\"  \n",
      "\u001b[0m\u001b[36;1m\u001b[1;3mNo good Arxiv Result was found\u001b[0m\u001b[32;1m\u001b[1;3mIt seems that my attempts to find relevant papers on RAG have not been successful so far. I will try searching for a combination of terms that might be related to the concept of retrieval-augmented generation, such as \"retrieval-augmented generation NLP\" or \"RAG recent papers.\"\n",
      "\n",
      "Action: arxiv  \n",
      "Action Input: \"retrieval-augmented generation NLP\"  \n",
      "\u001b[0m\u001b[36;1m\u001b[1;3mNo good Arxiv Result was found\u001b[0m\u001b[32;1m\u001b[1;3mIt seems that my attempts to find relevant papers on RAG have not been successful so far. I will try searching for a combination of terms that might be related to the concept of retrieval-augmented generation, such as \"RAG recent research\" or \"RAG applications.\"\n",
      "\n",
      "Action: arxiv  \n",
      "Action Input: \"RAG recent research\"  \n",
      "\u001b[0m\u001b[36;1m\u001b[1;3mNo good Arxiv Result was found\u001b[0m\u001b[32;1m\u001b[1;3mIt seems that my attempts to find relevant papers on RAG have not been successful so far. I will try searching for a combination of terms that might be related to the concept of retrieval-augmented generation, such as \"RAG applications\" or \"RAG techniques.\"\n",
      "\n",
      "Action: arxiv  \n",
      "Action Input: \"RAG applications\"  \n",
      "\u001b[0m\u001b[36;1m\u001b[1;3mNo good Arxiv Result was found\u001b[0m\u001b[32;1m\u001b[1;3m\u001b[0m\n",
      "\n",
      "\u001b[1m> Finished chain.\u001b[0m\n",
      "{'input': '최신 RAG논문들 알려줘', 'output': 'Agent stopped due to iteration limit or time limit.'}\n"
     ]
    }
   ],
   "source": [
    "response = agent_executor.invoke(\n",
    "    {\n",
    "        \"input\": \"최신 RAG논문들 알려줘\",\n",
    "    }\n",
    ")\n",
    "\n",
    "print(response)"
   ]
  },
  {
   "cell_type": "code",
   "execution_count": null,
   "metadata": {},
   "outputs": [],
   "source": []
  }
 ],
 "metadata": {
  "kernelspec": {
   "display_name": "langchain-kr-gLkynrUQ-py3.11",
   "language": "python",
   "name": "python3"
  },
  "language_info": {
   "codemirror_mode": {
    "name": "ipython",
    "version": 3
   },
   "file_extension": ".py",
   "mimetype": "text/x-python",
   "name": "python",
   "nbconvert_exporter": "python",
   "pygments_lexer": "ipython3",
   "version": "3.11.9"
  }
 },
 "nbformat": 4,
 "nbformat_minor": 2
}
