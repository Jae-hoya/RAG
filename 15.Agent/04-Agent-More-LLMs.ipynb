{
 "cells": [
  {
   "cell_type": "markdown",
   "metadata": {},
   "source": [
    "# OpenAI 외 도구 호출 에이전트(Tool Calling Agent)\n",
    "OpenAI 외에도 Anthropic, Google Gemini, Together.ai, Ollama, Mistral과 같은 더 광범위한 공급자 구현을 지원합니다.\n",
    "\n",
    "이번 챕터에서는 다양한 LLM 을 사용하여 도구 호출 에이전트를 생성하고 실행하는 방법을 살펴보겠습니다.\n",
    "\n",
    "[LangChain 공식 도큐먼트](https://python.langchain.com/v0.1/docs/modules/agents/agent_types/tool_calling/)"
   ]
  },
  {
   "cell_type": "code",
   "execution_count": 1,
   "metadata": {},
   "outputs": [
    {
     "data": {
      "text/plain": [
       "True"
      ]
     },
     "execution_count": 1,
     "metadata": {},
     "output_type": "execute_result"
    }
   ],
   "source": [
    "from dotenv import load_dotenv\n",
    "load_dotenv()"
   ]
  },
  {
   "cell_type": "code",
   "execution_count": 2,
   "metadata": {},
   "outputs": [
    {
     "name": "stdout",
     "output_type": "stream",
     "text": [
      "LangSmith 추적을 시작합니다.\n",
      "[프로젝트명]\n",
      "CH15-Agents\n"
     ]
    }
   ],
   "source": [
    "from langchain_teddynote import logging\n",
    "\n",
    "\n",
    "logging.langsmith(\"CH15-Agents\")"
   ]
  },
  {
   "cell_type": "code",
   "execution_count": 3,
   "metadata": {},
   "outputs": [],
   "source": [
    "from langchain.tools import tool\n",
    "from typing import List, Dict\n",
    "from langchain_teddynote.tools import GoogleNews"
   ]
  },
  {
   "cell_type": "code",
   "execution_count": 4,
   "metadata": {},
   "outputs": [
    {
     "data": {
      "text/plain": [
       "StructuredTool(name='search_news', description='Search GoogleNews by input keyword', args_schema=<class 'langchain_core.utils.pydantic.search_news'>, func=<function search_news at 0x000001D6431479C0>)"
      ]
     },
     "execution_count": 4,
     "metadata": {},
     "output_type": "execute_result"
    }
   ],
   "source": [
    "# 도구 정의\n",
    "\n",
    "@tool\n",
    "def search_news(query: str) -> List[Dict[str,str]]:\n",
    "    \"\"\"Search GoogleNews by input keyword\"\"\"\n",
    "    news_tool = GoogleNews()\n",
    "    return news_tool.search_by_keyword(query, k=5)\n",
    "\n",
    "search_news"
   ]
  },
  {
   "cell_type": "code",
   "execution_count": 5,
   "metadata": {},
   "outputs": [],
   "source": [
    "tools = [search_news]"
   ]
  },
  {
   "cell_type": "markdown",
   "metadata": {},
   "source": [
    "# Agent 용 프롬프트 생성\n",
    "- `chat_history` : 이전 대화 내용을 저장하는 변수 (멀티턴을 지원하지 않는다면, 생략 가능합니다.)\n",
    "- `agent_scratchpad` : 에이전트가 임시로 저장하는 변수\n",
    "- `input` : 사용자의 입력"
   ]
  },
  {
   "cell_type": "code",
   "execution_count": 6,
   "metadata": {},
   "outputs": [],
   "source": [
    "from langchain_core.prompts import ChatPromptTemplate\n",
    "from langchain.agents import create_tool_calling_agent\n",
    "\n",
    "# 프롬프트 생성\n",
    "# 프롬프트는 에이전트에게 모델이 수행할 작업을 설명하는 텍스트를 제공합니다. (도구의 이름과 역할을 입력)\n",
    "prompt = ChatPromptTemplate.from_messages(\n",
    "    [\n",
    "        (\n",
    "            \"system\",\n",
    "            \"You are a helpful assistant. \"\n",
    "            \"Make sure to use the `search_news` tool for searching keyword related news.\",\n",
    "        ),\n",
    "        (\"placeholder\", \"{chat_history}\"),\n",
    "        (\"human\", \"{input}\"),\n",
    "        (\"placeholder\", \"{agent_scratchpad}\"),\n",
    "    ]\n",
    ")"
   ]
  },
  {
   "cell_type": "markdown",
   "metadata": {},
   "source": [
    "# Tool Calling 을 지원하는 다양한 LLM 목록\n",
    "실습 진행을 위해서는 아래 내용을 설정해야 합니다.\n",
    "\n",
    "**~~Anthropic~~**\n",
    "\n",
    "~~Anthropic API 키 발급 관련~~\n",
    "~~.env 파일 내 ANTHROPIC_API_KEY 에 발급받은 키를 설정하세요~~\n",
    "\n",
    "**Gemini**\n",
    "\n",
    "Gemini API 키 발급 관련\n",
    ".env 파일 내 GOOGLE_API_KEY 에 발급받은 키를 설정하세요\n",
    "\n",
    "**Together AI**\n",
    "\n",
    "Together AI API 키 발급 관련\n",
    ".env 파일 내 TOGETHER_API_KEY 에 발급받은 키를 설정하세요\n",
    "\n",
    "**Ollama**\n",
    "\n",
    "- Ollama Tool Calling 지원 모델 리스트\n",
    "- 이번 실습에 사용할 llama3.1 모델\n",
    "- 터미널 창에 ollama pull llama3.1 명령어를 입력하여 모델을 다운로드 받습니다.\n",
    "- 이전에 Ollama 를 사용하지 않았다면, Ollama 를 참고해 주세요.\n",
    "- langchain-ollama 설치를 한 뒤 진행해 주세요."
   ]
  },
  {
   "cell_type": "code",
   "execution_count": 7,
   "metadata": {},
   "outputs": [],
   "source": [
    "#from langchain_anthropic import ChatAnthropic\n",
    "#from langchain_google_genai import ChatGoogleGenerativeAI\n",
    "from langchain_openai import ChatOpenAI\n",
    "from langchain_ollama import ChatOllama\n",
    "import os\n",
    "\n",
    "# GPT-4o-mini\n",
    "gpt = ChatOpenAI(model=\"gpt-4o-mini\")\n",
    "\n",
    "# Claude-3-5-sonnet\n",
    "# claude = ChatAnthropic(model=\"claude-3-5-sonnet-20240620\", temperature=0)\n",
    "\n",
    "# Gemini-1.5-pro-latest\n",
    "#gemini = ChatGoogleGenerativeAI(model=\"gemini-1.5-pro\", temperature=0)\n",
    "#\n",
    "# Llama-3.1-70B-Instruct-Turbo\n",
    "llama = ChatOpenAI(\n",
    "    base_url=\"https://api.together.xyz/v1\",\n",
    "    api_key=os.environ[\"TOGETHER_API_KEY\"],\n",
    "    model=\"meta-llama/Meta-Llama-3.1-70B-Instruct-Turbo\",\n",
    ")\n",
    "\n",
    "# Llama-3.1\n",
    "ollama = ChatOllama(model=\"llama3.1:latest\", temperature=0)"
   ]
  },
  {
   "cell_type": "code",
   "execution_count": 8,
   "metadata": {},
   "outputs": [],
   "source": [
    "# Agent 생성\n",
    "gpt_agent = create_tool_calling_agent(gpt, tools, prompt)\n",
    "#claude_agent = create_tool_calling_agent(claude, tools, prompt)\n",
    "#gemini_agent = create_tool_calling_agent(gemini, tools, prompt)\n",
    "llama_agent = create_tool_calling_agent(llama, tools, prompt)\n",
    "ollama_agent = create_tool_calling_agent(ollama, tools, prompt)"
   ]
  },
  {
   "cell_type": "code",
   "execution_count": 9,
   "metadata": {},
   "outputs": [
    {
     "name": "stdout",
     "output_type": "stream",
     "text": [
      "\n",
      "\n",
      "\u001b[1m> Entering new AgentExecutor chain...\u001b[0m\n",
      "\u001b[32;1m\u001b[1;3m\n",
      "Invoking: `search_news` with `{'query': 'AI 투자'}`\n",
      "\n",
      "\n",
      "\u001b[0m\u001b[36;1m\u001b[1;3m[{'url': 'https://news.google.com/rss/articles/CBMiakFVX3lxTE81QVlXam1wclZOV3loQndWUjVjU3FKUE9zMzRjbkU5b3RMSjFBaGVfMHBvM28wRDFyd05yMVhQYTVnZy1nVkhGZXBqLTV2Zks5bnFQdG8wVEtBeEJoZllhVkQwQ2d1MENteEE?oc=5', 'content': '오픈AI, 투자 유치 이후 글로벌 확장...뉴욕·파리·싱가포르 등 5곳에 지사 개설 - AI타임스'}, {'url': 'https://news.google.com/rss/articles/CBMiTkFVX3lxTE5CX19HNHE1bkF2U1VCeWE5T0ZJQVJIbWZZcHdFMEg2N3FPZ2ZSRnYyazRUSWhGcV9wajFzQl9zRUdxbzJORG1GT0xBN1A1UQ?oc=5', 'content': 'AI 스타트업 보이저엑스, 165억 원 신규 투자 유치 - 매일경제'}, {'url': 'https://news.google.com/rss/articles/CBMiVkFVX3lxTE9FdmQ4S2VSMmowbU0yYmVMRkxQNjk5Z2EzRGR5LWJFZVZuYVBvLUhoakYwd0tiM2tGczFfZm16TXJCbDYtbjI4eDg5WUlaVWRzeGx1X2F3?oc=5', 'content': '오펜하이머 \"MS,오픈AI 투자 손실 위험\"…\\'중립\\'하향 - 네이트 뉴스'}, {'url': 'https://news.google.com/rss/articles/CBMiYkFVX3lxTE9qZTMzaktQeVE0V19YaEpJZUk1RHVZQnRZbHJ0V2Q2UFYya3hrWDhabjJiR2NlcXlmcjRIMF9JM0x3eXN3VGZKWW9UVEZQbXV3ejhnTl8xMDJhYXdlakdERUN3?oc=5', 'content': '메타 부사장 \"AI는 근본기술, 투자 불가피...\" 수익보단 `미래` 본다 - 디지털데일리'}, {'url': 'https://news.google.com/rss/articles/CBMiVkFVX3lxTE1JVEJKWlA4bXBuallQVEJ1dnhsYjRtbzF0eGlCS3A0VlpRRkRIcGNiNG5JeXY4MkROWEJldHZDUWRzV294b1BwQ0F4ajlPc18yWUoyNFl3?oc=5', 'content': '전 세계 CEO가 경제 불확실성 극복 위해 투자한 분야는 - ZD넷 코리아'}]\u001b[0m\u001b[32;1m\u001b[1;3m다음은 AI 투자와 관련된 최근 뉴스입니다:\n",
      "\n",
      "1. [오픈AI, 투자 유치 이후 글로벌 확장...뉴욕·파리·싱가포르 등 5곳에 지사 개설 - AI타임스](https://news.google.com/rss/articles/CBMiakFVX3lxTE81QVlXam1wclZOV3loQndWUjVjU3FKUE9zMzRjbkU5b3RMSjFBaGVfMHBvM28wRDFyd05yMVhQYTVnZy1nVkhGZXBqLTV2Zks5bnFQdG8wVEtBeEJoZllhVkQwQ2d1MENteEE?oc=5)\n",
      "\n",
      "2. [AI 스타트업 보이저엑스, 165억 원 신규 투자 유치 - 매일경제](https://news.google.com/rss/articles/CBMiTkFVX3lxTE5CX19HNHE1bkF2U1VCeWE5T0ZJQVJIbWZZcHdFMEg2N3FPZ2ZSRnYyazRUSWhGcV9wajFzQl9zRUdxbzJORG1GT0xBN1A1UQ?oc=5)\n",
      "\n",
      "3. [오펜하이머 \\\"MS,오픈AI 투자 손실 위험\\\"…'중립'하향 - 네이트 뉴스](https://news.google.com/rss/articles/CBMiVkFVX3lxTE9FdmQ4S2VSMmowbU0yYmVMRkxQNjk5Z2EzRGR5LWJFZVZuYVBvLUhoakYwd0tiM2tGczFfZm16TXJCbDYtbjI4eDg5WUlaVWRzeGx1X2F3?oc=5)\n",
      "\n",
      "4. [메타 부사장 \\\"AI는 근본기술, 투자 불가피...\\\" 수익보단 `미래` 본다 - 디지털데일리](https://news.google.com/rss/articles/CBMiYkFVX3lxTE9qZTMzaktQeVE0V19YaEpJZUk1RHVZQnRZbHJ0V2Q2UFYya3hrWDhabjJiR2NlcXlmcjRIMF9JM0x3eXN3VGZKWW9UVEZQbXV3ejhnTl8xMDJhYXdlakdERUN3?oc=5)\n",
      "\n",
      "5. [전 세계 CEO가 경제 불확실성 극복 위해 투자한 분야는 - ZD넷 코리아](https://news.google.com/rss/articles/CBMiVkFVX3lxTE1JVEJKWlA4bXBuallQVEJ1dnhsYjRtbzF0eGlCS3A0VlpRRkRIcGNiNG5JeXY4MkROWEJldHZDUWRzV294b1BwQ0F4ajlPc18yWUoyNFl3?oc=5)\n",
      "\n",
      "이 기사를 통해 AI 투자에 대한 최신 동향을 확인할 수 있습니다.\u001b[0m\n",
      "\n",
      "\u001b[1m> Finished chain.\u001b[0m\n",
      "다음은 AI 투자와 관련된 최근 뉴스입니다:\n",
      "\n",
      "1. [오픈AI, 투자 유치 이후 글로벌 확장...뉴욕·파리·싱가포르 등 5곳에 지사 개설 - AI타임스](https://news.google.com/rss/articles/CBMiakFVX3lxTE81QVlXam1wclZOV3loQndWUjVjU3FKUE9zMzRjbkU5b3RMSjFBaGVfMHBvM28wRDFyd05yMVhQYTVnZy1nVkhGZXBqLTV2Zks5bnFQdG8wVEtBeEJoZllhVkQwQ2d1MENteEE?oc=5)\n",
      "\n",
      "2. [AI 스타트업 보이저엑스, 165억 원 신규 투자 유치 - 매일경제](https://news.google.com/rss/articles/CBMiTkFVX3lxTE5CX19HNHE1bkF2U1VCeWE5T0ZJQVJIbWZZcHdFMEg2N3FPZ2ZSRnYyazRUSWhGcV9wajFzQl9zRUdxbzJORG1GT0xBN1A1UQ?oc=5)\n",
      "\n",
      "3. [오펜하이머 \\\"MS,오픈AI 투자 손실 위험\\\"…'중립'하향 - 네이트 뉴스](https://news.google.com/rss/articles/CBMiVkFVX3lxTE9FdmQ4S2VSMmowbU0yYmVMRkxQNjk5Z2EzRGR5LWJFZVZuYVBvLUhoakYwd0tiM2tGczFfZm16TXJCbDYtbjI4eDg5WUlaVWRzeGx1X2F3?oc=5)\n",
      "\n",
      "4. [메타 부사장 \\\"AI는 근본기술, 투자 불가피...\\\" 수익보단 `미래` 본다 - 디지털데일리](https://news.google.com/rss/articles/CBMiYkFVX3lxTE9qZTMzaktQeVE0V19YaEpJZUk1RHVZQnRZbHJ0V2Q2UFYya3hrWDhabjJiR2NlcXlmcjRIMF9JM0x3eXN3VGZKWW9UVEZQbXV3ejhnTl8xMDJhYXdlakdERUN3?oc=5)\n",
      "\n",
      "5. [전 세계 CEO가 경제 불확실성 극복 위해 투자한 분야는 - ZD넷 코리아](https://news.google.com/rss/articles/CBMiVkFVX3lxTE1JVEJKWlA4bXBuallQVEJ1dnhsYjRtbzF0eGlCS3A0VlpRRkRIcGNiNG5JeXY4MkROWEJldHZDUWRzV294b1BwQ0F4ajlPc18yWUoyNFl3?oc=5)\n",
      "\n",
      "이 기사를 통해 AI 투자에 대한 최신 동향을 확인할 수 있습니다.\n"
     ]
    }
   ],
   "source": [
    "# AgentExecuor 실행 후 실행 및 결과 확인\n",
    "from langchain.agents import AgentExecutor\n",
    "\n",
    "agent_executor = AgentExecutor(\n",
    "    agent=gpt_agent,\n",
    "    tools=tools,\n",
    "    verbose=True,\n",
    "    handle_parsing_errors=True\n",
    ")\n",
    "result = agent_executor.invoke({\"input\": \"AI 투자와 관련된 뉴스를 검색해 주세요\"})\n",
    "print(result[\"output\"])"
   ]
  },
  {
   "cell_type": "code",
   "execution_count": 10,
   "metadata": {},
   "outputs": [],
   "source": [
    "def execute_agent(llm, tools, input_text, label):\n",
    "    agent = create_tool_calling_agent(llm, tools, prompt)\n",
    "    executor = AgentExecutor(agent=agent, tools=tools, verbose=False)\n",
    "    result = executor.invoke({\"input\": input_text})\n",
    "    print(f\"[{label}] 결과입니다.\")\n",
    "    if isinstance(result[\"output\"], list) and len(result[\"output\"]) > 0:\n",
    "        for item in result[\"output\"]:\n",
    "            if \"text\" in item:\n",
    "                print(item[\"text\"])\n",
    "    elif isinstance(result[\"output\"], str):\n",
    "        print(result[\"output\"])\n",
    "    else:\n",
    "        print(result[\"output\"])"
   ]
  },
  {
   "cell_type": "code",
   "execution_count": 11,
   "metadata": {},
   "outputs": [],
   "source": [
    "query = (\n",
    "    \"AI 투자와 관련된 뉴스를 검색하고, 결과를 Instagram 게시글 형식으로 작성해 주세요.\"\n",
    ")"
   ]
  },
  {
   "cell_type": "code",
   "execution_count": 12,
   "metadata": {},
   "outputs": [
    {
     "name": "stdout",
     "output_type": "stream",
     "text": [
      "[gpt] 결과입니다.\n",
      "🌟 **AI 투자 소식 모아보기!** 🌟\n",
      "\n",
      "1️⃣ **오픈AI, 글로벌 확장**  \n",
      "오픈AI가 투자 유치 후 뉴욕, 파리, 싱가포르 등 5곳에 지사를 개설하며 글로벌 시장으로의 확장을 본격화했습니다! 🌍 [자세히 보기](https://news.google.com/rss/articles/CBMiakFVX3lxTE81QVlXam1wclZOV3loQndWUjVjU3FKUE9zMzRjbkU5b3RMSjFBaGVfMHBvM28wRDFyd05yMVhQYTVnZy1nVkhGZXBqLTV2Zks5bnFQdG8wVEtBeEJoZllhVkQwQ2d1MENteEE?oc=5)\n",
      "\n",
      "2️⃣ **AI 스타트업, 보이저엑스 165억 원 투자 유치**  \n",
      "AI 스타트업 보이저엑스가 165억 원의 신규 투자를 유치하며 더 큰 도약을 예고하고 있습니다! 🚀 [자세히 보기](https://news.google.com/rss/articles/CBMiTkFVX3lxTE5CX19HNHE1bkF2U1VCeWE5T0ZJQVJIbWZZcHdFMEg2N3FPZ2ZSRnYyazRUSWhGcV9wajFzQl9zRUdxbzJORG1GT0xBN1A1UQ?oc=5)\n",
      "\n",
      "3️⃣ **MS, 오픈AI 투자 손실 위험 경고**  \n",
      "오펜하이머 애널리스트는 MS가 오픈AI에 대한 투자 손실 위험이 있다고 경고하며 중립 평가로 하향 조정했습니다. ⚠️ [자세히 보기](https://news.google.com/rss/articles/CBMiVkFVX3lxTE9FdmQ4S2VSMmowbU0yYmVMRkxQNjk5Z2EzRGR5LWJFZVZuYVBvLUhoakYwd0tiM2tGczFfZm16TXJCbDYtbjI4eDg5WUlaVWRzeGx1X2F3?oc=5)\n",
      "\n",
      "4️⃣ **메타 부사장, AI는 미래의 근본 기술**  \n",
      "메타의 부사장은 AI가 근본 기술이라며, 수익보다 미래에 대한 투자가 불가피하다고 밝혔습니다. 🔮 [자세히 보기](https://news.google.com/rss/articles/CBMiYkFVX3lxTE9qZTMzaktQeVE0V19YaEpJZUk1RHVZQnRZbHJ0V2Q2UFYya3hrWDhabjJiR2NlcXlmcjRIMF9JM0x3eXN3VGZKWW9UVEZQbXV3ejhnTl8xMDJhYXdlakdERUN3?oc=5)\n",
      "\n",
      "5️⃣ **전 세계 CEO들이 선택한 투자 분야**  \n",
      "경제 불확실성을 극복하기 위해 전 세계 CEO들이 AI 투자에 집중하고 있습니다! 💼 [자세히 보기](https://news.google.com/rss/articles/CBMiVkFVX3lxTE1JVEJKWlA4bXBuallQVEJ1dnhsYjRtbzF0eGlCS3A0VlpRRkRIcGNiNG5JeXY4MkROWEJldHZDUWRzV294b1BwQ0F4ajlPc18yWUoyNFl3?oc=5)\n",
      "\n",
      "💡 AI 기술의 발전과 투자가 우리의 미래를 어떻게 바꿀지 기대됩니다! 여러분은 어떻게 생각하시나요? 🤔 #AI #투자 #오픈AI #보이저엑스 #미래기술\n"
     ]
    }
   ],
   "source": [
    "# gpt\n",
    "execute_agent(gpt, tools, query, \"gpt\")"
   ]
  },
  {
   "cell_type": "code",
   "execution_count": 13,
   "metadata": {},
   "outputs": [
    {
     "name": "stdout",
     "output_type": "stream",
     "text": [
      "[llama3.1 70B] 결과입니다.\n",
      "Here's a possible Instagram post based on the search results:\n",
      "\n",
      "\"Hey everyone! Did you know that AI is taking over our daily lives? From helping us with our to-do lists to making our daily commutes more efficient, AI is everywhere! \n",
      "\n",
      "Check out these latest news articles to learn more about the latest AI trends and developments:\n",
      "\n",
      "* KT invests 2.4 trillion won in AI and cloud technology over the next 5 years\n",
      "* The National Assembly inspects the AI Basic Act and R&D budget allocation\n",
      "* OpenAI expands to Singapore and plans to open an office by the end of the year\n",
      "* KBank launches an AI quiz challenge for its customers\n",
      "\n",
      "Stay ahead of the curve and learn more about the latest AI news! #AI #ArtificialIntelligence #Technology\"\n"
     ]
    }
   ],
   "source": [
    "# llama3.1 70B (Together.ai)\n",
    "execute_agent(\n",
    "    llama,\n",
    "    tools,\n",
    "    \"Search AI related news and write it in Instagram post format\",\n",
    "    \"llama3.1 70B\",\n",
    ")"
   ]
  },
  {
   "cell_type": "code",
   "execution_count": 14,
   "metadata": {},
   "outputs": [
    {
     "name": "stdout",
     "output_type": "stream",
     "text": [
      "[llama3.1(Ollama) 8B] 결과입니다.\n",
      "**AI 투자 뉴스**\n",
      "\n",
      "* 보이저엑스, 165억 원 신규 투자 유치\n",
      "* Andrew Ng의 펀드, 인도에서 첫 투자로 AI 헬스케어 회사 Jivi에 100만 달러 투자\n",
      "* 폭스콘 회장, \"AI 투자 붐, 아직 갈 길 있어\"고 말합니다.\n",
      "* ServiceNow와 Zoom, AI 협업 도구 강화\n",
      "* 모니터코퍼레이션, 830조원대 글로벌 의료 영상 AI 시장에 도전장\n",
      "\n",
      "#AI #투자 #스타트업 #인공지능\n"
     ]
    }
   ],
   "source": [
    "# llama3.1 8B (ollama)\n",
    "execute_agent(ollama, tools, query, \"llama3.1(Ollama) 8B\")"
   ]
  },
  {
   "cell_type": "code",
   "execution_count": 15,
   "metadata": {},
   "outputs": [
    {
     "name": "stdout",
     "output_type": "stream",
     "text": [
      "\n",
      "\n",
      "\u001b[1m> Entering new AgentExecutor chain...\u001b[0m\n",
      "\u001b[32;1m\u001b[1;3m\n",
      "Invoking: `search_news` with `{'query': 'AI investment'}`\n",
      "\n",
      "\n",
      "\u001b[0m\u001b[36;1m\u001b[1;3m[{'url': 'https://news.google.com/rss/articles/CBMiaEFVX3lxTFBxRmZQNFc3cXdMOXRJQ0Exa1B2VFdkWDdndDhfbEJwTlNRSERlNGttaXdOaHQza1RrdlRYcHoycEwzWDM2b2tqdFV5cjBzMjd1Yzc0UTE5bXUxQUNlUHJ0UUY5WU9TSGtx0gFsQVVfeXFMT1RjZENyNFlGLThmdzdfWWFQSllrak8xYzZBYUlyRmlEWjlNZ1F4NXBqN3p3UzBPeEFvWXNRdVpyeXVQMUVwM2EtZ3VhbnJkWUoycnVyMXZSdm15V1ZtNGZ1TUc2TlRFVFlFSEZX?oc=5', 'content': 'AI 스타트업 보이저엑스, 165억 원 신규 투자 유치 - 스타트업엔(StartupN)'}, {'url': 'https://news.google.com/rss/articles/CBMi0wFBVV95cUxNSHdBNU1iZmxZdG5sVWJfYkEzdW5XbVdwckdDWkg1aHh5RmcyUE9ROG8xdFRQcnpBWEkxa3BIaV9YdkY5X3MyWUFJcFBqSmlWVEZYdmh5dEFEZWJudW4yTUNhUlBCczI4Vk5XRWw0WUhDN3NjQ2pxREs3Tm9aWkhtNGhodFJwTS1UU1c5ZWM5QnBIb01HeVVaTVZRTkNYUGxyTVh2YmVFUGpDbjRtc1JtT3pCd0Nxb0NZM2dRdjFuekNvUFRkdzN2RDFQWkNqZUNrUk9F?oc=5', 'content': \"Andrew Ng's fund makes first India investment with AI healthcare firm Jivi - XM\"}, {'url': 'https://news.google.com/rss/articles/CBMi9AFBVV95cUxQamhyMXBuakxER1JTNi1ManZiMDFFNHQ5eVk3cVU3TDRmMHFCeWtVR1dBX3ZKeGxJMHBzYlpQbFE0U3lXMVZoc0xLTFM3NXppWVFiYjhycXR5WE5rRjFsX2MtWmhVTFhEaWZQVEF6eU55RmxPSmtVNnBnSkxIaDhxTUxFaUh0YWRKWlYydGYwX3hwWWE0TXRPaVEtUHNtY2tMcUhvUEZKbWRNYTJyaWxEMW42OTRLN2dLSTg4cGwwLWp2aWk5UnhCczBVdTh5YW8zRWxheWdrMkNtZVVqM193a0dlOFZJTmp0dUEwUW9fbDJOd2dU?oc=5', 'content': '폭스콘 회장 \"AI 투자 붐, 아직 갈 길 있어\" - 테크42'}, {'url': 'https://news.google.com/rss/articles/CBMicEFVX3lxTE16dDFhV3p4RUdGenZZdzNDcmZnbjVmSmNlRmVFYmxVTGVxRFFtZDB2Sjg0Q01XTjlXdktxZzd4YmN5aUpZZlE5Ulc2VWpiQnFKaFQ4WDh1Ymc2aEdEa0RQZzlvbERSOHpqRVZEOTZPc28?oc=5', 'content': 'ServiceNow와 Zoom, AI 협업 도구 강화 By Investing.com - Investing.com'}, {'url': 'https://news.google.com/rss/articles/CBMiXkFVX3lxTE1DaXZnMGxCcUsyNUlHZDAzTTRGTWxWRzk1Tm40cTdpSzRrN2dBMVdSeTc5WUhBdk9fWVo5SXhGa2pRcXBLOFVIU3NYTmZLTkhZUzlZeFJ4N1ozS1lCeEE?oc=5', 'content': '[N2 Venture invest] 모니터코퍼레이션, 830조원대 글로벌 의료 영상 AI 시장에 도전장 - 뉴스투데이'}]\u001b[0m\u001b[32;1m\u001b[1;3mHere are the search results for AI investment news:\n",
      "\n",
      "* Andrew Ng's fund makes first India investment with AI healthcare firm Jivi.\n",
      "* Foxconn chairman says AI investment boom is still in its early stages and has a long way to go.\n",
      "* ServiceNow and Zoom strengthen their collaboration tools using AI.\n",
      "* Monitor Corporation, a global medical imaging AI market challenger, receives an 830 trillion won investment.\n",
      "\n",
      "These news articles highlight the growing interest in AI investments and their potential applications in various industries.\u001b[0m\n",
      "\n",
      "\u001b[1m> Finished chain.\u001b[0m\n",
      "Here are the search results for AI investment news:\n",
      "\n",
      "* Andrew Ng's fund makes first India investment with AI healthcare firm Jivi.\n",
      "* Foxconn chairman says AI investment boom is still in its early stages and has a long way to go.\n",
      "* ServiceNow and Zoom strengthen their collaboration tools using AI.\n",
      "* Monitor Corporation, a global medical imaging AI market challenger, receives an 830 trillion won investment.\n",
      "\n",
      "These news articles highlight the growing interest in AI investments and their potential applications in various industries.\n"
     ]
    }
   ],
   "source": [
    "# AgentExecuor 실행 후 실행 및 결과 확인\n",
    "from langchain.agents import AgentExecutor\n",
    "\n",
    "agent_executor = AgentExecutor(\n",
    "    agent=ollama_agent,\n",
    "    tools=tools,\n",
    "    verbose=True,\n",
    "    handle_parsing_errors=True\n",
    ")\n",
    "result = agent_executor.invoke({\"input\": \"AI 투자와 관련된 뉴스를 검색해 주세요\"})\n",
    "print(result[\"output\"])"
   ]
  },
  {
   "cell_type": "code",
   "execution_count": null,
   "metadata": {},
   "outputs": [],
   "source": []
  }
 ],
 "metadata": {
  "kernelspec": {
   "display_name": "langchain-kr-gLkynrUQ-py3.11",
   "language": "python",
   "name": "python3"
  },
  "language_info": {
   "codemirror_mode": {
    "name": "ipython",
    "version": 3
   },
   "file_extension": ".py",
   "mimetype": "text/x-python",
   "name": "python",
   "nbconvert_exporter": "python",
   "pygments_lexer": "ipython3",
   "version": "3.11.9"
  }
 },
 "nbformat": 4,
 "nbformat_minor": 2
}
