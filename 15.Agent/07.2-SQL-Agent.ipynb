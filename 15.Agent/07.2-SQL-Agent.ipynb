{
 "cells": [
  {
   "cell_type": "markdown",
   "metadata": {
    "vscode": {
     "languageId": "plaintext"
    }
   },
   "source": [
    "# Agent\n",
    "Agent를 활용하여 Sql 쿼리를 생성하고 실행 결과를 답변으로 출력이 가능합니다.\n",
    "\n",
    "- `langchain_community.agent_toolkits` 안에있는 `create_sql_agent` 함수를 이용합니다."
   ]
  },
  {
   "cell_type": "code",
   "execution_count": 1,
   "metadata": {},
   "outputs": [
    {
     "data": {
      "text/plain": [
       "True"
      ]
     },
     "execution_count": 1,
     "metadata": {},
     "output_type": "execute_result"
    }
   ],
   "source": [
    "from dotenv import load_dotenv\n",
    "load_dotenv()"
   ]
  },
  {
   "cell_type": "code",
   "execution_count": 2,
   "metadata": {},
   "outputs": [],
   "source": [
    "from langchain_openai import ChatOpenAI\n",
    "from langchain_community.utilities import SQLDatabase\n",
    "from langchain_community.agent_toolkits import create_sql_agent"
   ]
  },
  {
   "cell_type": "code",
   "execution_count": 3,
   "metadata": {},
   "outputs": [],
   "source": [
    "llm = ChatOpenAI(model=\"gpt-4o-mini\", temperature=0)\n",
    "db = SQLDatabase.from_uri(\"sqlite:///data/finance.db\")"
   ]
  },
  {
   "cell_type": "code",
   "execution_count": 4,
   "metadata": {},
   "outputs": [
    {
     "name": "stdout",
     "output_type": "stream",
     "text": [
      "sqlite\n"
     ]
    }
   ],
   "source": [
    "# 데이터베이스의 방언(dialect)을 출력합니다.\n",
    "print(db.dialect)"
   ]
  },
  {
   "cell_type": "code",
   "execution_count": 5,
   "metadata": {},
   "outputs": [
    {
     "name": "stdout",
     "output_type": "stream",
     "text": [
      "['accounts', 'customers', 'transactions']\n"
     ]
    }
   ],
   "source": [
    "# 사용 가능한 테이블 이름들을 출력합니다.\n",
    "print(db.get_usable_table_names())"
   ]
  },
  {
   "cell_type": "code",
   "execution_count": 6,
   "metadata": {},
   "outputs": [],
   "source": [
    "# Agent 생성\n",
    "agent_executor = create_sql_agent(llm, db=db, agent_type=\"openai-tools\", verbose=True)"
   ]
  },
  {
   "cell_type": "code",
   "execution_count": 7,
   "metadata": {},
   "outputs": [
    {
     "name": "stdout",
     "output_type": "stream",
     "text": [
      "\n",
      "\n",
      "\u001b[1m> Entering new SQL Agent Executor chain...\u001b[0m\n",
      "\u001b[32;1m\u001b[1;3m\n",
      "Invoking: `sql_db_list_tables` with `{}`\n",
      "\n",
      "\n",
      "\u001b[0m\u001b[38;5;200m\u001b[1;3maccounts, customers, transactions\u001b[0m\u001b[32;1m\u001b[1;3m\n",
      "Invoking: `sql_db_schema` with `{'table_names': 'transactions'}`\n",
      "\n",
      "\n",
      "\u001b[0m\u001b[33;1m\u001b[1;3m\n",
      "CREATE TABLE transactions (\n",
      "\ttransaction_id INTEGER, \n",
      "\taccount_id INTEGER, \n",
      "\tamount REAL, \n",
      "\ttransaction_date TEXT, \n",
      "\tPRIMARY KEY (transaction_id), \n",
      "\tFOREIGN KEY(account_id) REFERENCES accounts (account_id)\n",
      ")\n",
      "\n",
      "/*\n",
      "3 rows from transactions table:\n",
      "transaction_id\taccount_id\tamount\ttransaction_date\n",
      "1\t1\t74.79\t2024-07-13\n",
      "2\t1\t-224.1\t2024-05-13\n",
      "3\t1\t-128.9\t2024-01-25\n",
      "*/\u001b[0m\u001b[32;1m\u001b[1;3m\n",
      "Invoking: `sql_db_schema` with `{'table_names': 'customers'}`\n",
      "\n",
      "\n",
      "\u001b[0m\u001b[33;1m\u001b[1;3m\n",
      "CREATE TABLE customers (\n",
      "\tcustomer_id INTEGER, \n",
      "\tname TEXT, \n",
      "\tage INTEGER, \n",
      "\temail TEXT, \n",
      "\tPRIMARY KEY (customer_id)\n",
      ")\n",
      "\n",
      "/*\n",
      "3 rows from customers table:\n",
      "customer_id\tname\tage\temail\n",
      "1\t테디\t30\tteddy@example.com\n",
      "2\t폴\t40\tpaul@example.com\n",
      "3\t셜리\t25\tshirley@example.com\n",
      "*/\u001b[0m\u001b[32;1m\u001b[1;3m\n",
      "Invoking: `sql_db_query_checker` with `{'query': \"SELECT c.name, SUM(t.amount) AS total_amount\\nFROM transactions t\\nJOIN customers c ON c.customer_id = t.account_id\\nWHERE c.name IN ('테디', '셜리')\\nGROUP BY c.name;\"}`\n",
      "responded: The relevant tables are `transactions` and `customers`. \n",
      "\n",
      "The `transactions` table has the following columns:\n",
      "- transaction_id\n",
      "- account_id\n",
      "- amount\n",
      "- transaction_date\n",
      "\n",
      "The `customers` table has the following columns:\n",
      "- customer_id\n",
      "- name\n",
      "- age\n",
      "- email\n",
      "\n",
      "From the `customers` table, we can identify that \"테디\" (Teddy) has a customer_id of 1 and \"셜리\" (Shirley) has a customer_id of 3. \n",
      "\n",
      "Next, I will query the total transaction amounts for both Teddy and Shirley. To do this, I will join the `transactions` table with the `customers` table based on the customer IDs. \n",
      "\n",
      "Let's construct the query to get the total transaction amounts for both customers.\n",
      "\n",
      "\u001b[0m\u001b[36;1m\u001b[1;3m```sql\n",
      "SELECT c.name, SUM(t.amount) AS total_amount\n",
      "FROM transactions t\n",
      "JOIN customers c ON c.customer_id = t.account_id\n",
      "WHERE c.name IN ('테디', '셜리')\n",
      "GROUP BY c.name;\n",
      "```\u001b[0m\u001b[32;1m\u001b[1;3m\n",
      "Invoking: `sql_db_query` with `{'query': \"SELECT c.name, SUM(t.amount) AS total_amount\\nFROM transactions t\\nJOIN customers c ON c.customer_id = t.account_id\\nWHERE c.name IN ('테디', '셜리')\\nGROUP BY c.name;\"}`\n",
      "\n",
      "\n",
      "\u001b[0m\u001b[36;1m\u001b[1;3m[('셜리', 656.64), ('테디', -965.7)]\u001b[0m\u001b[32;1m\u001b[1;3mThe total transaction amounts for Teddy and Shirley are as follows:\n",
      "\n",
      "- **Teddy**: -965.7\n",
      "- **Shirley**: 656.64\n",
      "\n",
      "This indicates that Teddy has a negative total, suggesting he has more withdrawals than deposits, while Shirley has a positive total.\u001b[0m\n",
      "\n",
      "\u001b[1m> Finished chain.\u001b[0m\n"
     ]
    },
    {
     "data": {
      "text/plain": [
       "{'input': '테디와 셜리의 transaction 의 합계를 구하고 비교하세요',\n",
       " 'output': 'The total transaction amounts for Teddy and Shirley are as follows:\\n\\n- **Teddy**: -965.7\\n- **Shirley**: 656.64\\n\\nThis indicates that Teddy has a negative total, suggesting he has more withdrawals than deposits, while Shirley has a positive total.'}"
      ]
     },
     "execution_count": 7,
     "metadata": {},
     "output_type": "execute_result"
    }
   ],
   "source": [
    "# 실행 결과 확인\n",
    "agent_executor.invoke(\n",
    "    {\"input\": \"테디와 셜리의 transaction 의 합계를 구하고 비교하세요\"}\n",
    ")"
   ]
  },
  {
   "cell_type": "code",
   "execution_count": 8,
   "metadata": {},
   "outputs": [
    {
     "name": "stdout",
     "output_type": "stream",
     "text": [
      "\n",
      "\n",
      "\u001b[1m> Entering new SQL Agent Executor chain...\u001b[0m\n",
      "\u001b[32;1m\u001b[1;3m\n",
      "Invoking: `sql_db_list_tables` with `{}`\n",
      "\n",
      "\n",
      "\u001b[0m\u001b[38;5;200m\u001b[1;3maccounts, customers, transactions\u001b[0m\u001b[32;1m\u001b[1;3m\n",
      "Invoking: `sql_db_schema` with `{'table_names': 'transactions'}`\n",
      "\n",
      "\n",
      "\u001b[0m\u001b[33;1m\u001b[1;3m\n",
      "CREATE TABLE transactions (\n",
      "\ttransaction_id INTEGER, \n",
      "\taccount_id INTEGER, \n",
      "\tamount REAL, \n",
      "\ttransaction_date TEXT, \n",
      "\tPRIMARY KEY (transaction_id), \n",
      "\tFOREIGN KEY(account_id) REFERENCES accounts (account_id)\n",
      ")\n",
      "\n",
      "/*\n",
      "3 rows from transactions table:\n",
      "transaction_id\taccount_id\tamount\ttransaction_date\n",
      "1\t1\t74.79\t2024-07-13\n",
      "2\t1\t-224.1\t2024-05-13\n",
      "3\t1\t-128.9\t2024-01-25\n",
      "*/\u001b[0m\u001b[32;1m\u001b[1;3m\n",
      "Invoking: `sql_db_schema` with `{'table_names': 'customers'}`\n",
      "\n",
      "\n",
      "\u001b[0m\u001b[33;1m\u001b[1;3m\n",
      "CREATE TABLE customers (\n",
      "\tcustomer_id INTEGER, \n",
      "\tname TEXT, \n",
      "\tage INTEGER, \n",
      "\temail TEXT, \n",
      "\tPRIMARY KEY (customer_id)\n",
      ")\n",
      "\n",
      "/*\n",
      "3 rows from customers table:\n",
      "customer_id\tname\tage\temail\n",
      "1\t테디\t30\tteddy@example.com\n",
      "2\t폴\t40\tpaul@example.com\n",
      "3\t셜리\t25\tshirley@example.com\n",
      "*/\u001b[0m\u001b[32;1m\u001b[1;3m\n",
      "Invoking: `sql_db_query_checker` with `{'query': \"SELECT SUM(amount) AS total_amount, c.name FROM transactions t JOIN accounts a ON t.account_id = a.account_id JOIN customers c ON a.customer_id = c.customer_id WHERE c.name IN ('테디', '셔리') GROUP BY c.name\"}`\n",
      "\n",
      "\n",
      "\u001b[0m\u001b[36;1m\u001b[1;3m```sql\n",
      "SELECT SUM(amount) AS total_amount, c.name FROM transactions t JOIN accounts a ON t.account_id = a.account_id JOIN customers c ON a.customer_id = c.customer_id WHERE c.name IN ('테디', '셔리') GROUP BY c.name\n",
      "```\u001b[0m\u001b[32;1m\u001b[1;3m\n",
      "Invoking: `sql_db_query` with `{'query': \"SELECT SUM(amount) AS total_amount, c.name FROM transactions t JOIN accounts a ON t.account_id = a.account_id JOIN customers c ON a.customer_id = c.customer_id WHERE c.name IN ('테디', '셔리') GROUP BY c.name\"}`\n",
      "\n",
      "\n",
      "\u001b[0m\u001b[36;1m\u001b[1;3m[(-965.7, '테디')]\u001b[0m\u001b[32;1m\u001b[1;3m테디의 transaction 합계는 -965.7입니다. 셜리의 transaction 데이터는 없어서 비교할 수 없습니다.\u001b[0m\n",
      "\n",
      "\u001b[1m> Finished chain.\u001b[0m\n"
     ]
    },
    {
     "data": {
      "text/plain": [
       "'테디의 transaction 합계는 -965.7입니다. 셜리의 transaction 데이터는 없어서 비교할 수 없습니다.'"
      ]
     },
     "execution_count": 8,
     "metadata": {},
     "output_type": "execute_result"
    }
   ],
   "source": [
    "agent_executor.invoke(\n",
    "    {\"input\": \"테디와 셜리의 transaction 의 합계를 구하고 비교하세요\"}\n",
    ")[\"output\"]"
   ]
  },
  {
   "cell_type": "code",
   "execution_count": null,
   "metadata": {},
   "outputs": [],
   "source": []
  }
 ],
 "metadata": {
  "kernelspec": {
   "display_name": "langchain-kr-gLkynrUQ-py3.11",
   "language": "python",
   "name": "python3"
  },
  "language_info": {
   "codemirror_mode": {
    "name": "ipython",
    "version": 3
   },
   "file_extension": ".py",
   "mimetype": "text/x-python",
   "name": "python",
   "nbconvert_exporter": "python",
   "pygments_lexer": "ipython3",
   "version": "3.11.9"
  }
 },
 "nbformat": 4,
 "nbformat_minor": 2
}
