{
 "cells": [
  {
   "cell_type": "markdown",
   "metadata": {
    "vscode": {
     "languageId": "plaintext"
    }
   },
   "source": [
    "# CSV/Excel 데이터 분석 Agent\n",
    "Pandas DataFrame 을 활용하여 분석을 수행하는 Agent 를 생성할 수 있습니다.\n",
    "\n",
    "CSV/Excel 데이터로부터 Pandas DataFrame 객체를 생성할 수 있으며, 이를 활용하여 Agent 가 Pandas query 를 생성하여 분석을 수행할 수 있습니다."
   ]
  },
  {
   "cell_type": "code",
   "execution_count": null,
   "metadata": {},
   "outputs": [],
   "source": [
    "from dotenv import load_dotenv\n",
    "load_dotenv()"
   ]
  },
  {
   "cell_type": "code",
   "execution_count": 1,
   "metadata": {},
   "outputs": [
    {
     "data": {
      "text/html": [
       "<div>\n",
       "<style scoped>\n",
       "    .dataframe tbody tr th:only-of-type {\n",
       "        vertical-align: middle;\n",
       "    }\n",
       "\n",
       "    .dataframe tbody tr th {\n",
       "        vertical-align: top;\n",
       "    }\n",
       "\n",
       "    .dataframe thead th {\n",
       "        text-align: right;\n",
       "    }\n",
       "</style>\n",
       "<table border=\"1\" class=\"dataframe\">\n",
       "  <thead>\n",
       "    <tr style=\"text-align: right;\">\n",
       "      <th></th>\n",
       "      <th>PassengerId</th>\n",
       "      <th>Survived</th>\n",
       "      <th>Pclass</th>\n",
       "      <th>Name</th>\n",
       "      <th>Sex</th>\n",
       "      <th>Age</th>\n",
       "      <th>SibSp</th>\n",
       "      <th>Parch</th>\n",
       "      <th>Ticket</th>\n",
       "      <th>Fare</th>\n",
       "      <th>Cabin</th>\n",
       "      <th>Embarked</th>\n",
       "    </tr>\n",
       "  </thead>\n",
       "  <tbody>\n",
       "    <tr>\n",
       "      <th>0</th>\n",
       "      <td>1</td>\n",
       "      <td>0</td>\n",
       "      <td>3</td>\n",
       "      <td>Braund, Mr. Owen Harris</td>\n",
       "      <td>male</td>\n",
       "      <td>22.0</td>\n",
       "      <td>1</td>\n",
       "      <td>0</td>\n",
       "      <td>A/5 21171</td>\n",
       "      <td>7.2500</td>\n",
       "      <td>NaN</td>\n",
       "      <td>S</td>\n",
       "    </tr>\n",
       "    <tr>\n",
       "      <th>1</th>\n",
       "      <td>2</td>\n",
       "      <td>1</td>\n",
       "      <td>1</td>\n",
       "      <td>Cumings, Mrs. John Bradley (Florence Briggs Th...</td>\n",
       "      <td>female</td>\n",
       "      <td>38.0</td>\n",
       "      <td>1</td>\n",
       "      <td>0</td>\n",
       "      <td>PC 17599</td>\n",
       "      <td>71.2833</td>\n",
       "      <td>C85</td>\n",
       "      <td>C</td>\n",
       "    </tr>\n",
       "    <tr>\n",
       "      <th>2</th>\n",
       "      <td>3</td>\n",
       "      <td>1</td>\n",
       "      <td>3</td>\n",
       "      <td>Heikkinen, Miss. Laina</td>\n",
       "      <td>female</td>\n",
       "      <td>26.0</td>\n",
       "      <td>0</td>\n",
       "      <td>0</td>\n",
       "      <td>STON/O2. 3101282</td>\n",
       "      <td>7.9250</td>\n",
       "      <td>NaN</td>\n",
       "      <td>S</td>\n",
       "    </tr>\n",
       "    <tr>\n",
       "      <th>3</th>\n",
       "      <td>4</td>\n",
       "      <td>1</td>\n",
       "      <td>1</td>\n",
       "      <td>Futrelle, Mrs. Jacques Heath (Lily May Peel)</td>\n",
       "      <td>female</td>\n",
       "      <td>35.0</td>\n",
       "      <td>1</td>\n",
       "      <td>0</td>\n",
       "      <td>113803</td>\n",
       "      <td>53.1000</td>\n",
       "      <td>C123</td>\n",
       "      <td>S</td>\n",
       "    </tr>\n",
       "    <tr>\n",
       "      <th>4</th>\n",
       "      <td>5</td>\n",
       "      <td>0</td>\n",
       "      <td>3</td>\n",
       "      <td>Allen, Mr. William Henry</td>\n",
       "      <td>male</td>\n",
       "      <td>35.0</td>\n",
       "      <td>0</td>\n",
       "      <td>0</td>\n",
       "      <td>373450</td>\n",
       "      <td>8.0500</td>\n",
       "      <td>NaN</td>\n",
       "      <td>S</td>\n",
       "    </tr>\n",
       "  </tbody>\n",
       "</table>\n",
       "</div>"
      ],
      "text/plain": [
       "   PassengerId  Survived  Pclass  \\\n",
       "0            1         0       3   \n",
       "1            2         1       1   \n",
       "2            3         1       3   \n",
       "3            4         1       1   \n",
       "4            5         0       3   \n",
       "\n",
       "                                                Name     Sex   Age  SibSp  \\\n",
       "0                            Braund, Mr. Owen Harris    male  22.0      1   \n",
       "1  Cumings, Mrs. John Bradley (Florence Briggs Th...  female  38.0      1   \n",
       "2                             Heikkinen, Miss. Laina  female  26.0      0   \n",
       "3       Futrelle, Mrs. Jacques Heath (Lily May Peel)  female  35.0      1   \n",
       "4                           Allen, Mr. William Henry    male  35.0      0   \n",
       "\n",
       "   Parch            Ticket     Fare Cabin Embarked  \n",
       "0      0         A/5 21171   7.2500   NaN        S  \n",
       "1      0          PC 17599  71.2833   C85        C  \n",
       "2      0  STON/O2. 3101282   7.9250   NaN        S  \n",
       "3      0            113803  53.1000  C123        S  \n",
       "4      0            373450   8.0500   NaN        S  "
      ]
     },
     "execution_count": 1,
     "metadata": {},
     "output_type": "execute_result"
    }
   ],
   "source": [
    "import pandas as pd\n",
    "\n",
    "df = pd.read_csv(\"./data/titanic.csv\")\n",
    "df.head()"
   ]
  },
  {
   "cell_type": "code",
   "execution_count": 3,
   "metadata": {},
   "outputs": [],
   "source": [
    "from langchain_experimental.agents.agent_toolkits import create_pandas_dataframe_agent\n",
    "from langchain.agents.agent_types import AgentType\n",
    "from langchain_openai import ChatOpenAI\n",
    "from langchain_teddynote.messages import AgentStreamParser\n",
    "import seaborn as sns\n",
    "\n",
    "from langchain_experimental.agents import create_pandas_dataframe_agent\n",
    "\n",
    "sns.set_style(\"white\")"
   ]
  },
  {
   "cell_type": "code",
   "execution_count": 5,
   "metadata": {},
   "outputs": [],
   "source": [
    "llm = ChatOpenAI(model=\"gpt-4o-mini\")\n",
    "\n",
    "agent = create_pandas_dataframe_agent(\n",
    "    llm,\n",
    "    df,\n",
    "    verbose=True,\n",
    "    agent_type=AgentType.OPENAI_FUNCTIONS,\n",
    "    allow_dangerous_code=True\n",
    ")\n",
    "stream_parser = AgentStreamParser()"
   ]
  },
  {
   "cell_type": "code",
   "execution_count": 6,
   "metadata": {},
   "outputs": [],
   "source": [
    "def ask(query):\n",
    "    response = agent.stream({\"input\": query})\n",
    "    for step in response:\n",
    "        stream_parser.process_agent_steps(step)"
   ]
  },
  {
   "cell_type": "code",
   "execution_count": 7,
   "metadata": {},
   "outputs": [
    {
     "name": "stdout",
     "output_type": "stream",
     "text": [
      "\n",
      "\n",
      "\u001b[1m> Entering new None chain...\u001b[0m\n",
      "[도구 호출]\n",
      "Tool: python_repl_ast\n",
      "query: len(df)\n",
      "Log: \n",
      "Invoking: `python_repl_ast` with `{'query': 'len(df)'}`\n",
      "\n",
      "\n",
      "\n",
      "\u001b[32;1m\u001b[1;3m\n",
      "Invoking: `python_repl_ast` with `{'query': 'len(df)'}`\n",
      "\n",
      "\n",
      "\u001b[0m\u001b[36;1m\u001b[1;3m891\u001b[0m[관찰 내용]\n",
      "Observation: 891\n",
      "\u001b[32;1m\u001b[1;3m데이터프레임 `df`에는 891개의 행이 있습니다.\u001b[0m\n",
      "\n",
      "\u001b[1m> Finished chain.\u001b[0m\n",
      "[최종 답변]\n",
      "데이터프레임 `df`에는 891개의 행이 있습니다.\n"
     ]
    }
   ],
   "source": [
    "ask(\"몇개의 행이 있어?\")"
   ]
  },
  {
   "cell_type": "code",
   "execution_count": 9,
   "metadata": {},
   "outputs": [
    {
     "name": "stdout",
     "output_type": "stream",
     "text": [
      "\n",
      "\n",
      "\u001b[1m> Entering new None chain...\u001b[0m\n",
      "[도구 호출]\n",
      "Tool: python_repl_ast\n",
      "query: male_survival_rate = df[df['Sex'] == 'male']['Survived'].mean()\n",
      "female_survival_rate = df[df['Sex'] == 'female']['Survived'].mean()\n",
      "survival_rate_difference = female_survival_rate - male_survival_rate\n",
      "survival_rate_difference\n",
      "Log: \n",
      "Invoking: `python_repl_ast` with `{'query': \"male_survival_rate = df[df['Sex'] == 'male']['Survived'].mean()\\nfemale_survival_rate = df[df['Sex'] == 'female']['Survived'].mean()\\nsurvival_rate_difference = female_survival_rate - male_survival_rate\\nsurvival_rate_difference\"}`\n",
      "\n",
      "\n",
      "\n",
      "\u001b[32;1m\u001b[1;3m\n",
      "Invoking: `python_repl_ast` with `{'query': \"male_survival_rate = df[df['Sex'] == 'male']['Survived'].mean()\\nfemale_survival_rate = df[df['Sex'] == 'female']['Survived'].mean()\\nsurvival_rate_difference = female_survival_rate - male_survival_rate\\nsurvival_rate_difference\"}`\n",
      "\n",
      "\n",
      "\u001b[0m\u001b[36;1m\u001b[1;3m0.5531300709799203\u001b[0m[관찰 내용]\n",
      "Observation: 0.5531300709799203\n",
      "\u001b[32;1m\u001b[1;3m남자와 여자의 생존율의 차이는 약 0.553입니다. 즉, 여자의 생존율이 남자보다 약 55.3% 더 높습니다.\u001b[0m\n",
      "\n",
      "\u001b[1m> Finished chain.\u001b[0m\n",
      "[최종 답변]\n",
      "남자와 여자의 생존율의 차이는 약 0.553입니다. 즉, 여자의 생존율이 남자보다 약 55.3% 더 높습니다.\n"
     ]
    }
   ],
   "source": [
    "ask(\"남자와 여자의 생존율의 차이는 몇이야?\")"
   ]
  },
  {
   "cell_type": "code",
   "execution_count": 12,
   "metadata": {},
   "outputs": [
    {
     "name": "stdout",
     "output_type": "stream",
     "text": [
      "\n",
      "\n",
      "\u001b[1m> Entering new None chain...\u001b[0m\n",
      "[도구 호출]\n",
      "Tool: python_repl_ast\n",
      "query: survived_counts = df.groupby(['Sex', 'Survived']).size().unstack() \n",
      "survived_counts\n",
      "Log: \n",
      "Invoking: `python_repl_ast` with `{'query': \"survived_counts = df.groupby(['Sex', 'Survived']).size().unstack() \\nsurvived_counts\"}`\n",
      "\n",
      "\n",
      "\n",
      "\u001b[32;1m\u001b[1;3m\n",
      "Invoking: `python_repl_ast` with `{'query': \"survived_counts = df.groupby(['Sex', 'Survived']).size().unstack() \\nsurvived_counts\"}`\n",
      "\n",
      "\n",
      "\u001b[0m\u001b[36;1m\u001b[1;3mSurvived    0    1\n",
      "Sex               \n",
      "female     81  233\n",
      "male      468  109\u001b[0m[관찰 내용]\n",
      "Observation: Survived    0    1\n",
      "Sex               \n",
      "female     81  233\n",
      "male      468  109\n",
      "\u001b[32;1m\u001b[1;3m남자 승객과 여자 승객의 각각 생존자 수는 다음과 같습니다:\n",
      "\n",
      "- **여자 승객**: 생존자 233명, 비생존자 81명\n",
      "- **남자 승객**: 생존자 109명, 비생존자 468명\u001b[0m\n",
      "\n",
      "\u001b[1m> Finished chain.\u001b[0m\n",
      "[최종 답변]\n",
      "남자 승객과 여자 승객의 각각 생존자 수는 다음과 같습니다:\n",
      "\n",
      "- **여자 승객**: 생존자 233명, 비생존자 81명\n",
      "- **남자 승객**: 생존자 109명, 비생존자 468명\n"
     ]
    }
   ],
   "source": [
    "ask(\"남자승격와 여자 승객의 각각 생존자 수는 어떻게 돼?\")"
   ]
  },
  {
   "cell_type": "code",
   "execution_count": 11,
   "metadata": {},
   "outputs": [
    {
     "name": "stdout",
     "output_type": "stream",
     "text": [
      "\n",
      "\n",
      "\u001b[1m> Entering new None chain...\u001b[0m\n",
      "[도구 호출]\n",
      "Tool: python_repl_ast\n",
      "query: import pandas as pd\n",
      "import matplotlib.pyplot as plt\n",
      "\n",
      "# 남자와 여자 승객의 생존율 계산\n",
      "survival_rates = df.groupby('Sex')['Survived'].mean()\n",
      "\n",
      "# 바차트 시각화\n",
      "survival_rates.plot(kind='bar', color=['blue', 'pink'])\n",
      "plt.title('Survival Rates by Gender')\n",
      "plt.xlabel('Gender')\n",
      "plt.ylabel('Survival Rate')\n",
      "plt.xticks(rotation=0)\n",
      "plt.show()\n",
      "Log: \n",
      "Invoking: `python_repl_ast` with `{'query': \"import pandas as pd\\nimport matplotlib.pyplot as plt\\n\\n# 남자와 여자 승객의 생존율 계산\\nsurvival_rates = df.groupby('Sex')['Survived'].mean()\\n\\n# 바차트 시각화\\nsurvival_rates.plot(kind='bar', color=['blue', 'pink'])\\nplt.title('Survival Rates by Gender')\\nplt.xlabel('Gender')\\nplt.ylabel('Survival Rate')\\nplt.xticks(rotation=0)\\nplt.show()\"}`\n",
      "\n",
      "\n",
      "\n",
      "\u001b[32;1m\u001b[1;3m\n",
      "Invoking: `python_repl_ast` with `{'query': \"import pandas as pd\\nimport matplotlib.pyplot as plt\\n\\n# 남자와 여자 승객의 생존율 계산\\nsurvival_rates = df.groupby('Sex')['Survived'].mean()\\n\\n# 바차트 시각화\\nsurvival_rates.plot(kind='bar', color=['blue', 'pink'])\\nplt.title('Survival Rates by Gender')\\nplt.xlabel('Gender')\\nplt.ylabel('Survival Rate')\\nplt.xticks(rotation=0)\\nplt.show()\"}`\n",
      "\n",
      "\n",
      "\u001b[0m"
     ]
    },
    {
     "data": {
      "image/png": "[encoded data removed]",
      "text/plain": [
       "<Figure size 640x480 with 1 Axes>"
      ]
     },
     "metadata": {},
     "output_type": "display_data"
    },
    {
     "name": "stdout",
     "output_type": "stream",
     "text": [
      "\u001b[36;1m\u001b[1;3m\u001b[0m[관찰 내용]\n",
      "Observation: \n",
      "\u001b[32;1m\u001b[1;3m남자와 여자 승객의 생존율을 계산하고 바 차트로 시각화한 결과입니다. 남성은 상대적으로 낮은 생존율을 보였고, 여성은 높은 생존율을 보였습니다.\u001b[0m\n",
      "\n",
      "\u001b[1m> Finished chain.\u001b[0m\n",
      "[최종 답변]\n",
      "남자와 여자 승객의 생존율을 계산하고 바 차트로 시각화한 결과입니다. 남성은 상대적으로 낮은 생존율을 보였고, 여성은 높은 생존율을 보였습니다.\n"
     ]
    }
   ],
   "source": [
    "ask(\"남자 승객과 여자 승객의 생존율을 구한뒤 barplot 차트로 시각화 해줘\")"
   ]
  },
  {
   "cell_type": "code",
   "execution_count": 13,
   "metadata": {},
   "outputs": [
    {
     "name": "stdout",
     "output_type": "stream",
     "text": [
      "\n",
      "\n",
      "\u001b[1m> Entering new None chain...\u001b[0m\n"
     ]
    },
    {
     "data": {
      "image/png": "[encoded data removed]",
      "text/plain": [
       "<Figure size 640x480 with 1 Axes>"
      ]
     },
     "metadata": {},
     "output_type": "display_data"
    },
    {
     "name": "stdout",
     "output_type": "stream",
     "text": [
      "[도구 호출]\n",
      "Tool: python_repl_ast\n",
      "query: import pandas as pd\n",
      "import matplotlib.pyplot as plt\n",
      "\n",
      "# 필터링: 1, 2등급에 탑승하고 나이가 10세 이하인 어린이\n",
      "children = df[(df['Pclass'].isin([1, 2])) & (df['Age'] <= 10)]\n",
      "\n",
      "# 성별별 생존율 계산\n",
      "survival_rate = children.groupby('Sex')['Survived'].mean()\n",
      "\n",
      "# 시각화\n",
      "survival_rate.plot(kind='bar', color=['blue', 'pink'])\n",
      "plt.title('Survival Rate of Children Aged 10 and Below by Gender (1st and 2nd Class)')\n",
      "plt.xlabel('Gender')\n",
      "plt.ylabel('Survival Rate')\n",
      "plt.xticks(rotation=0)\n",
      "plt.ylim(0, 1)\n",
      "plt.grid(axis='y')\n",
      "plt.show()\n",
      "Log: \n",
      "Invoking: `python_repl_ast` with `{'query': \"import pandas as pd\\nimport matplotlib.pyplot as plt\\n\\n# 필터링: 1, 2등급에 탑승하고 나이가 10세 이하인 어린이\\nchildren = df[(df['Pclass'].isin([1, 2])) & (df['Age'] <= 10)]\\n\\n# 성별별 생존율 계산\\nsurvival_rate = children.groupby('Sex')['Survived'].mean()\\n\\n# 시각화\\nsurvival_rate.plot(kind='bar', color=['blue', 'pink'])\\nplt.title('Survival Rate of Children Aged 10 and Below by Gender (1st and 2nd Class)')\\nplt.xlabel('Gender')\\nplt.ylabel('Survival Rate')\\nplt.xticks(rotation=0)\\nplt.ylim(0, 1)\\nplt.grid(axis='y')\\nplt.show()\"}`\n",
      "\n",
      "\n",
      "\n",
      "\u001b[32;1m\u001b[1;3m\n",
      "Invoking: `python_repl_ast` with `{'query': \"import pandas as pd\\nimport matplotlib.pyplot as plt\\n\\n# 필터링: 1, 2등급에 탑승하고 나이가 10세 이하인 어린이\\nchildren = df[(df['Pclass'].isin([1, 2])) & (df['Age'] <= 10)]\\n\\n# 성별별 생존율 계산\\nsurvival_rate = children.groupby('Sex')['Survived'].mean()\\n\\n# 시각화\\nsurvival_rate.plot(kind='bar', color=['blue', 'pink'])\\nplt.title('Survival Rate of Children Aged 10 and Below by Gender (1st and 2nd Class)')\\nplt.xlabel('Gender')\\nplt.ylabel('Survival Rate')\\nplt.xticks(rotation=0)\\nplt.ylim(0, 1)\\nplt.grid(axis='y')\\nplt.show()\"}`\n",
      "\n",
      "\n",
      "\u001b[0m\u001b[36;1m\u001b[1;3m\u001b[0m[관찰 내용]\n",
      "Observation: \n",
      "\u001b[32;1m\u001b[1;3m시각화를 통해 1등급과 2등급에 탑승한 10세 이하 어린 아이의 성별별 생존율을 확인할 수 있습니다. 그래프를 통해 성별에 따른 생존율 차이를 한눈에 볼 수 있습니다.\u001b[0m\n",
      "\n",
      "\u001b[1m> Finished chain.\u001b[0m\n",
      "[최종 답변]\n",
      "시각화를 통해 1등급과 2등급에 탑승한 10세 이하 어린 아이의 성별별 생존율을 확인할 수 있습니다. 그래프를 통해 성별에 따른 생존율 차이를 한눈에 볼 수 있습니다.\n"
     ]
    }
   ],
   "source": [
    "ask(\"1,2등급에 탑승한 10세 이하 어린 아이의 성별별 생존율을 구하고 시각화 하세요\")"
   ]
  },
  {
   "cell_type": "code",
   "execution_count": null,
   "metadata": {},
   "outputs": [],
   "source": []
  },
  {
   "cell_type": "code",
   "execution_count": null,
   "metadata": {},
   "outputs": [],
   "source": []
  },
  {
   "cell_type": "code",
   "execution_count": null,
   "metadata": {},
   "outputs": [],
   "source": []
  }
 ],
 "metadata": {
  "kernelspec": {
   "display_name": "langchain-kr-gLkynrUQ-py3.11",
   "language": "python",
   "name": "python3"
  },
  "language_info": {
   "codemirror_mode": {
    "name": "ipython",
    "version": 3
   },
   "file_extension": ".py",
   "mimetype": "text/x-python",
   "name": "python",
   "nbconvert_exporter": "python",
   "pygments_lexer": "ipython3",
   "version": "3.11.9"
  }
 },
 "nbformat": 4,
 "nbformat_minor": 2
}
