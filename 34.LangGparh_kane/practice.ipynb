{
 "cells": [
  {
   "cell_type": "code",
   "execution_count": 1,
   "metadata": {},
   "outputs": [
    {
     "data": {
      "text/plain": [
       "True"
      ]
     },
     "execution_count": 1,
     "metadata": {},
     "output_type": "execute_result"
    }
   ],
   "source": [
    "from dotenv import load_dotenv\n",
    "load_dotenv()"
   ]
  },
  {
   "cell_type": "code",
   "execution_count": 2,
   "metadata": {},
   "outputs": [],
   "source": [
    "# TypedDict: 항상들어감, Annotated: list가 어떤 행동을 할수 있는지에 대한 metadata추가.\n",
    "from typing import TypedDict, Annotated\n",
    "\n",
    "from langgraph.graph import StateGraph, START, END\n",
    "from langgraph.graph.message import add_messages\n",
    "import operator"
   ]
  },
  {
   "cell_type": "code",
   "execution_count": 3,
   "metadata": {},
   "outputs": [],
   "source": [
    "# 그래프 정의\n",
    "class State(TypedDict):\n",
    "    #counter: int\n",
    "    messages: Annotated[list, add_messages] # list를 업데이트할 때 add_messages를 통해 누적해서 메세지를 쌓아나간다.\n",
    "    # messages: Annotated[list[str], operator.add]\n",
    "\n",
    "graph_builder = StateGraph(State)\n",
    "\n",
    "from langchain_openai import ChatOpenAI\n",
    "llm = ChatOpenAI(model=\"gpt-4o-mini\")\n",
    "\n",
    "# 노드정의\n",
    "def node_a(state:State):\n",
    "    #state[\"counter\"] = state.get(\"counter\", 0) + 1\n",
    "    return {\n",
    "        \"messages\" : [llm.invoke(state[\"messages\"])],\n",
    "        #\"counter\": state[\"counter\"]\n",
    "    }\n",
    "\n",
    "# 노드\n",
    "graph_builder.add_node(\"chatbot\", node_a)\n",
    "\n",
    "# 엣지\n",
    "graph_builder.add_edge(START, \"chatbot\") # graph_builder.set_entry_point(\"chatbot\")\n",
    "graph_builder.add_edge(\"chatbot\", END) # graph_builder.set_finish_point(\"chatbot\")\n",
    "\n",
    "graph = graph_builder.compile()\n"
   ]
  },
  {
   "cell_type": "code",
   "execution_count": 4,
   "metadata": {},
   "outputs": [
    {
     "data": {
      "image/jpeg": "[encoded data removed]",
      "text/plain": [
       "<IPython.core.display.Image object>"
      ]
     },
     "metadata": {},
     "output_type": "display_data"
    }
   ],
   "source": [
    "from IPython.display import Image, display\n",
    "try:\n",
    "    display(Image(graph.get_graph().draw_mermaid_png()))\n",
    "except Exception:\n",
    "    # This requires some extra dependencies and is optional\n",
    "    pass"
   ]
  },
  {
   "cell_type": "code",
   "execution_count": 5,
   "metadata": {},
   "outputs": [
    {
     "name": "stdout",
     "output_type": "stream",
     "text": [
      "User input:  안녕\n",
      "Assistant:  안녕하세요! 어떻게 도와드릴까요?\n",
      "User input:  내 이름은 재호야\n",
      "Assistant:  안녕하세요, 재호님! 어떻게 도와드릴까요?\n",
      "User input:  내 이름이 뭐라고?\n",
      "Assistant:  죄송하지만, 당신의 이름을 알 수 있는 정보가 없습니다. 당신의 이름을 알려주시면 좋겠어요!\n",
      "User input:  \n",
      "Assistant:  Hello! How can I assist you today?\n",
      "Goodbye!\n"
     ]
    }
   ],
   "source": [
    "# 메모리 저장기능이 없다.\n",
    "while True:\n",
    "    user_input = input(\"User: \")\n",
    "    if user_input.lower() in [\"quit\", \"exit\", \"q\"]:\n",
    "        print(\"Goodbye!\")\n",
    "        break\n",
    "    for event in graph.stream({\"messages\": (\"user\", user_input)}):\n",
    "        for value in event.values(): #event안에는 state가 있다.\n",
    "            print(\"User input: \", user_input)\n",
    "            print(\"Assistant: \", value[\"messages\"][-1].content) # 가장 최신의 content를 assistant에 넣고 print하겠다."
   ]
  },
  {
   "cell_type": "code",
   "execution_count": null,
   "metadata": {},
   "outputs": [],
   "source": []
  },
  {
   "cell_type": "code",
   "execution_count": 6,
   "metadata": {},
   "outputs": [],
   "source": [
    "from typing import Annotated # 알파벳이라는 특성을 업데이트. Annotated를 통해서 list가 어떤 행동을 할수 있는지에 대해서 metadata를 추가. \n",
    "from langchain_openai import ChatOpenAI\n",
    "\n",
    "from typing import TypedDict\n",
    "\n",
    "from langgraph.graph import StateGraph \n",
    "from langgraph.graph.message import add_messages\n",
    "\n",
    "class State(TypedDict):\n",
    "    counter: int\n",
    "    messages: Annotated[list, add_messages] # list를 업데이트할때, add_messages를 통해 누적해서 메세지를 쌓아나간다.\n",
    "\n",
    "graph_builder = StateGraph(State)\n",
    "\n",
    "llm = ChatOpenAI(model=\"gpt-4o-mini\")\n",
    "\n",
    "# 입력값은 State 출력값은 \"messages\"라는 키값에 llm이 주어진 messages를 입력해서 invoke한 실행 결과다.\n",
    "def node_b(state: State):\n",
    "    state[\"counter\"] = state.get(\"counter\", 0) + 1 #counter값이 없으면0, 아니면 있는값에 +1\n",
    "    return {\n",
    "        \"messages\" : [llm.invoke(state[\"messages\"])],\n",
    "        \"counter\": state[\"counter\"]\n",
    "    }\n",
    "\n",
    "# add_edge(START, \"chatbot\"), add_edge('chatbot', END)와 같음\n",
    "\n",
    "graph_builder.add_node(\"node_b\", node_b)\n",
    "graph_builder.set_entry_point(\"node_b\")\n",
    "graph_builder.set_finish_point(\"node_b\")\n",
    "graph = graph_builder.compile()"
   ]
  },
  {
   "cell_type": "code",
   "execution_count": 7,
   "metadata": {},
   "outputs": [
    {
     "name": "stdout",
     "output_type": "stream",
     "text": [
      "Final state: {'counter': 1, 'messages': [HumanMessage(content='Hello!', id='f421a242-272f-49e8-962a-ca9a4ff9f8af'), AIMessage(content='Hello! How can I assist you today?', additional_kwargs={'refusal': None}, response_metadata={'token_usage': {'completion_tokens': 9, 'prompt_tokens': 9, 'total_tokens': 18, 'completion_tokens_details': {'reasoning_tokens': 0}}, 'model_name': 'gpt-4o-mini-2024-07-18', 'system_fingerprint': 'fp_1bb46167f9', 'finish_reason': 'stop', 'logprobs': None}, id='run-872b1081-240f-4473-991d-2aa84e9aa666-0', usage_metadata={'input_tokens': 9, 'output_tokens': 9, 'total_tokens': 18})]}\n"
     ]
    }
   ],
   "source": [
    "from langchain_core.messages import HumanMessage\n",
    "# 초기상태 정의\n",
    "initial_state = {\n",
    "    \"messages\": [HumanMessage(content=\"Hello!\")],\n",
    "    \"counter\" : 0\n",
    "}\n",
    "\n",
    "# 그래프 실행\n",
    "result = graph.invoke(initial_state)\n",
    "\n",
    "print(f\"Final state: {result}\")"
   ]
  },
  {
   "cell_type": "code",
   "execution_count": 8,
   "metadata": {},
   "outputs": [
    {
     "name": "stdout",
     "output_type": "stream",
     "text": [
      "counter: 1\n",
      "Last message: Hello! How can I assist you today?\n",
      "---\n",
      "counter: 2\n",
      "Last message: Hello! How can I assist you today?\n",
      "---\n",
      "counter: 3\n",
      "Last message: Hello! How can I assist you today?\n",
      "---\n"
     ]
    }
   ],
   "source": [
    "state = initial_state\n",
    "\n",
    "for _ in range(3):\n",
    "    state = graph.invoke(state)\n",
    "    print(f\"counter: {state['counter']}\")\n",
    "    print(f\"Last message: {state['messages'][-1].content}\")\n",
    "    print(\"---\")"
   ]
  },
  {
   "cell_type": "code",
   "execution_count": 9,
   "metadata": {},
   "outputs": [
    {
     "data": {
      "image/jpeg": "[encoded data removed]",
      "text/plain": [
       "<IPython.core.display.Image object>"
      ]
     },
     "metadata": {},
     "output_type": "display_data"
    }
   ],
   "source": [
    "from IPython.display import Image, display\n",
    "try:\n",
    "    display(Image(graph.get_graph().draw_mermaid_png()))\n",
    "except Exception:\n",
    "    # This requires some extra dependencies and is optional\n",
    "    pass"
   ]
  },
  {
   "cell_type": "code",
   "execution_count": null,
   "metadata": {},
   "outputs": [],
   "source": []
  },
  {
   "cell_type": "code",
   "execution_count": null,
   "metadata": {},
   "outputs": [],
   "source": []
  }
 ],
 "metadata": {
  "kernelspec": {
   "display_name": "langchain-kr-gLkynrUQ-py3.11",
   "language": "python",
   "name": "python3"
  },
  "language_info": {
   "codemirror_mode": {
    "name": "ipython",
    "version": 3
   },
   "file_extension": ".py",
   "mimetype": "text/x-python",
   "name": "python",
   "nbconvert_exporter": "python",
   "pygments_lexer": "ipython3",
   "version": "3.11.9"
  }
 },
 "nbformat": 4,
 "nbformat_minor": 2
}
