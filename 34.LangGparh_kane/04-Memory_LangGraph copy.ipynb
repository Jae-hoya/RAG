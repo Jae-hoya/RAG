{
 "cells": [
  {
   "cell_type": "code",
   "execution_count": 1,
   "metadata": {},
   "outputs": [
    {
     "data": {
      "text/plain": [
       "True"
      ]
     },
     "execution_count": 1,
     "metadata": {},
     "output_type": "execute_result"
    }
   ],
   "source": [
    "from dotenv import load_dotenv\n",
    "load_dotenv()"
   ]
  },
  {
   "cell_type": "code",
   "execution_count": 2,
   "metadata": {},
   "outputs": [],
   "source": [
    "from typing import TypedDict, Annotated\n",
    "\n",
    "from langgraph.graph import StateGraph, add_messages\n",
    "from langgraph.prebuilt import ToolNode, tools_condition\n",
    "from langgraph.checkpoint.memory import MemorySaver\n",
    "\n",
    "from langchain_openai import ChatOpenAI\n",
    "\n",
    "from langchain_community.tools import TavilySearchResults"
   ]
  },
  {
   "cell_type": "code",
   "execution_count": 3,
   "metadata": {},
   "outputs": [],
   "source": [
    "# 메모리\n",
    "memory = MemorySaver()\n",
    "\n",
    "# tool\n",
    "tool = TavilySearchResults(max_results=2)\n",
    "tools = [tool]\n",
    "tool_node = ToolNode(tools)\n",
    "\n",
    "# llm\n",
    "llm = ChatOpenAI(model=\"gpt-4o-mini\")\n",
    "llm_with_tools = llm.bind_tools(tools)"
   ]
  },
  {
   "cell_type": "code",
   "execution_count": 4,
   "metadata": {},
   "outputs": [],
   "source": [
    "# 클래스 정의\n",
    "class State(TypedDict):\n",
    "    messages: Annotated[list, add_messages]\n",
    "\n",
    "\n",
    "# 챗봇 함수 정의\n",
    "def chatbot(state:State):\n",
    "    result = llm_with_tools.invoke(state[\"messages\"])\n",
    "    return {\"messages\": [result]}\n"
   ]
  },
  {
   "cell_type": "code",
   "execution_count": 5,
   "metadata": {},
   "outputs": [],
   "source": [
    "# 그래프 만들기\n",
    "graph_builder = StateGraph(State)\n",
    "\n",
    "# 노드\n",
    "graph_builder.add_node(\"chatbot\", chatbot)\n",
    "graph_builder.add_node(\"tools\", tool_node)\n",
    "\n",
    "# 엣지\n",
    "graph_builder.add_edge(\"chatbot\", \"tools\")\n",
    "#graph_builder.add_edge(\"tools\", \"chatbot\")\n",
    "\n",
    "graph_builder.add_conditional_edges(\"chatbot\", tools_condition)\n",
    "\n",
    "graph_builder.set_entry_point(\"chatbot\")\n",
    "\n",
    "graph = graph_builder.compile(checkpointer=memory)"
   ]
  },
  {
   "cell_type": "code",
   "execution_count": 6,
   "metadata": {},
   "outputs": [
    {
     "data": {
      "image/jpeg": "[encoded data removed]",
      "text/plain": [
       "<IPython.core.display.Image object>"
      ]
     },
     "metadata": {},
     "output_type": "display_data"
    }
   ],
   "source": [
    "# 그래프 그림 그리기\n",
    "from IPython.display import display, Image\n",
    "try:\n",
    "    display(Image(graph.get_graph().draw_mermaid_png()))\n",
    "except Exception:\n",
    "    pass\n"
   ]
  },
  {
   "cell_type": "code",
   "execution_count": 7,
   "metadata": {},
   "outputs": [
    {
     "data": {
      "text/plain": [
       "{'messages': [HumanMessage(content='안녕 난 재호야. 나는 진원이랑 결혼할거야', id='cbd4d833-7213-4e8d-a01d-efc0feef720c'),\n",
       "  AIMessage(content='안녕하세요, 재호님! 진원이와 결혼하게 되신 것을 축하드립니다! 두 분의 행복한 미래를 기원합니다. 결혼 준비는 잘 하고 계신가요?', additional_kwargs={'refusal': None}, response_metadata={'token_usage': {'completion_tokens': 43, 'prompt_tokens': 95, 'total_tokens': 138, 'completion_tokens_details': {'reasoning_tokens': 0}}, 'model_name': 'gpt-4o-mini-2024-07-18', 'system_fingerprint': 'fp_f85bea6784', 'finish_reason': 'stop', 'logprobs': None}, id='run-df7d1e27-ae0c-4418-8323-0f0664ec2225-0', usage_metadata={'input_tokens': 95, 'output_tokens': 43, 'total_tokens': 138})]}"
      ]
     },
     "execution_count": 7,
     "metadata": {},
     "output_type": "execute_result"
    }
   ],
   "source": [
    "config = {\"configurable\": {\"thread_id\": \"jaeho\"}}\n",
    "graph.invoke({\"messages\": [{\"role\": \"user\", \"content\": \"안녕 난 재호야. 나는 진원이랑 결혼할거야\"}]},\n",
    "             config)"
   ]
  },
  {
   "cell_type": "code",
   "execution_count": 8,
   "metadata": {},
   "outputs": [
    {
     "data": {
      "text/plain": [
       "{'messages': [HumanMessage(content='안녕 난 재호야. 나는 진원이랑 결혼할거야', id='cbd4d833-7213-4e8d-a01d-efc0feef720c'),\n",
       "  AIMessage(content='안녕하세요, 재호님! 진원이와 결혼하게 되신 것을 축하드립니다! 두 분의 행복한 미래를 기원합니다. 결혼 준비는 잘 하고 계신가요?', additional_kwargs={'refusal': None}, response_metadata={'token_usage': {'completion_tokens': 43, 'prompt_tokens': 95, 'total_tokens': 138, 'completion_tokens_details': {'reasoning_tokens': 0}}, 'model_name': 'gpt-4o-mini-2024-07-18', 'system_fingerprint': 'fp_f85bea6784', 'finish_reason': 'stop', 'logprobs': None}, id='run-df7d1e27-ae0c-4418-8323-0f0664ec2225-0', usage_metadata={'input_tokens': 95, 'output_tokens': 43, 'total_tokens': 138}),\n",
       "  HumanMessage(content='내 첫번째 질문이 뭐였어?', id='b581c346-b482-4b23-a371-a242e3bfb4b4'),\n",
       "  AIMessage(content='당신의 첫 번째 질문은 \"안녕 난 재호야. 나는 진원이랑 결혼할거야\"였습니다. 결혼 소식을 전해주셔서 감사합니다!', additional_kwargs={'refusal': None}, response_metadata={'token_usage': {'completion_tokens': 39, 'prompt_tokens': 154, 'total_tokens': 193, 'completion_tokens_details': {'reasoning_tokens': 0}}, 'model_name': 'gpt-4o-mini-2024-07-18', 'system_fingerprint': 'fp_f85bea6784', 'finish_reason': 'stop', 'logprobs': None}, id='run-f0d7d60c-0b0a-403b-9788-1123e42645be-0', usage_metadata={'input_tokens': 154, 'output_tokens': 39, 'total_tokens': 193})]}"
      ]
     },
     "execution_count": 8,
     "metadata": {},
     "output_type": "execute_result"
    }
   ],
   "source": [
    "config = {\"configurable\": {\"thread_id\": \"jaeho\"}}\n",
    "graph.invoke({\"messages\": [{\"role\": \"user\", \"content\": \"내 첫번째 질문이 뭐였어?\"}]},\n",
    "             config)"
   ]
  },
  {
   "cell_type": "code",
   "execution_count": 9,
   "metadata": {},
   "outputs": [
    {
     "data": {
      "text/plain": [
       "{'messages': [HumanMessage(content='안녕 난 재호야. 나는 진원이랑 결혼할거야', id='cbd4d833-7213-4e8d-a01d-efc0feef720c'),\n",
       "  AIMessage(content='안녕하세요, 재호님! 진원이와 결혼하게 되신 것을 축하드립니다! 두 분의 행복한 미래를 기원합니다. 결혼 준비는 잘 하고 계신가요?', additional_kwargs={'refusal': None}, response_metadata={'token_usage': {'completion_tokens': 43, 'prompt_tokens': 95, 'total_tokens': 138, 'completion_tokens_details': {'reasoning_tokens': 0}}, 'model_name': 'gpt-4o-mini-2024-07-18', 'system_fingerprint': 'fp_f85bea6784', 'finish_reason': 'stop', 'logprobs': None}, id='run-df7d1e27-ae0c-4418-8323-0f0664ec2225-0', usage_metadata={'input_tokens': 95, 'output_tokens': 43, 'total_tokens': 138}),\n",
       "  HumanMessage(content='내 첫번째 질문이 뭐였어?', id='b581c346-b482-4b23-a371-a242e3bfb4b4'),\n",
       "  AIMessage(content='당신의 첫 번째 질문은 \"안녕 난 재호야. 나는 진원이랑 결혼할거야\"였습니다. 결혼 소식을 전해주셔서 감사합니다!', additional_kwargs={'refusal': None}, response_metadata={'token_usage': {'completion_tokens': 39, 'prompt_tokens': 154, 'total_tokens': 193, 'completion_tokens_details': {'reasoning_tokens': 0}}, 'model_name': 'gpt-4o-mini-2024-07-18', 'system_fingerprint': 'fp_f85bea6784', 'finish_reason': 'stop', 'logprobs': None}, id='run-f0d7d60c-0b0a-403b-9788-1123e42645be-0', usage_metadata={'input_tokens': 154, 'output_tokens': 39, 'total_tokens': 193}),\n",
       "  HumanMessage(content='내 두번째 질문이 뭐였어?', id='9224ef59-e60f-4293-9129-7590e52793da'),\n",
       "  AIMessage(content='당신의 두 번째 질문은 \"내 첫번째 질문이 뭐였어?\"였습니다. 추가로 궁금한 점이 있으신가요?', additional_kwargs={'refusal': None}, response_metadata={'token_usage': {'completion_tokens': 32, 'prompt_tokens': 209, 'total_tokens': 241, 'completion_tokens_details': {'reasoning_tokens': 0}}, 'model_name': 'gpt-4o-mini-2024-07-18', 'system_fingerprint': 'fp_f85bea6784', 'finish_reason': 'stop', 'logprobs': None}, id='run-5aa3ca48-0863-4528-9ba9-ee44b9d4e338-0', usage_metadata={'input_tokens': 209, 'output_tokens': 32, 'total_tokens': 241})]}"
      ]
     },
     "execution_count": 9,
     "metadata": {},
     "output_type": "execute_result"
    }
   ],
   "source": [
    "config = {\"configurable\": {\"thread_id\": \"jaeho\"}}\n",
    "graph.invoke({\"messages\": [{\"role\": \"user\", \"content\": \"내 두번째 질문이 뭐였어?\"}]},\n",
    "             config)"
   ]
  },
  {
   "cell_type": "code",
   "execution_count": 10,
   "metadata": {},
   "outputs": [
    {
     "data": {
      "text/plain": [
       "{'messages': [HumanMessage(content='안녕 난 재호야. 나는 진원이랑 결혼할거야', id='cbd4d833-7213-4e8d-a01d-efc0feef720c'),\n",
       "  AIMessage(content='안녕하세요, 재호님! 진원이와 결혼하게 되신 것을 축하드립니다! 두 분의 행복한 미래를 기원합니다. 결혼 준비는 잘 하고 계신가요?', additional_kwargs={'refusal': None}, response_metadata={'token_usage': {'completion_tokens': 43, 'prompt_tokens': 95, 'total_tokens': 138, 'completion_tokens_details': {'reasoning_tokens': 0}}, 'model_name': 'gpt-4o-mini-2024-07-18', 'system_fingerprint': 'fp_f85bea6784', 'finish_reason': 'stop', 'logprobs': None}, id='run-df7d1e27-ae0c-4418-8323-0f0664ec2225-0', usage_metadata={'input_tokens': 95, 'output_tokens': 43, 'total_tokens': 138}),\n",
       "  HumanMessage(content='내 첫번째 질문이 뭐였어?', id='b581c346-b482-4b23-a371-a242e3bfb4b4'),\n",
       "  AIMessage(content='당신의 첫 번째 질문은 \"안녕 난 재호야. 나는 진원이랑 결혼할거야\"였습니다. 결혼 소식을 전해주셔서 감사합니다!', additional_kwargs={'refusal': None}, response_metadata={'token_usage': {'completion_tokens': 39, 'prompt_tokens': 154, 'total_tokens': 193, 'completion_tokens_details': {'reasoning_tokens': 0}}, 'model_name': 'gpt-4o-mini-2024-07-18', 'system_fingerprint': 'fp_f85bea6784', 'finish_reason': 'stop', 'logprobs': None}, id='run-f0d7d60c-0b0a-403b-9788-1123e42645be-0', usage_metadata={'input_tokens': 154, 'output_tokens': 39, 'total_tokens': 193}),\n",
       "  HumanMessage(content='내 두번째 질문이 뭐였어?', id='9224ef59-e60f-4293-9129-7590e52793da'),\n",
       "  AIMessage(content='당신의 두 번째 질문은 \"내 첫번째 질문이 뭐였어?\"였습니다. 추가로 궁금한 점이 있으신가요?', additional_kwargs={'refusal': None}, response_metadata={'token_usage': {'completion_tokens': 32, 'prompt_tokens': 209, 'total_tokens': 241, 'completion_tokens_details': {'reasoning_tokens': 0}}, 'model_name': 'gpt-4o-mini-2024-07-18', 'system_fingerprint': 'fp_f85bea6784', 'finish_reason': 'stop', 'logprobs': None}, id='run-5aa3ca48-0863-4528-9ba9-ee44b9d4e338-0', usage_metadata={'input_tokens': 209, 'output_tokens': 32, 'total_tokens': 241}),\n",
       "  HumanMessage(content='현재 마이크로소프트 주식은 얼마야?', id='0cf03653-a89d-46a8-9c99-abeb0433f587'),\n",
       "  AIMessage(content='', additional_kwargs={'tool_calls': [{'id': 'call_x95J5HtZ3r7Zr2phZmUqTFXv', 'function': {'arguments': '{\"query\":\"현재 마이크로소프트 주식 가격\"}', 'name': 'tavily_search_results_json'}, 'type': 'function'}], 'refusal': None}, response_metadata={'token_usage': {'completion_tokens': 26, 'prompt_tokens': 260, 'total_tokens': 286, 'completion_tokens_details': {'reasoning_tokens': 0}}, 'model_name': 'gpt-4o-mini-2024-07-18', 'system_fingerprint': 'fp_f85bea6784', 'finish_reason': 'tool_calls', 'logprobs': None}, id='run-3519763c-14ce-43df-bc70-dffc33c506c7-0', tool_calls=[{'name': 'tavily_search_results_json', 'args': {'query': '현재 마이크로소프트 주식 가격'}, 'id': 'call_x95J5HtZ3r7Zr2phZmUqTFXv', 'type': 'tool_call'}], usage_metadata={'input_tokens': 260, 'output_tokens': 26, 'total_tokens': 286}),\n",
       "  ToolMessage(content='[{\"url\": \"https://kr.investing.com/equities/microsoft-corp\", \"content\": \"\\\\ub9c8\\\\uc774\\\\ud06c\\\\ub85c\\\\uc18c\\\\ud504\\\\ud2b8\\\\uc758 \\\\uc8fc\\\\uac00, MSFT \\\\uc8fc\\\\uc2dd, \\\\ucc28\\\\ud2b8, \\\\uae30\\\\uc220\\\\uc801 \\\\ubd84\\\\uc11d, \\\\uc2e4\\\\uc801 \\\\uc790\\\\ub8cc \\\\ub4f1 \\\\ub9c8\\\\uc774\\\\ud06c\\\\ub85c\\\\uc18c\\\\ud504\\\\ud2b8 \\\\uc2dc\\\\uc138\\\\uc5d0 \\\\ub300\\\\ud55c \\\\uc790\\\\uc138\\\\ud55c \\\\uc815\\\\ubcf4\\\\ub97c \\\\ud655\\\\uc778\\\\ud574 \\\\ubcf4\\\\uc138\\\\uc694. \\\\uc624\\\\ub298\\\\uc758 \\\\uc2dc\\\\uc138\\\\ubfd0\\\\ub9cc \\\\uc544\\\\ub2c8\\\\ub77c \\\\ub274\\\\uc2a4\\\\uc640 \\\\ubd84\\\\uc11d, \\\\uc7ac\\\\uc815 \\\\uc0c1\\\\ud669, \\\\ud3ec\\\\ub7fc \\\\ub4f1\\\\ub3c4 \\\\ud655\\\\uc778\\\\ud574 \\\\ubcf4\\\\uc138\\\\uc694.\"}, {\"url\": \"https://www.mitrade.com/kr/insights/markets/shares/MSFT\", \"content\": \"\\\\uc624\\\\ub298\\\\uc758 \\\\ub9c8\\\\uc774\\\\ud06c\\\\ub85c \\\\uc18c\\\\ud504\\\\ud2b8 \\\\uc8fc\\\\uac00\\\\uc640 \\\\ucd5c\\\\uc2e0 MSFT \\\\ub274\\\\uc2a4 \\\\ubc0f \\\\ubd84\\\\uc11d\\\\uc744 \\\\ud655\\\\uc778\\\\ud558\\\\uc138\\\\uc694. \\\\uc2e4\\\\uc2dc\\\\uac04 \\\\uc8fc\\\\uac00 \\\\ubcc0\\\\ub3d9\\\\uc744 \\\\ucd94\\\\uc801\\\\ud558\\\\uace0 \\\\ub9c8\\\\uc774\\\\ud06c\\\\ub85c \\\\uc18c\\\\ud504\\\\ud2b8\\\\uc758 \\\\uc131\\\\uacfc\\\\uc5d0 \\\\ub300\\\\ud574 \\\\uc815\\\\ubcf4\\\\ub97c \\\\uc720\\\\uc9c0\\\\ud558\\\\uc138\\\\uc694.\"}]', name='tavily_search_results_json', id='3ea5f48e-ef32-4600-a389-220a637cae24', tool_call_id='call_x95J5HtZ3r7Zr2phZmUqTFXv')]}"
      ]
     },
     "execution_count": 10,
     "metadata": {},
     "output_type": "execute_result"
    }
   ],
   "source": [
    "config = {\"configurable\": {\"thread_id\": \"jaeho\"}}\n",
    "graph.invoke({\"messages\": [{\"role\": \"user\", \"content\": \"현재 마이크로소프트 주식은 얼마야?\"}]},\n",
    "             config)"
   ]
  },
  {
   "cell_type": "code",
   "execution_count": 11,
   "metadata": {},
   "outputs": [
    {
     "name": "stdout",
     "output_type": "stream",
     "text": [
      "User:  안녕\n",
      "Assistant:  안녕하세요! 어떻게 도와드릴까요?\n",
      "User:  안녕\n"
     ]
    },
    {
     "ename": "IndexError",
     "evalue": "list index out of range",
     "output_type": "error",
     "traceback": [
      "\u001b[1;31m---------------------------------------------------------------------------\u001b[0m",
      "\u001b[1;31mIndexError\u001b[0m                                Traceback (most recent call last)",
      "Cell \u001b[1;32mIn[11], line 10\u001b[0m\n\u001b[0;32m      8\u001b[0m \u001b[38;5;28;01mfor\u001b[39;00m value \u001b[38;5;129;01min\u001b[39;00m event\u001b[38;5;241m.\u001b[39mvalues():\n\u001b[0;32m      9\u001b[0m     \u001b[38;5;28mprint\u001b[39m(\u001b[38;5;124m\"\u001b[39m\u001b[38;5;124mUser: \u001b[39m\u001b[38;5;124m\"\u001b[39m, user_input)\n\u001b[1;32m---> 10\u001b[0m     \u001b[38;5;28mprint\u001b[39m(\u001b[38;5;124m\"\u001b[39m\u001b[38;5;124mAssistant: \u001b[39m\u001b[38;5;124m\"\u001b[39m, \u001b[43mvalue\u001b[49m\u001b[43m[\u001b[49m\u001b[38;5;124;43m\"\u001b[39;49m\u001b[38;5;124;43mmessages\u001b[39;49m\u001b[38;5;124;43m\"\u001b[39;49m\u001b[43m]\u001b[49m\u001b[43m[\u001b[49m\u001b[38;5;241;43m-\u001b[39;49m\u001b[38;5;241;43m1\u001b[39;49m\u001b[43m]\u001b[49m\u001b[38;5;241m.\u001b[39mcontent) \u001b[38;5;66;03m#value값만 들어가있다.\u001b[39;00m\n",
      "\u001b[1;31mIndexError\u001b[0m: list index out of range"
     ]
    }
   ],
   "source": [
    "config = {\"configurable\": {\"thread_id\": \"1\"}}\n",
    "while True:\n",
    "    user_input = input(\"User: \")\n",
    "    if user_input.lower() in [\"quit\", \"exit\", \"q\"]:\n",
    "        print(\"Goodbye!\")\n",
    "        break\n",
    "    for event in graph.stream({\"messages\": (\"user\", user_input)}, config):\n",
    "        for value in event.values():\n",
    "            print(\"User: \", user_input)\n",
    "            print(\"Assistant: \", value[\"messages\"][-1].content) #value값만 들어가있다."
   ]
  },
  {
   "cell_type": "code",
   "execution_count": 14,
   "metadata": {},
   "outputs": [
    {
     "data": {
      "text/plain": [
       "StateSnapshot(values={'messages': [HumanMessage(content='현재 날씨 알려줘', id='9825e896-f699-43ea-96c3-e662f4a45937'), AIMessage(content='', additional_kwargs={'tool_calls': [{'id': 'call_qdh8AkHv5ZarHe288JFwn2tE', 'function': {'arguments': '{\"query\":\"현재 날씨\"}', 'name': 'tavily_search_results_json'}, 'type': 'function'}], 'refusal': None}, response_metadata={'token_usage': {'completion_tokens': 20, 'prompt_tokens': 84, 'total_tokens': 104, 'completion_tokens_details': {'reasoning_tokens': 0}}, 'model_name': 'gpt-4o-mini-2024-07-18', 'system_fingerprint': 'fp_f85bea6784', 'finish_reason': 'tool_calls', 'logprobs': None}, id='run-26bc5a92-0f36-44a6-8f41-6fb66b339fbe-0', tool_calls=[{'name': 'tavily_search_results_json', 'args': {'query': '현재 날씨'}, 'id': 'call_qdh8AkHv5ZarHe288JFwn2tE', 'type': 'tool_call'}], usage_metadata={'input_tokens': 84, 'output_tokens': 20, 'total_tokens': 104}), ToolMessage(content='[{\"url\": \"https://weather.naver.com/\", \"content\": \"\\\\ub124\\\\uc774\\\\ubc84 \\\\ub0a0\\\\uc528\\\\ub294 \\\\ud604\\\\uc7ac \\\\ub0a0\\\\uc528 \\\\uc815\\\\ubcf4\\\\uc640 \\\\uc2dc\\\\uac04\\\\ubcc4 \\\\ub0a0\\\\uc528 \\\\uc608\\\\ubcf4\\\\ub97c \\\\uc81c\\\\uacf5\\\\ud558\\\\ub294 \\\\uc6f9\\\\uc0ac\\\\uc774\\\\ud2b8\\\\uc785\\\\ub2c8\\\\ub2e4. \\\\uc624\\\\ub298\\\\uc740 \\\\ub9d1\\\\uc74c\\\\uc73c\\\\ub85c \\\\uae30\\\\uc628\\\\uc740 25\\\\u00b0, \\\\uac15\\\\uc218\\\\ud655\\\\ub960\\\\uc740 30%\\\\uc774\\\\uba70, \\\\ub0b4\\\\uc77c\\\\uc740 \\\\ud750\\\\ub9bc\\\\uc73c\\\\ub85c \\\\uae30\\\\uc628\\\\uc740 32\\\\u00b0, \\\\uac15\\\\uc218\\\\ud655\\\\ub960\\\\uc740\"}, {\"url\": \"https://www.weather.go.kr/weather/home/index.jsp\", \"content\": \"\\\\uae30\\\\uc0c1\\\\uccad \\\\ub0a0\\\\uc528\\\\ub204\\\\ub9ac\\\\ub294 \\\\uc804\\\\uad6d\\\\uc758 \\\\uae30\\\\uc628, \\\\uac15\\\\uc218, \\\\ud48d\\\\ud5a5, \\\\ud48d\\\\uc18d \\\\ub4f1\\\\uc758 \\\\ud604\\\\uc7ac \\\\ub0a0\\\\uc528\\\\uc640 \\\\uc608\\\\ubcf4\\\\ub97c \\\\uc81c\\\\uacf5\\\\ud569\\\\ub2c8\\\\ub2e4. \\\\ub610\\\\ud55c \\\\ub0a0\\\\uc528\\\\ud574\\\\uc124, \\\\uc885\\\\ud569\\\\uc601\\\\uc0c1, \\\\uc704\\\\uc131 \\\\ube44\\\\uc8fc\\\\uc5bc\\\\ub9f5 \\\\ub4f1\\\\uc758 \\\\ub2e4\\\\uc591\\\\ud55c \\\\uae30\\\\uc0c1\\\\uc815\\\\ubcf4\\\\uc640 \\\\uc11c\\\\ube44\\\\uc2a4\\\\ub97c \\\\uc774\\\\uc6a9\\\\ud560 \\\\uc218 \\\\uc788\\\\uc2b5\\\\ub2c8\\\\ub2e4.\"}]', name='tavily_search_results_json', id='ca0ff8a1-4453-49b9-80f4-680a4005bf0a', tool_call_id='call_qdh8AkHv5ZarHe288JFwn2tE'), AIMessage(content='현재 날씨에 대한 정보를 확인하려면 다음 링크를 참조하세요:\\n\\n1. [네이버 날씨](https://weather.naver.com/)\\n2. [기상청 날씨](https://www.weather.go.kr/weather/home/index.jsp)\\n\\n각 링크에서 지역별 날씨 정보와 예보를 확인할 수 있습니다.', additional_kwargs={'refusal': None}, response_metadata={'token_usage': {'completion_tokens': 69, 'prompt_tokens': 630, 'total_tokens': 699, 'completion_tokens_details': {'reasoning_tokens': 0}}, 'model_name': 'gpt-4o-mini-2024-07-18', 'system_fingerprint': 'fp_f85bea6784', 'finish_reason': 'stop', 'logprobs': None}, id='run-a196221e-fb81-4d28-b88b-e49492bc0dc0-0', usage_metadata={'input_tokens': 630, 'output_tokens': 69, 'total_tokens': 699}), HumanMessage(content='현재 화성시 동탄 알려줘', id='21b32cad-39db-48e7-9faa-c68af160e794'), AIMessage(content='', additional_kwargs={'tool_calls': [{'id': 'call_mlftxSadY6ByikE88q4zDJuh', 'function': {'arguments': '{\"query\":\"현재 화성시 동탄 날씨\"}', 'name': 'tavily_search_results_json'}, 'type': 'function'}], 'refusal': None}, response_metadata={'token_usage': {'completion_tokens': 25, 'prompt_tokens': 714, 'total_tokens': 739, 'completion_tokens_details': {'reasoning_tokens': 0}}, 'model_name': 'gpt-4o-mini-2024-07-18', 'system_fingerprint': 'fp_f85bea6784', 'finish_reason': 'tool_calls', 'logprobs': None}, id='run-719548a9-1ff5-4aee-a4e2-50a996b7647b-0', tool_calls=[{'name': 'tavily_search_results_json', 'args': {'query': '현재 화성시 동탄 날씨'}, 'id': 'call_mlftxSadY6ByikE88q4zDJuh', 'type': 'tool_call'}], usage_metadata={'input_tokens': 714, 'output_tokens': 25, 'total_tokens': 739}), ToolMessage(content='[{\"url\": \"https://weather.com/ko-KR/weather/hourbyhour/l/852a20428c80068dde49e1a4e43db271b943c80203b4abcc70847deaa4f3a946\", \"content\": \"Weather.com \\\\ubc0f The Weather Channel\\\\uc774 \\\\uc81c\\\\uacf5\\\\ud558\\\\ub294 \\\\uc9c0\\\\uc5ed\\\\uc758 \\\\uc2dc\\\\uac04\\\\ubcc4 \\\\uc77c\\\\uae30\\\\uc608\\\\ubcf4, \\\\ub0a0\\\\uc528 \\\\uc0c1\\\\ud0dc, \\\\uac15\\\\uc218\\\\ub7c9, \\\\uc774\\\\uc2ac\\\\uc810, \\\\uc2b5\\\\ub3c4, ... \\\\ud654\\\\uc131\\\\uc2dc, \\\\uacbd\\\\uae30\\\\ub3c4 \\\\ub0a0\\\\uc528. 26. \\\\uc624\\\\ub298 ...\"}, {\"url\": \"https://www.accuweather.com/ko/kr/dongtan-1-il-dong/3430191/daily-weather-forecast/3430191\", \"content\": \"\\\\ub3d9\\\\ud0c41\\\\ub3d9, \\\\uacbd\\\\uae30\\\\ub3c4, \\\\ub300\\\\ud55c\\\\ubbfc\\\\uad6d \\\\uc77c\\\\uc77c \\\\ub0a0\\\\uc528 | AccuWeather. 9\\\\uc6d4 21\\\\uc77c - 11\\\\uc6d4 4\\\\uc77c. \\\\ud1a0 9. 21. 71\\\\u00b0 /64\\\\u00b0. 100%. \\\\uc2b5\\\\ud558\\\\uace0 \\\\ube44\\\\uac00 \\\\ub0b4\\\\ub9bc. RealFeel\\\\u00ae 69\\\\u00b0. RealFeel Shade\\\\u2122 68\\\\u00b0.\"}]', name='tavily_search_results_json', id='1deaa338-361a-42ec-b977-728aabb60f8e', tool_call_id='call_mlftxSadY6ByikE88q4zDJuh'), AIMessage(content='화성시 동탄의 현재 날씨 정보는 다음 링크에서 확인하실 수 있습니다:\\n\\n1. [Weather.com - 동탄 날씨](https://weather.com/ko-KR/weather/hourbyhour/l/852a20428c80068dde49e1a4e43db271b943c80203b4abcc70847deaa4f3a946)\\n2. [AccuWeather - 동탄 날씨](https://www.accuweather.com/ko/kr/dongtan-1-il-dong/3430191/daily-weather-forecast/3430191)\\n\\n이 링크들에서 시간별 날씨, 기온, 강수 확률 등의 자세한 정보를 확인할 수 있습니다.', additional_kwargs={'refusal': None}, response_metadata={'token_usage': {'completion_tokens': 152, 'prompt_tokens': 1169, 'total_tokens': 1321, 'completion_tokens_details': {'reasoning_tokens': 0}}, 'model_name': 'gpt-4o-mini-2024-07-18', 'system_fingerprint': 'fp_f85bea6784', 'finish_reason': 'stop', 'logprobs': None}, id='run-6e5150e9-f078-4b07-8336-e55750637318-0', usage_metadata={'input_tokens': 1169, 'output_tokens': 152, 'total_tokens': 1321}), HumanMessage(content='', id='c614aa2b-143e-487e-b424-3d63fe71d719'), AIMessage(content='질문이 없으신 것 같습니다. 필요하신 정보나 궁금한 점이 있으시면 언제든지 말씀해 주세요!', additional_kwargs={'refusal': None}, response_metadata={'token_usage': {'completion_tokens': 29, 'prompt_tokens': 1328, 'total_tokens': 1357, 'completion_tokens_details': {'reasoning_tokens': 0}}, 'model_name': 'gpt-4o-mini-2024-07-18', 'system_fingerprint': 'fp_f85bea6784', 'finish_reason': 'stop', 'logprobs': None}, id='run-1c20544b-aad4-4cce-abf7-5726105bc60b-0', usage_metadata={'input_tokens': 1328, 'output_tokens': 29, 'total_tokens': 1357})]}, next=(), config={'configurable': {'thread_id': '1', 'thread_ts': '1ef7d789-9432-64b8-800b-d21b9b7568d7'}}, metadata={'source': 'loop', 'step': 11, 'writes': {'chatbot': {'messages': [AIMessage(content='질문이 없으신 것 같습니다. 필요하신 정보나 궁금한 점이 있으시면 언제든지 말씀해 주세요!', additional_kwargs={'refusal': None}, response_metadata={'token_usage': {'completion_tokens': 29, 'prompt_tokens': 1328, 'total_tokens': 1357, 'completion_tokens_details': {'reasoning_tokens': 0}}, 'model_name': 'gpt-4o-mini-2024-07-18', 'system_fingerprint': 'fp_f85bea6784', 'finish_reason': 'stop', 'logprobs': None}, id='run-1c20544b-aad4-4cce-abf7-5726105bc60b-0', usage_metadata={'input_tokens': 1328, 'output_tokens': 29, 'total_tokens': 1357})]}}}, created_at='2024-09-28T09:03:59.263659+00:00', parent_config=None)"
      ]
     },
     "execution_count": 14,
     "metadata": {},
     "output_type": "execute_result"
    }
   ],
   "source": [
    "snapshot = graph.get_state(config)\n",
    "snapshot"
   ]
  },
  {
   "cell_type": "markdown",
   "metadata": {},
   "source": [
    "# 기억할 메세지 개수 제한하기"
   ]
  },
  {
   "cell_type": "code",
   "execution_count": 23,
   "metadata": {},
   "outputs": [],
   "source": [
    "# 메세지를 리스트로 받았을때 2개만 받기. 이 함수를 chatbot에 넣어서 최근 2개만 기억하도록 한다.\n",
    "def filter_messages(messages: list):\n",
    "    return messages[-2:]\n",
    "\n",
    "def chatbot(state: State):\n",
    "    messages = filter_messages(state['messages'])\n",
    "    result = llm_with_tools.invoke(messages)\n",
    "    return {\"messages\": [result]}\n",
    "\n",
    "graph_builder = StateGraph(State)\n",
    "\n",
    "graph_builder.add_node(\"chatbot\", chatbot)\n",
    "graph_builder.add_node(\"tools\", tool_node)\n",
    "\n",
    "graph_builder.add_edge(\"tools\", \"chatbot\")\n",
    "graph_builder.add_conditional_edges(\"chatbot\", tools_condition)\n",
    "\n",
    "graph_builder.set_entry_point(\"chatbot\")\n",
    "\n",
    "graph = graph_builder.compile(checkpointer=memory)"
   ]
  },
  {
   "cell_type": "code",
   "execution_count": null,
   "metadata": {},
   "outputs": [],
   "source": [
    "config = {\"configurable\": {\"thread_id\": \"20\"}}\n",
    "while True:\n",
    "    user_input = input(\"User: \")\n",
    "    if user_input.lower() in [\"quit\", \"exit\", \"q\"]:\n",
    "        print(\"Goodbye!\")\n",
    "        break\n",
    "    for event in graph.stream({\"messages\": (\"user\", user_input)}, config):\n",
    "        for value in event.values():\n",
    "            print(\"User: \", user_input)\n",
    "            print(\"Assistant: \", value[\"messages\"][-1].content) #value값만 들어가있다."
   ]
  },
  {
   "cell_type": "code",
   "execution_count": 26,
   "metadata": {},
   "outputs": [
    {
     "name": "stdout",
     "output_type": "stream",
     "text": [
      "User:  안녕 내이름은 재호야. 내 취미는 컴퓨터야\n",
      "Assistant:  안녕하세요, 재호님! 컴퓨터에 대한 취미가 있으시군요. 어떤 부분의 컴퓨터에 관심이 있으신가요? 예를 들어, 프로그래밍, 게임, 하드웨어, 소프트웨어 등 다양한 분야가 있을 텐데요.\n",
      "User:  내 이름이 뭐라고?\n",
      "Assistant:  재호님이라고 말씀하셨습니다! 맞나요?\n",
      "User:  내 이름이 뭐라고?\n",
      "Assistant:  죄송합니다, 제가 이전에 언급한 \"재호님\"은 잘못된 정보였습니다. 당신의 이름은 알려주지 않으셨습니다. 이름을 말씀해 주시면 그에 맞춰 대화할 수 있습니다!\n",
      "User:  내 이름은 재호여\n",
      "Assistant:  반갑습니다, 재호님! 어떻게 도와드릴까요?\n",
      "User:  내 이름이 뭐라고?\n",
      "Assistant:  재호님이라고 하셨습니다! 다른 질문이나 도움이 필요하신 부분이 있으신가요?\n",
      "User:  내 이름이 뭐라고?\n",
      "Assistant:  당신의 이름은 재호님입니다. 다른 질문이 있으시면 말씀해 주세요!\n",
      "User:  내 이름이 뭐라고?\n",
      "Assistant:  당신의 이름은 재호님입니다.\n",
      "User:  내 취미가 뭐라고?\n",
      "Assistant:  당신의 취미는 무엇인지 알려주지 않으셨습니다. 취미에 대해 말씀해 주시면 더 많은 정보를 제공해 드릴 수 있습니다!\n",
      "User:  내 이름은 재호야 내 취미는 컴퓨터야\n",
      "Assistant:  안녕하세요, 재호님! 컴퓨터에 대한 취미는 정말 흥미롭네요. 컴퓨터에 관련된 어떤 부분을 특히 좋아하시나요? 예를 들어, 프로그래밍, 게임, 하드웨어, 소프트웨어 개발 등 어떤 분야에 관심이 있으신가요?\n",
      "User:  내 취미는 뭐라고?\n",
      "Assistant:  재호님의 취미는 컴퓨터와 관련된 것이라고 말씀하셨습니다. 더 구체적으로 어떤 부분에 관심이 있으신지 궁금합니다. 예를 들어, 프로그래밍, 게임, 하드웨어, 소프트웨어 개발 등 다양한 분야가 있을 수 있습니다. 어떤 분야가 가장 매력적으로 느껴지시나요?\n",
      "User:  내 이름이 뭐라고?\n",
      "Assistant:  당신의 이름은 재호입니다.\n",
      "User:  내 이름이 뭐라고\n",
      "Assistant:  당신의 이름은 재호입니다.\n",
      "User:  내 취미가 뭐라고?\n",
      "Assistant:  당신의 취미에 대한 정보가 없어서 정확히 말씀드리기 어렵습니다. 취미는 개인마다 다양하고, 예를 들어 독서, 여행, 운동, 음악 감상 등이 있을 수 있습니다. 당신의 취미는 무엇인가요?\n",
      "User:  \n",
      "Assistant:  안녕하세요! 어떻게 도와드릴까요? 질문이나 궁금한 점이 있다면 말씀해 주세요.\n",
      "Goodbye!\n"
     ]
    }
   ],
   "source": [
    "config = {\"configurable\": {\"thread_id\": \"10\"}}\n",
    "while True:\n",
    "    user_input = input(\"User: \")\n",
    "    if user_input.lower() in [\"quit\", \"exit\", \"q\"]:\n",
    "        print(\"Goodbye!\")\n",
    "        break\n",
    "    for event in graph.stream({\"messages\": (\"user\", user_input)}, config):\n",
    "        for value in event.values():\n",
    "            print(\"User: \", user_input)\n",
    "            print(\"Assistant: \", value[\"messages\"][-1].content) #value값만 들어가있다."
   ]
  },
  {
   "cell_type": "code",
   "execution_count": 29,
   "metadata": {},
   "outputs": [
    {
     "name": "stdout",
     "output_type": "stream",
     "text": [
      "User_input:  안녕\n",
      "Assistant:  안녕하세요! 어떻게 도와드릴까요? 질문이나 궁금한 점이 있다면 말씀해 주세요.\n",
      "GoodBye\n"
     ]
    }
   ],
   "source": [
    "config = {\"configurable\": {\"thread_id\": \"15\"}}\n",
    "\n",
    "while True:\n",
    "    user_input = input(\"User: \")\n",
    "    if user_input.lower() in [\"exit\", \"quit\", \"q\"]:\n",
    "        print(\"GoodBye\")\n",
    "        break\n",
    "    for envent in graph.stream({\"messages\": (\"user\", user_input)}, config):\n",
    "        for value in event.values():\n",
    "            print(\"User_input: \", user_input)\n",
    "            print(\"Assistant: \", value[\"messages\"][-1].content)\n"
   ]
  },
  {
   "cell_type": "code",
   "execution_count": 31,
   "metadata": {},
   "outputs": [
    {
     "name": "stdout",
     "output_type": "stream",
     "text": [
      "User_input:  안녕\n",
      "Assistant:  chatbot\n",
      "User_input:  안녕\n",
      "Assistant:  chatbot\n",
      "GoodBye\n"
     ]
    }
   ],
   "source": [
    "config = {\"configurable\": {\"thread_id\": \"15\"}}\n",
    "\n",
    "while True:\n",
    "    user_input = input(\"User: \")\n",
    "    if user_input.lower() in [\"exit\", \"quit\", \"q\"]:\n",
    "        print(\"GoodBye\")\n",
    "        break\n",
    "    for envent in graph.stream({\"messages\": (\"user\", user_input)}, config):\n",
    "        for value in event.keys():\n",
    "            print(\"User_input: \", user_input)\n",
    "            print(\"Assistant: \", value)\n"
   ]
  },
  {
   "cell_type": "code",
   "execution_count": null,
   "metadata": {},
   "outputs": [],
   "source": []
  }
 ],
 "metadata": {
  "kernelspec": {
   "display_name": "langchain-kr-gLkynrUQ-py3.11",
   "language": "python",
   "name": "python3"
  },
  "language_info": {
   "codemirror_mode": {
    "name": "ipython",
    "version": 3
   },
   "file_extension": ".py",
   "mimetype": "text/x-python",
   "name": "python",
   "nbconvert_exporter": "python",
   "pygments_lexer": "ipython3",
   "version": "3.11.9"
  }
 },
 "nbformat": 4,
 "nbformat_minor": 2
}
