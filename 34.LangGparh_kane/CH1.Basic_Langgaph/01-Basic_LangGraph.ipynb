{
 "cells": [
  {
   "cell_type": "code",
   "execution_count": 2,
   "metadata": {},
   "outputs": [
    {
     "data": {
      "text/plain": [
       "True"
      ]
     },
     "execution_count": 2,
     "metadata": {},
     "output_type": "execute_result"
    }
   ],
   "source": [
    "from dotenv import load_dotenv\n",
    "load_dotenv()"
   ]
  },
  {
   "cell_type": "markdown",
   "metadata": {},
   "source": [
    "# StateGraph 상태 만들기"
   ]
  },
  {
   "cell_type": "code",
   "execution_count": 3,
   "metadata": {},
   "outputs": [],
   "source": [
    "from typing import TypedDict\n",
    "from langgraph.graph import StateGraph\n",
    "\n",
    "# 정보를 주고받을수 있는 그래프. 각 노드에서 다음 노드로 전달되는 상태를 저장한다.\n",
    "# 타입을 지정해서 dictionary형태로 저장한는 TypedDict, State는 그래프다.\n",
    "class State(TypedDict):\n",
    "    counter: int\n",
    "    alphabet: list[str]\n",
    "\n",
    "# State Graph에 정해진 틀을 넣어준다.\n",
    "graph_builder = StateGraph(State)"
   ]
  },
  {
   "cell_type": "code",
   "execution_count": 14,
   "metadata": {},
   "outputs": [],
   "source": [
    "# 그래프 만들기\n",
    "from typing import Annotated # 어떤값을 지정할 떄 해당값에 메타데이터를 넣어주는 역할.\n",
    "from typing_extensions import TypedDict #위에서 TypedDict를 가져오는것과 차이는 없음.\n",
    "\n",
    "from langgraph.graph import StateGraph, START, END\n",
    "import operator\n",
    "# 그래프 클래스 정의\n",
    "# State를 TypedDict로 선언해서 정보를 주고받을 틀을 만들건데, 특성에는 int를 받는 counter와 string형태의 list를 받는 alphabet이 있다.\n",
    "class State(TypedDict):\n",
    "    counter : int\n",
    "    alphabet : list[str]\n",
    "\n",
    "# 노드함수 정의\n",
    "# 입력값으로 우리가 정의한 State를 받아야 한다. 입력값이 들어오면 counter에 1씩더하고, alphabet은 Hello라는 스트링으로 리스트에 지정한다.\n",
    "def node_a(state: State):\n",
    "    state['counter'] += 1\n",
    "    state['alphabet'] = [\"Hello\"]\n",
    "    return state\n",
    "\n",
    "graph_builder = StateGraph(State)\n",
    "\n",
    "# chatbot이라는 노드를 만드는데, 이것은 node_a를 실행시킨다.\n",
    "graph_builder.add_node(\"chatbot\", node_a)\n",
    "\n",
    "graph_builder.add_edge(START, \"chatbot\")\n",
    "graph_builder.add_edge(\"chatbot\", END)\n",
    "\n",
    "# 실행 가능한 객체로 만들기 위해 compile()이라는 함수를 만들어야 한다.\n",
    "graph = graph_builder.compile()\n"
   ]
  },
  {
   "cell_type": "code",
   "execution_count": 15,
   "metadata": {},
   "outputs": [
    {
     "data": {
      "image/jpeg": "[encoded data removed]",
      "text/plain": [
       "<IPython.core.display.Image object>"
      ]
     },
     "metadata": {},
     "output_type": "display_data"
    }
   ],
   "source": [
    "# 시각화\n",
    "from IPython.display import Image, display\n",
    "# 머메이드라는 다이어그램을 그려주는 툴을 활용해서 png파일로 쥬피터 셀에서 볼 수 있다.\n",
    "try:\n",
    "    display(Image(graph.get_graph().draw_mermaid_png()))\n",
    "except Exception:\n",
    "    # This requires some extra dependencies and is optional.\n",
    "    pass"
   ]
  },
  {
   "cell_type": "code",
   "execution_count": 16,
   "metadata": {},
   "outputs": [
    {
     "name": "stdout",
     "output_type": "stream",
     "text": [
      "{'counter': 1, 'alphabet': ['Hello']}\n",
      "{'counter': 2, 'alphabet': ['Hello']}\n",
      "{'counter': 3, 'alphabet': ['Hello']}\n"
     ]
    }
   ],
   "source": [
    "# 초기 상태 정의. state의 시작을 정의한다.\n",
    "initial_state = {\n",
    "    \"counter\": 0,\n",
    "    \"alphabet\" : []\n",
    "}\n",
    "\n",
    "state = initial_state\n",
    "\n",
    "# state를 3번 돌려서 실행한다.\n",
    "for _ in range(3):\n",
    "    state = graph.invoke(state)\n",
    "    print(state)"
   ]
  },
  {
   "cell_type": "markdown",
   "metadata": {},
   "source": [
    "# Annotated\n",
    "\n",
    "특성을 업데이트. Annotated를 통해서 list가 어떤 행동을 할수 있는지에 대해서 metadata를 추가. "
   ]
  },
  {
   "cell_type": "code",
   "execution_count": 17,
   "metadata": {},
   "outputs": [],
   "source": [
    "# 알파벳이라는 특성을 업데이트. Annotated를 통해서 list가 어떤 행동을 할수 있는지에 대해서 metadata를 추가. \n",
    "# operator.add는 단순히 더해주는 역할. list에 있는 string이 계속 더해진다. 이것은 챗봇의 메모리를 더해준다고 생각하면 된다. 이 메모리는 그래프 내에서만 기억한다.\n",
    "\n",
    "from typing_extensions import TypedDict #위에서 TypedDict를 가져오는것과 차이는 없음.\n",
    "from typing import Annotated # 어떤값을 지정할 떄 해당값에 메타데이터를 넣어주는 역할.\n",
    "\n",
    "from langgraph.graph import StateGraph, START, END\n",
    "import operator\n",
    "\n",
    "# 그래프 정의\n",
    "class State(TypedDict):\n",
    "    counter: int\n",
    "    alphabet: Annotated[list[str], operator.add]\n",
    "\n",
    "# 노듸 정의\n",
    "def node_a(state:State):\n",
    "    state[\"counter\"] += 1\n",
    "    state[\"alphabet\"] = [\"Hello\"]\n",
    "    return state\n",
    "\n",
    "# 엣지로 서로 이어주기.\n",
    "graph_builder = StateGraph(State)\n",
    "\n",
    "graph_builder.add_node(\"chatbot\", node_a)\n",
    "\n",
    "graph_builder.add_edge(START, \"chatbot\") # graph_builder.set_entry_point(\"chatbot\")\n",
    "graph_builder.add_edge(\"chatbot\", END) # graph_builder.set_finish_point(\"chatnot\")\n",
    "\n",
    "graph = graph_builder.compile()        "
   ]
  },
  {
   "cell_type": "code",
   "execution_count": 18,
   "metadata": {},
   "outputs": [
    {
     "name": "stdout",
     "output_type": "stream",
     "text": [
      "{'counter': 1, 'alphabet': ['Hello']}\n",
      "{'counter': 2, 'alphabet': ['Hello', 'Hello']}\n",
      "{'counter': 3, 'alphabet': ['Hello', 'Hello', 'Hello']}\n"
     ]
    }
   ],
   "source": [
    "#초기상태 정의\n",
    "initial_state = {\n",
    "    \"counter\": 0,\n",
    "    \"alphabet\": []\n",
    "}\n",
    "state = initial_state\n",
    "\n",
    "for _ in range(3):\n",
    "    state = graph.invoke(state)\n",
    "    print(state)"
   ]
  },
  {
   "cell_type": "markdown",
   "metadata": {},
   "source": [
    "# Message를 담은 StateGraph 만들기\n",
    "\n",
    "state에 messages라는 유일한 키값을 넣어준다. 이것도 list형태로 제공을 받을건데, add_messages라는 metadata를 가질것이라는 annotated를 선언한다."
   ]
  },
  {
   "cell_type": "code",
   "execution_count": 31,
   "metadata": {},
   "outputs": [],
   "source": [
    "from typing import Annotated # 알파벳이라는 특성을 업데이트. Annotated를 통해서 list가 어떤 행동을 할수 있는지에 대해서 metadata를 추가. \n",
    "from langchain_openai import ChatOpenAI\n",
    "\n",
    "from typing import TypedDict\n",
    "\n",
    "from langgraph.graph import StateGraph \n",
    "from langgraph.graph.message import add_messages\n",
    "\n",
    "class State(TypedDict):\n",
    "    messages: Annotated[list, add_messages] # list를 업데이트할때, add_messages를 통해 누적해서 메세지를 쌓아나간다.\n",
    "\n",
    "graph_builder = StateGraph(State)\n",
    "\n",
    "llm = ChatOpenAI(model=\"gpt-4o-mini\")\n",
    "\n",
    "# 입력값은 State 출력값은 \"messages\"라는 키값에 llm이 주어진 messages를 입력해서 invoke한 실행 결과다.\n",
    "def chatbot(state: State):\n",
    "    return {\"messages\": [llm.invoke(state[\"messages\"])]}\n",
    "\n",
    "# add_edge(START, \"chatbot\"), add_edge('chatbot', END)와 같음\n",
    "\n",
    "graph_builder.add_node(\"chatbot\", chatbot)\n",
    "graph_builder.set_entry_point(\"chatbot\")\n",
    "graph_builder.set_finish_point(\"chatbot\")\n",
    "graph = graph_builder.compile()"
   ]
  },
  {
   "cell_type": "code",
   "execution_count": 32,
   "metadata": {},
   "outputs": [
    {
     "data": {
      "image/jpeg": "[encoded data removed]",
      "text/plain": [
       "<IPython.core.display.Image object>"
      ]
     },
     "metadata": {},
     "output_type": "display_data"
    }
   ],
   "source": [
    "from IPython.display import Image, display\n",
    "\n",
    "try:\n",
    "    display(Image(graph.get_graph().draw_mermaid_png()))\n",
    "except Exception:\n",
    "    pass"
   ]
  },
  {
   "cell_type": "code",
   "execution_count": 33,
   "metadata": {},
   "outputs": [
    {
     "name": "stdout",
     "output_type": "stream",
     "text": [
      "Assistant:  Hello! How can I assist you today?\n",
      "Assistant:  안녕하세요! 어떻게 도와드릴까요?\n",
      "Goodbye!\n"
     ]
    }
   ],
   "source": [
    "while True:\n",
    "    user_input = input(\"User: \")\n",
    "    if user_input.lower() in [\"quit\", \"exit\", \"q\"]:\n",
    "        print(\"Goodbye!\")\n",
    "        break\n",
    "    for event in graph.stream({\"messages\": (\"user\", user_input)}):\n",
    "        for value in event.values(): #event안에는 state가 있다.\n",
    "            print(\"Assistant: \", value[\"messages\"][-1].content) # 가장 최신의 content를 assistant에 넣고 print하겠다."
   ]
  },
  {
   "cell_type": "code",
   "execution_count": 41,
   "metadata": {},
   "outputs": [],
   "source": [
    "from langchain_openai import ChatOpenAI\n",
    "from langgraph.graph import MessagesState, StateGraph\n",
    "# MessagesState는 메세지만 STATE로 받겠다는 뜻이다.\n",
    "graph_builder = StateGraph(MessagesState)\n",
    "\n",
    "llm = ChatOpenAI(model=\"gpt-4o-mini\")\n",
    "\n",
    "def chatbot(state: MessagesState):\n",
    "    return {\"messages\": [llm.invoke(state[\"messages\"])]}\n",
    "\n",
    "graph_builder.add_node(\"chatbot\", chatbot)\n",
    "graph_builder.set_entry_point(\"chatbot\")\n",
    "graph_builder.set_finish_point(\"chatbot\")\n",
    "graph = graph_builder.compile()\n"
   ]
  },
  {
   "cell_type": "code",
   "execution_count": 42,
   "metadata": {},
   "outputs": [
    {
     "name": "stdout",
     "output_type": "stream",
     "text": [
      "Assistant: 안녕하세요! 어떻게 도와드릴까요?\n",
      "Goodbye!\n"
     ]
    }
   ],
   "source": [
    "while True:\n",
    "    user_input = input(\"User\" )\n",
    "    if user_input.lower() in [\"quit\", \"exit\", \"q\"]:\n",
    "        print(\"Goodbye!\")\n",
    "        break\n",
    "    for event in graph.stream({\"messages\": (\"user\", user_input)}):\n",
    "        for value in event.values():\n",
    "            print(\"Assistant:\", value[\"messages\"][-1].content)"
   ]
  },
  {
   "cell_type": "code",
   "execution_count": 45,
   "metadata": {},
   "outputs": [],
   "source": [
    "from langchain_openai import ChatOpenAI\n",
    "from langgraph.graph import MessagesState\n",
    "\n",
    "# MessagesState특성과 counter의 특성을 둘다 가지고 있는 State\n",
    "class State(MessagesState):\n",
    "    counter: int\n",
    "\n",
    "graph_builder = StateGraph(State)\n",
    "\n",
    "llm = ChatOpenAI(model=\"gpt-4o-mini\")\n",
    "\n",
    "def chatbot(state: State):\n",
    "    state[\"counter\"] = state.get(\"counter\", 0) + 1 #counter값이 없으면0, 아니면 있는값에 +1\n",
    "    return {\n",
    "        \"messages\" : [llm.invoke(state[\"messages\"])],\n",
    "        \"counter\": state[\"counter\"]\n",
    "    }\n",
    "\n",
    "graph_builder.add_node(\"chatbot\", chatbot)\n",
    "graph_builder.set_entry_point(\"chatbot\")\n",
    "graph_builder.set_finish_point(\"chatbot\")\n",
    "graph = graph_builder.compile()"
   ]
  },
  {
   "cell_type": "code",
   "execution_count": 46,
   "metadata": {},
   "outputs": [
    {
     "name": "stdout",
     "output_type": "stream",
     "text": [
      "Final state: {'messages': [HumanMessage(content='Hello!', id='23dca1ac-2bf1-4f05-90b8-ab9dc8c97f31'), AIMessage(content='Hello! How can I assist you today?', additional_kwargs={'refusal': None}, response_metadata={'token_usage': {'completion_tokens': 9, 'prompt_tokens': 9, 'total_tokens': 18, 'completion_tokens_details': {'reasoning_tokens': 0}}, 'model_name': 'gpt-4o-mini-2024-07-18', 'system_fingerprint': 'fp_1bb46167f9', 'finish_reason': 'stop', 'logprobs': None}, id='run-1c807c30-b9f8-4465-b61c-1c3d611c0493-0', usage_metadata={'input_tokens': 9, 'output_tokens': 9, 'total_tokens': 18})], 'counter': 1}\n"
     ]
    }
   ],
   "source": [
    "from langchain_core.messages import HumanMessage\n",
    "# 초기상태 설정\n",
    "initial_state = {\n",
    "    \"messages\": [HumanMessage(content=\"Hello!\")],\n",
    "    \"counter\" : 0\n",
    "}\n",
    "\n",
    "# 그래프 실행\n",
    "result = graph.invoke(initial_state)\n",
    "\n",
    "print(f\"Final state: {result}\")"
   ]
  },
  {
   "cell_type": "code",
   "execution_count": 54,
   "metadata": {},
   "outputs": [
    {
     "name": "stdout",
     "output_type": "stream",
     "text": [
      "counter: 1\n",
      "Last message: Hello! How can I assist you today?\n",
      "---\n",
      "counter: 2\n",
      "Last message: Hello! How can I assist you today?\n",
      "---\n",
      "counter: 3\n",
      "Last message: Hello! How can I assist you today?\n",
      "---\n"
     ]
    }
   ],
   "source": [
    "state = initial_state\n",
    "\n",
    "for _ in range(3):\n",
    "    state = graph.invoke(state)\n",
    "    print(f\"counter: {state['counter']}\")\n",
    "    print(f\"Last message: {state['messages'][-1].content}\")\n",
    "    print(\"---\")"
   ]
  },
  {
   "cell_type": "code",
   "execution_count": null,
   "metadata": {},
   "outputs": [],
   "source": []
  }
 ],
 "metadata": {
  "kernelspec": {
   "display_name": "langchain-kr-gLkynrUQ-py3.11",
   "language": "python",
   "name": "python3"
  },
  "language_info": {
   "codemirror_mode": {
    "name": "ipython",
    "version": 3
   },
   "file_extension": ".py",
   "mimetype": "text/x-python",
   "name": "python",
   "nbconvert_exporter": "python",
   "pygments_lexer": "ipython3",
   "version": "3.11.9"
  }
 },
 "nbformat": 4,
 "nbformat_minor": 2
}
