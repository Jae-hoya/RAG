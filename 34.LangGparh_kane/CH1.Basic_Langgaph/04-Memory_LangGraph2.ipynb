{
 "cells": [
  {
   "cell_type": "code",
   "execution_count": 1,
   "metadata": {},
   "outputs": [
    {
     "data": {
      "text/plain": [
       "True"
      ]
     },
     "execution_count": 1,
     "metadata": {},
     "output_type": "execute_result"
    }
   ],
   "source": [
    "from dotenv import load_dotenv\n",
    "load_dotenv()"
   ]
  },
  {
   "cell_type": "code",
   "execution_count": 2,
   "metadata": {},
   "outputs": [],
   "source": [
    "from typing import TypedDict, Annotated\n",
    "\n",
    "from langgraph.graph import StateGraph, add_messages\n",
    "from langgraph.prebuilt import ToolNode, tools_condition\n",
    "from langgraph.checkpoint.memory import MemorySaver\n",
    "\n",
    "from langchain_openai import ChatOpenAI\n",
    "from langchain_community.tools import TavilySearchResults\n",
    "\n",
    "memory = MemorySaver()\n",
    "\n",
    "tool = TavilySearchResults(max_results=2)\n",
    "tools = [tool]\n",
    "tool_node = ToolNode(tools)\n",
    "\n",
    "llm = ChatOpenAI(model=\"gpt-4o-mini\")\n",
    "llm_with_tools = llm.bind_tools(tools)"
   ]
  },
  {
   "cell_type": "code",
   "execution_count": 3,
   "metadata": {},
   "outputs": [],
   "source": [
    "class State(TypedDict):\n",
    "    messages: Annotated[list, add_messages]\n",
    "\n",
    "def chatbot(state: State):\n",
    "    result = llm_with_tools.invoke(state[\"messages\"])\n",
    "    return {\"messages\": [result]}\n",
    "\n"
   ]
  },
  {
   "cell_type": "code",
   "execution_count": 7,
   "metadata": {},
   "outputs": [],
   "source": [
    "graph_builder = StateGraph(State)\n",
    "\n",
    "graph_builder.add_node(\"chatbot\", chatbot)\n",
    "graph_builder.add_node(\"tools\", tool_node)\n",
    "\n",
    "graph_builder.add_edge(\"tools\", \"chatbot\")\n",
    "graph_builder.add_conditional_edges(\"chatbot\", tools_condition)\n",
    "\n",
    "graph_builder.set_entry_point(\"chatbot\")\n",
    "\n",
    "graph = graph_builder.compile(checkpointer=memory)"
   ]
  },
  {
   "cell_type": "code",
   "execution_count": 8,
   "metadata": {},
   "outputs": [
    {
     "data": {
      "image/jpeg": "[encoded data removed]",
      "text/plain": [
       "<IPython.core.display.Image object>"
      ]
     },
     "metadata": {},
     "output_type": "display_data"
    }
   ],
   "source": [
    "from IPython.display import display, Image\n",
    "\n",
    "try:\n",
    "    display(Image(graph.get_graph().draw_mermaid_png()))\n",
    "except Exception:\n",
    "    pass\n"
   ]
  },
  {
   "cell_type": "code",
   "execution_count": 9,
   "metadata": {},
   "outputs": [
    {
     "data": {
      "text/plain": [
       "{'messages': [HumanMessage(content='내가 한 첫 질문이 뭐였어?', id='b8d91eac-7fd4-4167-a186-da4331d96db4'),\n",
       "  AIMessage(content='첫 질문은 \"내가 한 첫 질문이 뭐였어?\"였습니다.', additional_kwargs={'refusal': None}, response_metadata={'token_usage': {'completion_tokens': 17, 'prompt_tokens': 89, 'total_tokens': 106, 'completion_tokens_details': {'reasoning_tokens': 0}}, 'model_name': 'gpt-4o-mini-2024-07-18', 'system_fingerprint': 'fp_f85bea6784', 'finish_reason': 'stop', 'logprobs': None}, id='run-8f1cbd22-834d-4382-bd3b-54985e99c859-0', usage_metadata={'input_tokens': 89, 'output_tokens': 17, 'total_tokens': 106})]}"
      ]
     },
     "execution_count": 9,
     "metadata": {},
     "output_type": "execute_result"
    }
   ],
   "source": [
    "config = {\"configurable\": {\"thread_id\": \"jaeho\"}}\n",
    "graph.invoke({\"messages\": [{\"role\": \"user\", \"content\": \"내가 한 첫 질문이 뭐였어?\"}]},\n",
    "             config)"
   ]
  },
  {
   "cell_type": "code",
   "execution_count": 10,
   "metadata": {},
   "outputs": [
    {
     "data": {
      "text/plain": [
       "{'messages': [HumanMessage(content='내가 한 첫 질문이 뭐였어?', id='b8d91eac-7fd4-4167-a186-da4331d96db4'),\n",
       "  AIMessage(content='첫 질문은 \"내가 한 첫 질문이 뭐였어?\"였습니다.', additional_kwargs={'refusal': None}, response_metadata={'token_usage': {'completion_tokens': 17, 'prompt_tokens': 89, 'total_tokens': 106, 'completion_tokens_details': {'reasoning_tokens': 0}}, 'model_name': 'gpt-4o-mini-2024-07-18', 'system_fingerprint': 'fp_f85bea6784', 'finish_reason': 'stop', 'logprobs': None}, id='run-8f1cbd22-834d-4382-bd3b-54985e99c859-0', usage_metadata={'input_tokens': 89, 'output_tokens': 17, 'total_tokens': 106}),\n",
       "  HumanMessage(content='내가 한 첫 질문이 뭐였어?', id='55f122e8-adff-4af7-8327-b58c4efa9463'),\n",
       "  AIMessage(content='당신이 한 첫 질문은 \"내가 한 첫 질문이 뭐였어?\"였습니다.', additional_kwargs={'refusal': None}, response_metadata={'token_usage': {'completion_tokens': 21, 'prompt_tokens': 123, 'total_tokens': 144, 'completion_tokens_details': {'reasoning_tokens': 0}}, 'model_name': 'gpt-4o-mini-2024-07-18', 'system_fingerprint': 'fp_f85bea6784', 'finish_reason': 'stop', 'logprobs': None}, id='run-d9f5b40f-c9e3-4518-88b8-96c7cd7f3573-0', usage_metadata={'input_tokens': 123, 'output_tokens': 21, 'total_tokens': 144})]}"
      ]
     },
     "execution_count": 10,
     "metadata": {},
     "output_type": "execute_result"
    }
   ],
   "source": [
    "config = {\"configurable\": {\"thread_id\": \"jaeho\"}}\n",
    "graph.invoke({\"messages\": [{\"role\": \"user\", \"content\": \"내가 한 첫 질문이 뭐였어?\"}]},\n",
    "             config)"
   ]
  },
  {
   "cell_type": "code",
   "execution_count": 11,
   "metadata": {},
   "outputs": [
    {
     "data": {
      "text/plain": [
       "{'messages': [HumanMessage(content='내가 한 첫 질문이 뭐였어?', id='b8d91eac-7fd4-4167-a186-da4331d96db4'),\n",
       "  AIMessage(content='첫 질문은 \"내가 한 첫 질문이 뭐였어?\"였습니다.', additional_kwargs={'refusal': None}, response_metadata={'token_usage': {'completion_tokens': 17, 'prompt_tokens': 89, 'total_tokens': 106, 'completion_tokens_details': {'reasoning_tokens': 0}}, 'model_name': 'gpt-4o-mini-2024-07-18', 'system_fingerprint': 'fp_f85bea6784', 'finish_reason': 'stop', 'logprobs': None}, id='run-8f1cbd22-834d-4382-bd3b-54985e99c859-0', usage_metadata={'input_tokens': 89, 'output_tokens': 17, 'total_tokens': 106}),\n",
       "  HumanMessage(content='내가 한 첫 질문이 뭐였어?', id='55f122e8-adff-4af7-8327-b58c4efa9463'),\n",
       "  AIMessage(content='당신이 한 첫 질문은 \"내가 한 첫 질문이 뭐였어?\"였습니다.', additional_kwargs={'refusal': None}, response_metadata={'token_usage': {'completion_tokens': 21, 'prompt_tokens': 123, 'total_tokens': 144, 'completion_tokens_details': {'reasoning_tokens': 0}}, 'model_name': 'gpt-4o-mini-2024-07-18', 'system_fingerprint': 'fp_f85bea6784', 'finish_reason': 'stop', 'logprobs': None}, id='run-d9f5b40f-c9e3-4518-88b8-96c7cd7f3573-0', usage_metadata={'input_tokens': 123, 'output_tokens': 21, 'total_tokens': 144}),\n",
       "  HumanMessage(content='내 이름은 재호야', id='e068dfc7-3c7d-4d08-b65f-0ad0a5e778fa'),\n",
       "  AIMessage(content='안녕하세요, 재호님! 어떻게 도와드릴까요?', additional_kwargs={'refusal': None}, response_metadata={'token_usage': {'completion_tokens': 15, 'prompt_tokens': 157, 'total_tokens': 172, 'completion_tokens_details': {'reasoning_tokens': 0}}, 'model_name': 'gpt-4o-mini-2024-07-18', 'system_fingerprint': 'fp_f85bea6784', 'finish_reason': 'stop', 'logprobs': None}, id='run-7ad9c80c-f3af-48b3-9263-84d2d0152897-0', usage_metadata={'input_tokens': 157, 'output_tokens': 15, 'total_tokens': 172})]}"
      ]
     },
     "execution_count": 11,
     "metadata": {},
     "output_type": "execute_result"
    }
   ],
   "source": [
    "config = {\"configurable\": {\"thread_id\": \"jaeho\"}}\n",
    "graph.invoke({\"messages\": [{\"role\": \"user\", \"content\": \"내 이름은 재호야\"}]},\n",
    "             config)"
   ]
  },
  {
   "cell_type": "code",
   "execution_count": 12,
   "metadata": {},
   "outputs": [
    {
     "data": {
      "text/plain": [
       "{'messages': [HumanMessage(content='내가 한 첫 질문이 뭐였어?', id='b8d91eac-7fd4-4167-a186-da4331d96db4'),\n",
       "  AIMessage(content='첫 질문은 \"내가 한 첫 질문이 뭐였어?\"였습니다.', additional_kwargs={'refusal': None}, response_metadata={'token_usage': {'completion_tokens': 17, 'prompt_tokens': 89, 'total_tokens': 106, 'completion_tokens_details': {'reasoning_tokens': 0}}, 'model_name': 'gpt-4o-mini-2024-07-18', 'system_fingerprint': 'fp_f85bea6784', 'finish_reason': 'stop', 'logprobs': None}, id='run-8f1cbd22-834d-4382-bd3b-54985e99c859-0', usage_metadata={'input_tokens': 89, 'output_tokens': 17, 'total_tokens': 106}),\n",
       "  HumanMessage(content='내가 한 첫 질문이 뭐였어?', id='55f122e8-adff-4af7-8327-b58c4efa9463'),\n",
       "  AIMessage(content='당신이 한 첫 질문은 \"내가 한 첫 질문이 뭐였어?\"였습니다.', additional_kwargs={'refusal': None}, response_metadata={'token_usage': {'completion_tokens': 21, 'prompt_tokens': 123, 'total_tokens': 144, 'completion_tokens_details': {'reasoning_tokens': 0}}, 'model_name': 'gpt-4o-mini-2024-07-18', 'system_fingerprint': 'fp_f85bea6784', 'finish_reason': 'stop', 'logprobs': None}, id='run-d9f5b40f-c9e3-4518-88b8-96c7cd7f3573-0', usage_metadata={'input_tokens': 123, 'output_tokens': 21, 'total_tokens': 144}),\n",
       "  HumanMessage(content='내 이름은 재호야', id='e068dfc7-3c7d-4d08-b65f-0ad0a5e778fa'),\n",
       "  AIMessage(content='안녕하세요, 재호님! 어떻게 도와드릴까요?', additional_kwargs={'refusal': None}, response_metadata={'token_usage': {'completion_tokens': 15, 'prompt_tokens': 157, 'total_tokens': 172, 'completion_tokens_details': {'reasoning_tokens': 0}}, 'model_name': 'gpt-4o-mini-2024-07-18', 'system_fingerprint': 'fp_f85bea6784', 'finish_reason': 'stop', 'logprobs': None}, id='run-7ad9c80c-f3af-48b3-9263-84d2d0152897-0', usage_metadata={'input_tokens': 157, 'output_tokens': 15, 'total_tokens': 172}),\n",
       "  HumanMessage(content='내 세번째 질문은 뭐였어?', id='e30e7e75-7177-4e8c-befb-cbe785007b2c'),\n",
       "  AIMessage(content='당신의 세 번째 질문은 \"내 이름은 재호야\"였습니다.', additional_kwargs={'refusal': None}, response_metadata={'token_usage': {'completion_tokens': 18, 'prompt_tokens': 188, 'total_tokens': 206, 'completion_tokens_details': {'reasoning_tokens': 0}}, 'model_name': 'gpt-4o-mini-2024-07-18', 'system_fingerprint': 'fp_f85bea6784', 'finish_reason': 'stop', 'logprobs': None}, id='run-a2b458a5-9824-4447-a684-a60d695a29fa-0', usage_metadata={'input_tokens': 188, 'output_tokens': 18, 'total_tokens': 206})]}"
      ]
     },
     "execution_count": 12,
     "metadata": {},
     "output_type": "execute_result"
    }
   ],
   "source": [
    "config = {\"configurable\": {\"thread_id\": \"jaeho\"}}\n",
    "graph.invoke({\"messages\": [{\"role\": \"user\", \"content\": \"내 세번째 질문은 뭐였어?\"}]},\n",
    "             config)"
   ]
  },
  {
   "cell_type": "code",
   "execution_count": 13,
   "metadata": {},
   "outputs": [
    {
     "data": {
      "text/plain": [
       "{'messages': [HumanMessage(content='내가 한 첫 질문이 뭐였어?', id='b8d91eac-7fd4-4167-a186-da4331d96db4'),\n",
       "  AIMessage(content='첫 질문은 \"내가 한 첫 질문이 뭐였어?\"였습니다.', additional_kwargs={'refusal': None}, response_metadata={'token_usage': {'completion_tokens': 17, 'prompt_tokens': 89, 'total_tokens': 106, 'completion_tokens_details': {'reasoning_tokens': 0}}, 'model_name': 'gpt-4o-mini-2024-07-18', 'system_fingerprint': 'fp_f85bea6784', 'finish_reason': 'stop', 'logprobs': None}, id='run-8f1cbd22-834d-4382-bd3b-54985e99c859-0', usage_metadata={'input_tokens': 89, 'output_tokens': 17, 'total_tokens': 106}),\n",
       "  HumanMessage(content='내가 한 첫 질문이 뭐였어?', id='55f122e8-adff-4af7-8327-b58c4efa9463'),\n",
       "  AIMessage(content='당신이 한 첫 질문은 \"내가 한 첫 질문이 뭐였어?\"였습니다.', additional_kwargs={'refusal': None}, response_metadata={'token_usage': {'completion_tokens': 21, 'prompt_tokens': 123, 'total_tokens': 144, 'completion_tokens_details': {'reasoning_tokens': 0}}, 'model_name': 'gpt-4o-mini-2024-07-18', 'system_fingerprint': 'fp_f85bea6784', 'finish_reason': 'stop', 'logprobs': None}, id='run-d9f5b40f-c9e3-4518-88b8-96c7cd7f3573-0', usage_metadata={'input_tokens': 123, 'output_tokens': 21, 'total_tokens': 144}),\n",
       "  HumanMessage(content='내 이름은 재호야', id='e068dfc7-3c7d-4d08-b65f-0ad0a5e778fa'),\n",
       "  AIMessage(content='안녕하세요, 재호님! 어떻게 도와드릴까요?', additional_kwargs={'refusal': None}, response_metadata={'token_usage': {'completion_tokens': 15, 'prompt_tokens': 157, 'total_tokens': 172, 'completion_tokens_details': {'reasoning_tokens': 0}}, 'model_name': 'gpt-4o-mini-2024-07-18', 'system_fingerprint': 'fp_f85bea6784', 'finish_reason': 'stop', 'logprobs': None}, id='run-7ad9c80c-f3af-48b3-9263-84d2d0152897-0', usage_metadata={'input_tokens': 157, 'output_tokens': 15, 'total_tokens': 172}),\n",
       "  HumanMessage(content='내 세번째 질문은 뭐였어?', id='e30e7e75-7177-4e8c-befb-cbe785007b2c'),\n",
       "  AIMessage(content='당신의 세 번째 질문은 \"내 이름은 재호야\"였습니다.', additional_kwargs={'refusal': None}, response_metadata={'token_usage': {'completion_tokens': 18, 'prompt_tokens': 188, 'total_tokens': 206, 'completion_tokens_details': {'reasoning_tokens': 0}}, 'model_name': 'gpt-4o-mini-2024-07-18', 'system_fingerprint': 'fp_f85bea6784', 'finish_reason': 'stop', 'logprobs': None}, id='run-a2b458a5-9824-4447-a684-a60d695a29fa-0', usage_metadata={'input_tokens': 188, 'output_tokens': 18, 'total_tokens': 206}),\n",
       "  HumanMessage(content='내 이름이 뭐라고?', id='f8428b89-e21d-4c29-8002-e1f0ef520921'),\n",
       "  AIMessage(content='당신의 이름은 재호입니다.', additional_kwargs={'refusal': None}, response_metadata={'token_usage': {'completion_tokens': 10, 'prompt_tokens': 219, 'total_tokens': 229, 'completion_tokens_details': {'reasoning_tokens': 0}}, 'model_name': 'gpt-4o-mini-2024-07-18', 'system_fingerprint': 'fp_f85bea6784', 'finish_reason': 'stop', 'logprobs': None}, id='run-f337c450-4ac5-41c4-8b90-328ce3a4e283-0', usage_metadata={'input_tokens': 219, 'output_tokens': 10, 'total_tokens': 229})]}"
      ]
     },
     "execution_count": 13,
     "metadata": {},
     "output_type": "execute_result"
    }
   ],
   "source": [
    "config = {\"configurable\": {\"thread_id\": \"jaeho\"}}\n",
    "graph.invoke({\"messages\": [{\"role\": \"user\", \"content\": \"내 이름이 뭐라고?\"}]},\n",
    "             config)"
   ]
  },
  {
   "cell_type": "code",
   "execution_count": 16,
   "metadata": {},
   "outputs": [
    {
     "name": "stdout",
     "output_type": "stream",
     "text": [
      "User:  현재 대한민국의 대통령은 누구야?\n",
      "Assistant: \n",
      "User:  현재 대한민국의 대통령은 누구야?\n",
      "Assistant: [{\"url\": \"https://namu.wiki/w/\\ub300\\ud55c\\ubbfc\\uad6d \\ub300\\ud1b5\\ub839\", \"content\": \"\\ub300\\ud55c\\ubbfc\\uad6d \\ub300\\ud1b5\\ub839\\uc740 \\ub300\\ud55c\\ubbfc\\uad6d\\uc758 \\ub300\\ud1b5\\ub839 \\uae30\\uad00(\\u6a5f\\u95dc)\\u00b7\\uc9c1\\uc704(\\u8077\\u4f4d) \\ubc0f \\uc774\\ub97c \\uc218\\ud589\\ud558\\ub294 \\uc778\\ubb3c\\uc744 \\uac00\\ub9ac\\ud0a8\\ub2e4. \\ub300\\ud55c\\ubbfc\\uad6d\\uc758 \\ud604\\uc9c1 \\ub300\\ud1b5\\ub839\\uc740 \\uc81c20\\ub300 \\uc724\\uc11d\\uc5f4\\uc774\\uba70, \\uc784\\uae30\\ub294 2022\\ub144 5\\uc6d4 10\\uc77c\\ubd80\\ud130 2027\\ub144 5\\uc6d4 9\\uc77c\\uae4c\\uc9c0\\uc774\\ub2e4. \\ub300\\ud1b5\\ub839\\uc740 \\ub300\\ud55c\\ubbfc\\uad6d \\ud5cc\\ubc95 \\uc81c66\\uc870\\uc5d0\\uc11c \\uc815\\uc758\\ud558\\ub294 \\ud5cc\\ubc95\\uae30\\uad00\\uc73c\\ub85c, \\uad6d\\uac00\\uc6d0\\uc218 [\\uc6d0]\\ub85c\\uc11c \\uc678\\uad6d\\uc5d0 \\ub300\\ud558\\uc5ec \\uad6d\\uac00\\ub97c ...\"}, {\"url\": \"https://namu.wiki/w/\\ub300\\ud55c\\ubbfc\\uad6d \\ub300\\ud1b5\\ub839/\\uba85\\ub2e8\", \"content\": \"2017\\ub144 \\ubc15\\uadfc\\ud61c \\ub300\\ud1b5\\ub839 \\ud0c4\\ud575 \\uc774\\ud6c4 \\uce58\\ub7ec\\uc9c4 \\uc870\\uae30 \\ub300\\uc120\\uc744 \\ub9de\\uc544 \\ub450\\ubc88\\uc9f8\\ub85c \\ub3c4\\uc804, \\ub300\\ud55c\\ubbfc\\uad6d \\ub300\\ud1b5\\ub839 ... \\uc774\\uc2ed \\uc77c \\uc9c0\\uba85\\ub41c \\uad70\\uc0ac\\ud601\\uba85\\ub0b4\\uac01\\uc744 \\uc2b9\\uc778\\ud558\\uc600\\ub294\\uac00\\ub77c\\ub294 \\uc9c8\\ubb38\\uc5d0 \\ub2f5\\ud558\\uc5ec \\uc724 \\ub300\\ud1b5\\ub839\\uc740 \\\"\\ub098\\ub294 \\ud604\\uc7ac \\uadf8 \\ubb38\\uc81c\\uc5d0 \\ub300\\ud558\\uc5ec \\uc5b8\\uae09\\ud558\\uae30\\uc5d0\\ub294 \\uc801\\ub2f9\\ud558\\uc9c0 \\uc54a\\ub294 \\uac83\\uc73c\\ub85c \\uc0dd\\uac01\\ud55c\\ub2e4.\"}]\n",
      "User:  현재 대한민국의 대통령은 누구야?\n",
      "Assistant: 현재 대한민국의 대통령은 윤석열입니다. 그는 2022년 5월 10일부터 대통령직을 수행하고 있습니다. 더 궁금한 점이 있으면 말씀해 주세요!\n",
      "User:  \n",
      "Assistant: 혹시 다른 질문이나 궁금한 점이 있으신가요? 언제든지 말씀해 주세요!\n",
      "Goodbye!\n"
     ]
    }
   ],
   "source": [
    "#웹검색\n",
    "config = {\"configurable\": {\"thread_id\": \"1\"}}\n",
    "while True:\n",
    "    user_input = input(\"User: \")\n",
    "    if user_input.lower() in [\"quit\", \"exit\", \"q\"]:\n",
    "        print(\"Goodbye!\")\n",
    "        break\n",
    "    for event in graph.stream({\"messages\": (\"user\", user_input)}, config):\n",
    "        for value in event.values():\n",
    "            print(\"User: \", user_input)\n",
    "            print(\"Assistant: \", value[\"messages\"][-1].content)"
   ]
  },
  {
   "cell_type": "code",
   "execution_count": 18,
   "metadata": {},
   "outputs": [
    {
     "name": "stdout",
     "output_type": "stream",
     "text": [
      "StateSnapshot(values={'messages': [HumanMessage(content='안녕', id='e053db02-5095-4d82-9f66-6940de58c65f'), AIMessage(content='안녕하세요! 어떻게 도와드릴까요?', additional_kwargs={'refusal': None}, response_metadata={'token_usage': {'completion_tokens': 11, 'prompt_tokens': 81, 'total_tokens': 92, 'completion_tokens_details': {'reasoning_tokens': 0}}, 'model_name': 'gpt-4o-mini-2024-07-18', 'system_fingerprint': 'fp_f85bea6784', 'finish_reason': 'stop', 'logprobs': None}, id='run-babf595e-e6c7-4458-8788-19853babbd50-0', usage_metadata={'input_tokens': 81, 'output_tokens': 11, 'total_tokens': 92}), HumanMessage(content='내이름은 재호야', id='3a92cc2e-6ba8-4f77-8364-589cac33d06a'), AIMessage(content='재호님, 반갑습니다! 무엇을 도와드릴까요?', additional_kwargs={'refusal': None}, response_metadata={'token_usage': {'completion_tokens': 17, 'prompt_tokens': 106, 'total_tokens': 123, 'completion_tokens_details': {'reasoning_tokens': 0}}, 'model_name': 'gpt-4o-mini-2024-07-18', 'system_fingerprint': 'fp_f85bea6784', 'finish_reason': 'stop', 'logprobs': None}, id='run-6f4fca4d-e71b-4c5a-8211-9d63291bca88-0', usage_metadata={'input_tokens': 106, 'output_tokens': 17, 'total_tokens': 123}), HumanMessage(content='내 이름이 뭐라고?', id='c3de0151-cc79-4db2-aca8-bf4a750fee10'), AIMessage(content='재호님이시죠! 맞나요?', additional_kwargs={'refusal': None}, response_metadata={'token_usage': {'completion_tokens': 11, 'prompt_tokens': 136, 'total_tokens': 147, 'completion_tokens_details': {'reasoning_tokens': 0}}, 'model_name': 'gpt-4o-mini-2024-07-18', 'system_fingerprint': 'fp_f85bea6784', 'finish_reason': 'stop', 'logprobs': None}, id='run-21d1dc61-e433-4b27-afa6-ba263d1c2c27-0', usage_metadata={'input_tokens': 136, 'output_tokens': 11, 'total_tokens': 147}), HumanMessage(content='', id='1eedcb39-aaf9-4a89-86cb-3bb47ed4a38c'), AIMessage(content='혹시 다른 질문이나 요청이 있으신가요? 언제든지 말씀해 주세요!', additional_kwargs={'refusal': None}, response_metadata={'token_usage': {'completion_tokens': 20, 'prompt_tokens': 154, 'total_tokens': 174, 'completion_tokens_details': {'reasoning_tokens': 0}}, 'model_name': 'gpt-4o-mini-2024-07-18', 'system_fingerprint': 'fp_f85bea6784', 'finish_reason': 'stop', 'logprobs': None}, id='run-1f7a4c3d-8e14-4605-b47d-24d1e188103d-0', usage_metadata={'input_tokens': 154, 'output_tokens': 20, 'total_tokens': 174}), HumanMessage(content='안녕', id='4d710acf-1a03-4d6b-ae02-5e78998afbe1'), AIMessage(content='안녕하세요! 다시 만나서 반갑습니다. 어떻게 도와드릴까요?', additional_kwargs={'refusal': None}, response_metadata={'token_usage': {'completion_tokens': 18, 'prompt_tokens': 183, 'total_tokens': 201, 'completion_tokens_details': {'reasoning_tokens': 0}}, 'model_name': 'gpt-4o-mini-2024-07-18', 'system_fingerprint': 'fp_f85bea6784', 'finish_reason': 'stop', 'logprobs': None}, id='run-c8f2830c-b013-4109-aaae-67938b0b032e-0', usage_metadata={'input_tokens': 183, 'output_tokens': 18, 'total_tokens': 201}), HumanMessage(content='', id='8e8c666d-b12e-435e-8dbf-b0ca03fe9129'), AIMessage(content='혹시 궁금한 점이나 이야기하고 싶은 것이 있으신가요? 언제든지 말씀해 주세요!', additional_kwargs={'refusal': None}, response_metadata={'token_usage': {'completion_tokens': 24, 'prompt_tokens': 208, 'total_tokens': 232, 'completion_tokens_details': {'reasoning_tokens': 0}}, 'model_name': 'gpt-4o-mini-2024-07-18', 'system_fingerprint': 'fp_f85bea6784', 'finish_reason': 'stop', 'logprobs': None}, id='run-4ebe39a9-6dbb-4ffc-ba8c-03dc89824ca2-0', usage_metadata={'input_tokens': 208, 'output_tokens': 24, 'total_tokens': 232}), HumanMessage(content='내 이름은 재호야', id='7c73c53d-ddb7-475a-aa74-5b2143423fb7'), AIMessage(content='재호님, 다시 만나서 반갑습니다! 무엇을 도와드릴까요?', additional_kwargs={'refusal': None}, response_metadata={'token_usage': {'completion_tokens': 20, 'prompt_tokens': 245, 'total_tokens': 265, 'completion_tokens_details': {'reasoning_tokens': 0}}, 'model_name': 'gpt-4o-mini-2024-07-18', 'system_fingerprint': 'fp_f85bea6784', 'finish_reason': 'stop', 'logprobs': None}, id='run-9573df02-d316-42ed-97bd-e8a5796fa009-0', usage_metadata={'input_tokens': 245, 'output_tokens': 20, 'total_tokens': 265}), HumanMessage(content='내 이름이 뭐라고?', id='0c69e554-fcaa-4fce-9078-5713a485cb9d'), AIMessage(content='재호님이십니다! 맞나요?', additional_kwargs={'refusal': None}, response_metadata={'token_usage': {'completion_tokens': 11, 'prompt_tokens': 278, 'total_tokens': 289, 'completion_tokens_details': {'reasoning_tokens': 0}}, 'model_name': 'gpt-4o-mini-2024-07-18', 'system_fingerprint': 'fp_f85bea6784', 'finish_reason': 'stop', 'logprobs': None}, id='run-1e67a9a2-6894-404f-baec-548d2bdd3f77-0', usage_metadata={'input_tokens': 278, 'output_tokens': 11, 'total_tokens': 289}), HumanMessage(content='응 기억해줘서 고마워', id='b99ca321-5338-420c-9f1e-e81f31716d31'), AIMessage(content='천만에요, 재호님! 언제든지 말씀해 주세요. 도움이 필요하시면 언제든지 도와드릴게요!', additional_kwargs={'refusal': None}, response_metadata={'token_usage': {'completion_tokens': 31, 'prompt_tokens': 304, 'total_tokens': 335, 'completion_tokens_details': {'reasoning_tokens': 0}}, 'model_name': 'gpt-4o-mini-2024-07-18', 'system_fingerprint': 'fp_f85bea6784', 'finish_reason': 'stop', 'logprobs': None}, id='run-4be11eec-c4aa-4443-897d-675de6ee5e5b-0', usage_metadata={'input_tokens': 304, 'output_tokens': 31, 'total_tokens': 335}), HumanMessage(content='', id='ab7276af-df32-4830-b053-ec55a473a457'), AIMessage(content='혹시 다른 질문이나 이야기하고 싶은 게 있으신가요? 편하게 말씀해 주세요!', additional_kwargs={'refusal': None}, response_metadata={'token_usage': {'completion_tokens': 21, 'prompt_tokens': 342, 'total_tokens': 363, 'completion_tokens_details': {'reasoning_tokens': 0}}, 'model_name': 'gpt-4o-mini-2024-07-18', 'system_fingerprint': 'fp_f85bea6784', 'finish_reason': 'stop', 'logprobs': None}, id='run-60511c51-f95e-4511-9d3b-9fa54f1dba62-0', usage_metadata={'input_tokens': 342, 'output_tokens': 21, 'total_tokens': 363}), HumanMessage(content='', id='4844eb90-ef53-4523-ac06-ec97abf76973'), AIMessage(content='대화가 필요하시면 언제든지 말씀해 주세요! 기다리고 있을게요.', additional_kwargs={'refusal': None}, response_metadata={'token_usage': {'completion_tokens': 20, 'prompt_tokens': 370, 'total_tokens': 390, 'completion_tokens_details': {'reasoning_tokens': 0}}, 'model_name': 'gpt-4o-mini-2024-07-18', 'system_fingerprint': 'fp_f85bea6784', 'finish_reason': 'stop', 'logprobs': None}, id='run-06ab83cb-ecde-4ced-b8cb-4df118bc9adb-0', usage_metadata={'input_tokens': 370, 'output_tokens': 20, 'total_tokens': 390}), HumanMessage(content='현재 대한민국의 대통령은 누구야?', id='d57921e0-fe1e-411e-8cb9-e0be91a2fc60'), AIMessage(content='', additional_kwargs={'tool_calls': [{'id': 'call_PFyf16mydaQ6L3yVfINFgmgZ', 'function': {'arguments': '{\"query\":\"현재 대한민국 대통령\"}', 'name': 'tavily_search_results_json'}, 'type': 'function'}], 'refusal': None}, response_metadata={'token_usage': {'completion_tokens': 20, 'prompt_tokens': 405, 'total_tokens': 425, 'completion_tokens_details': {'reasoning_tokens': 0}}, 'model_name': 'gpt-4o-mini-2024-07-18', 'system_fingerprint': 'fp_f85bea6784', 'finish_reason': 'tool_calls', 'logprobs': None}, id='run-3edf69b2-0acf-4026-836a-39cb44fd13c0-0', tool_calls=[{'name': 'tavily_search_results_json', 'args': {'query': '현재 대한민국 대통령'}, 'id': 'call_PFyf16mydaQ6L3yVfINFgmgZ', 'type': 'tool_call'}], usage_metadata={'input_tokens': 405, 'output_tokens': 20, 'total_tokens': 425}), ToolMessage(content='[{\"url\": \"https://namu.wiki/w/\\\\ub300\\\\ud55c\\\\ubbfc\\\\uad6d \\\\ub300\\\\ud1b5\\\\ub839\", \"content\": \"\\\\ub300\\\\ud55c\\\\ubbfc\\\\uad6d \\\\ub300\\\\ud1b5\\\\ub839\\\\uc740 \\\\ub300\\\\ud55c\\\\ubbfc\\\\uad6d\\\\uc758 \\\\ub300\\\\ud1b5\\\\ub839 \\\\uae30\\\\uad00(\\\\u6a5f\\\\u95dc)\\\\u00b7\\\\uc9c1\\\\uc704(\\\\u8077\\\\u4f4d) \\\\ubc0f \\\\uc774\\\\ub97c \\\\uc218\\\\ud589\\\\ud558\\\\ub294 \\\\uc778\\\\ubb3c\\\\uc744 \\\\uac00\\\\ub9ac\\\\ud0a8\\\\ub2e4. \\\\ub300\\\\ud55c\\\\ubbfc\\\\uad6d\\\\uc758 \\\\ud604\\\\uc9c1 \\\\ub300\\\\ud1b5\\\\ub839\\\\uc740 \\\\uc81c20\\\\ub300 \\\\uc724\\\\uc11d\\\\uc5f4\\\\uc774\\\\uba70, \\\\uc784\\\\uae30\\\\ub294 2022\\\\ub144 5\\\\uc6d4 10\\\\uc77c\\\\ubd80\\\\ud130 2027\\\\ub144 5\\\\uc6d4 9\\\\uc77c\\\\uae4c\\\\uc9c0\\\\uc774\\\\ub2e4. \\\\ub300\\\\ud1b5\\\\ub839\\\\uc740 \\\\ub300\\\\ud55c\\\\ubbfc\\\\uad6d \\\\ud5cc\\\\ubc95 \\\\uc81c66\\\\uc870\\\\uc5d0\\\\uc11c \\\\uc815\\\\uc758\\\\ud558\\\\ub294 \\\\ud5cc\\\\ubc95\\\\uae30\\\\uad00\\\\uc73c\\\\ub85c, \\\\uad6d\\\\uac00\\\\uc6d0\\\\uc218 [\\\\uc6d0]\\\\ub85c\\\\uc11c \\\\uc678\\\\uad6d\\\\uc5d0 \\\\ub300\\\\ud558\\\\uc5ec \\\\uad6d\\\\uac00\\\\ub97c ...\"}, {\"url\": \"https://namu.wiki/w/\\\\ub300\\\\ud55c\\\\ubbfc\\\\uad6d \\\\ub300\\\\ud1b5\\\\ub839/\\\\uba85\\\\ub2e8\", \"content\": \"2017\\\\ub144 \\\\ubc15\\\\uadfc\\\\ud61c \\\\ub300\\\\ud1b5\\\\ub839 \\\\ud0c4\\\\ud575 \\\\uc774\\\\ud6c4 \\\\uce58\\\\ub7ec\\\\uc9c4 \\\\uc870\\\\uae30 \\\\ub300\\\\uc120\\\\uc744 \\\\ub9de\\\\uc544 \\\\ub450\\\\ubc88\\\\uc9f8\\\\ub85c \\\\ub3c4\\\\uc804, \\\\ub300\\\\ud55c\\\\ubbfc\\\\uad6d \\\\ub300\\\\ud1b5\\\\ub839 ... \\\\uc774\\\\uc2ed \\\\uc77c \\\\uc9c0\\\\uba85\\\\ub41c \\\\uad70\\\\uc0ac\\\\ud601\\\\uba85\\\\ub0b4\\\\uac01\\\\uc744 \\\\uc2b9\\\\uc778\\\\ud558\\\\uc600\\\\ub294\\\\uac00\\\\ub77c\\\\ub294 \\\\uc9c8\\\\ubb38\\\\uc5d0 \\\\ub2f5\\\\ud558\\\\uc5ec \\\\uc724 \\\\ub300\\\\ud1b5\\\\ub839\\\\uc740 \\\\\"\\\\ub098\\\\ub294 \\\\ud604\\\\uc7ac \\\\uadf8 \\\\ubb38\\\\uc81c\\\\uc5d0 \\\\ub300\\\\ud558\\\\uc5ec \\\\uc5b8\\\\uae09\\\\ud558\\\\uae30\\\\uc5d0\\\\ub294 \\\\uc801\\\\ub2f9\\\\ud558\\\\uc9c0 \\\\uc54a\\\\ub294 \\\\uac83\\\\uc73c\\\\ub85c \\\\uc0dd\\\\uac01\\\\ud55c\\\\ub2e4.\"}]', name='tavily_search_results_json', id='fa77e27e-a205-4c77-be3f-4a93114bd336', tool_call_id='call_PFyf16mydaQ6L3yVfINFgmgZ'), AIMessage(content='현재 대한민국의 대통령은 윤석열입니다. 그는 2022년 5월 10일부터 대통령직을 수행하고 있습니다. 더 궁금한 점이 있으면 말씀해 주세요!', additional_kwargs={'refusal': None}, response_metadata={'token_usage': {'completion_tokens': 41, 'prompt_tokens': 1285, 'total_tokens': 1326, 'completion_tokens_details': {'reasoning_tokens': 0}}, 'model_name': 'gpt-4o-mini-2024-07-18', 'system_fingerprint': 'fp_f85bea6784', 'finish_reason': 'stop', 'logprobs': None}, id='run-d39931f1-b5cc-49c2-8dec-ac91700af5ad-0', usage_metadata={'input_tokens': 1285, 'output_tokens': 41, 'total_tokens': 1326}), HumanMessage(content='', id='25de9fe3-c001-43b6-950b-11ccf3dc99ed'), AIMessage(content='혹시 다른 질문이나 궁금한 점이 있으신가요? 언제든지 말씀해 주세요!', additional_kwargs={'refusal': None}, response_metadata={'token_usage': {'completion_tokens': 23, 'prompt_tokens': 1333, 'total_tokens': 1356, 'completion_tokens_details': {'reasoning_tokens': 0}}, 'model_name': 'gpt-4o-mini-2024-07-18', 'system_fingerprint': 'fp_f85bea6784', 'finish_reason': 'stop', 'logprobs': None}, id='run-5e6f5510-4795-4bf7-a5d3-c250f0bc7532-0', usage_metadata={'input_tokens': 1333, 'output_tokens': 23, 'total_tokens': 1356})]}, next=(), config={'configurable': {'thread_id': '1', 'thread_ts': '1ef7d0c3-2793-6321-8027-3b265b2f327a'}}, metadata={'source': 'loop', 'step': 39, 'writes': {'chatbot': {'messages': [AIMessage(content='혹시 다른 질문이나 궁금한 점이 있으신가요? 언제든지 말씀해 주세요!', additional_kwargs={'refusal': None}, response_metadata={'token_usage': {'completion_tokens': 23, 'prompt_tokens': 1333, 'total_tokens': 1356, 'completion_tokens_details': {'reasoning_tokens': 0}}, 'model_name': 'gpt-4o-mini-2024-07-18', 'system_fingerprint': 'fp_f85bea6784', 'finish_reason': 'stop', 'logprobs': None}, id='run-5e6f5510-4795-4bf7-a5d3-c250f0bc7532-0', usage_metadata={'input_tokens': 1333, 'output_tokens': 23, 'total_tokens': 1356})]}}}, created_at='2024-09-27T20:08:01.165801+00:00', parent_config=None)\n"
     ]
    }
   ],
   "source": [
    "# 대화 기록들\n",
    "snapshot = graph.get_state(config)\n",
    "print(snapshot)"
   ]
  },
  {
   "cell_type": "markdown",
   "metadata": {},
   "source": [
    "# 기억할 메세지 개수 제한하기"
   ]
  },
  {
   "cell_type": "code",
   "execution_count": null,
   "metadata": {},
   "outputs": [],
   "source": [
    "# 메세지를 리스트로 받았을때 2개만 받기. 이 함수를 chatbot에 넣어서 최근 2개만 기억하도록 한다."
   ]
  },
  {
   "cell_type": "code",
   "execution_count": null,
   "metadata": {},
   "outputs": [],
   "source": []
  }
 ],
 "metadata": {
  "kernelspec": {
   "display_name": "langchain-kr-gLkynrUQ-py3.11",
   "language": "python",
   "name": "python3"
  },
  "language_info": {
   "codemirror_mode": {
    "name": "ipython",
    "version": 3
   },
   "file_extension": ".py",
   "mimetype": "text/x-python",
   "name": "python",
   "nbconvert_exporter": "python",
   "pygments_lexer": "ipython3",
   "version": "3.11.9"
  }
 },
 "nbformat": 4,
 "nbformat_minor": 2
}
