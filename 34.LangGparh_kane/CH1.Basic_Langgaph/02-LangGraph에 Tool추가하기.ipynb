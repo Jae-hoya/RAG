{
 "cells": [
  {
   "cell_type": "code",
   "execution_count": 1,
   "metadata": {},
   "outputs": [
    {
     "data": {
      "text/plain": [
       "True"
      ]
     },
     "execution_count": 1,
     "metadata": {},
     "output_type": "execute_result"
    }
   ],
   "source": [
    "from dotenv import load_dotenv\n",
    "load_dotenv()"
   ]
  },
  {
   "cell_type": "code",
   "execution_count": 2,
   "metadata": {},
   "outputs": [],
   "source": [
    "from langchain_core.messages import AIMessage\n",
    "# decorater를 위함\n",
    "from langchain_core.tools import tool \n",
    "\n",
    "# tool을 노드로 만들기 위한 라이브러리\n",
    "from langgraph.prebuilt import ToolNode"
   ]
  },
  {
   "cell_type": "markdown",
   "metadata": {},
   "source": [
    "#### **Langgraph Custom Tool 선언** ####"
   ]
  },
  {
   "cell_type": "code",
   "execution_count": 3,
   "metadata": {},
   "outputs": [],
   "source": [
    "@tool\n",
    "def get_weather(location: str):\n",
    "    \"\"\"Call to get the weather\"\"\"\n",
    "    if location in [\"서울\", \"인천\"]:\n",
    "        return \"It's 60 degrees and foggy.\"\n",
    "    else:\n",
    "        return \"It's 90 degrees and sunny.\""
   ]
  },
  {
   "cell_type": "code",
   "execution_count": 4,
   "metadata": {},
   "outputs": [],
   "source": [
    "@tool\n",
    "def get_coolest_cities():\n",
    "    \"\"\"Get a list of coolest cities\"\"\"\n",
    "    return \"서울, 고성\""
   ]
  },
  {
   "cell_type": "code",
   "execution_count": 5,
   "metadata": {},
   "outputs": [],
   "source": [
    "# tool node로 만들기.\n",
    "tools = [get_weather, get_coolest_cities]\n",
    "tool_node = ToolNode(tools)"
   ]
  },
  {
   "cell_type": "code",
   "execution_count": 6,
   "metadata": {},
   "outputs": [],
   "source": [
    "# AI호출. - 어떤 도구들이 있는지 알기위한 bind_toolds\n",
    "from langchain_openai import ChatOpenAI\n",
    "\n",
    "model_with_tools = ChatOpenAI(\n",
    "    model=\"gpt-4o-mini\", temperature=0\n",
    ").bind_tools(tools)"
   ]
  },
  {
   "cell_type": "code",
   "execution_count": 7,
   "metadata": {},
   "outputs": [
    {
     "data": {
      "text/plain": [
       "[{'name': 'get_weather',\n",
       "  'args': {'location': '서울'},\n",
       "  'id': 'call_9zHGq17JhyYCJYAwv1J3X81r',\n",
       "  'type': 'tool_call'}]"
      ]
     },
     "execution_count": 7,
     "metadata": {},
     "output_type": "execute_result"
    }
   ],
   "source": [
    "# 입력값으로 서울 지역을 줬기 때문에 args가 나온다.\n",
    "model_with_tools.invoke(\"서울 날씨는어때?\").tool_calls"
   ]
  },
  {
   "cell_type": "code",
   "execution_count": 8,
   "metadata": {},
   "outputs": [
    {
     "data": {
      "text/plain": [
       "[]"
      ]
     },
     "execution_count": 8,
     "metadata": {},
     "output_type": "execute_result"
    }
   ],
   "source": [
    "model_with_tools.invoke(\"대한민국의 대통령은 누구야?\").tool_calls"
   ]
  },
  {
   "cell_type": "code",
   "execution_count": 9,
   "metadata": {},
   "outputs": [
    {
     "name": "stdout",
     "output_type": "stream",
     "text": [
      "content='' additional_kwargs={'tool_calls': [{'id': 'call_PErCs3NRlt9P5be68iV9K2OW', 'function': {'arguments': '{\"location\":\"서울\"}', 'name': 'get_weather'}, 'type': 'function'}], 'refusal': None} response_metadata={'token_usage': {'completion_tokens': 14, 'prompt_tokens': 69, 'total_tokens': 83, 'completion_tokens_details': {'reasoning_tokens': 0}}, 'model_name': 'gpt-4o-mini-2024-07-18', 'system_fingerprint': 'fp_1bb46167f9', 'finish_reason': 'tool_calls', 'logprobs': None} id='run-5b40e152-f62a-409a-8990-641dea7680f7-0' tool_calls=[{'name': 'get_weather', 'args': {'location': '서울'}, 'id': 'call_PErCs3NRlt9P5be68iV9K2OW', 'type': 'tool_call'}] usage_metadata={'input_tokens': 69, 'output_tokens': 14, 'total_tokens': 83}\n"
     ]
    }
   ],
   "source": [
    "print(model_with_tools.invoke(\"서울 날씨는어때?\"))"
   ]
  },
  {
   "cell_type": "code",
   "execution_count": 10,
   "metadata": {},
   "outputs": [
    {
     "data": {
      "text/plain": [
       "[{'name': 'get_coolest_cities',\n",
       "  'args': {},\n",
       "  'id': 'call_75TjVN0leaErVb0JebTJGTeG',\n",
       "  'type': 'tool_call'}]"
      ]
     },
     "execution_count": 10,
     "metadata": {},
     "output_type": "execute_result"
    }
   ],
   "source": [
    "# 어떤 함수를 써야하는지는 알지만, 입력값이 없기 때문에 args가없다.\n",
    "model_with_tools.invoke(\"한국에서 가장 추운 도시는?\").tool_calls"
   ]
  },
  {
   "cell_type": "code",
   "execution_count": 11,
   "metadata": {},
   "outputs": [
    {
     "data": {
      "text/plain": [
       "{'messages': [ToolMessage(content=\"It's 60 degrees and foggy.\", name='get_weather', tool_call_id='call_qhtydGnDJx3BUzSaBGqvKu5L')]}"
      ]
     },
     "execution_count": 11,
     "metadata": {},
     "output_type": "execute_result"
    }
   ],
   "source": [
    "tool_node.invoke({\"messages\": [model_with_tools.invoke(\"서울 날씨는 어때?\")]})"
   ]
  },
  {
   "cell_type": "markdown",
   "metadata": {},
   "source": [
    "#### **노드, 엣지를 선언하고 그래프 정의하기** ####"
   ]
  },
  {
   "cell_type": "code",
   "execution_count": 12,
   "metadata": {},
   "outputs": [],
   "source": [
    "from typing import TypedDict, Annotated, Literal\n",
    "from langchain_core.messages import HumanMessage\n",
    "from langchain_core.tools import tool\n",
    "from langgraph.graph import END, START, StateGraph, MessagesState\n",
    "\n",
    "# state로는: 메세지만 받는 MessagesState이며, 출력값은 tools나 END값이어야한다.\n",
    "def should_continue(state: MessagesState) -> Literal[\"tools\", END]:\n",
    "    messages = state['messages']\n",
    "    last_message = messages[-1]\n",
    "    if last_message.tool_calls:\n",
    "        return \"tools\"\n",
    "    return END"
   ]
  },
  {
   "cell_type": "code",
   "execution_count": 13,
   "metadata": {},
   "outputs": [],
   "source": [
    "# 유저의 입력 메세지를 입력해서 응답을 받는다.\n",
    "# 메세지가 들어왔을때 tools가 있다는것을 인지하고 있는 모델에게, invoke함수로 해당 메세지를 입력해서 응답을 받는다.\n",
    "def call_model(state: MessagesState):\n",
    "    messages = state['messages']\n",
    "    response = model_with_tools.invoke(messages) #은 llm을 bind_tools(tools)로 묶은 llm이다.\n",
    "    return {\"messages\": [response]}"
   ]
  },
  {
   "cell_type": "code",
   "execution_count": 14,
   "metadata": {},
   "outputs": [],
   "source": [
    "workflow = StateGraph(MessagesState)\n",
    "\n",
    "workflow.add_node(\"agent\", call_model) # 문장입력\n",
    "workflow.add_node(\"tools\", tool_node) #tools가 들어있는 tool_node\n",
    "\n",
    "workflow.add_edge(START, \"agent\")\n",
    "\n",
    "# 조건부 엣지\n",
    "workflow.add_conditional_edges(\n",
    "    \"agent\",\n",
    "    should_continue\n",
    ")\n",
    "\n",
    "workflow.add_edge(\"tools\", \"agent\") #tools node는 무조건 agent에게 응답을보내게 된다.\n",
    "\n",
    "app = workflow.compile()"
   ]
  },
  {
   "cell_type": "code",
   "execution_count": 15,
   "metadata": {},
   "outputs": [
    {
     "data": {
      "image/jpeg": "[encoded data removed]",
      "text/plain": [
       "<IPython.core.display.Image object>"
      ]
     },
     "metadata": {},
     "output_type": "display_data"
    }
   ],
   "source": [
    "# 점선은 add_conditional_edges\n",
    "from IPython.display import Image, display\n",
    "\n",
    "try:\n",
    "    display(Image(app.get_graph().draw_mermaid_png()))\n",
    "except Exception:\n",
    "    pass"
   ]
  },
  {
   "cell_type": "code",
   "execution_count": 17,
   "metadata": {},
   "outputs": [
    {
     "data": {
      "text/plain": [
       "'서울의 날씨는 60도(약 15도)이며 안개가 낀 상태입니다.'"
      ]
     },
     "execution_count": 17,
     "metadata": {},
     "output_type": "execute_result"
    }
   ],
   "source": [
    "final_state = app.invoke(\n",
    "    {\"messages\": [HumanMessage(content=\"서울의 날씨는 어때?\")]}\n",
    ")\n",
    "final_state[\"messages\"][-1].content"
   ]
  },
  {
   "cell_type": "code",
   "execution_count": 18,
   "metadata": {},
   "outputs": [
    {
     "name": "stdout",
     "output_type": "stream",
     "text": [
      "================================\u001b[1m Human Message \u001b[0m=================================\n",
      "\n",
      "가장 추운 도시의 날씨는 어때?\n",
      "==================================\u001b[1m Ai Message \u001b[0m==================================\n",
      "Tool Calls:\n",
      "  get_coolest_cities (call_duxtyn4XCqaw0KmLXXXY9OJM)\n",
      " Call ID: call_duxtyn4XCqaw0KmLXXXY9OJM\n",
      "  Args:\n",
      "=================================\u001b[1m Tool Message \u001b[0m=================================\n",
      "Name: get_coolest_cities\n",
      "\n",
      "서울, 고성\n",
      "==================================\u001b[1m Ai Message \u001b[0m==================================\n",
      "Tool Calls:\n",
      "  get_weather (call_4Q2kn5fycjtekWX9bIH5lXDr)\n",
      " Call ID: call_4Q2kn5fycjtekWX9bIH5lXDr\n",
      "  Args:\n",
      "    location: 서울\n",
      "  get_weather (call_SrTvPGc6VKKFcaiUgxKUL7uO)\n",
      " Call ID: call_SrTvPGc6VKKFcaiUgxKUL7uO\n",
      "  Args:\n",
      "    location: 고성\n",
      "=================================\u001b[1m Tool Message \u001b[0m=================================\n",
      "Name: get_weather\n",
      "\n",
      "It's 90 degrees and sunny.\n",
      "==================================\u001b[1m Ai Message \u001b[0m==================================\n",
      "\n",
      "가장 추운 도시인 서울의 날씨는 60도(약 15도)로 안개가 끼어 있습니다. 반면, 고성의 날씨는 90도(약 32도)로 맑고 화창합니다.\n"
     ]
    }
   ],
   "source": [
    "# example with a multiple tool calls in succession\n",
    "\n",
    "for chunk in app.stream(\n",
    "    {\"messages\": [(\"human\", \"가장 추운 도시의 날씨는 어때?\")]},\n",
    "    stream_mode=\"values\"\n",
    "):\n",
    "    chunk[\"messages\"][-1].pretty_print()"
   ]
  },
  {
   "cell_type": "code",
   "execution_count": null,
   "metadata": {},
   "outputs": [],
   "source": []
  }
 ],
 "metadata": {
  "kernelspec": {
   "display_name": "langchain-kr-gLkynrUQ-py3.11",
   "language": "python",
   "name": "python3"
  },
  "language_info": {
   "codemirror_mode": {
    "name": "ipython",
    "version": 3
   },
   "file_extension": ".py",
   "mimetype": "text/x-python",
   "name": "python",
   "nbconvert_exporter": "python",
   "pygments_lexer": "ipython3",
   "version": "3.11.9"
  }
 },
 "nbformat": 4,
 "nbformat_minor": 2
}
