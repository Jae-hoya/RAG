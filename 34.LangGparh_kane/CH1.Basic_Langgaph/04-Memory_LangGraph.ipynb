{
 "cells": [
  {
   "cell_type": "code",
   "execution_count": 1,
   "metadata": {},
   "outputs": [
    {
     "data": {
      "text/plain": [
       "True"
      ]
     },
     "execution_count": 1,
     "metadata": {},
     "output_type": "execute_result"
    }
   ],
   "source": [
    "from dotenv import load_dotenv\n",
    "load_dotenv()"
   ]
  },
  {
   "cell_type": "code",
   "execution_count": 2,
   "metadata": {},
   "outputs": [],
   "source": [
    "from typing import TypedDict, Annotated\n",
    "\n",
    "from langgraph.graph import StateGraph, add_messages\n",
    "from langgraph.prebuilt import ToolNode, tools_condition\n",
    "from langgraph.checkpoint.memory import MemorySaver\n",
    "\n",
    "from langchain_openai import ChatOpenAI\n",
    "\n",
    "from langchain_community.tools import TavilySearchResults"
   ]
  },
  {
   "cell_type": "code",
   "execution_count": 3,
   "metadata": {},
   "outputs": [],
   "source": [
    "# 메모리\n",
    "memory = MemorySaver()\n",
    "\n",
    "# tool\n",
    "tool = TavilySearchResults(max_results=2)\n",
    "tools = [tool]\n",
    "tool_node = ToolNode(tools)\n",
    "\n",
    "# llm\n",
    "llm = ChatOpenAI(model=\"gpt-4o-mini\")\n",
    "llm_with_tools = llm.bind_tools(tools)"
   ]
  },
  {
   "cell_type": "code",
   "execution_count": 4,
   "metadata": {},
   "outputs": [],
   "source": [
    "# 클래스 정의\n",
    "class State(TypedDict):\n",
    "    messages: Annotated[list, add_messages]\n",
    "\n",
    "\n",
    "# 챗봇 함수 정의\n",
    "def chatbot(state:State):\n",
    "    result = llm_with_tools.invoke(state[\"messages\"])\n",
    "    return {\"messages\": [result]}\n"
   ]
  },
  {
   "cell_type": "code",
   "execution_count": 5,
   "metadata": {},
   "outputs": [],
   "source": [
    "# 그래프 만들기\n",
    "graph_builder = StateGraph(State)\n",
    "\n",
    "# 노드\n",
    "graph_builder.add_node(\"chatbot\", chatbot)\n",
    "graph_builder.add_node(\"tools\", tool_node)\n",
    "\n",
    "# 엣지\n",
    "#graph_builder.add_edge(\"chatbot\", \"tools\")\n",
    "graph_builder.add_edge(\"tools\", \"chatbot\")\n",
    "\n",
    "graph_builder.add_conditional_edges(\"chatbot\", tools_condition)\n",
    "\n",
    "graph_builder.set_entry_point(\"chatbot\")\n",
    "\n",
    "graph = graph_builder.compile(checkpointer=memory)"
   ]
  },
  {
   "cell_type": "code",
   "execution_count": 6,
   "metadata": {},
   "outputs": [
    {
     "data": {
      "image/jpeg": "[encoded data removed]",
      "text/plain": [
       "<IPython.core.display.Image object>"
      ]
     },
     "metadata": {},
     "output_type": "display_data"
    }
   ],
   "source": [
    "# 그래프 그림 그리기\n",
    "from IPython.display import display, Image\n",
    "try:\n",
    "    display(Image(graph.get_graph().draw_mermaid_png()))\n",
    "except Exception:\n",
    "    pass\n"
   ]
  },
  {
   "cell_type": "code",
   "execution_count": 7,
   "metadata": {},
   "outputs": [
    {
     "data": {
      "text/plain": [
       "{'messages': [HumanMessage(content='안녕 난 재호야. 나는 진원이랑 결혼할거야', id='e35c0e45-f731-4dd1-8c6a-dc06d25d1157'),\n",
       "  AIMessage(content='안녕하세요, 재호님! 결혼 소식 정말 축하드립니다! 진원님과 함께 행복한 미래를 만들어 가시길 바랍니다. 결혼 준비는 잘 진행되고 있나요?', additional_kwargs={'refusal': None}, response_metadata={'token_usage': {'completion_tokens': 42, 'prompt_tokens': 95, 'total_tokens': 137, 'completion_tokens_details': {'reasoning_tokens': 0}}, 'model_name': 'gpt-4o-mini-2024-07-18', 'system_fingerprint': 'fp_f85bea6784', 'finish_reason': 'stop', 'logprobs': None}, id='run-9d1051fa-de79-4b90-a982-780516cf1a0d-0', usage_metadata={'input_tokens': 95, 'output_tokens': 42, 'total_tokens': 137})]}"
      ]
     },
     "execution_count": 7,
     "metadata": {},
     "output_type": "execute_result"
    }
   ],
   "source": [
    "config = {\"configurable\": {\"thread_id\": \"jaeho\"}}\n",
    "graph.invoke({\"messages\": [{\"role\": \"user\", \"content\": \"안녕 난 재호야. 나는 진원이랑 결혼할거야\"}]},\n",
    "             config)"
   ]
  },
  {
   "cell_type": "code",
   "execution_count": 8,
   "metadata": {},
   "outputs": [
    {
     "data": {
      "text/plain": [
       "{'messages': [HumanMessage(content='안녕 난 재호야. 나는 진원이랑 결혼할거야', id='e35c0e45-f731-4dd1-8c6a-dc06d25d1157'),\n",
       "  AIMessage(content='안녕하세요, 재호님! 결혼 소식 정말 축하드립니다! 진원님과 함께 행복한 미래를 만들어 가시길 바랍니다. 결혼 준비는 잘 진행되고 있나요?', additional_kwargs={'refusal': None}, response_metadata={'token_usage': {'completion_tokens': 42, 'prompt_tokens': 95, 'total_tokens': 137, 'completion_tokens_details': {'reasoning_tokens': 0}}, 'model_name': 'gpt-4o-mini-2024-07-18', 'system_fingerprint': 'fp_f85bea6784', 'finish_reason': 'stop', 'logprobs': None}, id='run-9d1051fa-de79-4b90-a982-780516cf1a0d-0', usage_metadata={'input_tokens': 95, 'output_tokens': 42, 'total_tokens': 137}),\n",
       "  HumanMessage(content='내 첫번째 질문이 뭐였어?', id='9c6f7823-9487-4195-872a-ed1f85f8dfbe'),\n",
       "  AIMessage(content='재호님, 첫 번째 질문은 \"안녕 난 재호야. 나는 진원이랑 결혼할거야\"였습니다. 결혼 소식에 대해 말씀해주셨죠! 더 궁금한 점이나 이야기하고 싶은 내용이 있다면 언제든지 말씀해 주세요.', additional_kwargs={'refusal': None}, response_metadata={'token_usage': {'completion_tokens': 61, 'prompt_tokens': 153, 'total_tokens': 214, 'completion_tokens_details': {'reasoning_tokens': 0}}, 'model_name': 'gpt-4o-mini-2024-07-18', 'system_fingerprint': 'fp_f85bea6784', 'finish_reason': 'stop', 'logprobs': None}, id='run-70be3cf4-8c83-4173-98f5-b7ce95f9c23d-0', usage_metadata={'input_tokens': 153, 'output_tokens': 61, 'total_tokens': 214})]}"
      ]
     },
     "execution_count": 8,
     "metadata": {},
     "output_type": "execute_result"
    }
   ],
   "source": [
    "config = {\"configurable\": {\"thread_id\": \"jaeho\"}}\n",
    "graph.invoke({\"messages\": [{\"role\": \"user\", \"content\": \"내 첫번째 질문이 뭐였어?\"}]},\n",
    "             config)"
   ]
  },
  {
   "cell_type": "code",
   "execution_count": 9,
   "metadata": {},
   "outputs": [
    {
     "data": {
      "text/plain": [
       "{'messages': [HumanMessage(content='안녕 난 재호야. 나는 진원이랑 결혼할거야', id='e35c0e45-f731-4dd1-8c6a-dc06d25d1157'),\n",
       "  AIMessage(content='안녕하세요, 재호님! 결혼 소식 정말 축하드립니다! 진원님과 함께 행복한 미래를 만들어 가시길 바랍니다. 결혼 준비는 잘 진행되고 있나요?', additional_kwargs={'refusal': None}, response_metadata={'token_usage': {'completion_tokens': 42, 'prompt_tokens': 95, 'total_tokens': 137, 'completion_tokens_details': {'reasoning_tokens': 0}}, 'model_name': 'gpt-4o-mini-2024-07-18', 'system_fingerprint': 'fp_f85bea6784', 'finish_reason': 'stop', 'logprobs': None}, id='run-9d1051fa-de79-4b90-a982-780516cf1a0d-0', usage_metadata={'input_tokens': 95, 'output_tokens': 42, 'total_tokens': 137}),\n",
       "  HumanMessage(content='내 첫번째 질문이 뭐였어?', id='9c6f7823-9487-4195-872a-ed1f85f8dfbe'),\n",
       "  AIMessage(content='재호님, 첫 번째 질문은 \"안녕 난 재호야. 나는 진원이랑 결혼할거야\"였습니다. 결혼 소식에 대해 말씀해주셨죠! 더 궁금한 점이나 이야기하고 싶은 내용이 있다면 언제든지 말씀해 주세요.', additional_kwargs={'refusal': None}, response_metadata={'token_usage': {'completion_tokens': 61, 'prompt_tokens': 153, 'total_tokens': 214, 'completion_tokens_details': {'reasoning_tokens': 0}}, 'model_name': 'gpt-4o-mini-2024-07-18', 'system_fingerprint': 'fp_f85bea6784', 'finish_reason': 'stop', 'logprobs': None}, id='run-70be3cf4-8c83-4173-98f5-b7ce95f9c23d-0', usage_metadata={'input_tokens': 153, 'output_tokens': 61, 'total_tokens': 214}),\n",
       "  HumanMessage(content='내 두번째 질문이 뭐였어?', id='cf12492f-72e1-4e93-9b92-175f4b7c27eb'),\n",
       "  AIMessage(content='재호님, 두 번째 질문은 \"내 첫번째 질문이 뭐였어?\"였습니다. 이전에 하신 질문에 대한 답변을 요청하신 거였네요. 다른 질문이나 이야기하고 싶은 것이 있다면 언제든지 말씀해 주세요!', additional_kwargs={'refusal': None}, response_metadata={'token_usage': {'completion_tokens': 54, 'prompt_tokens': 230, 'total_tokens': 284, 'completion_tokens_details': {'reasoning_tokens': 0}}, 'model_name': 'gpt-4o-mini-2024-07-18', 'system_fingerprint': 'fp_f85bea6784', 'finish_reason': 'stop', 'logprobs': None}, id='run-e6eebbc6-f164-43fc-9770-c2bc9ca4da00-0', usage_metadata={'input_tokens': 230, 'output_tokens': 54, 'total_tokens': 284})]}"
      ]
     },
     "execution_count": 9,
     "metadata": {},
     "output_type": "execute_result"
    }
   ],
   "source": [
    "config = {\"configurable\": {\"thread_id\": \"jaeho\"}}\n",
    "graph.invoke({\"messages\": [{\"role\": \"user\", \"content\": \"내 두번째 질문이 뭐였어?\"}]},\n",
    "             config)"
   ]
  },
  {
   "cell_type": "code",
   "execution_count": 10,
   "metadata": {},
   "outputs": [
    {
     "data": {
      "text/plain": [
       "{'messages': [HumanMessage(content='안녕 난 재호야. 나는 진원이랑 결혼할거야', id='e35c0e45-f731-4dd1-8c6a-dc06d25d1157'),\n",
       "  AIMessage(content='안녕하세요, 재호님! 결혼 소식 정말 축하드립니다! 진원님과 함께 행복한 미래를 만들어 가시길 바랍니다. 결혼 준비는 잘 진행되고 있나요?', additional_kwargs={'refusal': None}, response_metadata={'token_usage': {'completion_tokens': 42, 'prompt_tokens': 95, 'total_tokens': 137, 'completion_tokens_details': {'reasoning_tokens': 0}}, 'model_name': 'gpt-4o-mini-2024-07-18', 'system_fingerprint': 'fp_f85bea6784', 'finish_reason': 'stop', 'logprobs': None}, id='run-9d1051fa-de79-4b90-a982-780516cf1a0d-0', usage_metadata={'input_tokens': 95, 'output_tokens': 42, 'total_tokens': 137}),\n",
       "  HumanMessage(content='내 첫번째 질문이 뭐였어?', id='9c6f7823-9487-4195-872a-ed1f85f8dfbe'),\n",
       "  AIMessage(content='재호님, 첫 번째 질문은 \"안녕 난 재호야. 나는 진원이랑 결혼할거야\"였습니다. 결혼 소식에 대해 말씀해주셨죠! 더 궁금한 점이나 이야기하고 싶은 내용이 있다면 언제든지 말씀해 주세요.', additional_kwargs={'refusal': None}, response_metadata={'token_usage': {'completion_tokens': 61, 'prompt_tokens': 153, 'total_tokens': 214, 'completion_tokens_details': {'reasoning_tokens': 0}}, 'model_name': 'gpt-4o-mini-2024-07-18', 'system_fingerprint': 'fp_f85bea6784', 'finish_reason': 'stop', 'logprobs': None}, id='run-70be3cf4-8c83-4173-98f5-b7ce95f9c23d-0', usage_metadata={'input_tokens': 153, 'output_tokens': 61, 'total_tokens': 214}),\n",
       "  HumanMessage(content='내 두번째 질문이 뭐였어?', id='cf12492f-72e1-4e93-9b92-175f4b7c27eb'),\n",
       "  AIMessage(content='재호님, 두 번째 질문은 \"내 첫번째 질문이 뭐였어?\"였습니다. 이전에 하신 질문에 대한 답변을 요청하신 거였네요. 다른 질문이나 이야기하고 싶은 것이 있다면 언제든지 말씀해 주세요!', additional_kwargs={'refusal': None}, response_metadata={'token_usage': {'completion_tokens': 54, 'prompt_tokens': 230, 'total_tokens': 284, 'completion_tokens_details': {'reasoning_tokens': 0}}, 'model_name': 'gpt-4o-mini-2024-07-18', 'system_fingerprint': 'fp_f85bea6784', 'finish_reason': 'stop', 'logprobs': None}, id='run-e6eebbc6-f164-43fc-9770-c2bc9ca4da00-0', usage_metadata={'input_tokens': 230, 'output_tokens': 54, 'total_tokens': 284}),\n",
       "  HumanMessage(content='현재 마이크로소프트 주식은 얼마야?', id='1c9976fe-9f4e-4e42-86da-baf01f9e7b2e'),\n",
       "  AIMessage(content='', additional_kwargs={'tool_calls': [{'id': 'call_MbaW1jBpLi6nrH5dZIw1kCDk', 'function': {'arguments': '{\"query\":\"현재 마이크로소프트 주식 가격\"}', 'name': 'tavily_search_results_json'}, 'type': 'function'}], 'refusal': None}, response_metadata={'token_usage': {'completion_tokens': 26, 'prompt_tokens': 303, 'total_tokens': 329, 'completion_tokens_details': {'reasoning_tokens': 0}}, 'model_name': 'gpt-4o-mini-2024-07-18', 'system_fingerprint': 'fp_f85bea6784', 'finish_reason': 'tool_calls', 'logprobs': None}, id='run-c3821b12-0f1e-43e2-a0b1-b8d99e207805-0', tool_calls=[{'name': 'tavily_search_results_json', 'args': {'query': '현재 마이크로소프트 주식 가격'}, 'id': 'call_MbaW1jBpLi6nrH5dZIw1kCDk', 'type': 'tool_call'}], usage_metadata={'input_tokens': 303, 'output_tokens': 26, 'total_tokens': 329}),\n",
       "  ToolMessage(content='[{\"url\": \"https://kr.investing.com/equities/microsoft-corp/1000\", \"content\": \"\\\\ub9c8\\\\uc774\\\\ud06c\\\\ub85c\\\\uc18c\\\\ud504\\\\ud2b8\\\\uc758 \\\\uc8fc\\\\uac00, msft \\\\uc8fc\\\\uc2dd, \\\\ucc28\\\\ud2b8, \\\\uae30\\\\uc220\\\\uc801 \\\\ubd84\\\\uc11d, \\\\uc2e4\\\\uc801 \\\\uc790\\\\ub8cc \\\\ub4f1 \\\\ub9c8\\\\uc774\\\\ud06c\\\\ub85c\\\\uc18c\\\\ud504\\\\ud2b8 \\\\uc2dc\\\\uc138\\\\uc5d0 \\\\ub300\\\\ud55c \\\\uc790\\\\uc138\\\\ud55c \\\\uc815\\\\ubcf4\\\\ub97c \\\\ud655\\\\uc778\\\\ud574 \\\\ubcf4\\\\uc138\\\\uc694. \\\\uc624\\\\ub298\\\\uc758 \\\\uc2dc\\\\uc138\\\\ubfd0\\\\ub9cc \\\\uc544\\\\ub2c8\\\\ub77c \\\\ub274\\\\uc2a4\\\\uc640 \\\\ubd84\\\\uc11d, \\\\uc7ac\\\\uc815 \\\\uc0c1\\\\ud669, \\\\ud3ec\\\\ub7fc \\\\ub4f1\\\\ub3c4 \\\\ud655\\\\uc778\\\\ud574 \\\\ubcf4\\\\uc138\\\\uc694. ... \\\\uc624\\\\ub298 \\\\ud604\\\\uc7ac \\\\ub9c8\\\\uc774\\\\ud06c\\\\ub85c\\\\uc18c\\\\ud504\\\\ud2b8 \\\\uc2dc\\\\uac00\\\\ucd1d\\\\uc561\\\\uc740 3.21t\\\\uc785\\\\ub2c8\\\\ub2e4.\"}, {\"url\": \"https://kr.tradingview.com/symbols/NASDAQ-MSFT/\", \"content\": \"BBG000BPH459. \\\\ub9c8\\\\uc774\\\\ud06c\\\\ub85c\\\\uc18c\\\\ud504\\\\ud2b8 \\\\uc8fc\\\\uc2dd\\\\ud68c\\\\uc0ac\\\\ub294 \\\\uc18c\\\\ud504\\\\ud2b8\\\\uc6e8\\\\uc5b4, \\\\uc11c\\\\ube44\\\\uc2a4, \\\\ub514\\\\ubc14\\\\uc774\\\\uc2a4 \\\\ubc0f \\\\uc194\\\\ub8e8\\\\uc158 \\\\uac1c\\\\ubc1c \\\\ubc0f \\\\uc11c\\\\ud3ec\\\\ud2b8\\\\ub97c \\\\ud558\\\\ub294 \\\\ud68c\\\\uc0ac\\\\uc774\\\\uba70, \\\\ud504\\\\ub85c\\\\ub355\\\\ud2f0\\\\ube44\\\\ud2f0 \\\\ubc0f \\\\ube44\\\\uc9c0\\\\ub2c8\\\\uc2a4 \\\\ud504\\\\ub85c\\\\uc138\\\\uc2a4; \\\\uc778\\\\ud154\\\\ub9ac\\\\uc804\\\\ud2b8 \\\\ud074\\\\ub77c\\\\uc6b0\\\\ub4dc; \\\\ubaa8\\\\uc5b4 \\\\ud37c\\\\uc2a4\\\\ub110 \\\\ucef4\\\\ud4e8\\\\ud305 \\\\uc138\\\\uadf8\\\\uba3c\\\\ud2b8\\\\uac00 \\\\uc788\\\\uc2b5\\\\ub2c8\\\\ub2e4. \\\\ud504\\\\ub85c\\\\ub355\\\\ud2b8 \\\\uc564 \\\\ube44\\\\uc9c0\\\\ub2c8\\\\uc2a4 \\\\ud504\\\\ub85c\\\\uc138\\\\uc2a4 ...\"}]', name='tavily_search_results_json', id='f72fd81f-f6f5-4171-b826-58c173da4063', tool_call_id='call_MbaW1jBpLi6nrH5dZIw1kCDk'),\n",
       "  AIMessage(content='현재 마이크로소프트(Microsoft) 주식 가격에 대한 정보는 다음 링크에서 확인하실 수 있습니다:\\n\\n- [Investing.com - Microsoft 주식](https://kr.investing.com/equities/microsoft-corp/1000)\\n- [TradingView - Microsoft 주식](https://kr.tradingview.com/symbols/NASDAQ-MSFT/)\\n\\n웹사이트에서 실시간 가격과 추가 정보를 확인하실 수 있습니다.', additional_kwargs={'refusal': None}, response_metadata={'token_usage': {'completion_tokens': 94, 'prompt_tokens': 1105, 'total_tokens': 1199, 'completion_tokens_details': {'reasoning_tokens': 0}}, 'model_name': 'gpt-4o-mini-2024-07-18', 'system_fingerprint': 'fp_f85bea6784', 'finish_reason': 'stop', 'logprobs': None}, id='run-adfe8a8b-3819-425c-8399-5f80c680c70b-0', usage_metadata={'input_tokens': 1105, 'output_tokens': 94, 'total_tokens': 1199})]}"
      ]
     },
     "execution_count": 10,
     "metadata": {},
     "output_type": "execute_result"
    }
   ],
   "source": [
    "config = {\"configurable\": {\"thread_id\": \"jaeho\"}}\n",
    "graph.invoke({\"messages\": [{\"role\": \"user\", \"content\": \"현재 마이크로소프트 주식은 얼마야?\"}]},\n",
    "             config)"
   ]
  },
  {
   "cell_type": "code",
   "execution_count": 11,
   "metadata": {},
   "outputs": [
    {
     "name": "stdout",
     "output_type": "stream",
     "text": [
      "User:  \n",
      "Assistant:  Hello! How can I assist you today?\n",
      "User:  \n",
      "Assistant:  It seems like your message didn't come through. How can I help you?\n",
      "User:  안녕\n",
      "Assistant:  안녕하세요! 무엇을 도와드릴까요?\n",
      "Goodbye!\n"
     ]
    }
   ],
   "source": [
    "config = {\"configurable\": {\"thread_id\": \"1\"}}\n",
    "while True:\n",
    "    user_input = input(\"User: \")\n",
    "    if user_input.lower() in [\"quit\", \"exit\", \"q\"]:\n",
    "        print(\"Goodbye!\")\n",
    "        break\n",
    "    for event in graph.stream({\"messages\": (\"user\", user_input)}, config):\n",
    "        for value in event.values():\n",
    "            print(\"User: \", user_input)\n",
    "            print(\"Assistant: \", value[\"messages\"][-1].content) #value값만 들어가있다."
   ]
  },
  {
   "cell_type": "code",
   "execution_count": 12,
   "metadata": {},
   "outputs": [
    {
     "data": {
      "text/plain": [
       "StateSnapshot(values={'messages': [HumanMessage(content='', id='08c2de4d-7bb3-4783-9c5d-1550721d5092'), AIMessage(content='Hello! How can I assist you today?', additional_kwargs={'refusal': None}, response_metadata={'token_usage': {'completion_tokens': 10, 'prompt_tokens': 79, 'total_tokens': 89, 'completion_tokens_details': {'reasoning_tokens': 0}}, 'model_name': 'gpt-4o-mini-2024-07-18', 'system_fingerprint': 'fp_74ba47b4ac', 'finish_reason': 'stop', 'logprobs': None}, id='run-682e3967-ed8d-43a4-bf79-381ac2e330a0-0', usage_metadata={'input_tokens': 79, 'output_tokens': 10, 'total_tokens': 89}), HumanMessage(content='', id='73118a6e-8aed-4e3b-a946-4716a7e0a1af'), AIMessage(content=\"It seems like your message didn't come through. How can I help you?\", additional_kwargs={'refusal': None}, response_metadata={'token_usage': {'completion_tokens': 16, 'prompt_tokens': 96, 'total_tokens': 112, 'completion_tokens_details': {'reasoning_tokens': 0}}, 'model_name': 'gpt-4o-mini-2024-07-18', 'system_fingerprint': 'fp_f85bea6784', 'finish_reason': 'stop', 'logprobs': None}, id='run-c22ac2d2-8f60-4cc5-b628-01741c12bccc-0', usage_metadata={'input_tokens': 96, 'output_tokens': 16, 'total_tokens': 112}), HumanMessage(content='안녕', id='df5e1cb8-960c-400d-ae3c-d59becebffdc'), AIMessage(content='안녕하세요! 무엇을 도와드릴까요?', additional_kwargs={'refusal': None}, response_metadata={'token_usage': {'completion_tokens': 12, 'prompt_tokens': 121, 'total_tokens': 133, 'completion_tokens_details': {'reasoning_tokens': 0}}, 'model_name': 'gpt-4o-mini-2024-07-18', 'system_fingerprint': 'fp_f85bea6784', 'finish_reason': 'stop', 'logprobs': None}, id='run-cf4d165a-9029-4575-842a-3c5f7e78bae1-0', usage_metadata={'input_tokens': 121, 'output_tokens': 12, 'total_tokens': 133})]}, next=(), config={'configurable': {'thread_id': '1', 'thread_ts': '1ef7efaa-54ac-6f95-8007-f30fd97f5802'}}, metadata={'source': 'loop', 'step': 7, 'writes': {'chatbot': {'messages': [AIMessage(content='안녕하세요! 무엇을 도와드릴까요?', additional_kwargs={'refusal': None}, response_metadata={'token_usage': {'completion_tokens': 12, 'prompt_tokens': 121, 'total_tokens': 133, 'completion_tokens_details': {'reasoning_tokens': 0}}, 'model_name': 'gpt-4o-mini-2024-07-18', 'system_fingerprint': 'fp_f85bea6784', 'finish_reason': 'stop', 'logprobs': None}, id='run-cf4d165a-9029-4575-842a-3c5f7e78bae1-0', usage_metadata={'input_tokens': 121, 'output_tokens': 12, 'total_tokens': 133})]}}}, created_at='2024-09-30T07:07:25.184194+00:00', parent_config=None)"
      ]
     },
     "execution_count": 12,
     "metadata": {},
     "output_type": "execute_result"
    }
   ],
   "source": [
    "snapshot = graph.get_state(config)\n",
    "snapshot"
   ]
  },
  {
   "cell_type": "markdown",
   "metadata": {},
   "source": [
    "# 기억할 메세지 개수 제한하기"
   ]
  },
  {
   "cell_type": "code",
   "execution_count": 13,
   "metadata": {},
   "outputs": [],
   "source": [
    "# 메세지를 리스트로 받았을때 2개만 받기. 이 함수를 chatbot에 넣어서 최근 2개만 기억하도록 한다.\n",
    "def filter_messages(messages: list):\n",
    "    return messages[-2:]\n",
    "\n",
    "def chatbot(state: State):\n",
    "    messages = filter_messages(state['messages'])\n",
    "    result = llm_with_tools.invoke(messages)\n",
    "    return {\"messages\": [result]}\n",
    "\n",
    "graph_builder = StateGraph(State)\n",
    "\n",
    "graph_builder.add_node(\"chatbot\", chatbot)\n",
    "graph_builder.add_node(\"tools\", tool_node)\n",
    "\n",
    "graph_builder.add_edge(\"tools\", \"chatbot\")\n",
    "graph_builder.add_conditional_edges(\"chatbot\", tools_condition)\n",
    "\n",
    "graph_builder.set_entry_point(\"chatbot\")\n",
    "\n",
    "graph = graph_builder.compile(checkpointer=memory)"
   ]
  },
  {
   "cell_type": "code",
   "execution_count": 14,
   "metadata": {},
   "outputs": [
    {
     "name": "stdout",
     "output_type": "stream",
     "text": [
      "Goodbye!\n"
     ]
    }
   ],
   "source": [
    "config = {\"configurable\": {\"thread_id\": \"20\"}}\n",
    "while True:\n",
    "    user_input = input(\"User: \")\n",
    "    if user_input.lower() in [\"quit\", \"exit\", \"q\"]:\n",
    "        print(\"Goodbye!\")\n",
    "        break\n",
    "    for event in graph.stream({\"messages\": (\"user\", user_input)}, config):\n",
    "        for value in event.values():\n",
    "            print(\"User: \", user_input)\n",
    "            print(\"Assistant: \", value[\"messages\"][-1].content) #value값만 들어가있다."
   ]
  },
  {
   "cell_type": "code",
   "execution_count": 15,
   "metadata": {},
   "outputs": [
    {
     "name": "stdout",
     "output_type": "stream",
     "text": [
      "Goodbye!\n"
     ]
    }
   ],
   "source": [
    "config = {\"configurable\": {\"thread_id\": \"10\"}}\n",
    "while True:\n",
    "    user_input = input(\"User: \")\n",
    "    if user_input.lower() in [\"quit\", \"exit\", \"q\"]:\n",
    "        print(\"Goodbye!\")\n",
    "        break\n",
    "    for event in graph.stream({\"messages\": (\"user\", user_input)}, config):\n",
    "        for value in event.values():\n",
    "            print(\"User: \", user_input)\n",
    "            print(\"Assistant: \", value[\"messages\"][-1].content) #value값만 들어가있다."
   ]
  },
  {
   "cell_type": "code",
   "execution_count": 16,
   "metadata": {},
   "outputs": [
    {
     "name": "stdout",
     "output_type": "stream",
     "text": [
      "GoodBye\n"
     ]
    }
   ],
   "source": [
    "config = {\"configurable\": {\"thread_id\": \"15\"}}\n",
    "\n",
    "while True:\n",
    "    user_input = input(\"User: \")\n",
    "    if user_input.lower() in [\"exit\", \"quit\", \"q\"]:\n",
    "        print(\"GoodBye\")\n",
    "        break\n",
    "    for envent in graph.stream({\"messages\": (\"user\", user_input)}, config):\n",
    "        for value in event.values():\n",
    "            print(\"User_input: \", user_input)\n",
    "            print(\"Assistant: \", value[\"messages\"][-1].content)\n"
   ]
  },
  {
   "cell_type": "code",
   "execution_count": 17,
   "metadata": {},
   "outputs": [
    {
     "name": "stdout",
     "output_type": "stream",
     "text": [
      "GoodBye\n"
     ]
    }
   ],
   "source": [
    "config = {\"configurable\": {\"thread_id\": \"15\"}}\n",
    "\n",
    "while True:\n",
    "    user_input = input(\"User: \")\n",
    "    if user_input.lower() in [\"exit\", \"quit\", \"q\"]:\n",
    "        print(\"GoodBye\")\n",
    "        break\n",
    "    for envent in graph.stream({\"messages\": (\"user\", user_input)}, config):\n",
    "        for value in event.keys():\n",
    "            print(\"User_input: \", user_input)\n",
    "            print(\"Assistant: \", value)\n"
   ]
  },
  {
   "cell_type": "code",
   "execution_count": null,
   "metadata": {},
   "outputs": [],
   "source": []
  }
 ],
 "metadata": {
  "kernelspec": {
   "display_name": "langchain-kr-gLkynrUQ-py3.11",
   "language": "python",
   "name": "python3"
  },
  "language_info": {
   "codemirror_mode": {
    "name": "ipython",
    "version": 3
   },
   "file_extension": ".py",
   "mimetype": "text/x-python",
   "name": "python",
   "nbconvert_exporter": "python",
   "pygments_lexer": "ipython3",
   "version": "3.11.9"
  }
 },
 "nbformat": 4,
 "nbformat_minor": 2
}
