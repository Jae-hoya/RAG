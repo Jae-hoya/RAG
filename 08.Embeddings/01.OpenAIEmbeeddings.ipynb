{
 "cells": [
  {
   "cell_type": "code",
   "execution_count": 1,
   "metadata": {},
   "outputs": [],
   "source": [
    "from dotenv import load_dotenv"
   ]
  },
  {
   "cell_type": "code",
   "execution_count": 2,
   "metadata": {},
   "outputs": [
    {
     "data": {
      "text/plain": [
       "True"
      ]
     },
     "execution_count": 2,
     "metadata": {},
     "output_type": "execute_result"
    }
   ],
   "source": [
    "load_dotenv()"
   ]
  },
  {
   "cell_type": "code",
   "execution_count": 3,
   "metadata": {},
   "outputs": [],
   "source": [
    "from langchain_openai import OpenAIEmbeddings"
   ]
  },
  {
   "cell_type": "code",
   "execution_count": 4,
   "metadata": {},
   "outputs": [],
   "source": [
    "embeddings = OpenAIEmbeddings(model='text-embedding-3-small')"
   ]
  },
  {
   "cell_type": "code",
   "execution_count": 5,
   "metadata": {},
   "outputs": [],
   "source": [
    "text = \"임베딩 텍스트를 하기 위한 샘플 문장입니다.\""
   ]
  },
  {
   "cell_type": "markdown",
   "metadata": {},
   "source": [
    "#### quary embedding\n",
    "`embeddings.embed_query`를 통해 주어진 텍스트를 임베딩으로 반환하는 함수.\n"
   ]
  },
  {
   "cell_type": "code",
   "execution_count": 8,
   "metadata": {},
   "outputs": [
    {
     "data": {
      "text/plain": [
       "[-0.004174860659986734,\n",
       " 0.03822271525859833,\n",
       " 0.016065804287791252,\n",
       " 0.004478904884308577,\n",
       " 0.017179781571030617]"
      ]
     },
     "execution_count": 8,
     "metadata": {},
     "output_type": "execute_result"
    }
   ],
   "source": [
    "query_result = embeddings.embed_query(text)\n",
    "query_result[:5]"
   ]
  },
  {
   "cell_type": "code",
   "execution_count": 10,
   "metadata": {},
   "outputs": [
    {
     "data": {
      "text/plain": [
       "1536"
      ]
     },
     "execution_count": 10,
     "metadata": {},
     "output_type": "execute_result"
    }
   ],
   "source": [
    "# 차원\n",
    "len(query_result)"
   ]
  },
  {
   "cell_type": "markdown",
   "metadata": {},
   "source": [
    "#### docucment ebedding\n",
    "`embeddings.embed_documents()`\n",
    "- [text]를 인자로 받아 달일문서를 리스트 형태로 전달."
   ]
  },
  {
   "cell_type": "code",
   "execution_count": 13,
   "metadata": {},
   "outputs": [],
   "source": [
    "doc_result = embeddings.embed_documents([text, text, text, text])"
   ]
  },
  {
   "cell_type": "code",
   "execution_count": 14,
   "metadata": {},
   "outputs": [
    {
     "data": {
      "text/plain": [
       "4"
      ]
     },
     "execution_count": 14,
     "metadata": {},
     "output_type": "execute_result"
    }
   ],
   "source": [
    "len(doc_result)"
   ]
  },
  {
   "cell_type": "code",
   "execution_count": 15,
   "metadata": {},
   "outputs": [
    {
     "data": {
      "text/plain": [
       "1536"
      ]
     },
     "execution_count": 15,
     "metadata": {},
     "output_type": "execute_result"
    }
   ],
   "source": [
    "len(doc_result[0])"
   ]
  },
  {
   "cell_type": "markdown",
   "metadata": {},
   "source": [
    "### 차원지정\n",
    "\n",
    "`dimension` 을 전달함으로써 임베딩의 크기를 줄일 수 있다."
   ]
  },
  {
   "cell_type": "code",
   "execution_count": 20,
   "metadata": {},
   "outputs": [],
   "source": [
    "embeddings_1024 = OpenAIEmbeddings(model=\"text-embedding-3-small\", dimensions=1024)"
   ]
  },
  {
   "cell_type": "code",
   "execution_count": 21,
   "metadata": {},
   "outputs": [
    {
     "data": {
      "text/plain": [
       "1024"
      ]
     },
     "execution_count": 21,
     "metadata": {},
     "output_type": "execute_result"
    }
   ],
   "source": [
    "len(embeddings_1024.embed_documents([text])[0])"
   ]
  },
  {
   "cell_type": "code",
   "execution_count": 22,
   "metadata": {},
   "outputs": [],
   "source": [
    "#### 유사도계산"
   ]
  },
  {
   "cell_type": "code",
   "execution_count": 24,
   "metadata": {},
   "outputs": [],
   "source": [
    "sentence1 = \"사랑해 듄방\"\n",
    "sentence2 = \"사랑해 뎨방\"\n",
    "sentence3 = \"사랑해줘서 고마워\"\n",
    "sentence4 = \"I love you DyunBang\"\n",
    "sentence5 = \"I love you DyeBang\"\n",
    "sentence6 = \"I like to eat meat\""
   ]
  },
  {
   "cell_type": "code",
   "execution_count": 50,
   "metadata": {},
   "outputs": [],
   "source": [
    "from sklearn.metrics.pairwise import cosine_similarity\n",
    "\n",
    "sentences = [sentence1, sentence2, sentence3 ,sentence4, sentence5, sentence6]\n",
    "embed_sentences = embeddings_1024.embed_documents(sentences)"
   ]
  },
  {
   "cell_type": "code",
   "execution_count": 51,
   "metadata": {},
   "outputs": [],
   "source": [
    "def similarity(a, b):\n",
    "    return cosine_similarity([a], [b])[0][0]"
   ]
  },
  {
   "cell_type": "code",
   "execution_count": 52,
   "metadata": {},
   "outputs": [
    {
     "name": "stdout",
     "output_type": "stream",
     "text": [
      "[유사도 0.7208] 사랑해 듄방 \t <=====> \t 사랑해 뎨방\n",
      "[유사도 0.6454] 사랑해 듄방 \t <=====> \t 사랑해줘서 고마워\n",
      "[유사도 0.3805] 사랑해 듄방 \t <=====> \t I love you DyunBang\n",
      "[유사도 0.3732] 사랑해 듄방 \t <=====> \t I love you DyeBang\n",
      "[유사도 0.1238] 사랑해 듄방 \t <=====> \t I like to eat meat\n",
      "[유사도 0.6626] 사랑해 뎨방 \t <=====> \t 사랑해줘서 고마워\n",
      "[유사도 0.3544] 사랑해 뎨방 \t <=====> \t I love you DyunBang\n",
      "[유사도 0.3316] 사랑해 뎨방 \t <=====> \t I love you DyeBang\n",
      "[유사도 0.0930] 사랑해 뎨방 \t <=====> \t I like to eat meat\n",
      "[유사도 0.3254] 사랑해줘서 고마워 \t <=====> \t I love you DyunBang\n",
      "[유사도 0.3025] 사랑해줘서 고마워 \t <=====> \t I love you DyeBang\n",
      "[유사도 0.1431] 사랑해줘서 고마워 \t <=====> \t I like to eat meat\n",
      "[유사도 0.8236] I love you DyunBang \t <=====> \t I love you DyeBang\n",
      "[유사도 0.1827] I love you DyunBang \t <=====> \t I like to eat meat\n",
      "[유사도 0.2018] I love you DyeBang \t <=====> \t I like to eat meat\n"
     ]
    }
   ],
   "source": [
    "for i, sentence in enumerate(embed_sentences):\n",
    "    for j, other_sentence in enumerate(embed_sentences):\n",
    "        if i < j:\n",
    "            print(\n",
    "                f\"[유사도 {similarity(sentence, other_sentence):.4f}] {sentences[i]} \\t <=====> \\t {sentences[j]}\"\n",
    "            )"
   ]
  },
  {
   "cell_type": "code",
   "execution_count": null,
   "metadata": {},
   "outputs": [],
   "source": []
  },
  {
   "cell_type": "code",
   "execution_count": null,
   "metadata": {},
   "outputs": [],
   "source": []
  }
 ],
 "metadata": {
  "kernelspec": {
   "display_name": "langchain-kr-mcYdBRZz-py3.11",
   "language": "python",
   "name": "python3"
  },
  "language_info": {
   "codemirror_mode": {
    "name": "ipython",
    "version": 3
   },
   "file_extension": ".py",
   "mimetype": "text/x-python",
   "name": "python",
   "nbconvert_exporter": "python",
   "pygments_lexer": "ipython3",
   "version": "3.11.9"
  }
 },
 "nbformat": 4,
 "nbformat_minor": 2
}
