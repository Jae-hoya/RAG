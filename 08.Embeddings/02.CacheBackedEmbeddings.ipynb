{
 "cells": [
  {
   "cell_type": "markdown",
   "metadata": {},
   "source": [
    "### CacheBackedEmbeddings\n",
    "\n",
    "대용량의 문서를 임베딩할떄는 금액이 많이 나온다. 재계산을 피하기위해 저장되거나, 일시적으로 캐시할 수 있다.\n",
    "\n",
    "`CacheBackedEmbeddings`\n",
    "\n",
    "1. 임베딩을하고, 파일로 저장한다..\n",
    "2. 임베딩을 할때, 파일안에 캐싱되어있는 임베딩이 있는지 물어본다. 이게 있으면 바로 사용한다.\n"
   ]
  },
  {
   "cell_type": "markdown",
   "metadata": {},
   "source": [
    "##### `LocalFileStore`에서 임베딩 사용 - 영구적 사용방법"
   ]
  },
  {
   "cell_type": "code",
   "execution_count": 1,
   "metadata": {},
   "outputs": [],
   "source": [
    "from langchain.storage import LocalFileStore\n",
    "from langchain_openai import OpenAIEmbeddings\n",
    "from langchain.embeddings import CacheBackedEmbeddings\n",
    "\n",
    "embedding = OpenAIEmbeddings(model='text-embedding-3-small')\n",
    "\n",
    "# local file store 설정\n",
    "store = LocalFileStore(\"./cache/\")\n",
    "\n",
    "# 캐시를 지원하는 임베딩 생성\n",
    "cached_embedder = CacheBackedEmbeddings.from_bytes_store(\n",
    "    underlying_embeddings=embedding, #모델\n",
    "    document_embedding_cache=store, # 어디 파일에 저장할지 정함.\n",
    "    namespace=embedding.model # 지정을 안해도 되지만, 구분자를 주기위해 사용. /기본 임베딩과 저장소를 사용하여 캐시 지원 임베딩 생성.\n",
    ")\n",
    "\n",
    "# cached_embedder = CacheBackedEmbeddings.from_bytes_store(\n",
    "#     embedding, store\n",
    "# )\n",
    "# 코드로 해도 되더라!"
   ]
  },
  {
   "cell_type": "code",
   "execution_count": 2,
   "metadata": {},
   "outputs": [
    {
     "data": {
      "text/plain": [
       "['text-embedding-3-small0f7bb237-10d9-5cca-ad15-328f0486ce30',\n",
       " 'text-embedding-3-small1c33a092-eab7-5600-8613-b3a31c281857',\n",
       " 'text-embedding-3-small41e7391b-b68f-5e9f-bb07-3609bb83c3e2',\n",
       " 'text-embedding-3-small4f3fc01f-5e6d-537d-8c9a-284e532c7487',\n",
       " 'text-embedding-3-small742b1aa5-fbc1-5ec2-a680-99cc5a4460e3',\n",
       " 'text-embedding-3-smallc3acda7d-1a91-5422-ac24-2f0fb86de905',\n",
       " 'text-embedding-3-smallf267cc06-16cc-540c-92bf-2c9e53c93388']"
      ]
     },
     "execution_count": 2,
     "metadata": {},
     "output_type": "execute_result"
    }
   ],
   "source": [
    "list(store.yield_keys())"
   ]
  },
  {
   "cell_type": "code",
   "execution_count": 3,
   "metadata": {},
   "outputs": [],
   "source": [
    "from langchain.document_loaders import TextLoader\n",
    "from langchain_text_splitters import CharacterTextSplitter\n",
    "from langchain.vectorstores import FAISS\n",
    "\n",
    "raw_documents = TextLoader(\"./data/appendix-keywords.txt\", encoding='utf-8').load()\n",
    "\n",
    "text_splitter = CharacterTextSplitter(chunk_size=1000, chunk_overlap=50)\n",
    "\n",
    "documents = text_splitter.split_documents(raw_documents)"
   ]
  },
  {
   "cell_type": "code",
   "execution_count": 4,
   "metadata": {},
   "outputs": [
    {
     "name": "stdout",
     "output_type": "stream",
     "text": [
      "CPU times: total: 500 ms\n",
      "Wall time: 1.8 s\n"
     ]
    }
   ],
   "source": [
    "%time db = FAISS.from_documents(documents, embedding)"
   ]
  },
  {
   "cell_type": "code",
   "execution_count": 5,
   "metadata": {},
   "outputs": [
    {
     "name": "stdout",
     "output_type": "stream",
     "text": [
      "CPU times: total: 15.6 ms\n",
      "Wall time: 12 ms\n"
     ]
    }
   ],
   "source": [
    "# 캐싱된 임베딩을 사용하여 FAISS 데이터베이스 생성.\n",
    "%time db2 = FAISS.from_documents(documents, cached_embedder)"
   ]
  },
  {
   "cell_type": "markdown",
   "metadata": {},
   "source": [
    "##### `InmemoryByteStore` 사용 - 비영구적 사용방법\n",
    "\n",
    "사용자가 떠나면 모두 날라간다."
   ]
  },
  {
   "cell_type": "code",
   "execution_count": 6,
   "metadata": {},
   "outputs": [],
   "source": [
    "from langchain.embeddings import CacheBackedEmbeddings\n",
    "from langchain.storage import InMemoryByteStore\n",
    "store = InMemoryByteStore()\n",
    "\n",
    "cached_embedder = CacheBackedEmbeddings.from_bytes_store(\n",
    "    embedding, store, namespace=embedding.model\n",
    ")"
   ]
  },
  {
   "cell_type": "code",
   "execution_count": null,
   "metadata": {},
   "outputs": [],
   "source": []
  }
 ],
 "metadata": {
  "kernelspec": {
   "display_name": "langchain-kr-mcYdBRZz-py3.11",
   "language": "python",
   "name": "python3"
  },
  "language_info": {
   "codemirror_mode": {
    "name": "ipython",
    "version": 3
   },
   "file_extension": ".py",
   "mimetype": "text/x-python",
   "name": "python",
   "nbconvert_exporter": "python",
   "pygments_lexer": "ipython3",
   "version": "3.11.9"
  }
 },
 "nbformat": 4,
 "nbformat_minor": 2
}
